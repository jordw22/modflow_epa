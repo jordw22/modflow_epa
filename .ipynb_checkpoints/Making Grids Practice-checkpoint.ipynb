{
 "cells": [
  {
   "cell_type": "code",
   "execution_count": 5,
   "metadata": {
    "collapsed": true
   },
   "outputs": [],
   "source": [
    "%matplotlib inline\n",
    "import os\n",
    "import sys\n",
    "import numpy as np\n",
    "import matplotlib as mpl\n",
    "import matplotlib.pyplot as plt\n",
    "import flopy"
   ]
  },
  {
   "cell_type": "code",
   "execution_count": null,
   "metadata": {
    "collapsed": false
   },
   "outputs": [],
   "source": [
    "import matplotlib.pyplot as plt\n",
    "plt.plot([1,2,3,4])\n",
    "plt.ylabel('some numbers')\n",
    "plt.show()"
   ]
  },
  {
   "cell_type": "code",
   "execution_count": null,
   "metadata": {
    "collapsed": false
   },
   "outputs": [],
   "source": [
    "plt.plot([1, 2, 3, 4], [1, 4, 9, 16])"
   ]
  },
  {
   "cell_type": "code",
   "execution_count": null,
   "metadata": {
    "collapsed": false
   },
   "outputs": [],
   "source": [
    "import matplotlib.pyplot as plt\n",
    "plt.plot([1,2,3,4], [1,4,9,16], 'ro')\n",
    "plt.axis([0, 6, 0, 20])\n",
    "plt.show()"
   ]
  },
  {
   "cell_type": "code",
   "execution_count": null,
   "metadata": {
    "collapsed": false
   },
   "outputs": [],
   "source": [
    "import matplotlib.pyplot as plt\n",
    "plt.plot([1,2,3,4], [1,4,9,16], 'ro')\n",
    "plt.axis([0, 6, 0, 20])\n",
    "plt.show()"
   ]
  },
  {
   "cell_type": "code",
   "execution_count": 6,
   "metadata": {
    "collapsed": false
   },
   "outputs": [
    {
     "name": "stdout",
     "output_type": "stream",
     "text": [
      "[  1.   2.   3.   4.   5.   6.   7.   8.   9.  10.  11.  12.  13.  14.  15.\n",
      "  16.  17.  18.  19.]\n"
     ]
    }
   ],
   "source": [
    "# i is the row number\n",
    "i = np.linspace(1, 19, 19)\n",
    "print(i)"
   ]
  },
  {
   "cell_type": "code",
   "execution_count": 7,
   "metadata": {
    "collapsed": false
   },
   "outputs": [
    {
     "name": "stdout",
     "output_type": "stream",
     "text": [
      "[ 1  2  3  4  5  6  7  8  9 10 11 12 13 14 15 16 17 18 19]\n"
     ]
    }
   ],
   "source": [
    "j = np.arange(1, 20)\n",
    "print(j)"
   ]
  },
  {
   "cell_type": "markdown",
   "metadata": {},
   "source": [
    "Creating a simple graph with lines"
   ]
  },
  {
   "cell_type": "code",
   "execution_count": 8,
   "metadata": {
    "collapsed": false,
    "scrolled": true
   },
   "outputs": [
    {
     "data": {
      "text/plain": [
       "(0.0, 10.0)"
      ]
     },
     "execution_count": 8,
     "metadata": {},
     "output_type": "execute_result"
    },
    {
     "data": {
      "image/png": "[encoded data removed]",
      "text/plain": [
       "<matplotlib.figure.Figure at 0x17785db7208>"
      ]
     },
     "metadata": {},
     "output_type": "display_data"
    }
   ],
   "source": [
    "fig = plt.figure(figsize=(10, 10))\n",
    "ax = fig.add_subplot(1, 2, 1, aspect='equal')\n",
    "xmin = 0.\n",
    "xmax = 10.\n",
    "dx = 1.\n",
    "ymin = 0.\n",
    "ymax = 10.\n",
    "dy = 1.\n",
    "sym = 'g.-.'\n",
    "\n",
    "\n",
    "for y in np.arange(ymin, ymax + dy, dy):\n",
    "    plt.plot([xmin, xmax], [y, y], sym)\n",
    "plt.xlim(xmin, xmax)\n",
    "for x in np.arange(xmin, xmax + dx, dx):\n",
    "    plt.plot([x, x], [ymin, ymax], sym)\n",
    "plt.ylim(ymin, ymax)\n",
    "\n"
   ]
  },
  {
   "cell_type": "markdown",
   "metadata": {},
   "source": [
    "Creating a graph with a point in the middle"
   ]
  },
  {
   "cell_type": "code",
   "execution_count": 9,
   "metadata": {
    "collapsed": false
   },
   "outputs": [],
   "source": [
    "def draw_my_grid(xmin, xmax, dx, ymin, ymax, dy, sym='b-'):\n",
    "    for y in np.arange(ymin, ymax + dy, dy):\n",
    "        plt.plot([xmin, xmax], [y, y], sym)\n",
    "    plt.xlim(xmin, xmax)\n",
    "    for x in np.arange(xmin, xmax + dx, dx):\n",
    "        plt.plot([x, x], [ymin, ymax], sym)\n",
    "    plt.ylim(ymin, ymax)\n",
    "    return\n",
    "def plot_point(ptx, pty, sym):\n",
    "    plt.plot(ptx, pty, sym)"
   ]
  },
  {
   "cell_type": "code",
   "execution_count": 10,
   "metadata": {
    "collapsed": false
   },
   "outputs": [
    {
     "data": {
      "image/png": "[encoded data removed]",
      "text/plain": [
       "<matplotlib.figure.Figure at 0x177860c1390>"
      ]
     },
     "metadata": {},
     "output_type": "display_data"
    }
   ],
   "source": [
    "fig = plt.figure(figsize=(10, 10))\n",
    "ax = fig.add_subplot(1, 2, 1, aspect='equal')\n",
    "xmin = 0.\n",
    "xmax = 20.\n",
    "ymin = 0.\n",
    "ymax = 20\n",
    "dy = 10.\n",
    "dx = 10.\n",
    "ptx = 10.\n",
    "pty = 10.\n",
    "draw_my_grid(xmin, xmax, dx, ymin, ymax, dy)\n",
    "plot_point(ptx, pty, sym='ro')\n",
    "    "
   ]
  },
  {
   "cell_type": "code",
   "execution_count": null,
   "metadata": {
    "collapsed": false
   },
   "outputs": [
    {
     "name": "stdout",
     "output_type": "stream",
     "text": [
      "Initial head --> 0.0 m\n"
     ]
    }
   ],
   "source": [
    "arrow = ' --> '\n",
    "meters = 'm'\n",
    "#initial head\n",
    "inh = ('Initial head' + arrow)\n",
    "value = (str(0.0) + ' m')\n",
    "print (inh + value)"
   ]
  },
  {
   "cell_type": "code",
   "execution_count": null,
   "metadata": {
    "collapsed": false
   },
   "outputs": [],
   "source": [
    "def gridSize_def():\n",
    "    global gridSize\n",
    "    while True:\n",
    "        try:\n",
    "            gridSize = int(input(\"input grid length and width\\n\"))\n",
    "            if gridSize<2:\n",
    "                print (\"invalid int\")\n",
    "            else:\n",
    "                break\n",
    "        except ValueError:\n",
    "            print (\"invalid input\") \n",
    "    grids = [[] for _ in range (gridSize)]\n",
    "    for i in range(0,gridSize):\n",
    "        grids[i-1]=[0 for _ in range(gridSize)]\n",
    "    return grids\n",
    "\n",
    "def grid_def():\n",
    "    for i in range (0,gridSize):\n",
    "        print (grids[i-1])\n",
    "\n",
    "grids = gridSize_def()\n",
    "grid_def()"
   ]
  },
  {
   "cell_type": "code",
   "execution_count": null,
   "metadata": {
    "collapsed": false
   },
   "outputs": [],
   "source": [
    "#fig = plt.figure(figsize=(10, 10))\n",
    "#ax = fig.add_subplot(1, 1, 1, aspect='equal')\n",
    "xmin = 0. #minimum x value\n",
    "xmax = 20. #maximum x value\n",
    "ymin = 0. #minimum y value\n",
    "ymax = 300. #maximum y value\n",
    "dy = 10. #spacing in between columns\n",
    "dx = 1. #spacing in between rows\n",
    "#ptx = 10.\n",
    "#pty = 10.\n",
    "\n",
    "def draw_my_grid(xmin, xmax, dx, ymin, ymax, dy, sym='g-'): #defines the variable \"draw_my_grid\n",
    "    for y in np.arange(ymin, ymax + dy, dy): #for y axis apply min, max, and the spacing between columns\n",
    "        plt.plot([xmin, xmax], [y, y], sym)\n",
    "    plt.xlim(xmin, xmax)\n",
    "    for x in np.arange(xmin, xmax + dx, dx): #for y axis apply min, max, and the spacing between rows\n",
    "        plt.plot([x, x], [ymin, ymax])\n",
    "    plt.ylim(ymin, ymax)\n",
    "    return\n",
    "\n",
    "draw_my_grid(xmin, xmax, dx, ymin, ymax, dy)"
   ]
  },
  {
   "cell_type": "code",
   "execution_count": null,
   "metadata": {
    "collapsed": true
   },
   "outputs": [],
   "source": [
    "#begin by importing flopy\n",
    "import os\n",
    "import sys\n",
    "import numpy as np\n",
    "import flopy\n",
    "\n",
    "workspace = os.path.join('data')\n",
    "#make sure workspace directory exists\n",
    "if not os.path.exists(workspace):\n",
    "    os.makedirs(workspace)\n",
    "    \n",
    "print(sys.version)\n",
    "print('numpy version: {}'.format(np.__version__))\n",
    "print('flopy version: {}'.format(flopy.__version__))"
   ]
  },
  {
   "cell_type": "code",
   "execution_count": null,
   "metadata": {
    "collapsed": true
   },
   "outputs": [],
   "source": [
    "stress_period_data = [\n",
    "                      [2, 3, 4, 10.7, 5000., -5.7],   #layer, row, column, stage, conductance, river bottom\n",
    "                      [2, 3, 5, 10.7, 5000., -5.7],   #layer, row, column, stage, conductance, river bottom\n",
    "                      [2, 3, 6, 10.7, 5000., -5.7],   #layer, row, column, stage, conductance, river bottom\n",
    "                     ]\n",
    "m = flopy.modflow.Modflow(modelname='test', model_ws=workspace)\n",
    "riv = flopy.modflow.ModflowRiv(m, stress_period_data=stress_period_data)\n",
    "m.write_input()"
   ]
  },
  {
   "cell_type": "code",
   "execution_count": null,
   "metadata": {
    "collapsed": true
   },
   "outputs": [],
   "source": []
  }
 ],
 "metadata": {
  "kernelspec": {
   "display_name": "Python 3",
   "language": "python",
   "name": "python3"
  },
  "language_info": {
   "codemirror_mode": {
    "name": "ipython",
    "version": 3
   },
   "file_extension": ".py",
   "mimetype": "text/x-python",
   "name": "python",
   "nbconvert_exporter": "python",
   "pygments_lexer": "ipython3",
   "version": "3.6.0"
  }
 },
 "nbformat": 4,
 "nbformat_minor": 2
}
