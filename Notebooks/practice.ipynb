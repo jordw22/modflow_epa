{
 "cells": [
  {
   "cell_type": "code",
   "execution_count": 1,
   "metadata": {
    "collapsed": true
   },
   "outputs": [],
   "source": [
    "#Import and modules/packages that we need to work with\n",
    "%matplotlib inline\n",
    "import os\n",
    "import sys\n",
    "import platform\n",
    "import numpy as np\n",
    "import matplotlib as mpl\n",
    "import matplotlib.pyplot as plt\n",
    "import flopy"
   ]
  },
  {
   "cell_type": "code",
   "execution_count": 2,
   "metadata": {
    "collapsed": false
   },
   "outputs": [
    {
     "name": "stdout",
     "output_type": "stream",
     "text": [
      "C:\\VT\\USGS Internship\\modflow_epa.git\\Notebooks\n",
      "2500.0\n",
      "5000.0\n",
      "5000.0\n",
      "2500.0\n",
      "[2500.0, 5000.0, 5000.0, 2500.0]\n"
     ]
    }
   ],
   "source": [
    "print(os.getcwd())\n",
    "delr = [] #creates an empty list\n",
    "f = open('../Data/table8.1_grid1.csv') #opens the csv file; the two periods (.) means that you are goin backwards into the folders.\n",
    "    \n",
    "    #the four loop below creates a statement that if i == 0 (if it's the first\n",
    "    #row then it will skip it (continue) and move on with the for loop)\n",
    "    #we skip the first row in our table/csv file because the headers would give\n",
    "    #us an error since they aren't numerical values.\n",
    "for i,line in enumerate(f):\n",
    "    if i == 0: \n",
    "        continue\n",
    "        \n",
    "    #\"line.strip\" gets rid of any extra spaces in the margins of the plot\n",
    "    #\"split\" sections of the individual values according to whatever you put in the quotes\n",
    "    linelist = line.strip().split(',') \n",
    "    \n",
    "    value = float(linelist[1]) #changes the values in the list to floats\n",
    "    print(value) #prints the values\n",
    "    delr.append(value) #puts the floats into the empty list, delr \n",
    "    \n",
    "print(delr) #prints the list"
   ]
  },
  {
   "cell_type": "code",
   "execution_count": 27,
   "metadata": {
    "collapsed": false
   },
   "outputs": [
    {
     "name": "stdout",
     "output_type": "stream",
     "text": [
      "[ 2500.  5000.  5000.  2500.]\n",
      "15000.0\n",
      "5000.0\n",
      "5000.0\n",
      "10000.0\n",
      "10000.0\n",
      "5000.0\n",
      "10000.0\n",
      "10000.0\n",
      "5000.0\n"
     ]
    },
    {
     "data": {
      "image/png": "[encoded data removed]",
      "text/plain": [
       "<matplotlib.figure.Figure at 0x15d5d31bcc0>"
      ]
     },
     "metadata": {},
     "output_type": "display_data"
    }
   ],
   "source": [
    "#code to create grid 1\n",
    "fig = plt.figure(figsize=(10, 10))\n",
    "ax = fig.add_subplot(1, 1, 1, aspect='equal') #makes the length and width of the grid equal on all four sides\n",
    "delr_array = np.array(delr) #changes delr values from float to array\n",
    "print (delr_array) #prints those values\n",
    "print (delr_array.sum()) #prints the sum of those values\n",
    "ymax = delr_array.sum() #assigns the sum of the list to ymax\n",
    "ymin = 0 #sets ymin equal to zero\n",
    "xmax = ymax #makes xmax equal to ymax which is equal to the sum of the list\n",
    "xmin = 0 #sets xmin equal to zero\n",
    "x = 0 #sets x equal to zero\n",
    "y = 0 #sets y equal to zero\n",
    "\n",
    "#before moving on to this code, it helps to draw out an image of a graph with each corner labled with the coordinates of that point\n",
    "#top left - (xmin, ymax)\n",
    "#bottom left - (xmin, ymin)\n",
    "#top right - (xmax, ymax)\n",
    "#bottom right - (xmax, ymin)\n",
    "plt.plot([xmin, xmin], [ymin, ymax], 'b-') #plots the first column line (on the left). Must be outside of the loop.\n",
    "#'b-' creates a blue line out of dashes\n",
    "for dx in delr: #dx will go through the values in delr one by one in the loop\n",
    "    x = x + dx #add the dx value to x, which is zero, and then store that new value into x\n",
    "    plt.plot([x, x], [ymin, ymax], 'b-') #plot that point and then loop back to top\n",
    "\n",
    "    #repeat the process above but with the y values to make the rows\n",
    "plt.plot([xmin, xmax], [ymin, ymin], 'g-') #plots the first row line (on the bottom). Must be outside of the loop\n",
    "#'g-' creates a green line with dashes\n",
    "for dy in delr: \n",
    "    y = y + dy\n",
    "    plt.plot([xmin, xmax], [y, y], 'g-') \n",
    "\n",
    "\n",
    "\n",
    "xes = []\n",
    "x2=0\n",
    "f2 = open('../Data/problem8_grid1_wells.csv') #opens the csv file; the two periods (.) means that you are goin backwards into the folders.\n",
    "    \n",
    "for i2,line2 in enumerate(f2):\n",
    "    if i2 == 0: \n",
    "        continue\n",
    "        \n",
    "    linelist2 = line2.strip().split(',') \n",
    "    value2 = float(linelist2[0]) #changes the values in the list to floats\n",
    "    print(value2) #prints the values\n",
    "    xes.append(value2) #puts the floats into the empty list, x\n",
    "    \n",
    "    xes_array = np.array(xes) #changes delr values from float to array\n",
    "\n",
    "ys = []\n",
    "f3 = open('../Data/problem8_grid1_wells.csv')\n",
    "for i3,line3 in enumerate(f3):\n",
    "    if i3 == 0: \n",
    "        continue\n",
    "        \n",
    "    linelist3 = line3.strip().split(',') \n",
    "    value3 = float(linelist3[1]) #changes the values in the list to floats\n",
    "    print(value3) #prints the values\n",
    "    ys.append(value3) #puts the floats into the empty list, ys \n",
    "    \n",
    "    ys_array = np.array(ys) #changes delr values from float to array\n",
    "\n",
    "for n in xes: \n",
    "    plt.plot([xes, xes], [ys, ys], 'ro')"
   ]
  },
  {
   "cell_type": "code",
   "execution_count": null,
   "metadata": {
    "collapsed": true
   },
   "outputs": [],
   "source": []
  },
  {
   "cell_type": "code",
   "execution_count": null,
   "metadata": {
    "collapsed": true
   },
   "outputs": [],
   "source": []
  },
  {
   "cell_type": "code",
   "execution_count": null,
   "metadata": {
    "collapsed": true
   },
   "outputs": [],
   "source": []
  },
  {
   "cell_type": "code",
   "execution_count": null,
   "metadata": {
    "collapsed": true
   },
   "outputs": [],
   "source": []
  },
  {
   "cell_type": "code",
   "execution_count": null,
   "metadata": {
    "collapsed": true
   },
   "outputs": [],
   "source": []
  },
  {
   "cell_type": "code",
   "execution_count": null,
   "metadata": {
    "collapsed": true
   },
   "outputs": [],
   "source": []
  },
  {
   "cell_type": "code",
   "execution_count": null,
   "metadata": {
    "collapsed": true
   },
   "outputs": [],
   "source": []
  },
  {
   "cell_type": "code",
   "execution_count": null,
   "metadata": {
    "collapsed": false
   },
   "outputs": [],
   "source": [
    "import csv\n",
    "delr2 = []\n",
    "with open('../Data/problem8_grid1_wells.csv','r') as f2:\n",
    "    reader2 = csv.reader(f2,line.strip().split(','))\n",
    "    delr2.append(reader2)\n",
    "    for row in reader2:\n",
    "        x.append(row[0])\n",
    "        y.append(row[1])"
   ]
  },
  {
   "cell_type": "code",
   "execution_count": null,
   "metadata": {
    "collapsed": false
   },
   "outputs": [],
   "source": [
    "xes = []\n",
    "ys = []\n",
    "with open('../Data/problem8_grid1_wells.csv') as f2:\n",
    "     for l in f2:\n",
    "        x, y = l.strip().split(',')\n",
    "        xes.append(x)\n",
    "        ys.append(y)"
   ]
  },
  {
   "cell_type": "code",
   "execution_count": null,
   "metadata": {
    "collapsed": false
   },
   "outputs": [],
   "source": [
    "#pumping well\n",
    "x1_0 = 5000\n",
    "y1_0 = 5000\n",
    "def wel_pump1(x1_0, y1_0, sym):\n",
    "    plt.plot(x1_0, y1_0, sym)\n",
    "wel_pump1(x1_0, y1_0, sym='ro')\n",
    "#well 1\n",
    "x1_1 = 5000\n",
    "y1_1 = 10000\n",
    "def wel_sp1_1(x1_1, y1_1, sym):\n",
    "    plt.plot(x1_1, y1_1, sym)\n",
    "wel_sp1_1(x1_1, y1_1, sym='bo')\n",
    "#well 2\n",
    "x1_2 = 10000\n",
    "y1_2 = 10000\n",
    "def wel_sp1_2(x1_2, y1_2, sym):\n",
    "    plt.plot(x1_2, y1_2, sym)\n",
    "wel_sp1_2(x1_2, y1_2, sym='bo')\n",
    "#well 3\n",
    "x1_3 = 10000\n",
    "y1_3 = 5000\n",
    "def wel_sp1_3(x1_3, y1_3, sym):\n",
    "    plt.plot(x1_3, y1_3, sym)\n",
    "wel_sp1_3(x1_3, y1_3, sym='bo')"
   ]
  },
  {
   "cell_type": "code",
   "execution_count": 4,
   "metadata": {
    "collapsed": false
   },
   "outputs": [
    {
     "name": "stdout",
     "output_type": "stream",
     "text": [
      "4.0\n",
      "4.0\n",
      "4.0\n",
      "4.0\n",
      "[4.0, 4.0, 4.0, 4.0]\n"
     ]
    }
   ],
   "source": [
    "n = [] #creates an empty list\n",
    "f1 = open('../Data/problem8_grid1_wells.csv')\n",
    "\n",
    "for i1,line1 in enumerate(f1):\n",
    "    if i1 == 0: \n",
    "        continue\n",
    "       \n",
    "    linelist1 = line.strip().split(',')\n",
    "    xes = float(linelist1[0]) #changes the values in the list to floats\n",
    "    print(xes) #prints the values\n",
    "    n.append(xes) #puts the floats into the empty list, delr \n",
    "    \n",
    "print(n) #prints the list"
   ]
  },
  {
   "cell_type": "code",
   "execution_count": null,
   "metadata": {
    "collapsed": true
   },
   "outputs": [],
   "source": []
  }
 ],
 "metadata": {
  "kernelspec": {
   "display_name": "Python 3",
   "language": "python",
   "name": "python3"
  },
  "language_info": {
   "codemirror_mode": {
    "name": "ipython",
    "version": 3
   },
   "file_extension": ".py",
   "mimetype": "text/x-python",
   "name": "python",
   "nbconvert_exporter": "python",
   "pygments_lexer": "ipython3",
   "version": "3.6.0"
  }
 },
 "nbformat": 4,
 "nbformat_minor": 2
}
