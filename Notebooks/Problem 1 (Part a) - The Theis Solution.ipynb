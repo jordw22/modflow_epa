{
 "cells": [
  {
   "cell_type": "markdown",
   "metadata": {},
   "source": [
    "# A Manual of Instructional Problems for the U.S.G.S Modflow Model"
   ]
  },
  {
   "cell_type": "markdown",
   "metadata": {},
   "source": [
    "# Problem 1: The Theis Solution"
   ]
  },
  {
   "cell_type": "markdown",
   "metadata": {},
   "source": [
    "## Introduction"
   ]
  },
  {
   "cell_type": "markdown",
   "metadata": {},
   "source": [
    "\n",
    "_With the exception of_ [Darcy’s Law](https://github.com/jordw22/modflow_epa/blob/master/terms%20and%20definitions.md#d), _perhaps the most widely used analytical \n",
    "technique by hydrologists is the solution by Theis (1935). It is therefore \n",
    "fitting that the first problem presented in this manual is a benchmark of_ \n",
    "[MODFLOW](https://github.com/jordw22/modflow_epa/blob/master/terms%20and%20definitions.md#m) _with the Theis solution. Three different model configurations for \n",
    "analyzing_ [radial flow](https://github.com/jordw22/modflow_epa/blob/master/terms%20and%20definitions.md#r) _to a well are examined. The techniques described in \n",
    "this problem can be generally applied to well test analysis and \n",
    "representations of radial flow._\n"
   ]
  },
  {
   "cell_type": "markdown",
   "metadata": {},
   "source": [
    "## Problem Statement and Data"
   ]
  },
  {
   "cell_type": "markdown",
   "metadata": {},
   "source": [
    "[Theis’ solution](https://github.com/jordw22/modflow_epa/blob/master/terms%20and%20definitions.md#t) _predicts_ [drawdown](https://github.com/jordw22/modflow_epa/blob/master/terms%20and%20definitions.md#d) _in a_ [confined aquifer](https://github.com/jordw22/modflow_epa/blob/master/terms%20and%20definitions.md#c) _at any distance from a well at any time since the start of pumping given the aquifer properties,_ [transmissivity](https://github.com/jordw22/modflow_epa/blob/master/terms%20and%20definitions.md#t) _and_ [storage coefficient](https://github.com/jordw22/modflow_epa/blob/master/terms%20and%20definitions.md#s).\n",
    "\n",
    "_**The assumptions inherent in the Theis solution include:**_\n",
    "\n",
    "1) _The aquifer is homogeneous, isotropic, uniform thickness, and of infinite areal extent._\n",
    "\n",
    "2) _The initial_ [potentiometric surface](https://github.com/jordw22/modflow_epa/blob/master/terms%20and%20definitions.md#p) _is horizontal and uniform._\n",
    "\n",
    "3) _The well is pumped at a constant rate and it fully penetrates the_ [aquifer](https://github.com/jordw22/modflow_epa/blob/master/terms%20and%20definitions.md#a).\n",
    "\n",
    "4) _Flow to the well is horizontal, the aquifer is fully confined from above and below._\n",
    "\n",
    "5) _The well diameter is small, storage in the wellbore can be neglected._\n",
    "\n",
    "6) _Water is removed from storage instantaneously with decline in head._\n",
    "\n",
    "_All of these assumptions, with the exception of infinite areal extent can be\n",
    "easily represented with the numerical model. Several options exist to represent the domain as effectively infinite. The most frequently applied method is to extend the model domain beyond the effects of the stress. The modeled domain is therefore usually fairly large and a limited time frame is modeled. An increasing grid spacing expansion is used to extend the model boundaries._\n",
    "\n",
    "_The model domain is assumed to be uniform, homogeneous, and isotropic. A single layer is used to model the confined aquifer. A fully penetrating well located at the center of the model domain pumps at a constant rate. The potentiometric surface of the aquifer is monitored with time at an observation well 55 m from the_ [pumping well](https://github.com/jordw22/modflow_epa/blob/master/terms%20and%20definitions.md#p). _Specific details of the problem are from Freeze and Cherry (1979) pp. 345, and are given in Table 1.1._\n"
   ]
  },
  {
   "cell_type": "markdown",
   "metadata": {},
   "source": [
    "### Table 1.2 Grid spacing used for Part a model configurations\n",
    "\n",
    "| Row number (i) (=column number (j)) | Part a | Part b | Part c |\n",
    "|-------------------------------------|--------|--------|--------|\n",
    "| 1                                   | 300    | 20     | 1      |\n",
    "| 2                                   | 200    | 30     | 1.413  |\n",
    "| 3                                   | 150    | 30     | 2      |\n",
    "| 4                                   | 100    | 40     | 2.83   |\n",
    "| 5                                   | 80     | 60     | 4      |\n",
    "| 6                                   | 60     | 80     | 5.65   |\n",
    "| 7                                   | 40     | 100    | 8      |\n",
    "| 8                                   | 30     | 150    | 11.3   |\n",
    "| 9                                   | 30     | 200    | 12     |\n",
    "| 10                                  | 20     | 300    | 14.62  |\n",
    "| 11                                  | 30     |        | 20     |\n",
    "| 12                                  | 30     |        | 28.3   |\n",
    "| 13                                  | 40     |        | 40     |\n",
    "| 14                                  | 60     |        | 56.5   |\n",
    "| 15                                  | 80     |        | 80     |\n",
    "| 16                                  | 100    |        | 110    |\n",
    "| 17                                  | 150    |        | 150    |\n",
    "| 18                                  | 200    |        | 200    |\n",
    "| 19                                  | 300    |        | 252.89 |"
   ]
  },
  {
   "cell_type": "markdown",
   "metadata": {},
   "source": [
    "## Part a\n",
    "\n",
    "_Represent the entire aquifer domain by using the grid spacing shown in Table 1.2. Place the_ [well](https://github.com/jordw22/modflow_epa/blob/master/terms%20and%20definitions.md#w) _at the center of the domain, row 10, column 10. Run the model, noting drawdown at each_ [time step](https://github.com/jordw22/modflow_epa/blob/master/terms%20and%20definitions.md#t) _at an observation point 55 m from the pumping well. The configuration of the model for part a and future parts b, c, and d is shown in Figure 1.1._\n"
   ]
  },
  {
   "cell_type": "markdown",
   "metadata": {},
   "source": [
    "### Table 1.2 Grid spacing used for Part a model configurations\n",
    "\n",
    "| Row number (i) (=column number (j)) | Part a |\n",
    "|-------------------------------------|--------|\n",
    "| 1                                   | 300    |\n",
    "| 2                                   | 200    |\n",
    "| 3                                   | 150    |\n",
    "| 4                                   | 100    |\n",
    "| 5                                   | 80     |\n",
    "| 6                                   | 60     |\n",
    "| 7                                   | 40     |\n",
    "| 8                                   | 30     |\n",
    "| 9                                   | 30     |\n",
    "| 10                                  | 20     |\n",
    "| 11                                  | 30     |\n",
    "| 12                                  | 30     |\n",
    "| 13                                  | 40     |\n",
    "| 14                                  | 60     |\n",
    "| 15                                  | 80     |\n",
    "| 16                                  | 100    |\n",
    "| 17                                  | 150    |\n",
    "| 18                                  | 200    |\n",
    "| 19                                  | 300    |"
   ]
  },
  {
   "cell_type": "markdown",
   "metadata": {},
   "source": [
    "Go into excel or notepad and create the table depicted above and save as a '.csv' file. csv simply stands for \"comma separated values\". As you can see in the code below, I named my file \"table1.2a\"."
   ]
  },
  {
   "cell_type": "code",
   "execution_count": 2,
   "metadata": {
    "collapsed": false
   },
   "outputs": [
    {
     "name": "stdout",
     "output_type": "stream",
     "text": [
      "3.6.0 |Anaconda 4.3.1 (64-bit)| (default, Dec 23 2016, 11:57:41) [MSC v.1900 64 bit (AMD64)]\n",
      "numpy version: 1.11.3\n",
      "matplotlib version: 2.0.0\n",
      "flopy version: 3.2.6\n"
     ]
    }
   ],
   "source": [
    "#Import any modules/packages that we need to work with\n",
    "%matplotlib inline\n",
    "import os\n",
    "import sys\n",
    "import numpy as np\n",
    "import matplotlib as mpl\n",
    "import matplotlib.pyplot as plt\n",
    "import flopy\n",
    "import scipy.special\n",
    "\n",
    "#You can skip this step, I just printed these out so that you can see which versions you should have for each of these\n",
    "print(sys.version)\n",
    "print('numpy version: {}'.format(np.__version__))\n",
    "print('matplotlib version: {}'.format(mpl.__version__))\n",
    "print('flopy version: {}'.format(flopy.__version__))"
   ]
  },
  {
   "cell_type": "code",
   "execution_count": 3,
   "metadata": {
    "collapsed": false
   },
   "outputs": [
    {
     "name": "stdout",
     "output_type": "stream",
     "text": [
      "C:\\VT\\USGS Internship\\modflow_epa.git\\Notebooks\n"
     ]
    }
   ],
   "source": [
    "print(os.getcwd())\n",
    "delr = [] #creates an empty list that we can later store values into\n",
    "f = open('../Data/table1.2a.csv') #opens the csv file; the two periods (..) means that you are going backwards into the folders."
   ]
  },
  {
   "cell_type": "markdown",
   "metadata": {},
   "source": [
    "Going backwards into the folders is a much more efficient way of finding a file instead of typing in a long chain of 5+ folders.\n",
    "* Here you'll see that I saved my table1.2a into a folder call \"Data\", yours can be that same name or a different one, so make sure you aren't just copying my code and that you are actually typing the proper folder name that your .csv file is located in."
   ]
  },
  {
   "cell_type": "markdown",
   "metadata": {},
   "source": [
    "The four loop below creates a statement that if i == 0 (if it's the first row in the .csv file) then it will skip it (continue) and move on to the next step in the for loop\n",
    "* We skip the first row in our table1.2a.csv file because the headers would give us an error since they aren't numerical values."
   ]
  },
  {
   "cell_type": "code",
   "execution_count": 4,
   "metadata": {
    "collapsed": false,
    "scrolled": false
   },
   "outputs": [
    {
     "name": "stdout",
     "output_type": "stream",
     "text": [
      "300.0\n",
      "200.0\n",
      "150.0\n",
      "100.0\n",
      "80.0\n",
      "60.0\n",
      "40.0\n",
      "30.0\n",
      "30.0\n",
      "20.0\n",
      "30.0\n",
      "30.0\n",
      "40.0\n",
      "60.0\n",
      "80.0\n",
      "100.0\n",
      "150.0\n",
      "200.0\n",
      "300.0\n",
      "[300.0, 200.0, 150.0, 100.0, 80.0, 60.0, 40.0, 30.0, 30.0, 20.0, 30.0, 30.0, 40.0, 60.0, 80.0, 100.0, 150.0, 200.0, 300.0]\n"
     ]
    }
   ],
   "source": [
    "for i,line in enumerate(f):\n",
    "    if i == 0: \n",
    "        continue\n",
    "        \n",
    "    #\"line.strip\" gets rid of any extra spaces in the margins of the plot\n",
    "    #\"split\" sections off the individual values according to whatever you put in the quotes\n",
    "    #we use a comma here because in the excel files our data is a .csv (*comma* separated values)\n",
    "    linelist = line.strip().split(',') \n",
    "    \n",
    "    value = float(linelist[1]) #changes the values in the list to floats\n",
    "    print(value) #prints the values\n",
    "    delr.append(value) #puts the floats into the empty list, delr \n",
    "    \n",
    "print(delr) #prints the list"
   ]
  },
  {
   "cell_type": "markdown",
   "metadata": {},
   "source": [
    "**Python is a 0 based code.**\n",
    "\n",
    "This means that when we are pulling data from table1.2a and we want to get all the numerical values from row 2, we have to type (linelist[1]).\n",
    "\n",
    "* This is because in Python: 1=0, 2=1, 3=2, ...so on and so forth\n",
    "\n",
    "    * An easy way to think about it is that you always have to subtract 1 from the value you want to extract: 2-1=1"
   ]
  },
  {
   "cell_type": "code",
   "execution_count": 5,
   "metadata": {
    "collapsed": false
   },
   "outputs": [
    {
     "name": "stdout",
     "output_type": "stream",
     "text": [
      "[ 300.  200.  150.  100.   80.   60.   40.   30.   30.   20.   30.   30.\n",
      "   40.   60.   80.  100.  150.  200.  300.]\n",
      "2000.0\n"
     ]
    },
    {
     "data": {
      "image/png": "[encoded data removed]",
      "text/plain": [
       "<matplotlib.figure.Figure at 0x19feb662f28>"
      ]
     },
     "metadata": {},
     "output_type": "display_data"
    }
   ],
   "source": [
    "#code to create the grid image\n",
    "fig = plt.figure(figsize=(10, 10)) #this will simply create a nice 10x10 grid for us to display when we're done\n",
    "ax = fig.add_subplot(1, 1, 1, aspect='equal') #makes the length and width of the grid equal on all four sides\n",
    "\n",
    "delr_array = np.array(delr) #changes delr values from float to array; we do this because we have to work with arrays to make the grid\n",
    "print (delr_array) #print the values so you can check if they are correct\n",
    "print (delr_array.sum()) #prints the sum of those values\n",
    "\n",
    "ymax = delr_array.sum() #assigns the sum of the list to ymax\n",
    "ymin = 0 #sets ymin equal to zero\n",
    "xmax = ymax #makes xmax equal to ymax which is equal to the sum of the list\n",
    "xmin = 0 #sets xmin equal to zero\n",
    "x = 0 #sets x equal to zero\n",
    "y = 0 #sets y equal to zero"
   ]
  },
  {
   "cell_type": "markdown",
   "metadata": {},
   "source": [
    "Before moving on to the code below, it helps to draw out an image of a graph with each corner labled with the (x, y) coordinates of that point. That way when you are coding it you understand which values you are assigning to each corner and why it is set up that way.\n",
    "\n",
    "* top left = (xmin, ymax)\n",
    "* bottom left = (xmin, ymin)\n",
    "* top right = (xmax, ymax)\n",
    "* bottom right = (xmax, ymin)\n",
    "\n",
    "As you'll see below I made all the columns blue and the rows red. This is to make it easier for you to identify which part of the code is doing what on the grid. However, eventually we will only be making the grid lines with one solid color."
   ]
  },
  {
   "cell_type": "code",
   "execution_count": 6,
   "metadata": {
    "collapsed": false
   },
   "outputs": [
    {
     "data": {
      "image/png": "[encoded data removed]",
      "text/plain": [
       "<matplotlib.figure.Figure at 0x19febcb9d68>"
      ]
     },
     "metadata": {},
     "output_type": "display_data"
    }
   ],
   "source": [
    "fig = plt.figure(figsize=(10, 10)) \n",
    "ax = fig.add_subplot(1, 1, 1, aspect='equal') \n",
    "\n",
    "#Creating the columns:\n",
    "\n",
    "plt.plot([xmin, xmin], [ymin, ymax], 'b-') #plots the first column line (on the left). Must be outside of the for loop.\n",
    "#This line is outside the for loop mostly for aesthetic purposes, it is the make the grid look more complete. \n",
    "#'b-' creates a blue line out of dashes\n",
    "\n",
    "for dx in delr: #dx will go through the values in delr one by one in the loop\n",
    "    x = x + dx #add the dx value to x, and then store that new value into x\n",
    "    plt.plot([x, x], [ymin, ymax], 'b-') #plots that point and then loops back to top\n",
    "\n",
    "#Creating the rows: Repeat the process above but with the y values\n",
    "\n",
    "plt.plot([xmin, xmax], [ymin, ymin], 'g-') #plots the first row line (on the bottom). Must be outside of the loop.\n",
    "#'g-' creates a green line with dashes\n",
    "\n",
    "for dy in delr: \n",
    "    y = y + dy\n",
    "    plt.plot([xmin, xmax], [y, y], 'g-')\n",
    "    \n",
    "#Creating the well (red dot):  \n",
    "\n",
    "xmean = delr_array.sum() * .5 #Assign the xmean and ymean values to the sum of the list and then divided in half\n",
    "ymean = delr_array.sum() * .5 #in order the get the mean; now the well is right in the middle of the grid\n",
    "\n",
    "def plot_well(xmean, ymean, sym):\n",
    "    plt.plot(xmean, ymean, sym)\n",
    "plot_well(xmean, ymean, sym='ro') #'ro' creates a red circle"
   ]
  },
  {
   "cell_type": "markdown",
   "metadata": {},
   "source": [
    "### Table 1.1 Parameters used in Problem 1a\n",
    "\n",
    "| Variable | Value  |\n",
    "|----------------------------|-----------------|\n",
    "| Initial head               | 0.0 m           |\n",
    "| Transmissivity             | 0.0023 $\\frac{m^2}{s}$   |\n",
    "| Storage coefficient        | 0.00075         |\n",
    "| Pumping rate               | ${4 x 10^{-3}} \\frac{m^3}{s}$ |\n",
    "| Final time                 | 86400 s         |\n",
    "| Number of time steps       | 20              |\n",
    "| Time step expansion factor | 1.3             |\n",
    "| Iteration parameters       | 5               |\n",
    "| Closure criterion          | 0.0001          |\n",
    "| Maximum number iterations  | 50              |"
   ]
  },
  {
   "cell_type": "code",
   "execution_count": 7,
   "metadata": {
    "collapsed": false,
    "scrolled": false
   },
   "outputs": [],
   "source": [
    "#Store the values of each parameter into separate variables\n",
    "inh = 0.0 #initial head\n",
    "trans = 23.e-4 #transmissivity (is equal to hk*(top-botm))\n",
    "ss = 0.00075 #storage coefficient\n",
    "pr = 4.e-3 #pumping rate\n",
    "perlen = 86400 #final time (period length)\n",
    "nstp = 20 #number of time steps\n",
    "tsmult = 1.3 #time step expansion factor (time step multiplier)\n",
    "it = 5 #iteration parameters\n",
    "hclose = 1.e-4 #closure criterion (the head change criterion for convergence)\n",
    "mxiter = 50 #maximum number of iterations\n",
    "nlay = 1 #number of layers\n",
    "nrow = 19 #number of rows\n",
    "ncol = 19 #number of columns"
   ]
  },
  {
   "cell_type": "markdown",
   "metadata": {},
   "source": [
    "Print the values to make sure that they are all stored properly: \n",
    "* Put the words in quotes to make them a string\n",
    "* The \".format\" takes whatever is in the ( ) and changes it to a float, which is then stored in the { } and then printed"
   ]
  },
  {
   "cell_type": "code",
   "execution_count": 8,
   "metadata": {
    "collapsed": false
   },
   "outputs": [
    {
     "name": "stdout",
     "output_type": "stream",
     "text": [
      "initial head: 0.0\n",
      "transmissivity: 0.0023 m^2/s\n",
      "storage coefficient: 0.00075\n",
      "pumping rate: 0.004 m^3/s\n",
      "final time: 86400 s\n",
      "number of time steps: 20\n",
      "time step expansion factor: 1.3\n",
      "iteration parameters: 5\n",
      "closure criterion: 0.0001\n",
      "maximum number of iterations: 50\n"
     ]
    }
   ],
   "source": [
    "print('initial head: {}'.format(inh))\n",
    "print('transmissivity: {} m^2/s'.format(trans))\n",
    "print('storage coefficient: {}'.format(ss))\n",
    "print('pumping rate: {} m^3/s'.format(pr))\n",
    "print('final time: {} s'.format(perlen))\n",
    "print('number of time steps: {}'.format(nstp))\n",
    "print('time step expansion factor: {}'.format(tsmult))\n",
    "print('iteration parameters: {}'.format(it))\n",
    "print('closure criterion: {}'.format(hclose))\n",
    "print('maximum number of iterations: {}'.format(mxiter))"
   ]
  },
  {
   "cell_type": "code",
   "execution_count": 9,
   "metadata": {
    "collapsed": false
   },
   "outputs": [],
   "source": [
    "#Flopy objects\n",
    "\n",
    "modelname = 'p1_pa' #creating a name for the file: stands for problem 1 part a\n",
    "exe_name = '../MF2005.1_12/bin/mf2005.exe' #telling the code where the executable is\n",
    "model_ws = 'temp'\n",
    "mf = flopy.modflow.Modflow(modelname, exe_name=exe_name, model_ws = model_ws)"
   ]
  },
  {
   "cell_type": "code",
   "execution_count": 10,
   "metadata": {
    "collapsed": false
   },
   "outputs": [],
   "source": [
    "#call in the discretization package (DIS)\n",
    "\n",
    "delr = delr\n",
    "delc = delr #set delr values equal to delc\n",
    "top = 0 #an array of the top elevation of layer 1\n",
    "botm = -1 #an array of the bottom elevation of layer 1\n",
    "nper = 1 #number of periods\n",
    "\n",
    "#If you click anywhere within the () and press [Shift] + [Tab], you will see a menu appear that displays all of the\n",
    "#required and optional inputs for the package. It will also show you what all of their default values are.\n",
    "dis = flopy.modflow.ModflowDis(mf, nlay, nrow, ncol, delr=delr, delc=delc,\n",
    "                               top=top, botm=botm, nper=nper, perlen=perlen, \n",
    "                               nstp=nstp, tsmult=tsmult, steady=False)"
   ]
  },
  {
   "cell_type": "code",
   "execution_count": 11,
   "metadata": {
    "collapsed": false
   },
   "outputs": [],
   "source": [
    "#call in the basic package (BAS)\n",
    "\n",
    "ibound = np.ones((nlay, nrow, ncol)) #np.ones(layer, row, column)\n",
    "strt = np.zeros((nlay, nrow, ncol))\n",
    "bas = flopy.modflow.ModflowBas(mf, ibound=ibound, strt=strt)"
   ]
  },
  {
   "cell_type": "code",
   "execution_count": 12,
   "metadata": {
    "collapsed": false
   },
   "outputs": [],
   "source": [
    "#call in the well package (WEL)\n",
    "\n",
    "# In the brackets type in the cordinates of the well\n",
    "# Remember to use zero-based layer, row, column indices! (Hint: subtract 1)\n",
    "wel_sp1 = [[0, 9, 9, -pr]] # [[layer, row, column, pr]]\n",
    "#we make the pr negative here because the well is drawing water OUT of the aquifer\n",
    "\n",
    "stress_period_data = {0: wel_sp1}\n",
    "wel = flopy.modflow.ModflowWel(mf, stress_period_data=stress_period_data)"
   ]
  },
  {
   "cell_type": "code",
   "execution_count": 13,
   "metadata": {
    "collapsed": false
   },
   "outputs": [],
   "source": [
    "#call in the preconditioned conjugate-gradient package (PCG) \n",
    "\n",
    "pcg = flopy.modflow.ModflowPcg(mf, mxiter=mxiter, hclose=hclose)"
   ]
  },
  {
   "cell_type": "code",
   "execution_count": 14,
   "metadata": {
    "collapsed": false
   },
   "outputs": [],
   "source": [
    "#call in the layer-propery flow (LPF)\n",
    "\n",
    "hk = trans\n",
    "#recall that trans equals hk*(top-botm)\n",
    "# 0 minus -1 is the same as 0+1, so 0+1 = 1 and 1 times hk is the same as hk, \n",
    "# therefore we can say that the transmissivity (trans) is equal to hk\n",
    "ss = 75e-5 #storage coefficient\n",
    "laytyp = np.zeros((nlay)) #sets laytyp equal to nlay (both represent the number of layers present in the simulation)\n",
    "lpf = flopy.modflow.ModflowLpf(mf, hk=hk, ss=ss, laytyp=laytyp)"
   ]
  },
  {
   "cell_type": "code",
   "execution_count": 15,
   "metadata": {
    "collapsed": false
   },
   "outputs": [],
   "source": [
    "#call in the output control package (OC)\n",
    "\n",
    "oc = flopy.modflow.ModflowOc(mf)"
   ]
  },
  {
   "cell_type": "code",
   "execution_count": 16,
   "metadata": {
    "collapsed": false
   },
   "outputs": [
    {
     "name": "stdout",
     "output_type": "stream",
     "text": [
      "warning: assuming SpatialReference units are meters\n"
     ]
    }
   ],
   "source": [
    "# Write the MODFLOW model input files\n",
    "\n",
    "mf.write_input()"
   ]
  },
  {
   "cell_type": "code",
   "execution_count": 17,
   "metadata": {
    "collapsed": false
   },
   "outputs": [
    {
     "name": "stdout",
     "output_type": "stream",
     "text": [
      "FloPy is using the following executable to run the model: ../MF2005.1_12/bin/mf2005.exe\n",
      "\n",
      "                                  MODFLOW-2005     \n",
      "    U.S. GEOLOGICAL SURVEY MODULAR FINITE-DIFFERENCE GROUND-WATER FLOW MODEL\n",
      "                             Version 1.12.00 2/3/2017                        \n",
      "\n",
      " Using NAME file: p1_pa.nam \n",
      " Run start date and time (yyyy/mm/dd hh:mm:ss): 2017/07/19 12:29:25\n",
      "\n",
      " Solving:  Stress period:     1    Time step:     1    Ground-Water Flow Eqn.\n",
      " Solving:  Stress period:     1    Time step:     2    Ground-Water Flow Eqn.\n",
      " Solving:  Stress period:     1    Time step:     3    Ground-Water Flow Eqn.\n",
      " Solving:  Stress period:     1    Time step:     4    Ground-Water Flow Eqn.\n",
      " Solving:  Stress period:     1    Time step:     5    Ground-Water Flow Eqn.\n",
      " Solving:  Stress period:     1    Time step:     6    Ground-Water Flow Eqn.\n",
      " Solving:  Stress period:     1    Time step:     7    Ground-Water Flow Eqn.\n",
      " Solving:  Stress period:     1    Time step:     8    Ground-Water Flow Eqn.\n",
      " Solving:  Stress period:     1    Time step:     9    Ground-Water Flow Eqn.\n",
      " Solving:  Stress period:     1    Time step:    10    Ground-Water Flow Eqn.\n",
      " Solving:  Stress period:     1    Time step:    11    Ground-Water Flow Eqn.\n",
      " Solving:  Stress period:     1    Time step:    12    Ground-Water Flow Eqn.\n",
      " Solving:  Stress period:     1    Time step:    13    Ground-Water Flow Eqn.\n",
      " Solving:  Stress period:     1    Time step:    14    Ground-Water Flow Eqn.\n",
      " Solving:  Stress period:     1    Time step:    15    Ground-Water Flow Eqn.\n",
      " Solving:  Stress period:     1    Time step:    16    Ground-Water Flow Eqn.\n",
      " Solving:  Stress period:     1    Time step:    17    Ground-Water Flow Eqn.\n",
      " Solving:  Stress period:     1    Time step:    18    Ground-Water Flow Eqn.\n",
      " Solving:  Stress period:     1    Time step:    19    Ground-Water Flow Eqn.\n",
      " Solving:  Stress period:     1    Time step:    20    Ground-Water Flow Eqn.\n",
      " Run end date and time (yyyy/mm/dd hh:mm:ss): 2017/07/19 12:29:25\n",
      " Elapsed run time:  0.021 Seconds\n",
      "\n",
      "  Normal termination of simulation\n"
     ]
    }
   ],
   "source": [
    "# Run the MODFLOW model\n",
    "\n",
    "success, buff = mf.run_model()"
   ]
  },
  {
   "cell_type": "markdown",
   "metadata": {},
   "source": [
    "### Post processing the results\n",
    "\n",
    "_Now that we have successfully built and run our MODFLOW model, we can look at the results. MODFLOW writes the simulated_ [heads](https://github.com/jordw22/modflow_epa/blob/master/terms%20and%20definitions.md#h) _to a binary data output file. We cannot look at these heads with a text editor, but flopy has a binary utility that can be used to read the heads. The following statements will read the binary head file and create a plot of simulated heads for layer 1:_"
   ]
  },
  {
   "cell_type": "code",
   "execution_count": 18,
   "metadata": {
    "collapsed": false
   },
   "outputs": [
    {
     "name": "stdout",
     "output_type": "stream",
     "text": [
      "[137.10693, 315.34595, 547.05664, 848.28052, 1239.8716, 1748.9399, 2410.7288, 3271.0542, 4389.4771, 5843.4268, 7733.5615, 10190.736, 13385.063, 17537.689, 22936.102, 29954.039, 39077.355, 50937.668, 66356.07, 86400.0]\n"
     ]
    }
   ],
   "source": [
    "import flopy.utils.binaryfile as bf\n",
    "\n",
    "# Create the headfile object\n",
    "fname = os.path.join(model_ws, 'p1_pa.hds') #\"os.path.join\" joins together the modelname and the .hds file and stores it in fname\n",
    "headobj = bf.HeadFile(fname) #create headobj and put values from fname (aka 'p1_pa.hds') inside it\n",
    "times = headobj.get_times() #assign the headobj values to the variable \"times\"\n",
    "print(times) #prints the time at each stress period"
   ]
  },
  {
   "cell_type": "code",
   "execution_count": 19,
   "metadata": {
    "collapsed": false,
    "scrolled": false
   },
   "outputs": [
    {
     "data": {
      "text/plain": [
       "(0, 86400.0)"
      ]
     },
     "execution_count": 19,
     "metadata": {},
     "output_type": "execute_result"
    },
    {
     "data": {
      "image/png": "[encoded data removed]",
      "text/plain": [
       "<matplotlib.figure.Figure at 0x19feab980f0>"
      ]
     },
     "metadata": {},
     "output_type": "display_data"
    }
   ],
   "source": [
    "# Plot the drawdown versus time using model map\n",
    "idx = (0, 9, 11) #(nlay, nrow, ncol) *remember you have to subtract 1 from the original numbers for python - (1, 10, 12)*\n",
    "ts = headobj.get_ts(idx)\n",
    "plt.subplot(1, 1, 1)\n",
    "ttl = 'Drawdown at cell ({0},{1},{2})'.format(idx[0] + 1, idx[1] + 1, idx[2] + 1) #we are adding 1 to each part of idx so that \n",
    "#it prints out the real values and not the code values\n",
    "plt.title(ttl) #prints/plots title\n",
    "plt.xlabel('time (s)') #labels the x-axis\n",
    "plt.ylabel('drawdown (m)') #labels the y-axis\n",
    "plt.plot(ts[:, 0], 0-ts[:, 1], 'bo-') #(x, y, color/type of line)\n",
    "#here we do \"0-ts\" to make the values negative because drawdown is showing the water levels DECREASE\n",
    "plt.xlim(0, ts[:, 0].max())"
   ]
  },
  {
   "cell_type": "code",
   "execution_count": 20,
   "metadata": {
    "collapsed": false,
    "scrolled": true
   },
   "outputs": [
    {
     "data": {
      "text/plain": [
       "(0, 86400.0)"
      ]
     },
     "execution_count": 20,
     "metadata": {},
     "output_type": "execute_result"
    },
    {
     "data": {
      "image/png": "[encoded data removed]",
      "text/plain": [
       "<matplotlib.figure.Figure at 0x19fe88dcf28>"
      ]
     },
     "metadata": {},
     "output_type": "display_data"
    }
   ],
   "source": [
    "# Plot the head versus time using model map\n",
    "idx = (0, 9, 11)\n",
    "ts = headobj.get_ts(idx)\n",
    "plt.subplot(1, 1, 1)\n",
    "ttl = 'Head at cell ({0},{1},{2})'.format(idx[0] + 1, idx[1] + 1, idx[2] + 1)\n",
    "plt.title(ttl)\n",
    "plt.xlabel('time (s)')\n",
    "plt.ylabel('head')\n",
    "plt.plot(ts[:, 0], ts[:, 1], 'ro-')\n",
    "plt.xlim(0, ts[:, 0].max())"
   ]
  },
  {
   "cell_type": "markdown",
   "metadata": {},
   "source": [
    "# Theis Equation\n",
    "\n",
    "$$s = \\frac{Q}{(4{\\pi}T)} \\cdot W(u)$$\n",
    "\n",
    "where:\n",
    "\n",
    "**s** = drawdown\n",
    "\n",
    "**Q** = pumping rate\n",
    "\n",
    "**T** = Transmissivity\n",
    "\n",
    "**S** = Storage\n",
    "\n",
    "**r** = radius (the distance from the well to where you want to measure drawdown)\n",
    "\n",
    "$$u = \\frac{r^2S}{4Tt}$$"
   ]
  },
  {
   "cell_type": "code",
   "execution_count": null,
   "metadata": {
    "collapsed": true
   },
   "outputs": [],
   "source": [
    "def u_calc(r, S, T, t):\n",
    "    u = r ** 2 * S / 4. / T / t\n",
    "    return u\n",
    "\n",
    "def well_function(u):\n",
    "    return scipy.special.exp1(u)\n",
    "\n",
    "def drawdown(Q, r, S, T, t):\n",
    "    u = u_calc(r, S, T, t)\n",
    "    s = Q / 4. / np.pi / T * well_function(u)\n",
    "    return s\n",
    "\n",
    "def distance(x, y, xp, yp):\n",
    "    return np.sqrt((x - xp) ** 2 + (y - yp) ** 2)"
   ]
  },
  {
   "cell_type": "code",
   "execution_count": 21,
   "metadata": {
    "collapsed": false
   },
   "outputs": [
    {
     "data": {
      "text/plain": [
       "(0, 86400.0)"
      ]
     },
     "execution_count": 21,
     "metadata": {},
     "output_type": "execute_result"
    },
    {
     "data": {
      "image/png": "[encoded data removed]",
      "text/plain": [
       "<matplotlib.figure.Figure at 0x23e683ae978>"
      ]
     },
     "metadata": {},
     "output_type": "display_data"
    }
   ],
   "source": [
    "# Plot the drawdown versus time using the formula for drawdown\n",
    "plt.subplot(1, 1, 1)\n",
    "ttl = 'Drawdown at cell ({0},{1},{2})'.format(idx[0] + 1, idx[1] + 1, idx[2] + 1) #we are adding 1 to each part of idx so that \n",
    "#it prints out the real values and not the code values\n",
    "plt.title(ttl) #prints/plots title\n",
    "plt.xlabel('time (s)') #labels the x-axis\n",
    "plt.ylabel('drawdown (m)') #labels the y-axis\n",
    "\n",
    "d=drawdown(Q=0.004, r=55, S=0.00075, T=0.0023, t=ts[:, 0])\n",
    "    \n",
    "plt.plot(ts[:, 0], 0-ts[:, 1], 'bo-') #(x, y, color/type of line)\n",
    "#here we do \"0-ts\" to make the values negative because drawdown is showing the water levels DECREASE\n",
    "plt.xlim(0, ts[:, 0].max())"
   ]
  }
 ],
 "metadata": {
  "celltoolbar": "Raw Cell Format",
  "kernelspec": {
   "display_name": "Python 3",
   "language": "python",
   "name": "python3"
  },
  "language_info": {
   "codemirror_mode": {
    "name": "ipython",
    "version": 3
   },
   "file_extension": ".py",
   "mimetype": "text/x-python",
   "name": "python",
   "nbconvert_exporter": "python",
   "pygments_lexer": "ipython3",
   "version": "3.6.0"
  }
 },
 "nbformat": 4,
 "nbformat_minor": 2
}
