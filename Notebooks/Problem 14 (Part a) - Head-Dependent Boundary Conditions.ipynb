{
 "cells": [
  {
   "cell_type": "markdown",
   "metadata": {},
   "source": [
    "# Problem 14: Head-Dependent Boundary Conditions"
   ]
  },
  {
   "cell_type": "markdown",
   "metadata": {},
   "source": [
    "## INTRODUCTION\n",
    "The RIVER, DRAIN, GENERAL HEAD, and EVAPOTRANSPIRATION packages of MODFLOW are all head-dependent flux or third type boundary conditions. Although their names imply specific types of sources or sinks, these packages are mathematically very similar and can be used for a variety of hydrologic conditions other than those their names suggest. This exercise illustrates the similarity of the packages, compares results of each to one another as a verification, and gives insight to the utility of parameters used in the packages.\n"
   ]
  },
  {
   "cell_type": "markdown",
   "metadata": {},
   "source": [
    "## PROBLEM STATEMENT AND DATA\n",
    "In order to evaluate these boundary conditions, a single layer, 7 node by 7 node unconfined aquifer is modeled in parts a-d. All cells in the domain are active and a well pumps in the upper left-hand comer (node 1,1). A head-dependent flux boundary condition runs along column 4 for the entire length of the system. The boundary will be treated in five different ways in this exercise. Details on the model specific to all configurations are given in Table 14.1.\n"
   ]
  },
  {
   "cell_type": "markdown",
   "metadata": {},
   "source": [
    "### Part a) \n",
    "Model the third type boundary condition as a river running down the center of column 4. The river has the following characteristics:\n",
    "    \n",
    "| Variable                        | Value    |\n",
    "|---------------------------------|----------|\n",
    "| Elevation                       | 0.0 ft   |\n",
    "| Width                           | 20 ft    |\n",
    "| Riverbed hydraulic conductivity | 0.1 ft/d |\n",
    "| Riverbed thickness              | 1 ft     |\n",
    "| River bottom elevation          | -2.0 ft  |\n",
    "\n",
    "Run the model for the 1 year simulation period described in Table 14.1. Note hydraulic head and boundary discharge at row 1, column 4 for each time step. You will need to invoke the cell-by-cell print flag in both the river package and the output control package.\n"
   ]
  },
  {
   "cell_type": "markdown",
   "metadata": {},
   "source": [
    "###  Table 14.1. Aquifer parameters and discretization data for Problem 14\n",
    "| Variable                     | Value       |\n",
    "|------------------------------|-------------|\n",
    "| Initial head                 | 10 ft       |\n",
    "| Hydraulic conductivity       | 10 ft/d     |\n",
    "| Aquifer base                 | -50 ft      |\n",
    "| Storage coefficient          | 0.1         |\n",
    "| Grid spacing (uniform)       | 100 ft      |\n",
    "| Pumping rate                 | 2500 ft^2/d |\n",
    "| Stress period length         | 365 days    |\n",
    "| Time steps                   | 20          |\n",
    "| Time step multiplier         | 1.2         |\n",
    "| SIP iteration parameters     | 5           |\n",
    "| Maximum number of iterations | 50          |\n",
    "| Acceleration parameter       | 1           |\n",
    "| Closure criterion            | 0.001       |"
   ]
  },
  {
   "cell_type": "code",
   "execution_count": 1,
   "metadata": {
    "collapsed": true
   },
   "outputs": [],
   "source": [
    "#Import and modules/packages that we need to work with\n",
    "%matplotlib inline\n",
    "import os\n",
    "import sys\n",
    "import platform\n",
    "import numpy as np\n",
    "import matplotlib as mpl\n",
    "import matplotlib.pyplot as plt\n",
    "import flopy\n",
    "#import csv"
   ]
  },
  {
   "cell_type": "code",
   "execution_count": 2,
   "metadata": {
    "collapsed": false
   },
   "outputs": [
    {
     "name": "stdout",
     "output_type": "stream",
     "text": [
      "C:\\VT\\USGS Internship\\modflow_epa.git\\Notebooks\n",
      "10.0\n",
      "10.0\n",
      "-50.0\n",
      "0.1\n",
      "100.0\n",
      "2500.0\n",
      "365.0\n",
      "20.0\n",
      "1.2\n",
      "5.0\n",
      "50.0\n",
      "1.0\n",
      "0.001\n",
      "[10.0, 10.0, -50.0, 0.1, 100.0, 2500.0, 365.0, 20.0, 1.2, 5.0, 50.0, 1.0, 0.001]\n"
     ]
    }
   ],
   "source": [
    "print(os.getcwd())\n",
    "delr = [] #creates an empty list\n",
    "f = open('../Data/table14.1.csv') #opens the csv file; the two periods (.) means that you are goin backwards into the folders.\n",
    "    \n",
    "    #the four loop below creates a statement that if i == 0 (if it's the first\n",
    "    #row then it will skip it (continue) and move on with the for loop)\n",
    "    #we skip the first row in our table/csv file because the headers would give\n",
    "    #us an error since they aren't numerical values.\n",
    "for i,line in enumerate(f):\n",
    "    if i == 0: \n",
    "        continue\n",
    "        \n",
    "    #\"line.strip\" gets rid of any extra spaces in the margins of the plot\n",
    "    #\"split\" sections of the individual values according to whatever you put in the quotes\n",
    "    linelist = line.strip().split(',') \n",
    "    \n",
    "    value = float(linelist[1]) #changes the values in the list to floats\n",
    "    print(value) #prints the values\n",
    "    delr.append(value) #puts the floats into the empty list, delr \n",
    "    \n",
    "print(delr) #prints the list"
   ]
  },
  {
   "cell_type": "code",
   "execution_count": 3,
   "metadata": {
    "collapsed": false,
    "scrolled": true
   },
   "outputs": [
    {
     "name": "stdout",
     "output_type": "stream",
     "text": [
      "initial head: 10.0 ft\n",
      "hydraulic conductivity: 10.0 ft/d\n",
      "aquifer base: -50.0 ft\n",
      "storage coefficient: 0.1\n",
      "grid spacing (uniform): 100 ft\n",
      "pumping rate: -2500.0 ft^3/d\n",
      "stress period length: 365 days\n",
      "number of time steps: 20\n",
      "time step expansion factor: 1.2\n",
      "SIP iteration parameters: 5\n",
      "maximum number of iterations: 50\n",
      "accelereation parameter: 1.0\n",
      "closure criterion: 0.001\n"
     ]
    }
   ],
   "source": [
    "#Store the values of each parameter into separate variables\n",
    "inh = 10.0 #initial head\n",
    "hk = 10.0 #hydraulic conductivity\n",
    "botm = -50.0 #aquifer base\n",
    "sy = 0.1 #storage coefficient\n",
    "delr = 100 #grid spacing (uniform)\n",
    "delc = delr\n",
    "pr = -2500. #pumping rate\n",
    "perlen = 365 #final time (stress period length)\n",
    "nstp = 20 #number of time steps\n",
    "tsmult = 1.2 #time step multiplier\n",
    "sip_it_par = 5 #SIP iteration parameters\n",
    "mxiter = 50 #maximum number of iterations\n",
    "accel_par = 1.0 #acceleration parameter\n",
    "hclose = 0.001 #closure criterion (the head change criterion for convergence)\n",
    "nlay = 1 #number of layers\n",
    "nrow = 7 #number of rows\n",
    "ncol = 7 #number of columns\n",
    "\n",
    "#print values to make sure they are all stored properly\n",
    "#put in quotes to make a string, .format takes whatever is in the () \n",
    "#and changes it to a float, it is then stored in the {}\n",
    "\n",
    "print('initial head: {} ft'.format(inh))\n",
    "print('hydraulic conductivity: {} ft/d'.format(hk))\n",
    "print('aquifer base: {} ft'.format(botm))\n",
    "print('storage coefficient: {}'.format(sy))\n",
    "print('grid spacing (uniform): {} ft'.format(delr))\n",
    "print('pumping rate: {} ft^3/d'.format(pr))\n",
    "print('stress period length: {} days'.format(perlen))\n",
    "print('number of time steps: {}'.format(nstp))\n",
    "print('time step expansion factor: {}'.format(tsmult))\n",
    "print('SIP iteration parameters: {}'.format(sip_it_par))\n",
    "print('maximum number of iterations: {}'.format(mxiter))\n",
    "print('accelereation parameter: {}'.format(accel_par))\n",
    "print('closure criterion: {}'.format(hclose))\n"
   ]
  },
  {
   "cell_type": "code",
   "execution_count": 4,
   "metadata": {
    "collapsed": true
   },
   "outputs": [],
   "source": [
    "#Flopy objects\n",
    "modelname = 'p14_pa' #short for problem 14 part a\n",
    "exe_name = '../MF2005.1_12/bin/mf2005.exe'\n",
    "mf = flopy.modflow.Modflow(modelname, exe_name=exe_name, model_ws = modelname)"
   ]
  },
  {
   "cell_type": "code",
   "execution_count": 5,
   "metadata": {
    "collapsed": false
   },
   "outputs": [],
   "source": [
    "#call in the discretization package\n",
    "top = 10 #an array of the top elevation of layer 1\n",
    "nper = 1 #number of periods\n",
    "dis = flopy.modflow.ModflowDis(mf, nlay, nrow, ncol, delr=delr, delc=delc,\n",
    "                               top=top, botm=botm, nper=nper, perlen=perlen, \n",
    "                               nstp=nstp, tsmult=tsmult, steady=False)"
   ]
  },
  {
   "cell_type": "code",
   "execution_count": 6,
   "metadata": {
    "collapsed": false
   },
   "outputs": [],
   "source": [
    "#call in the basic package\n",
    "ibound = np.ones((nlay, nrow, ncol))\n",
    "strt = 10\n",
    "bas = flopy.modflow.ModflowBas(mf, ibound=ibound, strt=strt)"
   ]
  },
  {
   "cell_type": "code",
   "execution_count": 7,
   "metadata": {
    "collapsed": false
   },
   "outputs": [],
   "source": [
    "#call in the layer-propery flow (LPF)\n",
    "laytyp = 1\n",
    "ipakcb = 50\n",
    "lpf = flopy.modflow.ModflowLpf(mf, hk=hk, sy=sy, laytyp=laytyp, ipakcb=ipakcb)"
   ]
  },
  {
   "cell_type": "code",
   "execution_count": 8,
   "metadata": {
    "collapsed": false
   },
   "outputs": [],
   "source": [
    "#call in the well package (WEL)\n",
    "# Remember to use zero-based layer, row, column indices!\n",
    "wel_sp1 = [[0, 0, 0, pr]]\n",
    "wel_spd = {0: wel_sp1}\n",
    "wel = flopy.modflow.ModflowWel(mf, stress_period_data=wel_spd)\n"
   ]
  },
  {
   "cell_type": "code",
   "execution_count": 9,
   "metadata": {
    "collapsed": false,
    "scrolled": true
   },
   "outputs": [],
   "source": [
    "#call in the preconditioned conjugate-gradient package (PCG) \n",
    "pcg = flopy.modflow.ModflowPcg(mf, mxiter=mxiter, hclose=hclose)"
   ]
  },
  {
   "cell_type": "code",
   "execution_count": 10,
   "metadata": {
    "collapsed": false
   },
   "outputs": [],
   "source": [
    "#call in the output control package (OC)\n",
    "oc = flopy.modflow.ModflowOc(mf, stress_period_data={(0, 0): ['save head', 'print budget', 'save budget']})"
   ]
  },
  {
   "cell_type": "code",
   "execution_count": 11,
   "metadata": {
    "collapsed": false,
    "scrolled": true
   },
   "outputs": [
    {
     "name": "stdout",
     "output_type": "stream",
     "text": [
      "[[0, 0, 3, 0.0, 200.0, -2.0], [0, 1, 3, 0.0, 200.0, -2.0], [0, 2, 3, 0.0, 200.0, -2.0], [0, 3, 3, 0.0, 200.0, -2.0], [0, 4, 3, 0.0, 200.0, -2.0], [0, 5, 3, 0.0, 200.0, -2.0], [0, 6, 3, 0.0, 200.0, -2.0]]\n"
     ]
    }
   ],
   "source": [
    "#call in the river package (RIV)\n",
    "ipakcb = 50\n",
    "riv_stage = 0.0\n",
    "#conductance is equal to hydraulic conductance, times the width of the river, times the length of the river,\n",
    "#all divided by the riverbed thickness\n",
    "riv_cond = (.1 * 20 * 100) / 1\n",
    "rbot = -2.0\n",
    "#riv_sp1 = [[0, 0, 3, riv_stage, riv_cond, rbot], \n",
    "#           [0, 1, 3, riv_stage, riv_cond, rbot], \n",
    "#           [0, 2, 3, riv_stage, riv_cond, rbot],\n",
    "#           [0, 3, 3, riv_stage, riv_cond, rbot], \n",
    "#           [0, 4, 3, riv_stage, riv_cond, rbot], \n",
    "#           [0, 5, 3, riv_stage, riv_cond, rbot], \n",
    "#           [0, 6, 3, riv_stage, riv_cond, rbot]]\n",
    "\n",
    "#or you can write it like this in just one line\n",
    "riv_sp1 = [[0, row, 3, riv_stage, riv_cond, rbot] for row in range(nrow) ]\n",
    "\n",
    "riv_spd = {0: riv_sp1}\n",
    "riv = flopy.modflow.ModflowRiv(mf, ipakcb=ipakcb, stress_period_data=riv_spd)\n",
    "print(riv_sp1)\n"
   ]
  },
  {
   "cell_type": "code",
   "execution_count": 12,
   "metadata": {
    "collapsed": false,
    "scrolled": true
   },
   "outputs": [
    {
     "data": {
      "text/plain": [
       "[[0, 0, 3, 0.0, 200.0, -2.0],\n",
       " [0, 1, 3, 0.0, 200.0, -2.0],\n",
       " [0, 2, 3, 0.0, 200.0, -2.0],\n",
       " [0, 3, 3, 0.0, 200.0, -2.0],\n",
       " [0, 4, 3, 0.0, 200.0, -2.0],\n",
       " [0, 5, 3, 0.0, 200.0, -2.0],\n",
       " [0, 6, 3, 0.0, 200.0, -2.0]]"
      ]
     },
     "execution_count": 12,
     "metadata": {},
     "output_type": "execute_result"
    }
   ],
   "source": [
    "[[0, row, 3, riv_stage, riv_cond, rbot] for row in range(nrow) ]"
   ]
  },
  {
   "cell_type": "code",
   "execution_count": 13,
   "metadata": {
    "collapsed": false
   },
   "outputs": [
    {
     "name": "stdout",
     "output_type": "stream",
     "text": [
      "warning: assuming SpatialReference units are meters\n"
     ]
    }
   ],
   "source": [
    "# Write the MODFLOW model input files\n",
    "mf.write_input()"
   ]
  },
  {
   "cell_type": "code",
   "execution_count": 14,
   "metadata": {
    "collapsed": false,
    "scrolled": true
   },
   "outputs": [
    {
     "ename": "Exception",
     "evalue": "The program ../MF2005.1_12/bin/mf2005.exe does not exist or is not executable.",
     "output_type": "error",
     "traceback": [
      "\u001b[0;31m---------------------------------------------------------------------------\u001b[0m",
      "\u001b[0;31mException\u001b[0m                                 Traceback (most recent call last)",
      "\u001b[0;32m<ipython-input-14-5085f31bd260>\u001b[0m in \u001b[0;36m<module>\u001b[0;34m()\u001b[0m\n\u001b[1;32m      1\u001b[0m \u001b[1;31m# Run the MODFLOW model\u001b[0m\u001b[1;33m\u001b[0m\u001b[1;33m\u001b[0m\u001b[0m\n\u001b[0;32m----> 2\u001b[0;31m \u001b[0msuccess\u001b[0m\u001b[1;33m,\u001b[0m \u001b[0mbuff\u001b[0m \u001b[1;33m=\u001b[0m \u001b[0mmf\u001b[0m\u001b[1;33m.\u001b[0m\u001b[0mrun_model\u001b[0m\u001b[1;33m(\u001b[0m\u001b[1;33m)\u001b[0m\u001b[1;33m\u001b[0m\u001b[0m\n\u001b[0m",
      "\u001b[0;32mC:\\Users\\Jordan\\Anaconda3\\lib\\site-packages\\flopy\\mbase.py\u001b[0m in \u001b[0;36mrun_model\u001b[0;34m(self, silent, pause, report, normal_msg)\u001b[0m\n\u001b[1;32m    896\u001b[0m         return run_model(self.exe_name, self.namefile, model_ws=self.model_ws,\n\u001b[1;32m    897\u001b[0m                          \u001b[0msilent\u001b[0m\u001b[1;33m=\u001b[0m\u001b[0msilent\u001b[0m\u001b[1;33m,\u001b[0m \u001b[0mpause\u001b[0m\u001b[1;33m=\u001b[0m\u001b[0mpause\u001b[0m\u001b[1;33m,\u001b[0m \u001b[0mreport\u001b[0m\u001b[1;33m=\u001b[0m\u001b[0mreport\u001b[0m\u001b[1;33m,\u001b[0m\u001b[1;33m\u001b[0m\u001b[0m\n\u001b[0;32m--> 898\u001b[0;31m                          normal_msg=normal_msg)\n\u001b[0m\u001b[1;32m    899\u001b[0m \u001b[1;33m\u001b[0m\u001b[0m\n\u001b[1;32m    900\u001b[0m     \u001b[1;32mdef\u001b[0m \u001b[0mload_results\u001b[0m\u001b[1;33m(\u001b[0m\u001b[0mself\u001b[0m\u001b[1;33m)\u001b[0m\u001b[1;33m:\u001b[0m\u001b[1;33m\u001b[0m\u001b[0m\n",
      "\u001b[0;32mC:\\Users\\Jordan\\Anaconda3\\lib\\site-packages\\flopy\\mbase.py\u001b[0m in \u001b[0;36mrun_model\u001b[0;34m(exe_name, namefile, model_ws, silent, pause, report, normal_msg, async, cargs)\u001b[0m\n\u001b[1;32m   1283\u001b[0m         s = 'The program {} does not exist or is not executable.'.format(\n\u001b[1;32m   1284\u001b[0m             exe_name)\n\u001b[0;32m-> 1285\u001b[0;31m         \u001b[1;32mraise\u001b[0m \u001b[0mException\u001b[0m\u001b[1;33m(\u001b[0m\u001b[0ms\u001b[0m\u001b[1;33m)\u001b[0m\u001b[1;33m\u001b[0m\u001b[0m\n\u001b[0m\u001b[1;32m   1286\u001b[0m     \u001b[1;32melse\u001b[0m\u001b[1;33m:\u001b[0m\u001b[1;33m\u001b[0m\u001b[0m\n\u001b[1;32m   1287\u001b[0m         \u001b[1;32mif\u001b[0m \u001b[1;32mnot\u001b[0m \u001b[0msilent\u001b[0m\u001b[1;33m:\u001b[0m\u001b[1;33m\u001b[0m\u001b[0m\n",
      "\u001b[0;31mException\u001b[0m: The program ../MF2005.1_12/bin/mf2005.exe does not exist or is not executable."
     ]
    }
   ],
   "source": [
    "# Run the MODFLOW model\n",
    "success, buff = mf.run_model()"
   ]
  },
  {
   "cell_type": "code",
   "execution_count": null,
   "metadata": {
    "collapsed": false
   },
   "outputs": [],
   "source": [
    "import flopy.utils.binaryfile as bf\n",
    "\n",
    "# Create the headfile object\n",
    "fname = os.path.join(modelname, 'p14_pa.hds') #\"os.path.join\" joins together the modelname and the .hds file and stores it in fname\n",
    "headobj = bf.HeadFile(fname) #create headobj and put values from fname (aka 'p1_pa.hds') inside it\n",
    "#times = headobj.get_times() #assign the headobj values to the variable \"times\"\n",
    "#print(times) #prints the time at each stress period\n",
    "\n",
    "#print hydraulic head (Table 14.2)\n",
    "ts = headobj.get_ts([[0, 0, 3]])\n",
    "print(ts)"
   ]
  },
  {
   "cell_type": "code",
   "execution_count": null,
   "metadata": {
    "collapsed": false
   },
   "outputs": [],
   "source": [
    "import pandas as pd\n",
    "table2a = pd.read_csv('../Data/table14.2.csv')\n",
    "\n",
    "table2a.columns #displays all the column names in the file\n",
    "#drops the columns that you enter into the list\n",
    "table2a.drop(['GHB (part b)', 'Drain (part c)', 'E-T (part d)', 'Constant head (part e)'], \n",
    "             axis=1, inplace=True)\n",
    "#prints out the first 5 rows into a table\n",
    "table2a.head()"
   ]
  },
  {
   "cell_type": "code",
   "execution_count": null,
   "metadata": {
    "collapsed": false
   },
   "outputs": [],
   "source": [
    "#prints the whole dataframe instead of just the first 5 rows\n",
    "print(table2a)"
   ]
  },
  {
   "cell_type": "markdown",
   "metadata": {},
   "source": [
    "### Table 14.2. Hydraulic head at node (1,4) for part a representing the third type boundary condition\n",
    "\n",
    "Check your results to make sure they match with the table from the book\n",
    "\n",
    "| Time Step | Elapsed Time (days) | River (part a) |\n",
    "|-----------|---------------------|----------------|\n",
    "| 1         | 1.955               | 8.51           |\n",
    "| 2         | 4.301               | 7.54           |\n",
    "| 3         | 7.117               | 6.716          |\n",
    "| 4         | 10.495              | 5.926          |\n",
    "| 5         | 14.549              | 5.129          |\n",
    "| 6         | 19.414              | 4.313          |\n",
    "| 7         | 25.252              | 3.481          |\n",
    "| 8         | 32.258              | 2.643          |\n",
    "| 9         | 40.655              | 1.816          |\n",
    "| 10        | 50.753              | 1.023          |\n",
    "| 11        | 62.858              | 0.286          |\n",
    "| 12        | 77.385              | -0.371         |\n",
    "| 13        | 94.817              | -0.93          |\n",
    "| 14        | 115.74              | -1.382         |\n",
    "| 15        | 140.84              | -1.727         |\n",
    "| 16        | 170.96              | -1.972         |\n",
    "| 17        | 207.11              | -2.175         |\n",
    "| 18        | 250.49              | -2.337         |\n",
    "| 19        | 302.54              | -2.448         |\n",
    "| 20        | 365                 | -2.52          |"
   ]
  },
  {
   "cell_type": "code",
   "execution_count": null,
   "metadata": {
    "collapsed": false,
    "scrolled": true
   },
   "outputs": [],
   "source": [
    "#print discharge values (Table 14.3)\n",
    "fname = os.path.join(modelname, 'p14_pa.cbc')\n",
    "cbb = flopy.utils.CellBudgetFile(fname)\n",
    "frf = cbb.get_data(text='FLOW RIGHT FACE')[0]\n",
    "fff = cbb.get_data(text='FLOW FRONT FACE')[0]\n",
    "riv_flow = cbb.get_data(text='RIVER LEAKAGE') #create an array/for loop to get out first value of every step\n",
    "#cbb.list_records()\n",
    "\n",
    "#create new list\n",
    "riv_list=[]\n",
    "#dtype tells you what data type riv_flow is\n",
    "print (riv_flow[0].dtype)\n",
    "#create for loop to store only the first value of each time step from riv_flow into riv_list\n",
    "for riv in riv_flow:\n",
    "    riv_list.append(riv['q'][0])\n",
    "    \n",
    "print(riv_list)"
   ]
  },
  {
   "cell_type": "code",
   "execution_count": null,
   "metadata": {
    "collapsed": false
   },
   "outputs": [],
   "source": [
    "import pandas as pd\n",
    "table3a = pd.read_csv('../Data/table14.3.csv')\n",
    "\n",
    "table3a.columns #displays all the column names in the file\n",
    "#drops the columns that you enter into the list\n",
    "table3a.drop(['GHB (part b)', 'Drain (part c)',\n",
    "       'E-T (part d)', 'Constant head (part e)'], axis=1, inplace=True)\n",
    "#prints out the first 5 rows into a table\n",
    "table3a.head()"
   ]
  },
  {
   "cell_type": "code",
   "execution_count": null,
   "metadata": {
    "collapsed": false
   },
   "outputs": [],
   "source": [
    "#prints the whole dataframe instead of just the first 5 rows\n",
    "print(table3a)"
   ]
  },
  {
   "cell_type": "markdown",
   "metadata": {},
   "source": [
    "### Table 14.3. Discharge for part a representing the third type boundary condition\n",
    "\n",
    "Check your results to make sure they match with the table from the book\n",
    "\n",
    "| Time Step | Elapsed Time (days) | River (part a) |\n",
    "|-----------|---------------------|----------------|\n",
    "| 1         | 1.955               | -1702.071      |\n",
    "| 2         | 4.301               | -1507.91       |\n",
    "| 3         | 7.117               | -1343.224      |\n",
    "| 4         | 10.495              | -1185.109      |\n",
    "| 5         | 14.549              | -1025.712      |\n",
    "| 6         | 19.414              | -862.6         |\n",
    "| 7         | 25.252              | -696.128       |\n",
    "| 8         | 32.258              | -528.506       |\n",
    "| 9         | 40.655              | -363.187       |\n",
    "| 10        | 50.753              | -204.534       |\n",
    "| 11        | 62.858              | -57.278        |\n",
    "| 12        | 77.385              | 74.103         |\n",
    "| 13        | 94.817              | 186.031        |\n",
    "| 14        | 115.74              | 276.494        |\n",
    "| 15        | 140.84              | 345.353        |\n",
    "| 16        | 170.96              | 394.344        |\n",
    "| 17        | 207.11              | 400            |\n",
    "| 18        | 250.49              | 400            |\n",
    "| 19        | 302.54              | 400            |\n",
    "| 20        | 365                 | 400            |"
   ]
  },
  {
   "cell_type": "code",
   "execution_count": null,
   "metadata": {
    "collapsed": false,
    "scrolled": false
   },
   "outputs": [],
   "source": [
    "fig = plt.figure(figsize=(10, 10))\n",
    "ax = fig.add_subplot(1, 1, 1, aspect='equal')\n",
    "ymax = 7\n",
    "ymin = 0\n",
    "xmax = ymax #makes xmax equal to ymax which is equal to the sum of the list\n",
    "xmin = 0\n",
    "x = 0\n",
    "y = 0\n",
    "\n",
    "plt.plot([xmin, xmin], [ymin, ymax], 'gray') #plots the first column line. Must be outside of the loop\n",
    "\n",
    "for dx in range(0,7): #dx will go through the values in delr one by one in the loop\n",
    "    x = x + 1 #add the dx value to x, which is zero, and then store that new value into x\n",
    "    plt.plot([x, x], [ymax, ymin], 'gray') #plot that point and then loop back to top\n",
    "\n",
    "    #repeat the process above but with the y values to make the rows\n",
    "plt.plot([xmin, xmax], [ymin, ymin], 'gray') #plots the first row line. Must be outside of the loop\n",
    "\n",
    "for dy in range(0,7): \n",
    "    y = y + 1\n",
    "    plt.plot([xmin, xmax], [y, y], 'gray')\n",
    "\n",
    "#create well in top left corner (1, 1)\n",
    "def plot_well(xmin, ymax, sym):\n",
    "    plt.plot(xmin, ymax, sym)\n",
    "plot_well(xmin, ymax, sym='ro')\n",
    "\n",
    "#create river down mid of col 4\n",
    "def plot_riv1(xmin, ymax, sym):\n",
    "    plt.plot(xmin, ymax, sym)\n",
    "plot_well(xmin + 3.5, ymax - .5, sym='b|')\n",
    "\n",
    "def plot_riv1(xmin, ymax, sym):\n",
    "    plt.plot(xmin, ymax, sym)\n",
    "plot_well(xmin + 3.5, ymax - 1.5, sym='b|')\n",
    "\n",
    "def plot_riv1(xmin, ymax, sym):\n",
    "    plt.plot(xmin, ymax, sym)\n",
    "plot_well(xmin + 3.5, ymax - 2.5, sym='b|')\n",
    "\n",
    "def plot_riv1(xmin, ymax, sym):\n",
    "    plt.plot(xmin, ymax, sym)\n",
    "plot_well(xmin + 3.5, ymax - 3.5, sym='b|')\n",
    "\n",
    "def plot_riv1(xmin, ymax, sym):\n",
    "    plt.plot(xmin, ymax, sym)\n",
    "plot_well(xmin + 3.5, ymax - 4.5, sym='b|')\n",
    "\n",
    "def plot_riv1(xmin, ymax, sym):\n",
    "    plt.plot(xmin, ymax, sym)\n",
    "plot_well(xmin + 3.5, ymax - 5.5, sym='b|')\n",
    "\n",
    "def plot_riv1(xmin, ymax, sym):\n",
    "    plt.plot(xmin, ymax, sym)\n",
    "plot_well(xmin + 3.5, ymax - 6.5, sym='b|')"
   ]
  },
  {
   "cell_type": "code",
   "execution_count": null,
   "metadata": {
    "collapsed": false
   },
   "outputs": [],
   "source": [
    "#plot arrows (quivers) that point in the direction of water flowb\n",
    "fig = plt.figure(figsize=(10, 10))\n",
    "ax = fig.add_subplot(1, 1, 1, aspect='equal')\n",
    "\n",
    "modelmap = flopy.plot.ModelMap(model=mf)\n",
    "quadmesh = modelmap.plot_ibound()\n",
    "quiver = modelmap.plot_discharge(frf, fff, color='b')\n",
    "linecollection = modelmap.plot_grid()\n",
    "modelmap.plot_bc(\"WEL\")"
   ]
  },
  {
   "cell_type": "code",
   "execution_count": null,
   "metadata": {
    "collapsed": false
   },
   "outputs": [],
   "source": [
    "#show plot_array() and plot_discharge()\n",
    "fig = plt.figure(figsize=(10, 10))\n",
    "ax = fig.add_subplot(2, 1, 1)\n",
    "modelxsect = flopy.plot.ModelCrossSection(model=mf, ax=ax, line={'Column':6})\n",
    "linecollection = modelxsect.plot_grid()\n",
    "quiver = modelxsect.plot_discharge(frf, fff, hstep=1, normalize=False, color='b', headwidth=3, headaxislength=4) \n",
    "patches = modelxsect.plot_ibound()"
   ]
  },
  {
   "cell_type": "code",
   "execution_count": null,
   "metadata": {
    "collapsed": false
   },
   "outputs": [],
   "source": [
    "# Plot the model bottom array\n",
    "a = mf.dis.botm.array\n",
    "\n",
    "fig = plt.figure(figsize=(10, 10))\n",
    "ax = fig.add_subplot(1, 1, 1, aspect='equal')\n",
    "ax.set_title('Model Elevations')\n",
    "modelmap = flopy.plot.ModelMap(model=mf)\n",
    "quadmesh = modelmap.plot_array(a)\n",
    "linecollection = modelmap.plot_grid()\n",
    "cb = plt.colorbar(quadmesh, shrink=.8)\n",
    "modelmap.plot_bc(\"WEL\")"
   ]
  },
  {
   "cell_type": "code",
   "execution_count": null,
   "metadata": {
    "collapsed": false,
    "scrolled": true
   },
   "outputs": [],
   "source": [
    "fname = os.path.join(modelname, 'p14_pa.cbc')\n",
    "#headobj = bf.HeadFile(fname)\n",
    "#headobj = flopy.utils.HeadFile(fname)\n",
    "head = headobj.get_data()\n",
    "levels = np.arange(10, 30, .5)\n",
    "\n",
    "fig = plt.figure(figsize=(10, 10))\n",
    "\n",
    "#plot_array\n",
    "ax = fig.add_subplot(1, 2, 1, aspect='equal')\n",
    "ax.set_title('plot_array()')\n",
    "modelmap = flopy.plot.ModelMap(model=mf)\n",
    "quadmesh = modelmap.plot_ibound()\n",
    "quadmesh = modelmap.plot_array(head, masked_values=[999.], alpha=0.5)\n",
    "modelmap.plot_bc(\"WEL\")\n",
    "linecollection = modelmap.plot_grid()\n",
    "\n",
    "#contour_array\n",
    "ax = fig.add_subplot(1, 2, 2, aspect='equal')\n",
    "ax.set_title('contour_array()')\n",
    "modelmap = flopy.plot.ModelMap(model=mf)\n",
    "quadmesh = modelmap.plot_ibound()\n",
    "modelmap.plot_bc(\"WEL\")\n",
    "contour_set = modelmap.contour_array(head, masked_values=[999.], levels=levels)\n",
    "linecollection = modelmap.plot_grid()"
   ]
  },
  {
   "cell_type": "code",
   "execution_count": null,
   "metadata": {
    "collapsed": false
   },
   "outputs": [],
   "source": [
    "fig = plt.figure(figsize=(10, 10))\n",
    "ax = fig.add_subplot(1, 1, 1, aspect='equal')\n",
    "modelmap = flopy.plot.ModelMap(model=mf)\n",
    "quadmesh = modelmap.plot_ibound()\n",
    "linecollection = modelmap.plot_grid()\n",
    "riv = modelmap.plot_bc('RIV', color='b', plotAll=True)\n",
    "quadmesh = modelmap.plot_bc('WEL', kper=1, plotAll=True)\n",
    "contour_set = modelmap.contour_array(head, levels=np.arange(np.min(0),np.max(700),0.5), colors='g')\n",
    "plt.clabel(contour_set, inline=1, fontsize=14)"
   ]
  },
  {
   "cell_type": "code",
   "execution_count": null,
   "metadata": {
    "collapsed": false
   },
   "outputs": [],
   "source": [
    "# Contour the model bottom array\n",
    "a = mf.dis.top.array\n",
    "\n",
    "fig = plt.figure(figsize=(10, 10))\n",
    "ax = fig.add_subplot(1, 1, 1, aspect='equal')\n",
    "#ax.set_title('Model Bottom Elevations')\n",
    "modelmap = flopy.plot.ModelMap(model=mf)\n",
    "#contour_set = modelmap.contour_array(a)\n",
    "linecollection = modelmap.plot_grid()"
   ]
  },
  {
   "cell_type": "code",
   "execution_count": null,
   "metadata": {
    "collapsed": false
   },
   "outputs": [],
   "source": [
    "# Plot the drawdown versus time\n",
    "idx = (0, 0, 0) #(nlay, nrow, ncol) *remember you have to subtract 1 from the original numbers for python - (1, 10, 12)*\n",
    "ts = headobj.get_ts(idx)\n",
    "plt.subplot(1, 1, 1)\n",
    "ttl = 'Head at cell ({0},{1},{2})'.format(idx[0] + 1, idx[1] + 1, idx[2] + 1) #we are adding 1 to each part of idx to that it prints out the real values and not the code values\n",
    "plt.title(ttl) #prints/plots title\n",
    "plt.xlabel('time (days)') #labels the x-axis\n",
    "plt.ylabel('drawdown') #labels the y-axis\n",
    "#here we do \"0-ts...\" in order to show the drawdown of \n",
    "plt.plot(ts[:, 0], 0-ts[:, 1], 'bo-') #(x, y, color/type of line)\n",
    "plt.xlim(0, ts[:, 0].max())"
   ]
  },
  {
   "cell_type": "code",
   "execution_count": null,
   "metadata": {
    "collapsed": false
   },
   "outputs": [],
   "source": [
    "# Plot the head versus time\n",
    "idx = (0, 0, 0)\n",
    "ts = headobj.get_ts(idx)\n",
    "plt.subplot(1, 1, 1)\n",
    "ttl = 'Head at cell ({0},{1},{2})'.format(idx[0] + 1, idx[1] + 1, idx[2] + 1)\n",
    "plt.title(ttl)\n",
    "plt.xlabel('time (days)')\n",
    "plt.ylabel('head (ft)')\n",
    "plt.plot(ts[:, 0], ts[:, 1], 'ro-')\n",
    "plt.xlim(0, ts[:, 0].max())"
   ]
  },
  {
   "cell_type": "code",
   "execution_count": null,
   "metadata": {
    "collapsed": true
   },
   "outputs": [],
   "source": []
  },
  {
   "cell_type": "code",
   "execution_count": null,
   "metadata": {
    "collapsed": true
   },
   "outputs": [],
   "source": []
  }
 ],
 "metadata": {
  "kernelspec": {
   "display_name": "Python 3",
   "language": "python",
   "name": "python3"
  },
  "language_info": {
   "codemirror_mode": {
    "name": "ipython",
    "version": 3
   },
   "file_extension": ".py",
   "mimetype": "text/x-python",
   "name": "python",
   "nbconvert_exporter": "python",
   "pygments_lexer": "ipython3",
   "version": "3.6.0"
  }
 },
 "nbformat": 4,
 "nbformat_minor": 2
}
