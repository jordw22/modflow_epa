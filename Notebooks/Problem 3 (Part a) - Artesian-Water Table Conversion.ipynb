{
 "cells": [
  {
   "cell_type": "markdown",
   "metadata": {},
   "source": [
    "# PROBLEM 3: Artesian-water table conversion\n"
   ]
  },
  {
   "cell_type": "markdown",
   "metadata": {},
   "source": [
    "### INTRODUCTION\n",
    "_When a confined aquifer is heavily stressed, its potentiometric surface may be drawn down sufficiently such that the aquifer begins to dewater, or behave as a water-table aquifer. This conversion takes place when the potentiometric surface falls below the top of the aquifer. The primary change that takes place in a situation such as this is with the storage coefficient (s); under confined conditions water is derived from pressure changes and S is fairly small, while under water-table conditions water is derived from dewatering pore spaces and S is usually fairly large. A secondary change is that if drawdown is sufficient to cause changes in saturated thickness, the transmissivity of the aquifer will be reduced. MODFLOW has the capability to model both these effects. This problem demonstrates the physical process of the conversion, how it is implemented in MODFLOW simulations, and compares the numerical results to an analytical solution._\n"
   ]
  },
  {
   "cell_type": "markdown",
   "metadata": {},
   "source": [
    "### PROBLEM STATEMENT AND DATA\n",
    "_The problem is essentially the same as the example presented by Moench and Prickett (1972) who derived an analytical solution to the artesian-water-table conversion problem. The assumptions inherent in the Theis solution are also a part of this solution. Of particular interest to this problem, the thickness of the aquifer is assumed to be such that the dewatering does not significantly reduce the aquifer transmissivity, all flow lines in the water table region are assumed horizontal, and water is released instantaneously from storage. The model domain is assumed to be effectively infinite; the grid is therefore extended to where the effects of the stress are negligible.\n",
    "A fully penetrating well located at the center of the aquifer pumps at a constant rate. The potentiometric surface of the aquifer is monitored with time at an_ [observation well](https://github.com/jordw22/modflow_epa/blob/master/terms%20and%20definitions.md#o) _1000 ft from the pumping well. Specific details on the problem are given in Table 3.1 and are from Moench and Prickett (1972)._\n"
   ]
  },
  {
   "cell_type": "markdown",
   "metadata": {},
   "source": [
    "### Part a)\n",
    "_Represent the entire aquifer domain by using the grid spacing shown in Table 3.2. Place the well at_ [node](https://github.com/jordw22/modflow_epa/blob/master/terms%20and%20definitions.md#n) _1,1, and use one-fourth of the well discharge given in Table 3.1, because only 1/4 of the aquifer domain is modeled. Place the aquifer top at -1 ft. Use layer type 2 (LAYCON) so that the conversion only involves a change in storage coefficient. Run the model and note drawdown with time at a point 1000 ft from the pumping well._"
   ]
  },
  {
   "cell_type": "markdown",
   "metadata": {},
   "source": [
    "### Table 3.2 Grid spacing (ft) used in Problem 3\n",
    "\n",
    "| Row number i (=column number, j) | DELC(i) (=DELR(j)) |\n",
    "|----------------------------------|--------------------|\n",
    "| 1                                | 10                 |\n",
    "| 2                                | 15                 |\n",
    "| 3                                | 20                 |\n",
    "| 4                                | 30                 |\n",
    "| 5                                | 50                 |\n",
    "| 6                                | 70                 |\n",
    "| 7                                | 100                |\n",
    "| 8                                | 150                |\n",
    "| 9                                | 200                |\n",
    "| 10                               | 220                |\n",
    "| 11                               | 280                |\n",
    "| 12                               | 300                |\n",
    "| 13                               | 400                |\n",
    "| 14                               | 600                |\n",
    "| 15                               | 800                |\n",
    "| 16                               | 1000               |\n",
    "| 17                               | 1500               |\n",
    "| 18                               | 2000               |\n",
    "| 19                               | 3000               |\n",
    "| 20                               | 4000               |\n",
    "| 21                               | 6000               |\n",
    "| 22                               | 8000               |\n",
    "| 23                               | 10000              |\n",
    "| 24                               | 15000              |\n",
    "| 25                               | 20000              |\n",
    "| 26                               | 30000              |"
   ]
  },
  {
   "cell_type": "code",
   "execution_count": 1,
   "metadata": {
    "collapsed": false
   },
   "outputs": [
    {
     "name": "stdout",
     "output_type": "stream",
     "text": [
      "3.6.0 |Anaconda 4.3.1 (64-bit)| (default, Dec 23 2016, 11:57:41) [MSC v.1900 64 bit (AMD64)]\n",
      "numpy version: 1.11.3\n",
      "matplotlib version: 2.0.0\n",
      "flopy version: 3.2.6\n"
     ]
    }
   ],
   "source": [
    "#Import and modules/packages that we need to work with\n",
    "%matplotlib inline\n",
    "import os\n",
    "import sys\n",
    "import platform\n",
    "import numpy as np\n",
    "import matplotlib as mpl\n",
    "import matplotlib.pyplot as plt\n",
    "import pandas as pd\n",
    "import flopy\n",
    "import csv\n",
    "\n",
    "print(sys.version)\n",
    "print('numpy version: {}'.format(np.__version__))\n",
    "print('matplotlib version: {}'.format(mpl.__version__))\n",
    "print('flopy version: {}'.format(flopy.__version__))"
   ]
  },
  {
   "cell_type": "code",
   "execution_count": 2,
   "metadata": {
    "collapsed": false
   },
   "outputs": [
    {
     "name": "stdout",
     "output_type": "stream",
     "text": [
      "C:\\VT\\USGS Internship\\modflow_epa.git\\Notebooks\n",
      "10.0\n",
      "15.0\n",
      "20.0\n",
      "30.0\n",
      "50.0\n",
      "70.0\n",
      "100.0\n",
      "150.0\n",
      "200.0\n",
      "220.0\n",
      "280.0\n",
      "300.0\n",
      "400.0\n",
      "600.0\n",
      "800.0\n",
      "1000.0\n",
      "1500.0\n",
      "2000.0\n",
      "3000.0\n",
      "4000.0\n",
      "6000.0\n",
      "8000.0\n",
      "10000.0\n",
      "15000.0\n",
      "20000.0\n",
      "30000.0\n",
      "[10.0, 15.0, 20.0, 30.0, 50.0, 70.0, 100.0, 150.0, 200.0, 220.0, 280.0, 300.0, 400.0, 600.0, 800.0, 1000.0, 1500.0, 2000.0, 3000.0, 4000.0, 6000.0, 8000.0, 10000.0, 15000.0, 20000.0, 30000.0]\n"
     ]
    }
   ],
   "source": [
    "print(os.getcwd())\n",
    "delr = [] #creates an empty list\n",
    "f = open('../Data/table3.2.csv') #opens the csv file; the two periods (.) means that you are goin backwards into the folders.\n",
    "\n",
    "for i,line in enumerate(f):\n",
    "    if i == 0: \n",
    "        continue     \n",
    "    linelist = line.strip().split(',') \n",
    "    \n",
    "    value = float(linelist[1]) #changes the values in the list to floats\n",
    "    print(value) #prints the values\n",
    "    delr.append(value) #puts the floats into the empty list, delr \n",
    "    \n",
    "print(delr) #prints the list"
   ]
  },
  {
   "cell_type": "code",
   "execution_count": 3,
   "metadata": {
    "collapsed": false
   },
   "outputs": [
    {
     "name": "stdout",
     "output_type": "stream",
     "text": [
      "[  1.00000000e+01   1.50000000e+01   2.00000000e+01   3.00000000e+01\n",
      "   5.00000000e+01   7.00000000e+01   1.00000000e+02   1.50000000e+02\n",
      "   2.00000000e+02   2.20000000e+02   2.80000000e+02   3.00000000e+02\n",
      "   4.00000000e+02   6.00000000e+02   8.00000000e+02   1.00000000e+03\n",
      "   1.50000000e+03   2.00000000e+03   3.00000000e+03   4.00000000e+03\n",
      "   6.00000000e+03   8.00000000e+03   1.00000000e+04   1.50000000e+04\n",
      "   2.00000000e+04   3.00000000e+04]\n",
      "103745.0\n"
     ]
    },
    {
     "data": {
      "image/png": "[encoded data removed]",
      "text/plain": [
       "<matplotlib.figure.Figure at 0x1b5125c2908>"
      ]
     },
     "metadata": {},
     "output_type": "display_data"
    }
   ],
   "source": [
    "fig = plt.figure(figsize=(10, 10))\n",
    "ax = fig.add_subplot(1, 1, 1, aspect='equal')\n",
    "delr_array = np.array(delr) #changes delr values from float to array\n",
    "print (delr_array) #prints those values\n",
    "print (delr_array.sum()) #prints the sum of those values\n",
    "ymax = delr_array.sum() #assigns the sum of the list to ymax\n",
    "ymin = 0\n",
    "xmax = ymax #makes xmax equal to ymax which is equal to the sum of the list\n",
    "xmin = 0\n",
    "x = 0\n",
    "y = 0\n",
    "\n",
    "plt.plot([xmin, xmin], [ymin, ymax], 'b-') #plots the first column line. Must be outside of the loop\n",
    "\n",
    "for dx in delr: #dx will go through the values in delr one by one in the loop\n",
    "    x = x + dx #add the dx value to x, which is zero, and then store that new value into x\n",
    "    plt.plot([x, x], [ymax, ymin], 'b-') #plot that point and then loop back to top\n",
    "\n",
    "    #repeat the process above but with the y values to make the rows\n",
    "plt.plot([xmin, xmax], [ymin, ymin], 'g-') #plots the first row line. Must be outside of the loop\n",
    "\n",
    "for dy in delr: \n",
    "    y = y + dy\n",
    "    plt.plot([xmin, xmax], [y, y], 'g-')\n",
    "\n",
    "\n",
    "def plot_well(xmin, ymax, sym):\n",
    "    plt.plot(xmin, ymax, sym)\n",
    "plot_well(xmin, ymax, sym='ro')"
   ]
  },
  {
   "cell_type": "markdown",
   "metadata": {},
   "source": [
    "### Table 3.1. Parameters used in Problem 3\n",
    "\n",
    "| Variable | Value  |\n",
    "|----------------------------|-----------------|\n",
    "| Initial head                   | 0.0 ft           |\n",
    "| Transmissivity                 | 2673.8 $\\frac{ft^2}{d}$    |\n",
    "| Storage coefficient (confined) | 0.0001           |\n",
    "| Specific yield (unconfined)    | 0.1              |\n",
    "| Pumping rate                   | 33636 $\\frac{ft^3}{d}$     |\n",
    "| Stress period length           | 100 days         |\n",
    "| Number of time steps           | 25               |\n",
    "| Time step expansion factor     | 1.44             |\n",
    "| Iteration parameters           | 5                |\n",
    "| Closure criterion              | 0.001            |\n",
    "| Maximum number iterations      | 50               |"
   ]
  },
  {
   "cell_type": "code",
   "execution_count": 26,
   "metadata": {
    "collapsed": false
   },
   "outputs": [
    {
     "name": "stdout",
     "output_type": "stream",
     "text": [
      "initial head: 0.0\n",
      "transmissivity: 2673.8 ft^2/d\n",
      "storage coefficient (confined): 0.0001\n",
      "specific yield (unconfined): 0.1\n",
      "pumping rate: 33636 ft^3/d\n",
      "final time: 100 s\n",
      "number of time steps: 25\n",
      "time step expansion factor: 1.44\n",
      "iteration parameters: 5\n",
      "closure criterion: 0.001\n",
      "maximum number of iterations: 50\n"
     ]
    }
   ],
   "source": [
    "#Store the values of each parameter into separate variables\n",
    "inh = 0.0 #initial head\n",
    "trans = 2673.8 #transmissivity (is equal to hk*(top-botm))\n",
    "ss = 0.0001 #storage coefficient\n",
    "sy = 0.1 #specific yield\n",
    "pr = 33636 #pumping rate\n",
    "perlen = 100 #final time (period length)\n",
    "nstp = 25 #number of time steps\n",
    "tsmult = 1.44 #time step expansion factor (time step multiplier)\n",
    "it = 5 #iteration parameters\n",
    "hclose = 0.001 #closure criterion (the head change criterion for convergence)\n",
    "mxiter = 50 #maximum number of iterations\n",
    "\n",
    "#print values to make sure they are all stored properly\n",
    "#put in quotes to make a string, .format takes whatever is in the () \n",
    "#and changes it to a float, it is then stored in the {}\n",
    "\n",
    "print('initial head: {}'.format(inh))\n",
    "print('transmissivity: {} ft^2/d'.format(trans))\n",
    "print('storage coefficient (confined): {}'.format(ss))\n",
    "print('specific yield (unconfined): {}'.format(sy))\n",
    "print('pumping rate: {} ft^3/d'.format(pr))\n",
    "print('final time: {} s'.format(perlen))\n",
    "print('number of time steps: {}'.format(nstp))\n",
    "print('time step expansion factor: {}'.format(tsmult))\n",
    "print('iteration parameters: {}'.format(it))\n",
    "print('closure criterion: {}'.format(hclose))\n",
    "print('maximum number of iterations: {}'.format(mxiter))"
   ]
  },
  {
   "cell_type": "code",
   "execution_count": 27,
   "metadata": {
    "collapsed": true
   },
   "outputs": [],
   "source": [
    "#Flopy objects\n",
    "modelname = 'p3_pa' #short for problem 3 part a\n",
    "exe_name = '../MF2005.1_12/bin/mf2005.exe'\n",
    "model_ws = 'temp'\n",
    "mf = flopy.modflow.Modflow(modelname, exe_name=exe_name, model_ws = model_ws)"
   ]
  },
  {
   "cell_type": "code",
   "execution_count": 29,
   "metadata": {
    "collapsed": false
   },
   "outputs": [
    {
     "name": "stdout",
     "output_type": "stream",
     "text": [
      "WARNING: unit 11 of package DIS already in use\n",
      "****Warning -- two packages of the same type:  <class 'flopy.modflow.mfdis.ModflowDis'> <class 'flopy.modflow.mfdis.ModflowDis'>\n",
      "replacing existing Package...\n"
     ]
    }
   ],
   "source": [
    "#call in the discretization package (DIS)\n",
    "delr = delr\n",
    "delc = delr #set delr values equal to delc\n",
    "top = -1 #an array of the top elevation of layer 1\n",
    "botm = -2 #an array of the bottom elevation of layer 1\n",
    "nper = 1 #number of periods\n",
    "nlay = 1\n",
    "nrow = 26\n",
    "ncol = 26\n",
    "dis = flopy.modflow.ModflowDis(mf, nlay, nrow, ncol, delr=delr, delc=delc,\n",
    "                               top=top, botm=botm, nper=nper, perlen=perlen, \n",
    "                               nstp=nstp, tsmult=tsmult, steady=False)"
   ]
  },
  {
   "cell_type": "code",
   "execution_count": 30,
   "metadata": {
    "collapsed": false
   },
   "outputs": [],
   "source": [
    "#call in the basic package (BAS)\n",
    "ibound = np.ones((nlay, nrow, ncol))\n",
    "strt = inh\n",
    "bas = flopy.modflow.ModflowBas(mf, ibound=ibound, strt=strt)"
   ]
  },
  {
   "cell_type": "code",
   "execution_count": 31,
   "metadata": {
    "collapsed": false
   },
   "outputs": [
    {
     "name": "stdout",
     "output_type": "stream",
     "text": [
      "8409.0\n",
      "[[0, 0, 0, -8409.0]]\n"
     ]
    }
   ],
   "source": [
    "#call in the well package (WEL)\n",
    "quarter_pr = pr * (1/4) #takes the pumping rate and divides it by 4 and stores value into quarter_pr\n",
    "print(quarter_pr)\n",
    "# Remember to use zero-based layer, row, column indices!\n",
    "wel_sp1 = [[0, 0, 0, -quarter_pr]]\n",
    "stress_period_data = {0: wel_sp1}\n",
    "wel = flopy.modflow.ModflowWel(mf, stress_period_data=stress_period_data)\n",
    "print(wel_sp1)"
   ]
  },
  {
   "cell_type": "code",
   "execution_count": 32,
   "metadata": {
    "collapsed": false
   },
   "outputs": [],
   "source": [
    "#call in the preconditioned conjugate-gradient package (PCG) \n",
    "pcg = flopy.modflow.ModflowPcg(mf, mxiter=mxiter, hclose=hclose)"
   ]
  },
  {
   "cell_type": "code",
   "execution_count": 33,
   "metadata": {
    "collapsed": false
   },
   "outputs": [],
   "source": [
    "#call in the layer-propery flow (LPF)\n",
    "hk = trans\n",
    "laytyp = 2\n",
    "lpf = flopy.modflow.ModflowLpf(mf, hk=hk, ss=ss, sy=sy, laytyp=laytyp)"
   ]
  },
  {
   "cell_type": "code",
   "execution_count": 34,
   "metadata": {
    "collapsed": false
   },
   "outputs": [],
   "source": [
    "#call in the output control package (OC)\n",
    "oc = flopy.modflow.ModflowOc(mf)"
   ]
  },
  {
   "cell_type": "code",
   "execution_count": 35,
   "metadata": {
    "collapsed": false
   },
   "outputs": [
    {
     "name": "stdout",
     "output_type": "stream",
     "text": [
      "warning: assuming SpatialReference units are meters\n"
     ]
    }
   ],
   "source": [
    "# Write the MODFLOW model input files\n",
    "mf.write_input()"
   ]
  },
  {
   "cell_type": "code",
   "execution_count": 36,
   "metadata": {
    "collapsed": false
   },
   "outputs": [
    {
     "name": "stdout",
     "output_type": "stream",
     "text": [
      "FloPy is using the following executable to run the model: ../MF2005.1_12/bin/mf2005.exe\n",
      "\n",
      "                                  MODFLOW-2005     \n",
      "    U.S. GEOLOGICAL SURVEY MODULAR FINITE-DIFFERENCE GROUND-WATER FLOW MODEL\n",
      "                             Version 1.12.00 2/3/2017                        \n",
      "\n",
      " Using NAME file: p3_pa.nam \n",
      " Run start date and time (yyyy/mm/dd hh:mm:ss): 2017/08/17 10:01:23\n",
      "\n",
      " Solving:  Stress period:     1    Time step:     1    Ground-Water Flow Eqn.\n",
      " Solving:  Stress period:     1    Time step:     2    Ground-Water Flow Eqn.\n",
      " Solving:  Stress period:     1    Time step:     3    Ground-Water Flow Eqn.\n",
      " Solving:  Stress period:     1    Time step:     4    Ground-Water Flow Eqn.\n",
      " Solving:  Stress period:     1    Time step:     5    Ground-Water Flow Eqn.\n",
      " Solving:  Stress period:     1    Time step:     6    Ground-Water Flow Eqn.\n",
      " Solving:  Stress period:     1    Time step:     7    Ground-Water Flow Eqn.\n",
      " Solving:  Stress period:     1    Time step:     8    Ground-Water Flow Eqn.\n",
      " Solving:  Stress period:     1    Time step:     9    Ground-Water Flow Eqn.\n",
      " Solving:  Stress period:     1    Time step:    10    Ground-Water Flow Eqn.\n",
      " Solving:  Stress period:     1    Time step:    11    Ground-Water Flow Eqn.\n",
      " Solving:  Stress period:     1    Time step:    12    Ground-Water Flow Eqn.\n",
      " Solving:  Stress period:     1    Time step:    13    Ground-Water Flow Eqn.\n",
      " Solving:  Stress period:     1    Time step:    14    Ground-Water Flow Eqn.\n",
      " Solving:  Stress period:     1    Time step:    15    Ground-Water Flow Eqn.\n",
      " Solving:  Stress period:     1    Time step:    16    Ground-Water Flow Eqn.\n",
      " Solving:  Stress period:     1    Time step:    17    Ground-Water Flow Eqn.\n",
      " Solving:  Stress period:     1    Time step:    18    Ground-Water Flow Eqn.\n",
      " Solving:  Stress period:     1    Time step:    19    Ground-Water Flow Eqn.\n",
      " Solving:  Stress period:     1    Time step:    20    Ground-Water Flow Eqn.\n",
      " Solving:  Stress period:     1    Time step:    21    Ground-Water Flow Eqn.\n",
      " Solving:  Stress period:     1    Time step:    22    Ground-Water Flow Eqn.\n",
      " Solving:  Stress period:     1    Time step:    23    Ground-Water Flow Eqn.\n",
      " Solving:  Stress period:     1    Time step:    24    Ground-Water Flow Eqn.\n",
      " Solving:  Stress period:     1    Time step:    25    Ground-Water Flow Eqn.\n",
      " Run end date and time (yyyy/mm/dd hh:mm:ss): 2017/08/17 10:01:23\n",
      " Elapsed run time:  0.016 Seconds\n",
      "\n",
      "  Normal termination of simulation\n"
     ]
    }
   ],
   "source": [
    "# Run the MODFLOW model\n",
    "success, buff = mf.run_model()"
   ]
  },
  {
   "cell_type": "code",
   "execution_count": 37,
   "metadata": {
    "collapsed": false
   },
   "outputs": [],
   "source": [
    "import flopy.utils.binaryfile as bf\n",
    "\n",
    "# Create the headfile object\n",
    "fname = os.path.join(model_ws, 'p3_pa.hds') #\"os.path.join\" joins together the model_ws and the .hds file and stores it in fname\n",
    "headobj = bf.HeadFile(fname) #create headobj and put values from fname (aka 'p3_pa.hds') inside it\n",
    "#times = headobj.get_times() #assign the headobj values to the variable \"times\"\n",
    "#print(times) #prints the time at each stress period"
   ]
  },
  {
   "cell_type": "code",
   "execution_count": 38,
   "metadata": {
    "collapsed": false
   },
   "outputs": [
    {
     "name": "stdout",
     "output_type": "stream",
     "text": [
      "[[  4.83545940e-03  -1.00000002e+30]\n",
      " [  1.17985215e-02  -1.00000002e+30]\n",
      " [  2.18253303e-02  -1.00000002e+30]\n",
      " [  3.62639353e-02  -1.00000002e+30]\n",
      " [  5.70555255e-02  -1.00000002e+30]\n",
      " [  8.69954228e-02  -1.00000002e+30]\n",
      " [  1.30108863e-01  -1.00000002e+30]\n",
      " [  1.92192227e-01  -1.00000002e+30]\n",
      " [  2.81592280e-01  -1.00000002e+30]\n",
      " [  4.10328358e-01  -1.00000002e+30]\n",
      " [  5.95708311e-01  -1.00000002e+30]\n",
      " [  8.62655461e-01  -1.00000002e+30]\n",
      " [  1.24705935e+00  -1.00000002e+30]\n",
      " [  1.80060101e+00  -1.00000002e+30]\n",
      " [  2.59770107e+00  -1.00000002e+30]\n",
      " [  3.74552512e+00  -1.00000002e+30]\n",
      " [  5.39839172e+00  -1.00000002e+30]\n",
      " [  7.77851963e+00  -1.00000002e+30]\n",
      " [  1.12059040e+01  -1.00000002e+30]\n",
      " [  1.61413383e+01  -1.00000002e+30]\n",
      " [  2.32483635e+01  -1.00000002e+30]\n",
      " [  3.34824791e+01  -1.00000002e+30]\n",
      " [  4.82196083e+01  -1.00000002e+30]\n",
      " [  6.94410706e+01  -1.00000002e+30]\n",
      " [  9.99999847e+01  -1.00000002e+30]]\n"
     ]
    }
   ],
   "source": [
    "#print hydraulic head at node (1, 4) for part a (Table 14.2)\n",
    "ts = headobj.get_ts([[0, 0, 3]])\n",
    "print(ts)"
   ]
  },
  {
   "cell_type": "code",
   "execution_count": 39,
   "metadata": {
    "collapsed": false
   },
   "outputs": [
    {
     "data": {
      "text/plain": [
       "(0, 99.999985)"
      ]
     },
     "execution_count": 39,
     "metadata": {},
     "output_type": "execute_result"
    },
    {
     "data": {
      "image/png": "[encoded data removed]",
      "text/plain": [
       "<matplotlib.figure.Figure at 0x1b512b22f98>"
      ]
     },
     "metadata": {},
     "output_type": "display_data"
    }
   ],
   "source": [
    "# Plot the drawdown versus time\n",
    "idx = (0, 0, 8)\n",
    "ts = headobj.get_ts(idx)\n",
    "plt.subplot(1, 1, 1)\n",
    "ttl = 'Head at cell ({0},{1},{2})'.format(idx[0] + 1, idx[1] + 1, idx[2] + 1)\n",
    "plt.title(ttl)\n",
    "plt.xlabel('time (s)')\n",
    "plt.ylabel('drawdown (m)')\n",
    "plt.plot(ts[:, 0], 0-ts[:, 1], 'bo-')\n",
    "plt.xlim(0, ts[:, 0].max())\n",
    "#plt.legend(['top at -1 ft'], loc='best')"
   ]
  },
  {
   "cell_type": "markdown",
   "metadata": {},
   "source": [
    "### MODEL OUTPUT\n",
    "_Drawdown versus time is tabulated in Table 3.3 and plotted in Figure 3.1 for each of the four cases. The results of parts a and b can also be compared to Moench and Prickett (1972) which is reproduced on the table._\n"
   ]
  },
  {
   "cell_type": "markdown",
   "metadata": {},
   "source": [
    "### Table 3.3 Drawdown versus time for each model configuration\n",
    "\n",
    "| Time step number | Time (days) | Analytical (Aquifer top at -1) | MODFLOW (Aquifer top at -1) | Analytical (Aquifer top at -2) | MODFLOW (Aquifer top at -2) | Confined (S=0.0001) | Unconfined(S=0.1) |\n",
    "|------------------|-------------|--------------------------------|-----------------------------|--------------------------------|-----------------------------|---------------------|-------------------|\n",
    "| 1                | 0.0072      | 0.02                           | 0.03                        | 0.04                           | 0.06                        | 0.16                | 0                 |\n",
    "| 2                | 0.0173      | 0.09                           | 0.09                        | 0.17                           | 0.16                        | 0.47                | 0                 |\n",
    "| 3                | 0.0317      | 0.16                           | 0.16                        | 0.3                            | 0.28                        | 0.84                | 0                 |\n",
    "| 4                | 0.052       | 0.23                           | 0.22                        | 0.42                           | 0.41                        | 1.22                | 0                 |\n",
    "| 5                | 0.0806      | 0.29                           | 0.29                        | 0.55                           | 0.53                        | 1.61                | 0                 |\n",
    "| 6                | 0.1212      | 0.36                           | 0.36                        | 0.66                           | 0.65                        | 1.98                | 0                 |\n",
    "| 7                | 0.1785      | 0.42                           | 0.42                        | 0.78                           | 0.78                        | 2.36                | 0                 |\n",
    "| 8                | 0.2596      | 0.48                           | 0.49                        | 0.9                            | 0.89                        | 2.72                | 0                 |\n",
    "| 9                | 0.3743      | 0.55                           | 0.55                        | 1.01                           | 1.01                        | 3.08                | 0                 |\n",
    "| 10               | 0.5364      | 0.61                           | 0.62                        | 1.13                           | 1.13                        | 3.43                | 0                 |\n",
    "| 11               | 0.7657      | 0.67                           | 0.68                        | 1.24                           | 1.24                        | 3.78                | 0                 |\n",
    "| 12               | 1.09        | 0.73                           | 0.74                        | 1.35                           | 1.36                        | 4.14                | 0                 |\n",
    "| 13               | 1.548       | 0.79                           | 0.8                         | 1.46                           | 1.47                        | 4.5                 | 0                 |\n",
    "| 14               | 2.196       | 0.85                           | 0.86                        | 1.58                           | 1.6                         | 4.85                | 0.01              |\n",
    "| 15               | 3.113       | 0.91                           | 0.93                        | 1.69                           | 1.7                         | 5.2                 | 0.02              |\n",
    "| 16               | 4.409       |                                | 1                           | 1.8                            | 1.83                        | 5.55                | 0.05              |\n",
    "| 17               | 6.241       | 1.03                           | 1.05                        |                                | 1.93                        | 5.9                 | 0.11              |\n",
    "| 18               | 8.832       | 1.13                           | 0.14                        | 2.02                           | 2.05                        | 6.26                | 0.2               |\n",
    "| 19               | 12.5        | 1.27                           | 1.27                        | 2.17                           | 2.18                        | 6.61                | 0.33              |\n",
    "| 20               | 17.68       | 1.46                           | 1.44                        | 2.35                           | 2.35                        | 6.96                | 0.5               |\n",
    "| 21               | 25          | 1.68                           | 1.65                        | 2.57                           | 2.57                        | 7.37                | 0.71              |\n",
    "| 22               | 35.36       | 1.93                           | 1.9                         | 2.83                           | 2.83                        | 7.72                | 0.96              |\n",
    "| 23               | 50.01       | 2.21                           | 2.17                        | 3.1                            | 3.1                         | 8.07                | 1.23              |\n",
    "| 24               | 70.72       | 2.51                           | 2.46                        | 3.4                            | 3.4                         | 8.42                | 1.52              |\n",
    "| 25               | 100         | 2.82                           | 2.77                        | 3.71                           | 3.71                        | 8.79                | 1.83              |"
   ]
  }
 ],
 "metadata": {
  "kernelspec": {
   "display_name": "Python 3",
   "language": "python",
   "name": "python3"
  },
  "language_info": {
   "codemirror_mode": {
    "name": "ipython",
    "version": 3
   },
   "file_extension": ".py",
   "mimetype": "text/x-python",
   "name": "python",
   "nbconvert_exporter": "python",
   "pygments_lexer": "ipython3",
   "version": "3.6.0"
  }
 },
 "nbformat": 4,
 "nbformat_minor": 2
}
