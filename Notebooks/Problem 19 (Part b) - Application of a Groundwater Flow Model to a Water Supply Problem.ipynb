{
 "cells": [
  {
   "cell_type": "markdown",
   "metadata": {},
   "source": [
    "# Problem 19: Application of a Groundwater Flow Model to a Water Supply Problem"
   ]
  },
  {
   "cell_type": "markdown",
   "metadata": {},
   "source": [
    "# INTRODUCTION\n",
    "_Groundwater flow models are often used in term productivity of local or regional aquifers.\n",
    "water resource evaluations to assess the longThis exercise presents an example of an application to a local system and involves calibration to an aquifer test and prediction using best estimates of aquifer properties. Of historical interest, this problem is adapted from one of the first applications of a digital model to a water resource problem (Pinder and Bredehoeft, 1968). The specific objective of their study was to assess whether a glaciofluviaI aquifer could provide an adequate water supply for a village in Nova Scotia._\n"
   ]
  },
  {
   "cell_type": "markdown",
   "metadata": {},
   "source": [
    "# PROBLEM STATEMENT AND DATA\n",
    "_The aquifer is located adjacent to the Musquodoboit River, l/4-mile northwest of the village of Musquodoboit Harbour, as shown in Figure 19.1. The aquifer is a glaciofluvial deposit consisting of coarse sand, gravel, cobbles, and boulders deposited in a typical Ushaped glacial valley cut into the slates and quartzites of the Meguma group and the granite intrusive of Devonian age. The contrast in permeability between the granitic and metamorphic rocks and the glaciofluvial valley fill is so great (approximately 106) that the bedrock is considered as impermeable in the aquifer analysis. The aquifer, which is up to 62 feet thick, is extensively overlain by recent alluvial deposits of sand, silt and clay. The alluvial deposits are less permeable and act as confining beds. A cross-section through the valley is given in Figure 19.2._\n",
    "\n",
    "_A pumping test was conducted to evaluate the aquifer transmissivity and storage coefficient, and to estimate recharge from the river. The test was run for 36 hours using a well discharging at 0.963 cubic feet per second (432 gallons per minute) and three observation wells (see inset of Figure 19.1 for locations). The test was discontinued when the water level in the pumping well became stable. Initial estimates of aquifer parameters were calculated using the Theis curve and the early segment of the drawdown curves for the observation wells. The results were somewhat variable, ranging from 1.15 ft2/s to 1.45 ft2/s. A quasi-steady state formula for estimating transmissivity yielded results on the order of 0.3 ft2/s. Because of the close proximity of boundaries, the pumping test results are difficult to analyze using usual analytical methods._\n",
    "\n",
    "_A listing of the data set for the MODFLOW model is provided on page 19-4. The aquifer is treated as confined, with transmissivity zones to account for thickness and facies changes. The ratio between zones of transmissivity (1,2, and 4) are given in the data set; absolute values of transmissivity are not given. A map of the transmissivity zones and model boundaries is given in Figure 19.3._\n",
    "\n",
    "_A uniform value of storage coefficient is used in the analysis. The model is used to simulate drawdown, hence an initial head condition of 0.0 ft is used. Recharge is not specified because only drawdown is simulated. A river is simulated using the RIVER package. Its location is shown in Figure 19.4. Other pertinent data is given in Table 19.1._\n"
   ]
  },
  {
   "cell_type": "markdown",
   "metadata": {},
   "source": [
    "## Part b) \n",
    "_Make a predictive run for 1000 days at the same pumping rate with the values of T and S that were obtained in Part a._\n"
   ]
  },
  {
   "cell_type": "code",
   "execution_count": 1,
   "metadata": {
    "collapsed": true
   },
   "outputs": [],
   "source": [
    "#Import and modules/packages that we need to work with\n",
    "%matplotlib inline\n",
    "import os\n",
    "import sys\n",
    "import platform\n",
    "import numpy as np\n",
    "import matplotlib as mpl\n",
    "import matplotlib.pyplot as plt\n",
    "import pandas as pd\n",
    "import flopy"
   ]
  },
  {
   "cell_type": "code",
   "execution_count": 2,
   "metadata": {
    "collapsed": false
   },
   "outputs": [
    {
     "name": "stdout",
     "output_type": "stream",
     "text": [
      "25920.0\n",
      "-11123.422459893047\n"
     ]
    }
   ],
   "source": [
    "#Store the values of each parameter into separate variables\n",
    "inh = 0.0 #initial head\n",
    "hk = .3*86400 #hydraulic conductivity ft^2/day\n",
    "ss = 0.06 #storage coefficient\n",
    "delr = 100 #grid spacing (uniform)\n",
    "delc = delr\n",
    "pr = -.963/7.48*86400 #pumping rate ft^3/day\n",
    "perlen = 1000 #stress period length in days\n",
    "nstp = 10 #number of time steps\n",
    "tsmult = 1.414 #time step multiplier\n",
    "it_par = 5 # iteration parameters\n",
    "mxiter = 50 #maximum number of iterations\n",
    "accel_par = 1.0 #acceleration parameter\n",
    "hclose = 0.001 #closure criterion (the head change criterion for convergence)\n",
    "top = 0\n",
    "botm = -1\n",
    "nper = 1\n",
    "laytyp = 0\n",
    "ipakcb = 50\n",
    "\n",
    "#grid 44 rows, 55 cols, 1 layer\n",
    "nlay = 1 #number of layers\n",
    "nrow = 44 #number of rows\n",
    "ncol = 55 #number of columns\n",
    "\n",
    "#riv package\n",
    "rstage = 0.0 #river stage\n",
    "rcond = 1728 #river conductance in ft^2/day\n",
    "rbot = -10 #river bottom\n",
    "\n",
    "#print to double check the math is done correctly\n",
    "print(hk)\n",
    "print(pr)"
   ]
  },
  {
   "cell_type": "code",
   "execution_count": 3,
   "metadata": {
    "collapsed": true
   },
   "outputs": [],
   "source": [
    "#Flopy objects\n",
    "modelname = 'p19' #short for problem 19\n",
    "exe_name = '../MF2005.1_12/bin/mf2005.exe'\n",
    "model_ws = 'temp'\n",
    "mf = flopy.modflow.Modflow(modelname, exe_name=exe_name, model_ws = model_ws)"
   ]
  },
  {
   "cell_type": "code",
   "execution_count": 4,
   "metadata": {
    "collapsed": false
   },
   "outputs": [],
   "source": [
    "#call in the discretization package\n",
    "dis = flopy.modflow.ModflowDis(mf, nlay, nrow, ncol, delr=delr, delc=delc,\n",
    "                               top=top, botm=botm, nper=nper, perlen=perlen, \n",
    "                               nstp=nstp, tsmult=tsmult, steady=False)"
   ]
  },
  {
   "cell_type": "code",
   "execution_count": 5,
   "metadata": {
    "collapsed": false
   },
   "outputs": [],
   "source": [
    "#call in the basic package\n",
    "ibound = np.ones((nlay, nrow, ncol))\n",
    "strt = 0.0\n",
    "bas = flopy.modflow.ModflowBas(mf, ibound=ibound, strt=strt)"
   ]
  },
  {
   "cell_type": "code",
   "execution_count": 6,
   "metadata": {
    "collapsed": false,
    "scrolled": false
   },
   "outputs": [
    {
     "name": "stdout",
     "output_type": "stream",
     "text": [
      "True\n"
     ]
    },
    {
     "data": {
      "image/png": "[encoded data removed]",
      "text/plain": [
       "<matplotlib.figure.Figure at 0x1881d170518>"
      ]
     },
     "metadata": {},
     "output_type": "display_data"
    }
   ],
   "source": [
    "#call in the layer-propery flow (LPF)\n",
    "\n",
    "fname='..\\Data\\p19_trans.txt'\n",
    "print(os.path.isfile(fname))\n",
    "with open(fname) as f:\n",
    "    data = f.read().splitlines()\n",
    "    \n",
    "f.close()\n",
    "#print(data)\n",
    "\n",
    "ibound = []\n",
    "for s in data:\n",
    "    for value in s.strip().split(' '):\n",
    "        ibound.append(int(value))\n",
    "ibound = np.array(ibound)\n",
    "ibound = ibound.reshape((44, 55))\n",
    "plt.imshow(ibound)\n",
    "hk = np.empty((44, 55), dtype=np.float)\n",
    "hk[:, :] = ibound[:, :]\n",
    "\n",
    "hk1 = 10000.\n",
    "hk2 = 8000.\n",
    "hk4 = 22000.\n",
    "\n",
    "hk = np.where(hk==1, hk1, hk)\n",
    "hk = np.where(hk==2, hk2, hk)\n",
    "hk = np.where(hk==4, hk4, hk)\n",
    "plt.imshow(hk)\n",
    "plt.colorbar()\n",
    "\n",
    "lpf = flopy.modflow.ModflowLpf(mf, hk=hk, ss=ss, laytyp=laytyp, ipakcb=ipakcb)"
   ]
  },
  {
   "cell_type": "code",
   "execution_count": 7,
   "metadata": {
    "collapsed": false
   },
   "outputs": [],
   "source": [
    "#call in the well package (WEL)\n",
    "# Remember to use zero-based layer, row, column indices!\n",
    "wel_sp1 = [[0, 27, 31, pr], [0, 27, 31, pr], [0, 28, 34, pr], [0, 30, 31, pr]]\n",
    "wel_spd = {0: wel_sp1}\n",
    "wel = flopy.modflow.ModflowWel(mf, stress_period_data=wel_spd)"
   ]
  },
  {
   "cell_type": "code",
   "execution_count": 8,
   "metadata": {
    "collapsed": false
   },
   "outputs": [],
   "source": [
    "#call in the preconditioned conjugate-gradient package (PCG) \n",
    "pcg = flopy.modflow.ModflowPcg(mf, mxiter=mxiter, hclose=hclose)"
   ]
  },
  {
   "cell_type": "code",
   "execution_count": 9,
   "metadata": {
    "collapsed": false
   },
   "outputs": [],
   "source": [
    "#call in the output control package (OC)\n",
    "oc = flopy.modflow.ModflowOc(mf, stress_period_data={(0, 0): ['save head', 'print budget', 'save budget']})"
   ]
  },
  {
   "cell_type": "code",
   "execution_count": 10,
   "metadata": {
    "collapsed": false
   },
   "outputs": [
    {
     "name": "stdout",
     "output_type": "stream",
     "text": [
      "    layer  row  col  rstage  rcond  rbot\n",
      "0       1   18    1       0   1728   -10\n",
      "1       1   18    2       0   1728   -10\n",
      "2       1   19    3       0   1728   -10\n",
      "3       1   19    4       0   1728   -10\n",
      "4       1   20    5       0   1728   -10\n",
      "5       1   20    6       0   1728   -10\n",
      "6       1   20    7       0   1728   -10\n",
      "7       1   21    8       0   1728   -10\n",
      "8       1   21    9       0   1728   -10\n",
      "9       1   22   10       0   1728   -10\n",
      "10      1   22   11       0   1728   -10\n",
      "11      1   22   12       0   1728   -10\n",
      "12      1   23   13       0   1728   -10\n",
      "13      1   23   14       0   1728   -10\n",
      "14      1   24   15       0   1728   -10\n",
      "15      1   24   16       0   1728   -10\n",
      "16      1   24   17       0   1728   -10\n",
      "17      1   24   18       0   1728   -10\n",
      "18      1   25   19       0   1728   -10\n",
      "19      1   25   20       0   1728   -10\n",
      "20      1   25   21       0   1728   -10\n",
      "21      1   25   22       0   1728   -10\n",
      "22      1   26   23       0   1728   -10\n",
      "23      1   26   24       0   1728   -10\n",
      "24      1   27   25       0   1728   -10\n",
      "25      1   27   26       0   1728   -10\n",
      "26      1   28   27       0   1728   -10\n",
      "27      1   28   28       0   1728   -10\n",
      "28      1   28   29       0   1728   -10\n",
      "29      1   28   30       0   1728   -10\n",
      "30      1   28   31       0   1728   -10\n",
      "31      1   27   32       0   1728   -10\n",
      "32      1   27   33       0   1728   -10\n",
      "33      1   27   34       0   1728   -10\n",
      "34      1   27   35       0   1728   -10\n",
      "35      1   28   36       0   1728   -10\n",
      "36      1   29   37       0   1728   -10\n",
      "37      1   29   38       0   1728   -10\n",
      "38      1   30   39       0   1728   -10\n",
      "39      1   30   40       0   1728   -10\n",
      "40      1   31   41       0   1728   -10\n",
      "41      1   31   42       0   1728   -10\n",
      "42      1   32   43       0   1728   -10\n",
      "43      1   32   44       0   1728   -10\n",
      "44      1   33   45       0   1728   -10\n",
      "45      1   33   46       0   1728   -10\n",
      "46      1   33   47       0   1728   -10\n",
      "47      1   33   48       0   1728   -10\n",
      "48      1   33   49       0   1728   -10\n"
     ]
    }
   ],
   "source": [
    "#call in the river package (RIV)\n",
    "#figure out how to change conductance from the package\n",
    "riv_boundary = pd.read_csv('../Data/problem19_riv.csv')\n",
    "riv_boundary.rcond = 1728\n",
    "print(riv_boundary)\n",
    "\n",
    "riv = flopy.modflow.ModflowRiv(mf, ipakcb=ipakcb)"
   ]
  },
  {
   "cell_type": "code",
   "execution_count": 11,
   "metadata": {
    "collapsed": false
   },
   "outputs": [
    {
     "ename": "IndexError",
     "evalue": "list index out of range",
     "output_type": "error",
     "traceback": [
      "\u001b[0;31m---------------------------------------------------------------------------\u001b[0m",
      "\u001b[0;31mIndexError\u001b[0m                                Traceback (most recent call last)",
      "\u001b[0;32m<ipython-input-11-ed6808c263c6>\u001b[0m in \u001b[0;36m<module>\u001b[0;34m()\u001b[0m\n\u001b[1;32m      1\u001b[0m \u001b[1;31m# Write the MODFLOW model input files\u001b[0m\u001b[1;33m\u001b[0m\u001b[1;33m\u001b[0m\u001b[0m\n\u001b[0;32m----> 2\u001b[0;31m \u001b[0mmf\u001b[0m\u001b[1;33m.\u001b[0m\u001b[0mwrite_input\u001b[0m\u001b[1;33m(\u001b[0m\u001b[1;33m)\u001b[0m\u001b[1;33m\u001b[0m\u001b[0m\n\u001b[0m",
      "\u001b[0;32mC:\\Users\\Jordan\\Anaconda3\\lib\\site-packages\\flopy\\mbase.py\u001b[0m in \u001b[0;36mwrite_input\u001b[0;34m(self, SelPackList, check)\u001b[0m\n\u001b[1;32m    932\u001b[0m                 \u001b[1;31m# or default for package level check would have to be False\u001b[0m\u001b[1;33m\u001b[0m\u001b[1;33m\u001b[0m\u001b[0m\n\u001b[1;32m    933\u001b[0m                 \u001b[1;32mtry\u001b[0m\u001b[1;33m:\u001b[0m\u001b[1;33m\u001b[0m\u001b[0m\n\u001b[0;32m--> 934\u001b[0;31m                     \u001b[0mp\u001b[0m\u001b[1;33m.\u001b[0m\u001b[0mwrite_file\u001b[0m\u001b[1;33m(\u001b[0m\u001b[0mcheck\u001b[0m\u001b[1;33m=\u001b[0m\u001b[1;32mFalse\u001b[0m\u001b[1;33m)\u001b[0m\u001b[1;33m\u001b[0m\u001b[0m\n\u001b[0m\u001b[1;32m    935\u001b[0m                 \u001b[1;32mexcept\u001b[0m \u001b[0mTypeError\u001b[0m\u001b[1;33m:\u001b[0m\u001b[1;33m\u001b[0m\u001b[0m\n\u001b[1;32m    936\u001b[0m                     \u001b[0mp\u001b[0m\u001b[1;33m.\u001b[0m\u001b[0mwrite_file\u001b[0m\u001b[1;33m(\u001b[0m\u001b[1;33m)\u001b[0m\u001b[1;33m\u001b[0m\u001b[0m\n",
      "\u001b[0;32mC:\\Users\\Jordan\\Anaconda3\\lib\\site-packages\\flopy\\modflow\\mfriv.py\u001b[0m in \u001b[0;36mwrite_file\u001b[0;34m(self, check)\u001b[0m\n\u001b[1;32m    279\u001b[0m         \u001b[0mline\u001b[0m \u001b[1;33m+=\u001b[0m \u001b[1;34m'\\n'\u001b[0m\u001b[1;33m\u001b[0m\u001b[0m\n\u001b[1;32m    280\u001b[0m         \u001b[0mf_riv\u001b[0m\u001b[1;33m.\u001b[0m\u001b[0mwrite\u001b[0m\u001b[1;33m(\u001b[0m\u001b[0mline\u001b[0m\u001b[1;33m)\u001b[0m\u001b[1;33m\u001b[0m\u001b[0m\n\u001b[0;32m--> 281\u001b[0;31m         \u001b[0mself\u001b[0m\u001b[1;33m.\u001b[0m\u001b[0mstress_period_data\u001b[0m\u001b[1;33m.\u001b[0m\u001b[0mwrite_transient\u001b[0m\u001b[1;33m(\u001b[0m\u001b[0mf_riv\u001b[0m\u001b[1;33m)\u001b[0m\u001b[1;33m\u001b[0m\u001b[0m\n\u001b[0m\u001b[1;32m    282\u001b[0m         \u001b[0mf_riv\u001b[0m\u001b[1;33m.\u001b[0m\u001b[0mclose\u001b[0m\u001b[1;33m(\u001b[0m\u001b[1;33m)\u001b[0m\u001b[1;33m\u001b[0m\u001b[0m\n\u001b[1;32m    283\u001b[0m \u001b[1;33m\u001b[0m\u001b[0m\n",
      "\u001b[0;32mC:\\Users\\Jordan\\Anaconda3\\lib\\site-packages\\flopy\\utils\\util_list.py\u001b[0m in \u001b[0;36mwrite_transient\u001b[0;34m(self, f, single_per)\u001b[0m\n\u001b[1;32m    463\u001b[0m         \u001b[0mkpers\u001b[0m \u001b[1;33m=\u001b[0m \u001b[0mlist\u001b[0m\u001b[1;33m(\u001b[0m\u001b[0mself\u001b[0m\u001b[1;33m.\u001b[0m\u001b[0mdata\u001b[0m\u001b[1;33m.\u001b[0m\u001b[0mkeys\u001b[0m\u001b[1;33m(\u001b[0m\u001b[1;33m)\u001b[0m\u001b[1;33m)\u001b[0m\u001b[1;33m\u001b[0m\u001b[0m\n\u001b[1;32m    464\u001b[0m         \u001b[0mkpers\u001b[0m\u001b[1;33m.\u001b[0m\u001b[0msort\u001b[0m\u001b[1;33m(\u001b[0m\u001b[1;33m)\u001b[0m\u001b[1;33m\u001b[0m\u001b[0m\n\u001b[0;32m--> 465\u001b[0;31m         \u001b[0mfirst\u001b[0m \u001b[1;33m=\u001b[0m \u001b[0mkpers\u001b[0m\u001b[1;33m[\u001b[0m\u001b[1;36m0\u001b[0m\u001b[1;33m]\u001b[0m\u001b[1;33m\u001b[0m\u001b[0m\n\u001b[0m\u001b[1;32m    466\u001b[0m         \u001b[1;32mif\u001b[0m \u001b[1;33m(\u001b[0m\u001b[0msingle_per\u001b[0m \u001b[1;33m==\u001b[0m \u001b[1;32mNone\u001b[0m\u001b[1;33m)\u001b[0m\u001b[1;33m:\u001b[0m\u001b[1;33m\u001b[0m\u001b[0m\n\u001b[1;32m    467\u001b[0m             \u001b[0mloop_over_kpers\u001b[0m \u001b[1;33m=\u001b[0m \u001b[0mlist\u001b[0m\u001b[1;33m(\u001b[0m\u001b[0mrange\u001b[0m\u001b[1;33m(\u001b[0m\u001b[1;36m0\u001b[0m\u001b[1;33m,\u001b[0m \u001b[0mmax\u001b[0m\u001b[1;33m(\u001b[0m\u001b[0mnper\u001b[0m\u001b[1;33m,\u001b[0m \u001b[0mmax\u001b[0m\u001b[1;33m(\u001b[0m\u001b[0mkpers\u001b[0m\u001b[1;33m)\u001b[0m \u001b[1;33m+\u001b[0m \u001b[1;36m1\u001b[0m\u001b[1;33m)\u001b[0m\u001b[1;33m)\u001b[0m\u001b[1;33m)\u001b[0m\u001b[1;33m\u001b[0m\u001b[0m\n",
      "\u001b[0;31mIndexError\u001b[0m: list index out of range"
     ]
    }
   ],
   "source": [
    "# Write the MODFLOW model input files\n",
    "mf.write_input()"
   ]
  },
  {
   "cell_type": "code",
   "execution_count": null,
   "metadata": {
    "collapsed": false
   },
   "outputs": [],
   "source": [
    "# Run the MODFLOW model\n",
    "success, buff = mf.run_model()"
   ]
  },
  {
   "cell_type": "code",
   "execution_count": null,
   "metadata": {
    "collapsed": false
   },
   "outputs": [],
   "source": [
    "import flopy.utils.binaryfile as bf\n",
    "\n",
    "# Create the headfile object\n",
    "fname = os.path.join(model_ws, 'p19.hds') #\"os.path.join\" joins together the modelname and the .hds file and stores it in fname\n",
    "headobj = bf.HeadFile(fname) #create headobj and put values from fname (aka 'p1_pa.hds') inside it\n",
    "times = headobj.get_times() #assign the headobj values to the variable \"times\"\n",
    "print(times) #prints the time at each stress period\n",
    "\n",
    "#print hydraulic head (Table 14.2)\n",
    "idx = (0, 28, 31) #(nlay, nrow, ncol) *remember you have to subtract 1 from the original numbers for python - (1, 10, 12)*\n",
    "ts = headobj.get_ts([idx])\n",
    "print(ts)"
   ]
  },
  {
   "cell_type": "code",
   "execution_count": 12,
   "metadata": {
    "collapsed": false
   },
   "outputs": [
    {
     "ename": "NameError",
     "evalue": "name 'idx' is not defined",
     "output_type": "error",
     "traceback": [
      "\u001b[0;31m---------------------------------------------------------------------------\u001b[0m",
      "\u001b[0;31mNameError\u001b[0m                                 Traceback (most recent call last)",
      "\u001b[0;32m<ipython-input-12-15f1ec315633>\u001b[0m in \u001b[0;36m<module>\u001b[0;34m()\u001b[0m\n\u001b[1;32m      1\u001b[0m \u001b[1;31m# Plot the drawdown versus time\u001b[0m\u001b[1;33m\u001b[0m\u001b[1;33m\u001b[0m\u001b[0m\n\u001b[1;32m      2\u001b[0m \u001b[0mplt\u001b[0m\u001b[1;33m.\u001b[0m\u001b[0msubplot\u001b[0m\u001b[1;33m(\u001b[0m\u001b[1;36m1\u001b[0m\u001b[1;33m,\u001b[0m \u001b[1;36m1\u001b[0m\u001b[1;33m,\u001b[0m \u001b[1;36m1\u001b[0m\u001b[1;33m)\u001b[0m\u001b[1;33m\u001b[0m\u001b[0m\n\u001b[0;32m----> 3\u001b[0;31m \u001b[0mttl\u001b[0m \u001b[1;33m=\u001b[0m \u001b[1;34m'Drawdown at cell ({0},{1},{2})'\u001b[0m\u001b[1;33m.\u001b[0m\u001b[0mformat\u001b[0m\u001b[1;33m(\u001b[0m\u001b[0midx\u001b[0m\u001b[1;33m[\u001b[0m\u001b[1;36m0\u001b[0m\u001b[1;33m]\u001b[0m \u001b[1;33m+\u001b[0m \u001b[1;36m1\u001b[0m\u001b[1;33m,\u001b[0m \u001b[0midx\u001b[0m\u001b[1;33m[\u001b[0m\u001b[1;36m1\u001b[0m\u001b[1;33m]\u001b[0m \u001b[1;33m+\u001b[0m \u001b[1;36m1\u001b[0m\u001b[1;33m,\u001b[0m \u001b[0midx\u001b[0m\u001b[1;33m[\u001b[0m\u001b[1;36m2\u001b[0m\u001b[1;33m]\u001b[0m \u001b[1;33m+\u001b[0m \u001b[1;36m1\u001b[0m\u001b[1;33m)\u001b[0m \u001b[1;31m#we are adding 1 to each part of idx to that it prints out the real values and not the code values\u001b[0m\u001b[1;33m\u001b[0m\u001b[0m\n\u001b[0m\u001b[1;32m      4\u001b[0m \u001b[0mplt\u001b[0m\u001b[1;33m.\u001b[0m\u001b[0mtitle\u001b[0m\u001b[1;33m(\u001b[0m\u001b[0mttl\u001b[0m\u001b[1;33m)\u001b[0m \u001b[1;31m#prints/plots title\u001b[0m\u001b[1;33m\u001b[0m\u001b[0m\n\u001b[1;32m      5\u001b[0m \u001b[0mplt\u001b[0m\u001b[1;33m.\u001b[0m\u001b[0mxlabel\u001b[0m\u001b[1;33m(\u001b[0m\u001b[1;34m'time (days)'\u001b[0m\u001b[1;33m)\u001b[0m \u001b[1;31m#labels the x-axis\u001b[0m\u001b[1;33m\u001b[0m\u001b[0m\n",
      "\u001b[0;31mNameError\u001b[0m: name 'idx' is not defined"
     ]
    },
    {
     "data": {
      "image/png": "[encoded data removed]",
      "text/plain": [
       "<matplotlib.figure.Figure at 0x18820483438>"
      ]
     },
     "metadata": {},
     "output_type": "display_data"
    }
   ],
   "source": [
    "# Plot the drawdown versus time\n",
    "plt.subplot(1, 1, 1)\n",
    "ttl = 'Drawdown at cell ({0},{1},{2})'.format(idx[0] + 1, idx[1] + 1, idx[2] + 1) #we are adding 1 to each part of idx to that it prints out the real values and not the code values\n",
    "plt.title(ttl) #prints/plots title\n",
    "plt.xlabel('time (days)') #labels the x-axis\n",
    "plt.ylabel('drawdown') #labels the y-axis\n",
    "#here we do \"0-ts...\" in order to show the drawdown of \n",
    "plt.plot(ts[:, 0], 0-ts[:, 1], 'bo-') #(x, y, color/type of line)\n",
    "plt.xlim(0, ts[:, 0].max())\n",
    "plt.ylim(0, (0-ts[:, 1]).max())"
   ]
  },
  {
   "cell_type": "code",
   "execution_count": null,
   "metadata": {
    "collapsed": false
   },
   "outputs": [],
   "source": [
    "# Plot the head versus time\n",
    "plt.subplot(1, 1, 1)\n",
    "ttl = 'Head at cell ({0},{1},{2})'.format(idx[0] + 1, idx[1] + 1, idx[2] + 1)\n",
    "plt.title(ttl)\n",
    "plt.xlabel('time (days)')\n",
    "plt.ylabel('head (ft)')\n",
    "plt.plot(ts[:, 0], ts[:, 1], 'ro-')\n",
    "plt.xlim(0, ts[:, 0].max())\n",
    "plt.ylim(ts[:, 1].min(), ts[:, 1].max())"
   ]
  },
  {
   "cell_type": "code",
   "execution_count": 13,
   "metadata": {
    "collapsed": false,
    "scrolled": false
   },
   "outputs": [
    {
     "ename": "NameError",
     "evalue": "name 'headobj' is not defined",
     "output_type": "error",
     "traceback": [
      "\u001b[0;31m---------------------------------------------------------------------------\u001b[0m",
      "\u001b[0;31mNameError\u001b[0m                                 Traceback (most recent call last)",
      "\u001b[0;32m<ipython-input-13-85b69d0125f9>\u001b[0m in \u001b[0;36m<module>\u001b[0;34m()\u001b[0m\n\u001b[1;32m      1\u001b[0m \u001b[0mfname\u001b[0m \u001b[1;33m=\u001b[0m \u001b[0mos\u001b[0m\u001b[1;33m.\u001b[0m\u001b[0mpath\u001b[0m\u001b[1;33m.\u001b[0m\u001b[0mjoin\u001b[0m\u001b[1;33m(\u001b[0m\u001b[0mmodelname\u001b[0m\u001b[1;33m,\u001b[0m \u001b[1;34m'p19.cbc'\u001b[0m\u001b[1;33m)\u001b[0m\u001b[1;33m\u001b[0m\u001b[0m\n\u001b[0;32m----> 2\u001b[0;31m \u001b[0mhead\u001b[0m \u001b[1;33m=\u001b[0m \u001b[0mheadobj\u001b[0m\u001b[1;33m.\u001b[0m\u001b[0mget_data\u001b[0m\u001b[1;33m(\u001b[0m\u001b[0mtotim\u001b[0m\u001b[1;33m=\u001b[0m\u001b[0mtimes\u001b[0m\u001b[1;33m[\u001b[0m\u001b[1;33m-\u001b[0m\u001b[1;36m1\u001b[0m\u001b[1;33m]\u001b[0m\u001b[1;33m)\u001b[0m\u001b[1;33m\u001b[0m\u001b[0m\n\u001b[0m\u001b[1;32m      3\u001b[0m \u001b[0mlevels\u001b[0m \u001b[1;33m=\u001b[0m \u001b[0mnp\u001b[0m\u001b[1;33m.\u001b[0m\u001b[0mlinspace\u001b[0m\u001b[1;33m(\u001b[0m\u001b[0mhead\u001b[0m\u001b[1;33m.\u001b[0m\u001b[0mmin\u001b[0m\u001b[1;33m(\u001b[0m\u001b[1;33m)\u001b[0m\u001b[1;33m,\u001b[0m \u001b[0mhead\u001b[0m\u001b[1;33m.\u001b[0m\u001b[0mmax\u001b[0m\u001b[1;33m(\u001b[0m\u001b[1;33m)\u001b[0m\u001b[1;33m,\u001b[0m \u001b[1;36m10\u001b[0m\u001b[1;33m)\u001b[0m\u001b[1;33m\u001b[0m\u001b[0m\n\u001b[1;32m      4\u001b[0m \u001b[1;33m\u001b[0m\u001b[0m\n\u001b[1;32m      5\u001b[0m \u001b[0mfig\u001b[0m \u001b[1;33m=\u001b[0m \u001b[0mplt\u001b[0m\u001b[1;33m.\u001b[0m\u001b[0mfigure\u001b[0m\u001b[1;33m(\u001b[0m\u001b[0mfigsize\u001b[0m\u001b[1;33m=\u001b[0m\u001b[1;33m(\u001b[0m\u001b[1;36m10\u001b[0m\u001b[1;33m,\u001b[0m \u001b[1;36m10\u001b[0m\u001b[1;33m)\u001b[0m\u001b[1;33m)\u001b[0m\u001b[1;33m\u001b[0m\u001b[0m\n",
      "\u001b[0;31mNameError\u001b[0m: name 'headobj' is not defined"
     ]
    }
   ],
   "source": [
    "fname = os.path.join(modelname, 'p19.cbc')\n",
    "head = headobj.get_data(totim=times[-1])\n",
    "levels = np.linspace(head.min(), head.max(), 10)\n",
    "\n",
    "fig = plt.figure(figsize=(10, 10))\n",
    "\n",
    "#plot_array\n",
    "ax = fig.add_subplot(1, 1, 1, aspect='equal')\n",
    "ax.set_title('contour_array()')\n",
    "modelmap = flopy.plot.ModelMap(model=mf)\n",
    "quadmesh = modelmap.plot_ibound()\n",
    "quadmesh = modelmap.plot_array(head, masked_values=[999.], alpha=0.5)\n",
    "modelmap.plot_bc(\"WEL\")\n",
    "modelmap.plot_bc(\"RIV\", color='m')\n",
    "linecollection = modelmap.plot_grid()\n",
    "contour_set = modelmap.contour_array(head, masked_values=[999.], levels=levels)\n",
    "\n"
   ]
  },
  {
   "cell_type": "code",
   "execution_count": 14,
   "metadata": {
    "collapsed": false
   },
   "outputs": [
    {
     "ename": "NameError",
     "evalue": "name 'headobj' is not defined",
     "output_type": "error",
     "traceback": [
      "\u001b[0;31m---------------------------------------------------------------------------\u001b[0m",
      "\u001b[0;31mNameError\u001b[0m                                 Traceback (most recent call last)",
      "\u001b[0;32m<ipython-input-14-19d0beaf86f0>\u001b[0m in \u001b[0;36m<module>\u001b[0;34m()\u001b[0m\n\u001b[1;32m      1\u001b[0m \u001b[0mfname\u001b[0m \u001b[1;33m=\u001b[0m \u001b[0mos\u001b[0m\u001b[1;33m.\u001b[0m\u001b[0mpath\u001b[0m\u001b[1;33m.\u001b[0m\u001b[0mjoin\u001b[0m\u001b[1;33m(\u001b[0m\u001b[0mmodelname\u001b[0m\u001b[1;33m,\u001b[0m \u001b[1;34m'p19.cbc'\u001b[0m\u001b[1;33m)\u001b[0m\u001b[1;33m\u001b[0m\u001b[0m\n\u001b[0;32m----> 2\u001b[0;31m \u001b[0mhead\u001b[0m \u001b[1;33m=\u001b[0m \u001b[0mheadobj\u001b[0m\u001b[1;33m.\u001b[0m\u001b[0mget_data\u001b[0m\u001b[1;33m(\u001b[0m\u001b[0mtotim\u001b[0m\u001b[1;33m=\u001b[0m\u001b[0mtimes\u001b[0m\u001b[1;33m[\u001b[0m\u001b[1;33m-\u001b[0m\u001b[1;36m1\u001b[0m\u001b[1;33m]\u001b[0m\u001b[1;33m)\u001b[0m\u001b[1;33m\u001b[0m\u001b[0m\n\u001b[0m\u001b[1;32m      3\u001b[0m \u001b[0mlevels\u001b[0m \u001b[1;33m=\u001b[0m \u001b[0mnp\u001b[0m\u001b[1;33m.\u001b[0m\u001b[0mlinspace\u001b[0m\u001b[1;33m(\u001b[0m\u001b[0mhead\u001b[0m\u001b[1;33m.\u001b[0m\u001b[0mmin\u001b[0m\u001b[1;33m(\u001b[0m\u001b[1;33m)\u001b[0m\u001b[1;33m,\u001b[0m \u001b[0mhead\u001b[0m\u001b[1;33m.\u001b[0m\u001b[0mmax\u001b[0m\u001b[1;33m(\u001b[0m\u001b[1;33m)\u001b[0m\u001b[1;33m,\u001b[0m \u001b[1;36m10\u001b[0m\u001b[1;33m)\u001b[0m\u001b[1;33m\u001b[0m\u001b[0m\n\u001b[1;32m      4\u001b[0m \u001b[1;33m\u001b[0m\u001b[0m\n\u001b[1;32m      5\u001b[0m \u001b[0mfig\u001b[0m \u001b[1;33m=\u001b[0m \u001b[0mplt\u001b[0m\u001b[1;33m.\u001b[0m\u001b[0mfigure\u001b[0m\u001b[1;33m(\u001b[0m\u001b[0mfigsize\u001b[0m\u001b[1;33m=\u001b[0m\u001b[1;33m(\u001b[0m\u001b[1;36m10\u001b[0m\u001b[1;33m,\u001b[0m \u001b[1;36m10\u001b[0m\u001b[1;33m)\u001b[0m\u001b[1;33m)\u001b[0m\u001b[1;33m\u001b[0m\u001b[0m\n",
      "\u001b[0;31mNameError\u001b[0m: name 'headobj' is not defined"
     ]
    }
   ],
   "source": [
    "fname = os.path.join(modelname, 'p19.cbc')\n",
    "head = headobj.get_data(totim=times[-1])\n",
    "levels = np.linspace(head.min(), head.max(), 10)\n",
    "\n",
    "fig = plt.figure(figsize=(10, 10))\n",
    "\n",
    "#plot_array\n",
    "ax = fig.add_subplot(1, 2, 1, aspect='equal')\n",
    "ax.set_title('contour_array()')\n",
    "modelmap = flopy.plot.ModelMap(model=mf)\n",
    "quadmesh = modelmap.plot_ibound()\n",
    "quadmesh = modelmap.plot_array(head, masked_values=[999.], alpha=0.5)\n",
    "modelmap.plot_bc(\"WEL\")\n",
    "modelmap.plot_bc(\"RIV\", color='m')\n",
    "linecollection = modelmap.plot_grid()\n",
    "contour_set = modelmap.contour_array(head, masked_values=[999.], levels=levels)\n"
   ]
  },
  {
   "cell_type": "code",
   "execution_count": 15,
   "metadata": {
    "collapsed": false
   },
   "outputs": [
    {
     "name": "stdout",
     "output_type": "stream",
     "text": [
      "   Time (min)  Observation Well 1  Observation Well 2  Observation Well 3\n",
      "0           1                0.17                0.04                0.00\n",
      "1           4                0.26                0.12                0.01\n",
      "2          10                0.33                0.16                0.02\n",
      "3          40                0.48                0.22                0.08\n",
      "4         100                0.57                0.29                0.14\n",
      "5         400                0.79                0.51                0.30\n",
      "6        1000                0.99                0.70                0.50\n",
      "7        2000                1.19                0.86                0.68\n",
      "8        3000                1.33                0.98                0.78\n",
      "   Time (min)  Observation Well 1\n",
      "0           1                0.17\n",
      "1           4                0.26\n",
      "2          10                0.33\n",
      "3          40                0.48\n",
      "4         100                0.57\n",
      "5         400                0.79\n",
      "6        1000                0.99\n",
      "7        2000                1.19\n",
      "8        3000                1.33\n",
      "   Time (min)  Observation Well 2\n",
      "0           1                0.04\n",
      "1           4                0.12\n",
      "2          10                0.16\n",
      "3          40                0.22\n",
      "4         100                0.29\n",
      "5         400                0.51\n",
      "6        1000                0.70\n",
      "7        2000                0.86\n",
      "8        3000                0.98\n",
      "   Time (min)  Observation Well 3\n",
      "0           1                0.00\n",
      "1           4                0.01\n",
      "2          10                0.02\n",
      "3          40                0.08\n",
      "4         100                0.14\n",
      "5         400                0.30\n",
      "6        1000                0.50\n",
      "7        2000                0.68\n",
      "8        3000                0.78\n"
     ]
    }
   ],
   "source": [
    "#create different variables for each well so that you can plot them\n",
    "table2 = pd.read_csv('../Data/table19.2.csv')\n",
    "print(table2)\n",
    "\n",
    "well1=table2.ix[0:, ['Time (min)', 'Observation Well 1']]\n",
    "print(well1)\n",
    "\n",
    "well2=table2.ix[0:, ['Time (min)', 'Observation Well 2']]\n",
    "print(well2)\n",
    "\n",
    "well3=table2.ix[0:, ['Time (min)', 'Observation Well 3']]\n",
    "print(well3)"
   ]
  },
  {
   "cell_type": "markdown",
   "metadata": {},
   "source": [
    "### Model Data"
   ]
  },
  {
   "cell_type": "code",
   "execution_count": 16,
   "metadata": {
    "collapsed": false
   },
   "outputs": [
    {
     "ename": "NameError",
     "evalue": "name 'headobj' is not defined",
     "output_type": "error",
     "traceback": [
      "\u001b[0;31m---------------------------------------------------------------------------\u001b[0m",
      "\u001b[0;31mNameError\u001b[0m                                 Traceback (most recent call last)",
      "\u001b[0;32m<ipython-input-16-5d761c81f094>\u001b[0m in \u001b[0;36m<module>\u001b[0;34m()\u001b[0m\n\u001b[1;32m      9\u001b[0m \u001b[0midx3\u001b[0m \u001b[1;33m=\u001b[0m \u001b[1;33m(\u001b[0m\u001b[1;36m0\u001b[0m\u001b[1;33m,\u001b[0m \u001b[1;36m30\u001b[0m\u001b[1;33m,\u001b[0m \u001b[1;36m31\u001b[0m\u001b[1;33m)\u001b[0m\u001b[1;33m\u001b[0m\u001b[0m\n\u001b[1;32m     10\u001b[0m \u001b[1;33m\u001b[0m\u001b[0m\n\u001b[0;32m---> 11\u001b[0;31m \u001b[0mts\u001b[0m \u001b[1;33m=\u001b[0m \u001b[0mheadobj\u001b[0m\u001b[1;33m.\u001b[0m\u001b[0mget_ts\u001b[0m\u001b[1;33m(\u001b[0m\u001b[1;33m[\u001b[0m\u001b[0midx1\u001b[0m\u001b[1;33m,\u001b[0m \u001b[0midx2\u001b[0m\u001b[1;33m,\u001b[0m \u001b[0midx3\u001b[0m\u001b[1;33m]\u001b[0m\u001b[1;33m)\u001b[0m\u001b[1;33m\u001b[0m\u001b[0m\n\u001b[0m\u001b[1;32m     12\u001b[0m \u001b[0mprint\u001b[0m\u001b[1;33m(\u001b[0m\u001b[0mts\u001b[0m\u001b[1;33m)\u001b[0m\u001b[1;33m\u001b[0m\u001b[0m\n\u001b[1;32m     13\u001b[0m \u001b[1;31m#prints out time, and the rate of drawdown at well 1, well 2, and well 3\u001b[0m\u001b[1;33m\u001b[0m\u001b[1;33m\u001b[0m\u001b[0m\n",
      "\u001b[0;31mNameError\u001b[0m: name 'headobj' is not defined"
     ]
    }
   ],
   "source": [
    "# *remember you have to subtract 1 from the original numbers for python*\n",
    "#well 1 (28, 32)\n",
    "idx1 = (0, 27, 31) #(nlay, nrow, ncol)\n",
    "\n",
    "#well 2 (29, 35)\n",
    "idx2 = (0, 28, 34)\n",
    "\n",
    "#well 3 (31, 32)\n",
    "idx3 = (0, 30, 31)\n",
    "\n",
    "ts = headobj.get_ts([idx1, idx2, idx3])\n",
    "print(ts)\n",
    "#prints out time, and the rate of drawdown at well 1, well 2, and well 3"
   ]
  },
  {
   "cell_type": "markdown",
   "metadata": {},
   "source": [
    "### Measured Data"
   ]
  },
  {
   "cell_type": "code",
   "execution_count": 17,
   "metadata": {
    "collapsed": false
   },
   "outputs": [
    {
     "name": "stdout",
     "output_type": "stream",
     "text": [
      "[[  1.00000000e+00   1.70000000e-01   4.00000000e-02   0.00000000e+00]\n",
      " [  4.00000000e+00   2.60000000e-01   1.20000000e-01   1.00000000e-02]\n",
      " [  1.00000000e+01   3.30000000e-01   1.60000000e-01   2.00000000e-02]\n",
      " [  4.00000000e+01   4.80000000e-01   2.20000000e-01   8.00000000e-02]\n",
      " [  1.00000000e+02   5.70000000e-01   2.90000000e-01   1.40000000e-01]\n",
      " [  4.00000000e+02   7.90000000e-01   5.10000000e-01   3.00000000e-01]\n",
      " [  1.00000000e+03   9.90000000e-01   7.00000000e-01   5.00000000e-01]\n",
      " [  2.00000000e+03   1.19000000e+00   8.60000000e-01   6.80000000e-01]\n",
      " [  3.00000000e+03   1.33000000e+00   9.80000000e-01   7.80000000e-01]]\n"
     ]
    }
   ],
   "source": [
    "well_data=np.array(table2)\n",
    "print(well_data)"
   ]
  },
  {
   "cell_type": "code",
   "execution_count": 18,
   "metadata": {
    "collapsed": false
   },
   "outputs": [
    {
     "name": "stdout",
     "output_type": "stream",
     "text": [
      "[[  6.94444444e-04   1.70000000e-01   4.00000000e-02   0.00000000e+00]\n",
      " [  2.77777778e-03   2.60000000e-01   1.20000000e-01   1.00000000e-02]\n",
      " [  6.94444444e-03   3.30000000e-01   1.60000000e-01   2.00000000e-02]\n",
      " [  2.77777778e-02   4.80000000e-01   2.20000000e-01   8.00000000e-02]\n",
      " [  6.94444444e-02   5.70000000e-01   2.90000000e-01   1.40000000e-01]\n",
      " [  2.77777778e-01   7.90000000e-01   5.10000000e-01   3.00000000e-01]\n",
      " [  6.94444444e-01   9.90000000e-01   7.00000000e-01   5.00000000e-01]\n",
      " [  1.38888889e+00   1.19000000e+00   8.60000000e-01   6.80000000e-01]\n",
      " [  2.08333333e+00   1.33000000e+00   9.80000000e-01   7.80000000e-01]]\n"
     ]
    }
   ],
   "source": [
    "well_data2=well_data.copy()\n",
    "well_data2[:, 0]=well_data2[:, 0]/1440\n",
    "print(well_data2)"
   ]
  },
  {
   "cell_type": "code",
   "execution_count": 19,
   "metadata": {
    "collapsed": false
   },
   "outputs": [
    {
     "ename": "NameError",
     "evalue": "name 'idx' is not defined",
     "output_type": "error",
     "traceback": [
      "\u001b[0;31m---------------------------------------------------------------------------\u001b[0m",
      "\u001b[0;31mNameError\u001b[0m                                 Traceback (most recent call last)",
      "\u001b[0;32m<ipython-input-19-e6ef6dd9eca7>\u001b[0m in \u001b[0;36m<module>\u001b[0;34m()\u001b[0m\n\u001b[1;32m      1\u001b[0m \u001b[1;31m# Plot the drawdown versus time\u001b[0m\u001b[1;33m\u001b[0m\u001b[1;33m\u001b[0m\u001b[0m\n\u001b[1;32m      2\u001b[0m \u001b[0mplt\u001b[0m\u001b[1;33m.\u001b[0m\u001b[0msubplot\u001b[0m\u001b[1;33m(\u001b[0m\u001b[1;36m1\u001b[0m\u001b[1;33m,\u001b[0m \u001b[1;36m1\u001b[0m\u001b[1;33m,\u001b[0m \u001b[1;36m1\u001b[0m\u001b[1;33m)\u001b[0m\u001b[1;33m\u001b[0m\u001b[0m\n\u001b[0;32m----> 3\u001b[0;31m \u001b[0mttl\u001b[0m \u001b[1;33m=\u001b[0m \u001b[1;34m'Drawdown ({0},{1},{2})'\u001b[0m\u001b[1;33m.\u001b[0m\u001b[0mformat\u001b[0m\u001b[1;33m(\u001b[0m\u001b[0midx\u001b[0m\u001b[1;33m[\u001b[0m\u001b[1;36m0\u001b[0m\u001b[1;33m]\u001b[0m \u001b[1;33m+\u001b[0m \u001b[1;36m1\u001b[0m\u001b[1;33m,\u001b[0m \u001b[0midx\u001b[0m\u001b[1;33m[\u001b[0m\u001b[1;36m1\u001b[0m\u001b[1;33m]\u001b[0m \u001b[1;33m+\u001b[0m \u001b[1;36m1\u001b[0m\u001b[1;33m,\u001b[0m \u001b[0midx\u001b[0m\u001b[1;33m[\u001b[0m\u001b[1;36m2\u001b[0m\u001b[1;33m]\u001b[0m \u001b[1;33m+\u001b[0m \u001b[1;36m1\u001b[0m\u001b[1;33m)\u001b[0m \u001b[1;31m#we are adding 1 to each part of idx to that it prints out the real values and not the code values\u001b[0m\u001b[1;33m\u001b[0m\u001b[0m\n\u001b[0m\u001b[1;32m      4\u001b[0m \u001b[0mplt\u001b[0m\u001b[1;33m.\u001b[0m\u001b[0mtitle\u001b[0m\u001b[1;33m(\u001b[0m\u001b[0mttl\u001b[0m\u001b[1;33m)\u001b[0m \u001b[1;31m#prints/plots title\u001b[0m\u001b[1;33m\u001b[0m\u001b[0m\n\u001b[1;32m      5\u001b[0m \u001b[0mplt\u001b[0m\u001b[1;33m.\u001b[0m\u001b[0mxlabel\u001b[0m\u001b[1;33m(\u001b[0m\u001b[1;34m'time (days)'\u001b[0m\u001b[1;33m)\u001b[0m \u001b[1;31m#labels the x-axis\u001b[0m\u001b[1;33m\u001b[0m\u001b[0m\n",
      "\u001b[0;31mNameError\u001b[0m: name 'idx' is not defined"
     ]
    },
    {
     "data": {
      "image/png": "[encoded data removed]",
      "text/plain": [
       "<matplotlib.figure.Figure at 0x188206c4438>"
      ]
     },
     "metadata": {},
     "output_type": "display_data"
    }
   ],
   "source": [
    "# Plot the drawdown versus time\n",
    "plt.subplot(1, 1, 1)\n",
    "ttl = 'Drawdown ({0},{1},{2})'.format(idx[0] + 1, idx[1] + 1, idx[2] + 1) #we are adding 1 to each part of idx to that it prints out the real values and not the code values\n",
    "plt.title(ttl) #prints/plots title\n",
    "plt.xlabel('time (days)') #labels the x-axis\n",
    "plt.ylabel('drawdown') #labels the y-axis\n",
    "#here we do \"0-ts...\" in order to show the drawdown of \n",
    "\n",
    "plt.plot(ts[:, 0], 0-ts[:, 1], 'ro', label='Measured Data: Well 1') #well 1 measured data\n",
    "plt.plot(ts[:, 0], 0-ts[:, 2], 'go', label='Measured Data: Well 2') #well 2 measured data\n",
    "plt.plot(ts[:, 0], 0-ts[:, 3], 'bo', label='Measured Data: Well 3') #well 3 measured data\n",
    "plt.plot(well_data2[:, 0], well_data2[:, 1], 'r-', label='Model Data: Well 1') #well 1 model data\n",
    "plt.plot(well_data2[:, 0], well_data2[:, 2], 'g-', label='Model Data: Well 2') #well 2 model data\n",
    "plt.plot(well_data2[:, 0], well_data2[:, 3], 'b-', label='Model Data: Well 3') #well 3 model data\n",
    "plt.xlim(0, ts[:, 0].max())\n",
    "plt.legend(bbox_to_anchor=(1.05, 1), loc=2, borderaxespad=0.) #puts the legend to the right of the plot\n",
    "#plt.ylim(0, (0-ts[:, 1:]).max())\n",
    "\n"
   ]
  },
  {
   "cell_type": "code",
   "execution_count": 20,
   "metadata": {
    "collapsed": false
   },
   "outputs": [
    {
     "ename": "NameError",
     "evalue": "name 'head' is not defined",
     "output_type": "error",
     "traceback": [
      "\u001b[0;31m---------------------------------------------------------------------------\u001b[0m",
      "\u001b[0;31mNameError\u001b[0m                                 Traceback (most recent call last)",
      "\u001b[0;32m<ipython-input-20-bc13d1fbb20f>\u001b[0m in \u001b[0;36m<module>\u001b[0;34m()\u001b[0m\n\u001b[1;32m      6\u001b[0m \u001b[0mriv\u001b[0m \u001b[1;33m=\u001b[0m \u001b[0mmodelmap\u001b[0m\u001b[1;33m.\u001b[0m\u001b[0mplot_bc\u001b[0m\u001b[1;33m(\u001b[0m\u001b[1;34m'RIV'\u001b[0m\u001b[1;33m,\u001b[0m \u001b[0mcolor\u001b[0m\u001b[1;33m=\u001b[0m\u001b[1;34m'b'\u001b[0m\u001b[1;33m,\u001b[0m \u001b[0mplotAll\u001b[0m\u001b[1;33m=\u001b[0m\u001b[1;32mTrue\u001b[0m\u001b[1;33m)\u001b[0m\u001b[1;33m\u001b[0m\u001b[0m\n\u001b[1;32m      7\u001b[0m \u001b[0mquadmesh\u001b[0m \u001b[1;33m=\u001b[0m \u001b[0mmodelmap\u001b[0m\u001b[1;33m.\u001b[0m\u001b[0mplot_bc\u001b[0m\u001b[1;33m(\u001b[0m\u001b[1;34m'WEL'\u001b[0m\u001b[1;33m,\u001b[0m \u001b[0mkper\u001b[0m\u001b[1;33m=\u001b[0m\u001b[1;36m1\u001b[0m\u001b[1;33m,\u001b[0m \u001b[0mplotAll\u001b[0m\u001b[1;33m=\u001b[0m\u001b[1;32mTrue\u001b[0m\u001b[1;33m)\u001b[0m\u001b[1;33m\u001b[0m\u001b[0m\n\u001b[0;32m----> 8\u001b[0;31m \u001b[0mcontour_set\u001b[0m \u001b[1;33m=\u001b[0m \u001b[0mmodelmap\u001b[0m\u001b[1;33m.\u001b[0m\u001b[0mcontour_array\u001b[0m\u001b[1;33m(\u001b[0m\u001b[0mhead\u001b[0m\u001b[1;33m,\u001b[0m \u001b[0mlevels\u001b[0m\u001b[1;33m=\u001b[0m\u001b[0mnp\u001b[0m\u001b[1;33m.\u001b[0m\u001b[0marange\u001b[0m\u001b[1;33m(\u001b[0m\u001b[1;36m0\u001b[0m\u001b[1;33m,\u001b[0m \u001b[1;36m36\u001b[0m\u001b[1;33m,\u001b[0m \u001b[1;36m1\u001b[0m\u001b[1;33m)\u001b[0m\u001b[1;33m,\u001b[0m \u001b[0mcolors\u001b[0m\u001b[1;33m=\u001b[0m\u001b[1;34m'g'\u001b[0m\u001b[1;33m)\u001b[0m\u001b[1;33m\u001b[0m\u001b[0m\n\u001b[0m\u001b[1;32m      9\u001b[0m \u001b[0mplt\u001b[0m\u001b[1;33m.\u001b[0m\u001b[0mclabel\u001b[0m\u001b[1;33m(\u001b[0m\u001b[0mcontour_set\u001b[0m\u001b[1;33m,\u001b[0m \u001b[0minline\u001b[0m\u001b[1;33m=\u001b[0m\u001b[1;36m1\u001b[0m\u001b[1;33m,\u001b[0m \u001b[0mfontsize\u001b[0m\u001b[1;33m=\u001b[0m\u001b[1;36m14\u001b[0m\u001b[1;33m)\u001b[0m\u001b[1;33m\u001b[0m\u001b[0m\n",
      "\u001b[0;31mNameError\u001b[0m: name 'head' is not defined"
     ]
    },
    {
     "data": {
      "image/png": "[encoded data removed]",
      "text/plain": [
       "<matplotlib.figure.Figure at 0x188204c20f0>"
      ]
     },
     "metadata": {},
     "output_type": "display_data"
    }
   ],
   "source": [
    "fig = plt.figure(figsize=(10, 10))\n",
    "ax = fig.add_subplot(1, 1, 1, aspect='equal')\n",
    "modelmap = flopy.plot.ModelMap(model=mf)\n",
    "quadmesh = modelmap.plot_ibound()\n",
    "linecollection = modelmap.plot_grid()\n",
    "riv = modelmap.plot_bc('RIV', color='b', plotAll=True)\n",
    "quadmesh = modelmap.plot_bc('WEL', kper=1, plotAll=True)\n",
    "contour_set = modelmap.contour_array(head, levels=np.arange(0, 36, 1), colors='g')\n",
    "plt.clabel(contour_set, inline=1, fontsize=14)"
   ]
  },
  {
   "cell_type": "code",
   "execution_count": 21,
   "metadata": {
    "collapsed": false
   },
   "outputs": [
    {
     "ename": "Exception",
     "evalue": "The specified text string is not in the budget file.",
     "output_type": "error",
     "traceback": [
      "\u001b[0;31m---------------------------------------------------------------------------\u001b[0m",
      "\u001b[0;31mException\u001b[0m                                 Traceback (most recent call last)",
      "\u001b[0;32m<ipython-input-21-fb008996d07a>\u001b[0m in \u001b[0;36m<module>\u001b[0;34m()\u001b[0m\n\u001b[1;32m      4\u001b[0m \u001b[0mfff\u001b[0m \u001b[1;33m=\u001b[0m \u001b[0mcbb\u001b[0m\u001b[1;33m.\u001b[0m\u001b[0mget_data\u001b[0m\u001b[1;33m(\u001b[0m\u001b[0mtext\u001b[0m\u001b[1;33m=\u001b[0m\u001b[1;34m'FLOW FRONT FACE'\u001b[0m\u001b[1;33m)\u001b[0m\u001b[1;33m\u001b[0m\u001b[0m\n\u001b[1;32m      5\u001b[0m \u001b[1;33m\u001b[0m\u001b[0m\n\u001b[0;32m----> 6\u001b[0;31m \u001b[0mrflow\u001b[0m \u001b[1;33m=\u001b[0m \u001b[0mcbb\u001b[0m\u001b[1;33m.\u001b[0m\u001b[0mget_data\u001b[0m\u001b[1;33m(\u001b[0m\u001b[0mtext\u001b[0m\u001b[1;33m=\u001b[0m\u001b[1;34m'RIVER LEAKAGE'\u001b[0m\u001b[1;33m)\u001b[0m \u001b[1;31m#create an array/for loop to get out first value of every step\u001b[0m\u001b[1;33m\u001b[0m\u001b[0m\n\u001b[0m\u001b[1;32m      7\u001b[0m \u001b[1;31m#cbb.list_records()\u001b[0m\u001b[1;33m\u001b[0m\u001b[1;33m\u001b[0m\u001b[0m\n\u001b[1;32m      8\u001b[0m \u001b[1;33m\u001b[0m\u001b[0m\n",
      "\u001b[0;32mC:\\Users\\Jordan\\Anaconda3\\lib\\site-packages\\flopy\\utils\\binaryfile.py\u001b[0m in \u001b[0;36mget_data\u001b[0;34m(self, idx, kstpkper, totim, text, paknam, full3D)\u001b[0m\n\u001b[1;32m    971\u001b[0m         \u001b[0mtext16\u001b[0m \u001b[1;33m=\u001b[0m \u001b[1;32mNone\u001b[0m\u001b[1;33m\u001b[0m\u001b[0m\n\u001b[1;32m    972\u001b[0m         \u001b[1;32mif\u001b[0m \u001b[0mtext\u001b[0m \u001b[1;32mis\u001b[0m \u001b[1;32mnot\u001b[0m \u001b[1;32mNone\u001b[0m\u001b[1;33m:\u001b[0m\u001b[1;33m\u001b[0m\u001b[0m\n\u001b[0;32m--> 973\u001b[0;31m             \u001b[0mtext16\u001b[0m \u001b[1;33m=\u001b[0m \u001b[0mself\u001b[0m\u001b[1;33m.\u001b[0m\u001b[0m_find_text\u001b[0m\u001b[1;33m(\u001b[0m\u001b[0mtext\u001b[0m\u001b[1;33m)\u001b[0m\u001b[1;33m\u001b[0m\u001b[0m\n\u001b[0m\u001b[1;32m    974\u001b[0m         \u001b[0mpaknam16\u001b[0m \u001b[1;33m=\u001b[0m \u001b[1;32mNone\u001b[0m\u001b[1;33m\u001b[0m\u001b[0m\n\u001b[1;32m    975\u001b[0m         \u001b[1;32mif\u001b[0m \u001b[0mpaknam\u001b[0m \u001b[1;32mis\u001b[0m \u001b[1;32mnot\u001b[0m \u001b[1;32mNone\u001b[0m\u001b[1;33m:\u001b[0m\u001b[1;33m\u001b[0m\u001b[0m\n",
      "\u001b[0;32mC:\\Users\\Jordan\\Anaconda3\\lib\\site-packages\\flopy\\utils\\binaryfile.py\u001b[0m in \u001b[0;36m_find_text\u001b[0;34m(self, text)\u001b[0m\n\u001b[1;32m    787\u001b[0m             \u001b[1;32mif\u001b[0m \u001b[0mtext16\u001b[0m \u001b[1;32mis\u001b[0m \u001b[1;32mNone\u001b[0m\u001b[1;33m:\u001b[0m\u001b[1;33m\u001b[0m\u001b[0m\n\u001b[1;32m    788\u001b[0m                 \u001b[0merrmsg\u001b[0m \u001b[1;33m=\u001b[0m \u001b[1;34m'The specified text string is not in the budget file.'\u001b[0m\u001b[1;33m\u001b[0m\u001b[0m\n\u001b[0;32m--> 789\u001b[0;31m                 \u001b[1;32mraise\u001b[0m \u001b[0mException\u001b[0m\u001b[1;33m(\u001b[0m\u001b[0merrmsg\u001b[0m\u001b[1;33m)\u001b[0m\u001b[1;33m\u001b[0m\u001b[0m\n\u001b[0m\u001b[1;32m    790\u001b[0m         \u001b[1;32mreturn\u001b[0m \u001b[0mtext16\u001b[0m\u001b[1;33m\u001b[0m\u001b[0m\n\u001b[1;32m    791\u001b[0m \u001b[1;33m\u001b[0m\u001b[0m\n",
      "\u001b[0;31mException\u001b[0m: The specified text string is not in the budget file."
     ]
    }
   ],
   "source": [
    "fname = os.path.join(model_ws, 'p19.cbc')\n",
    "cbb = flopy.utils.CellBudgetFile(fname)\n",
    "frf = cbb.get_data(text='FLOW RIGHT FACE')\n",
    "fff = cbb.get_data(text='FLOW FRONT FACE')\n",
    "\n",
    "rflow = cbb.get_data(text='RIVER LEAKAGE') #create an array/for loop to get out first value of every step\n",
    "#cbb.list_records()\n",
    "\n",
    "#create new list\n",
    "rlist=[]\n",
    "\n",
    "#create for loop to store only the first value of each time step from riv_flow into riv_list\n",
    "for riv in rflow:\n",
    "    rlist.append(riv['q'][0])\n",
    "    \n",
    "print(rlist)"
   ]
  },
  {
   "cell_type": "code",
   "execution_count": null,
   "metadata": {
    "collapsed": true
   },
   "outputs": [],
   "source": []
  },
  {
   "cell_type": "code",
   "execution_count": null,
   "metadata": {
    "collapsed": true
   },
   "outputs": [],
   "source": []
  }
 ],
 "metadata": {
  "kernelspec": {
   "display_name": "Python 3",
   "language": "python",
   "name": "python3"
  },
  "language_info": {
   "codemirror_mode": {
    "name": "ipython",
    "version": 3
   },
   "file_extension": ".py",
   "mimetype": "text/x-python",
   "name": "python",
   "nbconvert_exporter": "python",
   "pygments_lexer": "ipython3",
   "version": "3.6.0"
  }
 },
 "nbformat": 4,
 "nbformat_minor": 2
}
