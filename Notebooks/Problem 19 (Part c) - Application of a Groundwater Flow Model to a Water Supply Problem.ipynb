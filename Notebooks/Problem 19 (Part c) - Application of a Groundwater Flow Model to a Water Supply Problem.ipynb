{
 "cells": [
  {
   "cell_type": "markdown",
   "metadata": {},
   "source": [
    "# Problem 19: Application of a Groundwater Flow Model to a Water Supply Problem"
   ]
  },
  {
   "cell_type": "markdown",
   "metadata": {},
   "source": [
    "# INTRODUCTION\n",
    "_Groundwater flow models are often used in term productivity of local or regional aquifers.\n",
    "water resource evaluations to assess the longThis exercise presents an example of an application to a local system and involves calibration to an aquifer test and prediction using best estimates of aquifer properties. Of historical interest, this problem is adapted from one of the first applications of a digital model to a water resource problem (Pinder and Bredehoeft, 1968). The specific objective of their study was to assess whether a glaciofluviaI aquifer could provide an adequate water supply for a village in Nova Scotia._\n"
   ]
  },
  {
   "cell_type": "markdown",
   "metadata": {},
   "source": [
    "# PROBLEM STATEMENT AND DATA\n",
    "_The aquifer is located adjacent to the Musquodoboit River, l/4-mile northwest of the village of Musquodoboit Harbour, as shown in Figure 19.1. The aquifer is a glaciofluvial deposit consisting of coarse sand, gravel, cobbles, and boulders deposited in a typical Ushaped glacial valley cut into the slates and quartzites of the Meguma group and the granite intrusive of Devonian age. The contrast in permeability between the granitic and metamorphic rocks and the glaciofluvial valley fill is so great (approximately 106) that the bedrock is considered as impermeable in the aquifer analysis. The aquifer, which is up to 62 feet thick, is extensively overlain by recent alluvial deposits of sand, silt and clay. The alluvial deposits are less permeable and act as confining beds. A cross-section through the valley is given in Figure 19.2._\n",
    "\n",
    "_A pumping test was conducted to evaluate the aquifer transmissivity and storage coefficient, and to estimate recharge from the river. The test was run for 36 hours using a well discharging at 0.963 cubic feet per second (432 gallons per minute) and three observation wells (see inset of Figure 19.1 for locations). The test was discontinued when the water level in the pumping well became stable. Initial estimates of aquifer parameters were calculated using the Theis curve and the early segment of the drawdown curves for the observation wells. The results were somewhat variable, ranging from 1.15 ft2/s to 1.45 ft2/s. A quasi-steady state formula for estimating transmissivity yielded results on the order of 0.3 ft2/s. Because of the close proximity of boundaries, the pumping test results are difficult to analyze using usual analytical methods._\n",
    "\n",
    "_A listing of the data set for the MODFLOW model is provided on page 19-4. The aquifer is treated as confined, with transmissivity zones to account for thickness and facies changes. The ratio between zones of transmissivity (1,2, and 4) are given in the data set; absolute values of transmissivity are not given. A map of the transmissivity zones and model boundaries is given in Figure 19.3._\n",
    "\n",
    "_A uniform value of storage coefficient is used in the analysis. The model is used to simulate drawdown, hence an initial head condition of 0.0 ft is used. Recharge is not specified because only drawdown is simulated. A river is simulated using the RIVER package. Its location is shown in Figure 19.4. Other pertinent data is given in Table 19.1._\n"
   ]
  },
  {
   "cell_type": "markdown",
   "metadata": {},
   "source": [
    "## Part c)\n",
    "_Make some conclusions:_"
   ]
  },
  {
   "cell_type": "markdown",
   "metadata": {},
   "source": [
    "_How good is your history match?_\n"
   ]
  },
  {
   "cell_type": "markdown",
   "metadata": {},
   "source": [
    "_What additional changes might improve it?_\n"
   ]
  },
  {
   "cell_type": "markdown",
   "metadata": {},
   "source": [
    "_How important is river leakage?_\n"
   ]
  },
  {
   "cell_type": "markdown",
   "metadata": {},
   "source": [
    "_How appropriate is the confined model approximation?_\n"
   ]
  },
  {
   "cell_type": "markdown",
   "metadata": {},
   "source": [
    "_How much confidence do you have in you prediction?_\n"
   ]
  },
  {
   "cell_type": "markdown",
   "metadata": {},
   "source": [
    "_Is the system at steady-state at 1000 days?\n"
   ]
  },
  {
   "cell_type": "markdown",
   "metadata": {},
   "source": [
    "_What are some weaknesses in the calibration/prediction procedure?_\n"
   ]
  },
  {
   "cell_type": "markdown",
   "metadata": {},
   "source": [
    "_What does the modeling indicate regarding the feasibility of using this aquifer as a water supply?_\n"
   ]
  }
 ],
 "metadata": {
  "kernelspec": {
   "display_name": "Python 3",
   "language": "python",
   "name": "python3"
  },
  "language_info": {
   "codemirror_mode": {
    "name": "ipython",
    "version": 3
   },
   "file_extension": ".py",
   "mimetype": "text/x-python",
   "name": "python",
   "nbconvert_exporter": "python",
   "pygments_lexer": "ipython3",
   "version": "3.6.0"
  }
 },
 "nbformat": 4,
 "nbformat_minor": 2
}
