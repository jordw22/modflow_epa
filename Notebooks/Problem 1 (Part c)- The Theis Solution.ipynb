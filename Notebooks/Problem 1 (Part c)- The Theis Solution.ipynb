{
 "cells": [
  {
   "cell_type": "markdown",
   "metadata": {},
   "source": [
    "# A Manual of Instructional Problems for the U.S.G.S Modflow Model"
   ]
  },
  {
   "cell_type": "markdown",
   "metadata": {},
   "source": [
    "# Problem 1: The Theis Solution"
   ]
  },
  {
   "cell_type": "markdown",
   "metadata": {},
   "source": [
    "### Table 1.1 Parameters used in Problem 1\n",
    "\n",
    "| First Header               | Second Header   |\n",
    "|----------------------------|-----------------|\n",
    "| Initial head               | 0.0 m           |\n",
    "| Transmissivity             | 0.0023 m^2/s    |\n",
    "| Storage coefficient        | 0.00075         |\n",
    "| Pumping rate               | 4 x 10^-3 m^3/s |\n",
    "| Final time                 | 86400 s         |\n",
    "| Number of time steps       | 20              |\n",
    "| Time step expansion factor | 1.3             |\n",
    "| SIP iteration parameters   | 5               |\n",
    "| Closure criterion          | 0.0001          |\n",
    "| Maximum number iterations  | 50              |"
   ]
  },
  {
   "cell_type": "code",
   "execution_count": 80,
   "metadata": {
    "collapsed": true
   },
   "outputs": [],
   "source": [
    "#Import and modules/packages that we need to work with\n",
    "%matplotlib inline\n",
    "import os\n",
    "import sys\n",
    "#import numpy as np\n",
    "import matplotlib as mpl\n",
    "import matplotlib.pyplot as plt\n",
    "import flopy\n",
    "#import csv\n",
    "\n",
    "#paths for quick access\n",
    "datapath = '../Data'"
   ]
  },
  {
   "cell_type": "code",
   "execution_count": 81,
   "metadata": {
    "collapsed": false,
    "scrolled": true
   },
   "outputs": [
    {
     "name": "stdout",
     "output_type": "stream",
     "text": [
      "0.0 m\n",
      "0.0023 m^2/s\n",
      "0.00075\n",
      "4x10^-3 m^3/s\n",
      "86400s\n",
      "20\n",
      "1.3\n",
      "5\n",
      "0.0001\n",
      "50\n"
     ]
    }
   ],
   "source": [
    "#Store the values of each parameter into separate variables\n",
    "inh = (str(0.0) + ' m') #initial head\n",
    "trans = (str(0.0023) + ' m^2/s') #transmissivity\n",
    "sc = (str(0.00075)) #storage coefficient\n",
    "pr = (str(4) + 'x' + (str(10) + '^-' + (str(3) + ' m^3/s'))) #pumping rate\n",
    "ft = (str(86400) + 's') #final time\n",
    "num_of_ts = (str(20)) #number of time steps\n",
    "ts_exp_fact = (str(1.3)) #time step expansion factor\n",
    "sip_it_par = (str(5)) #SIP iteration parameters\n",
    "cc = (str(0.0001)) #closure criterion\n",
    "max_num_of_it = (str(50)) #maximum number of iterations\n",
    "\n",
    "print (inh + '\\n' + trans + '\\n' + sc + '\\n' + pr + '\\n' + ft + '\\n' + num_of_ts + '\\n' + \n",
    "       ts_exp_fact + '\\n' + sip_it_par + '\\n' + cc + '\\n' + max_num_of_it)"
   ]
  },
  {
   "cell_type": "markdown",
   "metadata": {},
   "source": [
    "### Table 1.2 Grid spacing used for Part c model configurations\n",
    "\n",
    "\n",
    "| Row number (i) (=column number (j)) | Part c |\n",
    "|-------------------------------------|--------|\n",
    "| 1                                   | 1      |\n",
    "| 2                                   | 1.413  |\n",
    "| 3                                   | 2      |\n",
    "| 4                                   | 2.83   |\n",
    "| 5                                   | 4      |\n",
    "| 6                                   | 5.65   |\n",
    "| 7                                   | 8      |\n",
    "| 8                                   | 11.3   |\n",
    "| 9                                   | 12     |\n",
    "| 10                                  | 14.62  |\n",
    "| 11                                  | 20     |\n",
    "| 12                                  | 28.3   |\n",
    "| 13                                  | 40     |\n",
    "| 14                                  | 56.5   |\n",
    "| 15                                  | 80     |\n",
    "| 16                                  | 110    |\n",
    "| 17                                  | 150    |\n",
    "| 18                                  | 200    |\n",
    "| 19                                  | 252.89 |"
   ]
  },
  {
   "cell_type": "code",
   "execution_count": 82,
   "metadata": {
    "collapsed": false
   },
   "outputs": [
    {
     "name": "stdout",
     "output_type": "stream",
     "text": [
      "3.6.0 |Anaconda 4.3.1 (64-bit)| (default, Dec 23 2016, 11:57:41) [MSC v.1900 64 bit (AMD64)]\n",
      "numpy version: 1.11.3\n",
      "matplotlib version: 2.0.0\n",
      "flopy version: 3.2.6\n"
     ]
    }
   ],
   "source": [
    "#code for part a grid\n",
    "%matplotlib inline\n",
    "import sys\n",
    "import os\n",
    "import platform\n",
    "import numpy as np\n",
    "import matplotlib as mpl\n",
    "import matplotlib.pyplot as plt\n",
    "import flopy\n",
    "\n",
    "print(sys.version)\n",
    "print('numpy version: {}'.format(np.__version__))\n",
    "print('matplotlib version: {}'.format(mpl.__version__))\n",
    "print('flopy version: {}'.format(flopy.__version__))"
   ]
  },
  {
   "cell_type": "code",
   "execution_count": 83,
   "metadata": {
    "collapsed": false,
    "scrolled": true
   },
   "outputs": [
    {
     "name": "stdout",
     "output_type": "stream",
     "text": [
      "C:\\VT\\USGS Internship\\EPA-MF-Problems\\Notebooks\n",
      "1.0\n",
      "1.413\n",
      "2.0\n",
      "2.83\n",
      "4.0\n",
      "5.65\n",
      "8.0\n",
      "11.3\n",
      "12.0\n",
      "14.62\n",
      "20.0\n",
      "28.3\n",
      "40.0\n",
      "56.5\n",
      "80.0\n",
      "110.0\n",
      "150.0\n",
      "200.0\n",
      "252.89\n",
      "[1.0, 1.413, 2.0, 2.83, 4.0, 5.65, 8.0, 11.3, 12.0, 14.62, 20.0, 28.3, 40.0, 56.5, 80.0, 110.0, 150.0, 200.0, 252.89]\n"
     ]
    }
   ],
   "source": [
    "print(os.getcwd())\n",
    "delr = [] #creates an empty list\n",
    "f = open('../Data/table1.2.csv') #opens the csv file\n",
    "for i,line in enumerate(f): \n",
    "    if i == 0: #creates a statement that if i == 0 (if it's the first\n",
    "        continue #row then it will skip it and move on with the for loop)\n",
    "    linelist = line.strip().split(',') #line.strip gets rid of any extra spaces in the margins\n",
    "                                       #split sections of the individual values according to whatever you put in the quotes\n",
    "    value = float(linelist[3]) #changes the values in the list to floats\n",
    "    print(value) #prints the values\n",
    "    delr.append(value) #puts the floats into the empty list, delr \n",
    "    \n",
    "print(delr) #prints the list"
   ]
  },
  {
   "cell_type": "code",
   "execution_count": 114,
   "metadata": {
    "collapsed": false,
    "scrolled": false
   },
   "outputs": [
    {
     "data": {
      "image/png": "[encoded data removed]",
      "text/plain": [
       "<matplotlib.figure.Figure at 0x20811499160>"
      ]
     },
     "metadata": {},
     "output_type": "display_data"
    }
   ],
   "source": [
    "fig = plt.figure(figsize=(10, 10))\n",
    "ax = fig.add_subplot(1, 1, 1, aspect='equal')\n",
    "delr_array = np.array(delr) #changes delr values from float to array\n",
    "ymax = delr_array.sum() #assigns the sum of the list to ymax\n",
    "ymin = 0\n",
    "xmax = ymax #makes xmax equal to ymax which is equal to the sum of the list\n",
    "xmin = 0\n",
    "x = 0\n",
    "y = 0\n",
    "\n",
    "    #assign the x and y values to the sum of the list and then divided \n",
    "    #in half in order the get the mean, now the well is right in the middle\n",
    "xmean = delr_array.sum() * .5\n",
    "ymean = delr_array.sum() * .5\n",
    "\n",
    "plt.plot([xmin, xmin], [ymin, ymax], 'b-') #plots the first column line. Must be outside of the loop\n",
    "\n",
    "for dx in delr: #dx will go through the values in delr one by one in the loop\n",
    "    x = x + dx #add the dx value to x, which is zero, and then store that new value into x\n",
    "    plt.plot([x, x], [ymax, ymin], 'b-') #plot that point and then loop back to top\n",
    "\n",
    "    #repeat the process above but with the y values to make the rows\n",
    "plt.plot([xmin, xmax], [ymin, ymin], 'g-') #plots the first row line. Must be outside of the loop\n",
    "\n",
    "for dy in delr: \n",
    "    y = y + dy\n",
    "    plt.plot([xmin, xmax], [y, y], 'g-')\n",
    "    #plt.gca().invert_yaxis()\n",
    "\n",
    "def plot_well(xmin, ymax, sym):\n",
    "    plt.plot(xmin, ymax, sym)\n",
    "plot_well(xmin, ymax, sym='ro')"
   ]
  },
  {
   "cell_type": "markdown",
   "metadata": {},
   "source": [
    "#### Part c\n",
    "Re-run part b with the grid spacing shown in Table 1.2. The overall model domain is the same size as part b, but grid spacing is finer near the pumping well. Run the model and note drawdown at each time step at an observation point 55 m from the pumping well."
   ]
  },
  {
   "cell_type": "code",
   "execution_count": 85,
   "metadata": {
    "collapsed": false,
    "scrolled": false
   },
   "outputs": [
    {
     "name": "stdout",
     "output_type": "stream",
     "text": [
      "[   1.       1.413    2.       2.83     4.       5.65     8.      11.3\n",
      "   12.      14.62    20.      28.3     40.      56.5     80.     110.     150.\n",
      "  200.     252.89 ]\n",
      "1000.503\n"
     ]
    },
    {
     "data": {
      "image/png": "[encoded data removed]",
      "text/plain": [
       "<matplotlib.figure.Figure at 0x20810ccb588>"
      ]
     },
     "metadata": {},
     "output_type": "display_data"
    }
   ],
   "source": [
    "fig = plt.figure(figsize=(10, 10))\n",
    "ax = fig.add_subplot(1, 1, 1, aspect='equal')\n",
    "delr_array = np.array(delr) #changes delr values from float to array\n",
    "print (delr_array) #prints those values\n",
    "print (delr_array.sum()) #prints the sum of those values\n",
    "ymax = delr_array.sum() #assigns the sum of the list to ymax\n",
    "ymin = 0\n",
    "xmax = ymax #makes xmax equal to ymax which is equal to the sum of the list\n",
    "xmin = 0\n",
    "x = 0\n",
    "y = 0\n",
    "xmean = delr_array.sum() * .5\n",
    "ymean = delr_array.sum() * .5\n",
    "\n",
    "plt.plot([xmin, xmin], [ymin, ymax], 'b-') #plots the first column line. Must be outside of the loop\n",
    "\n",
    "for dx in delr: #dx will go through the values in delr one by one in the loop\n",
    "    x = x + dx #add the dx value to x, which is zero, and then store that new value into x\n",
    "    plt.plot([x, x], [ymin, ymax], 'b-') #plot that point and then loop back to top\n",
    "    \n",
    "    #repeat the process above but with the y values to make the rows\n",
    "plt.plot([xmin, xmax], [ymin, ymin], 'g-') #plots the first row line. Must be outside of the loop\n",
    "\n",
    "for dy in delr: \n",
    "    y = y + dy\n",
    "    plt.plot([xmin, xmax], [y, y], 'g-')\n",
    "    plt.gca().invert_yaxis()\n",
    "\n",
    "def plot_well(xmin, ymax, sym):\n",
    "    plt.plot(xmin, ymax, sym)\n",
    "plot_well(xmin, ymin, sym='ro')"
   ]
  },
  {
   "cell_type": "markdown",
   "metadata": {},
   "source": [
    "### Table 1.1 Parameters used in Problem 1c\n",
    "\n",
    "| Variable | Value   |\n",
    "|----------------------------|-----------------|\n",
    "| Initial head               | 0.0 m           |\n",
    "| Transmissivity             | 0.0023 m^2/s    |\n",
    "| Storage coefficient        | 0.00075         |\n",
    "| Pumping rate               | 4 x 10^-3 * .25 m^3/s |\n",
    "| Final time                 | 1000.503 s         |\n",
    "| Number of time steps       | 20              |\n",
    "| Time step expansion factor | 1.3             |\n",
    "| SIP iteration parameters   | 5               |\n",
    "| Closure criterion          | 0.0001          |\n",
    "| Maximum number iterations  | 50              |"
   ]
  },
  {
   "cell_type": "code",
   "execution_count": 86,
   "metadata": {
    "collapsed": false
   },
   "outputs": [
    {
     "name": "stdout",
     "output_type": "stream",
     "text": [
      "initial head: 0.0\n",
      "transmissivity: 0.0023 m^2/s\n",
      "storage coefficient: 0.00075\n",
      "pumping rate: 0.001 m^3/s\n",
      "final time: 86400 s\n",
      "number of time steps: 20\n",
      "time step expansion factor: 1.3\n",
      "SIP iteration parameters: 5\n",
      "closure criterion: 0.0001\n",
      "maximum number of iterations: 50\n"
     ]
    }
   ],
   "source": [
    "#Store the values of each parameter into separate variables\n",
    "inh = 0.0 #initial head\n",
    "trans = 23.e-4 #transmissivity (is equal to hk*(top-botm))\n",
    "ss = 0.00075 #storage coefficient\n",
    "pr = 4.e-3 * .25 #pumping rate\n",
    "perlen = 86400 #final time (period length)\n",
    "nstp = 20 #number of time steps\n",
    "tsmult = 1.3 #time step expansion factor (time step multiplier)\n",
    "sip_it_par = 5 #SIP iteration parameters\n",
    "hclose = 1.e-4 #closure criterion (the head change criterion for convergence)\n",
    "mxiter = 50 #maximum number of iterations\n",
    "nlay = 1 #number of layers\n",
    "nrow = 19 #number of rows\n",
    "ncol = 19 #number of columns\n",
    "\n",
    "#print values to make sure they are all stored properly\n",
    "#put in quotes to make a string, .format takes whatever is in the () \n",
    "#and changes it to a float, it is then stored in the {}\n",
    "\n",
    "print('initial head: {}'.format(inh))\n",
    "print('transmissivity: {} m^2/s'.format(trans))\n",
    "print('storage coefficient: {}'.format(ss))\n",
    "print('pumping rate: {} m^3/s'.format(pr))\n",
    "print('final time: {} s'.format(perlen))\n",
    "print('number of time steps: {}'.format(nstp))\n",
    "print('time step expansion factor: {}'.format(tsmult))\n",
    "print('SIP iteration parameters: {}'.format(sip_it_par))\n",
    "print('closure criterion: {}'.format(hclose))\n",
    "print('maximum number of iterations: {}'.format(mxiter))\n"
   ]
  },
  {
   "cell_type": "code",
   "execution_count": 1,
   "metadata": {
    "collapsed": false
   },
   "outputs": [
    {
     "ename": "NameError",
     "evalue": "name 'flopy' is not defined",
     "output_type": "error",
     "traceback": [
      "\u001b[0;31m---------------------------------------------------------------------------\u001b[0m",
      "\u001b[0;31mNameError\u001b[0m                                 Traceback (most recent call last)",
      "\u001b[0;32m<ipython-input-1-625e235d8730>\u001b[0m in \u001b[0;36m<module>\u001b[0;34m()\u001b[0m\n\u001b[1;32m      3\u001b[0m \u001b[0mexe_name\u001b[0m \u001b[1;33m=\u001b[0m \u001b[1;34m'../MF2005.1_12/bin/mf2005.exe'\u001b[0m\u001b[1;33m\u001b[0m\u001b[0m\n\u001b[1;32m      4\u001b[0m \u001b[0mmodel_ws\u001b[0m \u001b[1;33m=\u001b[0m \u001b[1;34m'temp'\u001b[0m\u001b[1;33m\u001b[0m\u001b[0m\n\u001b[0;32m----> 5\u001b[0;31m \u001b[0mmf\u001b[0m \u001b[1;33m=\u001b[0m \u001b[0mflopy\u001b[0m\u001b[1;33m.\u001b[0m\u001b[0mmodflow\u001b[0m\u001b[1;33m.\u001b[0m\u001b[0mModflow\u001b[0m\u001b[1;33m(\u001b[0m\u001b[0mmodelname\u001b[0m\u001b[1;33m,\u001b[0m \u001b[0mexe_name\u001b[0m\u001b[1;33m=\u001b[0m\u001b[0mexe_name\u001b[0m\u001b[1;33m,\u001b[0m \u001b[0mmodel_ws\u001b[0m \u001b[1;33m=\u001b[0m \u001b[0mmodel_ws\u001b[0m\u001b[1;33m)\u001b[0m\u001b[1;33m\u001b[0m\u001b[0m\n\u001b[0m",
      "\u001b[0;31mNameError\u001b[0m: name 'flopy' is not defined"
     ]
    }
   ],
   "source": [
    "#Flopy objects\n",
    "modelname = 'p1_pc' #short for problem 1 part c\n",
    "exe_name = '../MF2005.1_12/bin/mf2005.exe'\n",
    "model_ws = 'temp'\n",
    "mf = flopy.modflow.Modflow(modelname, exe_name=exe_name, model_ws = model_ws)"
   ]
  },
  {
   "cell_type": "code",
   "execution_count": 88,
   "metadata": {
    "collapsed": true
   },
   "outputs": [],
   "source": [
    "#call in the discretization package\n",
    "delr = delr\n",
    "delc = delr #set delr values equal to delc\n",
    "top = 0 #an array of the top elevation of layer 1\n",
    "botm = -1 #an array of the bottom elevation of layer 1\n",
    "nper = 1 #number of periods\n",
    "dis = flopy.modflow.ModflowDis(mf, nlay, nrow, ncol, delr=delr, delc=delc,\n",
    "                               top=top, botm=botm, nper=nper, perlen=perlen, \n",
    "                               nstp=nstp, tsmult=tsmult, steady=False)"
   ]
  },
  {
   "cell_type": "code",
   "execution_count": 89,
   "metadata": {
    "collapsed": true
   },
   "outputs": [],
   "source": [
    "#call in the basic package\n",
    "ibound = np.ones((nlay, nrow, ncol))\n",
    "strt = np.zeros((nlay, nrow, ncol))\n",
    "bas = flopy.modflow.ModflowBas(mf, ibound=ibound, strt=strt)"
   ]
  },
  {
   "cell_type": "code",
   "execution_count": 90,
   "metadata": {
    "collapsed": false
   },
   "outputs": [],
   "source": [
    "#call in the well package (WEL)\n",
    "# Remember to use zero-based layer, row, column indices!\n",
    "wel_sp1 = [[0, 0, 0, -pr]]\n",
    "stress_period_data = {0: wel_sp1}\n",
    "wel = flopy.modflow.ModflowWel(mf, stress_period_data=stress_period_data)"
   ]
  },
  {
   "cell_type": "code",
   "execution_count": 91,
   "metadata": {
    "collapsed": false
   },
   "outputs": [],
   "source": [
    "#call in the preconditioned conjugate-gradient package (PCG) \n",
    "pcg = flopy.modflow.ModflowPcg(mf, mxiter=mxiter, hclose=hclose)"
   ]
  },
  {
   "cell_type": "code",
   "execution_count": 107,
   "metadata": {
    "collapsed": false
   },
   "outputs": [
    {
     "name": "stdout",
     "output_type": "stream",
     "text": [
      "WARNING: unit 15 of package LPF already in use\n",
      "****Warning -- two packages of the same type:  <class 'flopy.modflow.mflpf.ModflowLpf'> <class 'flopy.modflow.mflpf.ModflowLpf'>\n",
      "replacing existing Package...\n"
     ]
    }
   ],
   "source": [
    "#call in the layer-propery flow (LPF)\n",
    "hk = trans\n",
    "ss = 75e-5\n",
    "laytyp = np.zeros((nlay))\n",
    "lpf = flopy.modflow.ModflowLpf(mf, hk=hk, ss=ss, laytyp=laytyp)"
   ]
  },
  {
   "cell_type": "code",
   "execution_count": 93,
   "metadata": {
    "collapsed": false
   },
   "outputs": [],
   "source": [
    "#call in the output control package (OC)\n",
    "oc = flopy.modflow.ModflowOc(mf)"
   ]
  },
  {
   "cell_type": "code",
   "execution_count": 94,
   "metadata": {
    "collapsed": false
   },
   "outputs": [
    {
     "name": "stdout",
     "output_type": "stream",
     "text": [
      "warning: assuming SpatialReference units are meters\n"
     ]
    }
   ],
   "source": [
    "# Write the MODFLOW model input files\n",
    "mf.write_input()"
   ]
  },
  {
   "cell_type": "code",
   "execution_count": 95,
   "metadata": {
    "collapsed": false
   },
   "outputs": [
    {
     "name": "stdout",
     "output_type": "stream",
     "text": [
      "FloPy is using the following executable to run the model: ../MF2005.1_12/bin/mf2005.exe\n",
      "\n",
      "                                  MODFLOW-2005     \n",
      "    U.S. GEOLOGICAL SURVEY MODULAR FINITE-DIFFERENCE GROUND-WATER FLOW MODEL\n",
      "                             Version 1.12.00 2/3/2017                        \n",
      "\n",
      " Using NAME file: p1_pc.nam \n",
      " Run start date and time (yyyy/mm/dd hh:mm:ss): 2017/06/06 11:16:32\n",
      "\n",
      " Solving:  Stress period:     1    Time step:     1    Ground-Water Flow Eqn.\n",
      " Solving:  Stress period:     1    Time step:     2    Ground-Water Flow Eqn.\n",
      " Solving:  Stress period:     1    Time step:     3    Ground-Water Flow Eqn.\n",
      " Solving:  Stress period:     1    Time step:     4    Ground-Water Flow Eqn.\n",
      " Solving:  Stress period:     1    Time step:     5    Ground-Water Flow Eqn.\n",
      " Solving:  Stress period:     1    Time step:     6    Ground-Water Flow Eqn.\n",
      " Solving:  Stress period:     1    Time step:     7    Ground-Water Flow Eqn.\n",
      " Solving:  Stress period:     1    Time step:     8    Ground-Water Flow Eqn.\n",
      " Solving:  Stress period:     1    Time step:     9    Ground-Water Flow Eqn.\n",
      " Solving:  Stress period:     1    Time step:    10    Ground-Water Flow Eqn.\n",
      " Solving:  Stress period:     1    Time step:    11    Ground-Water Flow Eqn.\n",
      " Solving:  Stress period:     1    Time step:    12    Ground-Water Flow Eqn.\n",
      " Solving:  Stress period:     1    Time step:    13    Ground-Water Flow Eqn.\n",
      " Solving:  Stress period:     1    Time step:    14    Ground-Water Flow Eqn.\n",
      " Solving:  Stress period:     1    Time step:    15    Ground-Water Flow Eqn.\n",
      " Solving:  Stress period:     1    Time step:    16    Ground-Water Flow Eqn.\n",
      " Solving:  Stress period:     1    Time step:    17    Ground-Water Flow Eqn.\n",
      " Solving:  Stress period:     1    Time step:    18    Ground-Water Flow Eqn.\n",
      " Solving:  Stress period:     1    Time step:    19    Ground-Water Flow Eqn.\n",
      " Solving:  Stress period:     1    Time step:    20    Ground-Water Flow Eqn.\n",
      " Run end date and time (yyyy/mm/dd hh:mm:ss): 2017/06/06 11:16:32\n",
      " Elapsed run time:  0.038 Seconds\n",
      "\n",
      "  Normal termination of simulation\n"
     ]
    }
   ],
   "source": [
    "# Run the MODFLOW model\n",
    "success, buff = mf.run_model()"
   ]
  },
  {
   "cell_type": "markdown",
   "metadata": {},
   "source": [
    "### Post processing the results\n",
    "Now that we have successfully built and run our MODFLOW model, we can look at the results. MODFLOW writes the simulated heads to a binary data output file. We cannot look at these heads with a text editor, but flopy has a binary utility that can be used to read the heads. The following statements will read the binary head file and create a plot of simulated heads for layer 1:"
   ]
  },
  {
   "cell_type": "code",
   "execution_count": 96,
   "metadata": {
    "collapsed": false
   },
   "outputs": [
    {
     "name": "stdout",
     "output_type": "stream",
     "text": [
      "[137.10693, 315.34595, 547.05664, 848.28052, 1239.8716, 1748.9399, 2410.7288, 3271.0542, 4389.4771, 5843.4268, 7733.5615, 10190.736, 13385.063, 17537.689, 22936.102, 29954.039, 39077.355, 50937.668, 66356.07, 86400.0]\n"
     ]
    }
   ],
   "source": [
    "import flopy.utils.binaryfile as bf\n",
    "\n",
    "# Create the headfile object\n",
    "fname = os.path.join(model_ws, 'p1_pc.hds')\n",
    "headobj = bf.HeadFile(fname)\n",
    "times = headobj.get_times()\n",
    "print(times)"
   ]
  },
  {
   "cell_type": "code",
   "execution_count": 104,
   "metadata": {
    "collapsed": false
   },
   "outputs": [
    {
     "data": {
      "text/plain": [
       "<matplotlib.legend.Legend at 0x20810a1b198>"
      ]
     },
     "execution_count": 104,
     "metadata": {},
     "output_type": "execute_result"
    },
    {
     "data": {
      "image/png": "[encoded data removed]",
      "text/plain": [
       "<matplotlib.figure.Figure at 0x20810bfbd68>"
      ]
     },
     "metadata": {},
     "output_type": "display_data"
    }
   ],
   "source": [
    "# Plot the drawdown versus time\n",
    "idx = (0, 0, 2)\n",
    "ts = headobj.get_ts(idx)\n",
    "plt.subplot(1, 1, 1)\n",
    "ttl = 'Head at cell ({0},{1},{2})'.format(idx[0] + 1, idx[1] + 1, idx[2] + 1)\n",
    "plt.title(ttl)\n",
    "plt.xlabel('time (s)')\n",
    "plt.ylabel('drawdown (m)')\n",
    "plt.plot(ts[:, 0], 0-ts[:, 1], 'bo-')\n",
    "plt.xlim(0, ts[:, 0].max())\n",
    "plt.legend(['refined quadrant'], loc='best')"
   ]
  },
  {
   "cell_type": "code",
   "execution_count": 105,
   "metadata": {
    "collapsed": false,
    "scrolled": true
   },
   "outputs": [
    {
     "data": {
      "text/plain": [
       "<matplotlib.legend.Legend at 0x20810e139e8>"
      ]
     },
     "execution_count": 105,
     "metadata": {},
     "output_type": "execute_result"
    },
    {
     "data": {
      "image/png": "[encoded data removed]",
      "text/plain": [
       "<matplotlib.figure.Figure at 0x208113b2ba8>"
      ]
     },
     "metadata": {},
     "output_type": "display_data"
    }
   ],
   "source": [
    "# Plot the head versus time\n",
    "idx = (0, 0, 2)\n",
    "ts = headobj.get_ts(idx)\n",
    "plt.subplot(1, 1, 1)\n",
    "ttl = 'Head at cell ({0},{1},{2})'.format(idx[0] + 1, idx[1] + 1, idx[2] + 1)\n",
    "plt.title(ttl)\n",
    "plt.xlabel('time (s)')\n",
    "plt.ylabel('head')\n",
    "plt.plot(ts[:, 0], ts[:, 1], 'ro-')\n",
    "plt.xlim(0, ts[:, 0].max())\n",
    "plt.legend(['refined quadrant'], loc='best')"
   ]
  },
  {
   "cell_type": "code",
   "execution_count": 99,
   "metadata": {
    "collapsed": false
   },
   "outputs": [
    {
     "data": {
      "image/png": "[encoded data removed]",
      "text/plain": [
       "<matplotlib.figure.Figure at 0x20810f8f4a8>"
      ]
     },
     "metadata": {},
     "output_type": "display_data"
    }
   ],
   "source": [
    "fig = plt.figure(figsize=(10, 10))\n",
    "ax = fig.add_subplot(1, 1, 1, aspect='equal')\n",
    "# Next we create an instance of the ModelMap class\n",
    "modelmap = flopy.plot.ModelMap(sr=mf.dis.sr)\n",
    "\n",
    "# Then we can use the plot_grid() method to draw the grid\n",
    "# The return value for this function is a matplotlib LineCollection object,\n",
    "# which could be manipulated (or used) later if necessary.\n",
    "linecollection = modelmap.plot_grid()\n",
    "\n",
    "def plot_well(xmin, ymax, sym):\n",
    "    plt.plot(xmin, ymax, sym)\n",
    "plot_well(xmin, ymax, sym='ro')"
   ]
  },
  {
   "cell_type": "code",
   "execution_count": 100,
   "metadata": {
    "collapsed": false
   },
   "outputs": [
    {
     "data": {
      "image/png": "[encoded data removed]",
      "text/plain": [
       "<matplotlib.figure.Figure at 0x20810ab99e8>"
      ]
     },
     "metadata": {},
     "output_type": "display_data"
    }
   ],
   "source": [
    "#create contour lines of the data\n",
    "import matplotlib.pyplot as plt\n",
    "import flopy.utils.binaryfile as bf\n",
    "plt.subplot(1,1,1,aspect='equal')\n",
    "hds = bf.HeadFile('p1_pc.hds')\n",
    "head = hds.get_data(totim=86400)\n",
    "levels = np.arange(0, 1, .1) #for np.arange(x value, y value, increments)\n",
    "extent = (xmin, xmax, ymin, ymax) #extent is (x0, x1, y0, y1)\n",
    "plt.contour(head[0, :, :], levels=levels, extent=extent)\n",
    "plt.show()"
   ]
  },
  {
   "cell_type": "code",
   "execution_count": null,
   "metadata": {
    "collapsed": true
   },
   "outputs": [],
   "source": []
  },
  {
   "cell_type": "code",
   "execution_count": null,
   "metadata": {
    "collapsed": true
   },
   "outputs": [],
   "source": []
  }
 ],
 "metadata": {
  "kernelspec": {
   "display_name": "Python 3",
   "language": "python",
   "name": "python3"
  },
  "language_info": {
   "codemirror_mode": {
    "name": "ipython",
    "version": 3
   },
   "file_extension": ".py",
   "mimetype": "text/x-python",
   "name": "python",
   "nbconvert_exporter": "python",
   "pygments_lexer": "ipython3",
   "version": "3.6.0"
  }
 },
 "nbformat": 4,
 "nbformat_minor": 2
}
