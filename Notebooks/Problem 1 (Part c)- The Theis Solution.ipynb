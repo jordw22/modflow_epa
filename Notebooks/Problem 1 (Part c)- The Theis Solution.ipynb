{
 "cells": [
  {
   "cell_type": "markdown",
   "metadata": {},
   "source": [
    "# A Manual of Instructional Problems for the U.S.G.S Modflow Model"
   ]
  },
  {
   "cell_type": "markdown",
   "metadata": {},
   "source": [
    "# Problem 1: The Theis Solution"
   ]
  },
  {
   "cell_type": "markdown",
   "metadata": {},
   "source": [
    "### Table 1.1 Parameters used in Problem 1\n",
    "\n",
    "| First Header               | Second Header   |\n",
    "|----------------------------|-----------------|\n",
    "| Initial head               | 0.0 m           |\n",
    "| Transmissivity             | 0.0023 $\\frac{m^2}{s}$    |\n",
    "| Storage coefficient        | 0.00075         |\n",
    "| Pumping rate               | ${4 x 10^{-3}} \\frac{m^3}{s}$ |\n",
    "| Final time                 | 86400 s         |\n",
    "| Number of time steps       | 20              |\n",
    "| Time step expansion factor | 1.3             |\n",
    "| Iteration parameters       | 5               |\n",
    "| Closure criterion          | 0.0001          |\n",
    "| Maximum number iterations  | 50              |"
   ]
  },
  {
   "cell_type": "code",
   "execution_count": 5,
   "metadata": {
    "collapsed": true
   },
   "outputs": [],
   "source": [
    "#Import and modules/packages that we need to work with\n",
    "%matplotlib inline\n",
    "import os\n",
    "import sys\n",
    "import numpy as np\n",
    "import matplotlib as mpl\n",
    "import matplotlib.pyplot as plt\n",
    "import flopy\n",
    "import scipy.special"
   ]
  },
  {
   "cell_type": "code",
   "execution_count": 1,
   "metadata": {
    "collapsed": false,
    "scrolled": true
   },
   "outputs": [
    {
     "name": "stdout",
     "output_type": "stream",
     "text": [
      "0.0 m\n",
      "0.0023 m^2/s\n",
      "0.00075\n",
      "4x10^-3 m^3/s\n",
      "86400s\n",
      "20\n",
      "1.3\n",
      "5\n",
      "0.0001\n",
      "50\n"
     ]
    }
   ],
   "source": [
    "#Store the values of each parameter into separate variables\n",
    "#we are storing the values as strings so that we can print them out later\n",
    "inh = (str(0.0) + ' m') #initial head\n",
    "trans = (str(0.0023) + ' m^2/s') #transmissivity\n",
    "sc = (str(0.00075)) #storage coefficient\n",
    "pr = (str(4) + 'x' + (str(10) + '^-' + (str(3) + ' m^3/s'))) #pumping rate\n",
    "ft = (str(86400) + 's') #final time\n",
    "num_of_ts = (str(20)) #number of time steps\n",
    "ts_exp_fact = (str(1.3)) #time step expansion factor\n",
    "it = (str(5)) #iteration parameters\n",
    "cc = (str(0.0001)) #closure criterion\n",
    "max_num_of_it = (str(50)) #maximum number of iterations\n",
    "\n",
    "#here I am showing you a different and more efficient way to simply print out the parameter values\n",
    "# the '\\n' means to indent to a new line when it prints out the text\n",
    "print (inh + '\\n' + trans + '\\n' + sc + '\\n' + pr + '\\n' + ft + '\\n' + num_of_ts + '\\n' + \n",
    "       ts_exp_fact + '\\n' + it + '\\n' + cc + '\\n' + max_num_of_it)"
   ]
  },
  {
   "cell_type": "markdown",
   "metadata": {},
   "source": [
    "### Table 1.2 Grid spacing used for Part c model configurations\n",
    "\n",
    "\n",
    "| Row number (i) (=column number (j)) | Part c |\n",
    "|-------------------------------------|--------|\n",
    "| 1                                   | 1      |\n",
    "| 2                                   | 1.413  |\n",
    "| 3                                   | 2      |\n",
    "| 4                                   | 2.83   |\n",
    "| 5                                   | 4      |\n",
    "| 6                                   | 5.65   |\n",
    "| 7                                   | 8      |\n",
    "| 8                                   | 11.3   |\n",
    "| 9                                   | 12     |\n",
    "| 10                                  | 14.62  |\n",
    "| 11                                  | 20     |\n",
    "| 12                                  | 28.3   |\n",
    "| 13                                  | 40     |\n",
    "| 14                                  | 56.5   |\n",
    "| 15                                  | 80     |\n",
    "| 16                                  | 110    |\n",
    "| 17                                  | 150    |\n",
    "| 18                                  | 200    |\n",
    "| 19                                  | 252.89 |"
   ]
  },
  {
   "cell_type": "code",
   "execution_count": 7,
   "metadata": {
    "collapsed": false,
    "scrolled": true
   },
   "outputs": [
    {
     "name": "stdout",
     "output_type": "stream",
     "text": [
      "C:\\VT\\USGS Internship\\modflow_epa.git\\Notebooks\n",
      "1.0\n",
      "1.413\n",
      "2.0\n",
      "2.83\n",
      "4.0\n",
      "5.65\n",
      "8.0\n",
      "11.3\n",
      "12.0\n",
      "14.62\n",
      "20.0\n",
      "28.3\n",
      "40.0\n",
      "56.5\n",
      "80.0\n",
      "110.0\n",
      "150.0\n",
      "200.0\n",
      "252.89\n",
      "[1.0, 1.413, 2.0, 2.83, 4.0, 5.65, 8.0, 11.3, 12.0, 14.62, 20.0, 28.3, 40.0, 56.5, 80.0, 110.0, 150.0, 200.0, 252.89]\n"
     ]
    }
   ],
   "source": [
    "print(os.getcwd())\n",
    "delr = [] #creates an empty list\n",
    "f = open('../Data/table1.2c.csv') #opens the csv file\n",
    "for i,line in enumerate(f): \n",
    "    if i == 0: \n",
    "        continue \n",
    "    linelist = line.strip().split(',') \n",
    "    value = float(linelist[1]) #changes the values in the list to floats\n",
    "    print(value) #prints the values\n",
    "    delr.append(value) #puts the floats into the empty list, delr \n",
    "    \n",
    "print(delr) #prints the list"
   ]
  },
  {
   "cell_type": "code",
   "execution_count": 13,
   "metadata": {
    "collapsed": false,
    "scrolled": false
   },
   "outputs": [
    {
     "data": {
      "image/png": "[encoded data removed]",
      "text/plain": [
       "<matplotlib.figure.Figure at 0x26b549935c0>"
      ]
     },
     "metadata": {},
     "output_type": "display_data"
    }
   ],
   "source": [
    "fig = plt.figure(figsize=(10, 10))\n",
    "ax = fig.add_subplot(1, 1, 1, aspect='equal')\n",
    "delr_array = np.array(delr) #changes delr values from float to array\n",
    "ymax = delr_array.sum() #assigns the sum of the list to ymax\n",
    "ymin = 0\n",
    "xmax = ymax #makes xmax equal to ymax which is equal to the sum of the list\n",
    "xmin = 0\n",
    "x = 0\n",
    "y = 0\n",
    "\n",
    "plt.plot([xmin, xmin], [ymin, ymax], 'b-') #plots the first column line. Must be outside of the loop\n",
    "\n",
    "for dx in delr: #dx will go through the values in delr one by one in the loop\n",
    "    x = x + dx #add the dx value to x, which is zero, and then store that new value into x\n",
    "    plt.plot([x, x], [ymax, ymin], 'b-') #plot that point and then loop back to top\n",
    "\n",
    "\n",
    "plt.plot([xmin, xmax], [ymin, ymin], 'g-') #plots the first row line. Must be outside of the loop\n",
    "\n",
    "for dy in delr: \n",
    "    y = y + dy\n",
    "    plt.plot([xmin, xmax], [y, y], 'g-')\n",
    "    plt.gca().invert_yaxis() #there is an error that occurs here, use the invert yaxis in order to correct the grid lines\n",
    "    \n",
    "def plot_well(xmin, ymin, sym):\n",
    "    plt.plot(xmin, ymin, sym)\n",
    "plot_well(xmin, ymin, sym='ro')"
   ]
  },
  {
   "cell_type": "markdown",
   "metadata": {},
   "source": [
    "## Part c\n",
    "_Re-run part b with the grid spacing shown in Table 1.2. The overall model domain is the same size as part b, but grid spacing is finer near the pumping well. Run the model and note drawdown at each time step at an observation point 55 m from the pumping well._"
   ]
  },
  {
   "cell_type": "code",
   "execution_count": null,
   "metadata": {
    "collapsed": false,
    "scrolled": false
   },
   "outputs": [],
   "source": [
    "fig = plt.figure(figsize=(10, 10))\n",
    "ax = fig.add_subplot(1, 1, 1, aspect='equal')\n",
    "delr_array = np.array(delr) #changes delr values from float to array\n",
    "print (delr_array) #prints those values\n",
    "print (delr_array.sum()) #prints the sum of those values\n",
    "ymax = delr_array.sum() #assigns the sum of the list to ymax\n",
    "ymin = 0\n",
    "xmax = ymax #makes xmax equal to ymax which is equal to the sum of the list\n",
    "xmin = 0\n",
    "x = 0\n",
    "y = 0\n",
    "xmean = delr_array.sum() * .5\n",
    "ymean = delr_array.sum() * .5\n",
    "\n",
    "plt.plot([xmin, xmin], [ymin, ymax], 'b-') #plots the first column line. Must be outside of the loop\n",
    "\n",
    "for dx in delr: #dx will go through the values in delr one by one in the loop\n",
    "    x = x + dx #add the dx value to x, which is zero, and then store that new value into x\n",
    "    plt.plot([x, x], [ymin, ymax], 'b-') #plot that point and then loop back to top\n",
    "    \n",
    "    #repeat the process above but with the y values to make the rows\n",
    "plt.plot([xmin, xmax], [ymin, ymin], 'g-') #plots the first row line. Must be outside of the loop\n",
    "\n",
    "for dy in delr: \n",
    "    y = y + dy\n",
    "    plt.plot([xmin, xmax], [y, y], 'g-')\n",
    "    plt.gca().invert_yaxis()\n",
    "\n",
    "def plot_well(xmin, ymax, sym):\n",
    "    plt.plot(xmin, ymax, sym)\n",
    "plot_well(xmin, ymin, sym='ro')"
   ]
  },
  {
   "cell_type": "markdown",
   "metadata": {},
   "source": [
    "### Table 1.1 Parameters used in Problem 1c\n",
    "\n",
    "| Variable | Value   |\n",
    "|----------------------------|-----------------|\n",
    "| Initial head               | 0.0 m           |\n",
    "| Transmissivity             | 0.0023 m^2/s    |\n",
    "| Storage coefficient        | 0.00075         |\n",
    "| Pumping rate               | 4 x 10^-3 * .25 m^3/s |\n",
    "| Final time                 | 1000.503 s      |\n",
    "| Number of time steps       | 20              |\n",
    "| Time step expansion factor | 1.3             |\n",
    "| iteration parameters       | 5               |\n",
    "| Closure criterion          | 0.0001          |\n",
    "| Maximum number iterations  | 50              |"
   ]
  },
  {
   "cell_type": "code",
   "execution_count": 2,
   "metadata": {
    "collapsed": false
   },
   "outputs": [],
   "source": [
    "#Store the values of each parameter into separate variables\n",
    "inh = 0.0 #initial head\n",
    "trans = 23.e-4 #transmissivity (is equal to hk*(top-botm))\n",
    "ss = 0.00075 #storage coefficient\n",
    "pr = 4.e-3 * .25 #pumping rate\n",
    "perlen = 86400 #final time (period length)\n",
    "nstp = 20 #number of time steps\n",
    "tsmult = 1.3 #time step expansion factor (time step multiplier)\n",
    "it = 5 #iteration parameters\n",
    "hclose = 1.e-4 #closure criterion (the head change criterion for convergence)\n",
    "mxiter = 50 #maximum number of iterations\n",
    "nlay = 1 #number of layers\n",
    "nrow = 19 #number of rows\n",
    "ncol = 19 #number of columns"
   ]
  },
  {
   "cell_type": "code",
   "execution_count": null,
   "metadata": {
    "collapsed": false
   },
   "outputs": [],
   "source": [
    "#Flopy objects\n",
    "modelname = 'p1_pc' #short for problem 1 part c\n",
    "exe_name = '../MF2005.1_12/bin/mf2005.exe'\n",
    "model_ws = 'temp'\n",
    "mf = flopy.modflow.Modflow(modelname, exe_name=exe_name, model_ws = model_ws)"
   ]
  },
  {
   "cell_type": "code",
   "execution_count": null,
   "metadata": {
    "collapsed": true
   },
   "outputs": [],
   "source": [
    "#call in the discretization package (DIS)\n",
    "delr = delr\n",
    "delc = delr #set delr values equal to delc\n",
    "top = 0 #an array of the top elevation of layer 1\n",
    "botm = -1 #an array of the bottom elevation of layer 1\n",
    "nper = 1 #number of periods\n",
    "dis = flopy.modflow.ModflowDis(mf, nlay, nrow, ncol, delr=delr, delc=delc,\n",
    "                               top=top, botm=botm, nper=nper, perlen=perlen, \n",
    "                               nstp=nstp, tsmult=tsmult, steady=False)"
   ]
  },
  {
   "cell_type": "code",
   "execution_count": null,
   "metadata": {
    "collapsed": true
   },
   "outputs": [],
   "source": [
    "#call in the basic package (BAS)\n",
    "ibound = np.ones((nlay, nrow, ncol))\n",
    "strt = np.zeros((nlay, nrow, ncol))\n",
    "bas = flopy.modflow.ModflowBas(mf, ibound=ibound, strt=strt)"
   ]
  },
  {
   "cell_type": "code",
   "execution_count": null,
   "metadata": {
    "collapsed": false
   },
   "outputs": [],
   "source": [
    "#call in the well package (WEL)\n",
    "# Remember to use zero-based layer, row, column indices!\n",
    "wel_sp1 = [[0, 0, 0, -pr]]\n",
    "stress_period_data = {0: wel_sp1}\n",
    "wel = flopy.modflow.ModflowWel(mf, stress_period_data=stress_period_data)"
   ]
  },
  {
   "cell_type": "code",
   "execution_count": null,
   "metadata": {
    "collapsed": false
   },
   "outputs": [],
   "source": [
    "#call in the preconditioned conjugate-gradient package (PCG) \n",
    "pcg = flopy.modflow.ModflowPcg(mf, mxiter=mxiter, hclose=hclose)"
   ]
  },
  {
   "cell_type": "code",
   "execution_count": null,
   "metadata": {
    "collapsed": false
   },
   "outputs": [],
   "source": [
    "#call in the layer-propery flow (LPF)\n",
    "hk = trans\n",
    "ss = 75e-5\n",
    "laytyp = np.zeros((nlay))\n",
    "lpf = flopy.modflow.ModflowLpf(mf, hk=hk, ss=ss, laytyp=laytyp)"
   ]
  },
  {
   "cell_type": "code",
   "execution_count": null,
   "metadata": {
    "collapsed": false
   },
   "outputs": [],
   "source": [
    "#call in the output control package (OC)\n",
    "oc = flopy.modflow.ModflowOc(mf)"
   ]
  },
  {
   "cell_type": "code",
   "execution_count": null,
   "metadata": {
    "collapsed": false
   },
   "outputs": [],
   "source": [
    "# Write the MODFLOW model input files\n",
    "mf.write_input()"
   ]
  },
  {
   "cell_type": "code",
   "execution_count": null,
   "metadata": {
    "collapsed": false
   },
   "outputs": [],
   "source": [
    "# Run the MODFLOW model\n",
    "success, buff = mf.run_model()"
   ]
  },
  {
   "cell_type": "markdown",
   "metadata": {},
   "source": [
    "### Post processing the results\n",
    "_Now that we have successfully built and run our MODFLOW model, we can look at the results. MODFLOW writes the simulated heads to a binary data output file. We cannot look at these heads with a text editor, but flopy has a binary utility that can be used to read the heads. The following statements will read the binary head file and create a plot of simulated heads for layer 1:_"
   ]
  },
  {
   "cell_type": "code",
   "execution_count": null,
   "metadata": {
    "collapsed": false
   },
   "outputs": [],
   "source": [
    "import flopy.utils.binaryfile as bf\n",
    "\n",
    "# Create the headfile object\n",
    "fname = os.path.join(model_ws, 'p1_pc.hds')\n",
    "headobj = bf.HeadFile(fname)\n",
    "times = headobj.get_times()\n",
    "print(times)"
   ]
  },
  {
   "cell_type": "code",
   "execution_count": null,
   "metadata": {
    "collapsed": false
   },
   "outputs": [],
   "source": [
    "# Plot the drawdown versus time\n",
    "idx = (0, 0, 2)\n",
    "ts = headobj.get_ts(idx)\n",
    "plt.subplot(1, 1, 1)\n",
    "ttl = 'Head at cell ({0},{1},{2})'.format(idx[0] + 1, idx[1] + 1, idx[2] + 1)\n",
    "plt.title(ttl)\n",
    "plt.xlabel('time (s)')\n",
    "plt.ylabel('drawdown (m)')\n",
    "plt.plot(ts[:, 0], 0-ts[:, 1], 'bo-')\n",
    "plt.xlim(0, ts[:, 0].max())\n",
    "plt.legend(['refined quadrant'], loc='best')"
   ]
  },
  {
   "cell_type": "code",
   "execution_count": null,
   "metadata": {
    "collapsed": false,
    "scrolled": true
   },
   "outputs": [],
   "source": [
    "# Plot the head versus time\n",
    "idx = (0, 0, 2)\n",
    "ts = headobj.get_ts(idx)\n",
    "plt.subplot(1, 1, 1)\n",
    "ttl = 'Head at cell ({0},{1},{2})'.format(idx[0] + 1, idx[1] + 1, idx[2] + 1)\n",
    "plt.title(ttl)\n",
    "plt.xlabel('time (s)')\n",
    "plt.ylabel('head')\n",
    "plt.plot(ts[:, 0], ts[:, 1], 'ro-')\n",
    "plt.xlim(0, ts[:, 0].max())\n",
    "plt.legend(['refined quadrant'], loc='best')"
   ]
  },
  {
   "cell_type": "markdown",
   "metadata": {},
   "source": [
    "# Theis Equation\n",
    "\n",
    "$$s = \\frac{Q}{(4{\\pi}T)} \\cdot W(u)$$\n",
    "\n",
    "where:\n",
    "\n",
    "**s** = drawdown\n",
    "\n",
    "**Q** = pumping rate\n",
    "\n",
    "**T** = Transmissivity\n",
    "\n",
    "**S** = Storage\n",
    "\n",
    "**r** = radius (the distance from the well to where you want to measure drawdown)\n",
    "\n",
    "$$u = \\frac{r^2S}{4Tt}$$"
   ]
  },
  {
   "cell_type": "code",
   "execution_count": null,
   "metadata": {
    "collapsed": true
   },
   "outputs": [],
   "source": [
    "def u_calc(r, S, T, t):\n",
    "    u = r ** 2 * S / 4. / T / t\n",
    "    return u\n",
    "\n",
    "def well_function(u):\n",
    "    return scipy.special.exp1(u)\n",
    "\n",
    "def drawdown(Q, r, S, T, t):\n",
    "    u = u_calc(r, S, T, t)\n",
    "    s = Q / 4. / np.pi / T * well_function(u)\n",
    "    return s\n",
    "\n",
    "def distance(x, y, xp, yp):\n",
    "    return np.sqrt((x - xp) ** 2 + (y - yp) ** 2)"
   ]
  },
  {
   "cell_type": "code",
   "execution_count": null,
   "metadata": {
    "collapsed": true
   },
   "outputs": [],
   "source": [
    "# Plot the drawdown versus time using the formula for drawdown\n",
    "plt.subplot(1, 1, 1)\n",
    "ttl = 'Drawdown at cell ({0},{1},{2})'.format(idx[0] + 1, idx[1] + 1, idx[2] + 1) #we are adding 1 to each part of idx so that \n",
    "#it prints out the real values and not the code values\n",
    "plt.title(ttl) #prints/plots title\n",
    "plt.xlabel('time (s)') #labels the x-axis\n",
    "plt.ylabel('drawdown (m)') #labels the y-axis\n",
    "\n",
    "d=drawdown(Q=0.004, r=55, S=0.00075, T=0.0023, t=ts[:, 0])\n",
    "    \n",
    "plt.plot(ts[:, 0], 0-ts[:, 1], 'bo-') #(x, y, color/type of line)\n",
    "#here we do \"0-ts\" to make the values negative because drawdown is showing the water levels DECREASE\n",
    "plt.xlim(0, ts[:, 0].max())"
   ]
  }
 ],
 "metadata": {
  "kernelspec": {
   "display_name": "Python 3",
   "language": "python",
   "name": "python3"
  },
  "language_info": {
   "codemirror_mode": {
    "name": "ipython",
    "version": 3
   },
   "file_extension": ".py",
   "mimetype": "text/x-python",
   "name": "python",
   "nbconvert_exporter": "python",
   "pygments_lexer": "ipython3",
   "version": "3.6.0"
  }
 },
 "nbformat": 4,
 "nbformat_minor": 2
}
