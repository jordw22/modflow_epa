{
 "cells": [
  {
   "cell_type": "markdown",
   "metadata": {},
   "source": [
    "# PROBLEM 8: Grid and Time Stepping Considerations"
   ]
  },
  {
   "cell_type": "markdown",
   "metadata": {},
   "source": [
    "### Table 8.1. Grid data\n",
    "\n",
    "                                                  Well locations (row, column)\n",
    "\n",
    "| Grid | Size  | Grid Spacing            | Pumping Well | Well 1 | Well 2 | Well 3 |\n",
    "|------|-------|-------------------------|--------------|--------|--------|--------|\n",
    "| 1    | 4\\*4   | 2500 row, column 1      | 3,2          | 2,2    | 2,3    | 3,3    |\n",
    "|      |       | 500 row, column 2,3      |              |        |        |        |\n",
    "|      |       | 2500 row, column 4       |              |        |        |        |\n",
    "| 2    | 7\\*7   | 1750 row, column 1      | 5,3          | 3,3    | 3,5    | 5,5    |\n",
    "|      |       | 2000 row, column 2       |              |        |        |        |\n",
    "|      |       | 2500 row, column 3-5     |              |        |        |        |\n",
    "|      |       | 1750 row, column 7       |              |        |        |        |\n",
    "| 3    | 10\\*10 | 1250 row, column 1      | 7,4          | 4,4    | 4,7    | 7,7    |\n",
    "|      |       | 1666.7 row, column 2-9   |              |        |        |        |\n",
    "|      |       | 1250 row, colum 10       |              |        |        |        |\n",
    "| 4    | 16\\*16 | 500 row, column 1       | 11,6         | 6,6    | 6,11   | 11,11  |\n",
    "|      |       | 1000 row, column 2-15    |              |        |        |        |\n",
    "|      |       | 500 row, column 16       |              |        |        |        |\n",
    "| 5    | 30\\*30 | 416.7 row, column 1-6   | 20,11        | 11,11  | 11,20  | 20,20  |\n",
    "|      |       | 555.6 row, column 7-24   |              |        |        |        |\n",
    "|      |       | 416.7 row, column 25-30  |              |        |        |   .    |\n",
    "\n",
    "* _spacing along a column is the same as along a row such that DELX( 1 ) = DELY( 1), DELX(2) = DELY(2), etc._"
   ]
  },
  {
   "cell_type": "markdown",
   "metadata": {},
   "source": [
    "_For row 1, column 1:_\n",
    "    \n",
    "_$$C = \\frac{TW}{L} = \\frac{2400 \\frac{m^2}{d}\\cdot2500 m}{1250 m} = 4800 \\frac{m^2}{d}$$_\n",
    "    \n",
    "_For row 1, column 2:_\n",
    "    \n",
    "_$$C = \\frac{TW}{L} = \\frac{2400 \\frac{m^2}{d}\\cdot5000 m}{1250 m} = 9600 \\frac{m^2}{d}$$_\n",
    "    \n",
    "Variable meanings:\n",
    "\n",
    "$$C = Conductance$$\n",
    "$$T = Transmissivity = (hk \\cdot (top - botm))$$\n",
    "$$L = Length \\hspace{.2cm} of \\hspace{.2cm} flow \\hspace{.2cm} path \\hspace{.2cm} (node \\hspace{.2cm}  center \\hspace{.2cm} to \\hspace{.2cm} edge)$$\n",
    "$$W = Width \\hspace{.2cm} of \\hspace{.2cm} face \\hspace{.2cm} perpendicular \\hspace{.2cm} to \\hspace{.2cm} flow$$\n",
    "\n",
    "_Note that L remains constant for a given grid because distance from center to edge is always\n",
    "the same, but W changes due to varying column widths._\n",
    "\n",
    "$$A=b*w \\hspace{.3cm} (Area = thickness * width)$$\n",
    "$$b = top - botm$$\n",
    "$$Formula  ->  C=\\frac{hk*A}{L}  ->  C=\\frac{hk*b*w}{L}  ->  C=\\frac{hk*(top-botm)*w}{L}  -> C=\\frac{T*w}{L}$$\n",
    "\n",
    "* _In each case, use the PCG package, acceleration parameter = 1.0, closure criterion = 0.0001, and maximum iterations = 50._"
   ]
  },
  {
   "cell_type": "markdown",
   "metadata": {},
   "source": [
    "### Part b\n",
    "\n",
    "_Repeat part a, but use the following time parameters_\n",
    "\n",
    "_time step multiplier = 1.414_\n",
    "\n",
    "_number of time steps = 10_\n",
    "\n",
    "_length of stress period = 0.2 days_\n",
    "\n",
    "_In part b the same data sets are used, except the length of the stress period (parameter\n",
    "PERLEN) is changed to 0.2 days in the_ [BASIC package](https://github.com/jordw22/modflow_epa/blob/master/terms%20and%20definitions.md#b)."
   ]
  },
  {
   "cell_type": "markdown",
   "metadata": {},
   "source": [
    "### Table 8.3. Comparison of results for various grid spacings in part b\n",
    "                                                    Drawdown (m)\n",
    "                                                  Observation Well\n",
    "                                                  \n",
    "| Grid     | # Nodes | Total Iteration | CPU'  | 1      | 2      | 3      |\n",
    "|----------|---------|-----------------|-------|--------|--------|--------|\n",
    "| 1        | 16      | 22              | 5.13  | 0.0162 | 0.001  | 0.0162 |\n",
    "| 2        | 49      | 24              | 6.03  | 0.0153 | 0.0007 | 0.0153 |\n",
    "| 3        | 100     | 26              | 7.56  | 0.0126 | 0.0007 | 0.126  |\n",
    "| 4        | 256     | 32              | 12.77 | 0.0097 | 0.0006 | 0.0097 |\n",
    "| 5        | 900     | 38              | 36.63 | 0.0085 | 0.0006 | 0.0085 |\n",
    "| analytic |         |                 |       | 0.0047 | 0.0001 | 0.0047 |"
   ]
  },
  {
   "cell_type": "code",
   "execution_count": 1,
   "metadata": {
    "collapsed": true
   },
   "outputs": [],
   "source": [
    "#Import and modules/packages that we need to work with\n",
    "%matplotlib inline\n",
    "import os\n",
    "import sys\n",
    "import platform\n",
    "import numpy as np\n",
    "import matplotlib as mpl\n",
    "import matplotlib.pyplot as plt\n",
    "import flopy"
   ]
  },
  {
   "cell_type": "markdown",
   "metadata": {},
   "source": [
    "### Grid 1\n",
    "\n",
    "| Column # | Row Spacing |\n",
    "|----------|-------------|\n",
    "| 1        | 2500        |\n",
    "| 2        | 5000        |\n",
    "| 3        | 5000        |\n",
    "| 4        | 2500        |"
   ]
  },
  {
   "cell_type": "code",
   "execution_count": 2,
   "metadata": {
    "collapsed": false
   },
   "outputs": [
    {
     "name": "stdout",
     "output_type": "stream",
     "text": [
      "C:\\VT\\USGS Internship\\modflow_epa.git\\Notebooks\n",
      "2500.0\n",
      "5000.0\n",
      "5000.0\n",
      "2500.0\n",
      "[2500.0, 5000.0, 5000.0, 2500.0]\n"
     ]
    }
   ],
   "source": [
    "print(os.getcwd())\n",
    "delr = [] #creates an empty list\n",
    "f = open('../Data/table8.1_grid1.csv') #opens the csv file; the two periods (.) means that you are goin backwards into the folders.\n",
    "    \n",
    "    #the four loop below creates a statement that if i == 0 (if it's the first\n",
    "    #row then it will skip it (continue) and move on with the for loop)\n",
    "    #we skip the first row in our table/csv file because the headers would give\n",
    "    #us an error since they aren't numerical values.\n",
    "for i,line in enumerate(f):\n",
    "    if i == 0: \n",
    "        continue\n",
    "        \n",
    "    #\"line.strip\" gets rid of any extra spaces in the margins of the plot\n",
    "    #\"split\" sections of the individual values according to whatever you put in the quotes\n",
    "    linelist = line.strip().split(',') \n",
    "    \n",
    "    value = float(linelist[1]) #changes the values in the list to floats\n",
    "    print(value) #prints the values\n",
    "    delr.append(value) #puts the floats into the empty list, delr \n",
    "    \n",
    "print(delr) #prints the list"
   ]
  },
  {
   "cell_type": "code",
   "execution_count": 22,
   "metadata": {
    "collapsed": false,
    "scrolled": false
   },
   "outputs": [
    {
     "name": "stdout",
     "output_type": "stream",
     "text": [
      "[ 2500.  5000.  5000.  2500.]\n",
      "15000.0\n",
      "5000.0 5000.0\n",
      "5000.0 10000.0\n",
      "10000.0 10000.0\n",
      "10000.0 5000.0\n"
     ]
    },
    {
     "data": {
      "image/png": "[encoded data removed]",
      "text/plain": [
       "<matplotlib.figure.Figure at 0x270a9220b38>"
      ]
     },
     "metadata": {},
     "output_type": "display_data"
    }
   ],
   "source": [
    "#code to create grid 1\n",
    "fig = plt.figure(figsize=(10, 10))\n",
    "ax = fig.add_subplot(1, 1, 1, aspect='equal') #makes the length and width of the grid equal on all four sides\n",
    "delr_array = np.array(delr) #changes delr values from float to array\n",
    "print (delr_array) #prints those values\n",
    "print (delr_array.sum()) #prints the sum of those values\n",
    "ymax = delr_array.sum() #assigns the sum of the list to ymax\n",
    "ymin = 0 #sets ymin equal to zero\n",
    "xmax = ymax #makes xmax equal to ymax which is equal to the sum of the list\n",
    "xmin = 0 #sets xmin equal to zero\n",
    "x = 0 #sets x equal to zero\n",
    "y = 0 #sets y equal to zero\n",
    "\n",
    "#before moving on to this code, it helps to draw out an image of a graph with each corner labled with the coordinates of that point\n",
    "#top left - (xmin, ymax)\n",
    "#bottom left - (xmin, ymin)\n",
    "#top right - (xmax, ymax)\n",
    "#bottom right - (xmax, ymin)\n",
    "plt.plot([xmin, xmin], [ymin, ymax], 'b-') #plots the first column line (on the left). Must be outside of the loop.\n",
    "#'b-' creates a blue line out of dashes\n",
    "for dx in delr: #dx will go through the values in delr one by one in the loop\n",
    "    x = x + dx #add the dx value to x, which is zero, and then store that new value into x\n",
    "    plt.plot([x, x], [ymin, ymax], 'b-') #plot that point and then loop back to top\n",
    "\n",
    "    #repeat the process above but with the y values to make the rows\n",
    "plt.plot([xmin, xmax], [ymin, ymin], 'g-') #plots the first row line (on the bottom). Must be outside of the loop\n",
    "#'g-' creates a green line with dashes\n",
    "for dy in delr: \n",
    "    y = y + dy\n",
    "    plt.plot([xmin, xmax], [y, y], 'g-')\n",
    "\n",
    "xes1 = []\n",
    "ys1 = []\n",
    "x1=0\n",
    "f1 = open('../Data/problem8_grid1_wells.csv') #opens the csv file; the two periods (.) means that you are goin backwards into the folders.\n",
    "    \n",
    "for i1,line1 in enumerate(f1):\n",
    "    if i1 == 0: \n",
    "        continue\n",
    "        \n",
    "    linelist1 = line1.strip().split(',') \n",
    "    x = float(linelist1[0]) #changes the values in the list to floats\n",
    "    y = float(linelist1[1])\n",
    "    print(x, y) #prints the values\n",
    "    xes1.append(x) #puts the floats into the empty list, x\n",
    "    ys1.append(y)\n",
    "\n",
    "for n1 in xes1: \n",
    "    plt.plot(xes1, ys1, 'ro')"
   ]
  },
  {
   "cell_type": "code",
   "execution_count": 8,
   "metadata": {
    "collapsed": true
   },
   "outputs": [],
   "source": [
    "#Flopy objects\n",
    "modelname1 = 'p8_pb1' #short for problem 8 part b, grid 1\n",
    "exe_name = '../MF2005.1_12/bin/mf2005.exe'\n",
    "model_ws1 = 'temp'\n",
    "mf1 = flopy.modflow.Modflow(modelname1, exe_name=exe_name, model_ws = model_ws1)"
   ]
  },
  {
   "cell_type": "code",
   "execution_count": 9,
   "metadata": {
    "collapsed": false
   },
   "outputs": [],
   "source": [
    "#dis package\n",
    "#call in the discretization package\n",
    "nlay = 1\n",
    "nrow = 4\n",
    "ncol = 4\n",
    "delr = delr\n",
    "delc = delr #set delr values equal to delc\n",
    "top = 0 #an array of the top elevation of layer 1\n",
    "botm = -1 #an array of the bottom elevation of layer 1\n",
    "nper = 1 #number of periods\n",
    "perlen = 0.2 #length of stress period\n",
    "nstp = 10 #number of time steps\n",
    "tsmult = 1.414 #time step multiplier\n",
    "dis1 = flopy.modflow.ModflowDis(mf1, nlay=nlay, nrow=nrow, ncol=ncol, delr=delr, delc=delc,\n",
    "                               top=top, botm=botm, nper=nper, perlen=perlen, \n",
    "                               nstp=nstp, tsmult=tsmult, steady=False)"
   ]
  },
  {
   "cell_type": "code",
   "execution_count": 10,
   "metadata": {
    "collapsed": false
   },
   "outputs": [],
   "source": [
    "#bas package\n",
    "ibound = np.ones((nlay, nrow, ncol))\n",
    "strt = np.zeros((nlay, nrow, ncol))\n",
    "bas1 = flopy.modflow.ModflowBas(mf1, ibound=ibound, strt=strt)"
   ]
  },
  {
   "cell_type": "code",
   "execution_count": 11,
   "metadata": {
    "collapsed": false
   },
   "outputs": [],
   "source": [
    "pr1 = 15000 #pumping rate\n",
    "wel_sp1 = [[0, 2, 1, pr1],\n",
    "             [0, 1, 1, -pr1],\n",
    "             [0, 1, 2, -pr1],\n",
    "             [0, 2, 2, -pr1]]\n",
    "stress_period_data = {0: wel_sp1}\n",
    "wel1 = flopy.modflow.ModflowWel(mf1, stress_period_data=stress_period_data)"
   ]
  },
  {
   "cell_type": "code",
   "execution_count": 12,
   "metadata": {
    "collapsed": false
   },
   "outputs": [],
   "source": [
    "#pcg package\n",
    "mxiter = 50\n",
    "hclose = 0.0001\n",
    "pcg1 = flopy.modflow.ModflowPcg(mf1, mxiter=mxiter, hclose=hclose)"
   ]
  },
  {
   "cell_type": "code",
   "execution_count": 13,
   "metadata": {
    "collapsed": false
   },
   "outputs": [],
   "source": [
    "#lpf package\n",
    "hk = 2400\n",
    "laytyp = np.zeros((nlay))\n",
    "lpf1 = flopy.modflow.ModflowLpf(mf1, hk=hk, laytyp=laytyp)"
   ]
  },
  {
   "cell_type": "code",
   "execution_count": 14,
   "metadata": {
    "collapsed": false
   },
   "outputs": [],
   "source": [
    "#oc package\n",
    "oc1 = flopy.modflow.ModflowOc(mf1)"
   ]
  },
  {
   "cell_type": "code",
   "execution_count": 15,
   "metadata": {
    "collapsed": false
   },
   "outputs": [
    {
     "name": "stdout",
     "output_type": "stream",
     "text": [
      "[[0, 0, 0, 0.0, 4800.0], [0, 0, 1, 0.0, 9600.0], [0, 0, 2, 0.0, 9600.0], [0, 0, 3, 0.0, 4800.0]]\n"
     ]
    }
   ],
   "source": [
    "#ghb package\n",
    "ipakcb = 50\n",
    "stage = 0.0\n",
    "cond1 = ((2400 * 2500)/1250)\n",
    "cond2 = ((2400 * 5000)/1250)\n",
    "ghb_sp1 = [[0, 0, 0, stage, cond1],\n",
    "           [0, 0, 1, stage, cond2],\n",
    "           [0, 0, 2, stage, cond2],\n",
    "           [0, 0, 3, stage, cond1]]\n",
    "ghb_spd = {0: ghb_sp1}\n",
    "ghb1 = flopy.modflow.ModflowGhb(mf1, ipakcb=ipakcb, stress_period_data=ghb_spd)\n",
    "\n",
    "print(ghb_sp1)"
   ]
  },
  {
   "cell_type": "code",
   "execution_count": 20,
   "metadata": {
    "collapsed": false
   },
   "outputs": [
    {
     "data": {
      "text/plain": [
       "<matplotlib.collections.QuadMesh at 0x270a8de4c50>"
      ]
     },
     "execution_count": 20,
     "metadata": {},
     "output_type": "execute_result"
    },
    {
     "data": {
      "image/png": "[encoded data removed]",
      "text/plain": [
       "<matplotlib.figure.Figure at 0x270a8d78cc0>"
      ]
     },
     "metadata": {},
     "output_type": "display_data"
    }
   ],
   "source": [
    "#\n",
    "mm=flopy.plot.ModelMap(model=mf1)\n",
    "mm.plot_grid()\n",
    "mm.plot_bc('WEL')"
   ]
  },
  {
   "cell_type": "code",
   "execution_count": 16,
   "metadata": {
    "collapsed": false
   },
   "outputs": [
    {
     "name": "stdout",
     "output_type": "stream",
     "text": [
      "warning: assuming SpatialReference units are meters\n"
     ]
    }
   ],
   "source": [
    "# Write the MODFLOW model input files\n",
    "mf1.write_input()"
   ]
  },
  {
   "cell_type": "code",
   "execution_count": null,
   "metadata": {
    "collapsed": false
   },
   "outputs": [],
   "source": [
    "# Run the MODFLOW model\n",
    "success, buff = mf1.run_model()"
   ]
  },
  {
   "cell_type": "markdown",
   "metadata": {},
   "source": [
    "### Grid 2\n",
    "\n",
    "| Column # | Row Spacing |\n",
    "|----------|-------------|\n",
    "| 1        | 1750        |\n",
    "| 2        | 2000        |\n",
    "| 3        | 2500        |\n",
    "| 4        | 2500        |\n",
    "| 5        | 2500        |\n",
    "| 6        | 2000        |\n",
    "| 7        | 1750        |"
   ]
  },
  {
   "cell_type": "code",
   "execution_count": 5,
   "metadata": {
    "collapsed": false
   },
   "outputs": [
    {
     "name": "stdout",
     "output_type": "stream",
     "text": [
      "C:\\VT\\USGS Internship\\modflow_epa.git\\Notebooks\n",
      "1750.0\n",
      "2000.0\n",
      "2500.0\n",
      "2500.0\n",
      "2500.0\n",
      "2000.0\n",
      "1750.0\n",
      "[1750.0, 2000.0, 2500.0, 2500.0, 2500.0, 2000.0, 1750.0]\n"
     ]
    }
   ],
   "source": [
    "print(os.getcwd())\n",
    "delr2 = [] #creates an empty list\n",
    "f2 = open('../Data/table8.1_grid2.csv') #opens the csv file; the two periods (.) means that you are goin backwards into the folders.\n",
    "    \n",
    "    #the four loop below creates a statement that if i == 0 (if it's the first\n",
    "    #row then it will skip it (continue) and move on with the for loop)\n",
    "    #we skip the first row in our table/csv file because the headers would give\n",
    "    #us an error since they aren't numerical values.\n",
    "for i,line in enumerate(f2):\n",
    "    if i == 0: \n",
    "        continue\n",
    "        \n",
    "    #\"line.strip\" gets rid of any extra spaces in the margins of the plot\n",
    "    #\"split\" sections of the individual values according to whatever you put in the quotes\n",
    "    linelist2 = line.strip().split(',') \n",
    "    \n",
    "    value2 = float(linelist2[1]) #changes the values in the list to floats\n",
    "    print(value2) #prints the values\n",
    "    delr2.append(value2) #puts the floats into the empty list, delr \n",
    "    \n",
    "print(delr2) #prints the list"
   ]
  },
  {
   "cell_type": "code",
   "execution_count": 6,
   "metadata": {
    "collapsed": false
   },
   "outputs": [
    {
     "name": "stdout",
     "output_type": "stream",
     "text": [
      "[ 1750.  2000.  2500.  2500.  2500.  2000.  1750.]\n",
      "15000.0\n",
      "10000.0\n",
      "10000.0\n",
      "10000.0\n",
      "10000.0\n",
      "10000.0\n",
      "5000.0\n",
      "10000.0\n",
      "10000.0\n",
      "5000.0\n"
     ]
    },
    {
     "data": {
      "image/png": "[encoded data removed]",
      "text/plain": [
       "<matplotlib.figure.Figure at 0x270a8ac9eb8>"
      ]
     },
     "metadata": {},
     "output_type": "display_data"
    }
   ],
   "source": [
    "#code to create grid 2\n",
    "fig2 = plt.figure(figsize=(10, 10))\n",
    "ax2 = fig.add_subplot(1, 1, 1, aspect='equal') #makes the length and width of the grid equal on all four sides\n",
    "delr_array2 = np.array(delr2) #changes delr values from float to array\n",
    "print (delr_array2) #prints those values\n",
    "print (delr_array2.sum()) #prints the sum of those values\n",
    "ymax2 = delr_array2.sum() #assigns the sum of the list to ymax\n",
    "ymin2 = 0 #sets ymin equal to zero\n",
    "xmax2 = ymax2 #makes xmax equal to ymax which is equal to the sum of the list\n",
    "xmin2 = 0 #sets xmin equal to zero\n",
    "x2 = 0 #sets x equal to zero\n",
    "y2 = 0 #sets y equal to zero\n",
    "\n",
    "#before moving on to this code, it helps to draw out an image of a graph with each corner labled with the coordinates of that point\n",
    "#top left - (xmin, ymax)\n",
    "#bottom left - (xmin, ymin)\n",
    "#top right - (xmax, ymax)\n",
    "#bottom right - (xmax, ymin)\n",
    "plt.plot([xmin2, xmin2], [ymin2, ymax2], 'b-') #plots the first column line (on the left). Must be outside of the loop.\n",
    "#'b-' creates a blue line out of dashes\n",
    "for dx2 in delr2: #dx will go through the values in delr one by one in the loop\n",
    "    x2 = x2 + dx2 #add the dx value to x, which is zero, and then store that new value into x\n",
    "    plt.plot([x2, x2], [ymin2, ymax2], 'b-') #plot that point and then loop back to top\n",
    "\n",
    "    #repeat the process above but with the y values to make the rows\n",
    "plt.plot([xmin2, xmax2], [ymin2, ymin2], 'g-') #plots the first row line (on the bottom). Must be outside of the loop\n",
    "#'g-' creates a green line with dashes\n",
    "for dy2 in delr2: \n",
    "    y2 = y2 + dy2\n",
    "    plt.plot([xmin2, xmax2], [y2, y2], 'g-')\n",
    "\n",
    "xes2 = []\n",
    "x2=0\n",
    "f3 = open('../Data/problem8_grid1_wells.csv') #opens the csv file; the two periods (.) means that you are goin backwards into the folders.\n",
    "    \n",
    "for i3,line3 in enumerate(f3):\n",
    "    if i1 == 0: \n",
    "        continue\n",
    "        \n",
    "    linelist3 = line3.strip().split(',') \n",
    "    value3 = float(linelist1[0]) #changes the values in the list to floats\n",
    "    print(value3) #prints the values\n",
    "    xes2.append(value3) #puts the floats into the empty list, x\n",
    "    \n",
    "    xes2_array = np.array(xes2) #changes delr values from float to array\n",
    "\n",
    "ys2 = []\n",
    "f4 = open('../Data/problem8_grid1_wells.csv')\n",
    "for i4,line4 in enumerate(f4):\n",
    "    if i4 == 0: \n",
    "        continue\n",
    "        \n",
    "    linelist4 = line4.strip().split(',') \n",
    "    value4 = float(linelist4[1]) #changes the values in the list to floats\n",
    "    print(value4) #prints the values\n",
    "    ys2.append(value4) #puts the floats into the empty list, ys \n",
    "    \n",
    "    ys2_array = np.array(ys1) #changes delr values from float to array\n",
    "\n",
    "for n2 in xes2: \n",
    "    plt.plot([xes2, xes2], [ys2, ys2], 'ro')"
   ]
  },
  {
   "cell_type": "code",
   "execution_count": 7,
   "metadata": {
    "collapsed": true
   },
   "outputs": [],
   "source": [
    "#Flopy objects\n",
    "modelname2 = 'p8_pb2' #short for problem 8 part b, grid 2\n",
    "exe_name = '../MF2005.1_12/bin/mf2005.exe'\n",
    "model_ws2 = 'temp'\n",
    "mf2 = flopy.modflow.Modflow(modelname2, exe_name=exe_name, model_ws = model_ws2)"
   ]
  },
  {
   "cell_type": "code",
   "execution_count": null,
   "metadata": {
    "collapsed": false
   },
   "outputs": [],
   "source": [
    "#dis package\n",
    "#call in the discretization package\n",
    "nlay = 1\n",
    "nrow = 7\n",
    "ncol = 7\n",
    "delr = delr2\n",
    "delc = delr #set delr values equal to delc\n",
    "top = 0 #an array of the top elevation of layer 1\n",
    "botm = -1 #an array of the bottom elevation of layer 1\n",
    "nper = 1 #number of periods\n",
    "perlen = 0.2 #length of stress period\n",
    "nstp = 10 #number of time steps\n",
    "tsmult = 1.414 #time step multiplier\n",
    "dis2 = flopy.modflow.ModflowDis(mf2, nlay, nrow, ncol, delr=delr, delc=delc,\n",
    "                               top=top, botm=botm, nper=nper, perlen=perlen, \n",
    "                               nstp=nstp, tsmult=tsmult, steady=False)"
   ]
  },
  {
   "cell_type": "code",
   "execution_count": null,
   "metadata": {
    "collapsed": true
   },
   "outputs": [],
   "source": [
    "#bas package\n",
    "ibound = np.ones((nlay, nrow, ncol))\n",
    "strt = np.zeros((nlay, nrow, ncol))\n",
    "bas2 = flopy.modflow.ModflowBas(mf2, ibound=ibound, strt=strt)"
   ]
  },
  {
   "cell_type": "code",
   "execution_count": null,
   "metadata": {
    "collapsed": false
   },
   "outputs": [],
   "source": [
    "pr2 = 15000 #pumping rate\n",
    "wel_sp2 = [[0, 4, 2, pr2],\n",
    "             [0, 2, 2, -pr2],\n",
    "             [0, 2, 4, -pr2],\n",
    "             [0, 4, 4, -pr2]]\n",
    "stress_period_data = {0: wel_sp2}\n",
    "wel2 = flopy.modflow.ModflowWel(mf2, stress_period_data=stress_period_data)"
   ]
  },
  {
   "cell_type": "code",
   "execution_count": null,
   "metadata": {
    "collapsed": false
   },
   "outputs": [],
   "source": [
    "#pcg package\n",
    "mxiter = 50\n",
    "hclose = 0.0001\n",
    "pcg2 = flopy.modflow.ModflowPcg(mf2, mxiter=mxiter, hclose=hclose)"
   ]
  },
  {
   "cell_type": "code",
   "execution_count": null,
   "metadata": {
    "collapsed": true
   },
   "outputs": [],
   "source": [
    "#lpf package\n",
    "hk = 2400\n",
    "laytyp = np.zeros((nlay))\n",
    "lpf2 = flopy.modflow.ModflowLpf(mf2, hk=hk, laytyp=laytyp)"
   ]
  },
  {
   "cell_type": "code",
   "execution_count": null,
   "metadata": {
    "collapsed": false
   },
   "outputs": [],
   "source": [
    "#oc package\n",
    "oc2 = flopy.modflow.ModflowOc(mf2)"
   ]
  },
  {
   "cell_type": "code",
   "execution_count": null,
   "metadata": {
    "collapsed": false
   },
   "outputs": [],
   "source": [
    "#ghb package\n",
    "ipakcb = 50\n",
    "stage = 0.0\n",
    "cond1 = ((2400 * 1750)/875)\n",
    "cond2 = ((2400 * 2000)/875)\n",
    "cond3 = ((2400 * 2500)/875)\n",
    "ghb_sp2 = [[0, 0, 0, stage, cond1],\n",
    "           [0, 0, 1, stage, cond2],\n",
    "           [0, 0, 2, stage, cond3],\n",
    "           [0, 0, 3, stage, cond3],\n",
    "           [0, 0, 4, stage, cond3],\n",
    "           [0, 0, 5, stage, cond2],\n",
    "           [0, 0, 6, stage, cond1]]\n",
    "ghb_spd = {0: ghb_sp2}\n",
    "ghb2 = flopy.modflow.ModflowGhb(mf2, ipakcb=ipakcb, stress_period_data=ghb_spd)\n",
    "\n",
    "print(ghb_sp2)"
   ]
  },
  {
   "cell_type": "code",
   "execution_count": null,
   "metadata": {
    "collapsed": false
   },
   "outputs": [],
   "source": [
    "# Write the MODFLOW model input files\n",
    "mf2.write_input()"
   ]
  },
  {
   "cell_type": "code",
   "execution_count": null,
   "metadata": {
    "collapsed": false
   },
   "outputs": [],
   "source": [
    "# Run the MODFLOW model\n",
    "success, buff = mf2.run_model()"
   ]
  },
  {
   "cell_type": "markdown",
   "metadata": {},
   "source": [
    "### Grid 3\n",
    "\n",
    "| Column # | Row Spacing |\n",
    "|----------|-------------|\n",
    "| 1        | 1250        |\n",
    "| 2        | 1666.7      |\n",
    "| 3        | 1666.7      |\n",
    "| 4        | 1666.7      |\n",
    "| 5        | 1666.7      |\n",
    "| 6        | 1666.7      |\n",
    "| 7        | 1666.7      |\n",
    "| 8        | 1666.7      |\n",
    "| 9        | 1666.7      |\n",
    "| 10       | 1250        |"
   ]
  },
  {
   "cell_type": "code",
   "execution_count": null,
   "metadata": {
    "collapsed": false
   },
   "outputs": [],
   "source": [
    "print(os.getcwd())\n",
    "delr3 = [] #creates an empty list\n",
    "f3 = open('../Data/table8.1_grid3.csv') #opens the csv file; the two periods (.) means that you are goin backwards into the folders.\n",
    "    \n",
    "    #the four loop below creates a statement that if i == 0 (if it's the first\n",
    "    #row then it will skip it (continue) and move on with the for loop)\n",
    "    #we skip the first row in our table/csv file because the headers would give\n",
    "    #us an error since they aren't numerical values.\n",
    "for i,line in enumerate(f3):\n",
    "    if i == 0: \n",
    "        continue\n",
    "        \n",
    "    #\"line.strip\" gets rid of any extra spaces in the margins of the plot\n",
    "    #\"split\" sections of the individual values according to whatever you put in the quotes\n",
    "    linelist3 = line.strip().split(',') \n",
    "    \n",
    "    value3 = float(linelist3[1]) #changes the values in the list to floats\n",
    "    print(value3) #prints the values\n",
    "    delr3.append(value3) #puts the floats into the empty list, delr \n",
    "    \n",
    "print(delr3) #prints the list"
   ]
  },
  {
   "cell_type": "code",
   "execution_count": null,
   "metadata": {
    "collapsed": false
   },
   "outputs": [],
   "source": [
    "#code to create grid 3\n",
    "fig3 = plt.figure(figsize=(10, 10))\n",
    "ax3 = fig.add_subplot(1, 1, 1, aspect='equal') #makes the length and width of the grid equal on all four sides\n",
    "delr_array3 = np.array(delr3) #changes delr values from float to array\n",
    "print (delr_array3) #prints those values\n",
    "print (delr_array3.sum()) #prints the sum of those values\n",
    "ymax3 = delr_array3.sum() #assigns the sum of the list to ymax\n",
    "ymin3 = 0 #sets ymin equal to zero\n",
    "xmax3 = ymax3 #makes xmax equal to ymax which is equal to the sum of the list\n",
    "xmin3 = 0 #sets xmin equal to zero\n",
    "x3 = 0 #sets x equal to zero\n",
    "y3 = 0 #sets y equal to zero\n",
    "\n",
    "#before moving on to this code, it helps to draw out an image of a graph with each corner labled with the coordinates of that point\n",
    "#top left - (xmin, ymax)\n",
    "#bottom left - (xmin, ymin)\n",
    "#top right - (xmax, ymax)\n",
    "#bottom right - (xmax, ymin)\n",
    "plt.plot([xmin3, xmin3], [ymin3, ymax3], 'b-') #plots the first column line (on the left). Must be outside of the loop.\n",
    "#'b-' creates a blue line out of dashes\n",
    "for dx3 in delr3: #dx will go through the values in delr one by one in the loop\n",
    "    x3 = x3 + dx3 #add the dx value to x, which is zero, and then store that new value into x\n",
    "    plt.plot([x3, x3], [ymin3, ymax3], 'b-') #plot that point and then loop back to top\n",
    "\n",
    "    #repeat the process above but with the y values to make the rows\n",
    "plt.plot([xmin3, xmax3], [ymin3, ymin3], 'g-') #plots the first row line (on the bottom). Must be outside of the loop\n",
    "#'g-' creates a green line with dashes\n",
    "for dy3 in delr3: \n",
    "    y3 = y3 + dy3\n",
    "    plt.plot([xmin3, xmax3], [y3, y3], 'g-')\n",
    "\n",
    "#pumping well\n",
    "x3_0 = 5416.75\n",
    "y3_0 = 5416.75\n",
    "def wel_pump3(x3_0, y3_0, sym):\n",
    "    plt.plot(x3_0, y3_0, sym)\n",
    "wel_pump3(x3_0, y3_0, sym='ro')\n",
    "#well 1\n",
    "x3_1 = 5416.75\n",
    "y3_1 = 10416.85\n",
    "def wel_sp3_1(x3_1, y3_1, sym):\n",
    "    plt.plot(x3_1, y3_1, sym)\n",
    "wel_sp3_1(x3_1, y3_1, sym='bo')\n",
    "#well 2\n",
    "x3_2 = 10416.85\n",
    "y3_2 = 10416.85\n",
    "def wel_sp3_2(x3_2, y3_2, sym):\n",
    "    plt.plot(x3_2, y3_2, sym)\n",
    "wel_sp3_2(x3_2, y3_2, sym='bo')\n",
    "#well 3\n",
    "x3_3 = 10416.85\n",
    "y3_3 = 5416.75\n",
    "def wel_sp3_3(x3_3, y3_3, sym):\n",
    "    plt.plot(x3_3, y3_3, sym)\n",
    "wel_sp3_3(x3_3, y3_3, sym='bo')"
   ]
  },
  {
   "cell_type": "code",
   "execution_count": null,
   "metadata": {
    "collapsed": true
   },
   "outputs": [],
   "source": [
    "#Flopy objects\n",
    "modelname3 = 'p8_pb3' #short for problem 8 part b, grid 3\n",
    "exe_name = '../MF2005.1_12/bin/mf2005.exe'\n",
    "model_ws3 = 'temp'\n",
    "mf3 = flopy.modflow.Modflow(modelname3, exe_name=exe_name, model_ws = model_ws3)"
   ]
  },
  {
   "cell_type": "code",
   "execution_count": null,
   "metadata": {
    "collapsed": false
   },
   "outputs": [],
   "source": [
    "#dis package\n",
    "#call in the discretization package\n",
    "nlay = 1\n",
    "nrow = 10\n",
    "ncol = 10\n",
    "delr = delr3\n",
    "delc = delr #set delr values equal to delc\n",
    "top = 0 #an array of the top elevation of layer 1\n",
    "botm = -1 #an array of the bottom elevation of layer 1\n",
    "nper = 1 #number of periods\n",
    "perlen = 0.2 #length of stress period\n",
    "nstp = 10 #number of time steps\n",
    "tsmult = 1.414 #time step multiplier\n",
    "dis3 = flopy.modflow.ModflowDis(mf3, nlay, nrow, ncol, delr=delr, delc=delc,\n",
    "                               top=top, botm=botm, nper=nper, perlen=perlen, \n",
    "                               nstp=nstp, tsmult=tsmult, steady=False)"
   ]
  },
  {
   "cell_type": "code",
   "execution_count": null,
   "metadata": {
    "collapsed": true
   },
   "outputs": [],
   "source": [
    "#bas package\n",
    "ibound = np.ones((nlay, nrow, ncol))\n",
    "strt = np.zeros((nlay, nrow, ncol))\n",
    "bas3 = flopy.modflow.ModflowBas(mf3, ibound=ibound, strt=strt)"
   ]
  },
  {
   "cell_type": "code",
   "execution_count": null,
   "metadata": {
    "collapsed": false
   },
   "outputs": [],
   "source": [
    "pr3 = 15000 #pumping rate\n",
    "wel_sp3 = [[0, 6, 3, pr3],\n",
    "         [0, 3, 3, -pr3],\n",
    "         [0, 3, 6, -pr3],\n",
    "         [0, 6, 6, -pr3]]\n",
    "stress_period_data = {0: wel_sp3}\n",
    "wel3 = flopy.modflow.ModflowWel(mf3, stress_period_data=stress_period_data)"
   ]
  },
  {
   "cell_type": "code",
   "execution_count": null,
   "metadata": {
    "collapsed": true
   },
   "outputs": [],
   "source": [
    "#pcg package\n",
    "mxiter = 50\n",
    "hclose = 0.0001\n",
    "pcg3 = flopy.modflow.ModflowPcg(mf3, mxiter=mxiter, hclose=hclose)"
   ]
  },
  {
   "cell_type": "code",
   "execution_count": null,
   "metadata": {
    "collapsed": true
   },
   "outputs": [],
   "source": [
    "#lpf package\n",
    "hk = 2400 #times cell thickness top-botm\n",
    "laytyp = np.zeros((nlay))\n",
    "lpf3 = flopy.modflow.ModflowLpf(mf3, hk=hk, laytyp=laytyp)"
   ]
  },
  {
   "cell_type": "code",
   "execution_count": null,
   "metadata": {
    "collapsed": true
   },
   "outputs": [],
   "source": [
    "#oc package\n",
    "oc3 = flopy.modflow.ModflowOc(mf3)"
   ]
  },
  {
   "cell_type": "code",
   "execution_count": null,
   "metadata": {
    "collapsed": false
   },
   "outputs": [],
   "source": [
    "#ghb package\n",
    "ipakcb = 50\n",
    "stage = 0.0\n",
    "cond1 = ((2400 * 1250)/625)\n",
    "cond2 = ((2400 * 1666.7)/625)\n",
    "ghb_sp3 = [[0, 0, 0, stage, cond1],\n",
    "           [0, 0, 1, stage, cond2],\n",
    "           [0, 0, 2, stage, cond2],\n",
    "           [0, 0, 3, stage, cond2],\n",
    "           [0, 0, 4, stage, cond2],\n",
    "           [0, 0, 5, stage, cond2],\n",
    "           [0, 0, 6, stage, cond2],\n",
    "           [0, 0, 7, stage, cond2],\n",
    "           [0, 0, 8, stage, cond2],\n",
    "           [0, 0, 9, stage, cond1]]\n",
    "ghb_spd = {0: ghb_sp3}\n",
    "ghb3 = flopy.modflow.ModflowGhb(mf3, ipakcb=ipakcb, stress_period_data=ghb_spd)\n",
    "\n",
    "print(ghb_sp3)"
   ]
  },
  {
   "cell_type": "code",
   "execution_count": null,
   "metadata": {
    "collapsed": false
   },
   "outputs": [],
   "source": [
    "# Write the MODFLOW model input files\n",
    "mf3.write_input()"
   ]
  },
  {
   "cell_type": "code",
   "execution_count": null,
   "metadata": {
    "collapsed": false
   },
   "outputs": [],
   "source": [
    "# Run the MODFLOW model\n",
    "success, buff = mf3.run_model()"
   ]
  },
  {
   "cell_type": "markdown",
   "metadata": {},
   "source": [
    "### Grid 4\n",
    "\n",
    "| Column # | Row Spacing |\n",
    "|----------|-------------|\n",
    "| 1        | 500         |\n",
    "| 2        | 1000        |\n",
    "| 3        | 1000        |\n",
    "| 4        | 1000        |\n",
    "| 5        | 1000        |\n",
    "| 6        | 1000        |\n",
    "| 7        | 1000        |\n",
    "| 8        | 1000        |\n",
    "| 9        | 1000        |\n",
    "| 10       | 1000        |\n",
    "| 11       | 1000        |\n",
    "| 12       | 1000        |\n",
    "| 13       | 1000        |\n",
    "| 14       | 1000        |\n",
    "| 15       | 1000        |\n",
    "| 16       | 500         |"
   ]
  },
  {
   "cell_type": "code",
   "execution_count": null,
   "metadata": {
    "collapsed": false
   },
   "outputs": [],
   "source": [
    "print(os.getcwd())\n",
    "delr4 = [] #creates an empty list\n",
    "f4 = open('../Data/table8.1_grid4.csv') #opens the csv file; the two periods (.) means that you are goin backwards into the folders.\n",
    "    \n",
    "    #the four loop below creates a statement that if i == 0 (if it's the first\n",
    "    #row then it will skip it (continue) and move on with the for loop)\n",
    "    #we skip the first row in our table/csv file because the headers would give\n",
    "    #us an error since they aren't numerical values.\n",
    "for i,line in enumerate(f4):\n",
    "    if i == 0: \n",
    "        continue\n",
    "        \n",
    "    #\"line.strip\" gets rid of any extra spaces in the margins of the plot\n",
    "    #\"split\" sections of the individual values according to whatever you put in the quotes\n",
    "    linelist4 = line.strip().split(',') \n",
    "    \n",
    "    value4 = float(linelist4[1]) #changes the values in the list to floats\n",
    "    print(value4) #prints the values\n",
    "    delr4.append(value4) #puts the floats into the empty list, delr \n",
    "    \n",
    "print(delr4) #prints the list"
   ]
  },
  {
   "cell_type": "code",
   "execution_count": null,
   "metadata": {
    "collapsed": false
   },
   "outputs": [],
   "source": [
    "#code to create grid 4\n",
    "fig4 = plt.figure(figsize=(10, 10))\n",
    "ax4 = fig.add_subplot(1, 1, 1, aspect='equal') #makes the length and width of the grid equal on all four sides\n",
    "delr_array4 = np.array(delr4) #changes delr values from float to array\n",
    "print (delr_array4) #prints those values\n",
    "print (delr_array4.sum()) #prints the sum of those values\n",
    "ymax4 = delr_array4.sum() #assigns the sum of the list to ymax\n",
    "ymin4 = 0 #sets ymin equal to zero\n",
    "xmax4 = ymax4 #makes xmax equal to ymax which is equal to the sum of the list\n",
    "xmin4 = 0 #sets xmin equal to zero\n",
    "x4 = 0 #sets x equal to zero\n",
    "y4 = 0 #sets y equal to zero\n",
    "\n",
    "plt.plot([xmin4, xmin4], [ymin4, ymax4], 'b-') #plots the first column line (on the left). Must be outside of the loop.\n",
    "#'b-' creates a blue line out of dashes\n",
    "for dx4 in delr4: #dx will go through the values in delr one by one in the loop\n",
    "    x4 = x4 + dx4 #add the dx value to x, which is zero, and then store that new value into x\n",
    "    plt.plot([x4, x4], [ymin4, ymax4], 'b-') #plot that point and then loop back to top\n",
    "\n",
    "    #repeat the process above but with the y values to make the rows\n",
    "plt.plot([xmin4, xmax4], [ymin4, ymin4], 'g-') #plots the first row line (on the bottom). Must be outside of the loop\n",
    "#'g-' creates a green line with dashes\n",
    "for dy4 in delr4: \n",
    "    y4 = y4 + dy4\n",
    "    plt.plot([xmin4, xmax4], [y4, y4], 'g-')\n",
    "\n",
    "#pumping well\n",
    "x4_0 = 5000\n",
    "y4_0 = 5000\n",
    "def wel_pump4(x4_0, y4_0, sym):\n",
    "    plt.plot(x4_0, y4_0, sym)\n",
    "wel_pump4(x4_0, y4_0, sym='ro')\n",
    "#well 1\n",
    "x4_1 = 5000\n",
    "y4_1 = 10000\n",
    "def wel_sp4_1(x4_1, y4_1, sym):\n",
    "    plt.plot(x4_1, y4_1, sym)\n",
    "wel_sp4_1(x4_1, y4_1, sym='bo')\n",
    "#well 2\n",
    "x4_2 = 10000\n",
    "y4_2 = 10000\n",
    "def wel_sp4_2(x4_2, y4_2, sym):\n",
    "    plt.plot(x4_2, y4_2, sym)\n",
    "wel_sp4_2(x4_2, y4_2, sym='bo')\n",
    "#well 3\n",
    "x4_3 = 10000\n",
    "y4_3 = 5000\n",
    "def wel_sp4_3(x4_3, y4_3, sym):\n",
    "    plt.plot(x4_3, y4_3, sym)\n",
    "wel_sp4_3(x4_3, y4_3, sym='bo')"
   ]
  },
  {
   "cell_type": "code",
   "execution_count": null,
   "metadata": {
    "collapsed": true
   },
   "outputs": [],
   "source": [
    "#Flopy objects\n",
    "modelname4 = 'p8_pb4' #short for problem 8 part b, grid 4\n",
    "exe_name = '../MF2005.1_12/bin/mf2005.exe'\n",
    "model_ws4 = 'temp'\n",
    "mf4 = flopy.modflow.Modflow(modelname4, exe_name=exe_name, model_ws = model_ws4)"
   ]
  },
  {
   "cell_type": "code",
   "execution_count": null,
   "metadata": {
    "collapsed": false
   },
   "outputs": [],
   "source": [
    "#dis package\n",
    "#call in the discretization package\n",
    "nlay = 1\n",
    "nrow = 10\n",
    "ncol = 10\n",
    "delr = delr4\n",
    "delc = delr #set delr values equal to delc\n",
    "top = 0 #an array of the top elevation of layer 1\n",
    "botm = -1 #an array of the bottom elevation of layer 1\n",
    "nper = 1 #number of periods\n",
    "perlen = 0.2 #length of stress period\n",
    "nstp = 10 #number of time steps\n",
    "tsmult = 1.414 #time step multiplier\n",
    "dis4 = flopy.modflow.ModflowDis(mf4, nlay, nrow, ncol, delr=delr, delc=delc,\n",
    "                               top=top, botm=botm, nper=nper, perlen=perlen, \n",
    "                               nstp=nstp, tsmult=tsmult, steady=False)"
   ]
  },
  {
   "cell_type": "code",
   "execution_count": null,
   "metadata": {
    "collapsed": true
   },
   "outputs": [],
   "source": [
    "#bas package\n",
    "ibound = np.ones((nlay, nrow, ncol))\n",
    "strt = np.zeros((nlay, nrow, ncol))\n",
    "bas4 = flopy.modflow.ModflowBas(mf4, ibound=ibound, strt=strt)"
   ]
  },
  {
   "cell_type": "code",
   "execution_count": null,
   "metadata": {
    "collapsed": false
   },
   "outputs": [],
   "source": [
    "#wel package\n",
    "pr4 = 15000 #pumping rate\n",
    "wel_sp4 = [[0, 10, 5, pr4],\n",
    "           [0, 5, 5, -pr4],\n",
    "           [0, 5, 10, -pr4],\n",
    "           [0, 10, 10, -pr4]]\n",
    "stress_period_data = {0: wel_sp4}\n",
    "wel4 = flopy.modflow.ModflowWel(mf4, stress_period_data=stress_period_data)"
   ]
  },
  {
   "cell_type": "code",
   "execution_count": null,
   "metadata": {
    "collapsed": false
   },
   "outputs": [],
   "source": [
    "#pcg package\n",
    "mxiter = 50\n",
    "hclose = 0.0001\n",
    "pcg4 = flopy.modflow.ModflowPcg(mf4, mxiter=mxiter, hclose=hclose)"
   ]
  },
  {
   "cell_type": "code",
   "execution_count": null,
   "metadata": {
    "collapsed": true
   },
   "outputs": [],
   "source": [
    "#lpf package\n",
    "hk = 2400\n",
    "laytyp = np.zeros((nlay))\n",
    "lpf4 = flopy.modflow.ModflowLpf(mf4, hk=hk, laytyp=laytyp)"
   ]
  },
  {
   "cell_type": "code",
   "execution_count": null,
   "metadata": {
    "collapsed": false
   },
   "outputs": [],
   "source": [
    "#oc package\n",
    "oc4 = flopy.modflow.ModflowOc(mf4)"
   ]
  },
  {
   "cell_type": "code",
   "execution_count": null,
   "metadata": {
    "collapsed": false
   },
   "outputs": [],
   "source": [
    "#ghb package\n",
    "ipakcb = 50\n",
    "stage = 0.0\n",
    "cond1 = ((2400 * 500)/250)\n",
    "cond2 = ((2400 * 1000)/500)\n",
    "ghb_sp4 = [[0, 0, 0, stage, cond1],\n",
    "           [0, 0, 1, stage, cond2],\n",
    "           [0, 0, 2, stage, cond2],\n",
    "           [0, 0, 3, stage, cond2],\n",
    "           [0, 0, 4, stage, cond2],\n",
    "           [0, 0, 5, stage, cond2],\n",
    "           [0, 0, 6, stage, cond2],\n",
    "           [0, 0, 7, stage, cond2],\n",
    "           [0, 0, 8, stage, cond2],\n",
    "           [0, 0, 9, stage, cond2],\n",
    "           [0, 0, 10, stage, cond2],\n",
    "           [0, 0, 11, stage, cond2],\n",
    "           [0, 0, 12, stage, cond2],\n",
    "           [0, 0, 13, stage, cond2],\n",
    "           [0, 0, 14, stage, cond2],\n",
    "           [0, 0, 15, stage, cond1]]\n",
    "ghb_spd = {0: ghb_sp4}\n",
    "ghb4 = flopy.modflow.ModflowGhb(mf4, ipakcb=ipakcb, stress_period_data=ghb_spd)\n",
    "\n",
    "print(ghb_sp4)"
   ]
  },
  {
   "cell_type": "code",
   "execution_count": null,
   "metadata": {
    "collapsed": false
   },
   "outputs": [],
   "source": [
    "# Write the MODFLOW model input files\n",
    "mf4.write_input()"
   ]
  },
  {
   "cell_type": "code",
   "execution_count": null,
   "metadata": {
    "collapsed": false
   },
   "outputs": [],
   "source": [
    "# Run the MODFLOW model\n",
    "success, buff = mf4.run_model()"
   ]
  },
  {
   "cell_type": "markdown",
   "metadata": {},
   "source": [
    "### Grid 5\n",
    "\n",
    "| Column # | Row Spacing |\n",
    "|----------|-------------|\n",
    "| 1        | 416.7       |\n",
    "| 2        | 416.7       |\n",
    "| 3        | 416.7       |\n",
    "| 4        | 416.7       |\n",
    "| 5        | 416.7       |\n",
    "| 6        | 416.7       |\n",
    "| 7        | 555.6       |\n",
    "| 8        | 555.6       |\n",
    "| 9        | 555.6       |\n",
    "| 10       | 555.6       |\n",
    "| 11       | 555.6       |\n",
    "| 12       | 555.6       |\n",
    "| 13       | 555.6       |\n",
    "| 14       | 555.6       |\n",
    "| 15       | 555.6       |\n",
    "| 16       | 555.6       |\n",
    "| 17       | 555.6       |\n",
    "| 18       | 555.6       |\n",
    "| 19       | 555.6       |\n",
    "| 20       | 555.6       |\n",
    "| 21       | 555.6       |\n",
    "| 22       | 555.6       |\n",
    "| 23       | 555.6       |\n",
    "| 24       | 555.6       |\n",
    "| 25       | 416.7       |\n",
    "| 26       | 416.7       |\n",
    "| 27       | 416.7       |\n",
    "| 28       | 416.7       |\n",
    "| 29       | 416.7       |\n",
    "| 30       | 416.7       |"
   ]
  },
  {
   "cell_type": "code",
   "execution_count": null,
   "metadata": {
    "collapsed": false
   },
   "outputs": [],
   "source": [
    "print(os.getcwd())\n",
    "delr5 = [] #creates an empty list\n",
    "f5 = open('../Data/table8.1_grid5.csv') #opens the csv file; the two periods (.) means that you are goin backwards into the folders.\n",
    "    \n",
    "    #the four loop below creates a statement that if i == 0 (if it's the first\n",
    "    #row then it will skip it (continue) and move on with the for loop)\n",
    "    #we skip the first row in our table/csv file because the headers would give\n",
    "    #us an error since they aren't numerical values.\n",
    "for i,line in enumerate(f5):\n",
    "    if i == 0: \n",
    "        continue\n",
    "        \n",
    "    #\"line.strip\" gets rid of any extra spaces in the margins of the plot\n",
    "    #\"split\" sections of the individual values according to whatever you put in the quotes\n",
    "    linelist5 = line.strip().split(',') \n",
    "    \n",
    "    value5 = float(linelist5[1]) #changes the values in the list to floats\n",
    "    print(value5) #prints the values\n",
    "    delr5.append(value5) #puts the floats into the empty list, delr \n",
    "    \n",
    "print(delr5) #prints the list"
   ]
  },
  {
   "cell_type": "code",
   "execution_count": null,
   "metadata": {
    "collapsed": false
   },
   "outputs": [],
   "source": [
    "#code to create grid 5\n",
    "fig5 = plt.figure(figsize=(10, 10))\n",
    "ax5 = fig.add_subplot(1, 1, 1, aspect='equal') #makes the length and width of the grid equal on all four sides\n",
    "delr_array5 = np.array(delr5) #changes delr values from float to array\n",
    "print (delr_array5) #prints those values\n",
    "print (delr_array5.sum()) #prints the sum of those values\n",
    "ymax5 = delr_array5.sum() #assigns the sum of the list to ymax\n",
    "ymin5 = 0 #sets ymin equal to zero\n",
    "xmax5 = ymax5 #makes xmax equal to ymax which is equal to the sum of the list\n",
    "xmin5 = 0 #sets xmin equal to zero\n",
    "x5 = 0 #sets x equal to zero\n",
    "y5 = 0 #sets y equal to zero\n",
    "\n",
    "#before moving on to this code, it helps to draw out an image of a graph with each corner labled with the coordinates of that point\n",
    "#top left - (xmin, ymax)\n",
    "#bottom left - (xmin, ymin)\n",
    "#top right - (xmax, ymax)\n",
    "#bottom right - (xmax, ymin)\n",
    "plt.plot([xmin5, xmin5], [ymin5, ymax5], 'b-') #plots the first column line (on the left). Must be outside of the loop.\n",
    "#'b-' creates a blue line out of dashes\n",
    "for dx5 in delr5: #dx will go through the values in delr one by one in the loop\n",
    "    x5 = x5 + dx5 #add the dx value to x, which is zero, and then store that new value into x\n",
    "    plt.plot([x5, x5], [ymin5, ymax5], 'b-') #plot that point and then loop back to top\n",
    "\n",
    "    #repeat the process above but with the y values to make the rows\n",
    "plt.plot([xmin5, xmax5], [ymin5, ymin5], 'g-') #plots the first row line (on the bottom). Must be outside of the loop\n",
    "#'g-' creates a green line with dashes\n",
    "for dy5 in delr5: \n",
    "    y5 = y5 + dy5\n",
    "    plt.plot([xmin5, xmax5], [y5, y5], 'g-')\n",
    "\n",
    "#pumping well\n",
    "x5_0 = 5000.4\n",
    "y5_0 = 5000.4\n",
    "def wel_pump5(x5_0, y5_0, sym):\n",
    "    plt.plot(x5_0, y5_0, sym)\n",
    "wel_pump5(x5_0, y5_0, sym='ro')\n",
    "#well 1\n",
    "x5_1 = 5000.4\n",
    "y5_1 = 10000.8\n",
    "def wel_sp5_1(x5_1, y5_1, sym):\n",
    "    plt.plot(x5_1, y5_1, sym)\n",
    "wel_sp5_1(x5_1, y5_1, sym='bo')\n",
    "#well 2\n",
    "x5_2 = 10000.8\n",
    "y5_2 = 10000\n",
    "def wel_sp5_2(x5_2, y5_2, sym):\n",
    "    plt.plot(x5_2, y5_2, sym)\n",
    "wel_sp5_2(x5_2, y5_2, sym='bo')\n",
    "#well 3\n",
    "x5_3 = 10000.8\n",
    "y5_3 = 5000\n",
    "def wel_sp5_3(x5_3, y5_3, sym):\n",
    "    plt.plot(x5_3, y5_3, sym)\n",
    "wel_sp5_3(x5_3, y5_3, sym='bo')"
   ]
  },
  {
   "cell_type": "code",
   "execution_count": null,
   "metadata": {
    "collapsed": true
   },
   "outputs": [],
   "source": [
    "#Flopy objects\n",
    "modelname5 = 'p8_pb5' #short for problem 8 part b, grid 5\n",
    "exe_name = '../MF2005.1_12/bin/mf2005.exe'\n",
    "model_ws5 = 'temp'\n",
    "mf5 = flopy.modflow.Modflow(modelname5, exe_name=exe_name, model_ws = model_ws5)"
   ]
  },
  {
   "cell_type": "code",
   "execution_count": null,
   "metadata": {
    "collapsed": true
   },
   "outputs": [],
   "source": [
    "#dis package\n",
    "nlay = 1\n",
    "nrow = 30\n",
    "ncol = 30\n",
    "delr = delr5\n",
    "delc = delr #set delr values equal to delc\n",
    "top = 0 #an array of the top elevation of layer 1\n",
    "botm = -1 #an array of the bottom elevation of layer 1\n",
    "nper = 1 #number of periods\n",
    "perlen = 0.2 #length of stress period\n",
    "nstp = 10 #number of time steps\n",
    "tsmult = 1.414 #time step multiplier\n",
    "dis5 = flopy.modflow.ModflowDis(mf5, nlay, nrow, ncol, delr=delr, delc=delc,\n",
    "                               top=top, botm=botm, nper=nper, perlen=perlen, \n",
    "                               nstp=nstp, tsmult=tsmult, steady=False)"
   ]
  },
  {
   "cell_type": "code",
   "execution_count": null,
   "metadata": {
    "collapsed": true
   },
   "outputs": [],
   "source": [
    "#bas package\n",
    "ibound = np.ones((nlay, nrow, ncol))\n",
    "strt = np.zeros((nlay, nrow, ncol))\n",
    "bas5 = flopy.modflow.ModflowBas(mf5, ibound=ibound, strt=strt)"
   ]
  },
  {
   "cell_type": "code",
   "execution_count": null,
   "metadata": {
    "collapsed": false
   },
   "outputs": [],
   "source": [
    "#wel package\n",
    "# Remember to use zero-based layer, row, column indices!\n",
    "pr5 = 15000 #pumping rate\n",
    "wel_sp5 = [[0, 19, 10, pr5],\n",
    "             [0, 10, 10, -pr5],\n",
    "             [0, 10, 19, -pr5],\n",
    "             [0, 19, 19, -pr5]]\n",
    "stress_period_data = {0: wel_sp5}\n",
    "wel5 = flopy.modflow.ModflowWel(mf5, stress_period_data=stress_period_data)"
   ]
  },
  {
   "cell_type": "code",
   "execution_count": null,
   "metadata": {
    "collapsed": false
   },
   "outputs": [],
   "source": [
    "#pcg package\n",
    "mxiter = 50\n",
    "hclose = 0.0001\n",
    "pcg5 = flopy.modflow.ModflowPcg(mf5, mxiter=mxiter, hclose=hclose)"
   ]
  },
  {
   "cell_type": "code",
   "execution_count": null,
   "metadata": {
    "collapsed": false
   },
   "outputs": [],
   "source": [
    "#lpf package\n",
    "hk = 2400\n",
    "laytyp = np.zeros((nlay))\n",
    "lpf5 = flopy.modflow.ModflowLpf(mf5, hk=hk, laytyp=laytyp)"
   ]
  },
  {
   "cell_type": "code",
   "execution_count": null,
   "metadata": {
    "collapsed": false
   },
   "outputs": [],
   "source": [
    "#oc package\n",
    "oc5 = flopy.modflow.ModflowOc(mf5)"
   ]
  },
  {
   "cell_type": "code",
   "execution_count": null,
   "metadata": {
    "collapsed": false
   },
   "outputs": [],
   "source": [
    "#ghb package\n",
    "ipakcb = 50\n",
    "stage = 0.0\n",
    "cond1 = ((2400 * 416.7)/208.35)\n",
    "cond2 = ((2400 * 555.6)/208.35)\n",
    "ghb_sp5 = [[0, 0, 0, stage, cond1],\n",
    "           [0, 0, 1, stage, cond1],\n",
    "           [0, 0, 2, stage, cond1],\n",
    "           [0, 0, 3, stage, cond1],\n",
    "           [0, 0, 4, stage, cond1],\n",
    "           [0, 0, 5, stage, cond1],\n",
    "           [0, 0, 6, stage, cond2],\n",
    "           [0, 0, 7, stage, cond2],\n",
    "           [0, 0, 8, stage, cond2],\n",
    "           [0, 0, 9, stage, cond2],\n",
    "           [0, 0, 10, stage, cond2],\n",
    "           [0, 0, 11, stage, cond2],\n",
    "           [0, 0, 12, stage, cond2],\n",
    "           [0, 0, 13, stage, cond2],\n",
    "           [0, 0, 14, stage, cond2],\n",
    "           [0, 0, 15, stage, cond2],\n",
    "           [0, 0, 16, stage, cond2],\n",
    "           [0, 0, 17, stage, cond2],\n",
    "           [0, 0, 18, stage, cond2],\n",
    "           [0, 0, 19, stage, cond2],\n",
    "           [0, 0, 20, stage, cond2],\n",
    "           [0, 0, 21, stage, cond2],\n",
    "           [0, 0, 22, stage, cond2],\n",
    "           [0, 0, 23, stage, cond2],\n",
    "           [0, 0, 24, stage, cond1],\n",
    "           [0, 0, 25, stage, cond1],\n",
    "           [0, 0, 26, stage, cond1],\n",
    "           [0, 0, 27, stage, cond1],\n",
    "           [0, 0, 28, stage, cond1],\n",
    "           [0, 0, 29, stage, cond1]]\n",
    "ghb_spd = {0: ghb_sp5}\n",
    "ghb5 = flopy.modflow.ModflowGhb(mf5, ipakcb=ipakcb, stress_period_data=ghb_spd)\n",
    "\n",
    "print(ghb_sp5)"
   ]
  },
  {
   "cell_type": "code",
   "execution_count": null,
   "metadata": {
    "collapsed": false
   },
   "outputs": [],
   "source": [
    "# Write the MODFLOW model input files\n",
    "mf5.write_input()"
   ]
  },
  {
   "cell_type": "code",
   "execution_count": null,
   "metadata": {
    "collapsed": false
   },
   "outputs": [],
   "source": [
    "# Run the MODFLOW model\n",
    "success, buff = mf5.run_model()"
   ]
  },
  {
   "cell_type": "code",
   "execution_count": null,
   "metadata": {
    "collapsed": false
   },
   "outputs": [],
   "source": [
    "import pandas as pd\n",
    "table = pd.read_csv('../Data/table8.2.csv')\n",
    "\n",
    "table.columns #displays all the column names in the file\n",
    "\n",
    "#prints out the first 5 rows into a table\n",
    "table.head()"
   ]
  },
  {
   "cell_type": "code",
   "execution_count": null,
   "metadata": {
    "collapsed": false,
    "scrolled": false
   },
   "outputs": [],
   "source": [
    "#prints the whole dataframe instead of just the first 5 rows\n",
    "print(table5)"
   ]
  },
  {
   "cell_type": "markdown",
   "metadata": {},
   "source": [
    "### MODEL OUTPUT\n",
    "\n",
    "_Drawdown, iteration and CPU data are given in Tables 8.2, 8.3, 8.4, and 8.5 for parts a, b,\n",
    "c, and d, respectively. A comparison is also made to analytical results obtained from the\n",
    "image well technique._"
   ]
  },
  {
   "cell_type": "markdown",
   "metadata": {},
   "source": [
    "##### _Figure 8.3. Drawdown (m) at 0.2 days for the 16 x 16 grid simulation of Part b._"
   ]
  },
  {
   "cell_type": "markdown",
   "metadata": {},
   "source": [
    "### DISCUSSION OF RESULTS\n",
    "\n",
    "_Drawdowns for the final timestep of part b are shown in Figure 8.3 for the 16 x 16 grid.\n",
    "The accuracy of the answer is highly dependent upon the grid configuration used (Table 8.3).\n",
    "This is because in early time, the gradients are much steeper in the vicinity of the pumping\n",
    "well. A fine grid can approximate this rapid spatial variation much better than a coarse grid.\n",
    "Notice that the grid design can take on vastly different configurations depending on the intent\n",
    "of the modeling. As a general role, the grid should be designed to match the curvature of the\n",
    "drawdown cone._"
   ]
  }
 ],
 "metadata": {
  "kernelspec": {
   "display_name": "Python 3",
   "language": "python",
   "name": "python3"
  },
  "language_info": {
   "codemirror_mode": {
    "name": "ipython",
    "version": 3
   },
   "file_extension": ".py",
   "mimetype": "text/x-python",
   "name": "python",
   "nbconvert_exporter": "python",
   "pygments_lexer": "ipython3",
   "version": "3.6.0"
  }
 },
 "nbformat": 4,
 "nbformat_minor": 2
}
