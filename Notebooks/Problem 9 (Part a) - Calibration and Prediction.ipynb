{
 "cells": [
  {
   "cell_type": "markdown",
   "metadata": {},
   "source": [
    "# PROBLEM 9: Calibration and Prediction"
   ]
  },
  {
   "cell_type": "markdown",
   "metadata": {},
   "source": [
    "## INTRODUCTION\n",
    "\n",
    "_Groundwater models are usually applied either to conceptualize and understand a\n",
    "hydrologic system or to predict the outcome of a future change to the system. In order to provide some assurance that the model reflects the behavior or appearance of the flow system, it must be calibrated prior to use as a predictive tool. Calibration involves matching modeled results to observed data. This usually includes_ [hydraulic heads](https://github.com/jordw22/modflow_epa/blob/master/terms%20and%20definitions.md#h), [drawdowns](https://github.com/jordw22/modflow_epa/blob/master/terms%20and%20definitions.md#d), _induced_ [discharge](https://github.com/jordw22/modflow_epa/blob/master/terms%20and%20definitions.md#d) _and/or induced_ [recharge](https://github.com/jordw22/modflow_epa/blob/master/terms%20and%20definitions.md#r). _In the process of obtaining a match, aquifer parameters, such as_ [transmissivity](https://github.com/jordw22/modflow_epa/blob/master/terms%20and%20definitions.md#t), [leakance](https://github.com/jordw22/modflow_epa/blob/master/terms%20and%20definitions.md#l), [storage coefficient](https://github.com/jordw22/modflow_epa/blob/master/terms%20and%20definitions.md#s), _or the attributes of [boundary conditions](https://github.com/jordw22/modflow_epa/blob/master/terms%20and%20definitions.md#b) _are adjusted within reasonable ranges until a satisfactory match is obtained. Once the modeler is convinced that the model replicates current system behavior, and that it is capable of replicating future behavior, it may be used in a predictive mode. This problem provides an exercise in system conceptualization, a simple model calibration, and use as a predictive tool._"
   ]
  },
  {
   "cell_type": "markdown",
   "metadata": {},
   "source": [
    "## PROBLEM STATEMENT\n",
    "\n",
    "_The idealized flow system shown in Figure 9.1 is a small, confined aquifer which is strongly controlled by the river which runs across it. The aquifer is approximately 100 ft thick and is composed primarily of silty sand. The river is not in direct hydraulic connection with the aquifer, but acts as a leaky boundary condition which can gain or lose water to the aquifer. Other boundary conditions are no flow, which surround the square and define the areal extent of the aquifer._ [Evapotranspiration](https://github.com/jordw22/modflow_epa/blob/master/terms%20and%20definitions.md#e) _and small domestic users in the area may be neglected, although precipitation recharge is significant Stage data for the river as well as river bed elevation determined in an earlier study are shown in Table 9.1._"
   ]
  },
  {
   "cell_type": "markdown",
   "metadata": {},
   "source": [
    "### Part a\n",
    "_Given constraints of uniform transmissivity and recharge, and additional data\n",
    "below, obtain a steady state calibration (history match) based on the potentiometric surface map of Figure 9.1 and the calibration targets shown in Table 9.2._\n",
    "\n",
    "_grid size: 15 x 15_\n",
    "\n",
    "_delta x = delta y: 500 ft_\n",
    "\n",
    "_river base flow at western model boundary: 10 cfs_\n",
    "\n",
    "_river base flow at eastern model boundary: 11 1/8 cfs_\n",
    "\n",
    "_River bed conductance: 0.01 ${ft^2}$ per second_"
   ]
  },
  {
   "cell_type": "markdown",
   "metadata": {},
   "source": [
    "### Table 9.1: River Data\n",
    "\n",
    "| Row | Column | Stage (ft) | Bottom Elevation (ft) |\n",
    "|-----|--------|------------|-----------------------|\n",
    "| 4   | 1      | 100        | 90                    |\n",
    "| 4   | 2      | 100        | 90                    |\n",
    "| 4   | 3      | 100        | 90                    |\n",
    "| 4   | 4      | 99         | 89                    |\n",
    "| 4   | 5      | 99         | 89                    |\n",
    "| 5   | 6      | 98         | 88                    |\n",
    "| 6   | 7      | 97         | 87                    |\n",
    "| 7   | 8      | 96         | 86                    |\n",
    "| 8   | 9      | 95         | 85                    |\n",
    "| 9   | 10     | 94         | 84                    |\n",
    "| 9   | 11     | 94         | 84                    |\n",
    "| 9   | 12     | 94         | 84                    |\n",
    "| 9   | 13     | 94         | 84                    |\n",
    "| 9   | 14     | 93         | 83                    |\n",
    "| 9   | 15     | 93         | 83                    |"
   ]
  },
  {
   "cell_type": "markdown",
   "metadata": {},
   "source": [
    "### Table 9.2: Calibration Targets\n",
    "\n",
    "| Row | Column | Head (ft) |\n",
    "|-----|--------|-----------|\n",
    "| 14  | 1      | 124       |\n",
    "| 11  | 4      | 119.9     |\n",
    "| 13  | 13     | 113.9     |\n",
    "| 8   | 1      | 116.1     |\n",
    "| 4   | 12     | 113       |\n",
    "| 9   | 6      | 114       |\n",
    "| 2   | 3      | 108.5     |\n",
    "| 11  | 10     | 111.7     |\n",
    "| 7   | 14     | 107.6     |\n",
    "| 3   | 8      | 111.3     |\n",
    "| 2   | 15     | 115.6     |"
   ]
  },
  {
   "cell_type": "code",
   "execution_count": 104,
   "metadata": {
    "collapsed": true
   },
   "outputs": [],
   "source": [
    "#Import and modules/packages that we need to work with\n",
    "%matplotlib inline\n",
    "import os\n",
    "import sys\n",
    "import platform\n",
    "import numpy as np\n",
    "import matplotlib as mpl\n",
    "import matplotlib.pyplot as plt\n",
    "import pandas as pd\n",
    "import flopy\n",
    "#import csv"
   ]
  },
  {
   "cell_type": "code",
   "execution_count": 105,
   "metadata": {
    "collapsed": false
   },
   "outputs": [
    {
     "name": "stdout",
     "output_type": "stream",
     "text": [
      "C:\\VT\\USGS Internship\\modflow_epa.git\\Notebooks\n",
      "500.0\n",
      "500.0\n",
      "500.0\n",
      "500.0\n",
      "500.0\n",
      "500.0\n",
      "500.0\n",
      "500.0\n",
      "500.0\n",
      "500.0\n",
      "500.0\n",
      "500.0\n",
      "500.0\n",
      "500.0\n",
      "500.0\n",
      "[500.0, 500.0, 500.0, 500.0, 500.0, 500.0, 500.0, 500.0, 500.0, 500.0, 500.0, 500.0, 500.0, 500.0, 500.0]\n"
     ]
    }
   ],
   "source": [
    "print(os.getcwd())\n",
    "delr = [] #creates an empty list\n",
    "f = open('../Data/problem9_grid_data.csv') #opens the csv file; the two periods (.) means that you are goin backwards into the folders.\n",
    "    \n",
    "    #the four loop below creates a statement that if i == 0 (if it's the first\n",
    "    #row then it will skip it (continue) and move on with the for loop)\n",
    "    #we skip the first row in our table/csv file because the headers would give\n",
    "    #us an error since they aren't numerical values.\n",
    "for i,line in enumerate(f):\n",
    "    if i == 0: \n",
    "        continue\n",
    "        \n",
    "    #\"line.strip\" gets rid of any extra spaces in the margins of the plot\n",
    "    #\"split\" sections of the individual values according to whatever you put in the quotes\n",
    "    linelist = line.strip().split(',') \n",
    "    \n",
    "    value = float(linelist[1]) #changes the values in the list to floats\n",
    "    print(value) #prints the values\n",
    "    delr.append(value) #puts the floats into the empty list, delr \n",
    "    \n",
    "print(delr) #prints the list"
   ]
  },
  {
   "cell_type": "code",
   "execution_count": 106,
   "metadata": {
    "collapsed": false,
    "scrolled": false
   },
   "outputs": [
    {
     "name": "stdout",
     "output_type": "stream",
     "text": [
      "[ 500.  500.  500.  500.  500.  500.  500.  500.  500.  500.  500.  500.\n",
      "  500.  500.  500.]\n",
      "7500.0\n"
     ]
    },
    {
     "data": {
      "image/png": "[encoded data removed]",
      "text/plain": [
       "<matplotlib.figure.Figure at 0x1e9d1db7128>"
      ]
     },
     "metadata": {},
     "output_type": "display_data"
    }
   ],
   "source": [
    "#code to create the grid image\n",
    "fig = plt.figure(figsize=(10, 10))\n",
    "ax = fig.add_subplot(1, 1, 1, aspect='equal') #makes the length and width of the grid equal on all four sides\n",
    "delr_array = np.array(delr) #changes delr values from float to array\n",
    "print (delr_array) #prints those values\n",
    "print (delr_array.sum()) #prints the sum of those values\n",
    "ymax = delr_array.sum() #assigns the sum of the list to ymax\n",
    "ymin = 0 #sets ymin equal to zero\n",
    "xmax = ymax #makes xmax equal to ymax which is equal to the sum of the list\n",
    "xmin = 0 #sets xmin equal to zero\n",
    "x = 0 #sets x equal to zero\n",
    "y = 0 #sets y equal to zero\n",
    "\n",
    "#before moving on to this code, it helps to draw out an image of a graph with each corner labled with the coordinates of that point\n",
    "#top left - (xmin, ymax)\n",
    "#bottom left - (xmin, ymin)\n",
    "#top right - (xmax, ymax)\n",
    "#bottom right - (xmax, ymin)\n",
    "plt.plot([xmin, xmin], [ymin, ymax], 'b-') #plots the first column line (on the left). Must be outside of the loop.\n",
    "#'b-' creates a blue line out of dashes\n",
    "for dx in delr: #dx will go through the values in delr one by one in the loop\n",
    "    x = x + dx #add the dx value to x, which is zero, and then store that new value into x\n",
    "    plt.plot([x, x], [ymin, ymax], 'b-') #plot that point and then loop back to top\n",
    "\n",
    "    #repeat the process above but with the y values to make the rows\n",
    "plt.plot([xmin, xmax], [ymin, ymin], 'g-') #plots the first row line (on the bottom). Must be outside of the loop\n",
    "#'g-' creates a green line with dashes\n",
    "for dy in delr: \n",
    "    y = y + dy\n",
    "    plt.plot([xmin, xmax], [y, y], 'g-')\n",
    "\n",
    "    #assign the x and y values to the sum of the list and then divided \n",
    "    #in half in order the get the mean, now the well is right in the middle\n",
    "xmean = delr_array.sum() * .5\n",
    "ymean = delr_array.sum() * .5\n",
    "\n",
    "#create well\n",
    "x0 = 1750\n",
    "y0 = 1250\n",
    "def wel_sp(x0, y0, sym):\n",
    "    plt.plot(x0, y0, sym)\n",
    "wel_sp(x0, y0, sym='ro')\n",
    "\n",
    "#create river\n",
    "x1 = 250\n",
    "y1 = 5750\n",
    "def riv1(x1, y1, sym):\n",
    "    plt.plot(x1, y1, sym)\n",
    "riv1(x1, y1, sym='bo')\n",
    "\n",
    "x2 = 750\n",
    "y2 = 5750\n",
    "def riv2(x2, y2, sym):\n",
    "    plt.plot(x2, y2, sym)\n",
    "riv2(x2, y2, sym='bo')\n",
    "\n",
    "x3 = 1250\n",
    "y3 = 5750\n",
    "def riv3(x3, y3, sym):\n",
    "    plt.plot(x3, y3, sym)\n",
    "riv3(x3, y3, sym='bo')\n",
    "\n",
    "x4 = 1750\n",
    "y4 = 5750\n",
    "def riv4(x4, y4, sym):\n",
    "    plt.plot(x4, y4, sym)\n",
    "riv4(x4, y4, sym='bo')\n",
    "\n",
    "x5 = 2250\n",
    "y5 = 5750\n",
    "def riv5(x5, y5, sym):\n",
    "    plt.plot(x5, y5, sym)\n",
    "riv5(x5, y5, sym='bo')\n",
    "\n",
    "x6 = 2750\n",
    "y6 = 5250\n",
    "def riv6(x6, y6, sym):\n",
    "    plt.plot(x6, y6, sym)\n",
    "riv6(x6, y6, sym='bo')\n",
    "\n",
    "x7 = 3250\n",
    "y7 = 4750\n",
    "def riv7(x7, y7, sym):\n",
    "    plt.plot(x7, y7, sym)\n",
    "riv7(x7, y7, sym='bo')\n",
    "\n",
    "x8 = 3750\n",
    "y8 = 4250\n",
    "def riv8(x8, y8, sym):\n",
    "    plt.plot(x8, y8, sym)\n",
    "riv8(x8, y8, sym='bo')\n",
    "\n",
    "x9 = 4250\n",
    "y9 = 3750\n",
    "def riv9(x9, y9, sym):\n",
    "    plt.plot(x9, y9, sym)\n",
    "riv9(x9, y9, sym='bo')\n",
    "\n",
    "x10 = 4750\n",
    "y10 = 3250\n",
    "def riv10(x10, y10, sym):\n",
    "    plt.plot(x10, y10, sym)\n",
    "riv10(x10, y10, sym='bo')\n",
    "\n",
    "x11 = 5250\n",
    "y11 = 3250\n",
    "def riv11(x11, y11, sym):\n",
    "    plt.plot(x11, y11, sym)\n",
    "riv11(x11, y11, sym='bo')\n",
    "\n",
    "x12 = 5750\n",
    "y12 = 3250\n",
    "def riv12(x12, y12, sym):\n",
    "    plt.plot(x12, y12, sym)\n",
    "riv12(x12, y12, sym='bo')\n",
    "\n",
    "x13 = 6250\n",
    "y13 = 3250\n",
    "def riv13(x13, y13, sym):\n",
    "    plt.plot(x13, y13, sym)\n",
    "riv13(x13, y13, sym='bo')\n",
    "\n",
    "x14 = 6750\n",
    "y14 = 3250\n",
    "def riv14(x14, y14, sym):\n",
    "    plt.plot(x14, y14, sym)\n",
    "riv14(x14, y14, sym='bo')\n",
    "\n",
    "x15 = 7250\n",
    "y15 = 3250\n",
    "def riv15(x15, y15, sym):\n",
    "    plt.plot(x15, y15, sym)\n",
    "riv15(x15, y15, sym='bo')"
   ]
  },
  {
   "cell_type": "code",
   "execution_count": 107,
   "metadata": {
    "collapsed": true
   },
   "outputs": [],
   "source": [
    "#Flopy objects\n",
    "modelname = 'p9_pa' #short for problem 9 part a\n",
    "exe_name = '../MF2005.1_12/bin/mf2005.exe'\n",
    "model_ws = 'temp'\n",
    "mf = flopy.modflow.Modflow(modelname, exe_name=exe_name, model_ws = model_ws)"
   ]
  },
  {
   "cell_type": "code",
   "execution_count": 108,
   "metadata": {
    "collapsed": false
   },
   "outputs": [],
   "source": [
    "#dis package\n",
    "#call in the discretization package\n",
    "nlay = 1\n",
    "nrow = 15\n",
    "ncol = 15\n",
    "delr = 500\n",
    "delc = delr #set delr values equal to delc\n",
    "top = 0 #an array of the top elevation of layer 1\n",
    "botm = -1 #an array of the bottom elevation of layer 1\n",
    "nper = 1 #number of periods\n",
    "perlen = 86400. #length of stress period\n",
    "tsmult = 11 #time step multiplier\n",
    "dis = flopy.modflow.ModflowDis(mf, nlay=nlay, nrow=nrow, ncol=ncol, delr=delr, delc=delc,\n",
    "                               top=top, botm=botm, nper=nper, perlen=perlen, tsmult=tsmult, steady=False)"
   ]
  },
  {
   "cell_type": "code",
   "execution_count": 109,
   "metadata": {
    "collapsed": false
   },
   "outputs": [],
   "source": [
    "#bas package\n",
    "ibound = np.ones((nlay, nrow, ncol))\n",
    "strt = np.zeros((nlay, nrow, ncol))\n",
    "bas1 = flopy.modflow.ModflowBas(mf, ibound=ibound, strt=strt)"
   ]
  },
  {
   "cell_type": "code",
   "execution_count": 110,
   "metadata": {
    "collapsed": false
   },
   "outputs": [],
   "source": [
    "#well package\n",
    "pr = 15000 #pumping rate\n",
    "wel_sp = [[0, 12, 3, -pr]]\n",
    "stress_period_data = {0: wel_sp}\n",
    "wel = flopy.modflow.ModflowWel(mf, stress_period_data=stress_period_data)"
   ]
  },
  {
   "cell_type": "code",
   "execution_count": 111,
   "metadata": {
    "collapsed": false
   },
   "outputs": [],
   "source": [
    "#pcg package\n",
    "pcg = flopy.modflow.ModflowPcg(mf)"
   ]
  },
  {
   "cell_type": "code",
   "execution_count": 112,
   "metadata": {
    "collapsed": false
   },
   "outputs": [],
   "source": [
    "#lpf package\n",
    "laytyp = np.zeros((nlay))\n",
    "lpf = flopy.modflow.ModflowLpf(mf, laytyp=laytyp)"
   ]
  },
  {
   "cell_type": "code",
   "execution_count": 113,
   "metadata": {
    "collapsed": false
   },
   "outputs": [],
   "source": [
    "#oc package\n",
    "oc = flopy.modflow.ModflowOc(mf)"
   ]
  },
  {
   "cell_type": "code",
   "execution_count": 131,
   "metadata": {
    "collapsed": false
   },
   "outputs": [
    {
     "name": "stdout",
     "output_type": "stream",
     "text": [
      "[[  0.00000000e+00   3.00000000e+00   0.00000000e+00   1.00000000e+02\n",
      "    1.00000000e-02   9.00000000e+01]\n",
      " [  0.00000000e+00   3.00000000e+00   1.00000000e+00   1.00000000e+02\n",
      "    1.00000000e-02   9.00000000e+01]\n",
      " [  0.00000000e+00   3.00000000e+00   2.00000000e+00   1.00000000e+02\n",
      "    1.00000000e-02   9.00000000e+01]\n",
      " [  0.00000000e+00   3.00000000e+00   3.00000000e+00   9.90000000e+01\n",
      "    1.00000000e-02   8.90000000e+01]\n",
      " [  0.00000000e+00   3.00000000e+00   4.00000000e+00   9.90000000e+01\n",
      "    1.00000000e-02   8.90000000e+01]\n",
      " [  0.00000000e+00   4.00000000e+00   5.00000000e+00   9.80000000e+01\n",
      "    1.00000000e-02   8.80000000e+01]\n",
      " [  0.00000000e+00   5.00000000e+00   6.00000000e+00   9.70000000e+01\n",
      "    1.00000000e-02   8.70000000e+01]\n",
      " [  0.00000000e+00   6.00000000e+00   7.00000000e+00   9.60000000e+01\n",
      "    1.00000000e-02   8.60000000e+01]\n",
      " [  0.00000000e+00   7.00000000e+00   8.00000000e+00   9.50000000e+01\n",
      "    1.00000000e-02   8.50000000e+01]\n",
      " [  0.00000000e+00   8.00000000e+00   9.00000000e+00   9.40000000e+01\n",
      "    1.00000000e-02   8.40000000e+01]\n",
      " [  0.00000000e+00   8.00000000e+00   1.00000000e+01   9.40000000e+01\n",
      "    1.00000000e-02   8.40000000e+01]\n",
      " [  0.00000000e+00   8.00000000e+00   1.10000000e+01   9.40000000e+01\n",
      "    1.00000000e-02   8.40000000e+01]\n",
      " [  0.00000000e+00   8.00000000e+00   1.20000000e+01   9.40000000e+01\n",
      "    1.00000000e-02   8.40000000e+01]\n",
      " [  0.00000000e+00   8.00000000e+00   1.30000000e+01   9.30000000e+01\n",
      "    1.00000000e-02   8.30000000e+01]\n",
      " [  0.00000000e+00   8.00000000e+00   1.40000000e+01   9.30000000e+01\n",
      "    1.00000000e-02   8.30000000e+01]]\n",
      "WARNING: unit 18 of package RIV already in use\n",
      "****Warning -- two packages of the same type:  <class 'flopy.modflow.mfriv.ModflowRiv'> <class 'flopy.modflow.mfriv.ModflowRiv'>\n",
      "replacing existing Package...\n",
      "[[0, 3, 0, 100.0, 0.01, 90.0], [0, 3, 1, 100.0, 0.01, 90.0], [0, 3, 2, 100.0, 0.01, 90.0], [0, 3, 3, 99.0, 0.01, 89.0], [0, 3, 4, 99.0, 0.01, 89.0], [0, 4, 5, 98.0, 0.01, 88.0], [0, 5, 6, 97.0, 0.01, 87.0], [0, 6, 7, 96.0, 0.01, 86.0], [0, 7, 8, 95.0, 0.01, 85.0], [0, 8, 9, 94.0, 0.01, 84.0], [0, 8, 10, 94.0, 0.01, 84.0], [0, 8, 11, 94.0, 0.01, 84.0], [0, 8, 12, 94.0, 0.01, 84.0], [0, 8, 13, 93.0, 0.01, 83.0], [0, 8, 14, 93.0, 0.01, 83.0]]\n"
     ]
    }
   ],
   "source": [
    "#riv package\n",
    "ipakcb = 0\n",
    "\n",
    "#create .csv file of the river data\n",
    "riv_boundary = pd.read_csv('../Data/problem9_riv.csv')\n",
    "#subtract 1 so that the layer, row, and col match up with pythons rules\n",
    "riv_boundary.layer -=1\n",
    "riv_boundary.row -=1\n",
    "riv_boundary.col -=1\n",
    "print(riv_boundary.values)\n",
    "\n",
    "riv_spd = {0: riv_boundary.values}\n",
    "          \n",
    "riv = flopy.modflow.ModflowRiv(mf, ipakcb=ipakcb, stress_period_data=riv_spd)\n",
    "\n",
    "print(riv_sp)"
   ]
  },
  {
   "cell_type": "code",
   "execution_count": 132,
   "metadata": {
    "collapsed": false
   },
   "outputs": [
    {
     "name": "stdout",
     "output_type": "stream",
     "text": [
      "WARNING: unit 19 of package RCH already in use\n",
      "****Warning -- two packages of the same type:  <class 'flopy.modflow.mfrch.ModflowRch'> <class 'flopy.modflow.mfrch.ModflowRch'>\n",
      "replacing existing Package...\n"
     ]
    }
   ],
   "source": [
    "#rch package\n",
    "rech = 200\n",
    "rch = flopy.modflow.ModflowRch(mf, rech=rech)"
   ]
  },
  {
   "cell_type": "code",
   "execution_count": 133,
   "metadata": {
    "collapsed": false
   },
   "outputs": [
    {
     "name": "stdout",
     "output_type": "stream",
     "text": [
      "warning: assuming SpatialReference units are meters\n"
     ]
    }
   ],
   "source": [
    "# Write the MODFLOW model input files\n",
    "mf.write_input()"
   ]
  },
  {
   "cell_type": "code",
   "execution_count": 134,
   "metadata": {
    "collapsed": false
   },
   "outputs": [
    {
     "name": "stdout",
     "output_type": "stream",
     "text": [
      "FloPy is using the following executable to run the model: ../MF2005.1_12/bin/mf2005.exe\n",
      "\n",
      "                                  MODFLOW-2005     \n",
      "    U.S. GEOLOGICAL SURVEY MODULAR FINITE-DIFFERENCE GROUND-WATER FLOW MODEL\n",
      "                             Version 1.12.00 2/3/2017                        \n",
      "\n",
      " Using NAME file: p9_pa.nam \n",
      " Run start date and time (yyyy/mm/dd hh:mm:ss): 2017/08/17 10:48:46\n",
      "\n",
      " Solving:  Stress period:     1    Time step:     1    Ground-Water Flow Eqn.\n",
      " Run end date and time (yyyy/mm/dd hh:mm:ss): 2017/08/17 10:48:47\n",
      " Elapsed run time:  0.036 Seconds\n",
      "\n",
      " FAILED TO MEET SOLVER CONVERGENCE CRITERIA            1  TIME(S)\n"
     ]
    }
   ],
   "source": [
    "# Run the MODFLOW model\n",
    "success, buff = mf.run_model()"
   ]
  },
  {
   "cell_type": "markdown",
   "metadata": {
    "collapsed": true
   },
   "source": [
    "# MODEL OUTPUT"
   ]
  },
  {
   "cell_type": "markdown",
   "metadata": {},
   "source": [
    "### _Figure 9.1. Geometry and potentiometric surface of the aquifer system._"
   ]
  },
  {
   "cell_type": "code",
   "execution_count": 135,
   "metadata": {
    "collapsed": false
   },
   "outputs": [
    {
     "name": "stdout",
     "output_type": "stream",
     "text": [
      "[86400.0]\n",
      "[[  8.64000000e+04   7.36410419e+10]]\n"
     ]
    }
   ],
   "source": [
    "import flopy.utils.binaryfile as bf\n",
    "\n",
    "# Create the headfile object\n",
    "fname = os.path.join(model_ws, 'p9_pa.hds') #\"os.path.join\" joins together the model_ws and the .hds file and stores it in fname\n",
    "headobj = bf.HeadFile(fname) #create headobj and put values from fname (aka 'p1_pa.hds') inside it\n",
    "times = headobj.get_times() #assign the headobj values to the variable \"times\"\n",
    "print(times) #prints the time at each stress period\n",
    "\n",
    "#print hydraulic head (Table 14.2)\n",
    "ts = headobj.get_ts([[0, 12, 3]])\n",
    "print(ts)"
   ]
  },
  {
   "cell_type": "code",
   "execution_count": 136,
   "metadata": {
    "collapsed": false
   },
   "outputs": [
    {
     "data": {
      "text/plain": [
       "<a list of 0 text.Text objects>"
      ]
     },
     "execution_count": 136,
     "metadata": {},
     "output_type": "execute_result"
    },
    {
     "data": {
      "image/png": "[encoded data removed]",
      "text/plain": [
       "<matplotlib.figure.Figure at 0x1e9d20a0898>"
      ]
     },
     "metadata": {},
     "output_type": "display_data"
    }
   ],
   "source": [
    "#shows the drawdown at each well \n",
    "fname = os.path.join(modelname, 'p9_pa.cbc')\n",
    "head = 0-headobj.get_data(totim=times[-1])\n",
    "levels = np.arange(0, 5, .1)\n",
    "\n",
    "fig = plt.figure(figsize=(10, 10))\n",
    "ax = fig.add_subplot(1, 1, 1, aspect='equal')\n",
    "modelmap = flopy.plot.ModelMap(model=mf)\n",
    "quadmesh = modelmap.plot_ibound()\n",
    "quadmesh = modelmap.plot_array(head, masked_values=[999.], alpha=0.5)\n",
    "modelmap.plot_bc(\"RIV\", color='b')\n",
    "modelmap.plot_bc(\"WEL\")\n",
    "linecollection = modelmap.plot_grid()\n",
    "contour_set = modelmap.contour_array(head, masked_values=[-999.], levels=levels)\n",
    "plt.clabel(contour_set, inline=1, fontsize=14)"
   ]
  },
  {
   "cell_type": "code",
   "execution_count": 121,
   "metadata": {
    "collapsed": false,
    "scrolled": true
   },
   "outputs": [
    {
     "data": {
      "text/plain": [
       "(0, 86400.0)"
      ]
     },
     "execution_count": 121,
     "metadata": {},
     "output_type": "execute_result"
    },
    {
     "data": {
      "image/png": "[encoded data removed]",
      "text/plain": [
       "<matplotlib.figure.Figure at 0x1e9d21c93c8>"
      ]
     },
     "metadata": {},
     "output_type": "display_data"
    }
   ],
   "source": [
    "# Plot the drawdown versus time\n",
    "idx = (0, 12, 3) #(nlay, nrow, ncol) *remember you have to subtract 1 from the original numbers for python - (1, 10, 12)*\n",
    "ts = headobj.get_ts(idx)\n",
    "plt.subplot(1, 1, 1)\n",
    "ttl = 'Head at cell ({0},{1},{2})'.format(idx[0] + 1, idx[1] + 1, idx[2] + 1) #we are adding 1 to each part of idx to that it prints out the real values and not the code values\n",
    "plt.title(ttl) #prints/plots title\n",
    "plt.xlabel('time (days)') #labels the x-axis\n",
    "plt.ylabel('drawdown') #labels the y-axis\n",
    "#here we do \"0-ts...\" in order to show the drawdown of \n",
    "plt.plot(ts[:, 0], 0-ts[:, 1], 'bo-') #(x, y, color/type of line)\n",
    "plt.xlim(0, ts[:, 0].max())"
   ]
  },
  {
   "cell_type": "code",
   "execution_count": 122,
   "metadata": {
    "collapsed": false
   },
   "outputs": [
    {
     "data": {
      "text/plain": [
       "(0, 86400.0)"
      ]
     },
     "execution_count": 122,
     "metadata": {},
     "output_type": "execute_result"
    },
    {
     "data": {
      "image/png": "[encoded data removed]",
      "text/plain": [
       "<matplotlib.figure.Figure at 0x1e9d20a0240>"
      ]
     },
     "metadata": {},
     "output_type": "display_data"
    }
   ],
   "source": [
    "# Plot the head versus time\n",
    "idx = (0, 12, 3)\n",
    "ts = headobj.get_ts(idx)\n",
    "plt.subplot(1, 1, 1)\n",
    "ttl = 'Head at cell ({0},{1},{2})'.format(idx[0] + 1, idx[1] + 1, idx[2] + 1)\n",
    "plt.title(ttl)\n",
    "plt.xlabel('time (days)')\n",
    "plt.ylabel('head (ft)')\n",
    "plt.plot(ts[:, 0], ts[:, 1], 'ro-')\n",
    "plt.xlim(0, ts[:, 0].max())"
   ]
  },
  {
   "cell_type": "raw",
   "metadata": {},
   "source": [
    "### _Figure 9.2. Hydraulic head arrays, potentiometric surface contour maps, and mass balance summary for Part a._"
   ]
  },
  {
   "cell_type": "code",
   "execution_count": 123,
   "metadata": {
    "collapsed": false
   },
   "outputs": [
    {
     "ename": "FileNotFoundError",
     "evalue": "[Errno 2] No such file or directory: 'temp\\\\p9_pa.cbc'",
     "output_type": "error",
     "traceback": [
      "\u001b[0;31m---------------------------------------------------------------------------\u001b[0m",
      "\u001b[0;31mFileNotFoundError\u001b[0m                         Traceback (most recent call last)",
      "\u001b[0;32m<ipython-input-123-d4c1f1145900>\u001b[0m in \u001b[0;36m<module>\u001b[0;34m()\u001b[0m\n\u001b[1;32m      1\u001b[0m \u001b[0mfname\u001b[0m \u001b[1;33m=\u001b[0m \u001b[0mos\u001b[0m\u001b[1;33m.\u001b[0m\u001b[0mpath\u001b[0m\u001b[1;33m.\u001b[0m\u001b[0mjoin\u001b[0m\u001b[1;33m(\u001b[0m\u001b[0mmodel_ws\u001b[0m\u001b[1;33m,\u001b[0m \u001b[1;34m'p9_pa.cbc'\u001b[0m\u001b[1;33m)\u001b[0m\u001b[1;33m\u001b[0m\u001b[0m\n\u001b[0;32m----> 2\u001b[0;31m \u001b[0mcbb\u001b[0m \u001b[1;33m=\u001b[0m \u001b[0mflopy\u001b[0m\u001b[1;33m.\u001b[0m\u001b[0mutils\u001b[0m\u001b[1;33m.\u001b[0m\u001b[0mCellBudgetFile\u001b[0m\u001b[1;33m(\u001b[0m\u001b[0mfname\u001b[0m\u001b[1;33m)\u001b[0m\u001b[1;33m\u001b[0m\u001b[0m\n\u001b[0m\u001b[1;32m      3\u001b[0m \u001b[0mfrf\u001b[0m \u001b[1;33m=\u001b[0m \u001b[0mcbb\u001b[0m\u001b[1;33m.\u001b[0m\u001b[0mget_data\u001b[0m\u001b[1;33m(\u001b[0m\u001b[0mtext\u001b[0m\u001b[1;33m=\u001b[0m\u001b[1;34m'FLOW RIGHT FACE'\u001b[0m\u001b[1;33m)\u001b[0m\u001b[1;33m[\u001b[0m\u001b[1;36m0\u001b[0m\u001b[1;33m]\u001b[0m\u001b[1;33m\u001b[0m\u001b[0m\n\u001b[1;32m      4\u001b[0m \u001b[0mfff\u001b[0m \u001b[1;33m=\u001b[0m \u001b[0mcbb\u001b[0m\u001b[1;33m.\u001b[0m\u001b[0mget_data\u001b[0m\u001b[1;33m(\u001b[0m\u001b[0mtext\u001b[0m\u001b[1;33m=\u001b[0m\u001b[1;34m'FLOW FRONT FACE'\u001b[0m\u001b[1;33m)\u001b[0m\u001b[1;33m[\u001b[0m\u001b[1;36m0\u001b[0m\u001b[1;33m]\u001b[0m\u001b[1;33m\u001b[0m\u001b[0m\n\u001b[1;32m      5\u001b[0m \u001b[0mriv_flow\u001b[0m \u001b[1;33m=\u001b[0m \u001b[0mcbb\u001b[0m\u001b[1;33m.\u001b[0m\u001b[0mget_data\u001b[0m\u001b[1;33m(\u001b[0m\u001b[0mtext\u001b[0m\u001b[1;33m=\u001b[0m\u001b[1;34m'RIVER LEAKAGE'\u001b[0m\u001b[1;33m)\u001b[0m \u001b[1;31m#create an array/for loop to get out first value of every step\u001b[0m\u001b[1;33m\u001b[0m\u001b[0m\n",
      "\u001b[0;32mC:\\Users\\Jordan\\Anaconda3\\lib\\site-packages\\flopy\\utils\\binaryfile.py\u001b[0m in \u001b[0;36m__init__\u001b[0;34m(self, filename, precision, verbose, **kwargs)\u001b[0m\n\u001b[1;32m    520\u001b[0m         \u001b[0mself\u001b[0m\u001b[1;33m.\u001b[0m\u001b[0mprecision\u001b[0m \u001b[1;33m=\u001b[0m \u001b[0mprecision\u001b[0m\u001b[1;33m\u001b[0m\u001b[0m\n\u001b[1;32m    521\u001b[0m         \u001b[0mself\u001b[0m\u001b[1;33m.\u001b[0m\u001b[0mverbose\u001b[0m \u001b[1;33m=\u001b[0m \u001b[0mverbose\u001b[0m\u001b[1;33m\u001b[0m\u001b[0m\n\u001b[0;32m--> 522\u001b[0;31m         \u001b[0mself\u001b[0m\u001b[1;33m.\u001b[0m\u001b[0mfile\u001b[0m \u001b[1;33m=\u001b[0m \u001b[0mopen\u001b[0m\u001b[1;33m(\u001b[0m\u001b[0mself\u001b[0m\u001b[1;33m.\u001b[0m\u001b[0mfilename\u001b[0m\u001b[1;33m,\u001b[0m \u001b[1;34m'rb'\u001b[0m\u001b[1;33m)\u001b[0m\u001b[1;33m\u001b[0m\u001b[0m\n\u001b[0m\u001b[1;32m    523\u001b[0m         \u001b[0mself\u001b[0m\u001b[1;33m.\u001b[0m\u001b[0mnrow\u001b[0m \u001b[1;33m=\u001b[0m \u001b[1;36m0\u001b[0m\u001b[1;33m\u001b[0m\u001b[0m\n\u001b[1;32m    524\u001b[0m         \u001b[0mself\u001b[0m\u001b[1;33m.\u001b[0m\u001b[0mncol\u001b[0m \u001b[1;33m=\u001b[0m \u001b[1;36m0\u001b[0m\u001b[1;33m\u001b[0m\u001b[0m\n",
      "\u001b[0;31mFileNotFoundError\u001b[0m: [Errno 2] No such file or directory: 'temp\\\\p9_pa.cbc'"
     ]
    }
   ],
   "source": [
    "fname = os.path.join(model_ws, 'p9_pa.cbc')\n",
    "cbb = flopy.utils.CellBudgetFile(fname)\n",
    "frf = cbb.get_data(text='FLOW RIGHT FACE')[0]\n",
    "fff = cbb.get_data(text='FLOW FRONT FACE')[0]\n",
    "riv_flow = cbb.get_data(text='RIVER LEAKAGE') #create an array/for loop to get out first value of every step\n",
    "#cbb.list_records()"
   ]
  },
  {
   "cell_type": "code",
   "execution_count": 124,
   "metadata": {
    "collapsed": false,
    "scrolled": false
   },
   "outputs": [
    {
     "ename": "NameError",
     "evalue": "name 'frf' is not defined",
     "output_type": "error",
     "traceback": [
      "\u001b[0;31m---------------------------------------------------------------------------\u001b[0m",
      "\u001b[0;31mNameError\u001b[0m                                 Traceback (most recent call last)",
      "\u001b[0;32m<ipython-input-124-4e9b5a3170f1>\u001b[0m in \u001b[0;36m<module>\u001b[0;34m()\u001b[0m\n\u001b[1;32m      5\u001b[0m \u001b[0mmodelmap\u001b[0m \u001b[1;33m=\u001b[0m \u001b[0mflopy\u001b[0m\u001b[1;33m.\u001b[0m\u001b[0mplot\u001b[0m\u001b[1;33m.\u001b[0m\u001b[0mModelMap\u001b[0m\u001b[1;33m(\u001b[0m\u001b[0mmodel\u001b[0m\u001b[1;33m=\u001b[0m\u001b[0mmf\u001b[0m\u001b[1;33m)\u001b[0m\u001b[1;33m\u001b[0m\u001b[0m\n\u001b[1;32m      6\u001b[0m \u001b[0mquadmesh\u001b[0m \u001b[1;33m=\u001b[0m \u001b[0mmodelmap\u001b[0m\u001b[1;33m.\u001b[0m\u001b[0mplot_ibound\u001b[0m\u001b[1;33m(\u001b[0m\u001b[1;33m)\u001b[0m\u001b[1;33m\u001b[0m\u001b[0m\n\u001b[0;32m----> 7\u001b[0;31m \u001b[0mquiver\u001b[0m \u001b[1;33m=\u001b[0m \u001b[0mmodelmap\u001b[0m\u001b[1;33m.\u001b[0m\u001b[0mplot_discharge\u001b[0m\u001b[1;33m(\u001b[0m\u001b[0mfrf\u001b[0m\u001b[1;33m,\u001b[0m \u001b[0mfff\u001b[0m\u001b[1;33m,\u001b[0m \u001b[0mcolor\u001b[0m\u001b[1;33m=\u001b[0m\u001b[1;34m'b'\u001b[0m\u001b[1;33m)\u001b[0m\u001b[1;33m\u001b[0m\u001b[0m\n\u001b[0m\u001b[1;32m      8\u001b[0m \u001b[0mlinecollection\u001b[0m \u001b[1;33m=\u001b[0m \u001b[0mmodelmap\u001b[0m\u001b[1;33m.\u001b[0m\u001b[0mplot_grid\u001b[0m\u001b[1;33m(\u001b[0m\u001b[1;33m)\u001b[0m\u001b[1;33m\u001b[0m\u001b[0m\n\u001b[1;32m      9\u001b[0m \u001b[0mmodelmap\u001b[0m\u001b[1;33m.\u001b[0m\u001b[0mplot_bc\u001b[0m\u001b[1;33m(\u001b[0m\u001b[1;34m\"WEL\"\u001b[0m\u001b[1;33m)\u001b[0m\u001b[1;33m\u001b[0m\u001b[0m\n",
      "\u001b[0;31mNameError\u001b[0m: name 'frf' is not defined"
     ]
    },
    {
     "data": {
      "image/png": "[encoded data removed]",
      "text/plain": [
       "<matplotlib.figure.Figure at 0x1e9d22c59b0>"
      ]
     },
     "metadata": {},
     "output_type": "display_data"
    }
   ],
   "source": [
    "#plot arrows (quivers) that point in the direction of water flowb\n",
    "fig = plt.figure(figsize=(10, 10))\n",
    "ax = fig.add_subplot(1, 1, 1, aspect='equal')\n",
    "\n",
    "modelmap = flopy.plot.ModelMap(model=mf)\n",
    "quadmesh = modelmap.plot_ibound()\n",
    "quiver = modelmap.plot_discharge(frf, fff, color='b')\n",
    "linecollection = modelmap.plot_grid()\n",
    "modelmap.plot_bc(\"WEL\")"
   ]
  },
  {
   "cell_type": "code",
   "execution_count": null,
   "metadata": {
    "collapsed": true
   },
   "outputs": [],
   "source": []
  },
  {
   "cell_type": "code",
   "execution_count": null,
   "metadata": {
    "collapsed": true
   },
   "outputs": [],
   "source": []
  }
 ],
 "metadata": {
  "kernelspec": {
   "display_name": "Python 3",
   "language": "python",
   "name": "python3"
  },
  "language_info": {
   "codemirror_mode": {
    "name": "ipython",
    "version": 3
   },
   "file_extension": ".py",
   "mimetype": "text/x-python",
   "name": "python",
   "nbconvert_exporter": "python",
   "pygments_lexer": "ipython3",
   "version": "3.6.0"
  }
 },
 "nbformat": 4,
 "nbformat_minor": 2
}
