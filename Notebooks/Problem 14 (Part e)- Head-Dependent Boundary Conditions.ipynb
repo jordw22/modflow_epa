{
 "cells": [
  {
   "cell_type": "markdown",
   "metadata": {},
   "source": [
    "# Problem 14: Head-Dependent Boundary Conditions"
   ]
  },
  {
   "cell_type": "markdown",
   "metadata": {},
   "source": [
    "### Part e)\n",
    "_Model the system described above using a two-layer model. The top layer will be the same as in parts ad, except a third type boundary will not be explicitly included. Instead, the bottom layer will represent the third type boundary condition. The bottom layer will be inactive except along column 4, which will be constant head of 0.0 ft. The bottom layer will be confined and have a transmissivity of 100 ft2/d. Calculate a VCONT between layers 1 and 2 to give a conductance of 200 ft2/d. Run the model and note results as you did in parts a-d._"
   ]
  },
  {
   "cell_type": "code",
   "execution_count": null,
   "metadata": {
    "collapsed": false,
    "scrolled": true
   },
   "outputs": [],
   "source": [
    "#print discharge values (Table 14.3)\n",
    "fname = os.path.join(model_ws, 'p14_pc.cbc')\n",
    "cbb = flopy.utils.CellBudgetFile(fname)\n",
    "frf = cbb.get_data(text='FLOW RIGHT FACE')[0]\n",
    "fff = cbb.get_data(text='FLOW FRONT FACE')[0]\n",
    "# = cbb.get_data(text='CONSTANT HEAD')[0] #create an array/for loop to get out first value of every step\n",
    "#cbb.list_records()\n",
    "\n",
    "#print(fff)\n",
    "#print()"
   ]
  },
  {
   "cell_type": "markdown",
   "metadata": {},
   "source": [
    "### Table 14.2. Hydraulic head at node (1,4) for part e representing the third type boundary condition\n",
    "\n",
    "Check your results to make sure they match with the table from the book\n",
    "\n",
    "| Time Step | Elapsed Time (days) | Constant head (part e) |\n",
    "|-----------|---------------------|------------------------|\n",
    "| 1         | 1.955               | -1702.071              |\n",
    "| 2         | 4.301               | -1507.91               |\n",
    "| 3         | 7.117               | -1343.224              |\n",
    "| 4         | 10.495              | -1185.109              |\n",
    "| 5         | 14.549              | -1025.712              |\n",
    "| 6         | 19.414              | -862.6                 |\n",
    "| 7         | 25.252              | -696.128               |\n",
    "| 8         | 32.258              | -528.506               |\n",
    "| 9         | 40.655              | -363.187               |\n",
    "| 10        | 50.753              | -204.534               |\n",
    "| 11        | 62.858              | -57.278                |\n",
    "| 12        | 77.385              | 74.008                 |\n",
    "| 13        | 94.817              | 186.017                |\n",
    "| 14        | 115.74              | 276.478                |\n",
    "| 15        | 140.84              | 345.343                |\n",
    "| 16        | 170.96              | 394.331                |\n",
    "| 17        | 207.11              | 426.631                |\n",
    "| 18        | 250.49              | 446.21                 |\n",
    "| 19        | 302.54              | 457.025                |\n",
    "| 20        | 365                 | 462.099                |"
   ]
  },
  {
   "cell_type": "markdown",
   "metadata": {},
   "source": [
    "### MODEL RESULT\n",
    "_Table 14.2 shows hydraulic head versus time at node (1,4) for each of the five parts to this problem. Table 14.3 shows discharge versus time at node (1,4). Hydraulic head versus flow is plotted in Figure 14.1._"
   ]
  },
  {
   "cell_type": "markdown",
   "metadata": {},
   "source": [
    "### Table 14.2. Hydraulic head at node (1,4) for each of the five methods of representing the third type boundary condition\n",
    "\n",
    "| Time Step | Ellapsed Time (days) | River (part a) | GHB (part b) | Drain (part c) | E-T (part d) | Constant head (part e) |\n",
    "|-----------|----------------------|----------------|--------------|----------------|--------------|------------------------|\n",
    "| 1         | 1.955                | 8.51           | 8.51         | 8.51           | 8.51         | 8.51                   |\n",
    "| 2         | 4.301                | 7.54           | 7.54         | 7.54           | 7.54         | 7.54                   |\n",
    "| 3         | 70117                | 6.716          | 6.716        | 6.716          | 6.716        | 6.716                  |\n",
    "| 4         | 10.495               | 5.926          | 5.926        | 5.926          | 5.926        | 5.926                  |\n",
    "| 5         | 14.549               | 5.129          | 5.129        | 5.129          | 5.129        | 5.129                  |\n",
    "| 6         | 19.414               | 4.313          | 4.313        | 4.313          | 4.313        | 4.313                  |\n",
    "| 7         | 25.252               | 3.481          | 3.481        | 3.481          | 3.481        | 3.481                  |\n",
    "| 8         | 32.258               | 2.643          | 2.643        | 2.643          | 2.643        | 2.643                  |\n",
    "| 9         | 40.655               | 1.816          | 1.816        | 1.816          | 1.816        | 1.816                  |\n",
    "| 10        | 50.753               | 1.023          | 1.023        | 1.023          | 1.023        | 1.023                  |\n",
    "| 11        | 62.858               | 0.286          | 0.286        | 0.286          | 0.286        | 0.286                  |\n",
    "| 12        | 77.385               | -0.371         | -0.371       | -0.495         | -0.495       | -0.37                  |\n",
    "| 13        | 94.817               | -0.93          | -0.93        | -1.44          | -1.44        | -0.93                  |\n",
    "| 14        | 115.74               | -1.382         | -1.382       | -2.54          | -2.54        | -1.382                 |\n",
    "| 15        | 140.84               | -1.727         | -1.727       | -3.843         | -3.843       | -1.727                 |\n",
    "| 16        | 170.96               | -1.972         | -1.972       | -5.399         | -5.399       | -1.972                 |\n",
    "| 17        | 207.11               | -2.175         | -2.133       | -7.264         | -7.264       | -2.133                 |\n",
    "| 18        | 250.49               | -2.337         | -2.231       | -9.505         | -9.505       | -2.231                 |\n",
    "| 19        | 302.54               | -2.448         | -2.285       | -12.2          | -12.2        | -2.285                 |\n",
    "| 20        | 365                  | -2.52          | -2.311       | -15.43         | -15.43       | -2.31"
   ]
  },
  {
   "cell_type": "markdown",
   "metadata": {},
   "source": [
    "### Table 14.3. Discharge for each of the five methods of representing the third type boundary condition\n",
    "\n",
    "| Time Step | Elapsed Time (days) | River (part a) | GHB (part b) | Drain (part c) | E-T (part d) | Constant head (part e) |\n",
    "|-----------|---------------------|----------------|--------------|----------------|--------------|------------------------|\n",
    "| 1         | 1.955               | -1702.071      | -1702.071    | -1702.071      | -1702.071    | -1702.071              |\n",
    "| 2         | 4.301               | -1507.91       | -1507.91     | -1507.91       | -1507.91     | -1507.91               |\n",
    "| 3         | 7.117               | -1343.224      | -1343.224    | -1343.224      | -1343.224    | -1343.224              |\n",
    "| 4         | 10.495              | -1185.109      | -1185.109    | -1185.109      | -1185.109    | -1185.109              |\n",
    "| 5         | 14.549              | -1025.712      | -1025.712    | -1025.712      | -1025.712    | -1025.712              |\n",
    "| 6         | 19.414              | -862.6         | -862.6       | -862.6         | -862.6       | -862.6                 |\n",
    "| 7         | 25.252              | -696.128       | -696.128     | -696.128       | -696.128     | -696.128               |\n",
    "| 8         | 32.258              | -528.506       | -528.506     | -528.506       | -528.506     | -528.506               |\n",
    "| 9         | 40.655              | -363.187       | -363.187     | -363.187       | -363.187     | -363.187               |\n",
    "| 10        | 50.753              | -204.534       | -204.534     | -204.534       | -204.534     | -204.534               |\n",
    "| 11        | 62.858              | -57.278        | -57.278      | -57.278        | -57.278      | -57.278                |\n",
    "| 12        | 77.385              | 74.103         | 74.103       | 0              | 0            | 74.008                 |\n",
    "| 13        | 94.817              | 186.031        | 186.031      | 0              | 0            | 186.017                |\n",
    "| 14        | 115.74              | 276.494        | 276.494      | 0              | 0            | 276.478                |\n",
    "| 15        | 140.84              | 345.353        | 345.353      | 0              | 0            | 345.343                |\n",
    "| 16        | 170.96              | 394.344        | 394.344      | 0              | 0            | 394.331                |\n",
    "| 17        | 207.11              | 400            | 426.648      | 0              | 0            | 426.631                |\n",
    "| 18        | 250.49              | 400            | 446.221      | 0              | 0            | 446.21                 |\n",
    "| 19        | 302.54              | 400            | 457.037      | 0              | 0            | 457.025                |\n",
    "| 20        | 365                 | 400            | 462.149      | 0              | 0            | 462.099                |"
   ]
  },
  {
   "cell_type": "markdown",
   "metadata": {
    "collapsed": true
   },
   "source": [
    "# DISCUSSION OF RESULTS\n",
    "\n",
    "_The head-dependent boundary conditions in MODFLOW are all very similar. They allow leakage into or out of the system depending upon the difference in head between the aquifer and some constant head external to the system. The amount of leakage is controlled by a conductance term, which establishes the degree of hydraulic connection between the aquifer and the external source/sink. This exercise demonstrates the equivalency of the boundaries and highlights some of the differences._\n",
    "\n",
    "_The general head boundary is, as the name implies. a general leakage boundary. Flux is directly proportional to head difference for the entire range of saturated conditions. The drain is essentially a one-way general head boundary. Flow can only be out of the aquifer. Evapotranspiration is posed in terms of rates, but it is equivalent to a drain with an upper limit on flux out of the aquifer. Flow cuts off at a certain depth and can only reach a certain upper threshold. Finally, the river is a general-head boundary with an upper threshold of flux into the aquifer. Flow can be into or out of the aquifer, but it can only inflow to an upper limit._\n",
    "\n",
    "_The head-dependent flux boundaries can be used for other hydrologic conditions than their names suggest. Table 14.4 shows some other uses for these boundaries.\n",
    "The head-dependent flux boundaries are similar in behavior to a constant-head boundary in an adjacent aquifer. In part e, a VCONT parameter of 200 $\\frac{{ft^2}{d}}{(100 ft)^2} = \\frac{O.O2}{d}$ was equivalent to a conductance and therefore gave similar answers as the general head boundary._\n",
    "\n",
    "_The excellent comparison of the head-dependent flux boundaries to one another provides assurance that they are all implemented in the same fashion. The additional comparison to the two-layer model with adjacent constant head nodes provides a further check that they are implemented correctly in the model._"
   ]
  },
  {
   "cell_type": "markdown",
   "metadata": {},
   "source": [
    "##### _Table 14.4. Other uses for the head-dependent flux boundary conditions in MODFLOW_\n",
    "\n",
    "| General Head Boundary      | Drain                | River             | Evapotranspiration                  |\n",
    "|----------------------------|----------------------|-------------------|-------------------------------------|\n",
    "| Rivers                     | Intermittent streams | Adjacent aquifers | Drains with maximum flow limitation |\n",
    "| Exterior model boundatires | Springs              |      --           | Wetlands                            |\n",
    "| Adjacent aquifers          | Ditches              |    --             |      --                             |\n"
   ]
  },
  {
   "cell_type": "code",
   "execution_count": null,
   "metadata": {
    "collapsed": true
   },
   "outputs": [],
   "source": []
  }
 ],
 "metadata": {
  "kernelspec": {
   "display_name": "Python 3",
   "language": "python",
   "name": "python3"
  },
  "language_info": {
   "codemirror_mode": {
    "name": "ipython",
    "version": 3
   },
   "file_extension": ".py",
   "mimetype": "text/x-python",
   "name": "python",
   "nbconvert_exporter": "python",
   "pygments_lexer": "ipython3",
   "version": "3.6.0"
  }
 },
 "nbformat": 4,
 "nbformat_minor": 2
}
