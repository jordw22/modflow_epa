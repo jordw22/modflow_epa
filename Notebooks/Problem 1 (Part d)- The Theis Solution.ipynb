{
 "cells": [
  {
   "cell_type": "markdown",
   "metadata": {},
   "source": [
    "# A Manual of Instructional Problems for the U.S.G.S Modflow Model"
   ]
  },
  {
   "cell_type": "markdown",
   "metadata": {},
   "source": [
    "# Problem 1: The Theis Solution"
   ]
  },
  {
   "cell_type": "markdown",
   "metadata": {},
   "source": [
    "#### Part d\n",
    "Another form of symmetry for this problem (radial flow) is a pie shaped wedge with the well at the vertex of the wedge. Unfortunately this geometry is difficult to represent because the finite difference method is based on orthogonality of rows and columns. However, because the model is posed in terms of conductance (a function of grid spacing and transmissivity) and grid block storativity (a function of storage coefficient and area) it is possible to adjust T and S in such a manner to approximate the wedge. Using a 20 m wide row (DELC( 1) = 20) and grid spacing along a row (DELR) as in part b, calculate changes to transmissivity and storage coefficient for a 10° pie wedge. Adjust the well discharge to account for the reduced model domain and input these parameters into the model. Run this one-dimensional model and note drawdown at each time step at an observation point 55 m from the well."
   ]
  },
  {
   "cell_type": "code",
   "execution_count": 1,
   "metadata": {
    "collapsed": true
   },
   "outputs": [],
   "source": [
    "#Import and modules/packages that we need to work with\n",
    "%matplotlib inline\n",
    "import os\n",
    "import sys\n",
    "#import numpy as np\n",
    "import matplotlib as mpl\n",
    "import matplotlib.pyplot as plt\n",
    "import flopy\n",
    "#import csv\n",
    "\n",
    "#paths for quick access\n",
    "datapath = '../Data'"
   ]
  },
  {
   "cell_type": "code",
   "execution_count": 2,
   "metadata": {
    "collapsed": false,
    "scrolled": true
   },
   "outputs": [
    {
     "name": "stdout",
     "output_type": "stream",
     "text": [
      "3.6.0 |Anaconda 4.3.1 (64-bit)| (default, Dec 23 2016, 11:57:41) [MSC v.1900 64 bit (AMD64)]\n",
      "numpy version: 1.11.3\n",
      "matplotlib version: 2.0.0\n",
      "flopy version: 3.2.6\n"
     ]
    }
   ],
   "source": [
    "#code for part a grid\n",
    "%matplotlib inline\n",
    "import sys\n",
    "import os\n",
    "import platform\n",
    "import numpy as np\n",
    "import matplotlib as mpl\n",
    "import matplotlib.pyplot as plt\n",
    "import flopy\n",
    "\n",
    "print(sys.version)\n",
    "print('numpy version: {}'.format(np.__version__))\n",
    "print('matplotlib version: {}'.format(mpl.__version__))\n",
    "print('flopy version: {}'.format(flopy.__version__))"
   ]
  },
  {
   "cell_type": "code",
   "execution_count": 3,
   "metadata": {
    "collapsed": false
   },
   "outputs": [
    {
     "name": "stdout",
     "output_type": "stream",
     "text": [
      "C:\\VT\\USGS Internship\\EPA-MF-Problems\\Notebooks\n",
      "20.0\n",
      "30.0\n",
      "30.0\n",
      "40.0\n",
      "60.0\n",
      "80.0\n",
      "100.0\n",
      "150.0\n",
      "200.0\n",
      "300.0\n",
      "[20.0, 30.0, 30.0, 40.0, 60.0, 80.0, 100.0, 150.0, 200.0, 300.0]\n"
     ]
    }
   ],
   "source": [
    "print(os.getcwd())\n",
    "delr = [] #creates an empty list\n",
    "f = open('../Data/table1.2_partb.csv') #opens the csv file\n",
    "for i,line in enumerate(f): \n",
    "    if i == 0: #creates a statement that if i == 0 (if it's the first\n",
    "        continue #row then it will skip it and move on with the for loop)\n",
    "    linelist = line.strip().split(',') #line.strip gets rid of any extra spaces in the margins\n",
    "                                       #split sections of the individual values according to whatever you put in the quotes\n",
    "    value = float(linelist[1]) #changes the values in the list to floats\n",
    "    print(value) #prints the values\n",
    "    delr.append(value) #puts the floats into the empty list, delr \n",
    "    \n",
    "print(delr) #prints the list"
   ]
  },
  {
   "cell_type": "markdown",
   "metadata": {},
   "source": [
    "### Table 1.1 Original Parameters used in Problem 1\n",
    "\n",
    "| Variable | Value   |\n",
    "|----------------------------|-----------------|\n",
    "| Initial head               | 0.0 m           |\n",
    "| Transmissivity             | .0023 m^2/s    |\n",
    "| Storage coefficient        | .00075         |\n",
    "| Pumping rate               | 4 x 10^-3 m^3/s |\n",
    "| Final time                 | 86400 s         |\n",
    "| Number of time steps       | 20              |\n",
    "| Time step expansion factor | 1.3             |\n",
    "| SIP iteration parameters   | 5               |\n",
    "| Closure criterion          | 0.0001          |\n",
    "| Maximum number iterations  | 50              |"
   ]
  },
  {
   "cell_type": "code",
   "execution_count": 4,
   "metadata": {
    "collapsed": false,
    "scrolled": true
   },
   "outputs": [
    {
     "name": "stdout",
     "output_type": "stream",
     "text": [
      "initial head: 0.0\n",
      "transmissivity: 0.0023 m^2/s\n",
      "storage coefficient: 0.00075\n",
      "pumping rate: 0.004 m^3/s\n",
      "final time: 86400 s\n",
      "number of time steps: 20\n",
      "time step expansion factor: 1.3\n",
      "SIP iteration parameters: 5\n",
      "closure criterion: 0.0001\n",
      "maximum number of iterations: 50\n"
     ]
    }
   ],
   "source": [
    "#Store the values of each parameter into separate variables\n",
    "inh = 0.0 #initial head\n",
    "trans =  .0023 #transmissivity (is equal to hk*(top-botm))\n",
    "ss = 0.00075 #storage coefficient\n",
    "pr = 4.e-3 #pumping rate\n",
    "perlen = 86400 #final time (period length)\n",
    "nstp = 20 #number of time steps\n",
    "tsmult = 1.3 #time step expansion factor (time step multiplier)\n",
    "sip_it_par = 5 #SIP iteration parameters\n",
    "hclose = 1.e-4 #closure criterion (the head change criterion for convergence)\n",
    "mxiter = 50 #maximum number of iterations\n",
    "\n",
    "#print values to make sure they are all stored properly\n",
    "#put in quotes to make a string, .format takes whatever is in the () \n",
    "#and changes it to a float, it is then stored in the {}\n",
    "\n",
    "print('initial head: {}'.format(inh))\n",
    "print('transmissivity: {} m^2/s'.format(trans))\n",
    "print('storage coefficient: {}'.format(ss))\n",
    "print('pumping rate: {} m^3/s'.format(pr))\n",
    "print('final time: {} s'.format(perlen))\n",
    "print('number of time steps: {}'.format(nstp))\n",
    "print('time step expansion factor: {}'.format(tsmult))\n",
    "print('SIP iteration parameters: {}'.format(sip_it_par))\n",
    "print('closure criterion: {}'.format(hclose))\n",
    "print('maximum number of iterations: {}'.format(mxiter))\n"
   ]
  },
  {
   "cell_type": "markdown",
   "metadata": {},
   "source": [
    "### Table 1.3 Calculations for determination of transmissivity and storage coefficient for wedge-shaped domain (part d)\n",
    "\n",
    "| Block number j | Area DELC x DELR | Radius to block edge | Individual block are of 10° wedge | (Wedge area) / (actual area) | Radius to block midpoint | 10° arc length | (10° arc length) / (actual DELC) |\n",
    "|----------------|------------------|----------------------|-----------------------------------|--------------------------|--------------------------|----------------|------------------------------|\n",
    "| 1              | 400              | 10                   | 8.73                              | 0.022                    | 5                        | 0.873          | 0.044                        |\n",
    "| 2              | 600              | 40                   | 130.9                             | 0.218                    | 25                       | 4.363          | 0.218                        |\n",
    "| 3              | 600              | 70                   | 288.0                             | 0.480                    | 55                       | 9.599          | 0.480                        |\n",
    "| 4              | 800              | 10                   | 628.32                            | 0.785                    | 90                       | 15.71          | 0.785                        |\n",
    "| 5              | 1200             | 170                  | 1466.1                            | 1.222                    | 140                      | 23.43          | 1.222                        |\n",
    "| 6              | 1600             | 250                  | 2932.2                            | 1.833                    | 210                      | 36.652         | 1.833                        |\n",
    "| 7              | 2000             | 350                  | 5236.0                            | 2.618                    | 300                      | 52.360         | 2.618                        |\n",
    "| 8              | 3000             | 500                  | 11126.5                           | 3.709                    | 425                      | 74.176         | 3.709                        |\n",
    "| 9              | 4000             | 700                  | 20944.0                           | 5.236                    | 600                      | 104.72         | 5.236                        |\n",
    "| 10             | 6000             | 1000                 | 44505.9                           | 7.418                    | 850                      | 148.35         | 7.418                        |"
   ]
  },
  {
   "cell_type": "markdown",
   "metadata": {},
   "source": [
    "Now you must go create csv files for the radius, the individual wedge area, and the actual area because you are going to need their values for some calculations."
   ]
  },
  {
   "cell_type": "code",
   "execution_count": 5,
   "metadata": {
    "collapsed": false,
    "scrolled": true
   },
   "outputs": [
    {
     "name": "stdout",
     "output_type": "stream",
     "text": [
      "C:\\VT\\USGS Internship\\EPA-MF-Problems\\Notebooks\n",
      "5.0\n",
      "25.0\n",
      "55.0\n",
      "90.0\n",
      "140.0\n",
      "210.0\n",
      "300.0\n",
      "425.0\n",
      "600.0\n",
      "850.0\n",
      "[5.0, 25.0, 55.0, 90.0, 140.0, 210.0, 300.0, 425.0, 600.0, 850.0]\n",
      "C:\\VT\\USGS Internship\\EPA-MF-Problems\\Notebooks\n",
      "8.73\n",
      "130.9\n",
      "288.0\n",
      "628.32\n",
      "1466.1\n",
      "2932.2\n",
      "5236.0\n",
      "11126.5\n",
      "20944.0\n",
      "44505.9\n",
      "[8.73, 130.9, 288.0, 628.32, 1466.1, 2932.2, 5236.0, 11126.5, 20944.0, 44505.9]\n",
      "C:\\VT\\USGS Internship\\EPA-MF-Problems\\Notebooks\n",
      "400.0\n",
      "600.0\n",
      "600.0\n",
      "800.0\n",
      "1200.0\n",
      "1600.0\n",
      "2000.0\n",
      "3000.0\n",
      "4000.0\n",
      "6000.0\n",
      "[400.0, 600.0, 600.0, 800.0, 1200.0, 1600.0, 2000.0, 3000.0, 4000.0, 6000.0]\n"
     ]
    }
   ],
   "source": [
    "#print list for radius (r)\n",
    "print(os.getcwd())\n",
    "radius = [] #creates an empty list\n",
    "f = open('../Data/table1.3_radius.csv') #opens the csv file\n",
    "for i,line in enumerate(f): \n",
    "    if i == 0: #creates a statement that if i == 0 (if it's the first\n",
    "        continue #row then it will skip it and move on with the for loop)\n",
    "    linelist = line.strip().split(',') #line.strip gets rid of any extra spaces in the margins\n",
    "                                       #split sections of the individual values according to whatever you put in the quotes\n",
    "    value = float(linelist[0]) #changes the values in the list to floats\n",
    "    print(value) #prints the values\n",
    "    radius.append(value) #puts the floats into the empty list, radius \n",
    "    \n",
    "print(radius) #prints the list\n",
    "\n",
    "#print list for individual block area of a 10° wedge\n",
    "print(os.getcwd())\n",
    "ind_wedge = [] #creates an empty list\n",
    "f = open('../Data/table1.3_individual_wedge.csv') #opens the csv file\n",
    "for i,line in enumerate(f): \n",
    "    if i == 0: #creates a statement that if i == 0 (if it's the first\n",
    "        continue #row then it will skip it and move on with the for loop)\n",
    "    linelist = line.strip().split(',') #line.strip gets rid of any extra spaces in the margins\n",
    "                                       #split sections of the individual values according to whatever you put in the quotes\n",
    "    value = float(linelist[0]) #changes the values in the list to floats\n",
    "    print(value) #prints the values\n",
    "    ind_wedge.append(value) #puts the floats into the empty list, radius \n",
    "    \n",
    "print(ind_wedge) #prints the list\n",
    "\n",
    "#print list for area DELC x DELR\n",
    "print(os.getcwd())\n",
    "act_area = [] #creates an empty list\n",
    "f = open('../Data/table1.3_actual_area.csv') #opens the csv file\n",
    "for i,line in enumerate(f): \n",
    "    if i == 0: #creates a statement that if i == 0 (if it's the first\n",
    "        continue #row then it will skip it and move on with the for loop)\n",
    "    linelist = line.strip().split(',') #line.strip gets rid of any extra spaces in the margins\n",
    "                                       #split sections of the individual values according to whatever you put in the quotes\n",
    "    value = float(linelist[0]) #changes the values in the list to floats\n",
    "    print(value) #prints the values\n",
    "    act_area.append(value) #puts the floats into the empty list, radius \n",
    "    \n",
    "print(act_area) #prints the list"
   ]
  },
  {
   "cell_type": "code",
   "execution_count": 6,
   "metadata": {
    "collapsed": false
   },
   "outputs": [
    {
     "name": "stdout",
     "output_type": "stream",
     "text": [
      "[   5.   25.   55.   90.  140.  210.  300.  425.  600.  850.]\n",
      "[  8.73000000e+00   1.30900000e+02   2.88000000e+02   6.28320000e+02\n",
      "   1.46610000e+03   2.93220000e+03   5.23600000e+03   1.11265000e+04\n",
      "   2.09440000e+04   4.45059000e+04]\n",
      "[  400.   600.   600.   800.  1200.  1600.  2000.  3000.  4000.  6000.]\n"
     ]
    }
   ],
   "source": [
    "#change radius to an array\n",
    "radius_array = np.array(radius)\n",
    "print(radius_array)\n",
    "\n",
    "#change individual block area of a 10° wedge to an array\n",
    "ind_wedge_array = np.array(ind_wedge)\n",
    "print(ind_wedge_array)\n",
    "\n",
    "#change area DELC x DELR to an array\n",
    "act_area_array = np.array(act_area)\n",
    "print(act_area_array)"
   ]
  },
  {
   "cell_type": "markdown",
   "metadata": {},
   "source": [
    "### Adjusted Transmissivity\n",
    "-To find the 10° arc length; divide 10° by 360° (the total circumference of a circle), then multiply by 2πr\n",
    "    ~The radius(r) is given in Table 1.3\n",
    "-To find adjusted transmissivity you can just take the \"10° arc length\" provided in Table 1.3, divide it by actual DELC(20), and multiply it by the original transmissivity(.0023).\n",
    "##### Adjusted transmissivity = (10° arc length / actual DELC) * transmissivity\n",
    "\n",
    "### Adjusted Storage Coefficient\n",
    "-To find adjusted storage coefficient; take the \"individual block area of 10° wedge\" (wedge area), divide it by \"Area DELC x DELR\" (actual area), and multiply the result by the original storage coefficient(.00075).\n",
    "##### Adjusted storage coefficient = (wedge area / actual area) * storage coefficient\n",
    "\n",
    "### Adjusted Well Discharge\n",
    "-To find adjusted well discharge (pumping rate); do 10° divided by toatl circumference(360°), and multiply the result by original pumping rate(4x10^-3 OR .004).\n",
    "##### Adjusted Well discharge = (10°/360°) * pumping rate"
   ]
  },
  {
   "cell_type": "code",
   "execution_count": 7,
   "metadata": {
    "collapsed": false,
    "scrolled": false
   },
   "outputs": [
    {
     "name": "stdout",
     "output_type": "stream",
     "text": [
      "10° arc length: \n",
      " [   0.87222222    4.36111111    9.59444444   15.7          24.42222222\n",
      "   36.63333333   52.33333333   74.13888889  104.66666667  148.27777778] \n",
      "\n",
      "actual DELC: \n",
      " 20 \n",
      "\n",
      "adjusted transmissivity: \n",
      " [ 0.00010031  0.00050153  0.00110336  0.0018055   0.00280856  0.00421283\n",
      "  0.00601833  0.00852597  0.01203667  0.01705194] \n",
      "\n",
      "individual wedge area: \n",
      " [  8.73000000e+00   1.30900000e+02   2.88000000e+02   6.28320000e+02\n",
      "   1.46610000e+03   2.93220000e+03   5.23600000e+03   1.11265000e+04\n",
      "   2.09440000e+04   4.45059000e+04] \n",
      "\n",
      "actual area of wedge: \n",
      " [  400.   600.   600.   800.  1200.  1600.  2000.  3000.  4000.  6000.] \n",
      "\n",
      "adjusted storage coefficient: \n",
      " [  1.63687500e-05   1.63625000e-04   3.60000000e-04   5.89050000e-04\n",
      "   9.16312500e-04   1.37446875e-03   1.96350000e-03   2.78162500e-03\n",
      "   3.92700000e-03   5.56323750e-03] \n",
      "\n",
      "adjusted well discharge/pumping rate: \n",
      " 0.0001111111111111111\n"
     ]
    }
   ],
   "source": [
    "#calculate the adjusted values\n",
    "arclen = (10/360) * 2 * 3.14 * radius_array\n",
    "actualDELC = 20\n",
    "adjtrans = (arclen/actualDELC) * trans\n",
    "ind_wedge = ind_wedge_array\n",
    "act_area = act_area_array\n",
    "adjss = (ind_wedge/act_area) * ss\n",
    "adjpr = (10/360) * pr\n",
    "\n",
    "#print the adjusted values to make sure they are correct\n",
    "print('10° arc length: \\n {} \\n'.format(arclen))\n",
    "print('actual DELC: \\n {} \\n'.format(actualDELC))\n",
    "print('adjusted transmissivity: \\n {} \\n'.format(adjtrans))\n",
    "print('individual wedge area: \\n {} \\n'.format(ind_wedge))\n",
    "print('actual area of wedge: \\n {} \\n'.format(act_area))\n",
    "print('adjusted storage coefficient: \\n {} \\n'.format(adjss))\n",
    "print('adjusted well discharge/pumping rate: \\n {}'.format(adjpr))"
   ]
  },
  {
   "cell_type": "code",
   "execution_count": 30,
   "metadata": {
    "collapsed": false
   },
   "outputs": [
    {
     "name": "stdout",
     "output_type": "stream",
     "text": [
      "[ 0.00010031  0.00050153  0.00110336  0.0018055   0.00280856  0.00421283\n",
      "  0.00601833  0.00852597  0.01203667  0.01705194]\n",
      "(10,)\n",
      "(1, 1, 10)\n",
      "[  1.63687500e-05   1.63625000e-04   3.60000000e-04   5.89050000e-04\n",
      "   9.16312500e-04   1.37446875e-03   1.96350000e-03   2.78162500e-03\n",
      "   3.92700000e-03   5.56323750e-03]\n",
      "(10,)\n",
      "(1, 1, 10)\n"
     ]
    }
   ],
   "source": [
    "adjtrans_array = np.array(adjtrans)\n",
    "print(adjtrans_array)\n",
    "print(adjtrans_array.shape)\n",
    "adjtrans_array = adjtrans_array.reshape((nlay, nrow, ncol))\n",
    "print(adjtrans_array.shape)\n",
    "\n",
    "adjss_array = np.array(adjss)\n",
    "print(adjss_array)\n",
    "print(adjss_array.shape)\n",
    "adjss_array = adjss_array.reshape((nlay, nrow, ncol))\n",
    "print(adjss_array.shape)"
   ]
  },
  {
   "cell_type": "code",
   "execution_count": 13,
   "metadata": {
    "collapsed": true
   },
   "outputs": [],
   "source": [
    "#Flopy objects\n",
    "modelname = 'p1_pd' #short for problem 1 part d\n",
    "exe_name = '../MF2005.1_12/bin/mf2005.exe'\n",
    "model_ws = 'temp'\n",
    "mf = flopy.modflow.Modflow(modelname, exe_name=exe_name, model_ws = model_ws)"
   ]
  },
  {
   "cell_type": "code",
   "execution_count": 14,
   "metadata": {
    "collapsed": true
   },
   "outputs": [],
   "source": [
    "#call in the discretization package\n",
    "delr = delr\n",
    "delc = 20 #set delr values equal to delc\n",
    "top = 0 #an array of the top elevation of layer 1\n",
    "botm = -1 #an array of the bottom elevation of layer 1\n",
    "nper = 1 #number of periods\n",
    "dis = flopy.modflow.ModflowDis(mf, nlay, nrow, ncol, delr=delr, delc=delc,\n",
    "                               top=top, botm=botm, nper=nper, perlen=perlen, \n",
    "                               nstp=nstp, tsmult=tsmult, steady=False)"
   ]
  },
  {
   "cell_type": "code",
   "execution_count": 15,
   "metadata": {
    "collapsed": false
   },
   "outputs": [],
   "source": [
    "#call in the basic package\n",
    "nlay = 1\n",
    "nrow = 1\n",
    "ncol = 10\n",
    "ibound = np.ones((nlay, nrow, ncol))\n",
    "strt = np.zeros((nlay, nrow, ncol))\n",
    "bas = flopy.modflow.ModflowBas(mf, ibound=ibound, strt=strt)"
   ]
  },
  {
   "cell_type": "code",
   "execution_count": 49,
   "metadata": {
    "collapsed": false
   },
   "outputs": [
    {
     "name": "stdout",
     "output_type": "stream",
     "text": [
      "WARNING: unit 20 of package WEL already in use\n",
      "****Warning -- two packages of the same type:  <class 'flopy.modflow.mfwel.ModflowWel'> <class 'flopy.modflow.mfwel.ModflowWel'>\n",
      "replacing existing Package...\n"
     ]
    }
   ],
   "source": [
    "#call in the well package (WEL)\n",
    "# Remember to use zero-based layer, row, column indices!\n",
    "wel_sp1 = [[0, 0, 0, -adjpr]]\n",
    "stress_period_data = {0: wel_sp1}\n",
    "wel = flopy.modflow.ModflowWel(mf, stress_period_data=stress_period_data)"
   ]
  },
  {
   "cell_type": "code",
   "execution_count": 50,
   "metadata": {
    "collapsed": false
   },
   "outputs": [
    {
     "name": "stdout",
     "output_type": "stream",
     "text": [
      "WARNING: unit 27 of package PCG already in use\n",
      "****Warning -- two packages of the same type:  <class 'flopy.modflow.mfpcg.ModflowPcg'> <class 'flopy.modflow.mfpcg.ModflowPcg'>\n",
      "replacing existing Package...\n"
     ]
    }
   ],
   "source": [
    "#call in the preconditioned conjugate-gradient package (PCG) \n",
    "pcg = flopy.modflow.ModflowPcg(mf, mxiter=mxiter, hclose=hclose)"
   ]
  },
  {
   "cell_type": "code",
   "execution_count": 62,
   "metadata": {
    "collapsed": false
   },
   "outputs": [
    {
     "name": "stdout",
     "output_type": "stream",
     "text": [
      "WARNING: unit 15 of package LPF already in use\n",
      "****Warning -- two packages of the same type:  <class 'flopy.modflow.mflpf.ModflowLpf'> <class 'flopy.modflow.mflpf.ModflowLpf'>\n",
      "replacing existing Package...\n"
     ]
    }
   ],
   "source": [
    "#call in the layer-propery flow (LPF)\n",
    "hk = adjtrans_array\n",
    "ss = adjss_array\n",
    "laytyp = np.zeros((nlay))\n",
    "lpf = flopy.modflow.ModflowLpf(mf, hk=hk, ss=ss, laytyp=laytyp)"
   ]
  },
  {
   "cell_type": "code",
   "execution_count": 52,
   "metadata": {
    "collapsed": false
   },
   "outputs": [
    {
     "name": "stdout",
     "output_type": "stream",
     "text": [
      "WARNING: unit 14 of package OC already in use\n",
      "****Warning -- two packages of the same type:  <class 'flopy.modflow.mfoc.ModflowOc'> <class 'flopy.modflow.mfoc.ModflowOc'>\n",
      "replacing existing Package...\n"
     ]
    }
   ],
   "source": [
    "#call in the output control package (OC)\n",
    "oc = flopy.modflow.ModflowOc(mf)"
   ]
  },
  {
   "cell_type": "code",
   "execution_count": 53,
   "metadata": {
    "collapsed": false
   },
   "outputs": [
    {
     "name": "stdout",
     "output_type": "stream",
     "text": [
      "warning: assuming SpatialReference units are meters\n"
     ]
    }
   ],
   "source": [
    "# Write the MODFLOW model input files\n",
    "mf.write_input()"
   ]
  },
  {
   "cell_type": "code",
   "execution_count": 54,
   "metadata": {
    "collapsed": false
   },
   "outputs": [
    {
     "name": "stdout",
     "output_type": "stream",
     "text": [
      "FloPy is using the following executable to run the model: ../MF2005.1_12/bin/mf2005.exe\n",
      "\n",
      "                                  MODFLOW-2005     \n",
      "    U.S. GEOLOGICAL SURVEY MODULAR FINITE-DIFFERENCE GROUND-WATER FLOW MODEL\n",
      "                             Version 1.12.00 2/3/2017                        \n",
      "\n",
      " Using NAME file: p1_pd.nam \n",
      " Run start date and time (yyyy/mm/dd hh:mm:ss): 2017/06/06 10:53:43\n",
      "\n",
      " Solving:  Stress period:     1    Time step:     1    Ground-Water Flow Eqn.\n",
      " Solving:  Stress period:     1    Time step:     2    Ground-Water Flow Eqn.\n",
      " Solving:  Stress period:     1    Time step:     3    Ground-Water Flow Eqn.\n",
      " Solving:  Stress period:     1    Time step:     4    Ground-Water Flow Eqn.\n",
      " Solving:  Stress period:     1    Time step:     5    Ground-Water Flow Eqn.\n",
      " Solving:  Stress period:     1    Time step:     6    Ground-Water Flow Eqn.\n",
      " Solving:  Stress period:     1    Time step:     7    Ground-Water Flow Eqn.\n",
      " Solving:  Stress period:     1    Time step:     8    Ground-Water Flow Eqn.\n",
      " Solving:  Stress period:     1    Time step:     9    Ground-Water Flow Eqn.\n",
      " Solving:  Stress period:     1    Time step:    10    Ground-Water Flow Eqn.\n",
      " Solving:  Stress period:     1    Time step:    11    Ground-Water Flow Eqn.\n",
      " Solving:  Stress period:     1    Time step:    12    Ground-Water Flow Eqn.\n",
      " Solving:  Stress period:     1    Time step:    13    Ground-Water Flow Eqn.\n",
      " Solving:  Stress period:     1    Time step:    14    Ground-Water Flow Eqn.\n",
      " Solving:  Stress period:     1    Time step:    15    Ground-Water Flow Eqn.\n",
      " Solving:  Stress period:     1    Time step:    16    Ground-Water Flow Eqn.\n",
      " Solving:  Stress period:     1    Time step:    17    Ground-Water Flow Eqn.\n",
      " Solving:  Stress period:     1    Time step:    18    Ground-Water Flow Eqn.\n",
      " Solving:  Stress period:     1    Time step:    19    Ground-Water Flow Eqn.\n",
      " Solving:  Stress period:     1    Time step:    20    Ground-Water Flow Eqn.\n",
      " Run end date and time (yyyy/mm/dd hh:mm:ss): 2017/06/06 10:53:43\n",
      " Elapsed run time:  0.011 Seconds\n",
      "\n",
      "  Normal termination of simulation\n"
     ]
    }
   ],
   "source": [
    "# Run the MODFLOW model\n",
    "success, buff = mf.run_model()"
   ]
  },
  {
   "cell_type": "markdown",
   "metadata": {},
   "source": [
    "Create a table from all of the calculations you just completed\n",
    "\n",
    "| Block number j | Adjusted Transmissivity | Adjusted Storage Coefficient | Adjusted Well Discharge |\n",
    "|----------------|-------------------------|------------------------------|-------------------------|\n",
    "| 1              | .00010031               | .0000165                     | .00011111               |\n",
    "| 2              | .0005014                | .098175                      | .00011111               |\n",
    "| 3              | .01104                  | .216                         | .00011111               |\n",
    "| 4              | .0018055                | .47124                       | .00011111               |\n",
    "| 5              | .0028106                | 1.099575                     | .00011111               |\n",
    "| 6              | .0042159                | 2.19915                      | .00011111               |\n",
    "| 7              | .0060214                | 3.927                        | .00011111               |\n",
    "| 8              | .0085307                | 8.344875                     | .00011111               |\n",
    "| 9              | .0120428                | 15.708                       | .00011111               |\n",
    "| 10             | .0170614                | 33.379425                    | .00011111               |"
   ]
  },
  {
   "cell_type": "code",
   "execution_count": 55,
   "metadata": {
    "collapsed": false
   },
   "outputs": [
    {
     "name": "stdout",
     "output_type": "stream",
     "text": [
      "[137.10693, 315.34595, 547.05664, 848.28052, 1239.8716, 1748.9399, 2410.7288, 3271.0542, 4389.4771, 5843.4268, 7733.5615, 10190.736, 13385.063, 17537.689, 22936.102, 29954.039, 39077.355, 50937.668, 66356.07, 86400.0]\n"
     ]
    }
   ],
   "source": [
    "import flopy.utils.binaryfile as bf\n",
    "\n",
    "# Create the headfile object\n",
    "fname = os.path.join(model_ws, 'p1_pd.hds')\n",
    "headobj = bf.HeadFile(fname)\n",
    "times = headobj.get_times()\n",
    "print(times) #prints the time at each stress period"
   ]
  },
  {
   "cell_type": "code",
   "execution_count": 58,
   "metadata": {
    "collapsed": false,
    "scrolled": true
   },
   "outputs": [
    {
     "data": {
      "text/plain": [
       "(0, 86400.0)"
      ]
     },
     "execution_count": 58,
     "metadata": {},
     "output_type": "execute_result"
    },
    {
     "data": {
      "image/png": "[encoded data removed]",
      "text/plain": [
       "<matplotlib.figure.Figure at 0x1a01ca1c898>"
      ]
     },
     "metadata": {},
     "output_type": "display_data"
    }
   ],
   "source": [
    "# Plot the drawdown versus time\n",
    "idx = (0, 0, 2)\n",
    "ts = headobj.get_ts(idx)\n",
    "plt.subplot(1, 1, 1)\n",
    "ttl = 'Head at cell ({0},{1},{2})'.format(idx[0] + 1, idx[1] + 1, idx[2] + 1)\n",
    "plt.title(ttl)\n",
    "plt.xlabel('time (s)')\n",
    "plt.ylabel('drawdown (m)')\n",
    "plt.plot(ts[:, 0], 0-ts[:, 1], 'bo-')\n",
    "plt.xlim(0, ts[:, 0].max())"
   ]
  },
  {
   "cell_type": "code",
   "execution_count": 61,
   "metadata": {
    "collapsed": false
   },
   "outputs": [
    {
     "data": {
      "text/plain": [
       "(0, 86400.0)"
      ]
     },
     "execution_count": 61,
     "metadata": {},
     "output_type": "execute_result"
    },
    {
     "data": {
      "image/png": "[encoded data removed]",
      "text/plain": [
       "<matplotlib.figure.Figure at 0x1a01cc250b8>"
      ]
     },
     "metadata": {},
     "output_type": "display_data"
    }
   ],
   "source": [
    "# Plot the head versus time\n",
    "idx = (0, 0, 2)\n",
    "ts = headobj.get_ts(idx)\n",
    "plt.subplot(1, 1, 1)\n",
    "ttl = 'Head at cell ({0},{1},{2})'.format(idx[0] + 1, idx[1] + 1, idx[2] + 1)\n",
    "plt.title(ttl)\n",
    "plt.xlabel('time (s)')\n",
    "plt.ylabel('head')\n",
    "plt.plot(ts[:, 0], ts[:, 1], 'ro-')\n",
    "plt.xlim(0, ts[:, 0].max())"
   ]
  },
  {
   "cell_type": "markdown",
   "metadata": {},
   "source": [
    "## MODEL OUTPUT\n",
    "\n",
    "   Drawdowns versus time are tabulated in Table 1.4 for each of the four cases. Comparison is also made to the analytical solution of Theis. A drawdown versus time plot is shown in Figure 1.2 for the best comparison case (the refined quadrant) and the worst comparison case (the coarse quadrant). Other cases are not shown, but are generally very similar to the refined quadrant case."
   ]
  },
  {
   "cell_type": "markdown",
   "metadata": {},
   "source": [
    "### Table 1.4 Drawdown versus time for each model configuration\n",
    "\n",
    "| Time Step | Time (sec) | Analytic | Full grid (case a) | Quadrant (case b) | Refined Quadrant (case c) | Pie Wedge (case d) |\n",
    "|-----------|------------|----------|--------------------|-------------------|---------------------------|--------------------|\n",
    "| 1         | 137.1      | 0.009    | 0.017              | 0.010             | 0.014                     | 0.013              |\n",
    "| 2         | 315.3      | 0.044    | 0.048              | 0.030             | 0.043                     | 0.039              |\n",
    "| 3         | 547.1      | 0.086    | 0.085              | 0.059             | 0.079                     | 0.074              |\n",
    "| 4         | 848.6      | 0.129    | 0.126              | 0.092             | 0.120                     | 0.114              |\n",
    "| 5         | 1239.9     | 0.170    | 0.167              | 0.128             | 0.160                     | 0.155              |\n",
    "| 6         | 1748.9     | 0.210    | 0.208              | 0.165             | 0.201                     | 0.197              |\n",
    "| 7         | 2410.7     | 0.249    | 0.248              | 0.203             | 0.241                     | 0.237              |\n",
    "| 8         | 3271.1     | 0.288    | 0.288              | 0.240             | 0.280                     | 0.277              |\n",
    "| 9         | 4389.5     | 0.326    | 0.327              | 0.278             | 0.320                     | 0.316              |\n",
    "| 10        | 5843.4     | 0.364    | 0.365              | 0.315             | 0.358                     | 0.354              |\n",
    "| 11        | 7733.6     | 0.401    | 0.403              | 0.353             | 0.397                     | 0.392              |\n",
    "| 12        | 10190.7    | 0.438    | 0.441              | 0.390             | 0.434                     | 0.429              |\n",
    "| 13        | 13385.1    | 0.475    | 0.479              | 0.427             | 0.471                     | 0.467              |\n",
    "| 14        | 17537.7    | 0.512    | 0.516              | 0.464             | 0.508                     | 0.504              |\n",
    "| 15        | 22936.1    | 0.549    | 0.553              | 0.501             | 0.545                     | 0.540              |\n",
    "| 16        | 29954.0    | 0.586    | 0.591              | 0.538             | 0.582                     | 0.577              |\n",
    "| 17        | 39077.4    | 0.622    | 0.628              | 0.575             | 0.619                     | 0.614              |\n",
    "| 18        | 50937.7    | 0.659    | 0.665              | 0.613             | 0.656                     | 0.651              |\n",
    "| 19        | 66356.1    | 0.695    | 0.704              | 0.651             | 0.697                     | 0.691              |\n",
    "| 20        | 86400.0    | 0.731    | 0.744              | 0.691             | 0.738                     | 0.733              |"
   ]
  },
  {
   "cell_type": "code",
   "execution_count": null,
   "metadata": {
    "collapsed": true
   },
   "outputs": [],
   "source": []
  },
  {
   "cell_type": "markdown",
   "metadata": {},
   "source": [
    "## DISCUSSION OF RESULTS\n",
    "With the exception of the coarse quadrant grid (case b), the MODFLOW results compare well to the analytic solution. The numerical results are generally within 0.005 m of the analytic. An exact comparison is not attained because of the approximations made in the numerical model. These include: 1) use of a discrete rather than continuous spatial domain, 2) use of a discrete rather than continuous time domain, 3) use of an iterative solution with a closure tolerance, and 4) artifical placement of boundaries.\n",
    "The distant no-flow boundary is only a small factor in this analysis because it is placed far enough from the stress so that drawdown at the boundary is very limited. There is a significant departure from the Theis curve at the final time step, however, as the non-infinite nature of the model domain becomes a factor. The comparison would continue to deteriorate if the model were run for longer time.\n",
    "This problem illustrates three methods of modeling radial flow to a well. The first placing the well at the center of a rectangular grid, is the most intuitive approach to this problem, but is not the most efficient. The second method, the quadrant recognizes symmetry of flow. Some care must be taken in designing the grid. The third method, the pie wedge, also recognizes symmetry but involves fairly labor intensive parameter adjustment to approximate a wedge shaped grid.\n",
    "The quadrant grid is a satisfactory approximation, provided it is sufficiently fine near the pumping well. The predominant reason for the approximation error noted in the first quadrant analyzed (case b) is because the block-centered grid approach models a larger area than a quadrant. There will always be an extra 1/2 grid block on the margins of the model area and therefore extra storage in the model domain. The extra storage accounts for a majority of the underprediction of drawdown in case b. When the size of the blocks on the margins is reduced in case c, the error is also reduced.\n",
    "The pie-wedge grid provides a reasonable approximation for this particular problem. The user is cautioned that it is conceptually difficult and error-prone to develop the grid and aquifer parameters for this type of configuration. Some approximation errors may become more apparent if larger areas or greater wedge angles are used. Although this is an appropriate methodology, its main reason for presentation in this manual is to reinforce the user’s understanding of the relationship between transmissivity, grid spacing, and conductance.\n"
   ]
  },
  {
   "cell_type": "code",
   "execution_count": null,
   "metadata": {
    "collapsed": true
   },
   "outputs": [],
   "source": []
  }
 ],
 "metadata": {
  "kernelspec": {
   "display_name": "Python 3",
   "language": "python",
   "name": "python3"
  },
  "language_info": {
   "codemirror_mode": {
    "name": "ipython",
    "version": 3
   },
   "file_extension": ".py",
   "mimetype": "text/x-python",
   "name": "python",
   "nbconvert_exporter": "python",
   "pygments_lexer": "ipython3",
   "version": "3.6.0"
  }
 },
 "nbformat": 4,
 "nbformat_minor": 2
}
