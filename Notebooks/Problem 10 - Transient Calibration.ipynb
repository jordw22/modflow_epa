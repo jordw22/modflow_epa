{
 "cells": [
  {
   "cell_type": "markdown",
   "metadata": {},
   "source": [
    "# Problem 10: Transient Calibration"
   ]
  },
  {
   "cell_type": "markdown",
   "metadata": {},
   "source": [
    "# INTRODUCTION\n",
    "_Most modeling studies deal with a steady-state calibration such as the one performed in the previous problem. It is often desirable and sometimes necessary to perform a transient calibration. This problem gives an example of a transient calibration and cites a common misapplication of the transient calibration process._"
   ]
  },
  {
   "cell_type": "markdown",
   "metadata": {},
   "source": [
    "# PROBLEM STATEMENT\n",
    "_A regional coastal area has been experiencing a drought for the past six months. Hydrography data (shown in Table 10.1) indicates that water levels have dropped as much as 5 ft in the unconfined aquifer since the drought began. Water resource officials are interested in the amount of net recharge reduction that has occurred. A numerical model is being used to assess the situation.\n",
    "Because all flow is toward the coast a simple one-dimensional model is being used. A great deal of confidence exists in the specific yield value of 0.1 and the pre-drought recharge rate of 20 in/yr. Hydraulic conductivity is assumed to be uniform within the aquifer and has been estimated to be 850 ft/d. The aquifer base is uniformly at -120 ft. The model is a single row of 15 nodes, each of which is 1 mile in length. The coastal boundary is simply a constant head of 0.0 ft on the right side of the model (column 15) as shown in Figure 10.1. Elsewhere, the nodes in the model are active. Pre-drought water levels which remained fairly steady for a number of years are shown in Table 10.2.\n",
    "Set up the model and determine the recharge rate reduction that has caused the observed groundwater level decline at node (1, 5) shown in Table 10.1._"
   ]
  },
  {
   "cell_type": "code",
   "execution_count": 1,
   "metadata": {
    "collapsed": true
   },
   "outputs": [],
   "source": [
    "#Import and modules/packages that we need to work with\n",
    "%matplotlib inline\n",
    "import os\n",
    "import sys\n",
    "import platform\n",
    "import numpy as np\n",
    "import matplotlib as mpl\n",
    "import matplotlib.pyplot as plt\n",
    "import pandas as pd\n",
    "import flopy"
   ]
  },
  {
   "cell_type": "code",
   "execution_count": 14,
   "metadata": {
    "collapsed": false
   },
   "outputs": [],
   "source": [
    "#Store the values of each parameter into separate variables\n",
    "inh = 0.0 #initial head\n",
    "hk = 850 #hydraulic conductivity in ft/day (uniform)\n",
    "sy = .1 #storage yield\n",
    "delr = 1*5280 #grid spacing in feet (uniform)\n",
    "delc = delr\n",
    "b = -120 #base in ft (uniform)\n",
    "perlen = 183 #stress period length in days\n",
    "nstp = 15 #number of time steps\n",
    "#tsmult = 261 #time step multiplier\n",
    "it_par = 5 # iteration parameters\n",
    "mxiter = 50 #maximum number of iterations\n",
    "accel_par = 1.0 #acceleration parameter\n",
    "hclose = 0.01 #closure criterion (the head change criterion for convergence)\n",
    "botm = -1\n",
    "nper = 1\n",
    "ipakcb = 50\n",
    "nlay = 1 #number of layers\n",
    "nrow = 1 #number of rows\n",
    "ncol = 15 #number of columns\n",
    "laytyp = np.zeros((nlay))"
   ]
  },
  {
   "cell_type": "code",
   "execution_count": 15,
   "metadata": {
    "collapsed": true
   },
   "outputs": [],
   "source": [
    "#Flopy objects\n",
    "modelname = 'p10' #short for problem 10\n",
    "exe_name = '../MF2005.1_12/bin/mf2005.exe'\n",
    "model_ws = 'temp'\n",
    "mf = flopy.modflow.Modflow(modelname, exe_name=exe_name, model_ws = model_ws)"
   ]
  },
  {
   "cell_type": "code",
   "execution_count": 16,
   "metadata": {
    "collapsed": false
   },
   "outputs": [],
   "source": [
    "#call in the discretization package\n",
    "top = 0\n",
    "#if ncol == 15:\n",
    "#    top = 0\n",
    "#else:\n",
    "#    top !=0\n",
    "dis = flopy.modflow.ModflowDis(mf, nlay, nrow, ncol, delr=delr, delc=delc,\n",
    "                               top=top, botm=botm, nper=nper, perlen=perlen, \n",
    "                               nstp=nstp, steady=False)"
   ]
  },
  {
   "cell_type": "code",
   "execution_count": 17,
   "metadata": {
    "collapsed": false
   },
   "outputs": [],
   "source": [
    "#call in the basic package\n",
    "ibound = np.ones((nlay, nrow, ncol))\n",
    "strt = 0.0\n",
    "bas = flopy.modflow.ModflowBas(mf, ibound=ibound, strt=strt)"
   ]
  },
  {
   "cell_type": "code",
   "execution_count": 18,
   "metadata": {
    "collapsed": false
   },
   "outputs": [],
   "source": [
    "#call in the layer-propery flow (LPF)\n",
    "lpf = flopy.modflow.ModflowLpf(mf, hk=hk, sy=sy, laytyp=laytyp, ipakcb=ipakcb)"
   ]
  },
  {
   "cell_type": "code",
   "execution_count": 19,
   "metadata": {
    "collapsed": false
   },
   "outputs": [],
   "source": [
    "#call in the preconditioned conjugate-gradient package (PCG) \n",
    "pcg = flopy.modflow.ModflowPcg(mf, mxiter=mxiter, hclose=hclose)"
   ]
  },
  {
   "cell_type": "code",
   "execution_count": 20,
   "metadata": {
    "collapsed": false
   },
   "outputs": [],
   "source": [
    "#recharge package (RCH)\n",
    "\n",
    "#fname='..\\Data\\p10_rch.txt'\n",
    "#print(os.path.isfile(fname))\n",
    "#with open(fname) as f:\n",
    "#    data = f.read().splitlines()\n",
    "#f.close()\n",
    "\n",
    "rech = 20/(12*365) #recharge rate ft/day\n",
    "rch = flopy.modflow.ModflowRch(mf, rech=rech)\n"
   ]
  },
  {
   "cell_type": "code",
   "execution_count": 21,
   "metadata": {
    "collapsed": false
   },
   "outputs": [
    {
     "name": "stdout",
     "output_type": "stream",
     "text": [
      "0.0045662100456621\n"
     ]
    }
   ],
   "source": [
    "print(rech)"
   ]
  },
  {
   "cell_type": "code",
   "execution_count": 22,
   "metadata": {
    "collapsed": false
   },
   "outputs": [],
   "source": [
    "#call in the output control package (OC)\n",
    "oc = flopy.modflow.ModflowOc(mf, stress_period_data={(0, 0): ['save head', 'print budget', 'save budget']})"
   ]
  },
  {
   "cell_type": "code",
   "execution_count": 23,
   "metadata": {
    "collapsed": false
   },
   "outputs": [
    {
     "name": "stdout",
     "output_type": "stream",
     "text": [
      "warning: assuming SpatialReference units are meters\n"
     ]
    }
   ],
   "source": [
    "# Write the MODFLOW model input files\n",
    "mf.write_input()"
   ]
  },
  {
   "cell_type": "code",
   "execution_count": 24,
   "metadata": {
    "collapsed": false,
    "scrolled": false
   },
   "outputs": [
    {
     "name": "stdout",
     "output_type": "stream",
     "text": [
      "FloPy is using the following executable to run the model: ../MF2005.1_12/bin/mf2005.exe\n",
      "\n",
      "                                  MODFLOW-2005     \n",
      "    U.S. GEOLOGICAL SURVEY MODULAR FINITE-DIFFERENCE GROUND-WATER FLOW MODEL\n",
      "                             Version 1.12.00 2/3/2017                        \n",
      "\n",
      " Using NAME file: p10.nam \n",
      " Run start date and time (yyyy/mm/dd hh:mm:ss): 2017/07/21 10:18:15\n",
      "\n",
      " Solving:  Stress period:     1    Time step:     1    Ground-Water Flow Eqn.\n",
      " Solving:  Stress period:     1    Time step:     2    Ground-Water Flow Eqn.\n",
      " Solving:  Stress period:     1    Time step:     3    Ground-Water Flow Eqn.\n",
      " Solving:  Stress period:     1    Time step:     4    Ground-Water Flow Eqn.\n",
      " Solving:  Stress period:     1    Time step:     5    Ground-Water Flow Eqn.\n",
      " Solving:  Stress period:     1    Time step:     6    Ground-Water Flow Eqn.\n",
      " Solving:  Stress period:     1    Time step:     7    Ground-Water Flow Eqn.\n",
      " Solving:  Stress period:     1    Time step:     8    Ground-Water Flow Eqn.\n",
      " Solving:  Stress period:     1    Time step:     9    Ground-Water Flow Eqn.\n",
      " Solving:  Stress period:     1    Time step:    10    Ground-Water Flow Eqn.\n",
      " Solving:  Stress period:     1    Time step:    11    Ground-Water Flow Eqn.\n",
      " Solving:  Stress period:     1    Time step:    12    Ground-Water Flow Eqn.\n",
      " Solving:  Stress period:     1    Time step:    13    Ground-Water Flow Eqn.\n",
      " Solving:  Stress period:     1    Time step:    14    Ground-Water Flow Eqn.\n",
      " Solving:  Stress period:     1    Time step:    15    Ground-Water Flow Eqn.\n",
      " Run end date and time (yyyy/mm/dd hh:mm:ss): 2017/07/21 10:18:15\n",
      " Elapsed run time:  0.020 Seconds\n",
      "\n",
      "  Normal termination of simulation\n"
     ]
    }
   ],
   "source": [
    "# Run the MODFLOW model\n",
    "success, buff = mf.run_model()"
   ]
  },
  {
   "cell_type": "code",
   "execution_count": 82,
   "metadata": {
    "collapsed": false
   },
   "outputs": [
    {
     "name": "stdout",
     "output_type": "stream",
     "text": [
      "[12.2, 24.4, 36.599998, 48.799999, 61.0, 73.199997, 85.399994, 97.599991, 109.79999, 121.99998, 134.19998, 146.39998, 158.59998, 170.79997, 182.99997]\n",
      "[[  1.21999998e+01   5.57077637e+03]\n",
      " [  2.43999996e+01   1.11415527e+04]\n",
      " [  3.65999985e+01   1.67123281e+04]\n",
      " [  4.87999992e+01   2.22831055e+04]\n",
      " [  6.10000000e+01   2.78538809e+04]\n",
      " [  7.31999969e+01   3.34246562e+04]\n",
      " [  8.53999939e+01   3.89954336e+04]\n",
      " [  9.75999908e+01   4.45662109e+04]\n",
      " [  1.09799988e+02   5.01369844e+04]\n",
      " [  1.21999985e+02   5.57077617e+04]\n",
      " [  1.34199982e+02   6.12785391e+04]\n",
      " [  1.46399979e+02   6.68493125e+04]\n",
      " [  1.58599976e+02   7.24200938e+04]\n",
      " [  1.70799973e+02   7.79908672e+04]\n",
      " [  1.82999969e+02   8.35616406e+04]]\n"
     ]
    }
   ],
   "source": [
    "import flopy.utils.binaryfile as bf\n",
    "\n",
    "# Create the headfile object\n",
    "fname = os.path.join(model_ws, 'p10.hds') #\"os.path.join\" joins together the modelname and the .hds file and stores it in fname\n",
    "headobj = bf.HeadFile(fname) #create headobj and put values from fname (aka 'p1_pa.hds') inside it\n",
    "times = headobj.get_times() #assign the headobj values to the variable \"times\"\n",
    "print(times) #prints the time at each stress period\n",
    "\n",
    "#print hydraulic head (Table 14.2)\n",
    "idx = (0, 0, 4) #(nlay, nrow, ncol) *remember you have to subtract 1 from the original numbers for python - (1, 10, 12)*\n",
    "ts = headobj.get_ts([idx])\n",
    "print(ts)"
   ]
  },
  {
   "cell_type": "code",
   "execution_count": 85,
   "metadata": {
    "collapsed": false,
    "scrolled": true
   },
   "outputs": [
    {
     "data": {
      "text/plain": [
       "(0, 182.99997)"
      ]
     },
     "execution_count": 85,
     "metadata": {},
     "output_type": "execute_result"
    },
    {
     "data": {
      "image/png": "[encoded data removed]",
      "text/plain": [
       "<matplotlib.figure.Figure at 0x2c7fc913390>"
      ]
     },
     "metadata": {},
     "output_type": "display_data"
    }
   ],
   "source": [
    "# Plot the head versus time\n",
    "plt.subplot(1, 1, 1)\n",
    "ttl = 'Reacharge at cell ({0},{1},{2})'.format(idx[0] + 1, idx[1] + 1, idx[2] + 1)\n",
    "plt.title(ttl)\n",
    "plt.xlabel('time (days)')\n",
    "plt.ylabel('reacharge (ft)')\n",
    "plt.plot(ts[:, 0], ts[:, 1], 'ro-')\n",
    "plt.xlim(0, ts[:, 0].max())\n",
    "#plt.ylim(ts[:, 1].min(), ts[:, 1].max())"
   ]
  },
  {
   "cell_type": "code",
   "execution_count": 96,
   "metadata": {
    "collapsed": false,
    "scrolled": false
   },
   "outputs": [
    {
     "data": {
      "text/plain": [
       "(0, 182.99997)"
      ]
     },
     "execution_count": 96,
     "metadata": {},
     "output_type": "execute_result"
    },
    {
     "data": {
      "image/png": "[encoded data removed]",
      "text/plain": [
       "<matplotlib.figure.Figure at 0x2c7fca56400>"
      ]
     },
     "metadata": {},
     "output_type": "display_data"
    }
   ],
   "source": [
    "# Plot the drawdown versus time\n",
    "plt.subplot(1, 1, 1)\n",
    "ttl = 'Drawdown at cell ({0},{1},{2})'.format(idx[0] + 1, idx[1] + 1, idx[2] + 1) #we are adding 1 to each part of idx to that it prints out the real values and not the code values\n",
    "plt.title(ttl) #prints/plots title\n",
    "plt.xlabel('time (days)') #labels the x-axis\n",
    "plt.ylabel('drawdown') #labels the y-axis\n",
    "#here we do \"0-ts...\" in order to show the drawdown of \n",
    "plt.plot(ts[:, 0], 0-ts[:, 1], 'bo-') #(x, y, color/type of line)\n",
    "plt.xlim(0, ts[:, 0].max())\n",
    "#plt.ylim(0, (0-ts[:, 1]).max())"
   ]
  },
  {
   "cell_type": "markdown",
   "metadata": {},
   "source": [
    "## Table 10.1.\n",
    "_Hydraulic head (ft) versus time (weeks after drought began) at an observation well located at node (1, 5)_"
   ]
  },
  {
   "cell_type": "code",
   "execution_count": 97,
   "metadata": {
    "collapsed": false
   },
   "outputs": [
    {
     "name": "stdout",
     "output_type": "stream",
     "text": [
      "    Week  Head (ft)\n",
      "0      1       61.7\n",
      "1      2       61.5\n",
      "2      3       61.3\n",
      "3      4       61.1\n",
      "4      5       60.9\n",
      "5      6       60.7\n",
      "6      7       60.5\n",
      "7      8       60.2\n",
      "8      9       60.0\n",
      "9     10       59.8\n",
      "10    11       59.6\n",
      "11    12       59.4\n",
      "12    13       59.2\n",
      "13    14       59.0\n",
      "14    15       58.8\n",
      "15    16       58.6\n",
      "16    17       58.4\n",
      "17    18       58.2\n",
      "18    19       58.0\n",
      "19    20       57.8\n",
      "20    21       57.6\n",
      "21    22       57.4\n",
      "22    23       57.2\n",
      "23    24       57.0\n",
      "24    25       56.8\n",
      "25    26       56.7\n"
     ]
    }
   ],
   "source": [
    "table1 = pd.read_csv('../Data/table10.1.csv')\n",
    "print(table1)"
   ]
  },
  {
   "cell_type": "markdown",
   "metadata": {},
   "source": [
    "## Measured Data: Original Data"
   ]
  },
  {
   "cell_type": "code",
   "execution_count": 88,
   "metadata": {
    "collapsed": false
   },
   "outputs": [
    {
     "name": "stdout",
     "output_type": "stream",
     "text": [
      "[12.2, 24.4, 36.599998, 48.799999, 61.0, 73.199997, 85.399994, 97.599991, 109.79999, 121.99998, 134.19998, 146.39998, 158.59998, 170.79997, 182.99997]\n",
      "[[  1.21999998e+01   5.57077637e+03]\n",
      " [  2.43999996e+01   1.11415527e+04]\n",
      " [  3.65999985e+01   1.67123281e+04]\n",
      " [  4.87999992e+01   2.22831055e+04]\n",
      " [  6.10000000e+01   2.78538809e+04]\n",
      " [  7.31999969e+01   3.34246562e+04]\n",
      " [  8.53999939e+01   3.89954336e+04]\n",
      " [  9.75999908e+01   4.45662109e+04]\n",
      " [  1.09799988e+02   5.01369844e+04]\n",
      " [  1.21999985e+02   5.57077617e+04]\n",
      " [  1.34199982e+02   6.12785391e+04]\n",
      " [  1.46399979e+02   6.68493125e+04]\n",
      " [  1.58599976e+02   7.24200938e+04]\n",
      " [  1.70799973e+02   7.79908672e+04]\n",
      " [  1.82999969e+02   8.35616406e+04]]\n"
     ]
    }
   ],
   "source": [
    "import flopy.utils.binaryfile as bf\n",
    "\n",
    "# Create the headfile object\n",
    "fname = os.path.join(model_ws, 'p10.hds') #\"os.path.join\" joins together the modelname and the .hds file and stores it in fname\n",
    "headobj = bf.HeadFile(fname) #create headobj and put values from fname (aka 'p1_pa.hds') inside it\n",
    "times = headobj.get_times() #assign the headobj values to the variable \"times\"\n",
    "print(times) #prints the time at each stress period\n",
    "\n",
    "#print hydraulic head (Table 14.2)\n",
    "idx = (0, 0, 4) #(nlay, nrow, ncol) *remember you have to subtract 1 from the original numbers for python - (1, 10, 12)*\n",
    "ts = headobj.get_ts([idx])\n",
    "print(ts)"
   ]
  },
  {
   "cell_type": "markdown",
   "metadata": {},
   "source": [
    "## Model Data: Edited Data"
   ]
  },
  {
   "cell_type": "code",
   "execution_count": 89,
   "metadata": {
    "collapsed": false
   },
   "outputs": [
    {
     "name": "stdout",
     "output_type": "stream",
     "text": [
      "[[  1.   61.7]\n",
      " [  2.   61.5]\n",
      " [  3.   61.3]\n",
      " [  4.   61.1]\n",
      " [  5.   60.9]\n",
      " [  6.   60.7]\n",
      " [  7.   60.5]\n",
      " [  8.   60.2]\n",
      " [  9.   60. ]\n",
      " [ 10.   59.8]\n",
      " [ 11.   59.6]\n",
      " [ 12.   59.4]\n",
      " [ 13.   59.2]\n",
      " [ 14.   59. ]\n",
      " [ 15.   58.8]\n",
      " [ 16.   58.6]\n",
      " [ 17.   58.4]\n",
      " [ 18.   58.2]\n",
      " [ 19.   58. ]\n",
      " [ 20.   57.8]\n",
      " [ 21.   57.6]\n",
      " [ 22.   57.4]\n",
      " [ 23.   57.2]\n",
      " [ 24.   57. ]\n",
      " [ 25.   56.8]\n",
      " [ 26.   56.7]]\n"
     ]
    }
   ],
   "source": [
    "#these are the original values, print them out to see what they are before we change them\n",
    "rch_data=np.array(table1)\n",
    "print(rch_data)"
   ]
  },
  {
   "cell_type": "code",
   "execution_count": 94,
   "metadata": {
    "collapsed": false
   },
   "outputs": [
    {
     "name": "stdout",
     "output_type": "stream",
     "text": [
      "[[    7.  6170.]\n",
      " [   14.  6150.]\n",
      " [   21.  6130.]\n",
      " [   28.  6110.]\n",
      " [   35.  6090.]\n",
      " [   42.  6070.]\n",
      " [   49.  6050.]\n",
      " [   56.  6020.]\n",
      " [   63.  6000.]\n",
      " [   70.  5980.]\n",
      " [   77.  5960.]\n",
      " [   84.  5940.]\n",
      " [   91.  5920.]\n",
      " [   98.  5900.]\n",
      " [  105.  5880.]\n",
      " [  112.  5860.]\n",
      " [  119.  5840.]\n",
      " [  126.  5820.]\n",
      " [  133.  5800.]\n",
      " [  140.  5780.]\n",
      " [  147.  5760.]\n",
      " [  154.  5740.]\n",
      " [  161.  5720.]\n",
      " [  168.  5700.]\n",
      " [  175.  5680.]\n",
      " [  182.  5670.]]\n"
     ]
    }
   ],
   "source": [
    "#here we are making a copy of the original list so we don't override the originals data\n",
    "rch_data2=rch_data.copy()\n",
    "rch_data2[:, 0]=rch_data2[:, 0]*7\n",
    "rch_data2[:, 1]=rch_data2[:, 1]*100\n",
    "print(rch_data2)"
   ]
  },
  {
   "cell_type": "code",
   "execution_count": 95,
   "metadata": {
    "collapsed": false
   },
   "outputs": [
    {
     "data": {
      "text/plain": [
       "<matplotlib.legend.Legend at 0x2c7fdaa5470>"
      ]
     },
     "execution_count": 95,
     "metadata": {},
     "output_type": "execute_result"
    },
    {
     "data": {
      "image/png": "[encoded data removed]",
      "text/plain": [
       "<matplotlib.figure.Figure at 0x2c7fc9e17b8>"
      ]
     },
     "metadata": {},
     "output_type": "display_data"
    }
   ],
   "source": [
    "# Plot the drawdown versus time\n",
    "plt.subplot(1, 1, 1)\n",
    "ttl = 'Reacharge Rate ({0},{1},{2})'.format(idx[0] + 1, idx[1] + 1, idx[2] + 1) #we are adding 1 to each part of idx to that it prints out the real values and not the code values\n",
    "plt.title(ttl) #prints/plots title\n",
    "plt.xlabel('time (days)') #labels the x-axis\n",
    "plt.ylabel('reacharge') #labels the y-axis\n",
    "#here we do \"0-ts...\" in order to show the drawdown of \n",
    "\n",
    "plt.plot(ts[:, 0], ts[:, 1], 'ro', label='Measured Data: Recharge Rate') #rch measured data\n",
    "plt.plot(rch_data2[:, 0], rch_data2[:, 1], 'r-', label='Model Data: Reacharge Rate') #rch model data\n",
    "plt.xlim(0, ts[:, 0].max())\n",
    "plt.legend(bbox_to_anchor=(1.05, 1), loc=2, borderaxespad=0.) #puts the legend to the right of the plot\n",
    "#plt.ylim(0, (0-ts[:, 1:]).max())"
   ]
  },
  {
   "cell_type": "markdown",
   "metadata": {},
   "source": [
    "## Table 10.2. \n",
    "_Pm-drought groundwater levels (ft) within the model domain._\n"
   ]
  },
  {
   "cell_type": "code",
   "execution_count": 92,
   "metadata": {
    "collapsed": false
   },
   "outputs": [
    {
     "name": "stdout",
     "output_type": "stream",
     "text": [
      "    Nodel (col)  Head (ft)\n",
      "0             1      67.24\n",
      "1             2      66.71\n",
      "2             3      65.75\n",
      "3             4      64.06\n",
      "4             5      61.91\n",
      "5             6      59.19\n",
      "6             7      55.86\n",
      "7             8      51.91\n",
      "8             9      47.27\n",
      "9            10      41.89\n",
      "10           11      35.70\n",
      "11           12      28.59\n",
      "12           13      20.42\n",
      "13           14      10.99\n",
      "14           15       0.00\n"
     ]
    }
   ],
   "source": [
    "table2 = pd.read_csv('../Data/table10.2.csv')\n",
    "print(table2)"
   ]
  },
  {
   "cell_type": "markdown",
   "metadata": {},
   "source": [
    "# MODEL INPUT\n",
    "_The input files that correctly model the transient behavior at the observation well are shown below_\n"
   ]
  },
  {
   "cell_type": "markdown",
   "metadata": {},
   "source": [
    "# DISCUSSION OF RESULTS\n",
    "_The analyst should have obtained a value of 7 in/yr (0.0016 ft/d) for recharge, a 13 in/yr reduction from the pre-drought condition. A common error in model calibration was made if a value of 0.44 in/yr (0.0001 ft/d) was obtained. Prior to running the transient simulation, the modeler should have checked the reasonableness of the given parameters in obtaining the initial conditions. This could be done by running a steady-state simulation with the predrought recharge rate and checking the result with the water levels that “had remained fairly steady for a number of years”. If the 850 ft/d value for hydraulic conductivity were used, the modeler would have noted the heads shown in Table 10.3, which are about 20 ft too high. Because hydraulic conductivity was only an estimate, while other parameters had a fair amount of confidence associated with them, hydraulic conductivity should have been adjusted. A value of 1300 ft/d would have given the desired head distribution. The analyst would have then derived 7 in/yr for recharge by simple trial and error after the hydraulic conductivity adjustment was made._\n",
    "\n",
    "_Performing a transient calibration without a prior steady-state calibration or isolation of the stress and response (superposition model) is a common mistake. In this example this resulted in the transient response being a combination of seeking equilibrium with the given hydraulic conductivity (rising water levels) and the response to the recharge reduction (falling water levels). For this reason this recharge reduction had to be much higher than if the proper hydraulic conductivity had been used. Franke et al. (1987) discuss this aspect of the importance of initial conditions._\n"
   ]
  },
  {
   "cell_type": "markdown",
   "metadata": {},
   "source": [
    "## Table 10.3. \n",
    "_Groundwater levels resulting from a steady-state simulation using a hydraulic conductivity of 850 ft/d_\n"
   ]
  },
  {
   "cell_type": "code",
   "execution_count": 93,
   "metadata": {
    "collapsed": false
   },
   "outputs": [
    {
     "name": "stdout",
     "output_type": "stream",
     "text": [
      "    Node (col)  Head (ft)\n",
      "0            1       94.3\n",
      "1            2       93.6\n",
      "2            3       92.2\n",
      "3            4       90.0\n",
      "4            5       87.2\n",
      "5            6       83.5\n",
      "6            7       79.0\n",
      "7            8       73.7\n",
      "8            9       67.4\n",
      "9           10       60.1\n",
      "10          11       51.5\n",
      "11          12       41.6\n",
      "12          13       30.1\n",
      "13          14       16.4\n",
      "14          15        0.0\n"
     ]
    }
   ],
   "source": [
    "table3 = pd.read_csv('../Data/table10.3.csv')\n",
    "print(table3)"
   ]
  },
  {
   "cell_type": "code",
   "execution_count": null,
   "metadata": {
    "collapsed": true
   },
   "outputs": [],
   "source": []
  }
 ],
 "metadata": {
  "kernelspec": {
   "display_name": "Python 3",
   "language": "python",
   "name": "python3"
  },
  "language_info": {
   "codemirror_mode": {
    "name": "ipython",
    "version": 3
   },
   "file_extension": ".py",
   "mimetype": "text/x-python",
   "name": "python",
   "nbconvert_exporter": "python",
   "pygments_lexer": "ipython3",
   "version": "3.6.0"
  }
 },
 "nbformat": 4,
 "nbformat_minor": 2
}
