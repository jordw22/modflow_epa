{
 "cells": [
  {
   "cell_type": "markdown",
   "metadata": {},
   "source": [
    "# Problem 10: Transient Calibration"
   ]
  },
  {
   "cell_type": "markdown",
   "metadata": {},
   "source": [
    "# INTRODUCTION\n",
    "_Most modeling studies deal with a steady-state calibration such as the one performed in the previous problem. It is often desirable and sometimes necessary to perform a transient calibration. This problem gives an example of a transient calibration and cites a common misapplication of the transient calibration process._"
   ]
  },
  {
   "cell_type": "markdown",
   "metadata": {},
   "source": [
    "# PROBLEM STATEMENT\n",
    "_A regional coastal area has been experiencing a drought for the past six months. Hydrography data (shown in Table 10.1) indicates that water levels have dropped as much as 5 ft in the unconfined aquifer since the drought began. Water resource officials are interested in the amount of net recharge reduction that has occurred. A numerical model is being used to assess the situation.\n",
    "Because all flow is toward the coast a simple one-dimensional model is being used. A great deal of confidence exists in the specific yield value of 0.1 and the pre-drought recharge rate of 20 in/yr. Hydraulic conductivity is assumed to be uniform within the aquifer and has been estimated to be 850 ft/d. The aquifer base is uniformly at -120 ft. The model is a single row of 15 nodes, each of which is 1 mile in length. The coastal boundary is simply a constant head of 0.0 ft on the right side of the model (column 15) as shown in Figure 10.1. Elsewhere, the nodes in the model are active. Pre-drought water levels which remained fairly steady for a number of years are shown in Table 10.2.\n",
    "Set up the model and determine the recharge rate reduction that has caused the observed groundwater level decline at node (1, 5) shown in Table 10.1._"
   ]
  },
  {
   "cell_type": "code",
   "execution_count": null,
   "metadata": {
    "collapsed": true
   },
   "outputs": [],
   "source": [
    "#Import and modules/packages that we need to work with\n",
    "%matplotlib inline\n",
    "import os\n",
    "import sys\n",
    "import platform\n",
    "import numpy as np\n",
    "import matplotlib as mpl\n",
    "import matplotlib.pyplot as plt\n",
    "import pandas as pd\n",
    "import flopy"
   ]
  },
  {
   "cell_type": "code",
   "execution_count": null,
   "metadata": {
    "collapsed": true
   },
   "outputs": [],
   "source": [
    "#Store the values of each parameter into separate variables\n",
    "inh = 0.0 #initial head\n",
    "hk = .3*86400 #hydraulic conductivity ft^2/day\n",
    "ss = 0.06 #storage coefficient\n",
    "delr = 100 #grid spacing (uniform)\n",
    "delc = delr\n",
    "pr = -.963/7.48*86400 #pumping rate ft^3/day\n",
    "perlen = 1.5 #stress period length in days\n",
    "nstp = 10 #number of time steps\n",
    "tsmult = 1.414 #time step multiplier\n",
    "it_par = 5 # iteration parameters\n",
    "mxiter = 50 #maximum number of iterations\n",
    "accel_par = 1.0 #acceleration parameter\n",
    "hclose = 0.001 #closure criterion (the head change criterion for convergence)\n",
    "top = 0\n",
    "botm = -1\n",
    "nper = 1\n",
    "laytyp = 0\n",
    "ipakcb = 50\n",
    "\n",
    "#grid 44 rows, 55 cols, 1 layer\n",
    "nlay = 1 #number of layers\n",
    "nrow = 44 #number of rows\n",
    "ncol = 55 #number of columns\n",
    "\n",
    "#riv package\n",
    "rstage = 0.0 #river stage\n",
    "rcond = 1728 #river conductance in ft^2/day\n",
    "rbot = -10 #river bottom\n",
    "\n",
    "print(pr)"
   ]
  },
  {
   "cell_type": "markdown",
   "metadata": {},
   "source": [
    "## Table 10.1.\n",
    "_Hydraulic head (ft) versus time (weeks after drought began) at an observation well located at node (1, 5)_\n",
    "\n"
   ]
  },
  {
   "cell_type": "markdown",
   "metadata": {},
   "source": [
    "## Table 10.2. \n",
    "_Pm-drought groundwater levels (ft) within the model domain._\n"
   ]
  },
  {
   "cell_type": "markdown",
   "metadata": {},
   "source": [
    "# MODEL INPUT\n",
    "_The input files that correctly model the transient behavior at the observation well are shown below_\n"
   ]
  },
  {
   "cell_type": "markdown",
   "metadata": {},
   "source": [
    "# DISCUSSION OF RESULTS\n",
    "_The analyst should have obtained a value of 7 in/yr (0.0016 ft/d) for recharge, a 13 in/yr reduction from the pre-drought condition. A common error in model calibration was made if a value of 0.44 in/yr (0.0001 ft/d) was obtained. Prior to running the transient simulation, the modeler should have checked the reasonableness of the given parameters in obtaining the initial conditions. This could be done by running a steady-state simulation with the predrought recharge rate and checking the result with the water levels that “had remained fairly steady for a number of years”. If the 850 ft/d value for hydraulic conductivity were used, the modeler would have noted the heads shown in Table 10.3, which are about 20 ft too high. Because hydraulic conductivity was only an estimate, while other parameters had a fair amount of confidence associated with them, hydraulic conductivity should have been adjusted. A value of 1300 ft/d would have given the desired head distribution. The analyst would have then derived 7 in/yr for recharge by simple trial and error after the hydraulic conductivity adjustment was made._\n",
    "\n",
    "_Performing a transient calibration without a prior steady-state calibration or isolation of the stress and response (superposition model) is a common mistake. In this example this resulted in the transient response being a combination of seeking equilibrium with the given hydraulic conductivity (rising water levels) and the response to the recharge reduction (falling water levels). For this reason this recharge reduction had to be much higher than if the proper hydraulic conductivity had been used. Franke et al. (1987) discuss this aspect of the importance of initial conditions._\n"
   ]
  },
  {
   "cell_type": "markdown",
   "metadata": {},
   "source": [
    "## Table 10.3. \n",
    "_Groundwater levels resulting from a steady-state simulation using a hydraulic conductivity of 850 ft/d_\n"
   ]
  },
  {
   "cell_type": "code",
   "execution_count": null,
   "metadata": {
    "collapsed": true
   },
   "outputs": [],
   "source": []
  }
 ],
 "metadata": {
  "kernelspec": {
   "display_name": "Python 3",
   "language": "python",
   "name": "python3"
  },
  "language_info": {
   "codemirror_mode": {
    "name": "ipython",
    "version": 3
   },
   "file_extension": ".py",
   "mimetype": "text/x-python",
   "name": "python",
   "nbconvert_exporter": "python",
   "pygments_lexer": "ipython3",
   "version": "3.6.0"
  }
 },
 "nbformat": 4,
 "nbformat_minor": 2
}
