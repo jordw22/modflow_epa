{
 "cells": [
  {
   "cell_type": "markdown",
   "metadata": {},
   "source": [
    "# Problem 10: Transient Calibration"
   ]
  },
  {
   "cell_type": "markdown",
   "metadata": {},
   "source": [
    "# INTRODUCTION\n",
    "_Most modeling studies deal with a steady-state calibration such as the one performed in the previous problem. It is often desirable and sometimes necessary to perform a transient calibration. This problem gives an example of a transient calibration and cites a common misapplication of the transient calibration process._"
   ]
  },
  {
   "cell_type": "markdown",
   "metadata": {},
   "source": [
    "# PROBLEM STATEMENT\n",
    "_A regional coastal area has been experiencing a drought for the past six months. Hydrography data (shown in Table 10.1) indicates that water levels have dropped as much as 5 ft in the unconfined aquifer since the drought began. Water resource officials are interested in the amount of net recharge reduction that has occurred. A numerical model is being used to assess the situation.\n",
    "Because all flow is toward the coast a simple one-dimensional model is being used. A great deal of confidence exists in the specific yield value of 0.1 and the pre-drought recharge rate of 20 in/yr. Hydraulic conductivity is assumed to be uniform within the aquifer and has been estimated to be 850 ft/d. The aquifer base is uniformly at -120 ft. The model is a single row of 15 nodes, each of which is 1 mile in length. The coastal boundary is simply a constant head of 0.0 ft on the right side of the model (column 15) as shown in Figure 10.1. Elsewhere, the nodes in the model are active. Pre-drought water levels which remained fairly steady for a number of years are shown in Table 10.2.\n",
    "Set up the model and determine the recharge rate reduction that has caused the observed groundwater level decline at node (1, 5) shown in Table 10.1._"
   ]
  },
  {
   "cell_type": "code",
   "execution_count": 1,
   "metadata": {
    "collapsed": true
   },
   "outputs": [],
   "source": [
    "#Import and modules/packages that we need to work with\n",
    "%matplotlib inline\n",
    "import os\n",
    "import sys\n",
    "import platform\n",
    "import numpy as np\n",
    "import matplotlib as mpl\n",
    "import matplotlib.pyplot as plt\n",
    "import pandas as pd\n",
    "import flopy"
   ]
  },
  {
   "cell_type": "code",
   "execution_count": 2,
   "metadata": {
    "collapsed": false
   },
   "outputs": [],
   "source": [
    "#Store the values of each parameter into separate variables\n",
    "inh = 0.0 #initial head\n",
    "hk = 1300 #hydraulic conductivity in ft/day (uniform)\n",
    "sy = .1 #storage yield\n",
    "delr = 1*5280 #grid spacing in feet (uniform)\n",
    "delc = delr\n",
    "perlen = [1, 26*7] #stress period length in days\n",
    "nstp = [1, 26] #number of time steps\n",
    "steady = [True, False]\n",
    "#tsmult = 261 #time step multiplier\n",
    "it_par = 5 # iteration parameters\n",
    "mxiter = 50 #maximum number of iterations\n",
    "accel_par = 1.0 #acceleration parameter\n",
    "hclose = 0.01 #closure criterion (the head change criterion for convergence)\n",
    "botm = -120\n",
    "nper = 2\n",
    "ipakcb = 50\n",
    "nlay = 1 #number of layers\n",
    "nrow = 1 #number of rows\n",
    "ncol = 15 #number of columns\n",
    "laytyp = 1"
   ]
  },
  {
   "cell_type": "code",
   "execution_count": 3,
   "metadata": {
    "collapsed": true
   },
   "outputs": [],
   "source": [
    "#Flopy objects\n",
    "modelname = 'p10' #short for problem 10\n",
    "exe_name = '../MF2005.1_12/bin/mf2005.exe'\n",
    "model_ws = 'temp'\n",
    "mf = flopy.modflow.Modflow(modelname, exe_name=exe_name, model_ws = model_ws)"
   ]
  },
  {
   "cell_type": "code",
   "execution_count": 4,
   "metadata": {
    "collapsed": false
   },
   "outputs": [],
   "source": [
    "#call in the discretization package\n",
    "top = 100\n",
    "dis = flopy.modflow.ModflowDis(mf, nlay, nrow, ncol, delr=delr, delc=delc,\n",
    "                               top=top, botm=botm, nper=nper, perlen=perlen, \n",
    "                               nstp=nstp, steady=steady)"
   ]
  },
  {
   "cell_type": "code",
   "execution_count": 5,
   "metadata": {
    "collapsed": false
   },
   "outputs": [],
   "source": [
    "#call in the basic package\n",
    "ibound = np.ones((nlay, nrow, ncol))\n",
    "ibound[0, 0, 14] =-1\n",
    "strt = 0.0\n",
    "bas = flopy.modflow.ModflowBas(mf, ibound=ibound, strt=strt)"
   ]
  },
  {
   "cell_type": "code",
   "execution_count": 6,
   "metadata": {
    "collapsed": false
   },
   "outputs": [],
   "source": [
    "#call in the layer-propery flow (LPF)\n",
    "lpf = flopy.modflow.ModflowLpf(mf, hk=hk, sy=sy, laytyp=laytyp, ipakcb=ipakcb)"
   ]
  },
  {
   "cell_type": "code",
   "execution_count": 7,
   "metadata": {
    "collapsed": false
   },
   "outputs": [],
   "source": [
    "#call in the preconditioned conjugate-gradient package (PCG) \n",
    "pcg = flopy.modflow.ModflowPcg(mf, mxiter=mxiter, hclose=hclose)"
   ]
  },
  {
   "cell_type": "code",
   "execution_count": 8,
   "metadata": {
    "collapsed": false
   },
   "outputs": [
    {
     "name": "stdout",
     "output_type": "stream",
     "text": [
      "True\n"
     ]
    }
   ],
   "source": [
    "#recharge package (RCH)\n",
    "\n",
    "fname='..\\Data\\p10_rch.txt'\n",
    "print(os.path.isfile(fname))\n",
    "with open(fname) as f:\n",
    "    data = f.read().splitlines()\n",
    "f.close()\n",
    "\n",
    "rech1 = 20/(12*365) #recharge rate ft/day\n",
    "\n",
    "rech2 = 7/(12*365)\n",
    "\n",
    "rch = flopy.modflow.ModflowRch(mf, rech={0: rech1, 1: rech2})\n"
   ]
  },
  {
   "cell_type": "code",
   "execution_count": 9,
   "metadata": {
    "collapsed": false
   },
   "outputs": [
    {
     "ename": "NameError",
     "evalue": "name 'rech' is not defined",
     "output_type": "error",
     "traceback": [
      "\u001b[0;31m---------------------------------------------------------------------------\u001b[0m",
      "\u001b[0;31mNameError\u001b[0m                                 Traceback (most recent call last)",
      "\u001b[0;32m<ipython-input-9-ced1808e37b5>\u001b[0m in \u001b[0;36m<module>\u001b[0;34m()\u001b[0m\n\u001b[0;32m----> 1\u001b[0;31m \u001b[0mprint\u001b[0m\u001b[1;33m(\u001b[0m\u001b[0mrech\u001b[0m\u001b[1;33m)\u001b[0m\u001b[1;33m\u001b[0m\u001b[0m\n\u001b[0m",
      "\u001b[0;31mNameError\u001b[0m: name 'rech' is not defined"
     ]
    }
   ],
   "source": [
    "print(rech)"
   ]
  },
  {
   "cell_type": "code",
   "execution_count": 10,
   "metadata": {
    "collapsed": false
   },
   "outputs": [],
   "source": [
    "#call in the output control package (OC)\n",
    "oc = flopy.modflow.ModflowOc(mf, stress_period_data={(0, 0): ['save head', 'print budget', 'save budget']})"
   ]
  },
  {
   "cell_type": "code",
   "execution_count": 11,
   "metadata": {
    "collapsed": false
   },
   "outputs": [
    {
     "name": "stdout",
     "output_type": "stream",
     "text": [
      "warning: assuming SpatialReference units are meters\n"
     ]
    }
   ],
   "source": [
    "# Write the MODFLOW model input files\n",
    "mf.write_input()"
   ]
  },
  {
   "cell_type": "code",
   "execution_count": 12,
   "metadata": {
    "collapsed": false,
    "scrolled": false
   },
   "outputs": [
    {
     "name": "stdout",
     "output_type": "stream",
     "text": [
      "FloPy is using the following executable to run the model: ../MF2005.1_12/bin/mf2005.exe\n",
      "\n",
      "                                  MODFLOW-2005     \n",
      "    U.S. GEOLOGICAL SURVEY MODULAR FINITE-DIFFERENCE GROUND-WATER FLOW MODEL\n",
      "                             Version 1.12.00 2/3/2017                        \n",
      "\n",
      " Using NAME file: p10.nam \n",
      " Run start date and time (yyyy/mm/dd hh:mm:ss): 2017/08/16 14:07:06\n",
      "\n",
      " Solving:  Stress period:     1    Time step:     1    Ground-Water Flow Eqn.\n",
      " Solving:  Stress period:     2    Time step:     1    Ground-Water Flow Eqn.\n",
      " Solving:  Stress period:     2    Time step:     2    Ground-Water Flow Eqn.\n",
      " Solving:  Stress period:     2    Time step:     3    Ground-Water Flow Eqn.\n",
      " Solving:  Stress period:     2    Time step:     4    Ground-Water Flow Eqn.\n",
      " Solving:  Stress period:     2    Time step:     5    Ground-Water Flow Eqn.\n",
      " Solving:  Stress period:     2    Time step:     6    Ground-Water Flow Eqn.\n",
      " Solving:  Stress period:     2    Time step:     7    Ground-Water Flow Eqn.\n",
      " Solving:  Stress period:     2    Time step:     8    Ground-Water Flow Eqn.\n",
      " Solving:  Stress period:     2    Time step:     9    Ground-Water Flow Eqn.\n",
      " Solving:  Stress period:     2    Time step:    10    Ground-Water Flow Eqn.\n",
      " Solving:  Stress period:     2    Time step:    11    Ground-Water Flow Eqn.\n",
      " Solving:  Stress period:     2    Time step:    12    Ground-Water Flow Eqn.\n",
      " Solving:  Stress period:     2    Time step:    13    Ground-Water Flow Eqn.\n",
      " Solving:  Stress period:     2    Time step:    14    Ground-Water Flow Eqn.\n",
      " Solving:  Stress period:     2    Time step:    15    Ground-Water Flow Eqn.\n",
      " Solving:  Stress period:     2    Time step:    16    Ground-Water Flow Eqn.\n",
      " Solving:  Stress period:     2    Time step:    17    Ground-Water Flow Eqn.\n",
      " Solving:  Stress period:     2    Time step:    18    Ground-Water Flow Eqn.\n",
      " Solving:  Stress period:     2    Time step:    19    Ground-Water Flow Eqn.\n",
      " Solving:  Stress period:     2    Time step:    20    Ground-Water Flow Eqn.\n",
      " Solving:  Stress period:     2    Time step:    21    Ground-Water Flow Eqn.\n",
      " Solving:  Stress period:     2    Time step:    22    Ground-Water Flow Eqn.\n",
      " Solving:  Stress period:     2    Time step:    23    Ground-Water Flow Eqn.\n",
      " Solving:  Stress period:     2    Time step:    24    Ground-Water Flow Eqn.\n",
      " Solving:  Stress period:     2    Time step:    25    Ground-Water Flow Eqn.\n",
      " Solving:  Stress period:     2    Time step:    26    Ground-Water Flow Eqn.\n",
      " Run end date and time (yyyy/mm/dd hh:mm:ss): 2017/08/16 14:07:06\n",
      " Elapsed run time:  0.019 Seconds\n",
      "\n",
      "  Normal termination of simulation\n"
     ]
    }
   ],
   "source": [
    "# Run the MODFLOW model\n",
    "success, buff = mf.run_model()"
   ]
  },
  {
   "cell_type": "code",
   "execution_count": 13,
   "metadata": {
    "collapsed": false
   },
   "outputs": [
    {
     "name": "stdout",
     "output_type": "stream",
     "text": [
      "[1.0, 8.0, 15.0, 22.0, 29.0, 36.0, 43.0, 50.0, 57.0, 64.0, 71.0, 78.0, 85.0, 92.0, 99.0, 106.0, 113.0, 120.0, 127.0, 134.0, 141.0, 148.0, 155.0, 162.0, 169.0, 176.0, 183.0]\n",
      "[[[ 67.02082062  66.49649811  65.44340515  63.85243607  61.70944214\n",
      "    58.99455643  55.68121719  51.73470688  47.11005402  41.74890137\n",
      "    35.5748291   28.4859314   20.34270287  10.94672108   0.        ]]]\n"
     ]
    }
   ],
   "source": [
    "import flopy.utils.binaryfile as bf\n",
    "\n",
    "# Create the headfile object\n",
    "fname = os.path.join(model_ws, 'p10.hds') #\"os.path.join\" joins together the modelname and the .hds file and stores it in fname\n",
    "headobj = bf.HeadFile(fname) #create headobj and put values from fname (aka 'p1_pa.hds') inside it\n",
    "times = headobj.get_times() #assign the headobj values to the variable \"times\"\n",
    "print(times) #prints the time at each stress period\n",
    "\n",
    "headzero= headobj.get_data(totim = times[0])\n",
    "print(headzero)"
   ]
  },
  {
   "cell_type": "code",
   "execution_count": 14,
   "metadata": {
    "collapsed": false
   },
   "outputs": [
    {
     "data": {
      "text/plain": [
       "[[[67.02082061767578,\n",
       "   66.49649810791016,\n",
       "   65.44340515136719,\n",
       "   63.85243606567383,\n",
       "   61.709442138671875,\n",
       "   58.99455642700195,\n",
       "   55.681217193603516,\n",
       "   51.73470687866211,\n",
       "   47.11005401611328,\n",
       "   41.7489013671875,\n",
       "   35.5748291015625,\n",
       "   28.485931396484375,\n",
       "   20.342702865600586,\n",
       "   10.946721076965332,\n",
       "   0.0]]]"
      ]
     },
     "execution_count": 14,
     "metadata": {},
     "output_type": "execute_result"
    }
   ],
   "source": [
    "headzero.tolist()"
   ]
  },
  {
   "cell_type": "code",
   "execution_count": 15,
   "metadata": {
    "collapsed": false
   },
   "outputs": [
    {
     "data": {
      "text/plain": [
       "numpy.ndarray"
      ]
     },
     "execution_count": 15,
     "metadata": {},
     "output_type": "execute_result"
    }
   ],
   "source": [
    "type(headzero)"
   ]
  },
  {
   "cell_type": "code",
   "execution_count": 16,
   "metadata": {
    "collapsed": false
   },
   "outputs": [
    {
     "data": {
      "text/plain": [
       "list"
      ]
     },
     "execution_count": 16,
     "metadata": {},
     "output_type": "execute_result"
    }
   ],
   "source": [
    "type(times)"
   ]
  },
  {
   "cell_type": "code",
   "execution_count": 17,
   "metadata": {
    "collapsed": false,
    "scrolled": false
   },
   "outputs": [
    {
     "name": "stdout",
     "output_type": "stream",
     "text": [
      "[0, 1, 2, 3, 4, 5, 6, 7, 8, 9, 10, 11, 12, 13, 14]\n",
      "[0, 10, 20, 30, 40, 50, 60, 70]\n"
     ]
    },
    {
     "ename": "NameError",
     "evalue": "name 'idx' is not defined",
     "output_type": "error",
     "traceback": [
      "\u001b[0;31m---------------------------------------------------------------------------\u001b[0m",
      "\u001b[0;31mNameError\u001b[0m                                 Traceback (most recent call last)",
      "\u001b[0;32m<ipython-input-17-956dae6a30ed>\u001b[0m in \u001b[0;36m<module>\u001b[0;34m()\u001b[0m\n\u001b[1;32m      5\u001b[0m \u001b[1;33m\u001b[0m\u001b[0m\n\u001b[1;32m      6\u001b[0m \u001b[0mplt\u001b[0m\u001b[1;33m.\u001b[0m\u001b[0msubplot\u001b[0m\u001b[1;33m(\u001b[0m\u001b[1;36m1\u001b[0m\u001b[1;33m,\u001b[0m \u001b[1;36m1\u001b[0m\u001b[1;33m,\u001b[0m \u001b[1;36m1\u001b[0m\u001b[1;33m)\u001b[0m\u001b[1;33m\u001b[0m\u001b[0m\n\u001b[0;32m----> 7\u001b[0;31m \u001b[0mttl\u001b[0m \u001b[1;33m=\u001b[0m \u001b[1;34m'Head at cell ({0},{1},{2})'\u001b[0m\u001b[1;33m.\u001b[0m\u001b[0mformat\u001b[0m\u001b[1;33m(\u001b[0m\u001b[0midx\u001b[0m\u001b[1;33m[\u001b[0m\u001b[1;36m0\u001b[0m\u001b[1;33m]\u001b[0m \u001b[1;33m+\u001b[0m \u001b[1;36m1\u001b[0m\u001b[1;33m,\u001b[0m \u001b[0midx\u001b[0m\u001b[1;33m[\u001b[0m\u001b[1;36m1\u001b[0m\u001b[1;33m]\u001b[0m \u001b[1;33m+\u001b[0m \u001b[1;36m1\u001b[0m\u001b[1;33m,\u001b[0m \u001b[0midx\u001b[0m\u001b[1;33m[\u001b[0m\u001b[1;36m2\u001b[0m\u001b[1;33m]\u001b[0m \u001b[1;33m+\u001b[0m \u001b[1;36m1\u001b[0m\u001b[1;33m)\u001b[0m\u001b[1;33m\u001b[0m\u001b[0m\n\u001b[0m\u001b[1;32m      8\u001b[0m \u001b[0mplt\u001b[0m\u001b[1;33m.\u001b[0m\u001b[0mtitle\u001b[0m\u001b[1;33m(\u001b[0m\u001b[0mttl\u001b[0m\u001b[1;33m)\u001b[0m\u001b[1;33m\u001b[0m\u001b[0m\n\u001b[1;32m      9\u001b[0m \u001b[0mplt\u001b[0m\u001b[1;33m.\u001b[0m\u001b[0mxlabel\u001b[0m\u001b[1;33m(\u001b[0m\u001b[1;34m'node (cells)'\u001b[0m\u001b[1;33m)\u001b[0m\u001b[1;33m\u001b[0m\u001b[0m\n",
      "\u001b[0;31mNameError\u001b[0m: name 'idx' is not defined"
     ]
    },
    {
     "data": {
      "image/png": "[encoded data removed]",
      "text/plain": [
       "<matplotlib.figure.Figure at 0x1db1e09e128>"
      ]
     },
     "metadata": {},
     "output_type": "display_data"
    }
   ],
   "source": [
    "x = list(range(0, 15))\n",
    "print(x)\n",
    "y = list(range(0, 80, 10))\n",
    "print(y)\n",
    "\n",
    "plt.subplot(1, 1, 1)\n",
    "ttl = 'Head at cell ({0},{1},{2})'.format(idx[0] + 1, idx[1] + 1, idx[2] + 1)\n",
    "plt.title(ttl)\n",
    "plt.xlabel('node (cells)')\n",
    "plt.xticks(x)\n",
    "plt.ylabel('head (ft)')\n",
    "plt.yticks(y)\n",
    "plt.plot(headzero)"
   ]
  },
  {
   "cell_type": "code",
   "execution_count": 18,
   "metadata": {
    "collapsed": false
   },
   "outputs": [
    {
     "name": "stdout",
     "output_type": "stream",
     "text": [
      "[[   1.           61.70944214]\n",
      " [   8.           61.50206757]\n",
      " [  15.           61.29509354]\n",
      " [  22.           61.08851242]\n",
      " [  29.           60.88234329]\n",
      " [  36.           60.6765976 ]\n",
      " [  43.           60.4712944 ]\n",
      " [  50.           60.26646423]\n",
      " [  57.           60.06213379]\n",
      " [  64.           59.85834503]\n",
      " [  71.           59.65512466]\n",
      " [  78.           59.45251846]\n",
      " [  85.           59.25056839]\n",
      " [  92.           59.04931259]\n",
      " [  99.           58.84878922]\n",
      " [ 106.           58.64903641]\n",
      " [ 113.           58.4500885 ]\n",
      " [ 120.           58.25197983]\n",
      " [ 127.           58.05474091]\n",
      " [ 134.           57.85839844]\n",
      " [ 141.           57.66297913]\n",
      " [ 148.           57.46850204]\n",
      " [ 155.           57.27499008]\n",
      " [ 162.           57.0824585 ]\n",
      " [ 169.           56.89092255]\n",
      " [ 176.           56.70039749]\n",
      " [ 183.           56.51089478]]\n"
     ]
    }
   ],
   "source": [
    "#print hydraulic head (Table 14.2)\n",
    "idx = (0, 0, 4) #(nlay, nrow, ncol) *remember you have to subtract 1 from the original numbers for python - (1, 10, 12)*\n",
    "ts = headobj.get_ts([idx])\n",
    "print(ts)"
   ]
  },
  {
   "cell_type": "code",
   "execution_count": 19,
   "metadata": {
    "collapsed": false,
    "scrolled": false
   },
   "outputs": [
    {
     "data": {
      "text/plain": [
       "(1, 183.0)"
      ]
     },
     "execution_count": 19,
     "metadata": {},
     "output_type": "execute_result"
    },
    {
     "data": {
      "image/png": "[encoded data removed]",
      "text/plain": [
       "<matplotlib.figure.Figure at 0x1db1e09e0b8>"
      ]
     },
     "metadata": {},
     "output_type": "display_data"
    }
   ],
   "source": [
    "# Plot the head versus time\n",
    "plt.subplot(1, 1, 1)\n",
    "ttl = 'Head at cell ({0},{1},{2})'.format(idx[0] + 1, idx[1] + 1, idx[2] + 1)\n",
    "plt.title(ttl)\n",
    "plt.xlabel('time (days)')\n",
    "plt.ylabel('head (ft)')\n",
    "plt.plot(ts[1:, 0], ts[1:, 1], 'ro-')\n",
    "plt.xlim(1, ts[1:, 0].max())\n",
    "#plt.ylim(ts[:, 1].min(), ts[:, 1].max())"
   ]
  },
  {
   "cell_type": "code",
   "execution_count": 20,
   "metadata": {
    "collapsed": false,
    "scrolled": false
   },
   "outputs": [
    {
     "data": {
      "text/plain": [
       "(0, 183.0)"
      ]
     },
     "execution_count": 20,
     "metadata": {},
     "output_type": "execute_result"
    },
    {
     "data": {
      "image/png": "[encoded data removed]",
      "text/plain": [
       "<matplotlib.figure.Figure at 0x1db1e575ba8>"
      ]
     },
     "metadata": {},
     "output_type": "display_data"
    }
   ],
   "source": [
    "# Plot the drawdown versus time\n",
    "plt.subplot(1, 1, 1)\n",
    "ttl = 'Drawdown at cell ({0},{1},{2})'.format(idx[0] + 1, idx[1] + 1, idx[2] + 1) #we are adding 1 to each part of idx to that it prints out the real values and not the code values\n",
    "plt.title(ttl) #prints/plots title\n",
    "plt.xlabel('time (days)') #labels the x-axis\n",
    "plt.ylabel('drawdown') #labels the y-axis\n",
    "#here we do \"0-ts...\" in order to show the drawdown of \n",
    "plt.plot(ts[:, 0], 0-ts[:, 1], 'bo-') #(x, y, color/type of line)\n",
    "plt.xlim(0, ts[:, 0].max())\n",
    "#plt.ylim(0, (0-ts[:, 1]).max())"
   ]
  },
  {
   "cell_type": "markdown",
   "metadata": {},
   "source": [
    "## Table 10.1.\n",
    "_Hydraulic head (ft) versus time (weeks after drought began) at an observation well located at node (1, 5)_"
   ]
  },
  {
   "cell_type": "code",
   "execution_count": 21,
   "metadata": {
    "collapsed": false
   },
   "outputs": [
    {
     "name": "stdout",
     "output_type": "stream",
     "text": [
      "    Week  Head (ft)\n",
      "0      1       61.7\n",
      "1      2       61.5\n",
      "2      3       61.3\n",
      "3      4       61.1\n",
      "4      5       60.9\n",
      "5      6       60.7\n",
      "6      7       60.5\n",
      "7      8       60.2\n",
      "8      9       60.0\n",
      "9     10       59.8\n",
      "10    11       59.6\n",
      "11    12       59.4\n",
      "12    13       59.2\n",
      "13    14       59.0\n",
      "14    15       58.8\n",
      "15    16       58.6\n",
      "16    17       58.4\n",
      "17    18       58.2\n",
      "18    19       58.0\n",
      "19    20       57.8\n",
      "20    21       57.6\n",
      "21    22       57.4\n",
      "22    23       57.2\n",
      "23    24       57.0\n",
      "24    25       56.8\n",
      "25    26       56.7\n"
     ]
    }
   ],
   "source": [
    "table1 = pd.read_csv('../Data/table10.1.csv')\n",
    "print(table1)"
   ]
  },
  {
   "cell_type": "markdown",
   "metadata": {},
   "source": [
    "## Measured Data: Original Data"
   ]
  },
  {
   "cell_type": "code",
   "execution_count": 22,
   "metadata": {
    "collapsed": false
   },
   "outputs": [
    {
     "name": "stdout",
     "output_type": "stream",
     "text": [
      "[1.0, 8.0, 15.0, 22.0, 29.0, 36.0, 43.0, 50.0, 57.0, 64.0, 71.0, 78.0, 85.0, 92.0, 99.0, 106.0, 113.0, 120.0, 127.0, 134.0, 141.0, 148.0, 155.0, 162.0, 169.0, 176.0, 183.0]\n",
      "[[   1.           61.70944214]\n",
      " [   8.           61.50206757]\n",
      " [  15.           61.29509354]\n",
      " [  22.           61.08851242]\n",
      " [  29.           60.88234329]\n",
      " [  36.           60.6765976 ]\n",
      " [  43.           60.4712944 ]\n",
      " [  50.           60.26646423]\n",
      " [  57.           60.06213379]\n",
      " [  64.           59.85834503]\n",
      " [  71.           59.65512466]\n",
      " [  78.           59.45251846]\n",
      " [  85.           59.25056839]\n",
      " [  92.           59.04931259]\n",
      " [  99.           58.84878922]\n",
      " [ 106.           58.64903641]\n",
      " [ 113.           58.4500885 ]\n",
      " [ 120.           58.25197983]\n",
      " [ 127.           58.05474091]\n",
      " [ 134.           57.85839844]\n",
      " [ 141.           57.66297913]\n",
      " [ 148.           57.46850204]\n",
      " [ 155.           57.27499008]\n",
      " [ 162.           57.0824585 ]\n",
      " [ 169.           56.89092255]\n",
      " [ 176.           56.70039749]\n",
      " [ 183.           56.51089478]]\n"
     ]
    }
   ],
   "source": [
    "import flopy.utils.binaryfile as bf\n",
    "\n",
    "# Create the headfile object\n",
    "fname = os.path.join(model_ws, 'p10.hds') #\"os.path.join\" joins together the modelname and the .hds file and stores it in fname\n",
    "headobj = bf.HeadFile(fname) #create headobj and put values from fname (aka 'p1_pa.hds') inside it\n",
    "times = headobj.get_times() #assign the headobj values to the variable \"times\"\n",
    "print(times) #prints the time at each stress period\n",
    "\n",
    "#print hydraulic head (Table 14.2)\n",
    "idx = (0, 0, 4) #(nlay, nrow, ncol) *remember you have to subtract 1 from the original numbers for python - (1, 10, 12)*\n",
    "ts = headobj.get_ts([idx])\n",
    "print(ts)"
   ]
  },
  {
   "cell_type": "markdown",
   "metadata": {},
   "source": [
    "## Model Data: Edited Data"
   ]
  },
  {
   "cell_type": "code",
   "execution_count": 23,
   "metadata": {
    "collapsed": false
   },
   "outputs": [
    {
     "name": "stdout",
     "output_type": "stream",
     "text": [
      "[[  1.   61.7]\n",
      " [  2.   61.5]\n",
      " [  3.   61.3]\n",
      " [  4.   61.1]\n",
      " [  5.   60.9]\n",
      " [  6.   60.7]\n",
      " [  7.   60.5]\n",
      " [  8.   60.2]\n",
      " [  9.   60. ]\n",
      " [ 10.   59.8]\n",
      " [ 11.   59.6]\n",
      " [ 12.   59.4]\n",
      " [ 13.   59.2]\n",
      " [ 14.   59. ]\n",
      " [ 15.   58.8]\n",
      " [ 16.   58.6]\n",
      " [ 17.   58.4]\n",
      " [ 18.   58.2]\n",
      " [ 19.   58. ]\n",
      " [ 20.   57.8]\n",
      " [ 21.   57.6]\n",
      " [ 22.   57.4]\n",
      " [ 23.   57.2]\n",
      " [ 24.   57. ]\n",
      " [ 25.   56.8]\n",
      " [ 26.   56.7]]\n"
     ]
    }
   ],
   "source": [
    "#these are the original values, print them out to see what they are before we change them\n",
    "rch_data=np.array(table1)\n",
    "print(rch_data)"
   ]
  },
  {
   "cell_type": "code",
   "execution_count": 24,
   "metadata": {
    "collapsed": false
   },
   "outputs": [
    {
     "name": "stdout",
     "output_type": "stream",
     "text": [
      "[[   7.   123.4]\n",
      " [  14.   123. ]\n",
      " [  21.   122.6]\n",
      " [  28.   122.2]\n",
      " [  35.   121.8]\n",
      " [  42.   121.4]\n",
      " [  49.   121. ]\n",
      " [  56.   120.4]\n",
      " [  63.   120. ]\n",
      " [  70.   119.6]\n",
      " [  77.   119.2]\n",
      " [  84.   118.8]\n",
      " [  91.   118.4]\n",
      " [  98.   118. ]\n",
      " [ 105.   117.6]\n",
      " [ 112.   117.2]\n",
      " [ 119.   116.8]\n",
      " [ 126.   116.4]\n",
      " [ 133.   116. ]\n",
      " [ 140.   115.6]\n",
      " [ 147.   115.2]\n",
      " [ 154.   114.8]\n",
      " [ 161.   114.4]\n",
      " [ 168.   114. ]\n",
      " [ 175.   113.6]\n",
      " [ 182.   113.4]]\n"
     ]
    }
   ],
   "source": [
    "#here we are making a copy of the original list so we don't override the originals data\n",
    "rch_data2=rch_data.copy()\n",
    "rch_data2[:, 0]=rch_data2[:, 0]*7\n",
    "rch_data2[:, 1]=rch_data2[:, 1]*2\n",
    "print(rch_data2)"
   ]
  },
  {
   "cell_type": "code",
   "execution_count": 25,
   "metadata": {
    "collapsed": false
   },
   "outputs": [
    {
     "data": {
      "text/plain": [
       "<matplotlib.legend.Legend at 0x1db1e5a6da0>"
      ]
     },
     "execution_count": 25,
     "metadata": {},
     "output_type": "execute_result"
    },
    {
     "data": {
      "image/png": "[encoded data removed]",
      "text/plain": [
       "<matplotlib.figure.Figure at 0x1db1e1229b0>"
      ]
     },
     "metadata": {},
     "output_type": "display_data"
    }
   ],
   "source": [
    "# Plot the drawdown versus time\n",
    "plt.subplot(1, 1, 1)\n",
    "ttl = 'Reacharge Rate ({0},{1},{2})'.format(idx[0] + 1, idx[1] + 1, idx[2] + 1) #we are adding 1 to each part of idx to that it prints out the real values and not the code values\n",
    "plt.title(ttl) #prints/plots title\n",
    "plt.xlabel('time (days)') #labels the x-axis\n",
    "plt.ylabel('reacharge') #labels the y-axis\n",
    "#here we do \"0-ts...\" in order to show the drawdown of \n",
    "\n",
    "plt.plot(ts[:, 0], ts[:, 1], 'ro', label='Measured Data: Recharge Rate') #rch measured data\n",
    "plt.plot(rch_data2[:, 0], rch_data2[:, 1], 'r-', label='Model Data: Reacharge Rate') #rch model data\n",
    "plt.xlim(0, ts[:, 0].max())\n",
    "plt.legend(bbox_to_anchor=(1.05, 1), loc=2, borderaxespad=0.) #puts the legend to the right of the plot\n",
    "#plt.ylim(0, (0-ts[:, 1:]).max())"
   ]
  },
  {
   "cell_type": "markdown",
   "metadata": {},
   "source": [
    "## Table 10.2. \n",
    "_Pm-drought groundwater levels (ft) within the model domain._\n"
   ]
  },
  {
   "cell_type": "code",
   "execution_count": 26,
   "metadata": {
    "collapsed": false
   },
   "outputs": [
    {
     "name": "stdout",
     "output_type": "stream",
     "text": [
      "    Nodel (col)  Head (ft)\n",
      "0             1      67.24\n",
      "1             2      66.71\n",
      "2             3      65.75\n",
      "3             4      64.06\n",
      "4             5      61.91\n",
      "5             6      59.19\n",
      "6             7      55.86\n",
      "7             8      51.91\n",
      "8             9      47.27\n",
      "9            10      41.89\n",
      "10           11      35.70\n",
      "11           12      28.59\n",
      "12           13      20.42\n",
      "13           14      10.99\n",
      "14           15       0.00\n"
     ]
    }
   ],
   "source": [
    "table2 = pd.read_csv('../Data/table10.2.csv')\n",
    "print(table2)"
   ]
  },
  {
   "cell_type": "markdown",
   "metadata": {},
   "source": [
    "# MODEL INPUT\n",
    "_The input files that correctly model the transient behavior at the observation well are shown below_\n"
   ]
  },
  {
   "cell_type": "markdown",
   "metadata": {},
   "source": [
    "# DISCUSSION OF RESULTS\n",
    "_The analyst should have obtained a value of 7 in/yr (0.0016 ft/d) for recharge, a 13 in/yr reduction from the pre-drought condition. A common error in model calibration was made if a value of 0.44 in/yr (0.0001 ft/d) was obtained. Prior to running the transient simulation, the modeler should have checked the reasonableness of the given parameters in obtaining the initial conditions. This could be done by running a steady-state simulation with the predrought recharge rate and checking the result with the water levels that “had remained fairly steady for a number of years”. If the 850 ft/d value for hydraulic conductivity were used, the modeler would have noted the heads shown in Table 10.3, which are about 20 ft too high. Because hydraulic conductivity was only an estimate, while other parameters had a fair amount of confidence associated with them, hydraulic conductivity should have been adjusted. A value of 1300 ft/d would have given the desired head distribution. The analyst would have then derived 7 in/yr for recharge by simple trial and error after the hydraulic conductivity adjustment was made._\n",
    "\n",
    "_Performing a transient calibration without a prior steady-state calibration or isolation of the stress and response (superposition model) is a common mistake. In this example this resulted in the transient response being a combination of seeking equilibrium with the given hydraulic conductivity (rising water levels) and the response to the recharge reduction (falling water levels). For this reason this recharge reduction had to be much higher than if the proper hydraulic conductivity had been used. Franke et al. (1987) discuss this aspect of the importance of initial conditions._\n"
   ]
  },
  {
   "cell_type": "markdown",
   "metadata": {},
   "source": [
    "## Table 10.3. \n",
    "_Groundwater levels resulting from a steady-state simulation using a hydraulic conductivity of 850 ft/d_\n"
   ]
  },
  {
   "cell_type": "code",
   "execution_count": 27,
   "metadata": {
    "collapsed": false
   },
   "outputs": [
    {
     "name": "stdout",
     "output_type": "stream",
     "text": [
      "    Node (col)  Head (ft)\n",
      "0            1       94.3\n",
      "1            2       93.6\n",
      "2            3       92.2\n",
      "3            4       90.0\n",
      "4            5       87.2\n",
      "5            6       83.5\n",
      "6            7       79.0\n",
      "7            8       73.7\n",
      "8            9       67.4\n",
      "9           10       60.1\n",
      "10          11       51.5\n",
      "11          12       41.6\n",
      "12          13       30.1\n",
      "13          14       16.4\n",
      "14          15        0.0\n"
     ]
    }
   ],
   "source": [
    "table3 = pd.read_csv('../Data/table10.3.csv')\n",
    "print(table3)"
   ]
  },
  {
   "cell_type": "code",
   "execution_count": null,
   "metadata": {
    "collapsed": true
   },
   "outputs": [],
   "source": []
  },
  {
   "cell_type": "code",
   "execution_count": null,
   "metadata": {
    "collapsed": true
   },
   "outputs": [],
   "source": []
  }
 ],
 "metadata": {
  "kernelspec": {
   "display_name": "Python 3",
   "language": "python",
   "name": "python3"
  },
  "language_info": {
   "codemirror_mode": {
    "name": "ipython",
    "version": 3
   },
   "file_extension": ".py",
   "mimetype": "text/x-python",
   "name": "python",
   "nbconvert_exporter": "python",
   "pygments_lexer": "ipython3",
   "version": "3.6.0"
  }
 },
 "nbformat": 4,
 "nbformat_minor": 2
}
