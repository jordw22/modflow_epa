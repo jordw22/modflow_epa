{
 "cells": [
  {
   "cell_type": "markdown",
   "metadata": {},
   "source": [
    "# Problem 19: Application of a Groundwater Flow Model to a Water Supply Problem"
   ]
  },
  {
   "cell_type": "code",
   "execution_count": 63,
   "metadata": {
    "collapsed": true
   },
   "outputs": [],
   "source": [
    "#Import and modules/packages that we need to work with\n",
    "%matplotlib inline\n",
    "import os\n",
    "import sys\n",
    "import platform\n",
    "import numpy as np\n",
    "import matplotlib as mpl\n",
    "import matplotlib.pyplot as plt\n",
    "import pandas as pd\n",
    "import flopy"
   ]
  },
  {
   "cell_type": "code",
   "execution_count": 221,
   "metadata": {
    "collapsed": true
   },
   "outputs": [],
   "source": [
    "#Store the values of each parameter into separate variables\n",
    "inh = 0.0 #initial head\n",
    "hk = 1.0 #hydraulic conductivity\n",
    "s = 0.1 #storage coefficient\n",
    "delr = 100 #grid spacing (uniform)\n",
    "delc = delr\n",
    "pr = -.963 #pumping rate ft^3/s (432 gpm)\n",
    "perlen = 1.5 #stress period length in days\n",
    "nstp = 10 #number of time steps\n",
    "tsmult = 1.414 #time step multiplier\n",
    "sip_it_par = 5 #SIP iteration parameters\n",
    "mxiter = 50 #maximum number of iterations\n",
    "accel_par = 1.0 #acceleration parameter\n",
    "hclose = 0.001 #closure criterion (the head change criterion for convergence)\n",
    "top = 0\n",
    "botm = -1\n",
    "nper = 1\n",
    "laytyp = 1\n",
    "ipakcb = 50\n",
    "\n",
    "#grid 44 rows, 55 cols, 1 layer\n",
    "nlay = 1 #number of layers\n",
    "nrow = 44 #number of rows\n",
    "ncol = 55 #number of columns\n",
    "\n",
    "#riv package\n",
    "rstage = 0.0\n",
    "rcond = .02\n",
    "rbot = -10"
   ]
  },
  {
   "cell_type": "code",
   "execution_count": 222,
   "metadata": {
    "collapsed": true
   },
   "outputs": [],
   "source": [
    "#Flopy objects\n",
    "modelname = 'p19' #short for problem 19\n",
    "exe_name = '../MF2005.1_12/bin/mf2005.exe'\n",
    "model_ws = 'temp'\n",
    "mf = flopy.modflow.Modflow(modelname, exe_name=exe_name, model_ws = model_ws)"
   ]
  },
  {
   "cell_type": "code",
   "execution_count": 223,
   "metadata": {
    "collapsed": false
   },
   "outputs": [],
   "source": [
    "#call in the discretization package\n",
    "dis = flopy.modflow.ModflowDis(mf, nlay, nrow, ncol, delr=delr, delc=delc,\n",
    "                               top=top, botm=botm, nper=nper, perlen=perlen, \n",
    "                               nstp=nstp, tsmult=tsmult, steady=False)"
   ]
  },
  {
   "cell_type": "code",
   "execution_count": 224,
   "metadata": {
    "collapsed": false
   },
   "outputs": [],
   "source": [
    "#call in the basic package\n",
    "ibound = np.ones((nlay, nrow, ncol))\n",
    "strt = 0.0\n",
    "bas = flopy.modflow.ModflowBas(mf, ibound=ibound, strt=strt)"
   ]
  },
  {
   "cell_type": "code",
   "execution_count": 225,
   "metadata": {
    "collapsed": false
   },
   "outputs": [],
   "source": [
    "#call in the layer-propery flow (LPF)\n",
    "lpf = flopy.modflow.ModflowLpf(mf, hk=hk, sy=sy, laytyp=laytyp, ipakcb=ipakcb)\n"
   ]
  },
  {
   "cell_type": "code",
   "execution_count": 226,
   "metadata": {
    "collapsed": false
   },
   "outputs": [],
   "source": [
    "#call in the well package (WEL)\n",
    "# Remember to use zero-based layer, row, column indices!\n",
    "wel_sp1 = [[0, 27, 31, pr]]\n",
    "wel_spd = {0: wel_sp1}\n",
    "wel = flopy.modflow.ModflowWel(mf, stress_period_data=wel_spd)\n"
   ]
  },
  {
   "cell_type": "code",
   "execution_count": 227,
   "metadata": {
    "collapsed": false
   },
   "outputs": [],
   "source": [
    "#call in the preconditioned conjugate-gradient package (PCG) \n",
    "pcg = flopy.modflow.ModflowPcg(mf, mxiter=mxiter, hclose=hclose)\n"
   ]
  },
  {
   "cell_type": "code",
   "execution_count": 228,
   "metadata": {
    "collapsed": false
   },
   "outputs": [],
   "source": [
    "#call in the output control package (OC)\n",
    "oc = flopy.modflow.ModflowOc(mf, stress_period_data={(0, 0): ['save head', 'print budget', 'save budget']})\n"
   ]
  },
  {
   "cell_type": "code",
   "execution_count": 229,
   "metadata": {
    "collapsed": false
   },
   "outputs": [],
   "source": [
    "#call in the river package (RIV)\n",
    "#riv = flopy.modflow.ModflowRiv(mf, ipakcb=ipakcb, stress_period_data=riv_spd)"
   ]
  },
  {
   "cell_type": "code",
   "execution_count": 230,
   "metadata": {
    "collapsed": false
   },
   "outputs": [
    {
     "name": "stdout",
     "output_type": "stream",
     "text": [
      "warning: assuming SpatialReference units are meters\n",
      "FloPy is using the following executable to run the model: ../MF2005.1_12/bin/mf2005.exe\n",
      "\n",
      "                                  MODFLOW-2005     \n",
      "    U.S. GEOLOGICAL SURVEY MODULAR FINITE-DIFFERENCE GROUND-WATER FLOW MODEL\n",
      "                             Version 1.12.00 2/3/2017                        \n",
      "\n",
      " Using NAME file: p19.nam \n",
      " Run start date and time (yyyy/mm/dd hh:mm:ss): 2017/07/13 11:10:34\n",
      "\n",
      " Solving:  Stress period:     1    Time step:     1    Ground-Water Flow Eqn.\n",
      " Solving:  Stress period:     1    Time step:     2    Ground-Water Flow Eqn.\n",
      " Solving:  Stress period:     1    Time step:     3    Ground-Water Flow Eqn.\n",
      " Solving:  Stress period:     1    Time step:     4    Ground-Water Flow Eqn.\n",
      " Solving:  Stress period:     1    Time step:     5    Ground-Water Flow Eqn.\n",
      " Solving:  Stress period:     1    Time step:     6    Ground-Water Flow Eqn.\n",
      " Solving:  Stress period:     1    Time step:     7    Ground-Water Flow Eqn.\n",
      " Solving:  Stress period:     1    Time step:     8    Ground-Water Flow Eqn.\n",
      " Solving:  Stress period:     1    Time step:     9    Ground-Water Flow Eqn.\n",
      " Solving:  Stress period:     1    Time step:    10    Ground-Water Flow Eqn.\n",
      " Run end date and time (yyyy/mm/dd hh:mm:ss): 2017/07/13 11:10:34\n",
      " Elapsed run time:  0.010 Seconds\n",
      "\n",
      "  Normal termination of simulation\n"
     ]
    }
   ],
   "source": [
    "# Write the MODFLOW model input files\n",
    "mf.write_input()\n",
    "\n",
    "# Run the MODFLOW model\n",
    "success, buff = mf.run_model()"
   ]
  },
  {
   "cell_type": "code",
   "execution_count": 231,
   "metadata": {
    "collapsed": false
   },
   "outputs": [
    {
     "name": "stdout",
     "output_type": "stream",
     "text": [
      "[0.020063508, 0.048433311, 0.088548213, 0.14527068, 0.22547624, 0.33888692, 0.49924961, 0.72600245, 1.046631, 1.4999998]\n",
      "[[  2.00635083e-02  -3.87588045e-10]\n",
      " [  4.84333113e-02  -1.71039072e-09]\n",
      " [  8.85482132e-02  -5.12933962e-09]\n",
      " [  1.45270675e-01  -1.30583020e-08]\n",
      " [  2.25476235e-01  -3.04528669e-08]\n",
      " [  3.38886917e-01  -6.73990499e-08]\n",
      " [  4.99249607e-01  -1.44300088e-07]\n",
      " [  7.26002455e-01  -3.02245724e-07]\n",
      " [  1.04663098e+00  -6.23696053e-07]\n",
      " [  1.49999976e+00  -1.27363660e-06]]\n"
     ]
    }
   ],
   "source": [
    "import flopy.utils.binaryfile as bf\n",
    "\n",
    "# Create the headfile object\n",
    "fname = os.path.join(model_ws, 'p19.hds') #\"os.path.join\" joins together the modelname and the .hds file and stores it in fname\n",
    "headobj = bf.HeadFile(fname) #create headobj and put values from fname (aka 'p1_pa.hds') inside it\n",
    "times = headobj.get_times() #assign the headobj values to the variable \"times\"\n",
    "print(times) #prints the time at each stress period\n",
    "\n",
    "#print hydraulic head (Table 14.2)\n",
    "idx = (0, 28, 31) #(nlay, nrow, ncol) *remember you have to subtract 1 from the original numbers for python - (1, 10, 12)*\n",
    "ts = headobj.get_ts([idx])\n",
    "print(ts)"
   ]
  },
  {
   "cell_type": "code",
   "execution_count": 232,
   "metadata": {
    "collapsed": false
   },
   "outputs": [
    {
     "data": {
      "text/plain": [
       "(0, 1.2736366e-06)"
      ]
     },
     "execution_count": 232,
     "metadata": {},
     "output_type": "execute_result"
    },
    {
     "data": {
      "image/png": "[encoded data removed]",
      "text/plain": [
       "<matplotlib.figure.Figure at 0x26a61418f60>"
      ]
     },
     "metadata": {},
     "output_type": "display_data"
    }
   ],
   "source": [
    "# Plot the drawdown versus time\n",
    "plt.subplot(1, 1, 1)\n",
    "ttl = 'Drawdown at cell ({0},{1},{2})'.format(idx[0] + 1, idx[1] + 1, idx[2] + 1) #we are adding 1 to each part of idx to that it prints out the real values and not the code values\n",
    "plt.title(ttl) #prints/plots title\n",
    "plt.xlabel('time (days)') #labels the x-axis\n",
    "plt.ylabel('drawdown') #labels the y-axis\n",
    "#here we do \"0-ts...\" in order to show the drawdown of \n",
    "plt.plot(ts[:, 0], 0-ts[:, 1], 'bo-') #(x, y, color/type of line)\n",
    "plt.xlim(0, ts[:, 0].max())\n",
    "plt.ylim(0, (0-ts[:, 1]).max())"
   ]
  },
  {
   "cell_type": "code",
   "execution_count": 233,
   "metadata": {
    "collapsed": false
   },
   "outputs": [
    {
     "data": {
      "text/plain": [
       "(-1.2736366e-06, -3.8758804e-10)"
      ]
     },
     "execution_count": 233,
     "metadata": {},
     "output_type": "execute_result"
    },
    {
     "data": {
      "image/png": "[encoded data removed]",
      "text/plain": [
       "<matplotlib.figure.Figure at 0x26a5e7267b8>"
      ]
     },
     "metadata": {},
     "output_type": "display_data"
    }
   ],
   "source": [
    "# Plot the head versus time\n",
    "plt.subplot(1, 1, 1)\n",
    "ttl = 'Head at cell ({0},{1},{2})'.format(idx[0] + 1, idx[1] + 1, idx[2] + 1)\n",
    "plt.title(ttl)\n",
    "plt.xlabel('time (days)')\n",
    "plt.ylabel('head (ft)')\n",
    "plt.plot(ts[:, 0], ts[:, 1], 'ro-')\n",
    "plt.xlim(0, ts[:, 0].max())\n",
    "plt.ylim(ts[:, 1].min(), ts[:, 1].max())"
   ]
  },
  {
   "cell_type": "code",
   "execution_count": 239,
   "metadata": {
    "collapsed": false
   },
   "outputs": [
    {
     "name": "stdout",
     "output_type": "stream",
     "text": [
      "   Time (min)  Observation Well 1  Observation Well 2  Observation Well 3\n",
      "0           1                0.17                0.04                0.00\n",
      "1           4                0.26                0.12                0.01\n",
      "2          10                0.33                0.16                0.02\n",
      "3          40                0.48                0.22                0.08\n",
      "4         100                0.57                0.29                0.14\n",
      "5         400                0.79                0.51                0.30\n",
      "6        1000                0.99                0.70                0.50\n",
      "7        2000                1.19                0.86                0.68\n",
      "8        3000                1.33                0.98                0.78\n",
      "   Time (min)  Observation Well 1\n",
      "0           1                0.17\n",
      "1           4                0.26\n",
      "2          10                0.33\n",
      "3          40                0.48\n",
      "4         100                0.57\n",
      "5         400                0.79\n",
      "6        1000                0.99\n",
      "7        2000                1.19\n",
      "8        3000                1.33\n",
      "   Time (min)  Observation Well 2\n",
      "0           1                0.04\n",
      "1           4                0.12\n",
      "2          10                0.16\n",
      "3          40                0.22\n",
      "4         100                0.29\n",
      "5         400                0.51\n",
      "6        1000                0.70\n",
      "7        2000                0.86\n",
      "8        3000                0.98\n",
      "   Time (min)  Observation Well 3\n",
      "0           1                0.00\n",
      "1           4                0.01\n",
      "2          10                0.02\n",
      "3          40                0.08\n",
      "4         100                0.14\n",
      "5         400                0.30\n",
      "6        1000                0.50\n",
      "7        2000                0.68\n",
      "8        3000                0.78\n"
     ]
    }
   ],
   "source": [
    "#create different variables for each well so that you can plot them\n",
    "table2 = pd.read_csv('../Data/table19.2.csv')\n",
    "print(table2)\n",
    "\n",
    "well1=table2.ix[0:, ['Time (min)', 'Observation Well 1']]\n",
    "print(well1)\n",
    "\n",
    "well2=table2.ix[0:, ['Time (min)', 'Observation Well 2']]\n",
    "print(well2)\n",
    "\n",
    "well3=table2.ix[0:, ['Time (min)', 'Observation Well 3']]\n",
    "print(well3)"
   ]
  },
  {
   "cell_type": "code",
   "execution_count": 240,
   "metadata": {
    "collapsed": false,
    "scrolled": false
   },
   "outputs": [
    {
     "data": {
      "image/png": "[encoded data removed]",
      "text/plain": [
       "<matplotlib.figure.Figure at 0x26a6110ebe0>"
      ]
     },
     "metadata": {},
     "output_type": "display_data"
    }
   ],
   "source": [
    "fname = os.path.join(modelname, 'p19.cbc')\n",
    "head = headobj.get_data(totim=times[-1])\n",
    "levels = np.linspace(head.min(), head.max(), 10)\n",
    "\n",
    "fig = plt.figure(figsize=(10, 10))\n",
    "\n",
    "#plot_array\n",
    "ax = fig.add_subplot(1, 2, 1, aspect='equal')\n",
    "ax.set_title('contour_array()')\n",
    "modelmap = flopy.plot.ModelMap(model=mf)\n",
    "quadmesh = modelmap.plot_ibound()\n",
    "quadmesh = modelmap.plot_array(head, masked_values=[999.], alpha=0.5)\n",
    "modelmap.plot_bc(\"WEL\")\n",
    "linecollection = modelmap.plot_grid()\n",
    "contour_set = modelmap.contour_array(head, masked_values=[999.], levels=levels)\n",
    "\n"
   ]
  },
  {
   "cell_type": "code",
   "execution_count": 241,
   "metadata": {
    "collapsed": false
   },
   "outputs": [
    {
     "name": "stdout",
     "output_type": "stream",
     "text": [
      "[[  2.00635083e-02  -1.93196083e-05  -1.25183319e-23  -1.55996350e-19]\n",
      " [  4.84333113e-02  -4.66344354e-05  -2.11402189e-22  -1.75281309e-18]\n",
      " [  8.85482132e-02  -8.52514058e-05  -2.17852757e-21  -1.22614984e-17]\n",
      " [  1.45270675e-01  -1.39843425e-04  -1.78546661e-20  -6.91092593e-17]\n",
      " [  2.25476235e-01  -2.17011780e-04  -1.28566434e-19  -3.45216086e-16]\n",
      " [  3.38886917e-01  -3.26078385e-04  -8.54631377e-19  -1.60137646e-15]\n",
      " [  4.99249607e-01  -4.80199786e-04  -5.39354350e-18  -7.08140423e-15]\n",
      " [  7.26002455e-01  -6.97930169e-04  -3.28720351e-17  -3.03285127e-14]\n",
      " [  1.04663098e+00  -1.00540731e-03  -1.95589384e-16  -1.27069335e-13]\n",
      " [  1.49999976e+00  -1.43939466e-03  -1.14415135e-15  -5.24207414e-13]]\n"
     ]
    }
   ],
   "source": [
    "# *remember you have to subtract 1 from the original numbers for python*\n",
    "#well 1 (28, 32)\n",
    "idx1 = (0, 27, 31) #(nlay, nrow, ncol)\n",
    "\n",
    "#well 2 (29, 35)\n",
    "idx2 = (0, 28, 34)\n",
    "\n",
    "#well 3 (31, 32)\n",
    "idx3 = (0, 30, 31)\n",
    "\n",
    "ts = headobj.get_ts([idx1, idx2, idx3])\n",
    "print(ts)"
   ]
  },
  {
   "cell_type": "code",
   "execution_count": 242,
   "metadata": {
    "collapsed": false
   },
   "outputs": [
    {
     "name": "stdout",
     "output_type": "stream",
     "text": [
      "[[  1.00000000e+00   1.70000000e-01   4.00000000e-02   0.00000000e+00]\n",
      " [  4.00000000e+00   2.60000000e-01   1.20000000e-01   1.00000000e-02]\n",
      " [  1.00000000e+01   3.30000000e-01   1.60000000e-01   2.00000000e-02]\n",
      " [  4.00000000e+01   4.80000000e-01   2.20000000e-01   8.00000000e-02]\n",
      " [  1.00000000e+02   5.70000000e-01   2.90000000e-01   1.40000000e-01]\n",
      " [  4.00000000e+02   7.90000000e-01   5.10000000e-01   3.00000000e-01]\n",
      " [  1.00000000e+03   9.90000000e-01   7.00000000e-01   5.00000000e-01]\n",
      " [  2.00000000e+03   1.19000000e+00   8.60000000e-01   6.80000000e-01]\n",
      " [  3.00000000e+03   1.33000000e+00   9.80000000e-01   7.80000000e-01]]\n"
     ]
    }
   ],
   "source": [
    "well_data=np.array(table2)\n",
    "print(well_data)"
   ]
  },
  {
   "cell_type": "code",
   "execution_count": 243,
   "metadata": {
    "collapsed": false
   },
   "outputs": [
    {
     "data": {
      "text/plain": [
       "(0, 1.4999998)"
      ]
     },
     "execution_count": 243,
     "metadata": {},
     "output_type": "execute_result"
    },
    {
     "data": {
      "image/png": "[encoded data removed]",
      "text/plain": [
       "<matplotlib.figure.Figure at 0x26a610ea278>"
      ]
     },
     "metadata": {},
     "output_type": "display_data"
    }
   ],
   "source": [
    "# Plot the drawdown versus time\n",
    "plt.subplot(1, 1, 1)\n",
    "ttl = 'Drawdown ({0},{1},{2})'.format(idx[0] + 1, idx[1] + 1, idx[2] + 1) #we are adding 1 to each part of idx to that it prints out the real values and not the code values\n",
    "plt.title(ttl) #prints/plots title\n",
    "plt.xlabel('time (days)') #labels the x-axis\n",
    "plt.ylabel('drawdown') #labels the y-axis\n",
    "#here we do \"0-ts...\" in order to show the drawdown of \n",
    "plt.plot(ts[:, 0], 0-ts[:, 1:]) #(x, y, color/type of line)\n",
    "plt.plot(well_data[:, 0]/1440, well_data[:, 1:])\n",
    "plt.xlim(0, ts[:, 0].max())\n",
    "#plt.ylim(0, (0-ts[:, 1:]).max())\n",
    "\n"
   ]
  },
  {
   "cell_type": "code",
   "execution_count": 244,
   "metadata": {
    "collapsed": false
   },
   "outputs": [
    {
     "data": {
      "image/png": "[encoded data removed]",
      "text/plain": [
       "<matplotlib.figure.Figure at 0x26a5fcbd588>"
      ]
     },
     "metadata": {},
     "output_type": "display_data"
    }
   ],
   "source": [
    "#create the index for the wells -> Time (min)\n",
    "wells=table2.set_index(['Time (min)'])\n",
    "wells.plot(color='k')\n",
    "#plt.contour(wells)\n",
    "plt.show()\n",
    "\n"
   ]
  },
  {
   "cell_type": "code",
   "execution_count": 91,
   "metadata": {
    "collapsed": false
   },
   "outputs": [
    {
     "data": {
      "text/plain": [
       "<a list of 0 text.Text objects>"
      ]
     },
     "execution_count": 91,
     "metadata": {},
     "output_type": "execute_result"
    },
    {
     "data": {
      "image/png": "[encoded data removed]",
      "text/plain": [
       "<matplotlib.figure.Figure at 0x26a5f8374e0>"
      ]
     },
     "metadata": {},
     "output_type": "display_data"
    }
   ],
   "source": [
    "fig = plt.figure(figsize=(10, 10))\n",
    "ax = fig.add_subplot(1, 1, 1, aspect='equal')\n",
    "modelmap = flopy.plot.ModelMap(model=mf)\n",
    "quadmesh = modelmap.plot_ibound()\n",
    "linecollection = modelmap.plot_grid()\n",
    "#riv = modelmap.plot_bc('RIV', color='b', plotAll=True)\n",
    "quadmesh = modelmap.plot_bc('WEL', kper=1, plotAll=True)\n",
    "contour_set = modelmap.contour_array(head, levels=np.arange(0, 36, 1), colors='g')\n",
    "plt.clabel(contour_set, inline=1, fontsize=14)"
   ]
  },
  {
   "cell_type": "code",
   "execution_count": 47,
   "metadata": {
    "collapsed": false
   },
   "outputs": [
    {
     "ename": "Exception",
     "evalue": "The specified text string is not in the budget file.",
     "output_type": "error",
     "traceback": [
      "\u001b[0;31m---------------------------------------------------------------------------\u001b[0m",
      "\u001b[0;31mException\u001b[0m                                 Traceback (most recent call last)",
      "\u001b[0;32m<ipython-input-47-fb008996d07a>\u001b[0m in \u001b[0;36m<module>\u001b[0;34m()\u001b[0m\n\u001b[1;32m      4\u001b[0m \u001b[0mfff\u001b[0m \u001b[1;33m=\u001b[0m \u001b[0mcbb\u001b[0m\u001b[1;33m.\u001b[0m\u001b[0mget_data\u001b[0m\u001b[1;33m(\u001b[0m\u001b[0mtext\u001b[0m\u001b[1;33m=\u001b[0m\u001b[1;34m'FLOW FRONT FACE'\u001b[0m\u001b[1;33m)\u001b[0m\u001b[1;33m\u001b[0m\u001b[0m\n\u001b[1;32m      5\u001b[0m \u001b[1;33m\u001b[0m\u001b[0m\n\u001b[0;32m----> 6\u001b[0;31m \u001b[0mrflow\u001b[0m \u001b[1;33m=\u001b[0m \u001b[0mcbb\u001b[0m\u001b[1;33m.\u001b[0m\u001b[0mget_data\u001b[0m\u001b[1;33m(\u001b[0m\u001b[0mtext\u001b[0m\u001b[1;33m=\u001b[0m\u001b[1;34m'RIVER LEAKAGE'\u001b[0m\u001b[1;33m)\u001b[0m \u001b[1;31m#create an array/for loop to get out first value of every step\u001b[0m\u001b[1;33m\u001b[0m\u001b[0m\n\u001b[0m\u001b[1;32m      7\u001b[0m \u001b[1;31m#cbb.list_records()\u001b[0m\u001b[1;33m\u001b[0m\u001b[1;33m\u001b[0m\u001b[0m\n\u001b[1;32m      8\u001b[0m \u001b[1;33m\u001b[0m\u001b[0m\n",
      "\u001b[0;32mC:\\Users\\Jordan\\Anaconda3\\lib\\site-packages\\flopy\\utils\\binaryfile.py\u001b[0m in \u001b[0;36mget_data\u001b[0;34m(self, idx, kstpkper, totim, text, paknam, full3D)\u001b[0m\n\u001b[1;32m    971\u001b[0m         \u001b[0mtext16\u001b[0m \u001b[1;33m=\u001b[0m \u001b[1;32mNone\u001b[0m\u001b[1;33m\u001b[0m\u001b[0m\n\u001b[1;32m    972\u001b[0m         \u001b[1;32mif\u001b[0m \u001b[0mtext\u001b[0m \u001b[1;32mis\u001b[0m \u001b[1;32mnot\u001b[0m \u001b[1;32mNone\u001b[0m\u001b[1;33m:\u001b[0m\u001b[1;33m\u001b[0m\u001b[0m\n\u001b[0;32m--> 973\u001b[0;31m             \u001b[0mtext16\u001b[0m \u001b[1;33m=\u001b[0m \u001b[0mself\u001b[0m\u001b[1;33m.\u001b[0m\u001b[0m_find_text\u001b[0m\u001b[1;33m(\u001b[0m\u001b[0mtext\u001b[0m\u001b[1;33m)\u001b[0m\u001b[1;33m\u001b[0m\u001b[0m\n\u001b[0m\u001b[1;32m    974\u001b[0m         \u001b[0mpaknam16\u001b[0m \u001b[1;33m=\u001b[0m \u001b[1;32mNone\u001b[0m\u001b[1;33m\u001b[0m\u001b[0m\n\u001b[1;32m    975\u001b[0m         \u001b[1;32mif\u001b[0m \u001b[0mpaknam\u001b[0m \u001b[1;32mis\u001b[0m \u001b[1;32mnot\u001b[0m \u001b[1;32mNone\u001b[0m\u001b[1;33m:\u001b[0m\u001b[1;33m\u001b[0m\u001b[0m\n",
      "\u001b[0;32mC:\\Users\\Jordan\\Anaconda3\\lib\\site-packages\\flopy\\utils\\binaryfile.py\u001b[0m in \u001b[0;36m_find_text\u001b[0;34m(self, text)\u001b[0m\n\u001b[1;32m    787\u001b[0m             \u001b[1;32mif\u001b[0m \u001b[0mtext16\u001b[0m \u001b[1;32mis\u001b[0m \u001b[1;32mNone\u001b[0m\u001b[1;33m:\u001b[0m\u001b[1;33m\u001b[0m\u001b[0m\n\u001b[1;32m    788\u001b[0m                 \u001b[0merrmsg\u001b[0m \u001b[1;33m=\u001b[0m \u001b[1;34m'The specified text string is not in the budget file.'\u001b[0m\u001b[1;33m\u001b[0m\u001b[0m\n\u001b[0;32m--> 789\u001b[0;31m                 \u001b[1;32mraise\u001b[0m \u001b[0mException\u001b[0m\u001b[1;33m(\u001b[0m\u001b[0merrmsg\u001b[0m\u001b[1;33m)\u001b[0m\u001b[1;33m\u001b[0m\u001b[0m\n\u001b[0m\u001b[1;32m    790\u001b[0m         \u001b[1;32mreturn\u001b[0m \u001b[0mtext16\u001b[0m\u001b[1;33m\u001b[0m\u001b[0m\n\u001b[1;32m    791\u001b[0m \u001b[1;33m\u001b[0m\u001b[0m\n",
      "\u001b[0;31mException\u001b[0m: The specified text string is not in the budget file."
     ]
    }
   ],
   "source": [
    "fname = os.path.join(model_ws, 'p19.cbc')\n",
    "cbb = flopy.utils.CellBudgetFile(fname)\n",
    "frf = cbb.get_data(text='FLOW RIGHT FACE')\n",
    "fff = cbb.get_data(text='FLOW FRONT FACE')\n",
    "\n",
    "rflow = cbb.get_data(text='RIVER LEAKAGE') #create an array/for loop to get out first value of every step\n",
    "#cbb.list_records()\n",
    "\n",
    "#create new list\n",
    "rlist=[]\n",
    "\n",
    "#create for loop to store only the first value of each time step from riv_flow into riv_list\n",
    "for riv in rflow:\n",
    "    rlist.append(riv['q'][0])\n",
    "    \n",
    "print(rlist)"
   ]
  },
  {
   "cell_type": "code",
   "execution_count": 180,
   "metadata": {
    "collapsed": false,
    "scrolled": true
   },
   "outputs": [
    {
     "data": {
      "text/plain": [
       "<matplotlib.collections.QuadMesh at 0x26a60d81550>"
      ]
     },
     "execution_count": 180,
     "metadata": {},
     "output_type": "execute_result"
    },
    {
     "data": {
      "image/png": "[encoded data removed]",
      "text/plain": [
       "<matplotlib.figure.Figure at 0x26a61031518>"
      ]
     },
     "metadata": {},
     "output_type": "display_data"
    }
   ],
   "source": [
    "#create grid using model map\n",
    "mm=flopy.plot.ModelMap(model=mf)\n",
    "mm.plot_grid()\n",
    "mm.plot_bc('WEL')"
   ]
  },
  {
   "cell_type": "code",
   "execution_count": 30,
   "metadata": {
    "collapsed": false
   },
   "outputs": [
    {
     "ename": "AttributeError",
     "evalue": "'list' object has no attribute 'shape'",
     "output_type": "error",
     "traceback": [
      "\u001b[0;31m---------------------------------------------------------------------------\u001b[0m",
      "\u001b[0;31mAttributeError\u001b[0m                            Traceback (most recent call last)",
      "\u001b[0;32m<ipython-input-30-1968f34f1f71>\u001b[0m in \u001b[0;36m<module>\u001b[0;34m()\u001b[0m\n\u001b[1;32m      6\u001b[0m \u001b[0mmodelmap\u001b[0m\u001b[1;33m.\u001b[0m\u001b[0mplot_bc\u001b[0m\u001b[1;33m(\u001b[0m\u001b[1;34m\"WEL\"\u001b[0m\u001b[1;33m)\u001b[0m\u001b[1;33m\u001b[0m\u001b[0m\n\u001b[1;32m      7\u001b[0m \u001b[0mquadmesh\u001b[0m \u001b[1;33m=\u001b[0m \u001b[0mmodelmap\u001b[0m\u001b[1;33m.\u001b[0m\u001b[0mplot_ibound\u001b[0m\u001b[1;33m(\u001b[0m\u001b[1;33m)\u001b[0m\u001b[1;33m\u001b[0m\u001b[0m\n\u001b[0;32m----> 8\u001b[0;31m \u001b[0mquiver\u001b[0m \u001b[1;33m=\u001b[0m \u001b[0mmodelmap\u001b[0m\u001b[1;33m.\u001b[0m\u001b[0mplot_discharge\u001b[0m\u001b[1;33m(\u001b[0m\u001b[0mfrf\u001b[0m\u001b[1;33m,\u001b[0m \u001b[0mfff\u001b[0m\u001b[1;33m,\u001b[0m \u001b[0mcolor\u001b[0m\u001b[1;33m=\u001b[0m\u001b[1;34m'b'\u001b[0m\u001b[1;33m)\u001b[0m\u001b[1;33m\u001b[0m\u001b[0m\n\u001b[0m\u001b[1;32m      9\u001b[0m \u001b[0mlinecollection\u001b[0m \u001b[1;33m=\u001b[0m \u001b[0mmodelmap\u001b[0m\u001b[1;33m.\u001b[0m\u001b[0mplot_grid\u001b[0m\u001b[1;33m(\u001b[0m\u001b[1;33m)\u001b[0m\u001b[1;33m\u001b[0m\u001b[0m\n",
      "\u001b[0;32mC:\\Users\\Jordan\\Anaconda3\\lib\\site-packages\\flopy\\plot\\map.py\u001b[0m in \u001b[0;36mplot_discharge\u001b[0;34m(self, frf, fff, dis, flf, head, istep, jstep, normalize, **kwargs)\u001b[0m\n\u001b[1;32m    577\u001b[0m         \u001b[1;31m# Calculate specific discharge\u001b[0m\u001b[1;33m\u001b[0m\u001b[1;33m\u001b[0m\u001b[0m\n\u001b[1;32m    578\u001b[0m         qx, qy, qz = plotutil.centered_specific_discharge(frf, fff, flf, delr,\n\u001b[0;32m--> 579\u001b[0;31m                                                           delc, sat_thk)\n\u001b[0m\u001b[1;32m    580\u001b[0m \u001b[1;33m\u001b[0m\u001b[0m\n\u001b[1;32m    581\u001b[0m         \u001b[1;31m# Select correct slice\u001b[0m\u001b[1;33m\u001b[0m\u001b[1;33m\u001b[0m\u001b[0m\n",
      "\u001b[0;32mC:\\Users\\Jordan\\Anaconda3\\lib\\site-packages\\flopy\\plot\\plotutil.py\u001b[0m in \u001b[0;36mcentered_specific_discharge\u001b[0;34m(Qx, Qy, Qz, delr, delc, sat_thk)\u001b[0m\n\u001b[1;32m   1165\u001b[0m     \u001b[1;32mif\u001b[0m \u001b[0mQx\u001b[0m \u001b[1;32mis\u001b[0m \u001b[1;32mnot\u001b[0m \u001b[1;32mNone\u001b[0m\u001b[1;33m:\u001b[0m\u001b[1;33m\u001b[0m\u001b[0m\n\u001b[1;32m   1166\u001b[0m \u001b[1;33m\u001b[0m\u001b[0m\n\u001b[0;32m-> 1167\u001b[0;31m         \u001b[0mnlay\u001b[0m\u001b[1;33m,\u001b[0m \u001b[0mnrow\u001b[0m\u001b[1;33m,\u001b[0m \u001b[0mncol\u001b[0m \u001b[1;33m=\u001b[0m \u001b[0mQx\u001b[0m\u001b[1;33m.\u001b[0m\u001b[0mshape\u001b[0m\u001b[1;33m\u001b[0m\u001b[0m\n\u001b[0m\u001b[1;32m   1168\u001b[0m         \u001b[0mqx\u001b[0m \u001b[1;33m=\u001b[0m \u001b[0mnp\u001b[0m\u001b[1;33m.\u001b[0m\u001b[0mzeros\u001b[0m\u001b[1;33m(\u001b[0m\u001b[0mQx\u001b[0m\u001b[1;33m.\u001b[0m\u001b[0mshape\u001b[0m\u001b[1;33m,\u001b[0m \u001b[0mdtype\u001b[0m\u001b[1;33m=\u001b[0m\u001b[0mQx\u001b[0m\u001b[1;33m.\u001b[0m\u001b[0mdtype\u001b[0m\u001b[1;33m)\u001b[0m\u001b[1;33m\u001b[0m\u001b[0m\n\u001b[1;32m   1169\u001b[0m \u001b[1;33m\u001b[0m\u001b[0m\n",
      "\u001b[0;31mAttributeError\u001b[0m: 'list' object has no attribute 'shape'"
     ]
    },
    {
     "data": {
      "image/png": "[encoded data removed]",
      "text/plain": [
       "<matplotlib.figure.Figure at 0x26a5e8ddb70>"
      ]
     },
     "metadata": {},
     "output_type": "display_data"
    }
   ],
   "source": [
    "#plot arrows (quivers) that point in the direction of water flowb\n",
    "fig = plt.figure(figsize=(10, 10))\n",
    "ax = fig.add_subplot(1, 1, 1, aspect='equal')\n",
    "\n",
    "modelmap = flopy.plot.ModelMap(model=mf)\n",
    "modelmap.plot_bc(\"WEL\")\n",
    "quadmesh = modelmap.plot_ibound()\n",
    "quiver = modelmap.plot_discharge(frf, fff, color='b')\n",
    "linecollection = modelmap.plot_grid()"
   ]
  },
  {
   "cell_type": "code",
   "execution_count": 137,
   "metadata": {
    "collapsed": false
   },
   "outputs": [
    {
     "data": {
      "text/plain": [
       "array([[[ 0.868595  ,  0.86857259,  0.86852735, ...,  0.86211669,\n",
       "          0.86213088,  0.86213809],\n",
       "        [ 0.86857772,  0.86855513,  0.86850965, ...,  0.86208355,\n",
       "          0.8620981 ,  0.86210549],\n",
       "        [ 0.86854368,  0.8685208 ,  0.86847484, ...,  0.86201733,\n",
       "          0.86203277,  0.86204058],\n",
       "        ..., \n",
       "        [ 0.86353415,  0.86348706,  0.86339289, ...,  0.8533935 ,\n",
       "          0.85347909,  0.8535223 ],\n",
       "        [ 0.86351991,  0.863473  ,  0.86337912, ...,  0.85339165,\n",
       "          0.85347557,  0.85351801],\n",
       "        [ 0.86351287,  0.86346602,  0.86337239, ...,  0.85339069,\n",
       "          0.85347384,  0.8535158 ]]], dtype=float32)"
      ]
     },
     "execution_count": 137,
     "metadata": {},
     "output_type": "execute_result"
    }
   ],
   "source": [
    "head"
   ]
  },
  {
   "cell_type": "code",
   "execution_count": null,
   "metadata": {
    "collapsed": true
   },
   "outputs": [],
   "source": []
  }
 ],
 "metadata": {
  "kernelspec": {
   "display_name": "Python 3",
   "language": "python",
   "name": "python3"
  },
  "language_info": {
   "codemirror_mode": {
    "name": "ipython",
    "version": 3
   },
   "file_extension": ".py",
   "mimetype": "text/x-python",
   "name": "python",
   "nbconvert_exporter": "python",
   "pygments_lexer": "ipython3",
   "version": "3.6.0"
  }
 },
 "nbformat": 4,
 "nbformat_minor": 2
}
