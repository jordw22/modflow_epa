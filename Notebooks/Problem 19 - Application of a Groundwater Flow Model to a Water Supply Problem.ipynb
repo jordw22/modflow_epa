{
 "cells": [
  {
   "cell_type": "markdown",
   "metadata": {},
   "source": [
    "# Problem 19: Application of a Groundwater Flow Model to a Water Supply Problem"
   ]
  },
  {
   "cell_type": "code",
   "execution_count": 79,
   "metadata": {
    "collapsed": true
   },
   "outputs": [],
   "source": [
    "#Import and modules/packages that we need to work with\n",
    "%matplotlib inline\n",
    "import os\n",
    "import sys\n",
    "import platform\n",
    "import numpy as np\n",
    "import matplotlib as mpl\n",
    "import matplotlib.pyplot as plt\n",
    "import pandas as pd\n",
    "import flopy"
   ]
  },
  {
   "cell_type": "code",
   "execution_count": 131,
   "metadata": {
    "collapsed": false
   },
   "outputs": [
    {
     "name": "stdout",
     "output_type": "stream",
     "text": [
      "-11123.422459893047\n"
     ]
    }
   ],
   "source": [
    "#Store the values of each parameter into separate variables\n",
    "inh = 0.0 #initial head\n",
    "hk = .3*86400 #hydraulic conductivity ft^2/day\n",
    "ss = 0.06 #storage coefficient\n",
    "delr = 100 #grid spacing (uniform)\n",
    "delc = delr\n",
    "pr = -.963/7.48*86400 #pumping rate ft^3/day\n",
    "perlen = 1.5 #stress period length in days\n",
    "nstp = 10 #number of time steps\n",
    "tsmult = 1.414 #time step multiplier\n",
    "it_par = 5 # iteration parameters\n",
    "mxiter = 50 #maximum number of iterations\n",
    "accel_par = 1.0 #acceleration parameter\n",
    "hclose = 0.001 #closure criterion (the head change criterion for convergence)\n",
    "top = 0\n",
    "botm = -1\n",
    "nper = 1\n",
    "laytyp = 0\n",
    "ipakcb = 50\n",
    "\n",
    "#grid 44 rows, 55 cols, 1 layer\n",
    "nlay = 1 #number of layers\n",
    "nrow = 44 #number of rows\n",
    "ncol = 55 #number of columns\n",
    "\n",
    "#riv package\n",
    "rstage = 0.0 #river stage\n",
    "rcond = 1728 #river conductance in ft^2/day\n",
    "rbot = -10 #river bottom\n",
    "\n",
    "print(pr)"
   ]
  },
  {
   "cell_type": "code",
   "execution_count": 132,
   "metadata": {
    "collapsed": true
   },
   "outputs": [],
   "source": [
    "#Flopy objects\n",
    "modelname = 'p19' #short for problem 19\n",
    "exe_name = '../MF2005.1_12/bin/mf2005.exe'\n",
    "model_ws = 'temp'\n",
    "mf = flopy.modflow.Modflow(modelname, exe_name=exe_name, model_ws = model_ws)"
   ]
  },
  {
   "cell_type": "code",
   "execution_count": 133,
   "metadata": {
    "collapsed": false
   },
   "outputs": [],
   "source": [
    "#call in the discretization package\n",
    "dis = flopy.modflow.ModflowDis(mf, nlay, nrow, ncol, delr=delr, delc=delc,\n",
    "                               top=top, botm=botm, nper=nper, perlen=perlen, \n",
    "                               nstp=nstp, tsmult=tsmult, steady=False)"
   ]
  },
  {
   "cell_type": "code",
   "execution_count": 134,
   "metadata": {
    "collapsed": false
   },
   "outputs": [],
   "source": [
    "#call in the basic package\n",
    "ibound = np.ones((nlay, nrow, ncol))\n",
    "strt = 0.0\n",
    "bas = flopy.modflow.ModflowBas(mf, ibound=ibound, strt=strt)"
   ]
  },
  {
   "cell_type": "code",
   "execution_count": 136,
   "metadata": {
    "collapsed": false,
    "scrolled": false
   },
   "outputs": [
    {
     "name": "stdout",
     "output_type": "stream",
     "text": [
      "True\n"
     ]
    },
    {
     "data": {
      "image/png": "[encoded data removed]",
      "text/plain": [
       "<matplotlib.figure.Figure at 0x2153b0b9fd0>"
      ]
     },
     "metadata": {},
     "output_type": "display_data"
    }
   ],
   "source": [
    "#call in the layer-propery flow (LPF)\n",
    "\n",
    "fname='..\\Data\\p19_trans.txt'\n",
    "print(os.path.isfile(fname))\n",
    "with open(fname) as f:\n",
    "    data = f.read().splitlines()\n",
    "    \n",
    "f.close()\n",
    "#print(data)\n",
    "\n",
    "ibound = []\n",
    "for s in data:\n",
    "    for value in s.strip().split(' '):\n",
    "        ibound.append(int(value))\n",
    "ibound = np.array(ibound)\n",
    "ibound = ibound.reshape((44, 55))\n",
    "plt.imshow(ibound)\n",
    "hk = np.empty((44, 55), dtype=np.float)\n",
    "hk[:, :] = ibound[:, :]\n",
    "\n",
    "hk1 = 67.\n",
    "hk2 = 99.\n",
    "hk4 = 9.\n",
    "\n",
    "hk = np.where(hk==1, hk1, hk)\n",
    "hk = np.where(hk==2, hk2, hk)\n",
    "hk = np.where(hk==4, hk4, hk)\n",
    "plt.imshow(hk)\n",
    "plt.colorbar()\n",
    "\n",
    "\n",
    "\n",
    "lpf = flopy.modflow.ModflowLpf(mf, hk=hk, ss=ss, laytyp=laytyp, ipakcb=ipakcb)\n"
   ]
  },
  {
   "cell_type": "code",
   "execution_count": 137,
   "metadata": {
    "collapsed": false
   },
   "outputs": [],
   "source": [
    "#call in the well package (WEL)\n",
    "# Remember to use zero-based layer, row, column indices!\n",
    "wel_sp1 = [[0, 27, 31, pr], [0, 27, 31, pr], [0, 28, 34, pr], [0, 30, 31, pr]]\n",
    "wel_spd = {0: wel_sp1}\n",
    "wel = flopy.modflow.ModflowWel(mf, stress_period_data=wel_spd)"
   ]
  },
  {
   "cell_type": "code",
   "execution_count": 138,
   "metadata": {
    "collapsed": false
   },
   "outputs": [],
   "source": [
    "#call in the preconditioned conjugate-gradient package (PCG) \n",
    "pcg = flopy.modflow.ModflowPcg(mf, mxiter=mxiter, hclose=hclose)\n"
   ]
  },
  {
   "cell_type": "code",
   "execution_count": 139,
   "metadata": {
    "collapsed": false
   },
   "outputs": [],
   "source": [
    "#call in the output control package (OC)\n",
    "oc = flopy.modflow.ModflowOc(mf, stress_period_data={(0, 0): ['save head', 'print budget', 'save budget']})\n"
   ]
  },
  {
   "cell_type": "code",
   "execution_count": 140,
   "metadata": {
    "collapsed": false
   },
   "outputs": [],
   "source": [
    "#call in the river package (RIV)\n",
    "#figure out how to change conductance from the package\n",
    "#riv_boundary = pd.read_csv('../Data/problem19_riv.csv')\n",
    "#print(riv_boundary)\n",
    "#riv = flopy.modflow.ModflowRiv(mf, ipakcb=ipakcb, filename='../Data/problem19_riv.csv')"
   ]
  },
  {
   "cell_type": "code",
   "execution_count": 141,
   "metadata": {
    "collapsed": false
   },
   "outputs": [
    {
     "name": "stdout",
     "output_type": "stream",
     "text": [
      "warning: assuming SpatialReference units are meters\n",
      "FloPy is using the following executable to run the model: ../MF2005.1_12/bin/mf2005.exe\n",
      "\n",
      "                                  MODFLOW-2005     \n",
      "    U.S. GEOLOGICAL SURVEY MODULAR FINITE-DIFFERENCE GROUND-WATER FLOW MODEL\n",
      "                             Version 1.12.00 2/3/2017                        \n",
      "\n",
      " Using NAME file: p19.nam \n",
      " Run start date and time (yyyy/mm/dd hh:mm:ss): 2017/07/13 16:14:30\n",
      "\n",
      " Solving:  Stress period:     1    Time step:     1    Ground-Water Flow Eqn.\n",
      " Solving:  Stress period:     1    Time step:     2    Ground-Water Flow Eqn.\n",
      " Solving:  Stress period:     1    Time step:     3    Ground-Water Flow Eqn.\n",
      " Solving:  Stress period:     1    Time step:     4    Ground-Water Flow Eqn.\n",
      " Solving:  Stress period:     1    Time step:     5    Ground-Water Flow Eqn.\n",
      " Solving:  Stress period:     1    Time step:     6    Ground-Water Flow Eqn.\n",
      " Solving:  Stress period:     1    Time step:     7    Ground-Water Flow Eqn.\n",
      " Solving:  Stress period:     1    Time step:     8    Ground-Water Flow Eqn.\n",
      " Solving:  Stress period:     1    Time step:     9    Ground-Water Flow Eqn.\n",
      " Solving:  Stress period:     1    Time step:    10    Ground-Water Flow Eqn.\n",
      " Run end date and time (yyyy/mm/dd hh:mm:ss): 2017/07/13 16:14:30\n",
      " Elapsed run time:  0.048 Seconds\n",
      "\n",
      "  Normal termination of simulation\n"
     ]
    }
   ],
   "source": [
    "# Write the MODFLOW model input files\n",
    "mf.write_input()\n",
    "\n",
    "# Run the MODFLOW model\n",
    "success, buff = mf.run_model()"
   ]
  },
  {
   "cell_type": "code",
   "execution_count": 142,
   "metadata": {
    "collapsed": false
   },
   "outputs": [
    {
     "name": "stdout",
     "output_type": "stream",
     "text": [
      "[0.020063508, 0.048433311, 0.088548213, 0.14527068, 0.22547624, 0.33888692, 0.49924961, 0.72600245, 1.046631, 1.4999998]\n",
      "[[  2.00635083e-02  -2.23379262e-04]\n",
      " [  4.84333113e-02  -9.84439510e-04]\n",
      " [  8.85482132e-02  -2.94671161e-03]\n",
      " [  1.45270675e-01  -7.48184370e-03]\n",
      " [  2.25476235e-01  -1.73828751e-02]\n",
      " [  3.38886917e-01  -3.82693857e-02]\n",
      " [  4.99249607e-01  -8.13264921e-02]\n",
      " [  7.26002455e-01  -1.68570966e-01]\n",
      " [  1.04663098e+00  -3.42788607e-01]\n",
      " [  1.49999976e+00  -6.85803533e-01]]\n"
     ]
    }
   ],
   "source": [
    "import flopy.utils.binaryfile as bf\n",
    "\n",
    "# Create the headfile object\n",
    "fname = os.path.join(model_ws, 'p19.hds') #\"os.path.join\" joins together the modelname and the .hds file and stores it in fname\n",
    "headobj = bf.HeadFile(fname) #create headobj and put values from fname (aka 'p1_pa.hds') inside it\n",
    "times = headobj.get_times() #assign the headobj values to the variable \"times\"\n",
    "print(times) #prints the time at each stress period\n",
    "\n",
    "#print hydraulic head (Table 14.2)\n",
    "idx = (0, 28, 31) #(nlay, nrow, ncol) *remember you have to subtract 1 from the original numbers for python - (1, 10, 12)*\n",
    "ts = headobj.get_ts([idx])\n",
    "print(ts)"
   ]
  },
  {
   "cell_type": "code",
   "execution_count": 143,
   "metadata": {
    "collapsed": false
   },
   "outputs": [
    {
     "data": {
      "text/plain": [
       "(0, 0.68580353)"
      ]
     },
     "execution_count": 143,
     "metadata": {},
     "output_type": "execute_result"
    },
    {
     "data": {
      "image/png": "[encoded data removed]",
      "text/plain": [
       "<matplotlib.figure.Figure at 0x2153ad47320>"
      ]
     },
     "metadata": {},
     "output_type": "display_data"
    }
   ],
   "source": [
    "# Plot the drawdown versus time\n",
    "plt.subplot(1, 1, 1)\n",
    "ttl = 'Drawdown at cell ({0},{1},{2})'.format(idx[0] + 1, idx[1] + 1, idx[2] + 1) #we are adding 1 to each part of idx to that it prints out the real values and not the code values\n",
    "plt.title(ttl) #prints/plots title\n",
    "plt.xlabel('time (days)') #labels the x-axis\n",
    "plt.ylabel('drawdown') #labels the y-axis\n",
    "#here we do \"0-ts...\" in order to show the drawdown of \n",
    "plt.plot(ts[:, 0], 0-ts[:, 1], 'bo-') #(x, y, color/type of line)\n",
    "plt.xlim(0, ts[:, 0].max())\n",
    "plt.ylim(0, (0-ts[:, 1]).max())"
   ]
  },
  {
   "cell_type": "code",
   "execution_count": 144,
   "metadata": {
    "collapsed": false
   },
   "outputs": [
    {
     "data": {
      "text/plain": [
       "(-0.68580353, -0.00022337926)"
      ]
     },
     "execution_count": 144,
     "metadata": {},
     "output_type": "execute_result"
    },
    {
     "data": {
      "image/png": "[encoded data removed]",
      "text/plain": [
       "<matplotlib.figure.Figure at 0x2153ae37668>"
      ]
     },
     "metadata": {},
     "output_type": "display_data"
    }
   ],
   "source": [
    "# Plot the head versus time\n",
    "plt.subplot(1, 1, 1)\n",
    "ttl = 'Head at cell ({0},{1},{2})'.format(idx[0] + 1, idx[1] + 1, idx[2] + 1)\n",
    "plt.title(ttl)\n",
    "plt.xlabel('time (days)')\n",
    "plt.ylabel('head (ft)')\n",
    "plt.plot(ts[:, 0], ts[:, 1], 'ro-')\n",
    "plt.xlim(0, ts[:, 0].max())\n",
    "plt.ylim(ts[:, 1].min(), ts[:, 1].max())"
   ]
  },
  {
   "cell_type": "code",
   "execution_count": 145,
   "metadata": {
    "collapsed": false
   },
   "outputs": [
    {
     "name": "stdout",
     "output_type": "stream",
     "text": [
      "   Time (min)  Observation Well 1  Observation Well 2  Observation Well 3\n",
      "0           1                0.17                0.04                0.00\n",
      "1           4                0.26                0.12                0.01\n",
      "2          10                0.33                0.16                0.02\n",
      "3          40                0.48                0.22                0.08\n",
      "4         100                0.57                0.29                0.14\n",
      "5         400                0.79                0.51                0.30\n",
      "6        1000                0.99                0.70                0.50\n",
      "7        2000                1.19                0.86                0.68\n",
      "8        3000                1.33                0.98                0.78\n",
      "   Time (min)  Observation Well 1\n",
      "0           1                0.17\n",
      "1           4                0.26\n",
      "2          10                0.33\n",
      "3          40                0.48\n",
      "4         100                0.57\n",
      "5         400                0.79\n",
      "6        1000                0.99\n",
      "7        2000                1.19\n",
      "8        3000                1.33\n",
      "   Time (min)  Observation Well 2\n",
      "0           1                0.04\n",
      "1           4                0.12\n",
      "2          10                0.16\n",
      "3          40                0.22\n",
      "4         100                0.29\n",
      "5         400                0.51\n",
      "6        1000                0.70\n",
      "7        2000                0.86\n",
      "8        3000                0.98\n",
      "   Time (min)  Observation Well 3\n",
      "0           1                0.00\n",
      "1           4                0.01\n",
      "2          10                0.02\n",
      "3          40                0.08\n",
      "4         100                0.14\n",
      "5         400                0.30\n",
      "6        1000                0.50\n",
      "7        2000                0.68\n",
      "8        3000                0.78\n"
     ]
    }
   ],
   "source": [
    "#create different variables for each well so that you can plot them\n",
    "table2 = pd.read_csv('../Data/table19.2.csv')\n",
    "print(table2)\n",
    "\n",
    "well1=table2.ix[0:, ['Time (min)', 'Observation Well 1']]\n",
    "print(well1)\n",
    "\n",
    "well2=table2.ix[0:, ['Time (min)', 'Observation Well 2']]\n",
    "print(well2)\n",
    "\n",
    "well3=table2.ix[0:, ['Time (min)', 'Observation Well 3']]\n",
    "print(well3)"
   ]
  },
  {
   "cell_type": "code",
   "execution_count": 146,
   "metadata": {
    "collapsed": false,
    "scrolled": false
   },
   "outputs": [
    {
     "data": {
      "image/png": "[encoded data removed]",
      "text/plain": [
       "<matplotlib.figure.Figure at 0x2153b0996d8>"
      ]
     },
     "metadata": {},
     "output_type": "display_data"
    }
   ],
   "source": [
    "fname = os.path.join(modelname, 'p19.cbc')\n",
    "head = headobj.get_data(totim=times[-1])\n",
    "levels = np.linspace(head.min(), head.max(), 10)\n",
    "\n",
    "fig = plt.figure(figsize=(10, 10))\n",
    "\n",
    "#plot_array\n",
    "ax = fig.add_subplot(1, 2, 1, aspect='equal')\n",
    "ax.set_title('contour_array()')\n",
    "modelmap = flopy.plot.ModelMap(model=mf)\n",
    "quadmesh = modelmap.plot_ibound()\n",
    "quadmesh = modelmap.plot_array(head, masked_values=[999.], alpha=0.5)\n",
    "modelmap.plot_bc(\"WEL\")\n",
    "#modelmap.plot_bc(\"RIV\", color='m')\n",
    "linecollection = modelmap.plot_grid()\n",
    "contour_set = modelmap.contour_array(head, masked_values=[999.], levels=levels)\n",
    "\n"
   ]
  },
  {
   "cell_type": "markdown",
   "metadata": {},
   "source": [
    "### Model Data"
   ]
  },
  {
   "cell_type": "code",
   "execution_count": 147,
   "metadata": {
    "collapsed": false
   },
   "outputs": [
    {
     "name": "stdout",
     "output_type": "stream",
     "text": [
      "[[  2.00635083e-02  -7.43022084e-01  -3.71511042e-01  -3.71511042e-01]\n",
      " [  4.84333113e-02  -1.79187119e+00  -8.95935595e-01  -8.95935595e-01]\n",
      " [  8.85482132e-02  -3.27138758e+00  -1.63569391e+00  -1.63569391e+00]\n",
      " [  1.45270675e-01  -5.35634279e+00  -2.67817187e+00  -2.67817187e+00]\n",
      " [  2.25476235e-01  -8.29039860e+00  -4.14519978e+00  -4.14519978e+00]\n",
      " [  3.38886917e-01  -1.24112539e+01  -6.20562744e+00  -6.20562792e+00]\n",
      " [  4.99249607e-01  -1.81830235e+01  -9.09151173e+00  -9.09151268e+00]\n",
      " [  7.26002455e-01  -2.62359276e+01  -1.31179638e+01  -1.31179667e+01]\n",
      " [  1.04663098e+00  -3.74110909e+01  -1.87055435e+01  -1.87055569e+01]\n",
      " [  1.49999976e+00  -5.28033562e+01  -2.64016666e+01  -2.64017220e+01]]\n"
     ]
    }
   ],
   "source": [
    "# *remember you have to subtract 1 from the original numbers for python*\n",
    "#well 1 (28, 32)\n",
    "idx1 = (0, 27, 31) #(nlay, nrow, ncol)\n",
    "\n",
    "#well 2 (29, 35)\n",
    "idx2 = (0, 28, 34)\n",
    "\n",
    "#well 3 (31, 32)\n",
    "idx3 = (0, 30, 31)\n",
    "\n",
    "ts = headobj.get_ts([idx1, idx2, idx3])\n",
    "print(ts)\n",
    "#prints out time, and the rate of drawdown at well 1, well 2, and well 3"
   ]
  },
  {
   "cell_type": "markdown",
   "metadata": {},
   "source": [
    "### Measured Data"
   ]
  },
  {
   "cell_type": "code",
   "execution_count": 148,
   "metadata": {
    "collapsed": false
   },
   "outputs": [
    {
     "name": "stdout",
     "output_type": "stream",
     "text": [
      "[[  1.00000000e+00   1.70000000e-01   4.00000000e-02   0.00000000e+00]\n",
      " [  4.00000000e+00   2.60000000e-01   1.20000000e-01   1.00000000e-02]\n",
      " [  1.00000000e+01   3.30000000e-01   1.60000000e-01   2.00000000e-02]\n",
      " [  4.00000000e+01   4.80000000e-01   2.20000000e-01   8.00000000e-02]\n",
      " [  1.00000000e+02   5.70000000e-01   2.90000000e-01   1.40000000e-01]\n",
      " [  4.00000000e+02   7.90000000e-01   5.10000000e-01   3.00000000e-01]\n",
      " [  1.00000000e+03   9.90000000e-01   7.00000000e-01   5.00000000e-01]\n",
      " [  2.00000000e+03   1.19000000e+00   8.60000000e-01   6.80000000e-01]\n",
      " [  3.00000000e+03   1.33000000e+00   9.80000000e-01   7.80000000e-01]]\n"
     ]
    }
   ],
   "source": [
    "well_data=np.array(table2)\n",
    "print(well_data)"
   ]
  },
  {
   "cell_type": "code",
   "execution_count": 149,
   "metadata": {
    "collapsed": false
   },
   "outputs": [
    {
     "name": "stdout",
     "output_type": "stream",
     "text": [
      "[[  6.94444444e-04   1.70000000e-01   4.00000000e-02   0.00000000e+00]\n",
      " [  2.77777778e-03   2.60000000e-01   1.20000000e-01   1.00000000e-02]\n",
      " [  6.94444444e-03   3.30000000e-01   1.60000000e-01   2.00000000e-02]\n",
      " [  2.77777778e-02   4.80000000e-01   2.20000000e-01   8.00000000e-02]\n",
      " [  6.94444444e-02   5.70000000e-01   2.90000000e-01   1.40000000e-01]\n",
      " [  2.77777778e-01   7.90000000e-01   5.10000000e-01   3.00000000e-01]\n",
      " [  6.94444444e-01   9.90000000e-01   7.00000000e-01   5.00000000e-01]\n",
      " [  1.38888889e+00   1.19000000e+00   8.60000000e-01   6.80000000e-01]\n",
      " [  2.08333333e+00   1.33000000e+00   9.80000000e-01   7.80000000e-01]]\n"
     ]
    }
   ],
   "source": [
    "well_data2=well_data.copy()\n",
    "well_data2[:, 0]=well_data2[:, 0]/1440\n",
    "print(well_data2)"
   ]
  },
  {
   "cell_type": "code",
   "execution_count": 150,
   "metadata": {
    "collapsed": false
   },
   "outputs": [
    {
     "data": {
      "text/plain": [
       "(0, 1.4999998)"
      ]
     },
     "execution_count": 150,
     "metadata": {},
     "output_type": "execute_result"
    },
    {
     "data": {
      "image/png": "[encoded data removed]",
      "text/plain": [
       "<matplotlib.figure.Figure at 0x2153b3a7978>"
      ]
     },
     "metadata": {},
     "output_type": "display_data"
    }
   ],
   "source": [
    "# Plot the drawdown versus time\n",
    "plt.subplot(1, 1, 1)\n",
    "ttl = 'Drawdown ({0},{1},{2})'.format(idx[0] + 1, idx[1] + 1, idx[2] + 1) #we are adding 1 to each part of idx to that it prints out the real values and not the code values\n",
    "plt.title(ttl) #prints/plots title\n",
    "plt.xlabel('time (days)') #labels the x-axis\n",
    "plt.ylabel('drawdown') #labels the y-axis\n",
    "#here we do \"0-ts...\" in order to show the drawdown of \n",
    "plt.plot(ts[:, 0], 0-ts[:, 1:]) #(x, y, color/type of line)\n",
    "plt.plot(well_data2[:, 0], well_data2[:, 1:])\n",
    "plt.xlim(0, ts[:, 0].max())\n",
    "#plt.ylim(0, (0-ts[:, 1:]).max())\n",
    "\n"
   ]
  },
  {
   "cell_type": "code",
   "execution_count": 106,
   "metadata": {
    "collapsed": false
   },
   "outputs": [
    {
     "data": {
      "text/plain": [
       "<a list of 0 text.Text objects>"
      ]
     },
     "execution_count": 106,
     "metadata": {},
     "output_type": "execute_result"
    },
    {
     "data": {
      "image/png": "[encoded data removed]",
      "text/plain": [
       "<matplotlib.figure.Figure at 0x2153b216278>"
      ]
     },
     "metadata": {},
     "output_type": "display_data"
    }
   ],
   "source": [
    "fig = plt.figure(figsize=(10, 10))\n",
    "ax = fig.add_subplot(1, 1, 1, aspect='equal')\n",
    "modelmap = flopy.plot.ModelMap(model=mf)\n",
    "quadmesh = modelmap.plot_ibound()\n",
    "linecollection = modelmap.plot_grid()\n",
    "#riv = modelmap.plot_bc('RIV', color='b', plotAll=True)\n",
    "quadmesh = modelmap.plot_bc('WEL', kper=1, plotAll=True)\n",
    "contour_set = modelmap.contour_array(head, levels=np.arange(0, 36, 1), colors='g')\n",
    "plt.clabel(contour_set, inline=1, fontsize=14)"
   ]
  },
  {
   "cell_type": "code",
   "execution_count": 107,
   "metadata": {
    "collapsed": false
   },
   "outputs": [
    {
     "ename": "Exception",
     "evalue": "The specified text string is not in the budget file.",
     "output_type": "error",
     "traceback": [
      "\u001b[0;31m---------------------------------------------------------------------------\u001b[0m",
      "\u001b[0;31mException\u001b[0m                                 Traceback (most recent call last)",
      "\u001b[0;32m<ipython-input-107-fb008996d07a>\u001b[0m in \u001b[0;36m<module>\u001b[0;34m()\u001b[0m\n\u001b[1;32m      4\u001b[0m \u001b[0mfff\u001b[0m \u001b[1;33m=\u001b[0m \u001b[0mcbb\u001b[0m\u001b[1;33m.\u001b[0m\u001b[0mget_data\u001b[0m\u001b[1;33m(\u001b[0m\u001b[0mtext\u001b[0m\u001b[1;33m=\u001b[0m\u001b[1;34m'FLOW FRONT FACE'\u001b[0m\u001b[1;33m)\u001b[0m\u001b[1;33m\u001b[0m\u001b[0m\n\u001b[1;32m      5\u001b[0m \u001b[1;33m\u001b[0m\u001b[0m\n\u001b[0;32m----> 6\u001b[0;31m \u001b[0mrflow\u001b[0m \u001b[1;33m=\u001b[0m \u001b[0mcbb\u001b[0m\u001b[1;33m.\u001b[0m\u001b[0mget_data\u001b[0m\u001b[1;33m(\u001b[0m\u001b[0mtext\u001b[0m\u001b[1;33m=\u001b[0m\u001b[1;34m'RIVER LEAKAGE'\u001b[0m\u001b[1;33m)\u001b[0m \u001b[1;31m#create an array/for loop to get out first value of every step\u001b[0m\u001b[1;33m\u001b[0m\u001b[0m\n\u001b[0m\u001b[1;32m      7\u001b[0m \u001b[1;31m#cbb.list_records()\u001b[0m\u001b[1;33m\u001b[0m\u001b[1;33m\u001b[0m\u001b[0m\n\u001b[1;32m      8\u001b[0m \u001b[1;33m\u001b[0m\u001b[0m\n",
      "\u001b[0;32mC:\\Users\\Jordan\\Anaconda3\\lib\\site-packages\\flopy\\utils\\binaryfile.py\u001b[0m in \u001b[0;36mget_data\u001b[0;34m(self, idx, kstpkper, totim, text, paknam, full3D)\u001b[0m\n\u001b[1;32m    971\u001b[0m         \u001b[0mtext16\u001b[0m \u001b[1;33m=\u001b[0m \u001b[1;32mNone\u001b[0m\u001b[1;33m\u001b[0m\u001b[0m\n\u001b[1;32m    972\u001b[0m         \u001b[1;32mif\u001b[0m \u001b[0mtext\u001b[0m \u001b[1;32mis\u001b[0m \u001b[1;32mnot\u001b[0m \u001b[1;32mNone\u001b[0m\u001b[1;33m:\u001b[0m\u001b[1;33m\u001b[0m\u001b[0m\n\u001b[0;32m--> 973\u001b[0;31m             \u001b[0mtext16\u001b[0m \u001b[1;33m=\u001b[0m \u001b[0mself\u001b[0m\u001b[1;33m.\u001b[0m\u001b[0m_find_text\u001b[0m\u001b[1;33m(\u001b[0m\u001b[0mtext\u001b[0m\u001b[1;33m)\u001b[0m\u001b[1;33m\u001b[0m\u001b[0m\n\u001b[0m\u001b[1;32m    974\u001b[0m         \u001b[0mpaknam16\u001b[0m \u001b[1;33m=\u001b[0m \u001b[1;32mNone\u001b[0m\u001b[1;33m\u001b[0m\u001b[0m\n\u001b[1;32m    975\u001b[0m         \u001b[1;32mif\u001b[0m \u001b[0mpaknam\u001b[0m \u001b[1;32mis\u001b[0m \u001b[1;32mnot\u001b[0m \u001b[1;32mNone\u001b[0m\u001b[1;33m:\u001b[0m\u001b[1;33m\u001b[0m\u001b[0m\n",
      "\u001b[0;32mC:\\Users\\Jordan\\Anaconda3\\lib\\site-packages\\flopy\\utils\\binaryfile.py\u001b[0m in \u001b[0;36m_find_text\u001b[0;34m(self, text)\u001b[0m\n\u001b[1;32m    787\u001b[0m             \u001b[1;32mif\u001b[0m \u001b[0mtext16\u001b[0m \u001b[1;32mis\u001b[0m \u001b[1;32mNone\u001b[0m\u001b[1;33m:\u001b[0m\u001b[1;33m\u001b[0m\u001b[0m\n\u001b[1;32m    788\u001b[0m                 \u001b[0merrmsg\u001b[0m \u001b[1;33m=\u001b[0m \u001b[1;34m'The specified text string is not in the budget file.'\u001b[0m\u001b[1;33m\u001b[0m\u001b[0m\n\u001b[0;32m--> 789\u001b[0;31m                 \u001b[1;32mraise\u001b[0m \u001b[0mException\u001b[0m\u001b[1;33m(\u001b[0m\u001b[0merrmsg\u001b[0m\u001b[1;33m)\u001b[0m\u001b[1;33m\u001b[0m\u001b[0m\n\u001b[0m\u001b[1;32m    790\u001b[0m         \u001b[1;32mreturn\u001b[0m \u001b[0mtext16\u001b[0m\u001b[1;33m\u001b[0m\u001b[0m\n\u001b[1;32m    791\u001b[0m \u001b[1;33m\u001b[0m\u001b[0m\n",
      "\u001b[0;31mException\u001b[0m: The specified text string is not in the budget file."
     ]
    }
   ],
   "source": [
    "fname = os.path.join(model_ws, 'p19.cbc')\n",
    "cbb = flopy.utils.CellBudgetFile(fname)\n",
    "frf = cbb.get_data(text='FLOW RIGHT FACE')\n",
    "fff = cbb.get_data(text='FLOW FRONT FACE')\n",
    "\n",
    "rflow = cbb.get_data(text='RIVER LEAKAGE') #create an array/for loop to get out first value of every step\n",
    "#cbb.list_records()\n",
    "\n",
    "#create new list\n",
    "rlist=[]\n",
    "\n",
    "#create for loop to store only the first value of each time step from riv_flow into riv_list\n",
    "for riv in rflow:\n",
    "    rlist.append(riv['q'][0])\n",
    "    \n",
    "print(rlist)"
   ]
  },
  {
   "cell_type": "code",
   "execution_count": null,
   "metadata": {
    "collapsed": true
   },
   "outputs": [],
   "source": []
  },
  {
   "cell_type": "code",
   "execution_count": null,
   "metadata": {
    "collapsed": true
   },
   "outputs": [],
   "source": []
  }
 ],
 "metadata": {
  "kernelspec": {
   "display_name": "Python 3",
   "language": "python",
   "name": "python3"
  },
  "language_info": {
   "codemirror_mode": {
    "name": "ipython",
    "version": 3
   },
   "file_extension": ".py",
   "mimetype": "text/x-python",
   "name": "python",
   "nbconvert_exporter": "python",
   "pygments_lexer": "ipython3",
   "version": "3.6.0"
  }
 },
 "nbformat": 4,
 "nbformat_minor": 2
}
