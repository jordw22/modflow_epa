{
 "cells": [
  {
   "cell_type": "markdown",
   "metadata": {},
   "source": [
    "# Problem 14: Head-Dependent Boundary Conditions"
   ]
  },
  {
   "cell_type": "markdown",
   "metadata": {},
   "source": [
    "### Part d)\n",
    "_Model the third type boundary condition as a line of ET nodes running down column 4. These nodes will have the following characteristics:_\n",
    "\n",
    "| Variable             | Value    |\n",
    "|----------------------|----------|\n",
    "| Maximum ET rate      | 0.2 ft/d |\n",
    "| Extinction depth     | 10 ft    |\n",
    "| ET surface elevation | 10 ft    |\n",
    "| Boundary             | column 4 |\n",
    "\n",
    "_Run the model and note the results as you did in parts a-c. You will need to store the cell-by-cell ET rates for each time step and then run POSTMOD to put into an ASCII form._\n"
   ]
  },
  {
   "cell_type": "markdown",
   "metadata": {},
   "source": [
    "###  Table 14.1. Aquifer parameters and discretization data for Problem 14\n",
    "| Variable                     | Value       |\n",
    "|------------------------------|-------------|\n",
    "| Initial head                 | 10 ft       |\n",
    "| Hydraulic conductivity       | 10 ft/d     |\n",
    "| Aquifer base                 | -50 ft      |\n",
    "| Storage coefficient          | 0.1         |\n",
    "| Grid spacing (uniform)       | 100 ft      |\n",
    "| Pumping rate                 | 2500 ft^2/d |\n",
    "| Stress period length         | 365 days    |\n",
    "| Time steps                   | 20          |\n",
    "| Time step multiplier         | 1.2         |\n",
    "| SIP iteration parameters     | 5           |\n",
    "| Maximum number of iterations | 50          |\n",
    "| Acceleration parameter       | 1           |\n",
    "| Closure criterion            | 0.001       |"
   ]
  },
  {
   "cell_type": "code",
   "execution_count": 1,
   "metadata": {
    "collapsed": true
   },
   "outputs": [],
   "source": [
    "#Import and modules/packages that we need to work with\n",
    "%matplotlib inline\n",
    "import os\n",
    "import sys\n",
    "import platform\n",
    "import numpy as np\n",
    "import matplotlib as mpl\n",
    "import matplotlib.pyplot as plt\n",
    "import flopy\n",
    "#import csv"
   ]
  },
  {
   "cell_type": "code",
   "execution_count": 2,
   "metadata": {
    "collapsed": false
   },
   "outputs": [
    {
     "name": "stdout",
     "output_type": "stream",
     "text": [
      "C:\\VT\\USGS Internship\\modflow_epa.git\\Notebooks\n",
      "10.0\n",
      "10.0\n",
      "-50.0\n",
      "0.1\n",
      "100.0\n",
      "2500.0\n",
      "365.0\n",
      "20.0\n",
      "1.2\n",
      "5.0\n",
      "50.0\n",
      "1.0\n",
      "0.001\n",
      "[10.0, 10.0, -50.0, 0.1, 100.0, 2500.0, 365.0, 20.0, 1.2, 5.0, 50.0, 1.0, 0.001]\n"
     ]
    }
   ],
   "source": [
    "print(os.getcwd())\n",
    "delr = [] #creates an empty list\n",
    "f = open('../Data/table14.1.csv') #opens the csv file; the two periods (.) means that you are goin backwards into the folders.\n",
    "    \n",
    "    #the four loop below creates a statement that if i == 0 (if it's the first\n",
    "    #row then it will skip it (continue) and move on with the for loop)\n",
    "    #we skip the first row in our table/csv file because the headers would give\n",
    "    #us an error since they aren't numerical values.\n",
    "for i,line in enumerate(f):\n",
    "    if i == 0: \n",
    "        continue\n",
    "        \n",
    "    #\"line.strip\" gets rid of any extra spaces in the margins of the plot\n",
    "    #\"split\" sections of the individual values according to whatever you put in the quotes\n",
    "    linelist = line.strip().split(',') \n",
    "    \n",
    "    value = float(linelist[1]) #changes the values in the list to floats\n",
    "    print(value) #prints the values\n",
    "    delr.append(value) #puts the floats into the empty list, delr \n",
    "    \n",
    "print(delr) #prints the list"
   ]
  },
  {
   "cell_type": "code",
   "execution_count": 3,
   "metadata": {
    "collapsed": false,
    "scrolled": true
   },
   "outputs": [
    {
     "name": "stdout",
     "output_type": "stream",
     "text": [
      "initial head: 10.0 ft\n",
      "hydraulic conductivity: 10.0 ft/d\n",
      "aquifer base: -50.0 ft\n",
      "storage coefficient: 0.1\n",
      "grid spacing (uniform): 100 ft\n",
      "pumping rate: -2500.0 ft^3/d\n",
      "stress period length: 365 days\n",
      "number of time steps: 20\n",
      "time step expansion factor: 1.2\n",
      "SIP iteration parameters: 5\n",
      "maximum number of iterations: 50\n",
      "accelereation parameter: 1.0\n",
      "closure criterion: 0.001\n"
     ]
    }
   ],
   "source": [
    "#Store the values of each parameter into separate variables\n",
    "inh = 10.0 #initial head\n",
    "hk = 10.0 #hydraulic conductivity\n",
    "botm = -50.0 #aquifer base\n",
    "sy = 0.1 #storage coefficient\n",
    "delr = 100 #grid spacing (uniform)\n",
    "delc = delr\n",
    "pr = -2500. #pumping rate\n",
    "perlen = 365 #final time (stress period length)\n",
    "nstp = 20 #number of time steps\n",
    "tsmult = 1.2 #time step multiplier\n",
    "sip_it_par = 5 #SIP iteration parameters\n",
    "mxiter = 50 #maximum number of iterations\n",
    "accel_par = 1.0 #acceleration parameter\n",
    "hclose = 0.001 #closure criterion (the head change criterion for convergence)\n",
    "nlay = 1 #number of layers\n",
    "nrow = 7 #number of rows\n",
    "ncol = 7 #number of columns\n",
    "\n",
    "#print values to make sure they are all stored properly\n",
    "#put in quotes to make a string, .format takes whatever is in the () \n",
    "#and changes it to a float, it is then stored in the {}\n",
    "\n",
    "print('initial head: {} ft'.format(inh))\n",
    "print('hydraulic conductivity: {} ft/d'.format(hk))\n",
    "print('aquifer base: {} ft'.format(botm))\n",
    "print('storage coefficient: {}'.format(sy))\n",
    "print('grid spacing (uniform): {} ft'.format(delr))\n",
    "print('pumping rate: {} ft^3/d'.format(pr))\n",
    "print('stress period length: {} days'.format(perlen))\n",
    "print('number of time steps: {}'.format(nstp))\n",
    "print('time step expansion factor: {}'.format(tsmult))\n",
    "print('SIP iteration parameters: {}'.format(sip_it_par))\n",
    "print('maximum number of iterations: {}'.format(mxiter))\n",
    "print('accelereation parameter: {}'.format(accel_par))\n",
    "print('closure criterion: {}'.format(hclose))\n"
   ]
  },
  {
   "cell_type": "code",
   "execution_count": 4,
   "metadata": {
    "collapsed": true
   },
   "outputs": [],
   "source": [
    "#Flopy objects\n",
    "modelname = 'p14_pd' #short for problem 14 part d\n",
    "exe_name = '../MF2005.1_12/bin/mf2005.exe'\n",
    "model_ws = 'temp'\n",
    "mf = flopy.modflow.Modflow(modelname, exe_name=exe_name, model_ws = model_ws)"
   ]
  },
  {
   "cell_type": "code",
   "execution_count": 5,
   "metadata": {
    "collapsed": true
   },
   "outputs": [],
   "source": [
    "#call in the discretization package\n",
    "top = 10 #an array of the top elevation of layer 1\n",
    "nper = 1 #number of periods\n",
    "dis = flopy.modflow.ModflowDis(mf, nlay, nrow, ncol, delr=delr, delc=delc,\n",
    "                               top=top, botm=botm, nper=nper, perlen=perlen, \n",
    "                               nstp=nstp, tsmult=tsmult, steady=False)"
   ]
  },
  {
   "cell_type": "code",
   "execution_count": 6,
   "metadata": {
    "collapsed": false
   },
   "outputs": [],
   "source": [
    "#call in the basic package\n",
    "ibound = np.ones((nlay, nrow, ncol))\n",
    "strt = 10\n",
    "bas = flopy.modflow.ModflowBas(mf, ibound=ibound, strt=strt)"
   ]
  },
  {
   "cell_type": "code",
   "execution_count": 7,
   "metadata": {
    "collapsed": false
   },
   "outputs": [],
   "source": [
    "#call in the layer-propery flow (LPF)\n",
    "laytyp = 1\n",
    "ipakcb = 50\n",
    "lpf = flopy.modflow.ModflowLpf(mf, ipakcb=ipakcb, hk=hk, sy=sy, laytyp=laytyp)"
   ]
  },
  {
   "cell_type": "code",
   "execution_count": 8,
   "metadata": {
    "collapsed": false
   },
   "outputs": [],
   "source": [
    "#call in the well package (WEL)\n",
    "# Remember to use zero-based layer, row, column indices!\n",
    "wel_sp1 = [[0, 0, 0, pr]]\n",
    "wel_spd = {0: wel_sp1}\n",
    "wel = flopy.modflow.ModflowWel(mf, stress_period_data=wel_spd)\n"
   ]
  },
  {
   "cell_type": "code",
   "execution_count": 9,
   "metadata": {
    "collapsed": false,
    "scrolled": false
   },
   "outputs": [],
   "source": [
    "#call in the preconditioned conjugate-gradient package (PCG) \n",
    "pcg = flopy.modflow.ModflowPcg(mf, mxiter=mxiter, hclose=hclose)"
   ]
  },
  {
   "cell_type": "code",
   "execution_count": 10,
   "metadata": {
    "collapsed": false
   },
   "outputs": [],
   "source": [
    "#call in the output control package (OC)\n",
    "oc = flopy.modflow.ModflowOc(mf, stress_period_data={(0, 0): ['save head', 'print budget', \n",
    "                                                              'print head', 'save budget']})"
   ]
  },
  {
   "cell_type": "code",
   "execution_count": 11,
   "metadata": {
    "collapsed": false
   },
   "outputs": [
    {
     "name": "stdout",
     "output_type": "stream",
     "text": [
      "[[ 0.   0.   0.   0.2  0.   0.   0. ]\n",
      " [ 0.   0.   0.   0.2  0.   0.   0. ]\n",
      " [ 0.   0.   0.   0.2  0.   0.   0. ]\n",
      " [ 0.   0.   0.   0.2  0.   0.   0. ]\n",
      " [ 0.   0.   0.   0.2  0.   0.   0. ]\n",
      " [ 0.   0.   0.   0.2  0.   0.   0. ]\n",
      " [ 0.   0.   0.   0.2  0.   0.   0. ]]\n"
     ]
    }
   ],
   "source": [
    "#call in evapotranspiration package (ET)\n",
    "surf = 10\n",
    "exdp = 10\n",
    "\n",
    "#evtr = .2\n",
    "#evtr = np.arange(49)\n",
    "#evtr.shape = (7, 7)\n",
    "#print(evtr[:, 3])\n",
    "\n",
    "evtr = np.zeros((7, 7))\n",
    "evtr[:, 3] = 0.2\n",
    "print(evtr)\n",
    "\n",
    "evt = flopy.modflow.ModflowEvt(mf, ipakcb=ipakcb, surf=surf, evtr=evtr, exdp=exdp)"
   ]
  },
  {
   "cell_type": "code",
   "execution_count": 12,
   "metadata": {
    "collapsed": false
   },
   "outputs": [
    {
     "name": "stdout",
     "output_type": "stream",
     "text": [
      "warning: assuming SpatialReference units are meters\n"
     ]
    }
   ],
   "source": [
    "# Write the MODFLOW model input files\n",
    "mf.write_input()"
   ]
  },
  {
   "cell_type": "code",
   "execution_count": 13,
   "metadata": {
    "collapsed": false,
    "scrolled": true
   },
   "outputs": [
    {
     "name": "stdout",
     "output_type": "stream",
     "text": [
      "FloPy is using the following executable to run the model: ../MF2005.1_12/bin/mf2005.exe\n",
      "\n",
      "                                  MODFLOW-2005     \n",
      "    U.S. GEOLOGICAL SURVEY MODULAR FINITE-DIFFERENCE GROUND-WATER FLOW MODEL\n",
      "                             Version 1.12.00 2/3/2017                        \n",
      "\n",
      " Using NAME file: p14_pd.nam \n",
      " Run start date and time (yyyy/mm/dd hh:mm:ss): 2017/07/03 14:16:39\n",
      "\n",
      " Solving:  Stress period:     1    Time step:     1    Ground-Water Flow Eqn.\n",
      " Solving:  Stress period:     1    Time step:     2    Ground-Water Flow Eqn.\n",
      " Solving:  Stress period:     1    Time step:     3    Ground-Water Flow Eqn.\n",
      " Solving:  Stress period:     1    Time step:     4    Ground-Water Flow Eqn.\n",
      " Solving:  Stress period:     1    Time step:     5    Ground-Water Flow Eqn.\n",
      " Solving:  Stress period:     1    Time step:     6    Ground-Water Flow Eqn.\n",
      " Solving:  Stress period:     1    Time step:     7    Ground-Water Flow Eqn.\n",
      " Solving:  Stress period:     1    Time step:     8    Ground-Water Flow Eqn.\n",
      " Solving:  Stress period:     1    Time step:     9    Ground-Water Flow Eqn.\n",
      " Solving:  Stress period:     1    Time step:    10    Ground-Water Flow Eqn.\n",
      " Solving:  Stress period:     1    Time step:    11    Ground-Water Flow Eqn.\n",
      " Solving:  Stress period:     1    Time step:    12    Ground-Water Flow Eqn.\n",
      " Solving:  Stress period:     1    Time step:    13    Ground-Water Flow Eqn.\n",
      " Solving:  Stress period:     1    Time step:    14    Ground-Water Flow Eqn.\n",
      " Solving:  Stress period:     1    Time step:    15    Ground-Water Flow Eqn.\n",
      " Solving:  Stress period:     1    Time step:    16    Ground-Water Flow Eqn.\n",
      " Solving:  Stress period:     1    Time step:    17    Ground-Water Flow Eqn.\n",
      " Solving:  Stress period:     1    Time step:    18    Ground-Water Flow Eqn.\n",
      " Solving:  Stress period:     1    Time step:    19    Ground-Water Flow Eqn.\n",
      " Solving:  Stress period:     1    Time step:    20    Ground-Water Flow Eqn.\n",
      " Run end date and time (yyyy/mm/dd hh:mm:ss): 2017/07/03 14:16:39\n",
      " Elapsed run time:  0.070 Seconds\n",
      "\n",
      "  Normal termination of simulation\n"
     ]
    }
   ],
   "source": [
    "# Run the MODFLOW model\n",
    "success, buff = mf.run_model()"
   ]
  },
  {
   "cell_type": "code",
   "execution_count": 14,
   "metadata": {
    "collapsed": false
   },
   "outputs": [
    {
     "name": "stdout",
     "output_type": "stream",
     "text": [
      "[1.9551325, 4.3012915, 7.1166821, 10.495152, 14.549314, 19.41431, 25.252306, 32.2579, 40.664616, 50.752674, 62.858345, 77.385147, 94.817314, 115.73592, 140.83824, 170.96103, 207.10838, 250.4852, 302.53738, 365.0]\n",
      "[[  1.95513248e+00   8.51035500e+00]\n",
      " [  4.30129147e+00   7.53955841e+00]\n",
      " [  7.11668205e+00   6.71613359e+00]\n",
      " [  1.04951515e+01   5.92555618e+00]\n",
      " [  1.45493145e+01   5.12856054e+00]\n",
      " [  1.94143105e+01   4.31294441e+00]\n",
      " [  2.52523060e+01   3.48044372e+00]\n",
      " [  3.22579002e+01   2.64200115e+00]\n",
      " [  4.06646156e+01   1.81514454e+00]\n",
      " [  5.07526741e+01   1.02176082e+00]\n",
      " [  6.28583450e+01   2.85528183e-01]\n",
      " [  7.73851471e+01  -4.96096998e-01]\n",
      " [  9.48173141e+01  -1.44187021e+00]\n",
      " [  1.15735916e+02  -2.54352784e+00]\n",
      " [  1.40838242e+02  -3.84708095e+00]\n",
      " [  1.70961029e+02  -5.40446758e+00]\n",
      " [  2.07108383e+02  -7.27203703e+00]\n",
      " [  2.50485199e+02  -9.51442719e+00]\n",
      " [  3.02537384e+02  -1.22083511e+01]\n",
      " [  3.65000000e+02  -1.54460287e+01]]\n"
     ]
    }
   ],
   "source": [
    "import flopy.utils.binaryfile as bf\n",
    "\n",
    "# Create the headfile object\n",
    "fname = os.path.join(model_ws, 'p14_pd.hds') #\"os.path.join\" joins together the model_ws and the .hds file and stores it in fname\n",
    "headobj = bf.HeadFile(fname) #create headobj and put values from fname (aka 'p1_pa.hds') inside it\n",
    "times = headobj.get_times() #assign the headobj values to the variable \"times\"\n",
    "print(times) #prints the time at each stress period\n",
    "\n",
    "#print hydraulic head at node (1, 4) for part a (Table 14.2)\n",
    "ts = headobj.get_ts([[0, 0, 3]])\n",
    "print(ts)"
   ]
  },
  {
   "cell_type": "code",
   "execution_count": 15,
   "metadata": {
    "collapsed": false
   },
   "outputs": [
    {
     "data": {
      "text/html": [
       "<div>\n",
       "<table border=\"1\" class=\"dataframe\">\n",
       "  <thead>\n",
       "    <tr style=\"text-align: right;\">\n",
       "      <th></th>\n",
       "      <th>Time Step</th>\n",
       "      <th>Ellapsed Time (days)</th>\n",
       "      <th>E-T (part d)</th>\n",
       "    </tr>\n",
       "  </thead>\n",
       "  <tbody>\n",
       "    <tr>\n",
       "      <th>0</th>\n",
       "      <td>1</td>\n",
       "      <td>1.955</td>\n",
       "      <td>8.510</td>\n",
       "    </tr>\n",
       "    <tr>\n",
       "      <th>1</th>\n",
       "      <td>2</td>\n",
       "      <td>4.301</td>\n",
       "      <td>7.540</td>\n",
       "    </tr>\n",
       "    <tr>\n",
       "      <th>2</th>\n",
       "      <td>3</td>\n",
       "      <td>70117.000</td>\n",
       "      <td>6.716</td>\n",
       "    </tr>\n",
       "    <tr>\n",
       "      <th>3</th>\n",
       "      <td>4</td>\n",
       "      <td>10.495</td>\n",
       "      <td>5.926</td>\n",
       "    </tr>\n",
       "    <tr>\n",
       "      <th>4</th>\n",
       "      <td>5</td>\n",
       "      <td>14.549</td>\n",
       "      <td>5.129</td>\n",
       "    </tr>\n",
       "  </tbody>\n",
       "</table>\n",
       "</div>"
      ],
      "text/plain": [
       "   Time Step  Ellapsed Time (days)  E-T (part d)\n",
       "0          1                 1.955         8.510\n",
       "1          2                 4.301         7.540\n",
       "2          3             70117.000         6.716\n",
       "3          4                10.495         5.926\n",
       "4          5                14.549         5.129"
      ]
     },
     "execution_count": 15,
     "metadata": {},
     "output_type": "execute_result"
    }
   ],
   "source": [
    "import pandas as pd\n",
    "table2d = pd.read_csv('../Data/table14.2.csv')\n",
    "\n",
    "table2d.columns #displays all the column names in the file\n",
    "#drops the columns that you enter into the list\n",
    "table2d.drop(['River (part a)', 'GHB (part b)', 'Drain (part c)', 'Constant head (part e)'], \n",
    "             axis=1, inplace=True)\n",
    "#prints out the first 5 rows into a table\n",
    "table2d.head()"
   ]
  },
  {
   "cell_type": "code",
   "execution_count": 16,
   "metadata": {
    "collapsed": false
   },
   "outputs": [
    {
     "name": "stdout",
     "output_type": "stream",
     "text": [
      "    Time Step  Ellapsed Time (days)  E-T (part d)\n",
      "0           1                 1.955         8.510\n",
      "1           2                 4.301         7.540\n",
      "2           3             70117.000         6.716\n",
      "3           4                10.495         5.926\n",
      "4           5                14.549         5.129\n",
      "5           6                19.414         4.313\n",
      "6           7                25.252         3.481\n",
      "7           8                32.258         2.643\n",
      "8           9                40.655         1.816\n",
      "9          10                50.753         1.023\n",
      "10         11                62.858         0.286\n",
      "11         12                77.385        -0.495\n",
      "12         13                94.817        -1.440\n",
      "13         14               115.740        -2.540\n",
      "14         15               140.840        -3.843\n",
      "15         16               170.960        -5.399\n",
      "16         17               207.110        -7.264\n",
      "17         18               250.490        -9.505\n",
      "18         19               302.540       -12.200\n",
      "19         20               365.000       -15.430\n"
     ]
    }
   ],
   "source": [
    "print(table2d)"
   ]
  },
  {
   "cell_type": "markdown",
   "metadata": {},
   "source": [
    "### Table 14.2. Hydraulic head at node (1,4) for part d representing the third type boundary condition\n",
    "\n",
    "Check your results to make sure they match with the table from the book\n",
    "\n",
    "| Time Step | Elapsed Time (days) | E-T (part d) |\n",
    "|-----------|---------------------|--------------|\n",
    "| 1         | 1.955               | 8.51         |\n",
    "| 2         | 4.301               | 7.54         |\n",
    "| 3         | 7.117               | 6.716        |\n",
    "| 4         | 10.495              | 5.926        |\n",
    "| 5         | 14.549              | 5.129        |\n",
    "| 6         | 19.414              | 4.313        |\n",
    "| 7         | 25.252              | 3.481        |\n",
    "| 8         | 32.258              | 2.643        |\n",
    "| 9         | 40.655              | 1.816        |\n",
    "| 10        | 50.753              | 1.023        |\n",
    "| 11        | 62.858              | 0.286        |\n",
    "| 12        | 77.385              | -0.495       |\n",
    "| 13        | 94.817              | -1.44        |\n",
    "| 14        | 115.74              | -2.54        |\n",
    "| 15        | 140.84              | -3.843       |\n",
    "| 16        | 170.96              | -5.399       |\n",
    "| 17        | 207.11              | -7.264       |\n",
    "| 18        | 250.49              | -9.505       |\n",
    "| 19        | 302.54              | -12.2        |\n",
    "| 20        | 365                 | -15.43       |"
   ]
  },
  {
   "cell_type": "code",
   "execution_count": 17,
   "metadata": {
    "collapsed": false,
    "scrolled": true
   },
   "outputs": [
    {
     "name": "stdout",
     "output_type": "stream",
     "text": [
      "(1, 1, b'         STORAGE', 7, 7, -1, 1, 1.9551324844360352, 1.9551324844360352, 1.9551324844360352, b'', b'', b'', b'')\n",
      "(1, 1, b'   CONSTANT HEAD', 7, 7, -1, 2, 1.9551324844360352, 1.9551324844360352, 1.9551324844360352, b'', b'', b'', b'')\n",
      "(1, 1, b'FLOW RIGHT FACE ', 7, 7, -1, 1, 1.9551324844360352, 1.9551324844360352, 1.9551324844360352, b'', b'', b'', b'')\n",
      "(1, 1, b'FLOW FRONT FACE ', 7, 7, -1, 1, 1.9551324844360352, 1.9551324844360352, 1.9551324844360352, b'', b'', b'', b'')\n",
      "(1, 1, b'              ET', 7, 7, -1, 3, 1.9551324844360352, 1.9551324844360352, 1.9551324844360352, b'', b'', b'', b'')\n",
      "(2, 1, b'         STORAGE', 7, 7, -1, 1, 2.346158981323242, 4.301291465759277, 4.301291465759277, b'', b'', b'', b'')\n",
      "(2, 1, b'   CONSTANT HEAD', 7, 7, -1, 2, 2.346158981323242, 4.301291465759277, 4.301291465759277, b'', b'', b'', b'')\n",
      "(2, 1, b'FLOW RIGHT FACE ', 7, 7, -1, 1, 2.346158981323242, 4.301291465759277, 4.301291465759277, b'', b'', b'', b'')\n",
      "(2, 1, b'FLOW FRONT FACE ', 7, 7, -1, 1, 2.346158981323242, 4.301291465759277, 4.301291465759277, b'', b'', b'', b'')\n",
      "(2, 1, b'              ET', 7, 7, -1, 3, 2.346158981323242, 4.301291465759277, 4.301291465759277, b'', b'', b'', b'')\n",
      "(3, 1, b'         STORAGE', 7, 7, -1, 1, 2.8153908252716064, 7.116682052612305, 7.116682052612305, b'', b'', b'', b'')\n",
      "(3, 1, b'   CONSTANT HEAD', 7, 7, -1, 2, 2.8153908252716064, 7.116682052612305, 7.116682052612305, b'', b'', b'', b'')\n",
      "(3, 1, b'FLOW RIGHT FACE ', 7, 7, -1, 1, 2.8153908252716064, 7.116682052612305, 7.116682052612305, b'', b'', b'', b'')\n",
      "(3, 1, b'FLOW FRONT FACE ', 7, 7, -1, 1, 2.8153908252716064, 7.116682052612305, 7.116682052612305, b'', b'', b'', b'')\n",
      "(3, 1, b'              ET', 7, 7, -1, 3, 2.8153908252716064, 7.116682052612305, 7.116682052612305, b'', b'', b'', b'')\n",
      "(4, 1, b'         STORAGE', 7, 7, -1, 1, 3.378469228744507, 10.49515151977539, 10.49515151977539, b'', b'', b'', b'')\n",
      "(4, 1, b'   CONSTANT HEAD', 7, 7, -1, 2, 3.378469228744507, 10.49515151977539, 10.49515151977539, b'', b'', b'', b'')\n",
      "(4, 1, b'FLOW RIGHT FACE ', 7, 7, -1, 1, 3.378469228744507, 10.49515151977539, 10.49515151977539, b'', b'', b'', b'')\n",
      "(4, 1, b'FLOW FRONT FACE ', 7, 7, -1, 1, 3.378469228744507, 10.49515151977539, 10.49515151977539, b'', b'', b'', b'')\n",
      "(4, 1, b'              ET', 7, 7, -1, 3, 3.378469228744507, 10.49515151977539, 10.49515151977539, b'', b'', b'', b'')\n",
      "(5, 1, b'         STORAGE', 7, 7, -1, 1, 4.054163455963135, 14.549314498901367, 14.549314498901367, b'', b'', b'', b'')\n",
      "(5, 1, b'   CONSTANT HEAD', 7, 7, -1, 2, 4.054163455963135, 14.549314498901367, 14.549314498901367, b'', b'', b'', b'')\n",
      "(5, 1, b'FLOW RIGHT FACE ', 7, 7, -1, 1, 4.054163455963135, 14.549314498901367, 14.549314498901367, b'', b'', b'', b'')\n",
      "(5, 1, b'FLOW FRONT FACE ', 7, 7, -1, 1, 4.054163455963135, 14.549314498901367, 14.549314498901367, b'', b'', b'', b'')\n",
      "(5, 1, b'              ET', 7, 7, -1, 3, 4.054163455963135, 14.549314498901367, 14.549314498901367, b'', b'', b'', b'')\n",
      "(6, 1, b'         STORAGE', 7, 7, -1, 1, 4.864996433258057, 19.414310455322266, 19.414310455322266, b'', b'', b'', b'')\n",
      "(6, 1, b'   CONSTANT HEAD', 7, 7, -1, 2, 4.864996433258057, 19.414310455322266, 19.414310455322266, b'', b'', b'', b'')\n",
      "(6, 1, b'FLOW RIGHT FACE ', 7, 7, -1, 1, 4.864996433258057, 19.414310455322266, 19.414310455322266, b'', b'', b'', b'')\n",
      "(6, 1, b'FLOW FRONT FACE ', 7, 7, -1, 1, 4.864996433258057, 19.414310455322266, 19.414310455322266, b'', b'', b'', b'')\n",
      "(6, 1, b'              ET', 7, 7, -1, 3, 4.864996433258057, 19.414310455322266, 19.414310455322266, b'', b'', b'', b'')\n",
      "(7, 1, b'         STORAGE', 7, 7, -1, 1, 5.837996006011963, 25.25230598449707, 25.25230598449707, b'', b'', b'', b'')\n",
      "(7, 1, b'   CONSTANT HEAD', 7, 7, -1, 2, 5.837996006011963, 25.25230598449707, 25.25230598449707, b'', b'', b'', b'')\n",
      "(7, 1, b'FLOW RIGHT FACE ', 7, 7, -1, 1, 5.837996006011963, 25.25230598449707, 25.25230598449707, b'', b'', b'', b'')\n",
      "(7, 1, b'FLOW FRONT FACE ', 7, 7, -1, 1, 5.837996006011963, 25.25230598449707, 25.25230598449707, b'', b'', b'', b'')\n",
      "(7, 1, b'              ET', 7, 7, -1, 3, 5.837996006011963, 25.25230598449707, 25.25230598449707, b'', b'', b'', b'')\n",
      "(8, 1, b'         STORAGE', 7, 7, -1, 1, 7.005595684051514, 32.25790023803711, 32.25790023803711, b'', b'', b'', b'')\n",
      "(8, 1, b'   CONSTANT HEAD', 7, 7, -1, 2, 7.005595684051514, 32.25790023803711, 32.25790023803711, b'', b'', b'', b'')\n",
      "(8, 1, b'FLOW RIGHT FACE ', 7, 7, -1, 1, 7.005595684051514, 32.25790023803711, 32.25790023803711, b'', b'', b'', b'')\n",
      "(8, 1, b'FLOW FRONT FACE ', 7, 7, -1, 1, 7.005595684051514, 32.25790023803711, 32.25790023803711, b'', b'', b'', b'')\n",
      "(8, 1, b'              ET', 7, 7, -1, 3, 7.005595684051514, 32.25790023803711, 32.25790023803711, b'', b'', b'', b'')\n",
      "(9, 1, b'         STORAGE', 7, 7, -1, 1, 8.406715393066406, 40.664615631103516, 40.664615631103516, b'', b'', b'', b'')\n",
      "(9, 1, b'   CONSTANT HEAD', 7, 7, -1, 2, 8.406715393066406, 40.664615631103516, 40.664615631103516, b'', b'', b'', b'')\n",
      "(9, 1, b'FLOW RIGHT FACE ', 7, 7, -1, 1, 8.406715393066406, 40.664615631103516, 40.664615631103516, b'', b'', b'', b'')\n",
      "(9, 1, b'FLOW FRONT FACE ', 7, 7, -1, 1, 8.406715393066406, 40.664615631103516, 40.664615631103516, b'', b'', b'', b'')\n",
      "(9, 1, b'              ET', 7, 7, -1, 3, 8.406715393066406, 40.664615631103516, 40.664615631103516, b'', b'', b'', b'')\n",
      "(10, 1, b'         STORAGE', 7, 7, -1, 1, 10.088058471679688, 50.7526741027832, 50.7526741027832, b'', b'', b'', b'')\n",
      "(10, 1, b'   CONSTANT HEAD', 7, 7, -1, 2, 10.088058471679688, 50.7526741027832, 50.7526741027832, b'', b'', b'', b'')\n",
      "(10, 1, b'FLOW RIGHT FACE ', 7, 7, -1, 1, 10.088058471679688, 50.7526741027832, 50.7526741027832, b'', b'', b'', b'')\n",
      "(10, 1, b'FLOW FRONT FACE ', 7, 7, -1, 1, 10.088058471679688, 50.7526741027832, 50.7526741027832, b'', b'', b'', b'')\n",
      "(10, 1, b'              ET', 7, 7, -1, 3, 10.088058471679688, 50.7526741027832, 50.7526741027832, b'', b'', b'', b'')\n",
      "(11, 1, b'         STORAGE', 7, 7, -1, 1, 12.105670928955078, 62.85834503173828, 62.85834503173828, b'', b'', b'', b'')\n",
      "(11, 1, b'   CONSTANT HEAD', 7, 7, -1, 2, 12.105670928955078, 62.85834503173828, 62.85834503173828, b'', b'', b'', b'')\n",
      "(11, 1, b'FLOW RIGHT FACE ', 7, 7, -1, 1, 12.105670928955078, 62.85834503173828, 62.85834503173828, b'', b'', b'', b'')\n",
      "(11, 1, b'FLOW FRONT FACE ', 7, 7, -1, 1, 12.105670928955078, 62.85834503173828, 62.85834503173828, b'', b'', b'', b'')\n",
      "(11, 1, b'              ET', 7, 7, -1, 3, 12.105670928955078, 62.85834503173828, 62.85834503173828, b'', b'', b'', b'')\n",
      "(12, 1, b'         STORAGE', 7, 7, -1, 1, 14.526805877685547, 77.38514709472656, 77.38514709472656, b'', b'', b'', b'')\n",
      "(12, 1, b'   CONSTANT HEAD', 7, 7, -1, 2, 14.526805877685547, 77.38514709472656, 77.38514709472656, b'', b'', b'', b'')\n",
      "(12, 1, b'FLOW RIGHT FACE ', 7, 7, -1, 1, 14.526805877685547, 77.38514709472656, 77.38514709472656, b'', b'', b'', b'')\n",
      "(12, 1, b'FLOW FRONT FACE ', 7, 7, -1, 1, 14.526805877685547, 77.38514709472656, 77.38514709472656, b'', b'', b'', b'')\n",
      "(12, 1, b'              ET', 7, 7, -1, 3, 14.526805877685547, 77.38514709472656, 77.38514709472656, b'', b'', b'', b'')\n",
      "(13, 1, b'         STORAGE', 7, 7, -1, 1, 17.432167053222656, 94.81731414794922, 94.81731414794922, b'', b'', b'', b'')\n",
      "(13, 1, b'   CONSTANT HEAD', 7, 7, -1, 2, 17.432167053222656, 94.81731414794922, 94.81731414794922, b'', b'', b'', b'')\n",
      "(13, 1, b'FLOW RIGHT FACE ', 7, 7, -1, 1, 17.432167053222656, 94.81731414794922, 94.81731414794922, b'', b'', b'', b'')\n",
      "(13, 1, b'FLOW FRONT FACE ', 7, 7, -1, 1, 17.432167053222656, 94.81731414794922, 94.81731414794922, b'', b'', b'', b'')\n",
      "(13, 1, b'              ET', 7, 7, -1, 3, 17.432167053222656, 94.81731414794922, 94.81731414794922, b'', b'', b'', b'')\n",
      "(14, 1, b'         STORAGE', 7, 7, -1, 1, 20.918601989746094, 115.73591613769531, 115.73591613769531, b'', b'', b'', b'')\n",
      "(14, 1, b'   CONSTANT HEAD', 7, 7, -1, 2, 20.918601989746094, 115.73591613769531, 115.73591613769531, b'', b'', b'', b'')\n",
      "(14, 1, b'FLOW RIGHT FACE ', 7, 7, -1, 1, 20.918601989746094, 115.73591613769531, 115.73591613769531, b'', b'', b'', b'')\n",
      "(14, 1, b'FLOW FRONT FACE ', 7, 7, -1, 1, 20.918601989746094, 115.73591613769531, 115.73591613769531, b'', b'', b'', b'')\n",
      "(14, 1, b'              ET', 7, 7, -1, 3, 20.918601989746094, 115.73591613769531, 115.73591613769531, b'', b'', b'', b'')\n",
      "(15, 1, b'         STORAGE', 7, 7, -1, 1, 25.102323532104492, 140.83824157714844, 140.83824157714844, b'', b'', b'', b'')\n",
      "(15, 1, b'   CONSTANT HEAD', 7, 7, -1, 2, 25.102323532104492, 140.83824157714844, 140.83824157714844, b'', b'', b'', b'')\n",
      "(15, 1, b'FLOW RIGHT FACE ', 7, 7, -1, 1, 25.102323532104492, 140.83824157714844, 140.83824157714844, b'', b'', b'', b'')\n",
      "(15, 1, b'FLOW FRONT FACE ', 7, 7, -1, 1, 25.102323532104492, 140.83824157714844, 140.83824157714844, b'', b'', b'', b'')\n",
      "(15, 1, b'              ET', 7, 7, -1, 3, 25.102323532104492, 140.83824157714844, 140.83824157714844, b'', b'', b'', b'')\n",
      "(16, 1, b'         STORAGE', 7, 7, -1, 1, 30.12278938293457, 170.96102905273438, 170.96102905273438, b'', b'', b'', b'')\n",
      "(16, 1, b'   CONSTANT HEAD', 7, 7, -1, 2, 30.12278938293457, 170.96102905273438, 170.96102905273438, b'', b'', b'', b'')\n",
      "(16, 1, b'FLOW RIGHT FACE ', 7, 7, -1, 1, 30.12278938293457, 170.96102905273438, 170.96102905273438, b'', b'', b'', b'')\n",
      "(16, 1, b'FLOW FRONT FACE ', 7, 7, -1, 1, 30.12278938293457, 170.96102905273438, 170.96102905273438, b'', b'', b'', b'')\n",
      "(16, 1, b'              ET', 7, 7, -1, 3, 30.12278938293457, 170.96102905273438, 170.96102905273438, b'', b'', b'', b'')\n",
      "(17, 1, b'         STORAGE', 7, 7, -1, 1, 36.1473503112793, 207.10838317871094, 207.10838317871094, b'', b'', b'', b'')\n",
      "(17, 1, b'   CONSTANT HEAD', 7, 7, -1, 2, 36.1473503112793, 207.10838317871094, 207.10838317871094, b'', b'', b'', b'')\n",
      "(17, 1, b'FLOW RIGHT FACE ', 7, 7, -1, 1, 36.1473503112793, 207.10838317871094, 207.10838317871094, b'', b'', b'', b'')\n",
      "(17, 1, b'FLOW FRONT FACE ', 7, 7, -1, 1, 36.1473503112793, 207.10838317871094, 207.10838317871094, b'', b'', b'', b'')\n",
      "(17, 1, b'              ET', 7, 7, -1, 3, 36.1473503112793, 207.10838317871094, 207.10838317871094, b'', b'', b'', b'')\n",
      "(18, 1, b'         STORAGE', 7, 7, -1, 1, 43.37682342529297, 250.48519897460938, 250.48519897460938, b'', b'', b'', b'')\n",
      "(18, 1, b'   CONSTANT HEAD', 7, 7, -1, 2, 43.37682342529297, 250.48519897460938, 250.48519897460938, b'', b'', b'', b'')\n",
      "(18, 1, b'FLOW RIGHT FACE ', 7, 7, -1, 1, 43.37682342529297, 250.48519897460938, 250.48519897460938, b'', b'', b'', b'')\n",
      "(18, 1, b'FLOW FRONT FACE ', 7, 7, -1, 1, 43.37682342529297, 250.48519897460938, 250.48519897460938, b'', b'', b'', b'')\n",
      "(18, 1, b'              ET', 7, 7, -1, 3, 43.37682342529297, 250.48519897460938, 250.48519897460938, b'', b'', b'', b'')\n",
      "(19, 1, b'         STORAGE', 7, 7, -1, 1, 52.052188873291016, 302.5373840332031, 302.5373840332031, b'', b'', b'', b'')\n",
      "(19, 1, b'   CONSTANT HEAD', 7, 7, -1, 2, 52.052188873291016, 302.5373840332031, 302.5373840332031, b'', b'', b'', b'')\n",
      "(19, 1, b'FLOW RIGHT FACE ', 7, 7, -1, 1, 52.052188873291016, 302.5373840332031, 302.5373840332031, b'', b'', b'', b'')\n",
      "(19, 1, b'FLOW FRONT FACE ', 7, 7, -1, 1, 52.052188873291016, 302.5373840332031, 302.5373840332031, b'', b'', b'', b'')\n",
      "(19, 1, b'              ET', 7, 7, -1, 3, 52.052188873291016, 302.5373840332031, 302.5373840332031, b'', b'', b'', b'')\n",
      "(20, 1, b'         STORAGE', 7, 7, -1, 1, 62.46262741088867, 365.0, 365.0, b'', b'', b'', b'')\n",
      "(20, 1, b'   CONSTANT HEAD', 7, 7, -1, 2, 62.46262741088867, 365.0, 365.0, b'', b'', b'', b'')\n",
      "(20, 1, b'FLOW RIGHT FACE ', 7, 7, -1, 1, 62.46262741088867, 365.0, 365.0, b'', b'', b'', b'')\n",
      "(20, 1, b'FLOW FRONT FACE ', 7, 7, -1, 1, 62.46262741088867, 365.0, 365.0, b'', b'', b'', b'')\n",
      "(20, 1, b'              ET', 7, 7, -1, 3, 62.46262741088867, 365.0, 365.0, b'', b'', b'', b'')\n"
     ]
    }
   ],
   "source": [
    "#print discharge values (Table 14.3)\n",
    "fname = os.path.join(model_ws, 'p14_pd.cbc')\n",
    "cbb = flopy.utils.CellBudgetFile(fname)\n",
    "cbb.list_records()"
   ]
  },
  {
   "cell_type": "code",
   "execution_count": 18,
   "metadata": {
    "collapsed": false,
    "scrolled": true
   },
   "outputs": [],
   "source": [
    "frf = cbb.get_data(text='FLOW RIGHT FACE')[19]\n",
    "fff = cbb.get_data(text='FLOW FRONT FACE')[19]\n",
    "et_flow = cbb.get_data(text='ET')"
   ]
  },
  {
   "cell_type": "code",
   "execution_count": 19,
   "metadata": {
    "collapsed": false
   },
   "outputs": [
    {
     "name": "stdout",
     "output_type": "stream",
     "text": [
      "[[    0.             0.             0.         -1702.07104492     0.             0.\n",
      "      0.        ]\n",
      " [    0.             0.             0.         -1706.33959961     0.             0.\n",
      "      0.        ]\n",
      " [    0.             0.             0.         -1710.51403809     0.             0.\n",
      "      0.        ]\n",
      " [    0.             0.             0.         -1713.21191406     0.             0.\n",
      "      0.        ]\n",
      " [    0.             0.             0.         -1714.65515137     0.             0.\n",
      "      0.        ]\n",
      " [    0.             0.             0.         -1715.33605957     0.             0.\n",
      "      0.        ]\n",
      " [    0.             0.             0.         -1715.59790039     0.             0.\n",
      "      0.        ]]\n",
      "[[    0.             0.             0.         -1507.91162109     0.             0.\n",
      "      0.        ]\n",
      " [    0.             0.             0.         -1518.23815918     0.             0.\n",
      "      0.        ]\n",
      " [    0.             0.             0.         -1529.73205566     0.             0.\n",
      "      0.        ]\n",
      " [    0.             0.             0.         -1538.20849609     0.             0.\n",
      "      0.        ]\n",
      " [    0.             0.             0.         -1543.35864258     0.             0.\n",
      "      0.        ]\n",
      " [    0.             0.             0.         -1546.08154297     0.             0.\n",
      "      0.        ]\n",
      " [    0.             0.             0.         -1547.22143555     0.             0.\n",
      "      0.        ]]\n",
      "[[    0.             0.             0.         -1343.22680664     0.             0.\n",
      "      0.        ]\n",
      " [    0.             0.             0.         -1359.1697998      0.             0.\n",
      "      0.        ]\n",
      " [    0.             0.             0.         -1378.50842285     0.             0.\n",
      "      0.        ]\n",
      " [    0.             0.             0.         -1394.19104004     0.             0.\n",
      "      0.        ]\n",
      " [    0.             0.             0.         -1404.67285156     0.             0.\n",
      "      0.        ]\n",
      " [    0.             0.             0.         -1410.7121582      0.             0.\n",
      "      0.        ]\n",
      " [    0.             0.             0.         -1413.4041748      0.             0.\n",
      "      0.        ]]\n",
      "[[    0.             0.             0.         -1185.11132812     0.             0.\n",
      "      0.        ]\n",
      " [    0.             0.             0.         -1205.48132324     0.             0.\n",
      "      0.        ]\n",
      " [    0.             0.             0.         -1231.60852051     0.             0.\n",
      "      0.        ]\n",
      " [    0.             0.             0.         -1254.23657227     0.             0.\n",
      "      0.        ]\n",
      " [    0.             0.             0.         -1270.42614746     0.             0.\n",
      "      0.        ]\n",
      " [    0.             0.             0.         -1280.34851074     0.             0.\n",
      "      0.        ]\n",
      " [    0.             0.             0.         -1284.9720459      0.             0.\n",
      "      0.        ]]\n",
      "[[    0.             0.             0.         -1025.71203613     0.             0.\n",
      "      0.        ]\n",
      " [    0.             0.             0.         -1049.3425293      0.             0.\n",
      "      0.        ]\n",
      " [    0.             0.             0.         -1080.74536133     0.             0.\n",
      "      0.        ]\n",
      " [    0.             0.             0.         -1109.15576172     0.             0.\n",
      "      0.        ]\n",
      " [    0.             0.             0.         -1130.44384766     0.             0.\n",
      "      0.        ]\n",
      " [    0.             0.             0.         -1144.05029297     0.             0.\n",
      "      0.        ]\n",
      " [    0.             0.             0.         -1150.58288574     0.             0.\n",
      "      0.        ]]\n",
      "[[    0.             0.             0.          -862.58886719     0.             0.\n",
      "      0.        ]\n",
      " [    0.             0.             0.          -888.55371094     0.             0.\n",
      "      0.        ]\n",
      " [    0.             0.             0.          -923.82318115     0.             0.\n",
      "      0.        ]\n",
      " [    0.             0.             0.          -956.62823486     0.             0.\n",
      "      0.        ]\n",
      " [    0.             0.             0.          -981.95062256     0.             0.\n",
      "      0.        ]\n",
      " [    0.             0.             0.          -998.57849121     0.             0.\n",
      "      0.        ]\n",
      " [    0.             0.             0.         -1006.71575928     0.             0.\n",
      "      0.        ]]\n",
      "[[   0.            0.            0.         -696.08874512    0.            0.\n",
      "     0.        ]\n",
      " [   0.            0.            0.         -723.70849609    0.            0.\n",
      "     0.        ]\n",
      " [   0.            0.            0.         -761.71899414    0.            0.\n",
      "     0.        ]\n",
      " [   0.            0.            0.         -797.6708374     0.            0.\n",
      "     0.        ]\n",
      " [   0.            0.            0.         -825.9284668     0.            0.\n",
      "     0.        ]\n",
      " [   0.            0.            0.         -844.79083252    0.            0.\n",
      "     0.        ]\n",
      " [   0.            0.            0.         -854.12890625    0.            0.\n",
      "     0.        ]]\n",
      "[[   0.            0.            0.         -528.40020752    0.            0.\n",
      "     0.        ]\n",
      " [   0.            0.            0.         -557.19897461    0.            0.\n",
      "     0.        ]\n",
      " [   0.            0.            0.         -597.12683105    0.            0.\n",
      "     0.        ]\n",
      " [   0.            0.            0.         -635.25549316    0.            0.\n",
      "     0.        ]\n",
      " [   0.            0.            0.         -665.53607178    0.            0.\n",
      "     0.        ]\n",
      " [   0.            0.            0.         -685.9395752     0.            0.\n",
      "     0.        ]\n",
      " [   0.            0.            0.         -696.10742188    0.            0.\n",
      "     0.        ]]\n",
      "[[   0.            0.            0.         -363.02893066    0.            0.\n",
      "     0.        ]\n",
      " [   0.            0.            0.         -392.68850708    0.            0.\n",
      "     0.        ]\n",
      " [   0.            0.            0.         -433.97229004    0.            0.\n",
      "     0.        ]\n",
      " [   0.            0.            0.         -473.5980835     0.            0.\n",
      "     0.        ]\n",
      " [   0.            0.            0.         -505.24279785    0.            0.\n",
      "     0.        ]\n",
      " [   0.            0.            0.         -526.67303467    0.            0.\n",
      "     0.        ]\n",
      " [   0.            0.            0.         -537.39031982    0.            0.\n",
      "     0.        ]]\n",
      "[[   0.            0.            0.         -204.35215759    0.            0.\n",
      "     0.        ]\n",
      " [   0.            0.            0.         -234.66856384    0.            0.\n",
      "     0.        ]\n",
      " [   0.            0.            0.         -276.94854736    0.            0.\n",
      "     0.        ]\n",
      " [   0.            0.            0.         -317.63339233    0.            0.\n",
      "     0.        ]\n",
      " [   0.            0.            0.         -350.21353149    0.            0.\n",
      "     0.        ]\n",
      " [   0.            0.            0.         -372.33261108    0.            0.\n",
      "     0.        ]\n",
      " [   0.            0.            0.         -383.41381836    0.            0.\n",
      "     0.        ]]\n",
      "[[   0.            0.            0.          -57.10564041    0.            0.\n",
      "     0.        ]\n",
      " [   0.            0.            0.          -87.94895935    0.            0.\n",
      "     0.        ]\n",
      " [   0.            0.            0.         -131.00132751    0.            0.\n",
      "     0.        ]\n",
      " [   0.            0.            0.         -172.47705078    0.            0.\n",
      "     0.        ]\n",
      " [   0.            0.            0.         -205.73251343    0.            0.\n",
      "     0.        ]\n",
      " [   0.            0.            0.         -228.33618164    0.            0.\n",
      "     0.        ]\n",
      " [   0.            0.            0.         -239.66937256    0.            0.\n",
      "     0.        ]]\n",
      "[[   0.            0.            0.            0.            0.            0.\n",
      "     0.        ]\n",
      " [   0.            0.            0.            0.            0.            0.\n",
      "     0.        ]\n",
      " [   0.            0.            0.            0.            0.            0.\n",
      "     0.        ]\n",
      " [   0.            0.            0.          -37.86481094    0.            0.\n",
      "     0.        ]\n",
      " [   0.            0.            0.          -73.57078552    0.            0.\n",
      "     0.        ]\n",
      " [   0.            0.            0.          -97.45642853    0.            0.\n",
      "     0.        ]\n",
      " [   0.            0.            0.         -109.3576889     0.            0.\n",
      "     0.        ]]\n",
      "[[ 0.  0.  0.  0.  0.  0.  0.]\n",
      " [ 0.  0.  0.  0.  0.  0.  0.]\n",
      " [ 0.  0.  0.  0.  0.  0.  0.]\n",
      " [ 0.  0.  0.  0.  0.  0.  0.]\n",
      " [ 0.  0.  0.  0.  0.  0.  0.]\n",
      " [ 0.  0.  0.  0.  0.  0.  0.]\n",
      " [ 0.  0.  0.  0.  0.  0.  0.]]\n",
      "[[ 0.  0.  0.  0.  0.  0.  0.]\n",
      " [ 0.  0.  0.  0.  0.  0.  0.]\n",
      " [ 0.  0.  0.  0.  0.  0.  0.]\n",
      " [ 0.  0.  0.  0.  0.  0.  0.]\n",
      " [ 0.  0.  0.  0.  0.  0.  0.]\n",
      " [ 0.  0.  0.  0.  0.  0.  0.]\n",
      " [ 0.  0.  0.  0.  0.  0.  0.]]\n",
      "[[ 0.  0.  0.  0.  0.  0.  0.]\n",
      " [ 0.  0.  0.  0.  0.  0.  0.]\n",
      " [ 0.  0.  0.  0.  0.  0.  0.]\n",
      " [ 0.  0.  0.  0.  0.  0.  0.]\n",
      " [ 0.  0.  0.  0.  0.  0.  0.]\n",
      " [ 0.  0.  0.  0.  0.  0.  0.]\n",
      " [ 0.  0.  0.  0.  0.  0.  0.]]\n",
      "[[ 0.  0.  0.  0.  0.  0.  0.]\n",
      " [ 0.  0.  0.  0.  0.  0.  0.]\n",
      " [ 0.  0.  0.  0.  0.  0.  0.]\n",
      " [ 0.  0.  0.  0.  0.  0.  0.]\n",
      " [ 0.  0.  0.  0.  0.  0.  0.]\n",
      " [ 0.  0.  0.  0.  0.  0.  0.]\n",
      " [ 0.  0.  0.  0.  0.  0.  0.]]\n",
      "[[ 0.  0.  0.  0.  0.  0.  0.]\n",
      " [ 0.  0.  0.  0.  0.  0.  0.]\n",
      " [ 0.  0.  0.  0.  0.  0.  0.]\n",
      " [ 0.  0.  0.  0.  0.  0.  0.]\n",
      " [ 0.  0.  0.  0.  0.  0.  0.]\n",
      " [ 0.  0.  0.  0.  0.  0.  0.]\n",
      " [ 0.  0.  0.  0.  0.  0.  0.]]\n",
      "[[ 0.  0.  0.  0.  0.  0.  0.]\n",
      " [ 0.  0.  0.  0.  0.  0.  0.]\n",
      " [ 0.  0.  0.  0.  0.  0.  0.]\n",
      " [ 0.  0.  0.  0.  0.  0.  0.]\n",
      " [ 0.  0.  0.  0.  0.  0.  0.]\n",
      " [ 0.  0.  0.  0.  0.  0.  0.]\n",
      " [ 0.  0.  0.  0.  0.  0.  0.]]\n",
      "[[ 0.  0.  0.  0.  0.  0.  0.]\n",
      " [ 0.  0.  0.  0.  0.  0.  0.]\n",
      " [ 0.  0.  0.  0.  0.  0.  0.]\n",
      " [ 0.  0.  0.  0.  0.  0.  0.]\n",
      " [ 0.  0.  0.  0.  0.  0.  0.]\n",
      " [ 0.  0.  0.  0.  0.  0.  0.]\n",
      " [ 0.  0.  0.  0.  0.  0.  0.]]\n",
      "[[ 0.  0.  0.  0.  0.  0.  0.]\n",
      " [ 0.  0.  0.  0.  0.  0.  0.]\n",
      " [ 0.  0.  0.  0.  0.  0.  0.]\n",
      " [ 0.  0.  0.  0.  0.  0.  0.]\n",
      " [ 0.  0.  0.  0.  0.  0.  0.]\n",
      " [ 0.  0.  0.  0.  0.  0.  0.]\n",
      " [ 0.  0.  0.  0.  0.  0.  0.]]\n"
     ]
    }
   ],
   "source": [
    "#create for loop to store only the first value of each time step from riv_flow into riv_list\n",
    "for et in et_flow:\n",
    "    print(et[1])"
   ]
  },
  {
   "cell_type": "code",
   "execution_count": 20,
   "metadata": {
    "collapsed": false,
    "scrolled": false
   },
   "outputs": [
    {
     "data": {
      "text/html": [
       "<div>\n",
       "<table border=\"1\" class=\"dataframe\">\n",
       "  <thead>\n",
       "    <tr style=\"text-align: right;\">\n",
       "      <th></th>\n",
       "      <th>Time Step</th>\n",
       "      <th>Elapsed Time (days)</th>\n",
       "      <th>E-T (part d)</th>\n",
       "    </tr>\n",
       "  </thead>\n",
       "  <tbody>\n",
       "    <tr>\n",
       "      <th>0</th>\n",
       "      <td>1</td>\n",
       "      <td>1.955</td>\n",
       "      <td>-1702.071</td>\n",
       "    </tr>\n",
       "    <tr>\n",
       "      <th>1</th>\n",
       "      <td>2</td>\n",
       "      <td>4.301</td>\n",
       "      <td>-1507.910</td>\n",
       "    </tr>\n",
       "    <tr>\n",
       "      <th>2</th>\n",
       "      <td>3</td>\n",
       "      <td>7.117</td>\n",
       "      <td>-1343.224</td>\n",
       "    </tr>\n",
       "    <tr>\n",
       "      <th>3</th>\n",
       "      <td>4</td>\n",
       "      <td>10.495</td>\n",
       "      <td>-1185.109</td>\n",
       "    </tr>\n",
       "    <tr>\n",
       "      <th>4</th>\n",
       "      <td>5</td>\n",
       "      <td>14.549</td>\n",
       "      <td>-1025.712</td>\n",
       "    </tr>\n",
       "  </tbody>\n",
       "</table>\n",
       "</div>"
      ],
      "text/plain": [
       "   Time Step  Elapsed Time (days)  E-T (part d)\n",
       "0          1                1.955     -1702.071\n",
       "1          2                4.301     -1507.910\n",
       "2          3                7.117     -1343.224\n",
       "3          4               10.495     -1185.109\n",
       "4          5               14.549     -1025.712"
      ]
     },
     "execution_count": 20,
     "metadata": {},
     "output_type": "execute_result"
    }
   ],
   "source": [
    "import pandas as pd\n",
    "table3d = pd.read_csv('../Data/table14.3.csv')\n",
    "\n",
    "table3d.columns #displays all the column names in the file\n",
    "#drops the columns that you enter into the list\n",
    "table3d.drop(['River (part a)', 'GHB (part b)',\n",
    "       'Drain (part c)', 'Constant head (part e)'], axis=1, inplace=True)\n",
    "#prints out the first 5 rows into a table\n",
    "table3d.head()"
   ]
  },
  {
   "cell_type": "code",
   "execution_count": 21,
   "metadata": {
    "collapsed": false
   },
   "outputs": [
    {
     "name": "stdout",
     "output_type": "stream",
     "text": [
      "    Time Step  Elapsed Time (days)  E-T (part d)\n",
      "0           1                1.955     -1702.071\n",
      "1           2                4.301     -1507.910\n",
      "2           3                7.117     -1343.224\n",
      "3           4               10.495     -1185.109\n",
      "4           5               14.549     -1025.712\n",
      "5           6               19.414      -862.600\n",
      "6           7               25.252      -696.128\n",
      "7           8               32.258      -528.506\n",
      "8           9               40.655      -363.187\n",
      "9          10               50.753      -204.534\n",
      "10         11               62.858       -57.278\n",
      "11         12               77.385         0.000\n",
      "12         13               94.817         0.000\n",
      "13         14              115.740         0.000\n",
      "14         15              140.840         0.000\n",
      "15         16              170.960         0.000\n",
      "16         17              207.110         0.000\n",
      "17         18              250.490         0.000\n",
      "18         19              302.540         0.000\n",
      "19         20              365.000         0.000\n"
     ]
    }
   ],
   "source": [
    "#prints the whole dataframe instead of just the first 5 rows\n",
    "print(table3d)"
   ]
  },
  {
   "cell_type": "markdown",
   "metadata": {},
   "source": [
    "### Table 14.3. Discharge for part d representing the third type boundary condition\n",
    "\n",
    "Check your results to make sure they match with the table from the book\n",
    "\n",
    "| Time Step | Elapsed Time (days) | E-T (part d) |\n",
    "|-----------|---------------------|--------------|\n",
    "| 1         | 1.955               | -1702.071    |\n",
    "| 2         | 4.301               | -1507.91     |\n",
    "| 3         | 7.117               | -1343.224    |\n",
    "| 4         | 10.495              | -1185.109    |\n",
    "| 5         | 14.549              | -1025.712    |\n",
    "| 6         | 19.414              | -862.6       |\n",
    "| 7         | 25.252              | -696.128     |\n",
    "| 8         | 32.258              | -528.506     |\n",
    "| 9         | 40.655              | -363.187     |\n",
    "| 10        | 50.753              | -204.534     |\n",
    "| 11        | 62.858              | -57.278      |\n",
    "| 12        | 77.385              | 0            |\n",
    "| 13        | 94.817              | 0            |\n",
    "| 14        | 115.74              | 0            |\n",
    "| 15        | 140.84              | 0            |\n",
    "| 16        | 170.96              | 0            |\n",
    "| 17        | 207.11              | 0            |\n",
    "| 18        | 250.49              | 0            |\n",
    "| 19        | 302.54              | 0            |\n",
    "| 20        | 365                 | 0            |"
   ]
  },
  {
   "cell_type": "code",
   "execution_count": 23,
   "metadata": {
    "collapsed": false,
    "scrolled": false
   },
   "outputs": [
    {
     "data": {
      "image/png": "[encoded data removed]",
      "text/plain": [
       "<matplotlib.figure.Figure at 0x1d58ec1b470>"
      ]
     },
     "metadata": {},
     "output_type": "display_data"
    }
   ],
   "source": [
    "#plot arrows (quivers) that point in the direction of water flowb\n",
    "fig = plt.figure(figsize=(10, 10))\n",
    "ax = fig.add_subplot(1, 1, 1, aspect='equal')\n",
    "\n",
    "modelmap = flopy.plot.ModelMap(model=mf)\n",
    "modelmap.plot_bc(\"WEL\")\n",
    "quadmesh = modelmap.plot_ibound()\n",
    "quiver = modelmap.plot_discharge(frf, fff, color='b')\n",
    "linecollection = modelmap.plot_grid()\n"
   ]
  },
  {
   "cell_type": "code",
   "execution_count": 24,
   "metadata": {
    "collapsed": false,
    "scrolled": false
   },
   "outputs": [
    {
     "data": {
      "image/png": "[encoded data removed]",
      "text/plain": [
       "<matplotlib.figure.Figure at 0x1d58ec46ac8>"
      ]
     },
     "metadata": {},
     "output_type": "display_data"
    }
   ],
   "source": [
    "#show plot_array() and plot_discharge()\n",
    "fig = plt.figure(figsize=(10, 10))\n",
    "ax = fig.add_subplot(2, 1, 1)\n",
    "modelxsect = flopy.plot.ModelCrossSection(model=mf, ax=ax, line={'Column':6})\n",
    "#csa = modelxsect.plot_array(etsimrate)\n",
    "linecollection = modelxsect.plot_grid()\n",
    "quiver = modelxsect.plot_discharge(frf, fff, hstep=1, normalize=False, color='b', headwidth=3, headaxislength=4) \n",
    "patches = modelxsect.plot_ibound()"
   ]
  },
  {
   "cell_type": "code",
   "execution_count": 27,
   "metadata": {
    "collapsed": false,
    "scrolled": true
   },
   "outputs": [
    {
     "data": {
      "image/png": "[encoded data removed]",
      "text/plain": [
       "<matplotlib.figure.Figure at 0x1d58ec4c320>"
      ]
     },
     "metadata": {},
     "output_type": "display_data"
    }
   ],
   "source": [
    "fname = os.path.join(modelname, 'p14_pa.cbc')\n",
    "head = headobj.get_data()\n",
    "levels = np.arange(-25, -10, .5)\n",
    "\n",
    "fig = plt.figure(figsize=(10, 10))\n",
    "\n",
    "#plot_array\n",
    "ax = fig.add_subplot(1, 2, 1, aspect='equal')\n",
    "ax.set_title('contour_array()')\n",
    "modelmap = flopy.plot.ModelMap(model=mf)\n",
    "quadmesh = modelmap.plot_ibound()\n",
    "quadmesh = modelmap.plot_array(head, masked_values=[999.], alpha=0.5)\n",
    "modelmap.plot_bc(\"WEL\")\n",
    "linecollection = modelmap.plot_grid()\n",
    "contour_set = modelmap.contour_array(head, masked_values=[999.], levels=levels)\n"
   ]
  },
  {
   "cell_type": "code",
   "execution_count": 32,
   "metadata": {
    "collapsed": false
   },
   "outputs": [
    {
     "ename": "Exception",
     "evalue": "Not a list-style boundary package:'NoneType' object has no attribute 'stress_period_data'",
     "output_type": "error",
     "traceback": [
      "\u001b[0;31m---------------------------------------------------------------------------\u001b[0m",
      "\u001b[0;31mAttributeError\u001b[0m                            Traceback (most recent call last)",
      "\u001b[0;32mC:\\Users\\Jordan\\Anaconda3\\lib\\site-packages\\flopy\\plot\\map.py\u001b[0m in \u001b[0;36mplot_bc\u001b[0;34m(self, ftype, package, kper, color, plotAll, **kwargs)\u001b[0m\n\u001b[1;32m    363\u001b[0m         \u001b[1;32mtry\u001b[0m\u001b[1;33m:\u001b[0m\u001b[1;33m\u001b[0m\u001b[0m\n\u001b[0;32m--> 364\u001b[0;31m             \u001b[0mmflist\u001b[0m \u001b[1;33m=\u001b[0m \u001b[0mp\u001b[0m\u001b[1;33m.\u001b[0m\u001b[0mstress_period_data\u001b[0m\u001b[1;33m[\u001b[0m\u001b[0mkper\u001b[0m\u001b[1;33m]\u001b[0m\u001b[1;33m\u001b[0m\u001b[0m\n\u001b[0m\u001b[1;32m    365\u001b[0m         \u001b[1;32mexcept\u001b[0m \u001b[0mException\u001b[0m \u001b[1;32mas\u001b[0m \u001b[0me\u001b[0m\u001b[1;33m:\u001b[0m\u001b[1;33m\u001b[0m\u001b[0m\n",
      "\u001b[0;31mAttributeError\u001b[0m: 'NoneType' object has no attribute 'stress_period_data'",
      "\nDuring handling of the above exception, another exception occurred:\n",
      "\u001b[0;31mException\u001b[0m                                 Traceback (most recent call last)",
      "\u001b[0;32m<ipython-input-32-83c894fc801d>\u001b[0m in \u001b[0;36m<module>\u001b[0;34m()\u001b[0m\n\u001b[1;32m      4\u001b[0m \u001b[0mquadmesh\u001b[0m \u001b[1;33m=\u001b[0m \u001b[0mmodelmap\u001b[0m\u001b[1;33m.\u001b[0m\u001b[0mplot_ibound\u001b[0m\u001b[1;33m(\u001b[0m\u001b[1;33m)\u001b[0m\u001b[1;33m\u001b[0m\u001b[0m\n\u001b[1;32m      5\u001b[0m \u001b[0mlinecollection\u001b[0m \u001b[1;33m=\u001b[0m \u001b[0mmodelmap\u001b[0m\u001b[1;33m.\u001b[0m\u001b[0mplot_grid\u001b[0m\u001b[1;33m(\u001b[0m\u001b[1;33m)\u001b[0m\u001b[1;33m\u001b[0m\u001b[0m\n\u001b[0;32m----> 6\u001b[0;31m \u001b[0mevt\u001b[0m \u001b[1;33m=\u001b[0m \u001b[0mmodelmap\u001b[0m\u001b[1;33m.\u001b[0m\u001b[0mplot_bc\u001b[0m\u001b[1;33m(\u001b[0m\u001b[1;34m'ET'\u001b[0m\u001b[1;33m,\u001b[0m \u001b[0mcolor\u001b[0m\u001b[1;33m=\u001b[0m\u001b[1;34m'b'\u001b[0m\u001b[1;33m,\u001b[0m \u001b[0mplotAll\u001b[0m\u001b[1;33m=\u001b[0m\u001b[1;32mTrue\u001b[0m\u001b[1;33m)\u001b[0m\u001b[1;33m\u001b[0m\u001b[0m\n\u001b[0m\u001b[1;32m      7\u001b[0m \u001b[0mquadmesh\u001b[0m \u001b[1;33m=\u001b[0m \u001b[0mmodelmap\u001b[0m\u001b[1;33m.\u001b[0m\u001b[0mplot_bc\u001b[0m\u001b[1;33m(\u001b[0m\u001b[1;34m'WEL'\u001b[0m\u001b[1;33m,\u001b[0m \u001b[0mkper\u001b[0m\u001b[1;33m=\u001b[0m\u001b[1;36m1\u001b[0m\u001b[1;33m,\u001b[0m \u001b[0mplotAll\u001b[0m\u001b[1;33m=\u001b[0m\u001b[1;32mTrue\u001b[0m\u001b[1;33m)\u001b[0m\u001b[1;33m\u001b[0m\u001b[0m\n\u001b[1;32m      8\u001b[0m \u001b[0mcontour_set\u001b[0m \u001b[1;33m=\u001b[0m \u001b[0mmodelmap\u001b[0m\u001b[1;33m.\u001b[0m\u001b[0mcontour_array\u001b[0m\u001b[1;33m(\u001b[0m\u001b[0mhead\u001b[0m\u001b[1;33m,\u001b[0m \u001b[0mlevels\u001b[0m\u001b[1;33m=\u001b[0m\u001b[0mnp\u001b[0m\u001b[1;33m.\u001b[0m\u001b[0marange\u001b[0m\u001b[1;33m(\u001b[0m\u001b[1;33m-\u001b[0m\u001b[1;36m25\u001b[0m\u001b[1;33m,\u001b[0m \u001b[1;33m-\u001b[0m\u001b[1;36m10\u001b[0m\u001b[1;33m,\u001b[0m \u001b[1;36m0.5\u001b[0m\u001b[1;33m)\u001b[0m\u001b[1;33m,\u001b[0m \u001b[0mcolors\u001b[0m\u001b[1;33m=\u001b[0m\u001b[1;34m'g'\u001b[0m\u001b[1;33m)\u001b[0m\u001b[1;33m\u001b[0m\u001b[0m\n",
      "\u001b[0;32mC:\\Users\\Jordan\\Anaconda3\\lib\\site-packages\\flopy\\plot\\map.py\u001b[0m in \u001b[0;36mplot_bc\u001b[0;34m(self, ftype, package, kper, color, plotAll, **kwargs)\u001b[0m\n\u001b[1;32m    364\u001b[0m             \u001b[0mmflist\u001b[0m \u001b[1;33m=\u001b[0m \u001b[0mp\u001b[0m\u001b[1;33m.\u001b[0m\u001b[0mstress_period_data\u001b[0m\u001b[1;33m[\u001b[0m\u001b[0mkper\u001b[0m\u001b[1;33m]\u001b[0m\u001b[1;33m\u001b[0m\u001b[0m\n\u001b[1;32m    365\u001b[0m         \u001b[1;32mexcept\u001b[0m \u001b[0mException\u001b[0m \u001b[1;32mas\u001b[0m \u001b[0me\u001b[0m\u001b[1;33m:\u001b[0m\u001b[1;33m\u001b[0m\u001b[0m\n\u001b[0;32m--> 366\u001b[0;31m             \u001b[1;32mraise\u001b[0m \u001b[0mException\u001b[0m\u001b[1;33m(\u001b[0m\u001b[1;34m'Not a list-style boundary package:'\u001b[0m \u001b[1;33m+\u001b[0m \u001b[0mstr\u001b[0m\u001b[1;33m(\u001b[0m\u001b[0me\u001b[0m\u001b[1;33m)\u001b[0m\u001b[1;33m)\u001b[0m\u001b[1;33m\u001b[0m\u001b[0m\n\u001b[0m\u001b[1;32m    367\u001b[0m \u001b[1;33m\u001b[0m\u001b[0m\n\u001b[1;32m    368\u001b[0m         \u001b[1;31m# Return if MfList is None\u001b[0m\u001b[1;33m\u001b[0m\u001b[1;33m\u001b[0m\u001b[0m\n",
      "\u001b[0;31mException\u001b[0m: Not a list-style boundary package:'NoneType' object has no attribute 'stress_period_data'"
     ]
    },
    {
     "data": {
      "image/png": "[encoded data removed]",
      "text/plain": [
       "<matplotlib.figure.Figure at 0x1d58f71ecc0>"
      ]
     },
     "metadata": {},
     "output_type": "display_data"
    }
   ],
   "source": [
    "fig = plt.figure(figsize=(10, 10))\n",
    "ax = fig.add_subplot(1, 1, 1, aspect='equal')\n",
    "modelmap = flopy.plot.ModelMap(model=mf)\n",
    "quadmesh = modelmap.plot_ibound()\n",
    "linecollection = modelmap.plot_grid()\n",
    "evt = modelmap.plot_bc('ET', color='b', plotAll=True)\n",
    "quadmesh = modelmap.plot_bc('WEL', kper=1, plotAll=True)\n",
    "contour_set = modelmap.contour_array(head, levels=np.arange(-25, -10, 0.5), colors='g')\n",
    "plt.clabel(contour_set, inline=1, fontsize=14)"
   ]
  },
  {
   "cell_type": "code",
   "execution_count": null,
   "metadata": {
    "collapsed": false
   },
   "outputs": [],
   "source": [
    "loadpth = os.path.join('..', 'data', 'freyberg')\n",
    "modelpth = os.path.join('data')\n",
    "\n",
    "#make sure modelpth directory exists\n",
    "if not os.path.exists(modelpth):\n",
    "    os.makedirs(modelpth)\n",
    "    \n",
    "# load the endpoint data\n",
    "endfile = os.path.join(modelpth, mp.sim.endpoint_file)\n",
    "endobj = flopy.utils.EndpointFile(endfile)\n",
    "ept = endobj.get_alldata()\n",
    "\n",
    "# load the pathline data\n",
    "#pthfile = os.path.join(modelpth, mpp.sim.pathline_file)\n",
    "#pthobj = flopy.utils.PathlineFile(pthfile)\n",
    "#plines = pthobj.get_alldata()\n",
    "\n",
    "# plot the data\n",
    "fig = plt.figure(figsize=(10, 10))\n",
    "\n",
    "ax = fig.add_subplot(1, 1, 1, aspect='equal')\n",
    "ax.set_title('plot_array()')\n",
    "#modelmap = flopy.plot.ModelMap(model=ml, rotation=-14)\n",
    "#quadmesh = modelmap.plot_ibound()\n",
    "#quadmesh = modelmap.plot_array(head, masked_values=[999.], alpha=0.5)\n",
    "#quiver = modelmap.plot_discharge(frf, fff, head=head)\n",
    "#linecollection = modelmap.plot_grid()\n",
    "#for d in ml.wel.stress_period_data[0]:\n",
    "#    modelmap.plot_endpoint(ept, direction='starting', selection_direction='ending', selection=(d[0], d[1], d[2]), zorder=100)\n",
    "\n",
    "# construct maximum travel time to plot (200 years - MODFLOW time unit is seconds)\n",
    "#travel_time_max = 200. * 365.25 * 24. * 60. * 60. \n",
    "#ctt = '<={}'.format(travel_time_max)\n",
    "\n",
    "# plot the pathlines\n",
    "#modelmap.plot_pathline(plines, layer='all', colors='red', travel_time=ctt);"
   ]
  },
  {
   "cell_type": "code",
   "execution_count": null,
   "metadata": {
    "collapsed": false
   },
   "outputs": [],
   "source": [
    "# Plot the model bottom array\n",
    "a = mf.dis.botm.array\n",
    "\n",
    "fig = plt.figure(figsize=(10, 10))\n",
    "ax = fig.add_subplot(1, 1, 1, aspect='equal')\n",
    "ax.set_title('Model Elevations')\n",
    "modelmap = flopy.plot.ModelMap(model=mf)\n",
    "quadmesh = modelmap.plot_array(a)\n",
    "linecollection = modelmap.plot_grid()\n",
    "cb = plt.colorbar(quadmesh, shrink=.8)\n",
    "modelmap.plot_bc(\"WEL\")"
   ]
  },
  {
   "cell_type": "code",
   "execution_count": null,
   "metadata": {
    "collapsed": false
   },
   "outputs": [],
   "source": [
    "fname = os.path.join(model_ws, 'p14_pd.cbc')\n",
    "#headobj = bf.HeadFile(fname)\n",
    "#headobj = flopy.utils.HeadFile(fname)\n",
    "head = headobj.get_data()\n",
    "levels = np.arange(10, 30, .5)\n",
    "\n",
    "fig = plt.figure(figsize=(10, 10))\n",
    "\n",
    "#plot_array\n",
    "ax = fig.add_subplot(1, 2, 1, aspect='equal')\n",
    "ax.set_title('plot_array()')\n",
    "modelmap = flopy.plot.ModelMap(model=mf)\n",
    "quadmesh = modelmap.plot_ibound()\n",
    "quadmesh = modelmap.plot_array(head, masked_values=[999.], alpha=0.5)\n",
    "modelmap.plot_bc(\"WEL\")\n",
    "linecollection = modelmap.plot_grid()\n",
    "\n",
    "#contour_array\n",
    "ax = fig.add_subplot(1, 2, 2, aspect='equal')\n",
    "ax.set_title('contour_array()')\n",
    "modelmap = flopy.plot.ModelMap(model=mf)\n",
    "quadmesh = modelmap.plot_ibound()\n",
    "modelmap.plot_bc(\"WEL\")\n",
    "contour_set = modelmap.contour_array(head, masked_values=[999.], levels=levels)\n",
    "linecollection = modelmap.plot_grid()"
   ]
  },
  {
   "cell_type": "code",
   "execution_count": null,
   "metadata": {
    "collapsed": false
   },
   "outputs": [],
   "source": [
    "etlist = []\n",
    "for kstp in range(20):\n",
    "    etrate = cbb.get_data(text='ET')[kstp][1]\n",
    "    etlist.append(etrate[0, 3])\n",
    "print(etlist)"
   ]
  },
  {
   "cell_type": "code",
   "execution_count": null,
   "metadata": {
    "collapsed": false
   },
   "outputs": [],
   "source": [
    "# Plot the drawdown versus time\n",
    "idx = (0, 0, 0) #(nlay, nrow, ncol) *remember you have to subtract 1 from the original numbers for python - (1, 10, 12)*\n",
    "ts = headobj.get_ts(idx)\n",
    "plt.subplot(1, 1, 1)\n",
    "ttl = 'Head at cell ({0},{1},{2})'.format(idx[0] + 1, idx[1] + 1, idx[2] + 1) #we are adding 1 to each part of idx to that it prints out the real values and not the code values\n",
    "plt.title(ttl) #prints/plots title\n",
    "plt.xlabel('time (days)') #labels the x-axis\n",
    "plt.ylabel('drawdown') #labels the y-axis\n",
    "#here we do \"0-ts...\" in order to show the drawdown of \n",
    "plt.plot(ts[:, 0], 0-ts[:, 1], 'bo-') #(x, y, color/type of line)\n",
    "plt.xlim(0, ts[:, 0].max())\n"
   ]
  },
  {
   "cell_type": "code",
   "execution_count": null,
   "metadata": {
    "collapsed": false
   },
   "outputs": [],
   "source": [
    "# Plot the head versus time\n",
    "idx = (0, 0, 0)\n",
    "ts = headobj.get_ts(idx)\n",
    "plt.subplot(1, 1, 1)\n",
    "ttl = 'Head at cell ({0},{1},{2})'.format(idx[0] + 1, idx[1] + 1, idx[2] + 1)\n",
    "plt.title(ttl)\n",
    "plt.xlabel('time (days)')\n",
    "plt.ylabel('head (ft)')\n",
    "plt.plot(ts[:, 0], ts[:, 1], 'ro-')\n",
    "plt.xlim(0, ts[:, 0].max())"
   ]
  },
  {
   "cell_type": "markdown",
   "metadata": {},
   "source": [
    "### Part e)\n",
    "Model the system described above using a two-layer model. The top layer will be the same as in parts ad, except a third type boundary will not be explicitly included. Instead, the bottom layer will represent the third type boundary condition. The bottom layer will be inactive except along column 4, which will be constant head of 0.0 ft. The bottom layer will be confined and have a transmissivity of 100 ft2/d. Calculate a VCONT between layers 1 and 2 to give a conductance of 200 ft2/d. Run the model and note results as you did in parts a-d."
   ]
  },
  {
   "cell_type": "code",
   "execution_count": null,
   "metadata": {
    "collapsed": false,
    "scrolled": true
   },
   "outputs": [],
   "source": [
    "#print discharge values (Table 14.3)\n",
    "fname = os.path.join(model_ws, 'p14_pc.cbc')\n",
    "cbb = flopy.utils.CellBudgetFile(fname)\n",
    "frf = cbb.get_data(text='FLOW RIGHT FACE')[0]\n",
    "fff = cbb.get_data(text='FLOW FRONT FACE')[0]\n",
    "# = cbb.get_data(text='CONSTANT HEAD')[0] #create an array/for loop to get out first value of every step\n",
    "#cbb.list_records()\n",
    "\n",
    "#print(fff)\n",
    "#print()"
   ]
  },
  {
   "cell_type": "markdown",
   "metadata": {},
   "source": [
    "### Table 14.2. Hydraulic head at node (1,4) for part e representing the third type boundary condition\n",
    "\n",
    "Check your results to make sure they match with the table from the book\n",
    "\n",
    "| Time Step | Elapsed Time (days) | Constant head (part e) |\n",
    "|-----------|---------------------|------------------------|\n",
    "| 1         | 1.955               | -1702.071              |\n",
    "| 2         | 4.301               | -1507.91               |\n",
    "| 3         | 7.117               | -1343.224              |\n",
    "| 4         | 10.495              | -1185.109              |\n",
    "| 5         | 14.549              | -1025.712              |\n",
    "| 6         | 19.414              | -862.6                 |\n",
    "| 7         | 25.252              | -696.128               |\n",
    "| 8         | 32.258              | -528.506               |\n",
    "| 9         | 40.655              | -363.187               |\n",
    "| 10        | 50.753              | -204.534               |\n",
    "| 11        | 62.858              | -57.278                |\n",
    "| 12        | 77.385              | 74.008                 |\n",
    "| 13        | 94.817              | 186.017                |\n",
    "| 14        | 115.74              | 276.478                |\n",
    "| 15        | 140.84              | 345.343                |\n",
    "| 16        | 170.96              | 394.331                |\n",
    "| 17        | 207.11              | 426.631                |\n",
    "| 18        | 250.49              | 446.21                 |\n",
    "| 19        | 302.54              | 457.025                |\n",
    "| 20        | 365                 | 462.099                |"
   ]
  },
  {
   "cell_type": "markdown",
   "metadata": {},
   "source": [
    "### MODEL RESULT\n",
    "Table 14.2 shows hydraulic head versus time at node (1,4) for each of the five parts to this problem. Table 14.3 shows discharge versus time at node (1,4). Hydraulic head versus flow is plotted in Figure 14.1.\n"
   ]
  },
  {
   "cell_type": "markdown",
   "metadata": {},
   "source": [
    "### Table 14.2. Hydraulic head at node (1,4) for each of the five methods of representing the third type boundary condition\n",
    "\n",
    "| Time Step | Ellapsed Time (days) | River (part a) | GHB (part b) | Drain (part c) | E-T (part d) | Constant head (part e) |\n",
    "|-----------|----------------------|----------------|--------------|----------------|--------------|------------------------|\n",
    "| 1         | 1.955                | 8.51           | 8.51         | 8.51           | 8.51         | 8.51                   |\n",
    "| 2         | 4.301                | 7.54           | 7.54         | 7.54           | 7.54         | 7.54                   |\n",
    "| 3         | 70117                | 6.716          | 6.716        | 6.716          | 6.716        | 6.716                  |\n",
    "| 4         | 10.495               | 5.926          | 5.926        | 5.926          | 5.926        | 5.926                  |\n",
    "| 5         | 14.549               | 5.129          | 5.129        | 5.129          | 5.129        | 5.129                  |\n",
    "| 6         | 19.414               | 4.313          | 4.313        | 4.313          | 4.313        | 4.313                  |\n",
    "| 7         | 25.252               | 3.481          | 3.481        | 3.481          | 3.481        | 3.481                  |\n",
    "| 8         | 32.258               | 2.643          | 2.643        | 2.643          | 2.643        | 2.643                  |\n",
    "| 9         | 40.655               | 1.816          | 1.816        | 1.816          | 1.816        | 1.816                  |\n",
    "| 10        | 50.753               | 1.023          | 1.023        | 1.023          | 1.023        | 1.023                  |\n",
    "| 11        | 62.858               | 0.286          | 0.286        | 0.286          | 0.286        | 0.286                  |\n",
    "| 12        | 77.385               | -0.371         | -0.371       | -0.495         | -0.495       | -0.37                  |\n",
    "| 13        | 94.817               | -0.93          | -0.93        | -1.44          | -1.44        | -0.93                  |\n",
    "| 14        | 115.74               | -1.382         | -1.382       | -2.54          | -2.54        | -1.382                 |\n",
    "| 15        | 140.84               | -1.727         | -1.727       | -3.843         | -3.843       | -1.727                 |\n",
    "| 16        | 170.96               | -1.972         | -1.972       | -5.399         | -5.399       | -1.972                 |\n",
    "| 17        | 207.11               | -2.175         | -2.133       | -7.264         | -7.264       | -2.133                 |\n",
    "| 18        | 250.49               | -2.337         | -2.231       | -9.505         | -9.505       | -2.231                 |\n",
    "| 19        | 302.54               | -2.448         | -2.285       | -12.2          | -12.2        | -2.285                 |\n",
    "| 20        | 365                  | -2.52          | -2.311       | -15.43         | -15.43       | -2.31"
   ]
  },
  {
   "cell_type": "markdown",
   "metadata": {},
   "source": [
    "### Table 14.3. Discharge for each of the five methods of representing the third type boundary condition\n",
    "\n",
    "| Time Step | Elapsed Time (days) | River (part a) | GHB (part b) | Drain (part c) | E-T (part d) | Constant head (part e) |\n",
    "|-----------|---------------------|----------------|--------------|----------------|--------------|------------------------|\n",
    "| 1         | 1.955               | -1702.071      | -1702.071    | -1702.071      | -1702.071    | -1702.071              |\n",
    "| 2         | 4.301               | -1507.91       | -1507.91     | -1507.91       | -1507.91     | -1507.91               |\n",
    "| 3         | 7.117               | -1343.224      | -1343.224    | -1343.224      | -1343.224    | -1343.224              |\n",
    "| 4         | 10.495              | -1185.109      | -1185.109    | -1185.109      | -1185.109    | -1185.109              |\n",
    "| 5         | 14.549              | -1025.712      | -1025.712    | -1025.712      | -1025.712    | -1025.712              |\n",
    "| 6         | 19.414              | -862.6         | -862.6       | -862.6         | -862.6       | -862.6                 |\n",
    "| 7         | 25.252              | -696.128       | -696.128     | -696.128       | -696.128     | -696.128               |\n",
    "| 8         | 32.258              | -528.506       | -528.506     | -528.506       | -528.506     | -528.506               |\n",
    "| 9         | 40.655              | -363.187       | -363.187     | -363.187       | -363.187     | -363.187               |\n",
    "| 10        | 50.753              | -204.534       | -204.534     | -204.534       | -204.534     | -204.534               |\n",
    "| 11        | 62.858              | -57.278        | -57.278      | -57.278        | -57.278      | -57.278                |\n",
    "| 12        | 77.385              | 74.103         | 74.103       | 0              | 0            | 74.008                 |\n",
    "| 13        | 94.817              | 186.031        | 186.031      | 0              | 0            | 186.017                |\n",
    "| 14        | 115.74              | 276.494        | 276.494      | 0              | 0            | 276.478                |\n",
    "| 15        | 140.84              | 345.353        | 345.353      | 0              | 0            | 345.343                |\n",
    "| 16        | 170.96              | 394.344        | 394.344      | 0              | 0            | 394.331                |\n",
    "| 17        | 207.11              | 400            | 426.648      | 0              | 0            | 426.631                |\n",
    "| 18        | 250.49              | 400            | 446.221      | 0              | 0            | 446.21                 |\n",
    "| 19        | 302.54              | 400            | 457.037      | 0              | 0            | 457.025                |\n",
    "| 20        | 365                 | 400            | 462.149      | 0              | 0            | 462.099                |"
   ]
  },
  {
   "cell_type": "code",
   "execution_count": null,
   "metadata": {
    "collapsed": true
   },
   "outputs": [],
   "source": []
  }
 ],
 "metadata": {
  "kernelspec": {
   "display_name": "Python 3",
   "language": "python",
   "name": "python3"
  },
  "language_info": {
   "codemirror_mode": {
    "name": "ipython",
    "version": 3
   },
   "file_extension": ".py",
   "mimetype": "text/x-python",
   "name": "python",
   "nbconvert_exporter": "python",
   "pygments_lexer": "ipython3",
   "version": "3.6.0"
  }
 },
 "nbformat": 4,
 "nbformat_minor": 2
}
