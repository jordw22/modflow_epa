{
 "cells": [
  {
   "cell_type": "markdown",
   "metadata": {},
   "source": [
    "### Using Jupyter Notebook\n",
    "\n",
    "First off I'll start with teaching you some of the basic knowledge that you'll need to know in order to work with jupyter notebook.\n",
    "\n",
    "So before you get started, make sure you open up a new Python notebook of your own so that you can follow along."
   ]
  },
  {
   "cell_type": "markdown",
   "metadata": {},
   "source": [
    "When you first open up your new notebook you will notice a long grey rectangle, if you click on it,\n",
    "you can type in it. This rectangle is referred to as a \"block\".\n",
    "\n",
    "If you look to the left of the block you will see a [In [ ]:] \n",
    "This is to let you know that you are currently typing in \"Code\" mode, which is the default.\n",
    "If you look at the drawdown menu up top you can click on the down arrow next to the word \"Code\" you\n",
    "will see all of the other options.\n",
    "\n",
    "Right now I am typing in \"Markdown\" which is the format most commonly used when writing plain text files."
   ]
  },
  {
   "cell_type": "markdown",
   "metadata": {},
   "source": [
    "However, if you are working with code and you want to be able to write down a quick message or reminder\n",
    "to yourself you can't just start writing next to your code because it will interfere with it.\n",
    "\n",
    "So what do you do?\n",
    "\n",
    "You use comments.\n",
    "\n",
    "Programmers use commenting all the time in order to write messages to themselves and to others who may\n",
    "need to view the code.\n",
    "In order to create a comment you just have to insert a **# (pound/hashtag symbol)**, and anything you type\n",
    "following that # will be turned into a comment\n",
    "\n",
    "As you look through the modflow_epa problems you will notice me using comments throughout the code."
   ]
  },
  {
   "cell_type": "markdown",
   "metadata": {},
   "source": [
    "### Shortcuts\n",
    "\n",
    "There are also some useful shortcuts that will make your life much easier after learning.\n",
    "\n",
    "1. Instead of clicking the [run cell] button at the top, press [Shift] + [Enter] whenever you want to run a block of code.\n",
    "2. Instead of double clicking a cell to begin editing, simply press [Enter] on the selected cell\n",
    "3. Hit [Shift] + [Tab] to get the definition and all required elements for selected code (click the \"+\" symbol to view more detailed definitions)\n",
    "4. [A] to insert cell above\n",
    "5. [B] to insert cell below\n",
    "6. [X] to delete selected cell\n",
    "7. [V] to copy selected cell\n",
    "8. Hit [Ctrl] + [s] to save and checkpoint\n",
    "9. [H] to bring up the help page which displays many more useful keyboard shortcuts\n"
   ]
  },
  {
   "cell_type": "markdown",
   "metadata": {},
   "source": [
    "# Strings Practice"
   ]
  },
  {
   "cell_type": "markdown",
   "metadata": {},
   "source": [
    "A string is a sequence of characters. Strings are created by enclosing characters within single or double quotes.\n",
    "\n",
    "Strings aren't used very frequently in the online problems, but they are still a good skill to learn."
   ]
  },
  {
   "cell_type": "code",
   "execution_count": 89,
   "metadata": {
    "collapsed": false
   },
   "outputs": [
    {
     "name": "stdout",
     "output_type": "stream",
     "text": [
      "Good\n",
      "Good\n",
      "Good morning, welcome to\n",
      "           the world of Python\n"
     ]
    }
   ],
   "source": [
    "# all of the following are equivalent\n",
    "my_string = 'Good'\n",
    "print(my_string)\n",
    "\n",
    "my_string = \"Good\"\n",
    "print(my_string)\n",
    "\n",
    "# triple quotes string can extend multiple lines\n",
    "my_string = \"\"\"Good morning, welcome to\n",
    "           the world of Python\"\"\"\n",
    "print(my_string)"
   ]
  },
  {
   "cell_type": "markdown",
   "metadata": {},
   "source": [
    "### Accessing specific characters in a string\n",
    "\n",
    "We can access individual characters using indexing and a range of characters using slicing. Index starts from 0. Trying to access a character out of index range will raise an IndexError. The index must be an integer. We can't use float or other types, this will result into TypeError.\n",
    "\n",
    "Python allows negative indexing for its sequences.\n",
    "\n",
    "The index of -1 refers to the last item, -2 to the second last item and so on. We can access a range of items in a string by using the slicing operator (colon)."
   ]
  },
  {
   "cell_type": "code",
   "execution_count": 90,
   "metadata": {
    "collapsed": false
   },
   "outputs": [
    {
     "name": "stdout",
     "output_type": "stream",
     "text": [
      "str =  sunshine\n",
      "str[0] =  s\n",
      "str[-1] =  e\n",
      "str[1:5] =  unsh\n",
      "str[5:-2] =  sunshi\n"
     ]
    }
   ],
   "source": [
    "str = 'sunshine'\n",
    "print('str = ', str)\n",
    "\n",
    "#first character\n",
    "print('str[0] = ', str[0])\n",
    "\n",
    "#last character\n",
    "print('str[-1] = ', str[-1])\n",
    "\n",
    "#slicing 2nd to 5th character\n",
    "print('str[1:5] = ', str[1:5])\n",
    "\n",
    "#slicing 1st to 2nd last character\n",
    "print('str[5:-2] = ', str[0:-2])"
   ]
  },
  {
   "cell_type": "markdown",
   "metadata": {},
   "source": [
    "### Concatenation\n",
    "\n",
    "Joining of two or more strings into a single one is called concatenation.\n",
    "\n",
    "The + operator does this in Python. Simply writing two string literals together also concatenates them.\n",
    "\n",
    "The * operator can be used to repeat the string for a given number of times.\n",
    "\n",
    "We can also add a blank space between the words by putting a single quote with a space inside (' ')"
   ]
  },
  {
   "cell_type": "code",
   "execution_count": 91,
   "metadata": {
    "collapsed": false
   },
   "outputs": [
    {
     "name": "stdout",
     "output_type": "stream",
     "text": [
      "str1 + str2 =  GoodMorning!\n",
      "str1 * 3 = GoodGoodGood\n",
      "str1 + str2 =  Good Morning!\n"
     ]
    }
   ],
   "source": [
    "str1 = 'Good'\n",
    "str2 ='Morning!'\n",
    "\n",
    "# using +\n",
    "print('str1 + str2 = ', str1 + str2)\n",
    "\n",
    "# using *\n",
    "print('str1 * 3 =', str1 * 3)\n",
    "\n",
    "# add a space between the words\n",
    "print('str1 + str2 = ', str1 + ' ' + str2)"
   ]
  },
  {
   "cell_type": "markdown",
   "metadata": {},
   "source": [
    "# Lists Practice"
   ]
  },
  {
   "cell_type": "markdown",
   "metadata": {},
   "source": [
    "In Python programming, a list is created by placing all the items (elements) inside a square bracket [ ], separated by commas.\n",
    "\n",
    "It can have any number of items and they may be of different types (integer, float, string etc.)."
   ]
  },
  {
   "cell_type": "code",
   "execution_count": 93,
   "metadata": {
    "collapsed": true
   },
   "outputs": [],
   "source": [
    "# empty list\n",
    "my_list = []\n",
    "\n",
    "# list of integers\n",
    "my_list = [1, 2, 3]\n",
    "\n",
    "# list with mixed datatypes\n",
    "my_list = [1, \"Hello\", 3.4]"
   ]
  },
  {
   "cell_type": "markdown",
   "metadata": {},
   "source": [
    "Also, a list can even have another list as an item. This is called nested list."
   ]
  },
  {
   "cell_type": "code",
   "execution_count": 94,
   "metadata": {
    "collapsed": true
   },
   "outputs": [],
   "source": [
    "# nested list\n",
    "my_list = [\"mouse\", [8, 4, 6], ['a']]"
   ]
  },
  {
   "cell_type": "markdown",
   "metadata": {},
   "source": [
    "We can use the index operator [] to access an item in a list. Index starts from 0. So, a list having 5 elements will have index from 0 to 4.\n",
    "\n",
    "Trying to access an element other that this will raise an IndexError. The index must be an integer. We can't use float or other types, this will result into TypeError.\n",
    "\n",
    "Nested list are accessed using nested indexing"
   ]
  },
  {
   "cell_type": "code",
   "execution_count": 97,
   "metadata": {
    "collapsed": false
   },
   "outputs": [
    {
     "name": "stdout",
     "output_type": "stream",
     "text": [
      "p\n",
      "o\n",
      "e\n",
      "a\n",
      "5\n"
     ]
    }
   ],
   "source": [
    "my_list = ['p','r','o','b','e']\n",
    "# Output: p\n",
    "print(my_list[0])\n",
    "\n",
    "# Output: o\n",
    "print(my_list[2])\n",
    "\n",
    "# Output: e\n",
    "print(my_list[4])\n",
    "\n",
    "# This will give you an error! Only integers can be used for indexing. Commented it out so that the rest of the program can run.\n",
    "# my_list[4.0]\n",
    "\n",
    "# Nested List\n",
    "n_list = [\"Happy\", [2,0,1,5]]\n",
    "\n",
    "# Nested indexing\n",
    "\n",
    "# Output: a\n",
    "print(n_list[0][1]) #[0] means go to list 1, [1] means take the 2nd entry in list one; which is the a in \"Happy\"   \n",
    "\n",
    "# Output: 5\n",
    "print(n_list[1][3]) #[1] means go to list 2, [3] means take the 4th entry in list 2; which is the 5"
   ]
  },
  {
   "cell_type": "markdown",
   "metadata": {},
   "source": [
    "# Arrays Practice"
   ]
  },
  {
   "cell_type": "code",
   "execution_count": 101,
   "metadata": {
    "collapsed": false
   },
   "outputs": [
    {
     "name": "stdout",
     "output_type": "stream",
     "text": [
      "[  0   0   1   4   7  16  31  64 127]\n"
     ]
    }
   ],
   "source": [
    "a = [0, 0, 1, 4, 7, 16, 31, 64, 127]\n",
    "b = np.array(a)\n",
    "\n",
    "print(b)"
   ]
  },
  {
   "cell_type": "code",
   "execution_count": 102,
   "metadata": {
    "collapsed": false
   },
   "outputs": [
    {
     "name": "stdout",
     "output_type": "stream",
     "text": [
      "[ 1.  4. -2.  7.]\n"
     ]
    }
   ],
   "source": [
    "c = np.array([1, 4., -2, 7])\n",
    "\n",
    "print(c)"
   ]
  },
  {
   "cell_type": "code",
   "execution_count": 104,
   "metadata": {
    "collapsed": false
   },
   "outputs": [
    {
     "data": {
      "text/plain": [
       "array([  0. ,   2.5,   5. ,   7.5,  10. ])"
      ]
     },
     "execution_count": 104,
     "metadata": {},
     "output_type": "execute_result"
    }
   ],
   "source": [
    "np.linspace(0, 10, 5)"
   ]
  },
  {
   "cell_type": "code",
   "execution_count": 105,
   "metadata": {
    "collapsed": false
   },
   "outputs": [
    {
     "data": {
      "text/plain": [
       "array([0, 2, 4, 6, 8])"
      ]
     },
     "execution_count": 105,
     "metadata": {},
     "output_type": "execute_result"
    }
   ],
   "source": [
    "np.arange(0, 10, 2)"
   ]
  },
  {
   "cell_type": "code",
   "execution_count": 106,
   "metadata": {
    "collapsed": false
   },
   "outputs": [
    {
     "data": {
      "text/plain": [
       "array([ 0.,  2.,  4.,  6.,  8.])"
      ]
     },
     "execution_count": 106,
     "metadata": {},
     "output_type": "execute_result"
    }
   ],
   "source": [
    "np.arange(0., 10, 2)"
   ]
  },
  {
   "cell_type": "code",
   "execution_count": 107,
   "metadata": {
    "collapsed": false
   },
   "outputs": [
    {
     "data": {
      "text/plain": [
       "array([ 0. ,  1.5,  3. ,  4.5,  6. ,  7.5,  9. ])"
      ]
     },
     "execution_count": 107,
     "metadata": {},
     "output_type": "execute_result"
    }
   ],
   "source": [
    "np.arange(0, 10, 1.5)"
   ]
  },
  {
   "cell_type": "markdown",
   "metadata": {},
   "source": [
    "# Creating For Loops"
   ]
  },
  {
   "cell_type": "code",
   "execution_count": 7,
   "metadata": {
    "collapsed": false
   },
   "outputs": [
    {
     "name": "stdout",
     "output_type": "stream",
     "text": [
      "1\n",
      "2\n",
      "3\n",
      "4\n"
     ]
    }
   ],
   "source": [
    "#create a variable (counter) that will store the values in the parenthesis within it (1,2,3,4)\n",
    "for counter in (1, 2, 3, 4): #always end the for statement with a colon (:)\n",
    "    #automatically indents next line because the colon means that the following code will be within the for loop\n",
    "    print(counter) #this command prints the values stored in counter (always put the variable following print in parenthesis)"
   ]
  },
  {
   "cell_type": "code",
   "execution_count": 8,
   "metadata": {
    "collapsed": false
   },
   "outputs": [
    {
     "name": "stdout",
     "output_type": "stream",
     "text": [
      "2\n",
      "6\n",
      "10\n",
      "14\n",
      "18\n"
     ]
    }
   ],
   "source": [
    "#this time we are telling counter to store the values from a range of 2 to 20, but only for every 4 values\n",
    "for counter in range (2, 22, 4): #remember the colon\n",
    "    print(counter) #make sure print statement has variable in parenthesis"
   ]
  },
  {
   "cell_type": "code",
   "execution_count": 9,
   "metadata": {
    "collapsed": false
   },
   "outputs": [
    {
     "name": "stdout",
     "output_type": "stream",
     "text": [
      "2\n",
      "6\n",
      "10\n",
      "14\n",
      "18\n",
      "22\n"
     ]
    }
   ],
   "source": [
    "#In the previous code block, you will notice that 22 was not included in the printed values, even though 18+4=22 \n",
    "#and is therefore within the range. Python actually has a rule where you need to add one to the number value in the code\n",
    "#in order to include the 22. The way the for loop works, is that it is adding 4 to the value and then printing it, \n",
    "#so when it gets to 18 it goes back to the beginning, sees that the loop has reached 22 and stops the code before moving on \n",
    "#to print. So to get around this, we can simply do this:\n",
    "for counter in range (2, 23, 4):\n",
    "    print(counter)"
   ]
  },
  {
   "cell_type": "markdown",
   "metadata": {},
   "source": [
    "# Grid Practice"
   ]
  },
  {
   "cell_type": "code",
   "execution_count": 10,
   "metadata": {
    "collapsed": true
   },
   "outputs": [],
   "source": [
    "#Import any modules/packages that we will need to work with\n",
    "%matplotlib inline\n",
    "import os\n",
    "import sys\n",
    "import platform\n",
    "import numpy as np\n",
    "import matplotlib as mpl\n",
    "import matplotlib.pyplot as plt\n",
    "import flopy"
   ]
  },
  {
   "cell_type": "code",
   "execution_count": 60,
   "metadata": {
    "collapsed": false
   },
   "outputs": [
    {
     "data": {
      "image/png": "[encoded data removed]",
      "text/plain": [
       "<matplotlib.figure.Figure at 0x23514315748>"
      ]
     },
     "metadata": {},
     "output_type": "display_data"
    }
   ],
   "source": [
    "#code to create the grid image\n",
    "fig = plt.figure(figsize=(10, 10)) #this will simply create a nice 10x10 grid for us to display when we're done\n",
    "ax = fig.add_subplot(1, 1, 1, aspect='equal') #makes the length and width of the grid equal on all four sides\n",
    "\n",
    "ymax = 10 #assigns value of 10 to ymax\n",
    "ymin = 0 #sets ymin equal to zero\n",
    "xmax = ymax #makes xmax equal to ymax\n",
    "xmin = 0 #sets xmin equal to zero\n",
    "x = 0 #sets x equal to zero\n",
    "y = 0 #sets y equal to zero"
   ]
  },
  {
   "cell_type": "code",
   "execution_count": 75,
   "metadata": {
    "collapsed": false
   },
   "outputs": [
    {
     "data": {
      "image/png": "[encoded data removed]",
      "text/plain": [
       "<matplotlib.figure.Figure at 0x2351414ef28>"
      ]
     },
     "metadata": {},
     "output_type": "display_data"
    }
   ],
   "source": [
    "#Creating these grids will also provide some more for loop practice\n",
    "\n",
    "fig = plt.figure(figsize=(10, 10)) \n",
    "ax = fig.add_subplot(1, 1, 1, aspect='equal') \n",
    "\n",
    "#Creating the columns:\n",
    "\n",
    "plt.plot([xmin, xmin], [ymin, ymax], 'b-') #plots the first column line (on the left). Must be outside of the for loop.\n",
    "#This line is outside the for loop mostly for aesthetic purposes, it is the make the grid look more complete. \n",
    "#'b-' creates a blue line out of dashes\n",
    "\n",
    "for x in range (0, 11, 1): #plots lines from 0 to 11 at increments of 1\n",
    "    plt.plot([x, x], [ymin, ymax], 'b-')\n",
    "\n",
    "#Creating the rows: Repeat the process above but with the y values\n",
    "\n",
    "plt.plot([xmin, xmax], [ymin, ymin], 'g-') #plots the first row line (on the bottom). Must be outside of the loop.\n",
    "#'g-' creates a green line with dashes\n",
    "    \n",
    "for y in range (0, 11, 1): #plots lines from 0 to 11 at increments of 1\n",
    "    plt.plot([xmin, xmax], [y, y], 'g-')\n",
    "    \n",
    "#Creating the well (red dot):\n",
    "\n",
    "xmean = 5 #the mean is the point in the center of the graph, which is where we want to place our well\n",
    "ymean = 5\n",
    "\n",
    "def plot_well(xmean, ymean, sym):\n",
    "    plt.plot(xmean, ymean, sym)\n",
    "plot_well(xmean, ymean, sym='ro') #'ro' creates a red well at point (5, 5)\n",
    "\n",
    "#we don't have to place it in the center though, we can put it wherever we want\n",
    "\n",
    "dx = 2\n",
    "dy = 7\n",
    "\n",
    "def plot_well(dx, dy, sym):\n",
    "    plt.plot(dx, dy, sym)\n",
    "plot_well(dx, dy, sym='ko') #creates black well at point (2, 7)"
   ]
  }
 ],
 "metadata": {
  "kernelspec": {
   "display_name": "Python 3",
   "language": "python",
   "name": "python3"
  },
  "language_info": {
   "codemirror_mode": {
    "name": "ipython",
    "version": 3
   },
   "file_extension": ".py",
   "mimetype": "text/x-python",
   "name": "python",
   "nbconvert_exporter": "python",
   "pygments_lexer": "ipython3",
   "version": "3.6.0"
  }
 },
 "nbformat": 4,
 "nbformat_minor": 2
}
