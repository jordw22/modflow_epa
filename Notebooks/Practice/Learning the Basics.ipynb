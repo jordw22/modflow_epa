{
 "cells": [
  {
   "cell_type": "markdown",
   "metadata": {},
   "source": [
    "### Using Jupyter Notebook\n",
    "\n",
    "First off I'll start with teaching you some of the basic knowledge that you'll need to know in order to work with jupyter notebook.\n",
    "\n",
    "So before you get started, make sure you open up a new Python notebook of your own so that you can follow along."
   ]
  },
  {
   "cell_type": "markdown",
   "metadata": {},
   "source": [
    "When you first open up your new notebook you will notice a long grey rectangle, if you click on it,\n",
    "you can type in it. This rectangle is referred to as a \"block\".\n",
    "\n",
    "If you look to the left of the block you will see a [In [ ]:] \n",
    "This is to let you know that you are currently typing in \"Code\" mode, which is the default.\n",
    "If you look at the drawdown menu up top you can click on the down arrow next to the word \"Code\" you\n",
    "will see all of the other options.\n",
    "\n",
    "Right now I am typing in \"Markdown\" which is the format most commonly used when writing plain text files."
   ]
  },
  {
   "cell_type": "markdown",
   "metadata": {},
   "source": [
    "However, if you are working with code and you want to be able to write down a quick message or reminder\n",
    "to yourself you can't just start writing next to your code because it will interfere with it.\n",
    "\n",
    "So what do you do?\n",
    "\n",
    "You use comments.\n",
    "\n",
    "Programmers use commenting all the time in order to write messages to themselves and to others who may\n",
    "need to view the code.\n",
    "In order to create a comment you just have to insert a **# (pound/hashtag symbol)**, and anything you type\n",
    "following that # will be turned into a comment\n",
    "\n",
    "As you look through the modflow_epa problems you will notice me using comments throughout the code."
   ]
  },
  {
   "cell_type": "markdown",
   "metadata": {},
   "source": [
    "### Shortcuts\n",
    "\n",
    "There are also some useful shortcuts that will make your life much easier after learning.\n",
    "\n",
    "1. Instead of clicking the [run cell] button at the top, press [Shift] + [Enter] whenever you want to run a block of code.\n",
    "2. Instead of double clicking a cell to begin editing, simply press [Enter] on the selected cell\n",
    "3. Hit [Ctrl] + [s] to save and checkpoint\n",
    "4. [A] to insert cell above\n",
    "5. [B] to insert cell below\n",
    "6. [X] to delete selected cell\n",
    "7. [V] to copy selected cell\n",
    "8. [H] to bring up the help page which displays many more useful keyboard shortcuts"
   ]
  },
  {
   "cell_type": "markdown",
   "metadata": {},
   "source": [
    "# Arrays Practice"
   ]
  },
  {
   "cell_type": "code",
   "execution_count": null,
   "metadata": {
    "collapsed": true
   },
   "outputs": [],
   "source": []
  },
  {
   "cell_type": "code",
   "execution_count": null,
   "metadata": {
    "collapsed": true
   },
   "outputs": [],
   "source": []
  },
  {
   "cell_type": "code",
   "execution_count": null,
   "metadata": {
    "collapsed": true
   },
   "outputs": [],
   "source": []
  },
  {
   "cell_type": "code",
   "execution_count": null,
   "metadata": {
    "collapsed": true
   },
   "outputs": [],
   "source": []
  },
  {
   "cell_type": "code",
   "execution_count": null,
   "metadata": {
    "collapsed": true
   },
   "outputs": [],
   "source": []
  },
  {
   "cell_type": "markdown",
   "metadata": {},
   "source": [
    "# Grid Practice"
   ]
  },
  {
   "cell_type": "code",
   "execution_count": null,
   "metadata": {
    "collapsed": true
   },
   "outputs": [],
   "source": []
  },
  {
   "cell_type": "code",
   "execution_count": null,
   "metadata": {
    "collapsed": true
   },
   "outputs": [],
   "source": []
  },
  {
   "cell_type": "code",
   "execution_count": null,
   "metadata": {
    "collapsed": true
   },
   "outputs": [],
   "source": []
  },
  {
   "cell_type": "code",
   "execution_count": null,
   "metadata": {
    "collapsed": true
   },
   "outputs": [],
   "source": []
  },
  {
   "cell_type": "code",
   "execution_count": null,
   "metadata": {
    "collapsed": true
   },
   "outputs": [],
   "source": []
  },
  {
   "cell_type": "code",
   "execution_count": null,
   "metadata": {
    "collapsed": true
   },
   "outputs": [],
   "source": []
  }
 ],
 "metadata": {
  "kernelspec": {
   "display_name": "Python 3",
   "language": "python",
   "name": "python3"
  },
  "language_info": {
   "codemirror_mode": {
    "name": "ipython",
    "version": 3
   },
   "file_extension": ".py",
   "mimetype": "text/x-python",
   "name": "python",
   "nbconvert_exporter": "python",
   "pygments_lexer": "ipython3",
   "version": "3.6.0"
  }
 },
 "nbformat": 4,
 "nbformat_minor": 2
}
