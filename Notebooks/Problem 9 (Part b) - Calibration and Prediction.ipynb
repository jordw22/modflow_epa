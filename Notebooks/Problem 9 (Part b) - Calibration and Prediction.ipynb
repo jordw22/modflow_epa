{
 "cells": [
  {
   "cell_type": "markdown",
   "metadata": {},
   "source": [
    "# PROBLEM 9: Calibration and Prediction"
   ]
  },
  {
   "cell_type": "markdown",
   "metadata": {},
   "source": [
    "### Part b\n",
    "A source of contamination has been discovered in the northeastern comer of the\n",
    "\n",
    "aquifer. At the same time an industry is trying to gain permission to pump\n",
    "\n",
    "groundwater from a well located at row 13, column 4 of the modeled area. What\n",
    "\n",
    "is the maximum pumping rate that should be allowed to prevent the industry from\n",
    "\n",
    "contaminating its own water supply?"
   ]
  },
  {
   "cell_type": "markdown",
   "metadata": {},
   "source": [
    "### Table 9.1: River Data\n",
    "\n",
    "| Row | Column | Stage (ft) | Bottom Elevation (ft) |\n",
    "|-----|--------|------------|-----------------------|\n",
    "| 4   | 1      | 100        | 90                    |\n",
    "| 4   | 2      | 100        | 90                    |\n",
    "| 4   | 3      | 100        | 90                    |\n",
    "| 4   | 4      | 99         | 89                    |\n",
    "| 4   | 5      | 99         | 89                    |\n",
    "| 5   | 6      | 98         | 88                    |\n",
    "| 6   | 7      | 97         | 86                    |\n",
    "| 7   | 8      | 96         | 86                    |\n",
    "| 8   | 9      | 95         | 85                    |\n",
    "| 9   | 10     | 94         | 84                    |\n",
    "| 9   | 11     | 94         | 84                    |\n",
    "| 9   | 12     | 94         | 84                    |\n",
    "| 9   | 13     | 94         | 84                    |\n",
    "| 9   | 14     | 93         | 83                    |\n",
    "| 9   | 15     | 93         | 83                    |"
   ]
  },
  {
   "cell_type": "markdown",
   "metadata": {},
   "source": [
    "### Table 9.2: Calibration Targets\n",
    "\n",
    "| Row | Column | Head (ft) |\n",
    "|-----|--------|-----------|\n",
    "| 14  | 1      | 124       |\n",
    "| 11  | 4      | 119.9     |\n",
    "| 13  | 13     | 113.9     |\n",
    "| 8   | 1      | 116.1     |\n",
    "| 4   | 12     | 113       |\n",
    "| 9   | 6      | 114       |\n",
    "| 2   | 3      | 108.5     |\n",
    "| 11  | 10     | 111.7     |\n",
    "| 7   | 14     | 107.6     |\n",
    "| 3   | 8      | 111.3     |\n",
    "| 2   | 15     | 115.6     |"
   ]
  },
  {
   "cell_type": "code",
   "execution_count": 1,
   "metadata": {
    "collapsed": true
   },
   "outputs": [],
   "source": [
    "#Import and modules/packages that we need to work with\n",
    "%matplotlib inline\n",
    "import os\n",
    "import sys\n",
    "import platform\n",
    "import numpy as np\n",
    "import matplotlib as mpl\n",
    "import matplotlib.pyplot as plt\n",
    "import flopy\n",
    "#import csv"
   ]
  },
  {
   "cell_type": "code",
   "execution_count": 2,
   "metadata": {
    "collapsed": false
   },
   "outputs": [
    {
     "name": "stdout",
     "output_type": "stream",
     "text": [
      "C:\\VT\\USGS Internship\\EPA-MF-Problems\\Notebooks\n",
      "500.0\n",
      "500.0\n",
      "500.0\n",
      "500.0\n",
      "500.0\n",
      "500.0\n",
      "500.0\n",
      "500.0\n",
      "500.0\n",
      "500.0\n",
      "500.0\n",
      "500.0\n",
      "500.0\n",
      "500.0\n",
      "500.0\n",
      "[500.0, 500.0, 500.0, 500.0, 500.0, 500.0, 500.0, 500.0, 500.0, 500.0, 500.0, 500.0, 500.0, 500.0, 500.0]\n"
     ]
    }
   ],
   "source": [
    "print(os.getcwd())\n",
    "delr = [] #creates an empty list\n",
    "f = open('../Data/problem9_grid_data.csv') #opens the csv file; the two periods (.) means that you are goin backwards into the folders.\n",
    "    \n",
    "    #the four loop below creates a statement that if i == 0 (if it's the first\n",
    "    #row then it will skip it (continue) and move on with the for loop)\n",
    "    #we skip the first row in our table/csv file because the headers would give\n",
    "    #us an error since they aren't numerical values.\n",
    "for i,line in enumerate(f):\n",
    "    if i == 0: \n",
    "        continue\n",
    "        \n",
    "    #\"line.strip\" gets rid of any extra spaces in the margins of the plot\n",
    "    #\"split\" sections of the individual values according to whatever you put in the quotes\n",
    "    linelist = line.strip().split(',') \n",
    "    \n",
    "    value = float(linelist[1]) #changes the values in the list to floats\n",
    "    print(value) #prints the values\n",
    "    delr.append(value) #puts the floats into the empty list, delr \n",
    "    \n",
    "print(delr) #prints the list"
   ]
  },
  {
   "cell_type": "code",
   "execution_count": 3,
   "metadata": {
    "collapsed": false
   },
   "outputs": [
    {
     "name": "stdout",
     "output_type": "stream",
     "text": [
      "[ 500.  500.  500.  500.  500.  500.  500.  500.  500.  500.  500.  500.\n",
      "  500.  500.  500.]\n",
      "7500.0\n"
     ]
    },
    {
     "data": {
      "image/png": "[encoded data removed]",
      "text/plain": [
       "<matplotlib.figure.Figure at 0x1fbda2505f8>"
      ]
     },
     "metadata": {},
     "output_type": "display_data"
    }
   ],
   "source": [
    "#code to create the grid image\n",
    "fig = plt.figure(figsize=(10, 10))\n",
    "ax = fig.add_subplot(1, 1, 1, aspect='equal') #makes the length and width of the grid equal on all four sides\n",
    "delr_array = np.array(delr) #changes delr values from float to array\n",
    "print (delr_array) #prints those values\n",
    "print (delr_array.sum()) #prints the sum of those values\n",
    "ymax = delr_array.sum() #assigns the sum of the list to ymax\n",
    "ymin = 0 #sets ymin equal to zero\n",
    "xmax = ymax #makes xmax equal to ymax which is equal to the sum of the list\n",
    "xmin = 0 #sets xmin equal to zero\n",
    "x = 0 #sets x equal to zero\n",
    "y = 0 #sets y equal to zero\n",
    "\n",
    "#before moving on to this code, it helps to draw out an image of a graph with each corner labled with the coordinates of that point\n",
    "#top left - (xmin, ymax)\n",
    "#bottom left - (xmin, ymin)\n",
    "#top right - (xmax, ymax)\n",
    "#bottom right - (xmax, ymin)\n",
    "plt.plot([xmin, xmin], [ymin, ymax], 'b-') #plots the first column line (on the left). Must be outside of the loop.\n",
    "#'b-' creates a blue line out of dashes\n",
    "for dx in delr: #dx will go through the values in delr one by one in the loop\n",
    "    x = x + dx #add the dx value to x, which is zero, and then store that new value into x\n",
    "    plt.plot([x, x], [ymin, ymax], 'b-') #plot that point and then loop back to top\n",
    "\n",
    "    #repeat the process above but with the y values to make the rows\n",
    "plt.plot([xmin, xmax], [ymin, ymin], 'g-') #plots the first row line (on the bottom). Must be outside of the loop\n",
    "#'g-' creates a green line with dashes\n",
    "for dy in delr: \n",
    "    y = y + dy\n",
    "    plt.plot([xmin, xmax], [y, y], 'g-')\n",
    "\n",
    "    #assign the x and y values to the sum of the list and then divided \n",
    "    #in half in order the get the mean, now the well is right in the middle\n",
    "xmean = delr_array.sum() * .5\n",
    "ymean = delr_array.sum() * .5\n",
    "\n",
    "#create well\n",
    "x0 = 1750\n",
    "y0 = 1250\n",
    "def wel_sp(x0, y0, sym):\n",
    "    plt.plot(x0, y0, sym)\n",
    "wel_sp(x0, y0, sym='ro')\n",
    "\n",
    "#create river\n",
    "x1 = 250\n",
    "y1 = 5750\n",
    "def riv1(x1, y1, sym):\n",
    "    plt.plot(x1, y1, sym)\n",
    "riv1(x1, y1, sym='bo')\n",
    "\n",
    "x2 = 750\n",
    "y2 = 5750\n",
    "def riv2(x2, y2, sym):\n",
    "    plt.plot(x2, y2, sym)\n",
    "riv2(x2, y2, sym='bo')\n",
    "\n",
    "x3 = 1250\n",
    "y3 = 5750\n",
    "def riv3(x3, y3, sym):\n",
    "    plt.plot(x3, y3, sym)\n",
    "riv3(x3, y3, sym='bo')\n",
    "\n",
    "x4 = 1750\n",
    "y4 = 5750\n",
    "def riv4(x4, y4, sym):\n",
    "    plt.plot(x4, y4, sym)\n",
    "riv4(x4, y4, sym='bo')\n",
    "\n",
    "x5 = 2250\n",
    "y5 = 5750\n",
    "def riv5(x5, y5, sym):\n",
    "    plt.plot(x5, y5, sym)\n",
    "riv5(x5, y5, sym='bo')\n",
    "\n",
    "x6 = 2750\n",
    "y6 = 5250\n",
    "def riv6(x6, y6, sym):\n",
    "    plt.plot(x6, y6, sym)\n",
    "riv6(x6, y6, sym='bo')\n",
    "\n",
    "x7 = 3250\n",
    "y7 = 4750\n",
    "def riv7(x7, y7, sym):\n",
    "    plt.plot(x7, y7, sym)\n",
    "riv7(x7, y7, sym='bo')\n",
    "\n",
    "x8 = 3750\n",
    "y8 = 4250\n",
    "def riv8(x8, y8, sym):\n",
    "    plt.plot(x8, y8, sym)\n",
    "riv8(x8, y8, sym='bo')\n",
    "\n",
    "x9 = 4250\n",
    "y9 = 3750\n",
    "def riv9(x9, y9, sym):\n",
    "    plt.plot(x9, y9, sym)\n",
    "riv9(x9, y9, sym='bo')\n",
    "\n",
    "x10 = 4750\n",
    "y10 = 3250\n",
    "def riv10(x10, y10, sym):\n",
    "    plt.plot(x10, y10, sym)\n",
    "riv10(x10, y10, sym='bo')\n",
    "\n",
    "x11 = 5250\n",
    "y11 = 3250\n",
    "def riv11(x11, y11, sym):\n",
    "    plt.plot(x11, y11, sym)\n",
    "riv11(x11, y11, sym='bo')\n",
    "\n",
    "x12 = 5750\n",
    "y12 = 3250\n",
    "def riv12(x12, y12, sym):\n",
    "    plt.plot(x12, y12, sym)\n",
    "riv12(x12, y12, sym='bo')\n",
    "\n",
    "x13 = 6250\n",
    "y13 = 3250\n",
    "def riv13(x13, y13, sym):\n",
    "    plt.plot(x13, y13, sym)\n",
    "riv13(x13, y13, sym='bo')\n",
    "\n",
    "x14 = 6750\n",
    "y14 = 3250\n",
    "def riv14(x14, y14, sym):\n",
    "    plt.plot(x14, y14, sym)\n",
    "riv14(x14, y14, sym='bo')\n",
    "\n",
    "x15 = 7250\n",
    "y15 = 3250\n",
    "def riv15(x15, y15, sym):\n",
    "    plt.plot(x15, y15, sym)\n",
    "riv15(x15, y15, sym='bo')"
   ]
  },
  {
   "cell_type": "code",
   "execution_count": 32,
   "metadata": {
    "collapsed": true
   },
   "outputs": [],
   "source": [
    "#Flopy objects\n",
    "modelname = 'p9_pb' #short for problem 9 part b\n",
    "exe_name = '../MF2005.1_12/bin/mf2005.exe'\n",
    "model_ws = 'temp'\n",
    "mf = flopy.modflow.Modflow(modelname, exe_name=exe_name, model_ws = model_ws)"
   ]
  },
  {
   "cell_type": "code",
   "execution_count": 33,
   "metadata": {
    "collapsed": true
   },
   "outputs": [],
   "source": [
    "#dis package\n",
    "#call in the discretization package\n",
    "nlay = 1\n",
    "nrow = 15\n",
    "ncol = 15\n",
    "delr = 500\n",
    "delc = delr #set delr values equal to delc\n",
    "top = 0 #an array of the top elevation of layer 1\n",
    "botm = -1 #an array of the bottom elevation of layer 1\n",
    "nper = 1 #number of periods\n",
    "perlen = 86400. #length of stress period\n",
    "tsmult = 11 #time step multiplier\n",
    "dis = flopy.modflow.ModflowDis(mf, nlay=nlay, nrow=nrow, ncol=ncol, delr=delr, delc=delc,\n",
    "                               top=top, botm=botm, nper=nper, perlen=perlen, tsmult=tsmult, steady=False)"
   ]
  },
  {
   "cell_type": "code",
   "execution_count": 34,
   "metadata": {
    "collapsed": true
   },
   "outputs": [],
   "source": [
    "#bas package\n",
    "ibound = np.ones((nlay, nrow, ncol))\n",
    "strt = np.zeros((nlay, nrow, ncol))\n",
    "bas1 = flopy.modflow.ModflowBas(mf, ibound=ibound, strt=strt)"
   ]
  },
  {
   "cell_type": "code",
   "execution_count": 35,
   "metadata": {
    "collapsed": false
   },
   "outputs": [],
   "source": [
    "#wel package\n",
    "pr = 4000 #pumping rate\n",
    "wel_sp = [[0, 12, 3, -pr]]\n",
    "stress_period_data = {0: wel_sp}\n",
    "wel = flopy.modflow.ModflowWel(mf, stress_period_data=stress_period_data)"
   ]
  },
  {
   "cell_type": "code",
   "execution_count": 36,
   "metadata": {
    "collapsed": false
   },
   "outputs": [],
   "source": [
    "#pcg package\n",
    "pcg = flopy.modflow.ModflowPcg(mf)"
   ]
  },
  {
   "cell_type": "code",
   "execution_count": 37,
   "metadata": {
    "collapsed": false
   },
   "outputs": [],
   "source": [
    "#lpf package\n",
    "laytyp = np.zeros((nlay))\n",
    "lpf = flopy.modflow.ModflowLpf(mf, laytyp=laytyp)"
   ]
  },
  {
   "cell_type": "code",
   "execution_count": 38,
   "metadata": {
    "collapsed": false
   },
   "outputs": [],
   "source": [
    "#oc package\n",
    "oc = flopy.modflow.ModflowOc(mf)"
   ]
  },
  {
   "cell_type": "code",
   "execution_count": 39,
   "metadata": {
    "collapsed": false
   },
   "outputs": [
    {
     "name": "stdout",
     "output_type": "stream",
     "text": [
      "[[0, 3, 0, 100.0, 0.01, 90.0], [0, 3, 1, 100.0, 0.01, 90.0], [0, 3, 2, 100.0, 0.01, 90.0], [0, 3, 3, 99.0, 0.01, 89.0], [0, 3, 4, 99.0, 0.01, 89.0], [0, 4, 5, 98.0, 0.01, 88.0], [0, 5, 6, 97.0, 0.01, 86.0], [0, 6, 7, 96.0, 0.01, 86.0], [0, 7, 8, 95.0, 0.01, 85.0], [0, 8, 9, 94.0, 0.01, 84.0], [0, 8, 10, 94.0, 0.01, 84.0], [0, 8, 11, 94.0, 0.01, 84.0], [0, 8, 12, 94.0, 0.01, 84.0], [0, 8, 13, 93.0, 0.01, 83.0], [0, 8, 14, 93.0, 0.01, 83.0]]\n"
     ]
    }
   ],
   "source": [
    "#riv package\n",
    "ipakcb = 0\n",
    "stage1 = 100.0\n",
    "stage2 = 99.0\n",
    "stage3 = 98.0\n",
    "stage4 = 97.0\n",
    "stage5 = 96.0\n",
    "stage6 = 95.0\n",
    "stage7 = 94.0\n",
    "stage8 = 93.0 \n",
    "cond =  0.01\n",
    "rbot1 = 90.0\n",
    "rbot2 = 89.0\n",
    "rbot3 = 88.0\n",
    "rbot4 = 86.0\n",
    "rbot5 = 85.0\n",
    "rbot6 = 84.0\n",
    "rbot7 = 83.0\n",
    "\n",
    "riv_sp = [[0, 3, 0, stage1, cond, rbot1],\n",
    "          [0, 3, 1, stage1, cond, rbot1],\n",
    "          [0, 3, 2, stage1, cond, rbot1],\n",
    "          [0, 3, 3, stage2, cond, rbot2],\n",
    "          [0, 3, 4, stage2, cond, rbot2],\n",
    "          [0, 4, 5, stage3, cond, rbot3],\n",
    "          [0, 5, 6, stage4, cond, rbot4],\n",
    "          [0, 6, 7, stage5, cond, rbot4],\n",
    "          [0, 7, 8, stage6, cond, rbot5],\n",
    "          [0, 8, 9, stage7, cond, rbot6],\n",
    "          [0, 8, 10, stage7, cond, rbot6],\n",
    "          [0, 8, 11, stage7, cond, rbot6],\n",
    "          [0, 8, 12, stage7, cond, rbot6],\n",
    "          [0, 8, 13, stage8, cond, rbot7],\n",
    "          [0, 8, 14, stage8, cond, rbot7]]\n",
    "          \n",
    "riv_spd = {0: riv_sp}\n",
    "riv = flopy.modflow.ModflowRiv(mf, ipakcb=ipakcb, stress_period_data=riv_spd)\n",
    "\n",
    "print(riv_sp)"
   ]
  },
  {
   "cell_type": "code",
   "execution_count": 40,
   "metadata": {
    "collapsed": false
   },
   "outputs": [],
   "source": [
    "#rch package\n",
    "rech = 200\n",
    "rch = flopy.modflow.ModflowRch(mf, rech=rech)"
   ]
  },
  {
   "cell_type": "code",
   "execution_count": 41,
   "metadata": {
    "collapsed": false
   },
   "outputs": [
    {
     "name": "stdout",
     "output_type": "stream",
     "text": [
      "warning: assuming SpatialReference units are meters\n"
     ]
    }
   ],
   "source": [
    "# Write the MODFLOW model input files\n",
    "mf.write_input()"
   ]
  },
  {
   "cell_type": "code",
   "execution_count": 42,
   "metadata": {
    "collapsed": false
   },
   "outputs": [
    {
     "name": "stdout",
     "output_type": "stream",
     "text": [
      "FloPy is using the following executable to run the model: ../MF2005.1_12/bin/mf2005.exe\n",
      "\n",
      "                                  MODFLOW-2005     \n",
      "    U.S. GEOLOGICAL SURVEY MODULAR FINITE-DIFFERENCE GROUND-WATER FLOW MODEL\n",
      "                             Version 1.12.00 2/3/2017                        \n",
      "\n",
      " Using NAME file: p9_pb.nam \n",
      " Run start date and time (yyyy/mm/dd hh:mm:ss): 2017/06/29 10:21:27\n",
      "\n",
      " Solving:  Stress period:     1    Time step:     1    Ground-Water Flow Eqn.\n",
      " Run end date and time (yyyy/mm/dd hh:mm:ss): 2017/06/29 10:21:27\n",
      " Elapsed run time:  0.015 Seconds\n",
      "\n",
      " FAILED TO MEET SOLVER CONVERGENCE CRITERIA            1  TIME(S)\n"
     ]
    }
   ],
   "source": [
    "# Run the MODFLOW model\n",
    "success, buff = mf.run_model()"
   ]
  },
  {
   "cell_type": "code",
   "execution_count": null,
   "metadata": {
    "collapsed": true
   },
   "outputs": [],
   "source": []
  },
  {
   "cell_type": "code",
   "execution_count": null,
   "metadata": {
    "collapsed": true
   },
   "outputs": [],
   "source": []
  },
  {
   "cell_type": "code",
   "execution_count": null,
   "metadata": {
    "collapsed": true
   },
   "outputs": [],
   "source": []
  }
 ],
 "metadata": {
  "kernelspec": {
   "display_name": "Python 3",
   "language": "python",
   "name": "python3"
  },
  "language_info": {
   "codemirror_mode": {
    "name": "ipython",
    "version": 3
   },
   "file_extension": ".py",
   "mimetype": "text/x-python",
   "name": "python",
   "nbconvert_exporter": "python",
   "pygments_lexer": "ipython3",
   "version": "3.6.0"
  }
 },
 "nbformat": 4,
 "nbformat_minor": 2
}
