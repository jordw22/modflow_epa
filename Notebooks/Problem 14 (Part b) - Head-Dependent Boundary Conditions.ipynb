{
 "cells": [
  {
   "cell_type": "markdown",
   "metadata": {},
   "source": [
    "# Problem 14: Head-Dependent Boundary Conditions"
   ]
  },
  {
   "cell_type": "markdown",
   "metadata": {},
   "source": [
    "### Part b) \n",
    "_Model the third type boundary condition as a general head boundary running down the center of column 4. The boundary has the following characteristics:_\n",
    "\n",
    "| Variable    | Value      |\n",
    "|-------------|------------|\n",
    "| Elevation   | 0.0 ft     |\n",
    "| Conductance | 200 $\\frac{ft^2}{d}$ |\n",
    "\n",
    "_Run the model and note the results as you did in part a._"
   ]
  },
  {
   "cell_type": "markdown",
   "metadata": {},
   "source": [
    "###  Table 14.1. Aquifer parameters and discretization data for Problem 14\n",
    "| Variable                     | Value       |\n",
    "|------------------------------|-------------|\n",
    "| Initial head                 | 10 ft       |\n",
    "| Hydraulic conductivity       | 10 $\\frac{ft}{d}$     |\n",
    "| Aquifer base                 | -50 ft      |\n",
    "| Storage coefficient          | 0.1         |\n",
    "| Grid spacing (uniform)       | 100 ft      |\n",
    "| Pumping rate                 | 2500 $\\frac{ft^2}{d}$ |\n",
    "| Stress period length         | 365 days    |\n",
    "| Time steps                   | 20          |\n",
    "| Time step multiplier         | 1.2         |\n",
    "| SIP iteration parameters     | 5           |\n",
    "| Maximum number of iterations | 50          |\n",
    "| Acceleration parameter       | 1           |\n",
    "| Closure criterion            | 0.001       |"
   ]
  },
  {
   "cell_type": "code",
   "execution_count": 1,
   "metadata": {
    "collapsed": true
   },
   "outputs": [],
   "source": [
    "#Import and modules/packages that we need to work with\n",
    "%matplotlib inline\n",
    "import os\n",
    "import sys\n",
    "import platform\n",
    "import numpy as np\n",
    "import matplotlib as mpl\n",
    "import matplotlib.pyplot as plt\n",
    "import flopy\n",
    "#import csv"
   ]
  },
  {
   "cell_type": "code",
   "execution_count": 2,
   "metadata": {
    "collapsed": false
   },
   "outputs": [
    {
     "name": "stdout",
     "output_type": "stream",
     "text": [
      "C:\\VT\\USGS Internship\\modflow_epa.git\\Notebooks\n",
      "10.0\n",
      "10.0\n",
      "-50.0\n",
      "0.1\n",
      "100.0\n",
      "2500.0\n",
      "365.0\n",
      "20.0\n",
      "1.2\n",
      "5.0\n",
      "50.0\n",
      "1.0\n",
      "0.001\n",
      "[10.0, 10.0, -50.0, 0.1, 100.0, 2500.0, 365.0, 20.0, 1.2, 5.0, 50.0, 1.0, 0.001]\n"
     ]
    }
   ],
   "source": [
    "print(os.getcwd())\n",
    "delr = [] #creates an empty list\n",
    "f = open('../Data/table14.1.csv') #opens the csv file; the two periods (.) means that you are goin backwards into the folders.\n",
    "    \n",
    "    #the four loop below creates a statement that if i == 0 (if it's the first\n",
    "    #row then it will skip it (continue) and move on with the for loop)\n",
    "    #we skip the first row in our table/csv file because the headers would give\n",
    "    #us an error since they aren't numerical values.\n",
    "for i,line in enumerate(f):\n",
    "    if i == 0: \n",
    "        continue\n",
    "        \n",
    "    #\"line.strip\" gets rid of any extra spaces in the margins of the plot\n",
    "    #\"split\" sections of the individual values according to whatever you put in the quotes\n",
    "    linelist = line.strip().split(',') \n",
    "    \n",
    "    value = float(linelist[1]) #changes the values in the list to floats\n",
    "    print(value) #prints the values\n",
    "    delr.append(value) #puts the floats into the empty list, delr \n",
    "    \n",
    "print(delr) #prints the list"
   ]
  },
  {
   "cell_type": "code",
   "execution_count": 3,
   "metadata": {
    "collapsed": false,
    "scrolled": true
   },
   "outputs": [
    {
     "name": "stdout",
     "output_type": "stream",
     "text": [
      "initial head: 10.0 ft\n",
      "hydraulic conductivity: 10.0 ft/d\n",
      "aquifer base: -50.0 ft\n",
      "storage coefficient: 0.1\n",
      "grid spacing (uniform): 100 ft\n",
      "pumping rate: -2500.0 ft^3/d\n",
      "stress period length: 365 days\n",
      "number of time steps: 20\n",
      "time step expansion factor: 1.2\n",
      "SIP iteration parameters: 5\n",
      "maximum number of iterations: 50\n",
      "accelereation parameter: 1.0\n",
      "closure criterion: 0.001\n"
     ]
    }
   ],
   "source": [
    "#Store the values of each parameter into separate variables\n",
    "inh = 10.0 #initial head\n",
    "hk = 10.0 #hydraulic conductivity\n",
    "botm = -50.0 #aquifer base\n",
    "sy = 0.1 #storage coefficient\n",
    "delr = 100 #grid spacing (uniform)\n",
    "delc = delr\n",
    "pr = -2500. #pumping rate\n",
    "perlen = 365 #final time (stress period length)\n",
    "nstp = 20 #number of time steps\n",
    "tsmult = 1.2 #time step multiplier\n",
    "sip_it_par = 5 #SIP iteration parameters\n",
    "mxiter = 50 #maximum number of iterations\n",
    "accel_par = 1.0 #acceleration parameter\n",
    "hclose = 0.001 #closure criterion (the head change criterion for convergence)\n",
    "nlay = 1 #number of layers\n",
    "nrow = 7 #number of rows\n",
    "ncol = 7 #number of columns\n",
    "\n",
    "#print values to make sure they are all stored properly\n",
    "#put in quotes to make a string, .format takes whatever is in the () \n",
    "#and changes it to a float, it is then stored in the {}\n",
    "\n",
    "print('initial head: {} ft'.format(inh))\n",
    "print('hydraulic conductivity: {} ft/d'.format(hk))\n",
    "print('aquifer base: {} ft'.format(botm))\n",
    "print('storage coefficient: {}'.format(sy))\n",
    "print('grid spacing (uniform): {} ft'.format(delr))\n",
    "print('pumping rate: {} ft^3/d'.format(pr))\n",
    "print('stress period length: {} days'.format(perlen))\n",
    "print('number of time steps: {}'.format(nstp))\n",
    "print('time step expansion factor: {}'.format(tsmult))\n",
    "print('SIP iteration parameters: {}'.format(sip_it_par))\n",
    "print('maximum number of iterations: {}'.format(mxiter))\n",
    "print('accelereation parameter: {}'.format(accel_par))\n",
    "print('closure criterion: {}'.format(hclose))\n"
   ]
  },
  {
   "cell_type": "code",
   "execution_count": 4,
   "metadata": {
    "collapsed": true
   },
   "outputs": [],
   "source": [
    "#Flopy objects\n",
    "modelname = 'p14_pb' #short for problem 14 part b\n",
    "exe_name = '../MF2005.1_12/bin/mf2005.exe'\n",
    "model_ws = 'temp'\n",
    "mf = flopy.modflow.Modflow(modelname, exe_name=exe_name, model_ws = model_ws)"
   ]
  },
  {
   "cell_type": "code",
   "execution_count": 5,
   "metadata": {
    "collapsed": true
   },
   "outputs": [],
   "source": [
    "#call in the discretization package\n",
    "top = 10 #an array of the top elevation of layer 1\n",
    "nper = 1 #number of periods\n",
    "dis = flopy.modflow.ModflowDis(mf, nlay, nrow, ncol, delr=delr, delc=delc,\n",
    "                               top=top, botm=botm, nper=nper, perlen=perlen, \n",
    "                               nstp=nstp, tsmult=tsmult, steady=False)"
   ]
  },
  {
   "cell_type": "code",
   "execution_count": 6,
   "metadata": {
    "collapsed": false
   },
   "outputs": [],
   "source": [
    "#call in the basic package\n",
    "ibound = np.ones((nlay, nrow, ncol))\n",
    "strt = 10\n",
    "bas = flopy.modflow.ModflowBas(mf, ibound=ibound, strt=strt)"
   ]
  },
  {
   "cell_type": "code",
   "execution_count": 7,
   "metadata": {
    "collapsed": false
   },
   "outputs": [],
   "source": [
    "#call in the layer-propery flow (LPF)\n",
    "laytyp = 1\n",
    "ipakcb = 50\n",
    "lpf = flopy.modflow.ModflowLpf(mf, hk=hk, sy=sy, laytyp=laytyp, ipakcb=ipakcb)"
   ]
  },
  {
   "cell_type": "code",
   "execution_count": 8,
   "metadata": {
    "collapsed": false
   },
   "outputs": [],
   "source": [
    "#call in the well package (WEL)\n",
    "# Remember to use zero-based layer, row, column indices!\n",
    "wel_sp1 = [[0, 0, 0, pr]]\n",
    "wel_spd = {0: wel_sp1}\n",
    "wel = flopy.modflow.ModflowWel(mf, stress_period_data=wel_spd)\n"
   ]
  },
  {
   "cell_type": "code",
   "execution_count": 9,
   "metadata": {
    "collapsed": false,
    "scrolled": false
   },
   "outputs": [],
   "source": [
    "#call in the preconditioned conjugate-gradient package (PCG) \n",
    "pcg = flopy.modflow.ModflowPcg(mf, mxiter=mxiter, hclose=hclose)"
   ]
  },
  {
   "cell_type": "code",
   "execution_count": 10,
   "metadata": {
    "collapsed": false
   },
   "outputs": [],
   "source": [
    "#call in the output control package (OC)\n",
    "oc = flopy.modflow.ModflowOc(mf, stress_period_data={(0, 0): ['save head', 'print budget', 'save budget']})"
   ]
  },
  {
   "cell_type": "code",
   "execution_count": 11,
   "metadata": {
    "collapsed": false
   },
   "outputs": [
    {
     "name": "stdout",
     "output_type": "stream",
     "text": [
      "[[0, 0, 3, 0.0, 200.0], [0, 1, 3, 0.0, 200.0], [0, 2, 3, 0.0, 200.0], [0, 3, 3, 0.0, 200.0], [0, 4, 3, 0.0, 200.0], [0, 5, 3, 0.0, 200.0], [0, 6, 3, 0.0, 200.0]]\n"
     ]
    }
   ],
   "source": [
    "#call in the general head boundary package (GHB)\n",
    "ipakcb = 50\n",
    "ghb_stage = 0.0 \n",
    "#conductance is equal to hydraulic conductance, times the width of the river, times the length of the river,\n",
    "#all divided by the riverbed thickness\n",
    "ghb_cond = (.1 * 20 * 100) / 1\n",
    "#ghb_sp1 = [[0, 0, 3, ghb_stage, ghb_cond], \n",
    "#           [0, 1, 3, ghb_stage, ghb_cond], \n",
    "#           [0, 2, 3, ghb_stage, ghb_cond],\n",
    "#           [0, 3, 3, ghb_stage, ghb_cond], \n",
    "#           [0, 4, 3, ghb_stage, ghb_cond], \n",
    "#           [0, 5, 3, ghb_stage, ghb_cond], \n",
    "#           [0, 6, 3, ghb_stage, ghb_cond]]\n",
    "\n",
    "#can write in one line\n",
    "ghb_sp1 = [[0, row, 3, ghb_stage, ghb_cond] for row in range(nrow) ]\n",
    "\n",
    "ghb_spd = {0: ghb_sp1}\n",
    "ghb = flopy.modflow.ModflowGhb(mf, ipakcb=ipakcb, stress_period_data=ghb_spd)\n",
    "\n",
    "print(ghb_sp1)"
   ]
  },
  {
   "cell_type": "code",
   "execution_count": 12,
   "metadata": {
    "collapsed": false
   },
   "outputs": [
    {
     "data": {
      "text/plain": [
       "[[0, 0, 3, 0.0, 200.0],\n",
       " [0, 1, 3, 0.0, 200.0],\n",
       " [0, 2, 3, 0.0, 200.0],\n",
       " [0, 3, 3, 0.0, 200.0],\n",
       " [0, 4, 3, 0.0, 200.0],\n",
       " [0, 5, 3, 0.0, 200.0],\n",
       " [0, 6, 3, 0.0, 200.0]]"
      ]
     },
     "execution_count": 12,
     "metadata": {},
     "output_type": "execute_result"
    }
   ],
   "source": [
    "[[0, row, 3, ghb_stage, ghb_cond] for row in range(nrow) ]"
   ]
  },
  {
   "cell_type": "code",
   "execution_count": 13,
   "metadata": {
    "collapsed": false
   },
   "outputs": [
    {
     "name": "stdout",
     "output_type": "stream",
     "text": [
      "warning: assuming SpatialReference units are meters\n"
     ]
    }
   ],
   "source": [
    "# Write the MODFLOW model input files\n",
    "mf.write_input()"
   ]
  },
  {
   "cell_type": "code",
   "execution_count": 14,
   "metadata": {
    "collapsed": false,
    "scrolled": true
   },
   "outputs": [
    {
     "name": "stdout",
     "output_type": "stream",
     "text": [
      "FloPy is using the following executable to run the model: ../MF2005.1_12/bin/mf2005.exe\n",
      "\n",
      "                                  MODFLOW-2005     \n",
      "    U.S. GEOLOGICAL SURVEY MODULAR FINITE-DIFFERENCE GROUND-WATER FLOW MODEL\n",
      "                             Version 1.12.00 2/3/2017                        \n",
      "\n",
      " Using NAME file: p14_pb.nam \n",
      " Run start date and time (yyyy/mm/dd hh:mm:ss): 2017/07/03 12:46:01\n",
      "\n",
      " Solving:  Stress period:     1    Time step:     1    Ground-Water Flow Eqn.\n",
      " Solving:  Stress period:     1    Time step:     2    Ground-Water Flow Eqn.\n",
      " Solving:  Stress period:     1    Time step:     3    Ground-Water Flow Eqn.\n",
      " Solving:  Stress period:     1    Time step:     4    Ground-Water Flow Eqn.\n",
      " Solving:  Stress period:     1    Time step:     5    Ground-Water Flow Eqn.\n",
      " Solving:  Stress period:     1    Time step:     6    Ground-Water Flow Eqn.\n",
      " Solving:  Stress period:     1    Time step:     7    Ground-Water Flow Eqn.\n",
      " Solving:  Stress period:     1    Time step:     8    Ground-Water Flow Eqn.\n",
      " Solving:  Stress period:     1    Time step:     9    Ground-Water Flow Eqn.\n",
      " Solving:  Stress period:     1    Time step:    10    Ground-Water Flow Eqn.\n",
      " Solving:  Stress period:     1    Time step:    11    Ground-Water Flow Eqn.\n",
      " Solving:  Stress period:     1    Time step:    12    Ground-Water Flow Eqn.\n",
      " Solving:  Stress period:     1    Time step:    13    Ground-Water Flow Eqn.\n",
      " Solving:  Stress period:     1    Time step:    14    Ground-Water Flow Eqn.\n",
      " Solving:  Stress period:     1    Time step:    15    Ground-Water Flow Eqn.\n",
      " Solving:  Stress period:     1    Time step:    16    Ground-Water Flow Eqn.\n",
      " Solving:  Stress period:     1    Time step:    17    Ground-Water Flow Eqn.\n",
      " Solving:  Stress period:     1    Time step:    18    Ground-Water Flow Eqn.\n",
      " Solving:  Stress period:     1    Time step:    19    Ground-Water Flow Eqn.\n",
      " Solving:  Stress period:     1    Time step:    20    Ground-Water Flow Eqn.\n",
      " Run end date and time (yyyy/mm/dd hh:mm:ss): 2017/07/03 12:46:01\n",
      " Elapsed run time:  0.037 Seconds\n",
      "\n",
      "  Normal termination of simulation\n"
     ]
    }
   ],
   "source": [
    "# Run the MODFLOW model\n",
    "success, buff = mf.run_model()"
   ]
  },
  {
   "cell_type": "code",
   "execution_count": 15,
   "metadata": {
    "collapsed": false
   },
   "outputs": [
    {
     "name": "stdout",
     "output_type": "stream",
     "text": [
      "[[  1.95513248e+00   8.51035500e+00]\n",
      " [  4.30129147e+00   7.53955841e+00]\n",
      " [  7.11668205e+00   6.71613359e+00]\n",
      " [  1.04951515e+01   5.92555618e+00]\n",
      " [  1.45493145e+01   5.12856054e+00]\n",
      " [  1.94143105e+01   4.31294441e+00]\n",
      " [  2.52523060e+01   3.48044372e+00]\n",
      " [  3.22579002e+01   2.64200115e+00]\n",
      " [  4.06646156e+01   1.81514466e+00]\n",
      " [  5.07526741e+01   1.02176082e+00]\n",
      " [  6.28583450e+01   2.85528183e-01]\n",
      " [  7.73851471e+01  -3.71194184e-01]\n",
      " [  9.48173141e+01  -9.30725336e-01]\n",
      " [  1.15735916e+02  -1.38299954e+00]\n",
      " [  1.40838242e+02  -1.72731316e+00]\n",
      " [  1.70961029e+02  -1.97227108e+00]\n",
      " [  2.07108383e+02  -2.13378930e+00]\n",
      " [  2.50485199e+02  -2.23165298e+00]\n",
      " [  3.02537384e+02  -2.28566837e+00]\n",
      " [  3.65000000e+02  -2.31259513e+00]]\n"
     ]
    }
   ],
   "source": [
    "import flopy.utils.binaryfile as bf\n",
    "\n",
    "# Create the headfile object\n",
    "fname = os.path.join(model_ws, 'p14_pb.hds') #\"os.path.join\" joins together the model_ws and the .hds file and stores it in fname\n",
    "headobj = bf.HeadFile(fname) #create headobj and put values from fname (aka 'p1_pa.hds') inside it\n",
    "#times = headobj.get_times() #assign the headobj values to the variable \"times\"\n",
    "#print(times) #prints the time at each stress period\n",
    "\n",
    "#print hydraulic head at node (1, 4) for part a (Table 14.2)\n",
    "ts = headobj.get_ts([[0, 0, 3]])\n",
    "print(ts)"
   ]
  },
  {
   "cell_type": "code",
   "execution_count": 16,
   "metadata": {
    "collapsed": false
   },
   "outputs": [
    {
     "data": {
      "text/html": [
       "<div>\n",
       "<table border=\"1\" class=\"dataframe\">\n",
       "  <thead>\n",
       "    <tr style=\"text-align: right;\">\n",
       "      <th></th>\n",
       "      <th>Time Step</th>\n",
       "      <th>Ellapsed Time (days)</th>\n",
       "      <th>GHB (part b)</th>\n",
       "    </tr>\n",
       "  </thead>\n",
       "  <tbody>\n",
       "    <tr>\n",
       "      <th>0</th>\n",
       "      <td>1</td>\n",
       "      <td>1.955</td>\n",
       "      <td>8.510</td>\n",
       "    </tr>\n",
       "    <tr>\n",
       "      <th>1</th>\n",
       "      <td>2</td>\n",
       "      <td>4.301</td>\n",
       "      <td>7.540</td>\n",
       "    </tr>\n",
       "    <tr>\n",
       "      <th>2</th>\n",
       "      <td>3</td>\n",
       "      <td>70117.000</td>\n",
       "      <td>6.716</td>\n",
       "    </tr>\n",
       "    <tr>\n",
       "      <th>3</th>\n",
       "      <td>4</td>\n",
       "      <td>10.495</td>\n",
       "      <td>5.926</td>\n",
       "    </tr>\n",
       "    <tr>\n",
       "      <th>4</th>\n",
       "      <td>5</td>\n",
       "      <td>14.549</td>\n",
       "      <td>5.129</td>\n",
       "    </tr>\n",
       "  </tbody>\n",
       "</table>\n",
       "</div>"
      ],
      "text/plain": [
       "   Time Step  Ellapsed Time (days)  GHB (part b)\n",
       "0          1                 1.955         8.510\n",
       "1          2                 4.301         7.540\n",
       "2          3             70117.000         6.716\n",
       "3          4                10.495         5.926\n",
       "4          5                14.549         5.129"
      ]
     },
     "execution_count": 16,
     "metadata": {},
     "output_type": "execute_result"
    }
   ],
   "source": [
    "import pandas as pd\n",
    "table2b = pd.read_csv('../Data/table14.2.csv')\n",
    "\n",
    "table2b.columns #displays all the column names in the file\n",
    "#drops the columns that you enter into the list\n",
    "table2b.drop(['River (part a)', 'Drain (part c)', 'E-T (part d)', 'Constant head (part e)'], \n",
    "             axis=1, inplace=True)\n",
    "#prints out the first 5 rows into a table\n",
    "table2b.head()"
   ]
  },
  {
   "cell_type": "code",
   "execution_count": 17,
   "metadata": {
    "collapsed": false
   },
   "outputs": [
    {
     "name": "stdout",
     "output_type": "stream",
     "text": [
      "    Time Step  Ellapsed Time (days)  GHB (part b)\n",
      "0           1                 1.955         8.510\n",
      "1           2                 4.301         7.540\n",
      "2           3             70117.000         6.716\n",
      "3           4                10.495         5.926\n",
      "4           5                14.549         5.129\n",
      "5           6                19.414         4.313\n",
      "6           7                25.252         3.481\n",
      "7           8                32.258         2.643\n",
      "8           9                40.655         1.816\n",
      "9          10                50.753         1.023\n",
      "10         11                62.858         0.286\n",
      "11         12                77.385        -0.371\n",
      "12         13                94.817        -0.930\n",
      "13         14               115.740        -1.382\n",
      "14         15               140.840        -1.727\n",
      "15         16               170.960        -1.972\n",
      "16         17               207.110        -2.133\n",
      "17         18               250.490        -2.231\n",
      "18         19               302.540        -2.285\n",
      "19         20               365.000        -2.311\n"
     ]
    }
   ],
   "source": [
    "#prints the whole dataframe instead of just the first 5 rows\n",
    "print(table2b)"
   ]
  },
  {
   "cell_type": "markdown",
   "metadata": {},
   "source": [
    "### Table 14.2. Hydraulic head at node (1,4) for part b representing the third type boundary condition\n",
    "\n",
    "Check your results to make sure they match with the table from the book\n",
    "\n",
    "| Time Step | Elapsed Time (days) | GHB (part b) |\n",
    "|-----------|---------------------|--------------|\n",
    "| 1         | 1.955               | 8.51         |\n",
    "| 2         | 4.301               | 7.54         |\n",
    "| 3         | 7.117               | 6.716        |\n",
    "| 4         | 10.495              | 5.926        |\n",
    "| 5         | 14.549              | 5.129        |\n",
    "| 6         | 19.414              | 4.313        |\n",
    "| 7         | 25.252              | 3.481        |\n",
    "| 8         | 32.258              | 2.643        |\n",
    "| 9         | 40.655              | 1.816        |\n",
    "| 10        | 50.753              | 1.023        |\n",
    "| 11        | 62.858              | 0.286        |\n",
    "| 12        | 77.385              | -0.371       |\n",
    "| 13        | 94.817              | -0.93        |\n",
    "| 14        | 115.74              | -1.382       |\n",
    "| 15        | 140.84              | -1.727       |\n",
    "| 16        | 170.96              | -1.972       |\n",
    "| 17        | 207.11              | -2.133       |\n",
    "| 18        | 250.49              | -2.231       |\n",
    "| 19        | 302.54              | -2.285       |\n",
    "| 20        | 365                 | -2.311       |"
   ]
  },
  {
   "cell_type": "code",
   "execution_count": 18,
   "metadata": {
    "collapsed": false,
    "scrolled": true
   },
   "outputs": [
    {
     "name": "stdout",
     "output_type": "stream",
     "text": [
      "(numpy.record, [('node', '<i4'), ('q', '<f4')])\n",
      "[-1702.071, -1507.9116, -1343.2268, -1185.1113, -1025.712, -862.58887, -696.08875, -528.40021, -363.02893, -204.35217, -57.105637, 74.238838, 186.14507, 276.59991, 345.46265, 394.45422, 426.75784, 446.33057, 457.13367, 462.51901]\n"
     ]
    }
   ],
   "source": [
    "#print discharge values (Table 14.3)\n",
    "fname = os.path.join(model_ws, 'p14_pb.cbc')\n",
    "cbb = flopy.utils.CellBudgetFile(fname)\n",
    "frf = cbb.get_data(text='FLOW RIGHT FACE')[19]\n",
    "fff = cbb.get_data(text='FLOW FRONT FACE')[19]\n",
    "\n",
    "ghb_center = cbb.get_data(text='HEAD DEP BOUNDS') #create an array/for loop to get out first value of every step\n",
    "#cbb.list_records()\n",
    "\n",
    "#create new list\n",
    "ghb_list=[]\n",
    "#dtype tells you what data type ghb_center is\n",
    "print (ghb_center[0].dtype)\n",
    "#create for loop to store only the first value of each time step from ghb_center into ghb_list\n",
    "for ghb in ghb_center:\n",
    "    ghb_list.append(ghb['q'][0])\n",
    "    \n",
    "print(ghb_list)"
   ]
  },
  {
   "cell_type": "code",
   "execution_count": 19,
   "metadata": {
    "collapsed": false
   },
   "outputs": [
    {
     "data": {
      "text/html": [
       "<div>\n",
       "<table border=\"1\" class=\"dataframe\">\n",
       "  <thead>\n",
       "    <tr style=\"text-align: right;\">\n",
       "      <th></th>\n",
       "      <th>Time Step</th>\n",
       "      <th>Elapsed Time (days)</th>\n",
       "      <th>GHB (part b)</th>\n",
       "    </tr>\n",
       "  </thead>\n",
       "  <tbody>\n",
       "    <tr>\n",
       "      <th>0</th>\n",
       "      <td>1</td>\n",
       "      <td>1.955</td>\n",
       "      <td>-1702.071</td>\n",
       "    </tr>\n",
       "    <tr>\n",
       "      <th>1</th>\n",
       "      <td>2</td>\n",
       "      <td>4.301</td>\n",
       "      <td>-1507.910</td>\n",
       "    </tr>\n",
       "    <tr>\n",
       "      <th>2</th>\n",
       "      <td>3</td>\n",
       "      <td>7.117</td>\n",
       "      <td>-1343.224</td>\n",
       "    </tr>\n",
       "    <tr>\n",
       "      <th>3</th>\n",
       "      <td>4</td>\n",
       "      <td>10.495</td>\n",
       "      <td>-1185.109</td>\n",
       "    </tr>\n",
       "    <tr>\n",
       "      <th>4</th>\n",
       "      <td>5</td>\n",
       "      <td>14.549</td>\n",
       "      <td>-1025.712</td>\n",
       "    </tr>\n",
       "  </tbody>\n",
       "</table>\n",
       "</div>"
      ],
      "text/plain": [
       "   Time Step  Elapsed Time (days)  GHB (part b)\n",
       "0          1                1.955     -1702.071\n",
       "1          2                4.301     -1507.910\n",
       "2          3                7.117     -1343.224\n",
       "3          4               10.495     -1185.109\n",
       "4          5               14.549     -1025.712"
      ]
     },
     "execution_count": 19,
     "metadata": {},
     "output_type": "execute_result"
    }
   ],
   "source": [
    "import pandas as pd\n",
    "table3b = pd.read_csv('../Data/table14.3.csv')\n",
    "\n",
    "table3b.columns #displays all the column names in the file\n",
    "#drops the columns that you enter into the list\n",
    "table3b.drop(['River (part a)', 'Drain (part c)',\n",
    "       'E-T (part d)', 'Constant head (part e)'], axis=1, inplace=True)\n",
    "#prints out the first 5 rows into a table\n",
    "table3b.head()"
   ]
  },
  {
   "cell_type": "code",
   "execution_count": 20,
   "metadata": {
    "collapsed": false
   },
   "outputs": [
    {
     "name": "stdout",
     "output_type": "stream",
     "text": [
      "    Time Step  Elapsed Time (days)  GHB (part b)\n",
      "0           1                1.955     -1702.071\n",
      "1           2                4.301     -1507.910\n",
      "2           3                7.117     -1343.224\n",
      "3           4               10.495     -1185.109\n",
      "4           5               14.549     -1025.712\n",
      "5           6               19.414      -862.600\n",
      "6           7               25.252      -696.128\n",
      "7           8               32.258      -528.506\n",
      "8           9               40.655      -363.187\n",
      "9          10               50.753      -204.534\n",
      "10         11               62.858       -57.278\n",
      "11         12               77.385        74.103\n",
      "12         13               94.817       186.031\n",
      "13         14              115.740       276.494\n",
      "14         15              140.840       345.353\n",
      "15         16              170.960       394.344\n",
      "16         17              207.110       426.648\n",
      "17         18              250.490       446.221\n",
      "18         19              302.540       457.037\n",
      "19         20              365.000       462.149\n"
     ]
    }
   ],
   "source": [
    "#prints the whole dataframe instead of just the first 5 rows\n",
    "print(table3b)"
   ]
  },
  {
   "cell_type": "markdown",
   "metadata": {},
   "source": [
    "### Table 14.3. Discharge for part b representing the third type boundary condition\n",
    "\n",
    "Check your results to make sure they match with the table from the book\n",
    "\n",
    "| Time Step | Elapsed Time (days) | GHB (part b) |\n",
    "|-----------|---------------------|--------------|\n",
    "| 1         | 1.955               | -1702.071    |\n",
    "| 2         | 4.301               | -1507.91     |\n",
    "| 3         | 7.117               | -1343.224    |\n",
    "| 4         | 10.495              | -1185.109    |\n",
    "| 5         | 14.549              | -1025.712    |\n",
    "| 6         | 19.414              | -862.6       |\n",
    "| 7         | 25.252              | -696.128     |\n",
    "| 8         | 32.258              | -528.506     |\n",
    "| 9         | 40.655              | -363.187     |\n",
    "| 10        | 50.753              | -204.534     |\n",
    "| 11        | 62.858              | -57.278      |\n",
    "| 12        | 77.385              | 74.103       |\n",
    "| 13        | 94.817              | 186.031      |\n",
    "| 14        | 115.74              | 276.494      |\n",
    "| 15        | 140.84              | 345.353      |\n",
    "| 16        | 170.96              | 394.344      |\n",
    "| 17        | 207.11              | 426.648      |\n",
    "| 18        | 250.49              | 446.221      |\n",
    "| 19        | 302.54              | 457.037      |\n",
    "| 20        | 365                 | 462.149      |"
   ]
  },
  {
   "cell_type": "code",
   "execution_count": 21,
   "metadata": {
    "collapsed": false
   },
   "outputs": [
    {
     "data": {
      "image/png": "[encoded data removed]",
      "text/plain": [
       "<matplotlib.figure.Figure at 0x1e4786a89b0>"
      ]
     },
     "metadata": {},
     "output_type": "display_data"
    }
   ],
   "source": [
    "fig = plt.figure(figsize=(10, 10))\n",
    "ax = fig.add_subplot(1, 1, 1, aspect='equal')\n",
    "ymax = 7\n",
    "ymin = 0\n",
    "xmax = ymax #makes xmax equal to ymax which is equal to the sum of the list\n",
    "xmin = 0\n",
    "x = 0\n",
    "y = 0\n",
    "\n",
    "plt.plot([xmin, xmin], [ymin, ymax], 'gray') #plots the first column line. Must be outside of the loop\n",
    "\n",
    "for dx in range(0,7): #dx will go through the values in delr one by one in the loop\n",
    "    x = x + 1 #add the dx value to x, which is zero, and then store that new value into x\n",
    "    plt.plot([x, x], [ymax, ymin], 'gray') #plot that point and then loop back to top\n",
    "\n",
    "    #repeat the process above but with the y values to make the rows\n",
    "plt.plot([xmin, xmax], [ymin, ymin], 'gray') #plots the first row line. Must be outside of the loop\n",
    "\n",
    "for dy in range(0,7): \n",
    "    y = y + 1\n",
    "    plt.plot([xmin, xmax], [y, y], 'gray')\n",
    "\n",
    "#create well in top left corner (1, 1)\n",
    "def plot_well(xmin, ymax, sym):\n",
    "    plt.plot(xmin, ymax, sym)\n",
    "plot_well(xmin, ymax, sym='ro')\n",
    "\n",
    "#create river down mid of col 4\n",
    "def plot_riv1(xmin, ymax, sym):\n",
    "    plt.plot(xmin, ymax, sym)\n",
    "plot_well(xmin + 3.5, ymax=ymax - .5, sym='b|')\n",
    "\n",
    "def plot_riv1(xmin, ymax, sym):\n",
    "    plt.plot(xmin, ymax, sym)\n",
    "plot_well(xmin + 3.5, ymax - 1.5, sym='b|')\n",
    "\n",
    "def plot_riv1(xmin, ymax, sym):\n",
    "    plt.plot(xmin, ymax, sym)\n",
    "plot_well(xmin + 3.5, ymax - 2.5, sym='b|')\n",
    "\n",
    "def plot_riv1(xmin, ymax, sym):\n",
    "    plt.plot(xmin, ymax, sym)\n",
    "plot_well(xmin + 3.5, ymax - 3.5, sym='b|')\n",
    "\n",
    "def plot_riv1(xmin, ymax, sym):\n",
    "    plt.plot(xmin, ymax, sym)\n",
    "plot_well(xmin + 3.5, ymax - 4.5, sym='b|')\n",
    "\n",
    "def plot_riv1(xmin, ymax, sym):\n",
    "    plt.plot(xmin, ymax, sym)\n",
    "plot_well(xmin + 3.5, ymax - 5.5, sym='b|')\n",
    "\n",
    "def plot_riv1(xmin, ymax, sym):\n",
    "    plt.plot(xmin, ymax, sym)\n",
    "plot_well(xmin + 3.5, ymax - 6.5, sym='b|')"
   ]
  },
  {
   "cell_type": "code",
   "execution_count": 22,
   "metadata": {
    "collapsed": false
   },
   "outputs": [
    {
     "data": {
      "image/png": "[encoded data removed]",
      "text/plain": [
       "<matplotlib.figure.Figure at 0x1e478668d30>"
      ]
     },
     "metadata": {},
     "output_type": "display_data"
    }
   ],
   "source": [
    "#plot arrows (quivers) that point in the direction of water flowb\n",
    "fig = plt.figure(figsize=(10, 10))\n",
    "ax = fig.add_subplot(1, 1, 1, aspect='equal')\n",
    "\n",
    "modelmap = flopy.plot.ModelMap(model=mf)\n",
    "modelmap.plot_bc(\"WEL\")\n",
    "quadmesh = modelmap.plot_ibound()\n",
    "quiver = modelmap.plot_discharge(frf, fff, color='b')\n",
    "linecollection = modelmap.plot_grid()\n"
   ]
  },
  {
   "cell_type": "code",
   "execution_count": 23,
   "metadata": {
    "collapsed": false,
    "scrolled": true
   },
   "outputs": [
    {
     "data": {
      "image/png": "[encoded data removed]",
      "text/plain": [
       "<matplotlib.figure.Figure at 0x1e478af2550>"
      ]
     },
     "metadata": {},
     "output_type": "display_data"
    }
   ],
   "source": [
    "#show plot_array() and plot_discharge()\n",
    "fig = plt.figure(figsize=(10, 10))\n",
    "ax = fig.add_subplot(2, 1, 1)\n",
    "modelxsect = flopy.plot.ModelCrossSection(model=mf, ax=ax, line={'Column':6})\n",
    "linecollection = modelxsect.plot_grid()\n",
    "quiver = modelxsect.plot_discharge(frf, fff, hstep=1, normalize=False, color='b', headwidth=3, headaxislength=4) \n",
    "patches = modelxsect.plot_ibound()"
   ]
  },
  {
   "cell_type": "code",
   "execution_count": 31,
   "metadata": {
    "collapsed": false,
    "scrolled": true
   },
   "outputs": [
    {
     "data": {
      "image/png": "[encoded data removed]",
      "text/plain": [
       "<matplotlib.figure.Figure at 0x1e478cc7f60>"
      ]
     },
     "metadata": {},
     "output_type": "display_data"
    }
   ],
   "source": [
    "fname = os.path.join(model_ws, 'p14_pb.cbc')\n",
    "head = headobj.get_data()\n",
    "levels = np.arange(-10, 0, .5)\n",
    "\n",
    "fig = plt.figure(figsize=(10, 10))\n",
    "\n",
    "#plot_array\n",
    "ax = fig.add_subplot(1, 2, 1, aspect='equal')\n",
    "ax.set_title('plot_array()')\n",
    "modelmap = flopy.plot.ModelMap(model=mf)\n",
    "quadmesh = modelmap.plot_ibound()\n",
    "quadmesh = modelmap.plot_array(head, masked_values=[999.], alpha=0.5)\n",
    "modelmap.plot_bc(\"WEL\")\n",
    "linecollection = modelmap.plot_grid()\n",
    "contour_set = modelmap.contour_array(head, masked_values=[999.], levels=levels)"
   ]
  },
  {
   "cell_type": "code",
   "execution_count": 34,
   "metadata": {
    "collapsed": false
   },
   "outputs": [
    {
     "data": {
      "text/plain": [
       "<a list of 10 text.Text objects>"
      ]
     },
     "execution_count": 34,
     "metadata": {},
     "output_type": "execute_result"
    },
    {
     "data": {
      "image/png": "[encoded data removed]",
      "text/plain": [
       "<matplotlib.figure.Figure at 0x1e479327710>"
      ]
     },
     "metadata": {},
     "output_type": "display_data"
    }
   ],
   "source": [
    "fig = plt.figure(figsize=(10, 10))\n",
    "ax = fig.add_subplot(1, 1, 1, aspect='equal')\n",
    "modelmap = flopy.plot.ModelMap(model=mf)\n",
    "quadmesh = modelmap.plot_ibound()\n",
    "linecollection = modelmap.plot_grid()\n",
    "ghb = modelmap.plot_bc('GHB', color='b', plotAll=True)\n",
    "quadmesh = modelmap.plot_bc('WEL', kper=1, plotAll=True)\n",
    "contour_set = modelmap.contour_array(head, levels=np.arange(-10, 0, 0.5), colors='g')\n",
    "plt.clabel(contour_set, inline=1, fontsize=14)"
   ]
  },
  {
   "cell_type": "code",
   "execution_count": 26,
   "metadata": {
    "collapsed": false
   },
   "outputs": [
    {
     "data": {
      "text/plain": [
       "(0, 365.0)"
      ]
     },
     "execution_count": 26,
     "metadata": {},
     "output_type": "execute_result"
    },
    {
     "data": {
      "image/png": "[encoded data removed]",
      "text/plain": [
       "<matplotlib.figure.Figure at 0x1e478bc1a58>"
      ]
     },
     "metadata": {},
     "output_type": "display_data"
    }
   ],
   "source": [
    "# Plot the drawdown versus time\n",
    "idx = (0, 0, 0) #(nlay, nrow, ncol) *remember you have to subtract 1 from the original numbers for python - (1, 10, 12)*\n",
    "ts = headobj.get_ts(idx)\n",
    "plt.subplot(1, 1, 1)\n",
    "ttl = 'Head at cell ({0},{1},{2})'.format(idx[0] + 1, idx[1] + 1, idx[2] + 1) #we are adding 1 to each part of idx to that it prints out the real values and not the code values\n",
    "plt.title(ttl) #prints/plots title\n",
    "plt.xlabel('time (days)') #labels the x-axis\n",
    "plt.ylabel('drawdown') #labels the y-axis\n",
    "#here we do \"0-ts...\" in order to show the drawdown of \n",
    "plt.plot(ts[:, 0], 0-ts[:, 1], 'bo-') #(x, y, color/type of line)\n",
    "plt.xlim(0, ts[:, 0].max())"
   ]
  },
  {
   "cell_type": "code",
   "execution_count": 27,
   "metadata": {
    "collapsed": false
   },
   "outputs": [
    {
     "data": {
      "text/plain": [
       "(0, 365.0)"
      ]
     },
     "execution_count": 27,
     "metadata": {},
     "output_type": "execute_result"
    },
    {
     "data": {
      "image/png": "[encoded data removed]",
      "text/plain": [
       "<matplotlib.figure.Figure at 0x1e478edd9e8>"
      ]
     },
     "metadata": {},
     "output_type": "display_data"
    }
   ],
   "source": [
    "# Plot the head versus time\n",
    "idx = (0, 0, 0)\n",
    "ts = headobj.get_ts(idx)\n",
    "plt.subplot(1, 1, 1)\n",
    "ttl = 'Head at cell ({0},{1},{2})'.format(idx[0] + 1, idx[1] + 1, idx[2] + 1)\n",
    "plt.title(ttl)\n",
    "plt.xlabel('time (days)')\n",
    "plt.ylabel('head (ft)')\n",
    "plt.plot(ts[:, 0], ts[:, 1], 'ro-')\n",
    "plt.xlim(0, ts[:, 0].max())"
   ]
  },
  {
   "cell_type": "code",
   "execution_count": 33,
   "metadata": {
    "collapsed": false
   },
   "outputs": [
    {
     "data": {
      "text/plain": [
       "array([[[-8.47549057, -5.48540258, -3.66392899, -2.31259513, -2.11504388,\n",
       "         -2.00954747, -1.96327829],\n",
       "        [-5.64397621, -4.47004795, -3.25268841, -2.14972138, -2.02465701,\n",
       "         -1.95165789, -1.91827154],\n",
       "        [-4.12220049, -3.55145359, -2.76148009, -1.92220354, -1.88376868,\n",
       "         -1.85551512, -1.84118938],\n",
       "        [-3.21068764, -2.87756205, -2.33916736, -1.70279932, -1.73420846,\n",
       "         -1.74683022, -1.75114155],\n",
       "        [-2.64712262, -2.42144966, -2.0260849 , -1.52668273, -1.60489285,\n",
       "         -1.64783192, -1.66677046],\n",
       "        [-2.31556439, -2.14141321, -1.82377064, -1.40685189, -1.51222634,\n",
       "         -1.5741601 , -1.60266006],\n",
       "        [-2.16112733, -2.00842094, -1.72515404, -1.34672582, -1.4642967 ,\n",
       "         -1.53518331, -1.56831145]]], dtype=float32)"
      ]
     },
     "execution_count": 33,
     "metadata": {},
     "output_type": "execute_result"
    }
   ],
   "source": [
    "head"
   ]
  },
  {
   "cell_type": "code",
   "execution_count": null,
   "metadata": {
    "collapsed": true
   },
   "outputs": [],
   "source": []
  },
  {
   "cell_type": "code",
   "execution_count": null,
   "metadata": {
    "collapsed": true
   },
   "outputs": [],
   "source": []
  }
 ],
 "metadata": {
  "kernelspec": {
   "display_name": "Python 3",
   "language": "python",
   "name": "python3"
  },
  "language_info": {
   "codemirror_mode": {
    "name": "ipython",
    "version": 3
   },
   "file_extension": ".py",
   "mimetype": "text/x-python",
   "name": "python",
   "nbconvert_exporter": "python",
   "pygments_lexer": "ipython3",
   "version": "3.6.0"
  }
 },
 "nbformat": 4,
 "nbformat_minor": 2
}
