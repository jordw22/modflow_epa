{
 "cells": [
  {
   "cell_type": "markdown",
   "metadata": {},
   "source": [
    "# PROBLEM 8: Grid and Time Stepping Considerations"
   ]
  },
  {
   "cell_type": "markdown",
   "metadata": {},
   "source": [
    "### INTRODUCTION\n",
    "_In finite difference models, the aquifer system which is described by a partial differential\n",
    "equation representing a continuous domain is simplified to a series of algebraic equations\n",
    "which represent discrete intervals of the system. Both space and time are broken into intervals\n",
    "(discretized). Questions often arise regarding the proper level of discretization required for\n",
    "accuracy. Another related question arises regarding the proper closure criterion to use for the\n",
    "iterative solution of the system of equations. The objective of this exercise is to examine\n",
    "various levels of grid spacing, time stepping, and closure criterion for a problem for which an\n",
    "exact solution is known. Comparisons of relative accuracy and execution time as well as\n",
    "general observations concerning selection of the parameters can be made._\n",
    "\n",
    "**\\*For all of Problem 8, it will benefit you greatly to draw out how the grids will look, and to calculate all the required values before you start trying to code. It will make your life much easier.**"
   ]
  },
  {
   "cell_type": "markdown",
   "metadata": {},
   "source": [
    "### PROBLEM STATEMENT\n",
    "\n",
    "_This problem has been modified from example 4 of Rushton and Tomlinson (1977). A two-dimensional square aquifer with 15000 m sides has impermeable (no-flow) boundaries on three sides and a fourth (the north side) held at a specified head of 0.0 m. A well pumping at 15000 $\\frac{m^3}{d}$ is located as shown in Figure 8.1. Three observation wells are used as illustrated in Figure 8.1. The transmissivity of the aquifer is 2400 $\\frac{m^2}{d}$ and the storage coefficient is ${2.5x10^4}$. Five grid configurations will be examined in Parts a and b. The location of the pumping and observation wells and additional data on each grid configuration are given in Table 8.1. Notice that the wells are conveniently located at the center of finite difference blocks._\n",
    "\n",
    "_In order to place the_ [specified head boundary](https://github.com/jordw22/modflow_epa/blob/master/terms%20and%20definitions.md#s) _exactly on the edge of the model domain, the_\n",
    "[general head boundary (GHB) package](https://github.com/jordw22/modflow_epa/blob/master/terms%20and%20definitions.md#g) _is used. The conductance parameter must be computed\n",
    "to represent the conductance between the node center at row 1 to the northern edge of the\n",
    "finite difference block of row 1. An example calculation for grid 1 is shown below:_\n",
    "\n",
    "_$$C = \\frac{TW}{L}$$_\n",
    "\n",
    "_where:_\n",
    "\n",
    "_C = Conductance [$\\frac{L^2}{T}$]_\n",
    "\n",
    "_T = Transmissivity in direction of flow [$\\frac{L^2}{T}$]_\n",
    "\n",
    "_L = Length of flow path (node center to edge) [L]_\n",
    "\n",
    "_W = Width of face perpendicular to flow [L]_"
   ]
  },
  {
   "cell_type": "markdown",
   "metadata": {},
   "source": [
    "### Table 8.1. Grid data\n",
    "                                                                  Well locations (row, column)\n",
    "\n",
    "| Grid | Size  | Grid Spacing            | Pumping Well | Well 1 | Well 2 | Well 3 |\n",
    "|------|-------|-------------------------|--------------|--------|--------|--------|\n",
    "| 1    | 4\\*4   | 2500 row, column 1      | 3,2          | 2,2    | 2,3    | 3,3    |\n",
    "|      |       | 500 row, column 2,3      |              |        |        |        |\n",
    "|      |       | 2500 row, column 4       |              |        |        |        |\n",
    "| 2    | 7\\*7   | 1750 row, column 1      | 5,3          | 3,3    | 3,5    | 5,5    |\n",
    "|      |       | 2000 row, column 2       |              |        |        |        |\n",
    "|      |       | 2500 row, column 3-5     |              |        |        |        |\n",
    "|      |       | 1750 row, column 7       |              |        |        |        |\n",
    "| 3    | 10\\*10 | 1250 row, column 1      | 7,4          | 4,4    | 4,7    | 7,7    |\n",
    "|      |       | 1666.7 row, column 2-9   |              |        |        |        |\n",
    "|      |       | 1250 row, colum 10       |              |        |        |        |\n",
    "| 4    | 16\\*16 | 500 row, column 1       | 11,6         | 6,6    | 6,11   | 11,11  |\n",
    "|      |       | 1000 row, column 2-15    |              |        |        |        |\n",
    "|      |       | 500 row, column 16       |              |        |        |        |\n",
    "| 5    | 30\\*30 | 416.7 row, column 1-6   | 20,11        | 11,11  | 11,20  | 20,20  |\n",
    "|      |       | 555.6 row, column 7-24   |              |        |        |        |\n",
    "|      |       | 416.7 row, column 25-30  |              |        |        |   .    |\n",
    "\n",
    "* _spacing along a column is the same as along a row such that DELX( 1 ) = DELY( 1), DELX(2) = DELY(2), etc._\n",
    "\n",
    "* The size of the grid (i.e. 4\\*4) is equal to the # Nodes in Table 8.2 (4\\*4=16)."
   ]
  },
  {
   "cell_type": "markdown",
   "metadata": {},
   "source": [
    "_For row 1, column 1:_\n",
    "    \n",
    "_$$C = \\frac{TW}{L} = \\frac{2400 \\frac{m^2}{d}\\cdot2500 m}{1250 m} = 4800 \\frac{m^2}{d}$$_\n",
    "    \n",
    "_For row 1, column 2:_\n",
    "    \n",
    "_$$C = \\frac{TW}{L} = \\frac{2400 \\frac{m^2}{d}\\cdot5000 m}{1250 m} = 9600 \\frac{m^2}{d}$$_\n",
    "    \n",
    "Variable meanings:\n",
    "\n",
    "$$C = Conductance$$\n",
    "$$T = Transmissivity = (hk \\cdot (top - botm))$$\n",
    "$$L = Length \\hspace{.2cm} of \\hspace{.2cm} flow \\hspace{.2cm} path \\hspace{.2cm} (node \\hspace{.2cm}  center \\hspace{.2cm} to \\hspace{.2cm} edge)$$\n",
    "$$W = Width \\hspace{.2cm} of \\hspace{.2cm} face \\hspace{.2cm} perpendicular \\hspace{.2cm} to \\hspace{.2cm} flow$$\n",
    "\n",
    "_Note that L remains constant for a given grid because distance from center to edge is always\n",
    "the same, but W changes due to varying column widths._\n",
    "\n",
    "$$A=b*w \\hspace{.3cm} (Area = base * width)$$\n",
    "$$b = top - botm$$\n",
    "$$Formula  ->  C=\\frac{hk*A}{L}  ->  C=\\frac{hk*b*w}{L}  ->  C=\\frac{hk*(top-botm)*w}{L}  -> C=\\frac{T*w}{L}$$\n",
    "\n",
    "* _In each case, use the PCG package, acceleration parameter = 1.0, closure criterion = 0.0001, and maximum iterations = 50._"
   ]
  },
  {
   "cell_type": "markdown",
   "metadata": {},
   "source": [
    "### Part a\n",
    "\n",
    "_Set up the model for each of the grids (l-5) and run. Record drawdowns at\n",
    "observation wells 1, 2, and 3 at the final time step. Record the total number of\n",
    "iterations required for all time steps. Use the following time parameters:_\n",
    "\n",
    "_time step multiplier = 1.414_\n",
    "\n",
    "_number of time steps = 10_\n",
    "\n",
    "_length of stress period = 20 days_"
   ]
  },
  {
   "cell_type": "markdown",
   "metadata": {},
   "source": [
    "### Table 8.2 Comparison of results for various grid spacings in part a\n",
    "                                                    Drawdown (m)\n",
    "                                                  Observation Well\n",
    "\n",
    "| Grid     | # Nodes | Total Iteration | ${CPU^1}$| 1   | 2     | 3     |\n",
    "|----------|---------|-----------------|--------|-------|-------|-------|\n",
    "| 1        | 16      | 47              | 5.64   | 1.956 | 1.493 | 2.806 |\n",
    "| 2        | 49      | 74              | 8.12   | 1.971 | 1.537 | 2.816 |\n",
    "| 3        | 100     | 96              | 13.02  | 1.962 | 1.546 | 2.807 |\n",
    "| 4        | 256     | 124             | 30.33  | 1.955 | 1.55  | 2.801 |\n",
    "| 5        | 900     | 143             | 106.54 | 1.952 | 1.55  | 2.797 |\n",
    "| ${analytic^2}$ |   |                 |        | 2.04  | 1.63  | 2.95  |\n",
    "\n",
    "* The # Nodes represents the number of individual squares on each grid\n",
    "\n",
    "${^1}$ _PRIME 550 computer_\n",
    "\n",
    "${^2}$ _Image well solution given in Rushton and Tomlinson_"
   ]
  },
  {
   "cell_type": "code",
   "execution_count": 6,
   "metadata": {
    "collapsed": true
   },
   "outputs": [],
   "source": [
    "#Import and modules/packages that we need to work with\n",
    "%matplotlib inline\n",
    "import os\n",
    "import sys\n",
    "import platform\n",
    "import numpy as np\n",
    "import matplotlib as mpl\n",
    "import matplotlib.pyplot as plt\n",
    "import flopy"
   ]
  },
  {
   "cell_type": "markdown",
   "metadata": {},
   "source": [
    "### Grid 1\n",
    "\n",
    "| Column # | Row Spacing |\n",
    "|----------|-------------|\n",
    "| 1        | 2500        |\n",
    "| 2        | 5000        |\n",
    "| 3        | 5000        |\n",
    "| 4        | 2500        |\n",
    "\n",
    "This table tell us how the rows should be spaced out in grid 1. The spacing will be different for each grid. You will notice that in the grids the space between the rows will be more narrow towards the edges and wider towards the center."
   ]
  },
  {
   "cell_type": "code",
   "execution_count": 7,
   "metadata": {
    "collapsed": false
   },
   "outputs": [
    {
     "name": "stdout",
     "output_type": "stream",
     "text": [
      "C:\\VT\\USGS Internship\\modflow_epa.git\\Notebooks\n",
      "2500.0\n",
      "5000.0\n",
      "5000.0\n",
      "2500.0\n",
      "[2500.0, 5000.0, 5000.0, 2500.0]\n"
     ]
    }
   ],
   "source": [
    "print(os.getcwd())\n",
    "delr = [] #creates an empty list\n",
    "f = open('../Data/table8.1_grid1.csv') #opens the csv file; the two periods (.) means that you are goin backwards into the folders.\n",
    "    \n",
    "    #the four loop below creates a statement that if i == 0 (if it's the first\n",
    "    #row then it will skip it (continue) and move on with the for loop)\n",
    "    #we skip the first row in our table/csv file because the headers would give\n",
    "    #us an error since they aren't numerical values.\n",
    "    \n",
    "for i,line in enumerate(f):\n",
    "    if i == 0: \n",
    "        continue\n",
    "        \n",
    "    #\"line.strip\" gets rid of any extra spaces in the margins of the plot\n",
    "    #\"split\" sections of the individual values according to whatever you put in the quotes\n",
    "    linelist = line.strip().split(',') \n",
    "    \n",
    "    value = float(linelist[1]) #changes the values in the list to floats\n",
    "    print(value) #prints the values\n",
    "    delr.append(value) #puts the floats into the empty list, delr \n",
    "    \n",
    "print(delr) #prints the list"
   ]
  },
  {
   "cell_type": "code",
   "execution_count": 8,
   "metadata": {
    "collapsed": false,
    "scrolled": false
   },
   "outputs": [
    {
     "name": "stdout",
     "output_type": "stream",
     "text": [
      "[ 2500.  5000.  5000.  2500.]\n",
      "15000.0\n"
     ]
    },
    {
     "data": {
      "image/png": "[encoded data removed]",
      "text/plain": [
       "<matplotlib.figure.Figure at 0x20ca0ee07f0>"
      ]
     },
     "metadata": {},
     "output_type": "display_data"
    }
   ],
   "source": [
    "#code to create grid 1\n",
    "fig = plt.figure(figsize=(10, 10))\n",
    "ax = fig.add_subplot(1, 1, 1, aspect='equal') #makes the length and width of the grid equal on all four sides\n",
    "delr_array = np.array(delr) #changes delr values from float to array\n",
    "print (delr_array) #prints those values\n",
    "print (delr_array.sum()) #prints the sum of those values\n",
    "ymax = delr_array.sum() #assigns the sum of the list to ymax\n",
    "ymin = 0 #sets ymin equal to zero\n",
    "xmax = ymax #makes xmax equal to ymax which is equal to the sum of the list\n",
    "xmin = 0 #sets xmin equal to zero\n",
    "x = 0 #sets x equal to zero\n",
    "y = 0 #sets y equal to zero\n",
    "\n",
    "#before moving on to this code, it helps to draw out an image of a graph with each corner labled with the coordinates of that point\n",
    "#top left - (xmin, ymax)\n",
    "#bottom left - (xmin, ymin)\n",
    "#top right - (xmax, ymax)\n",
    "#bottom right - (xmax, ymin)\n",
    "\n",
    "plt.plot([xmin, xmin], [ymin, ymax], 'b-') #plots the first column line (on the left). Must be outside of the loop.\n",
    "#'b-' creates a blue line out of dashes\n",
    "for dx in delr: #dx will go through the values in delr one by one in the loop\n",
    "    x = x + dx #add the dx value to x, which is zero, and then store that new value into x\n",
    "    plt.plot([x, x], [ymin, ymax], 'b-') #plot that point and then loop back to top\n",
    "\n",
    "    #repeat the process above but with the y values to make the rows\n",
    "plt.plot([xmin, xmax], [ymin, ymin], 'g-') #plots the first row line (on the bottom). Must be outside of the loop\n",
    "#'g-' creates a green line with dashes\n",
    "for dy in delr: \n",
    "    y = y + dy\n",
    "    plt.plot([xmin, xmax], [y, y], 'g-')\n",
    "\n",
    "#refer back to table 8.1 when plotting the wells!\n",
    "#for each grid make different variable so that they don't interfere with eachother when running the code\n",
    "#for example: x1_0 is the first x coordinate on grid one, x1_1 is the second x coordinate on grid one\n",
    "\n",
    "#pumping well (bottom left corner)\n",
    "#we want to place this well at row 3 column 2 on the grid\n",
    "x1_0 = 5000 #set x equal to 5000\n",
    "y1_0 = x1_0 #set y equal to x which is equal to 5000\n",
    "def wel_pump1(x1_0, y1_0, sym):\n",
    "    plt.plot(x1_0, y1_0, sym)\n",
    "wel_pump1(x1_0, y1_0, sym='ro')\n",
    "\n",
    "#well 1 (top left corner)\n",
    "#this well is placed at row 2 column 2\n",
    "x1_1 = x1_0 #5000\n",
    "y1_1 = x1_0 * 2 #multiply by 2 to get 10000\n",
    "def wel_sp1_1(x1_1, y1_1, sym):\n",
    "    plt.plot(x1_1, y1_1, sym)\n",
    "wel_sp1_1(x1_1, y1_1, sym='bo')\n",
    "\n",
    "#well 2 (top right corner)\n",
    "#this well is placed at row 2 column 3\n",
    "x1_2 = x1_0 * 2 #10000\n",
    "y1_2 = x1_0 * 2 #10000\n",
    "def wel_sp1_2(x1_2, y1_2, sym):\n",
    "    plt.plot(x1_2, y1_2, sym)\n",
    "wel_sp1_2(x1_2, y1_2, sym='bo')\n",
    "\n",
    "#well 3 (bottom right corner)\n",
    "#this well is placed at row 3 column 3\n",
    "x1_3 = x1_0 * 2 #10000\n",
    "y1_3 = x1_0 #5000\n",
    "def wel_sp1_3(x1_3, y1_3, sym):\n",
    "    plt.plot(x1_3, y1_3, sym)\n",
    "wel_sp1_3(x1_3, y1_3, sym='bo')"
   ]
  },
  {
   "cell_type": "code",
   "execution_count": 9,
   "metadata": {
    "collapsed": false
   },
   "outputs": [],
   "source": [
    "#Flopy objects\n",
    "modelname1 = 'p8_pa1' #short for problem 8 part a, grid 1\n",
    "exe_name = '../MF2005.1_12/bin/mf2005.exe'\n",
    "model_ws1 = 'temp'\n",
    "mf1 = flopy.modflow.Modflow(modelname1, exe_name=exe_name, model_ws = model_ws1)"
   ]
  },
  {
   "cell_type": "code",
   "execution_count": 10,
   "metadata": {
    "collapsed": false
   },
   "outputs": [],
   "source": [
    "#dis package\n",
    "#call in the discretization package\n",
    "nlay = 1\n",
    "nrow = 4\n",
    "ncol = 4\n",
    "delr = delr\n",
    "delc = delr #set delr values equal to delc\n",
    "top = 0 #an array of the top elevation of layer 1\n",
    "botm = -1 #an array of the bottom elevation of layer 1\n",
    "nper = 1 #number of periods\n",
    "perlen = 20 #length of stress period\n",
    "nstp = 10 #number of time steps\n",
    "tsmult = 1.414 #time step multiplier\n",
    "dis1 = flopy.modflow.ModflowDis(mf1, nlay=nlay, nrow=nrow, ncol=ncol, delr=delr, delc=delc,\n",
    "                               top=top, botm=botm, nper=nper, perlen=perlen, \n",
    "                               nstp=nstp, tsmult=tsmult, steady=False)"
   ]
  },
  {
   "cell_type": "code",
   "execution_count": 11,
   "metadata": {
    "collapsed": false
   },
   "outputs": [],
   "source": [
    "#bas package\n",
    "ibound = np.ones((nlay, nrow, ncol))\n",
    "strt = np.zeros((nlay, nrow, ncol))\n",
    "bas1 = flopy.modflow.ModflowBas(mf1, ibound=ibound, strt=strt)"
   ]
  },
  {
   "cell_type": "code",
   "execution_count": 12,
   "metadata": {
    "collapsed": false
   },
   "outputs": [],
   "source": [
    "pr1 = 15000 #pumping rate\n",
    "wel_sp1 = [[0, 2, 1, pr1],\n",
    "             [0, 1, 1, -pr1],\n",
    "             [0, 1, 2, -pr1],\n",
    "             [0, 2, 2, -pr1]]\n",
    "stress_period_data = {0: wel_sp1}\n",
    "wel1 = flopy.modflow.ModflowWel(mf1, stress_period_data=stress_period_data)"
   ]
  },
  {
   "cell_type": "code",
   "execution_count": 13,
   "metadata": {
    "collapsed": false
   },
   "outputs": [],
   "source": [
    "#pcg package\n",
    "mxiter = 50\n",
    "hclose = 0.0001\n",
    "pcg1 = flopy.modflow.ModflowPcg(mf1, mxiter=mxiter, hclose=hclose)"
   ]
  },
  {
   "cell_type": "code",
   "execution_count": 14,
   "metadata": {
    "collapsed": false
   },
   "outputs": [],
   "source": [
    "#lpf package\n",
    "hk = 2400\n",
    "laytyp = np.zeros((nlay))\n",
    "lpf1 = flopy.modflow.ModflowLpf(mf1, hk=hk, laytyp=laytyp)"
   ]
  },
  {
   "cell_type": "code",
   "execution_count": 15,
   "metadata": {
    "collapsed": false
   },
   "outputs": [],
   "source": [
    "#oc package\n",
    "oc1 = flopy.modflow.ModflowOc(mf1)"
   ]
  },
  {
   "cell_type": "code",
   "execution_count": 34,
   "metadata": {
    "collapsed": false
   },
   "outputs": [
    {
     "name": "stdout",
     "output_type": "stream",
     "text": [
      "WARNING: unit 23 of package GHB already in use\n",
      "****Warning -- two packages of the same type:  <class 'flopy.modflow.mfghb.ModflowGhb'> <class 'flopy.modflow.mfghb.ModflowGhb'>\n",
      "replacing existing Package...\n",
      "[[0, 0, 0, 0.0, 4800.0], [0, 0, 1, 0.0, 4800.0], [0, 0, 2, 0.0, 4800.0], [0, 0, 3, 0.0, 4800.0], [0, 0, 4, 0.0, 4800.0], [0, 0, 5, 0.0, 4800.0], [0, 0, 6, 0.0, 4800.0]]\n"
     ]
    }
   ],
   "source": [
    "#ghb package\n",
    "ipakcb = 50\n",
    "stage = 0.0\n",
    "b = top - botm #bed thickness\n",
    "l = 1250 #length/distance\n",
    "\n",
    "#cycle through 2500, 5000, 5000, 2500 and apply it to ghb_sp1 for loop\n",
    "delr_float = delr_array.astype(np.float) #change delr into a list of floats\n",
    "print(delr_float) #print list to check it's correct\n",
    "\n",
    "#this iterates through the list of floats we just created 'delr_float'\n",
    "#and assigns each one to the value of w as it loops through\n",
    "#w is then multiplied by 2400 and divided by 1250 and that value is stored into w\n",
    "\n",
    "cond = [(b * hk * w)/l for w in delr_float] #calculating conductivity while looping \n",
    "#through values of w and storing those values into cond\n",
    "print(cond) #print list to make sure values are correct\n",
    "\n",
    "ghb_sp1 = [] #create blank list\n",
    "for col, c in enumerate(cond): #loop will enumerate through cond and put values into c\n",
    "                            #and will go through col starting at 0 until loop ends (at 3)\n",
    "    ghb_sp1.append([0, 0, col, stage, c]) #creates the list of values\n",
    "\n",
    "ghb_spd = {0: ghb_sp1} #stores list of values into ghb_spd\n",
    "ghb1 = flopy.modflow.ModflowGhb(mf1, ipakcb=ipakcb, stress_period_data=ghb_spd)\n",
    "\n",
    "print(ghb_sp1) #print to make sure values are correct"
   ]
  },
  {
   "cell_type": "code",
   "execution_count": 14,
   "metadata": {
    "collapsed": false
   },
   "outputs": [
    {
     "data": {
      "text/plain": [
       "<matplotlib.collections.QuadMesh at 0x18d3ac0eda0>"
      ]
     },
     "execution_count": 14,
     "metadata": {},
     "output_type": "execute_result"
    },
    {
     "data": {
      "image/png": "[encoded data removed]",
      "text/plain": [
       "<matplotlib.figure.Figure at 0x18d3a797cf8>"
      ]
     },
     "metadata": {},
     "output_type": "display_data"
    }
   ],
   "source": [
    "#create grid using model map\n",
    "mm=flopy.plot.ModelMap(model=mf1)\n",
    "mm.plot_grid()\n",
    "mm.plot_bc('WEL')"
   ]
  },
  {
   "cell_type": "code",
   "execution_count": 12,
   "metadata": {
    "collapsed": false
   },
   "outputs": [
    {
     "name": "stdout",
     "output_type": "stream",
     "text": [
      "warning: assuming SpatialReference units are meters\n"
     ]
    }
   ],
   "source": [
    "# Write the MODFLOW model input files\n",
    "mf1.write_input()"
   ]
  },
  {
   "cell_type": "code",
   "execution_count": 13,
   "metadata": {
    "collapsed": false,
    "scrolled": false
   },
   "outputs": [
    {
     "name": "stdout",
     "output_type": "stream",
     "text": [
      "FloPy is using the following executable to run the model: ../MF2005.1_12/bin/mf2005.exe\n",
      "\n",
      "                                  MODFLOW-2005     \n",
      "    U.S. GEOLOGICAL SURVEY MODULAR FINITE-DIFFERENCE GROUND-WATER FLOW MODEL\n",
      "                             Version 1.12.00 2/3/2017                        \n",
      "\n",
      " Using NAME file: p8_pa1.nam \n",
      " Run start date and time (yyyy/mm/dd hh:mm:ss): 2017/07/11 14:53:20\n",
      "\n",
      " Solving:  Stress period:     1    Time step:     1    Ground-Water Flow Eqn.\n",
      " Solving:  Stress period:     1    Time step:     2    Ground-Water Flow Eqn.\n",
      " Solving:  Stress period:     1    Time step:     3    Ground-Water Flow Eqn.\n",
      " Solving:  Stress period:     1    Time step:     4    Ground-Water Flow Eqn.\n",
      " Solving:  Stress period:     1    Time step:     5    Ground-Water Flow Eqn.\n",
      " Solving:  Stress period:     1    Time step:     6    Ground-Water Flow Eqn.\n",
      " Solving:  Stress period:     1    Time step:     7    Ground-Water Flow Eqn.\n",
      " Solving:  Stress period:     1    Time step:     8    Ground-Water Flow Eqn.\n",
      " Solving:  Stress period:     1    Time step:     9    Ground-Water Flow Eqn.\n",
      " Solving:  Stress period:     1    Time step:    10    Ground-Water Flow Eqn.\n",
      " Run end date and time (yyyy/mm/dd hh:mm:ss): 2017/07/11 14:53:20\n",
      " Elapsed run time:  0.006 Seconds\n",
      "\n",
      "  Normal termination of simulation\n"
     ]
    }
   ],
   "source": [
    "# Run the MODFLOW model\n",
    "success, buff = mf1.run_model()"
   ]
  },
  {
   "cell_type": "markdown",
   "metadata": {},
   "source": [
    "### Grid 2\n",
    "\n",
    "| Column # | Row Spacing |\n",
    "|----------|-------------|\n",
    "| 1        | 1750        |\n",
    "| 2        | 2000        |\n",
    "| 3        | 2500        |\n",
    "| 4        | 2500        |\n",
    "| 5        | 2500        |\n",
    "| 6        | 2000        |\n",
    "| 7        | 1750        |"
   ]
  },
  {
   "cell_type": "code",
   "execution_count": 21,
   "metadata": {
    "collapsed": false
   },
   "outputs": [
    {
     "name": "stdout",
     "output_type": "stream",
     "text": [
      "C:\\VT\\USGS Internship\\modflow_epa.git\\Notebooks\n",
      "1750.0\n",
      "2000.0\n",
      "2500.0\n",
      "2500.0\n",
      "2500.0\n",
      "2000.0\n",
      "1750.0\n",
      "[1750.0, 2000.0, 2500.0, 2500.0, 2500.0, 2000.0, 1750.0]\n"
     ]
    }
   ],
   "source": [
    "print(os.getcwd())\n",
    "delr2 = [] #creates an empty list\n",
    "f2 = open('../Data/table8.1_grid2.csv') #opens the csv file; the two periods (.) means that you are goin backwards into the folders.\n",
    "    \n",
    "    #the four loop below creates a statement that if i == 0 (if it's the first\n",
    "    #row then it will skip it (continue) and move on with the for loop)\n",
    "    #we skip the first row in our table/csv file because the headers would give\n",
    "    #us an error since they aren't numerical values.\n",
    "for i,line in enumerate(f2):\n",
    "    if i == 0: \n",
    "        continue\n",
    "        \n",
    "    #\"line.strip\" gets rid of any extra spaces in the margins of the plot\n",
    "    #\"split\" sections of the individual values according to whatever you put in the quotes\n",
    "   \n",
    "    linelist2 = line.strip().split(',') \n",
    "    \n",
    "    value2 = float(linelist2[1]) #changes the values in the list to floats\n",
    "    print(value2) #prints the values\n",
    "    delr2.append(value2) #puts the floats into the empty list, delr \n",
    "    \n",
    "print(delr2) #prints the list"
   ]
  },
  {
   "cell_type": "code",
   "execution_count": 22,
   "metadata": {
    "collapsed": false
   },
   "outputs": [
    {
     "name": "stdout",
     "output_type": "stream",
     "text": [
      "[ 1750.  2000.  2500.  2500.  2500.  2000.  1750.]\n",
      "15000.0\n"
     ]
    },
    {
     "data": {
      "image/png": "[encoded data removed]",
      "text/plain": [
       "<matplotlib.figure.Figure at 0x20ca171eba8>"
      ]
     },
     "metadata": {},
     "output_type": "display_data"
    }
   ],
   "source": [
    "#code to create grid 2\n",
    "fig2 = plt.figure(figsize=(10, 10))\n",
    "ax2 = fig.add_subplot(1, 1, 1, aspect='equal') #makes the length and width of the grid equal on all four sides\n",
    "delr_array2 = np.array(delr2) #changes delr values from float to array\n",
    "print (delr_array2) #prints those values\n",
    "print (delr_array2.sum()) #prints the sum of those values\n",
    "ymax2 = delr_array2.sum() #assigns the sum of the list to ymax\n",
    "ymin2 = 0 #sets ymin equal to zero\n",
    "xmax2 = ymax2 #makes xmax equal to ymax which is equal to the sum of the list\n",
    "xmin2 = 0 #sets xmin equal to zero\n",
    "x2 = 0 #sets x equal to zero\n",
    "y2 = 0 #sets y equal to zero\n",
    "\n",
    "#before moving on to this code, it helps to draw out an image of a graph with each corner labled with the coordinates of that point\n",
    "#top left - (xmin, ymax)\n",
    "#bottom left - (xmin, ymin)\n",
    "#top right - (xmax, ymax)\n",
    "#bottom right - (xmax, ymin)\n",
    "plt.plot([xmin2, xmin2], [ymin2, ymax2], 'b-') #plots the first column line (on the left). Must be outside of the loop.\n",
    "#'b-' creates a blue line out of dashes\n",
    "for dx2 in delr2: #dx will go through the values in delr one by one in the loop\n",
    "    x2 = x2 + dx2 #add the dx value to x, which is zero, and then store that new value into x\n",
    "    plt.plot([x2, x2], [ymin2, ymax2], 'b-') #plot that point and then loop back to top\n",
    "\n",
    "    #repeat the process above but with the y values to make the rows\n",
    "plt.plot([xmin2, xmax2], [ymin2, ymin2], 'g-') #plots the first row line (on the bottom). Must be outside of the loop\n",
    "#'g-' creates a green line with dashes\n",
    "for dy2 in delr2: \n",
    "    y2 = y2 + dy2\n",
    "    plt.plot([xmin2, xmax2], [y2, y2], 'g-')\n",
    "\n",
    "#REMEMBER! Make different variables for each grid: x2_0, x2_1, x2_2...etc\n",
    "\n",
    "#pumping well (bottom left)\n",
    "x2_0 = 5000 \n",
    "y2_0 = x2_0 #5000\n",
    "def wel_pump2(x2_0, y2_0, sym):\n",
    "    plt.plot(x2_0, y2_0, sym)\n",
    "wel_pump2(x2_0, y2_0, sym='ro')\n",
    "\n",
    "#well 1 (top left)\n",
    "x2_1 = x2_0 #5000\n",
    "y2_1 = x2_0 * 2 #10000\n",
    "def wel_sp2_1(x2_1, y2_1, sym):\n",
    "    plt.plot(x2_1, y2_1, sym)\n",
    "wel_sp2_1(x2_1, y2_1, sym='bo')\n",
    "\n",
    "#well 2 (top right)\n",
    "x2_2 = x2_0 * 2 #10000\n",
    "y2_2 = x2_0 * 2 #10000\n",
    "def wel_sp2_2(x2_2, y2_2, sym):\n",
    "    plt.plot(x2_2, y2_2, sym)\n",
    "wel_sp2_2(x2_2, y2_2, sym='bo')\n",
    "\n",
    "#well 3 (bottom right)\n",
    "x2_3 = x2_0 * 2 #10000\n",
    "y2_3 = x2_0 #5000\n",
    "def wel_sp2_3(x2_3, y2_3, sym):\n",
    "    plt.plot(x2_3, y2_3, sym)\n",
    "wel_sp2_3(x2_3, y2_3, sym='bo')"
   ]
  },
  {
   "cell_type": "code",
   "execution_count": 23,
   "metadata": {
    "collapsed": true
   },
   "outputs": [],
   "source": [
    "#Flopy objects\n",
    "modelname2 = 'p8_pa2' #short for problem 8 part a, grid 2\n",
    "exe_name = '../MF2005.1_12/bin/mf2005.exe'\n",
    "model_ws2 = 'temp'\n",
    "mf2 = flopy.modflow.Modflow(modelname2, exe_name=exe_name, model_ws = model_ws2)"
   ]
  },
  {
   "cell_type": "code",
   "execution_count": 24,
   "metadata": {
    "collapsed": false
   },
   "outputs": [],
   "source": [
    "#dis package\n",
    "#call in the discretization package\n",
    "nlay = 1\n",
    "nrow = 7\n",
    "ncol = 7\n",
    "delr = delr2\n",
    "delc = delr #set delr values equal to delc\n",
    "top = 0 #an array of the top elevation of layer 1\n",
    "botm = -1 #an array of the bottom elevation of layer 1\n",
    "nper = 1 #number of periods\n",
    "perlen = 20 #length of stress period\n",
    "nstp = 10 #number of time steps\n",
    "tsmult = 1.414 #time step multiplier\n",
    "dis2 = flopy.modflow.ModflowDis(mf2, nlay, nrow, ncol, delr=delr, delc=delc,\n",
    "                               top=top, botm=botm, nper=nper, perlen=perlen, \n",
    "                               nstp=nstp, tsmult=tsmult, steady=False)"
   ]
  },
  {
   "cell_type": "code",
   "execution_count": 25,
   "metadata": {
    "collapsed": true
   },
   "outputs": [],
   "source": [
    "#bas package\n",
    "ibound = np.ones((nlay, nrow, ncol))\n",
    "strt = np.zeros((nlay, nrow, ncol))\n",
    "bas2 = flopy.modflow.ModflowBas(mf2, ibound=ibound, strt=strt)"
   ]
  },
  {
   "cell_type": "code",
   "execution_count": 26,
   "metadata": {
    "collapsed": false
   },
   "outputs": [],
   "source": [
    "pr2 = 15000 #pumping rate\n",
    "wel_sp2 = [[0, 4, 2, pr2],\n",
    "             [0, 2, 2, -pr2],\n",
    "             [0, 2, 4, -pr2],\n",
    "             [0, 4, 4, -pr2]]\n",
    "stress_period_data = {0: wel_sp2}\n",
    "wel2 = flopy.modflow.ModflowWel(mf2, stress_period_data=stress_period_data)"
   ]
  },
  {
   "cell_type": "code",
   "execution_count": 27,
   "metadata": {
    "collapsed": false
   },
   "outputs": [],
   "source": [
    "#pcg package\n",
    "mxiter = 50\n",
    "hclose = 0.0001\n",
    "pcg2 = flopy.modflow.ModflowPcg(mf2, mxiter=mxiter, hclose=hclose)"
   ]
  },
  {
   "cell_type": "code",
   "execution_count": 28,
   "metadata": {
    "collapsed": true
   },
   "outputs": [],
   "source": [
    "#lpf package\n",
    "hk = 2400\n",
    "laytyp = np.zeros((nlay))\n",
    "lpf2 = flopy.modflow.ModflowLpf(mf2, hk=hk, laytyp=laytyp)"
   ]
  },
  {
   "cell_type": "code",
   "execution_count": 29,
   "metadata": {
    "collapsed": false
   },
   "outputs": [],
   "source": [
    "#oc package\n",
    "oc2 = flopy.modflow.ModflowOc(mf2)"
   ]
  },
  {
   "cell_type": "code",
   "execution_count": 31,
   "metadata": {
    "collapsed": false
   },
   "outputs": [
    {
     "name": "stdout",
     "output_type": "stream",
     "text": [
      "WARNING: unit 23 of package GHB already in use\n",
      "****Warning -- two packages of the same type:  <class 'flopy.modflow.mfghb.ModflowGhb'> <class 'flopy.modflow.mfghb.ModflowGhb'>\n",
      "replacing existing Package...\n",
      "[[0, 0, 0, 0.0, 4800.0], [0, 0, 1, 0.0, 4800.0], [0, 0, 2, 0.0, 4800.0], [0, 0, 3, 0.0, 4800.0], [0, 0, 4, 0.0, 4800.0], [0, 0, 5, 0.0, 4800.0], [0, 0, 6, 0.0, 4800.0]]\n"
     ]
    }
   ],
   "source": [
    "#ghb package\n",
    "ipakcb = 50\n",
    "stage = 0.0\n",
    "b = top - botm #bed thickness\n",
    "l = 1250 #length/distance\n",
    "\n",
    "#cycle through delr_float and apply it to ghb_sp1 for loop\n",
    "delr_float2 = delr_array2.astype(np.float) #change delr_array into a list of floats\n",
    "print(delr_float2) #print list to check it's correct\n",
    "\n",
    "#this iterates through the list of floats we just created 'delr_float'\n",
    "#and assigns each one to the value of w as it loops through\n",
    "#w is then multiplied by 2400 and divided by 1250 and that value is stored into w\n",
    "\n",
    "cond = [(b * hk * w)/l for w in delr_float2] #calculating conductivity while looping \n",
    "#through values of w and storing those values into cond\n",
    "print(cond) #print list to make sure values are correct\n",
    "\n",
    "ghb_sp2 = [] #create blank list\n",
    "for col, c in enumerate(cond): #loop will enumerate through cond and put values into c\n",
    "                            #and will go through col starting at 0 until loop ends (at 3)\n",
    "    ghb_sp2.append([0, 0, col, stage, c]) #creates the list of values\n",
    "\n",
    "ghb_spd = {0: ghb_sp2} #stores list of values into ghb_spd\n",
    "ghb2 = flopy.modflow.ModflowGhb(mf1, ipakcb=ipakcb, stress_period_data=ghb_spd)\n",
    "\n",
    "print(ghb_sp2) #print to make sure values are correct"
   ]
  },
  {
   "cell_type": "code",
   "execution_count": 32,
   "metadata": {
    "collapsed": false
   },
   "outputs": [
    {
     "data": {
      "text/plain": [
       "<matplotlib.collections.QuadMesh at 0x20ca1499198>"
      ]
     },
     "execution_count": 32,
     "metadata": {},
     "output_type": "execute_result"
    },
    {
     "data": {
      "image/png": "[encoded data removed]",
      "text/plain": [
       "<matplotlib.figure.Figure at 0x20ca14036a0>"
      ]
     },
     "metadata": {},
     "output_type": "display_data"
    }
   ],
   "source": [
    "#create grid using model map\n",
    "mm=flopy.plot.ModelMap(model=mf1)\n",
    "mm.plot_grid()\n",
    "mm.plot_bc('WEL')"
   ]
  },
  {
   "cell_type": "code",
   "execution_count": 26,
   "metadata": {
    "collapsed": false
   },
   "outputs": [
    {
     "name": "stdout",
     "output_type": "stream",
     "text": [
      "warning: assuming SpatialReference units are meters\n"
     ]
    }
   ],
   "source": [
    "# Write the MODFLOW model input files\n",
    "mf2.write_input()"
   ]
  },
  {
   "cell_type": "code",
   "execution_count": 27,
   "metadata": {
    "collapsed": false
   },
   "outputs": [
    {
     "name": "stdout",
     "output_type": "stream",
     "text": [
      "FloPy is using the following executable to run the model: ../MF2005.1_12/bin/mf2005.exe\n",
      "\n",
      "                                  MODFLOW-2005     \n",
      "    U.S. GEOLOGICAL SURVEY MODULAR FINITE-DIFFERENCE GROUND-WATER FLOW MODEL\n",
      "                             Version 1.12.00 2/3/2017                        \n",
      "\n",
      " Using NAME file: p8_pa2.nam \n",
      " Run start date and time (yyyy/mm/dd hh:mm:ss): 2017/07/11 14:54:59\n",
      "\n",
      " Solving:  Stress period:     1    Time step:     1    Ground-Water Flow Eqn.\n",
      " Solving:  Stress period:     1    Time step:     2    Ground-Water Flow Eqn.\n",
      " Solving:  Stress period:     1    Time step:     3    Ground-Water Flow Eqn.\n",
      " Solving:  Stress period:     1    Time step:     4    Ground-Water Flow Eqn.\n",
      " Solving:  Stress period:     1    Time step:     5    Ground-Water Flow Eqn.\n",
      " Solving:  Stress period:     1    Time step:     6    Ground-Water Flow Eqn.\n",
      " Solving:  Stress period:     1    Time step:     7    Ground-Water Flow Eqn.\n",
      " Solving:  Stress period:     1    Time step:     8    Ground-Water Flow Eqn.\n",
      " Solving:  Stress period:     1    Time step:     9    Ground-Water Flow Eqn.\n",
      " Solving:  Stress period:     1    Time step:    10    Ground-Water Flow Eqn.\n",
      " Run end date and time (yyyy/mm/dd hh:mm:ss): 2017/07/11 14:54:59\n",
      " Elapsed run time:  0.009 Seconds\n",
      "\n",
      "  Normal termination of simulation\n"
     ]
    }
   ],
   "source": [
    "# Run the MODFLOW model\n",
    "success, buff = mf2.run_model()"
   ]
  },
  {
   "cell_type": "markdown",
   "metadata": {},
   "source": [
    "### Grid 3\n",
    "\n",
    "| Column # | Row Spacing |\n",
    "|----------|-------------|\n",
    "| 1        | 1250        |\n",
    "| 2        | 1666.7      |\n",
    "| 3        | 1666.7      |\n",
    "| 4        | 1666.7      |\n",
    "| 5        | 1666.7      |\n",
    "| 6        | 1666.7      |\n",
    "| 7        | 1666.7      |\n",
    "| 8        | 1666.7      |\n",
    "| 9        | 1666.7      |\n",
    "| 10       | 1250        |"
   ]
  },
  {
   "cell_type": "code",
   "execution_count": 35,
   "metadata": {
    "collapsed": false
   },
   "outputs": [
    {
     "name": "stdout",
     "output_type": "stream",
     "text": [
      "C:\\VT\\USGS Internship\\modflow_epa.git\\Notebooks\n",
      "1250.0\n",
      "1666.7\n",
      "1666.7\n",
      "1666.7\n",
      "1666.7\n",
      "1666.7\n",
      "1666.7\n",
      "1666.7\n",
      "1666.7\n",
      "1250.0\n",
      "[1250.0, 1666.7, 1666.7, 1666.7, 1666.7, 1666.7, 1666.7, 1666.7, 1666.7, 1250.0]\n"
     ]
    }
   ],
   "source": [
    "print(os.getcwd())\n",
    "delr3 = [] #creates an empty list\n",
    "f3 = open('../Data/table8.1_grid3.csv') #opens the csv file; the two periods (.) means that you are goin backwards into the folders.\n",
    "    \n",
    "    #the four loop below creates a statement that if i == 0 (if it's the first\n",
    "    #row then it will skip it (continue) and move on with the for loop)\n",
    "    #we skip the first row in our table/csv file because the headers would give\n",
    "    #us an error since they aren't numerical values.\n",
    "for i,line in enumerate(f3):\n",
    "    if i == 0: \n",
    "        continue\n",
    "        \n",
    "    #\"line.strip\" gets rid of any extra spaces in the margins of the plot\n",
    "    #\"split\" sections of the individual values according to whatever you put in the quotes\n",
    "    linelist3 = line.strip().split(',') \n",
    "    \n",
    "    value3 = float(linelist3[1]) #changes the values in the list to floats\n",
    "    print(value3) #prints the values\n",
    "    delr3.append(value3) #puts the floats into the empty list, delr \n",
    "    \n",
    "print(delr3) #prints the list"
   ]
  },
  {
   "cell_type": "code",
   "execution_count": 36,
   "metadata": {
    "collapsed": false
   },
   "outputs": [
    {
     "name": "stdout",
     "output_type": "stream",
     "text": [
      "[ 1250.   1666.7  1666.7  1666.7  1666.7  1666.7  1666.7  1666.7  1666.7\n",
      "  1250. ]\n",
      "15833.6\n"
     ]
    },
    {
     "data": {
      "image/png": "[encoded data removed]",
      "text/plain": [
       "<matplotlib.figure.Figure at 0x20ca14e94e0>"
      ]
     },
     "metadata": {},
     "output_type": "display_data"
    }
   ],
   "source": [
    "#code to create grid 3\n",
    "fig3 = plt.figure(figsize=(10, 10))\n",
    "ax3 = fig.add_subplot(1, 1, 1, aspect='equal') #makes the length and width of the grid equal on all four sides\n",
    "delr_array3 = np.array(delr3) #changes delr values from float to array\n",
    "print (delr_array3) #prints those values\n",
    "print (delr_array3.sum()) #prints the sum of those values\n",
    "ymax3 = delr_array3.sum() #assigns the sum of the list to ymax\n",
    "ymin3 = 0 #sets ymin equal to zero\n",
    "xmax3 = ymax3 #makes xmax equal to ymax which is equal to the sum of the list\n",
    "xmin3 = 0 #sets xmin equal to zero\n",
    "x3 = 0 #sets x equal to zero\n",
    "y3 = 0 #sets y equal to zero\n",
    "\n",
    "#before moving on to this code, it helps to draw out an image of a graph with each corner labled with the coordinates of that point\n",
    "#top left - (xmin, ymax)\n",
    "#bottom left - (xmin, ymin)\n",
    "#top right - (xmax, ymax)\n",
    "#bottom right - (xmax, ymin)\n",
    "plt.plot([xmin3, xmin3], [ymin3, ymax3], 'b-') #plots the first column line (on the left). Must be outside of the loop.\n",
    "#'b-' creates a blue line out of dashes\n",
    "for dx3 in delr3: #dx will go through the values in delr one by one in the loop\n",
    "    x3 = x3 + dx3 #add the dx value to x, which is zero, and then store that new value into x\n",
    "    plt.plot([x3, x3], [ymin3, ymax3], 'b-') #plot that point and then loop back to top\n",
    "\n",
    "    #repeat the process above but with the y values to make the rows\n",
    "plt.plot([xmin3, xmax3], [ymin3, ymin3], 'g-') #plots the first row line (on the bottom). Must be outside of the loop\n",
    "#'g-' creates a green line with dashes\n",
    "for dy3 in delr3: \n",
    "    y3 = y3 + dy3\n",
    "    plt.plot([xmin3, xmax3], [y3, y3], 'g-')\n",
    "\n",
    "#pumping well (bottom left)\n",
    "x3_0 = 5416.75\n",
    "y3_0 = x3_0 #5416.75\n",
    "def wel_pump3(x3_0, y3_0, sym):\n",
    "    plt.plot(x3_0, y3_0, sym)\n",
    "wel_pump3(x3_0, y3_0, sym='ro')\n",
    "\n",
    "#well 1 (top left)\n",
    "x3_1 = x3_0 #5416.75\n",
    "y3_1 = 10416.85\n",
    "def wel_sp3_1(x3_1, y3_1, sym):\n",
    "    plt.plot(x3_1, y3_1, sym)\n",
    "wel_sp3_1(x3_1, y3_1, sym='bo')\n",
    "\n",
    "#well 2 (top right)\n",
    "x3_2 = y3_1 #10416.85\n",
    "y3_2 = y3_1 #10416.85\n",
    "def wel_sp3_2(x3_2, y3_2, sym):\n",
    "    plt.plot(x3_2, y3_2, sym)\n",
    "wel_sp3_2(x3_2, y3_2, sym='bo')\n",
    "\n",
    "#well 3 (bottom right)\n",
    "x3_3 = y3_1 #10416.85\n",
    "y3_3 = x3_0 #5416.75\n",
    "def wel_sp3_3(x3_3, y3_3, sym):\n",
    "    plt.plot(x3_3, y3_3, sym)\n",
    "wel_sp3_3(x3_3, y3_3, sym='bo')"
   ]
  },
  {
   "cell_type": "code",
   "execution_count": 37,
   "metadata": {
    "collapsed": true
   },
   "outputs": [],
   "source": [
    "#Flopy objects\n",
    "modelname3 = 'p8_pa3' #short for problem 8 part a, grid 3\n",
    "exe_name = '../MF2005.1_12/bin/mf2005.exe'\n",
    "model_ws3 = 'temp'\n",
    "mf3 = flopy.modflow.Modflow(modelname3, exe_name=exe_name, model_ws = model_ws3)"
   ]
  },
  {
   "cell_type": "code",
   "execution_count": 38,
   "metadata": {
    "collapsed": false
   },
   "outputs": [],
   "source": [
    "#dis package\n",
    "#call in the discretization package\n",
    "nlay = 1\n",
    "nrow = 10\n",
    "ncol = 10\n",
    "delr = delr3\n",
    "delc = delr #set delr values equal to delc\n",
    "top = 0 #an array of the top elevation of layer 1\n",
    "botm = -1 #an array of the bottom elevation of layer 1\n",
    "nper = 1 #number of periods\n",
    "perlen = 20 #length of stress period\n",
    "nstp = 10 #number of time steps\n",
    "tsmult = 1.414 #time step multiplier\n",
    "dis3 = flopy.modflow.ModflowDis(mf3, nlay, nrow, ncol, delr=delr, delc=delc,\n",
    "                               top=top, botm=botm, nper=nper, perlen=perlen, \n",
    "                               nstp=nstp, tsmult=tsmult, steady=False)"
   ]
  },
  {
   "cell_type": "code",
   "execution_count": 39,
   "metadata": {
    "collapsed": true
   },
   "outputs": [],
   "source": [
    "#bas package\n",
    "ibound = np.ones((nlay, nrow, ncol))\n",
    "strt = np.zeros((nlay, nrow, ncol))\n",
    "bas3 = flopy.modflow.ModflowBas(mf3, ibound=ibound, strt=strt)"
   ]
  },
  {
   "cell_type": "code",
   "execution_count": 40,
   "metadata": {
    "collapsed": false
   },
   "outputs": [],
   "source": [
    "pr3 = 15000 #pumping rate\n",
    "wel_sp3 = [[0, 6, 3, pr3],\n",
    "         [0, 3, 3, -pr3],\n",
    "         [0, 3, 6, -pr3],\n",
    "         [0, 6, 6, -pr3]]\n",
    "stress_period_data = {0: wel_sp3}\n",
    "wel3 = flopy.modflow.ModflowWel(mf3, stress_period_data=stress_period_data)"
   ]
  },
  {
   "cell_type": "code",
   "execution_count": 34,
   "metadata": {
    "collapsed": true
   },
   "outputs": [],
   "source": [
    "#pcg package\n",
    "mxiter = 50\n",
    "hclose = 0.0001\n",
    "pcg3 = flopy.modflow.ModflowPcg(mf3, mxiter=mxiter, hclose=hclose)"
   ]
  },
  {
   "cell_type": "code",
   "execution_count": 35,
   "metadata": {
    "collapsed": true
   },
   "outputs": [],
   "source": [
    "#lpf package\n",
    "hk = 2400 #times cell thickness top-botm\n",
    "laytyp = np.zeros((nlay))\n",
    "lpf3 = flopy.modflow.ModflowLpf(mf3, hk=hk, laytyp=laytyp)"
   ]
  },
  {
   "cell_type": "code",
   "execution_count": 36,
   "metadata": {
    "collapsed": true
   },
   "outputs": [],
   "source": [
    "#oc package\n",
    "oc3 = flopy.modflow.ModflowOc(mf3)"
   ]
  },
  {
   "cell_type": "code",
   "execution_count": 41,
   "metadata": {
    "collapsed": false
   },
   "outputs": [
    {
     "name": "stdout",
     "output_type": "stream",
     "text": [
      "[[0, 0, 0, 0.0, 4800.0], [0, 0, 1, 0.0, 4800.0], [0, 0, 2, 0.0, 4800.0], [0, 0, 3, 0.0, 4800.0], [0, 0, 4, 0.0, 4800.0], [0, 0, 5, 0.0, 4800.0], [0, 0, 6, 0.0, 4800.0], [0, 0, 7, 0.0, 4800.0], [0, 0, 8, 0.0, 4800.0], [0, 0, 9, 0.0, 4800.0]]\n"
     ]
    }
   ],
   "source": [
    "#ghb package\n",
    "ipakcb = 50\n",
    "stage = 0.0\n",
    "b = top - botm #bed thickness\n",
    "l = 1250 #length/distance\n",
    "\n",
    "#cycle through delr_float and apply it to ghb_sp1 for loop\n",
    "delr_float3 = delr_array3.astype(np.float) #change delr_array into a list of floats\n",
    "print(delr_float3) #print list to check it's correct\n",
    "\n",
    "#this iterates through the list of floats we just created 'delr_float'\n",
    "#and assigns each one to the value of w as it loops through\n",
    "#w is then multiplied by 2400 and divided by 1250 and that value is stored into w\n",
    "\n",
    "cond = [(b * hk * w)/l for w in delr_float3] #calculating conductivity while looping \n",
    "#through values of w and storing those values into cond\n",
    "print(cond) #print list to make sure values are correct\n",
    "\n",
    "ghb_sp3 = [] #create blank list\n",
    "for col, c in enumerate(cond): #loop will enumerate through cond and put values into c\n",
    "                            #and will go through col starting at 0 until loop ends (at 3)\n",
    "    ghb_sp3.append([0, 0, col, stage, c]) #creates the list of values\n",
    "\n",
    "ghb_spd = {0: ghb_sp3} #stores list of values into ghb_spd\n",
    "ghb3 = flopy.modflow.ModflowGhb(mf1, ipakcb=ipakcb, stress_period_data=ghb_spd)\n",
    "\n",
    "print(ghb_sp3) #print to make sure values are correct"
   ]
  },
  {
   "cell_type": "code",
   "execution_count": 42,
   "metadata": {
    "collapsed": false
   },
   "outputs": [
    {
     "data": {
      "text/plain": [
       "<matplotlib.collections.QuadMesh at 0x20ca185ccf8>"
      ]
     },
     "execution_count": 42,
     "metadata": {},
     "output_type": "execute_result"
    },
    {
     "data": {
      "image/png": "[encoded data removed]",
      "text/plain": [
       "<matplotlib.figure.Figure at 0x20ca1439da0>"
      ]
     },
     "metadata": {},
     "output_type": "display_data"
    }
   ],
   "source": [
    "#create grid using model map\n",
    "mm=flopy.plot.ModelMap(model=mf1)\n",
    "mm.plot_grid()\n",
    "mm.plot_bc('WEL')"
   ]
  },
  {
   "cell_type": "code",
   "execution_count": 40,
   "metadata": {
    "collapsed": false
   },
   "outputs": [
    {
     "name": "stdout",
     "output_type": "stream",
     "text": [
      "warning: assuming SpatialReference units are meters\n"
     ]
    }
   ],
   "source": [
    "# Write the MODFLOW model input files\n",
    "mf3.write_input()"
   ]
  },
  {
   "cell_type": "code",
   "execution_count": 41,
   "metadata": {
    "collapsed": false
   },
   "outputs": [
    {
     "name": "stdout",
     "output_type": "stream",
     "text": [
      "FloPy is using the following executable to run the model: ../MF2005.1_12/bin/mf2005.exe\n",
      "\n",
      "                                  MODFLOW-2005     \n",
      "    U.S. GEOLOGICAL SURVEY MODULAR FINITE-DIFFERENCE GROUND-WATER FLOW MODEL\n",
      "                             Version 1.12.00 2/3/2017                        \n",
      "\n",
      " Using NAME file: p8_pa3.nam \n",
      " Run start date and time (yyyy/mm/dd hh:mm:ss): 2017/07/11 14:55:17\n",
      "\n",
      " Solving:  Stress period:     1    Time step:     1    Ground-Water Flow Eqn.\n",
      " Solving:  Stress period:     1    Time step:     2    Ground-Water Flow Eqn.\n",
      " Solving:  Stress period:     1    Time step:     3    Ground-Water Flow Eqn.\n",
      " Solving:  Stress period:     1    Time step:     4    Ground-Water Flow Eqn.\n",
      " Solving:  Stress period:     1    Time step:     5    Ground-Water Flow Eqn.\n",
      " Solving:  Stress period:     1    Time step:     6    Ground-Water Flow Eqn.\n",
      " Solving:  Stress period:     1    Time step:     7    Ground-Water Flow Eqn.\n",
      " Solving:  Stress period:     1    Time step:     8    Ground-Water Flow Eqn.\n",
      " Solving:  Stress period:     1    Time step:     9    Ground-Water Flow Eqn.\n",
      " Solving:  Stress period:     1    Time step:    10    Ground-Water Flow Eqn.\n",
      " Run end date and time (yyyy/mm/dd hh:mm:ss): 2017/07/11 14:55:17\n",
      " Elapsed run time:  0.008 Seconds\n",
      "\n",
      "  Normal termination of simulation\n"
     ]
    }
   ],
   "source": [
    "# Run the MODFLOW model\n",
    "success, buff = mf3.run_model()"
   ]
  },
  {
   "cell_type": "markdown",
   "metadata": {},
   "source": [
    "### Grid 4\n",
    "\n",
    "| Column # | Row Spacing |\n",
    "|----------|-------------|\n",
    "| 1        | 500         |\n",
    "| 2        | 1000        |\n",
    "| 3        | 1000        |\n",
    "| 4        | 1000        |\n",
    "| 5        | 1000        |\n",
    "| 6        | 1000        |\n",
    "| 7        | 1000        |\n",
    "| 8        | 1000        |\n",
    "| 9        | 1000        |\n",
    "| 10       | 1000        |\n",
    "| 11       | 1000        |\n",
    "| 12       | 1000        |\n",
    "| 13       | 1000        |\n",
    "| 14       | 1000        |\n",
    "| 15       | 1000        |\n",
    "| 16       | 500         |"
   ]
  },
  {
   "cell_type": "code",
   "execution_count": 43,
   "metadata": {
    "collapsed": false
   },
   "outputs": [
    {
     "name": "stdout",
     "output_type": "stream",
     "text": [
      "C:\\VT\\USGS Internship\\modflow_epa.git\\Notebooks\n",
      "500.0\n",
      "1000.0\n",
      "1000.0\n",
      "1000.0\n",
      "1000.0\n",
      "1000.0\n",
      "1000.0\n",
      "1000.0\n",
      "1000.0\n",
      "1000.0\n",
      "1000.0\n",
      "1000.0\n",
      "1000.0\n",
      "1000.0\n",
      "1000.0\n",
      "500.0\n",
      "[500.0, 1000.0, 1000.0, 1000.0, 1000.0, 1000.0, 1000.0, 1000.0, 1000.0, 1000.0, 1000.0, 1000.0, 1000.0, 1000.0, 1000.0, 500.0]\n"
     ]
    }
   ],
   "source": [
    "print(os.getcwd())\n",
    "delr4 = [] #creates an empty list\n",
    "f4 = open('../Data/table8.1_grid4.csv') #opens the csv file; the two periods (.) means that you are goin backwards into the folders.\n",
    "    \n",
    "    #the four loop below creates a statement that if i == 0 (if it's the first\n",
    "    #row then it will skip it (continue) and move on with the for loop)\n",
    "    #we skip the first row in our table/csv file because the headers would give\n",
    "    #us an error since they aren't numerical values.\n",
    "for i,line in enumerate(f4):\n",
    "    if i == 0: \n",
    "        continue\n",
    "        \n",
    "    #\"line.strip\" gets rid of any extra spaces in the margins of the plot\n",
    "    #\"split\" sections of the individual values according to whatever you put in the quotes\n",
    "    linelist4 = line.strip().split(',') \n",
    "    \n",
    "    value4 = float(linelist4[1]) #changes the values in the list to floats\n",
    "    print(value4) #prints the values\n",
    "    delr4.append(value4) #puts the floats into the empty list, delr \n",
    "    \n",
    "print(delr4) #prints the list"
   ]
  },
  {
   "cell_type": "code",
   "execution_count": 44,
   "metadata": {
    "collapsed": false
   },
   "outputs": [
    {
     "name": "stdout",
     "output_type": "stream",
     "text": [
      "[  500.  1000.  1000.  1000.  1000.  1000.  1000.  1000.  1000.  1000.\n",
      "  1000.  1000.  1000.  1000.  1000.   500.]\n",
      "15000.0\n"
     ]
    },
    {
     "data": {
      "image/png": "[encoded data removed]",
      "text/plain": [
       "<matplotlib.figure.Figure at 0x20ca1828e48>"
      ]
     },
     "metadata": {},
     "output_type": "display_data"
    }
   ],
   "source": [
    "#code to create grid 4\n",
    "fig4 = plt.figure(figsize=(10, 10))\n",
    "ax4 = fig.add_subplot(1, 1, 1, aspect='equal') #makes the length and width of the grid equal on all four sides\n",
    "delr_array4 = np.array(delr4) #changes delr values from float to array\n",
    "print (delr_array4) #prints those values\n",
    "print (delr_array4.sum()) #prints the sum of those values\n",
    "ymax4 = delr_array4.sum() #assigns the sum of the list to ymax\n",
    "ymin4 = 0 #sets ymin equal to zero\n",
    "xmax4 = ymax4 #makes xmax equal to ymax which is equal to the sum of the list\n",
    "xmin4 = 0 #sets xmin equal to zero\n",
    "x4 = 0 #sets x equal to zero\n",
    "y4 = 0 #sets y equal to zero\n",
    "\n",
    "#before moving on to this code, it helps to draw out an image of a graph with each corner labled with the coordinates of that point\n",
    "#top left - (xmin, ymax)\n",
    "#bottom left - (xmin, ymin)\n",
    "#top right - (xmax, ymax)\n",
    "#bottom right - (xmax, ymin)\n",
    "plt.plot([xmin4, xmin4], [ymin4, ymax4], 'b-') #plots the first column line (on the left). Must be outside of the loop.\n",
    "#'b-' creates a blue line out of dashes\n",
    "for dx4 in delr4: #dx will go through the values in delr one by one in the loop\n",
    "    x4 = x4 + dx4 #add the dx value to x, which is zero, and then store that new value into x\n",
    "    plt.plot([x4, x4], [ymin4, ymax4], 'b-') #plot that point and then loop back to top\n",
    "\n",
    "    #repeat the process above but with the y values to make the rows\n",
    "plt.plot([xmin4, xmax4], [ymin4, ymin4], 'g-') #plots the first row line (on the bottom). Must be outside of the loop\n",
    "#'g-' creates a green line with dashes\n",
    "for dy4 in delr4: \n",
    "    y4 = y4 + dy4\n",
    "    plt.plot([xmin4, xmax4], [y4, y4], 'g-')\n",
    "\n",
    "#pumping well (bottom left)\n",
    "x4_0 = 5000\n",
    "y4_0 = x4_0 #5000\n",
    "def wel_pump4(x4_0, y4_0, sym):\n",
    "    plt.plot(x4_0, y4_0, sym)\n",
    "wel_pump4(x4_0, y4_0, sym='ro')\n",
    "\n",
    "#well 1 (top left)\n",
    "x4_1 = x4_0 #5000\n",
    "y4_1 = x4_0 * 2 #10000\n",
    "def wel_sp4_1(x4_1, y4_1, sym):\n",
    "    plt.plot(x4_1, y4_1, sym)\n",
    "wel_sp4_1(x4_1, y4_1, sym='bo')\n",
    "\n",
    "#well 2 (top right)\n",
    "x4_2 = x4_0 * 2 #10000\n",
    "y4_2 = x4_0 * 2 #10000\n",
    "def wel_sp4_2(x4_2, y4_2, sym):\n",
    "    plt.plot(x4_2, y4_2, sym)\n",
    "wel_sp4_2(x4_2, y4_2, sym='bo')\n",
    "\n",
    "#well 3 (bottom right)\n",
    "x4_3 = x4_0 * 2 #10000\n",
    "y4_3 = x4_0 #5000\n",
    "def wel_sp4_3(x4_3, y4_3, sym):\n",
    "    plt.plot(x4_3, y4_3, sym)\n",
    "wel_sp4_3(x4_3, y4_3, sym='bo')"
   ]
  },
  {
   "cell_type": "code",
   "execution_count": 45,
   "metadata": {
    "collapsed": true
   },
   "outputs": [],
   "source": [
    "#Flopy objects\n",
    "modelname4 = 'p8_pa4' #short for problem 8 part a, grid 4\n",
    "exe_name = '../MF2005.1_12/bin/mf2005.exe'\n",
    "model_ws4 = 'temp'\n",
    "mf4 = flopy.modflow.Modflow(modelname4, exe_name=exe_name, model_ws = model_ws4)"
   ]
  },
  {
   "cell_type": "code",
   "execution_count": 46,
   "metadata": {
    "collapsed": false
   },
   "outputs": [
    {
     "ename": "Exception",
     "evalue": "Util2d:self.shape: (10,) does not match value.shape: (16,)",
     "output_type": "error",
     "traceback": [
      "\u001b[0;31m---------------------------------------------------------------------------\u001b[0m",
      "\u001b[0;31mException\u001b[0m                                 Traceback (most recent call last)",
      "\u001b[0;32m<ipython-input-46-8e83e3258bf4>\u001b[0m in \u001b[0;36m<module>\u001b[0;34m()\u001b[0m\n\u001b[1;32m     14\u001b[0m dis4 = flopy.modflow.ModflowDis(mf4, nlay, nrow, ncol, delr=delr, delc=delc,\n\u001b[1;32m     15\u001b[0m                                \u001b[0mtop\u001b[0m\u001b[1;33m=\u001b[0m\u001b[0mtop\u001b[0m\u001b[1;33m,\u001b[0m \u001b[0mbotm\u001b[0m\u001b[1;33m=\u001b[0m\u001b[0mbotm\u001b[0m\u001b[1;33m,\u001b[0m \u001b[0mnper\u001b[0m\u001b[1;33m=\u001b[0m\u001b[0mnper\u001b[0m\u001b[1;33m,\u001b[0m \u001b[0mperlen\u001b[0m\u001b[1;33m=\u001b[0m\u001b[0mperlen\u001b[0m\u001b[1;33m,\u001b[0m\u001b[1;33m\u001b[0m\u001b[0m\n\u001b[0;32m---> 16\u001b[0;31m                                nstp=nstp, tsmult=tsmult, steady=False)\n\u001b[0m",
      "\u001b[0;32mC:\\Users\\Jordan\\Anaconda3\\lib\\site-packages\\flopy\\modflow\\mfdis.py\u001b[0m in \u001b[0;36m__init__\u001b[0;34m(self, model, nlay, nrow, ncol, nper, delr, delc, laycbd, top, botm, perlen, nstp, tsmult, steady, itmuni, lenuni, extension, unitnumber, filenames, xul, yul, rotation, proj4_str, start_datetime)\u001b[0m\n\u001b[1;32m    157\u001b[0m         \u001b[0mself\u001b[0m\u001b[1;33m.\u001b[0m\u001b[0mlaycbd\u001b[0m\u001b[1;33m[\u001b[0m\u001b[1;33m-\u001b[0m\u001b[1;36m1\u001b[0m\u001b[1;33m]\u001b[0m \u001b[1;33m=\u001b[0m \u001b[1;36m0\u001b[0m  \u001b[1;31m# bottom layer must be zero\u001b[0m\u001b[1;33m\u001b[0m\u001b[0m\n\u001b[1;32m    158\u001b[0m         self.delr = Util2d(model, (self.ncol,), np.float32, delr, name='delr',\n\u001b[0;32m--> 159\u001b[0;31m                            locat=self.unit_number[0])\n\u001b[0m\u001b[1;32m    160\u001b[0m         self.delc = Util2d(model, (self.nrow,), np.float32, delc, name='delc',\n\u001b[1;32m    161\u001b[0m                            locat=self.unit_number[0])\n",
      "\u001b[0;32mC:\\Users\\Jordan\\Anaconda3\\lib\\site-packages\\flopy\\utils\\util_array.py\u001b[0m in \u001b[0;36m__init__\u001b[0;34m(self, model, shape, dtype, value, name, fmtin, cnstnt, iprn, ext_filename, locat, bin, how, array_free_format)\u001b[0m\n\u001b[1;32m   1675\u001b[0m         \u001b[0mself\u001b[0m\u001b[1;33m.\u001b[0m\u001b[0mname\u001b[0m \u001b[1;33m=\u001b[0m \u001b[0mname\u001b[0m\u001b[1;33m\u001b[0m\u001b[0m\n\u001b[1;32m   1676\u001b[0m         \u001b[0mself\u001b[0m\u001b[1;33m.\u001b[0m\u001b[0mlocat\u001b[0m \u001b[1;33m=\u001b[0m \u001b[0mlocat\u001b[0m\u001b[1;33m\u001b[0m\u001b[0m\n\u001b[0;32m-> 1677\u001b[0;31m         \u001b[0mself\u001b[0m\u001b[1;33m.\u001b[0m\u001b[0mparse_value\u001b[0m\u001b[1;33m(\u001b[0m\u001b[0mvalue\u001b[0m\u001b[1;33m)\u001b[0m\u001b[1;33m\u001b[0m\u001b[0m\n\u001b[0m\u001b[1;32m   1678\u001b[0m         \u001b[1;32mif\u001b[0m \u001b[0mself\u001b[0m\u001b[1;33m.\u001b[0m\u001b[0mvtype\u001b[0m \u001b[1;33m==\u001b[0m \u001b[0mstr\u001b[0m\u001b[1;33m:\u001b[0m\u001b[1;33m\u001b[0m\u001b[0m\n\u001b[1;32m   1679\u001b[0m             \u001b[0mfmtin\u001b[0m \u001b[1;33m=\u001b[0m \u001b[1;34m\"(FREE)\"\u001b[0m\u001b[1;33m\u001b[0m\u001b[0m\n",
      "\u001b[0;32mC:\\Users\\Jordan\\Anaconda3\\lib\\site-packages\\flopy\\utils\\util_array.py\u001b[0m in \u001b[0;36mparse_value\u001b[0;34m(self, value)\u001b[0m\n\u001b[1;32m   2488\u001b[0m                 raise Exception('Util2d:self.shape: ' + str(self.shape) +\n\u001b[1;32m   2489\u001b[0m                                 \u001b[1;34m' does not match value.shape: '\u001b[0m \u001b[1;33m+\u001b[0m\u001b[1;33m\u001b[0m\u001b[0m\n\u001b[0;32m-> 2490\u001b[0;31m                                 str(value.shape))\n\u001b[0m\u001b[1;32m   2491\u001b[0m             \u001b[1;32mif\u001b[0m \u001b[0mself\u001b[0m\u001b[1;33m.\u001b[0m\u001b[0mdtype\u001b[0m \u001b[1;33m!=\u001b[0m \u001b[0mvalue\u001b[0m\u001b[1;33m.\u001b[0m\u001b[0mdtype\u001b[0m\u001b[1;33m:\u001b[0m\u001b[1;33m\u001b[0m\u001b[0m\n\u001b[1;32m   2492\u001b[0m                 \u001b[0mvalue\u001b[0m \u001b[1;33m=\u001b[0m \u001b[0mvalue\u001b[0m\u001b[1;33m.\u001b[0m\u001b[0mastype\u001b[0m\u001b[1;33m(\u001b[0m\u001b[0mself\u001b[0m\u001b[1;33m.\u001b[0m\u001b[0mdtype\u001b[0m\u001b[1;33m)\u001b[0m\u001b[1;33m\u001b[0m\u001b[0m\n",
      "\u001b[0;31mException\u001b[0m: Util2d:self.shape: (10,) does not match value.shape: (16,)"
     ]
    }
   ],
   "source": [
    "#dis package\n",
    "#call in the discretization package\n",
    "nlay = 1\n",
    "nrow = 10\n",
    "ncol = 10\n",
    "delr = delr4\n",
    "delc = delr #set delr values equal to delc\n",
    "top = 0 #an array of the top elevation of layer 1\n",
    "botm = -1 #an array of the bottom elevation of layer 1\n",
    "nper = 1 #number of periods\n",
    "perlen = 20 #length of stress period\n",
    "nstp = 10 #number of time steps\n",
    "tsmult = 1.414 #time step multiplier\n",
    "dis4 = flopy.modflow.ModflowDis(mf4, nlay, nrow, ncol, delr=delr, delc=delc,\n",
    "                               top=top, botm=botm, nper=nper, perlen=perlen, \n",
    "                               nstp=nstp, tsmult=tsmult, steady=False)"
   ]
  },
  {
   "cell_type": "code",
   "execution_count": 47,
   "metadata": {
    "collapsed": false
   },
   "outputs": [
    {
     "ename": "Exception",
     "evalue": "value shape[0] != to self.shape[0] andvalue.shape[[1,2]] != self.shape[[1,2]](1, 10, 10) (0, 0, 0)",
     "output_type": "error",
     "traceback": [
      "\u001b[0;31m---------------------------------------------------------------------------\u001b[0m",
      "\u001b[0;31mException\u001b[0m                                 Traceback (most recent call last)",
      "\u001b[0;32m<ipython-input-47-327e657eed72>\u001b[0m in \u001b[0;36m<module>\u001b[0;34m()\u001b[0m\n\u001b[1;32m      2\u001b[0m \u001b[0mibound\u001b[0m \u001b[1;33m=\u001b[0m \u001b[0mnp\u001b[0m\u001b[1;33m.\u001b[0m\u001b[0mones\u001b[0m\u001b[1;33m(\u001b[0m\u001b[1;33m(\u001b[0m\u001b[0mnlay\u001b[0m\u001b[1;33m,\u001b[0m \u001b[0mnrow\u001b[0m\u001b[1;33m,\u001b[0m \u001b[0mncol\u001b[0m\u001b[1;33m)\u001b[0m\u001b[1;33m)\u001b[0m\u001b[1;33m\u001b[0m\u001b[0m\n\u001b[1;32m      3\u001b[0m \u001b[0mstrt\u001b[0m \u001b[1;33m=\u001b[0m \u001b[0mnp\u001b[0m\u001b[1;33m.\u001b[0m\u001b[0mzeros\u001b[0m\u001b[1;33m(\u001b[0m\u001b[1;33m(\u001b[0m\u001b[0mnlay\u001b[0m\u001b[1;33m,\u001b[0m \u001b[0mnrow\u001b[0m\u001b[1;33m,\u001b[0m \u001b[0mncol\u001b[0m\u001b[1;33m)\u001b[0m\u001b[1;33m)\u001b[0m\u001b[1;33m\u001b[0m\u001b[0m\n\u001b[0;32m----> 4\u001b[0;31m \u001b[0mbas4\u001b[0m \u001b[1;33m=\u001b[0m \u001b[0mflopy\u001b[0m\u001b[1;33m.\u001b[0m\u001b[0mmodflow\u001b[0m\u001b[1;33m.\u001b[0m\u001b[0mModflowBas\u001b[0m\u001b[1;33m(\u001b[0m\u001b[0mmf4\u001b[0m\u001b[1;33m,\u001b[0m \u001b[0mibound\u001b[0m\u001b[1;33m=\u001b[0m\u001b[0mibound\u001b[0m\u001b[1;33m,\u001b[0m \u001b[0mstrt\u001b[0m\u001b[1;33m=\u001b[0m\u001b[0mstrt\u001b[0m\u001b[1;33m)\u001b[0m\u001b[1;33m\u001b[0m\u001b[0m\n\u001b[0m",
      "\u001b[0;32mC:\\Users\\Jordan\\Anaconda3\\lib\\site-packages\\flopy\\modflow\\mfbas.py\u001b[0m in \u001b[0;36m__init__\u001b[0;34m(self, model, ibound, strt, ifrefm, ixsec, ichflg, stoper, hnoflo, extension, unitnumber, filenames)\u001b[0m\n\u001b[1;32m    121\u001b[0m         \u001b[0mnrow\u001b[0m\u001b[1;33m,\u001b[0m \u001b[0mncol\u001b[0m\u001b[1;33m,\u001b[0m \u001b[0mnlay\u001b[0m\u001b[1;33m,\u001b[0m \u001b[0mnper\u001b[0m \u001b[1;33m=\u001b[0m \u001b[0mself\u001b[0m\u001b[1;33m.\u001b[0m\u001b[0mparent\u001b[0m\u001b[1;33m.\u001b[0m\u001b[0mnrow_ncol_nlay_nper\u001b[0m\u001b[1;33m\u001b[0m\u001b[0m\n\u001b[1;32m    122\u001b[0m         self.ibound = Util3d(model, (nlay, nrow, ncol), np.int, ibound,\n\u001b[0;32m--> 123\u001b[0;31m                               name='ibound', locat=self.unit_number[0])\n\u001b[0m\u001b[1;32m    124\u001b[0m         self.strt = Util3d(model, (nlay, nrow, ncol), np.float32, strt,\n\u001b[1;32m    125\u001b[0m                             name='strt', locat=self.unit_number[0])\n",
      "\u001b[0;32mC:\\Users\\Jordan\\Anaconda3\\lib\\site-packages\\flopy\\utils\\util_array.py\u001b[0m in \u001b[0;36m__init__\u001b[0;34m(self, model, shape, dtype, value, name, fmtin, cnstnt, iprn, locat, ext_unit_dict, array_free_format)\u001b[0m\n\u001b[1;32m    548\u001b[0m                     \u001b[0mappend\u001b[0m\u001b[1;33m(\u001b[0m\u001b[0mself\u001b[0m\u001b[1;33m.\u001b[0m\u001b[0mname_base\u001b[0m\u001b[1;33m[\u001b[0m\u001b[0mk\u001b[0m\u001b[1;33m]\u001b[0m\u001b[1;33m.\u001b[0m\u001b[0mreplace\u001b[0m\u001b[1;33m(\u001b[0m\u001b[1;34m' '\u001b[0m\u001b[1;33m,\u001b[0m \u001b[1;34m'_'\u001b[0m\u001b[1;33m)\u001b[0m\u001b[1;33m)\u001b[0m\u001b[1;33m\u001b[0m\u001b[0m\n\u001b[1;32m    549\u001b[0m \u001b[1;33m\u001b[0m\u001b[0m\n\u001b[0;32m--> 550\u001b[0;31m         \u001b[0mself\u001b[0m\u001b[1;33m.\u001b[0m\u001b[0mutil_2ds\u001b[0m \u001b[1;33m=\u001b[0m \u001b[0mself\u001b[0m\u001b[1;33m.\u001b[0m\u001b[0mbuild_2d_instances\u001b[0m\u001b[1;33m(\u001b[0m\u001b[1;33m)\u001b[0m\u001b[1;33m\u001b[0m\u001b[0m\n\u001b[0m\u001b[1;32m    551\u001b[0m \u001b[1;33m\u001b[0m\u001b[0m\n\u001b[1;32m    552\u001b[0m     \u001b[1;32mdef\u001b[0m \u001b[0m__setitem__\u001b[0m\u001b[1;33m(\u001b[0m\u001b[0mself\u001b[0m\u001b[1;33m,\u001b[0m \u001b[0mk\u001b[0m\u001b[1;33m,\u001b[0m \u001b[0mvalue\u001b[0m\u001b[1;33m)\u001b[0m\u001b[1;33m:\u001b[0m\u001b[1;33m\u001b[0m\u001b[0m\n",
      "\u001b[0;32mC:\\Users\\Jordan\\Anaconda3\\lib\\site-packages\\flopy\\utils\\util_array.py\u001b[0m in \u001b[0;36mbuild_2d_instances\u001b[0;34m(self)\u001b[0m\n\u001b[1;32m    811\u001b[0m                                     \u001b[1;34m'value.shape[[1,2]] != self.shape[[1,2]]'\u001b[0m \u001b[1;33m+\u001b[0m\u001b[1;33m\u001b[0m\u001b[0m\n\u001b[1;32m    812\u001b[0m                                     str(self.__value.shape) + ' ' + str(\n\u001b[0;32m--> 813\u001b[0;31m                         self.shape))\n\u001b[0m\u001b[1;32m    814\u001b[0m             \u001b[1;32mfor\u001b[0m \u001b[0mi\u001b[0m\u001b[1;33m,\u001b[0m \u001b[0ma\u001b[0m \u001b[1;32min\u001b[0m \u001b[0menumerate\u001b[0m\u001b[1;33m(\u001b[0m\u001b[0mself\u001b[0m\u001b[1;33m.\u001b[0m\u001b[0m__value\u001b[0m\u001b[1;33m)\u001b[0m\u001b[1;33m:\u001b[0m\u001b[1;33m\u001b[0m\u001b[0m\n\u001b[1;32m    815\u001b[0m                 \u001b[0ma\u001b[0m \u001b[1;33m=\u001b[0m \u001b[0mnp\u001b[0m\u001b[1;33m.\u001b[0m\u001b[0matleast_2d\u001b[0m\u001b[1;33m(\u001b[0m\u001b[0ma\u001b[0m\u001b[1;33m)\u001b[0m\u001b[1;33m\u001b[0m\u001b[0m\n",
      "\u001b[0;31mException\u001b[0m: value shape[0] != to self.shape[0] andvalue.shape[[1,2]] != self.shape[[1,2]](1, 10, 10) (0, 0, 0)"
     ]
    }
   ],
   "source": [
    "#bas package\n",
    "ibound = np.ones((nlay, nrow, ncol))\n",
    "strt = np.zeros((nlay, nrow, ncol))\n",
    "bas4 = flopy.modflow.ModflowBas(mf4, ibound=ibound, strt=strt)"
   ]
  },
  {
   "cell_type": "code",
   "execution_count": 48,
   "metadata": {
    "collapsed": false
   },
   "outputs": [],
   "source": [
    "#wel package\n",
    "pr4 = 15000 #pumping rate\n",
    "wel_sp4 = [[0, 10, 5, pr4],\n",
    "           [0, 5, 5, -pr4],\n",
    "           [0, 5, 10, -pr4],\n",
    "           [0, 10, 10, -pr4]]\n",
    "stress_period_data = {0: wel_sp4}\n",
    "wel4 = flopy.modflow.ModflowWel(mf4, stress_period_data=stress_period_data)"
   ]
  },
  {
   "cell_type": "code",
   "execution_count": 49,
   "metadata": {
    "collapsed": false
   },
   "outputs": [],
   "source": [
    "#pcg package\n",
    "mxiter = 50\n",
    "hclose = 0.0001\n",
    "pcg4 = flopy.modflow.ModflowPcg(mf4, mxiter=mxiter, hclose=hclose)"
   ]
  },
  {
   "cell_type": "code",
   "execution_count": 50,
   "metadata": {
    "collapsed": false
   },
   "outputs": [
    {
     "ename": "Exception",
     "evalue": "Util2d:self.shape: (0,) does not match value.shape: (1,)",
     "output_type": "error",
     "traceback": [
      "\u001b[0;31m---------------------------------------------------------------------------\u001b[0m",
      "\u001b[0;31mException\u001b[0m                                 Traceback (most recent call last)",
      "\u001b[0;32m<ipython-input-50-607de0cb2897>\u001b[0m in \u001b[0;36m<module>\u001b[0;34m()\u001b[0m\n\u001b[1;32m      2\u001b[0m \u001b[0mhk\u001b[0m \u001b[1;33m=\u001b[0m \u001b[1;36m2400\u001b[0m\u001b[1;33m\u001b[0m\u001b[0m\n\u001b[1;32m      3\u001b[0m \u001b[0mlaytyp\u001b[0m \u001b[1;33m=\u001b[0m \u001b[0mnp\u001b[0m\u001b[1;33m.\u001b[0m\u001b[0mzeros\u001b[0m\u001b[1;33m(\u001b[0m\u001b[1;33m(\u001b[0m\u001b[0mnlay\u001b[0m\u001b[1;33m)\u001b[0m\u001b[1;33m)\u001b[0m\u001b[1;33m\u001b[0m\u001b[0m\n\u001b[0;32m----> 4\u001b[0;31m \u001b[0mlpf4\u001b[0m \u001b[1;33m=\u001b[0m \u001b[0mflopy\u001b[0m\u001b[1;33m.\u001b[0m\u001b[0mmodflow\u001b[0m\u001b[1;33m.\u001b[0m\u001b[0mModflowLpf\u001b[0m\u001b[1;33m(\u001b[0m\u001b[0mmf4\u001b[0m\u001b[1;33m,\u001b[0m \u001b[0mhk\u001b[0m\u001b[1;33m=\u001b[0m\u001b[0mhk\u001b[0m\u001b[1;33m,\u001b[0m \u001b[0mlaytyp\u001b[0m\u001b[1;33m=\u001b[0m\u001b[0mlaytyp\u001b[0m\u001b[1;33m)\u001b[0m\u001b[1;33m\u001b[0m\u001b[0m\n\u001b[0m",
      "\u001b[0;32mC:\\Users\\Jordan\\Anaconda3\\lib\\site-packages\\flopy\\modflow\\mflpf.py\u001b[0m in \u001b[0;36m__init__\u001b[0;34m(self, model, laytyp, layavg, chani, layvka, laywet, ipakcb, hdry, iwdflg, wetfct, iwetit, ihdwet, hk, hani, vka, ss, sy, vkcb, wetdry, storagecoefficient, constantcv, thickstrt, nocvcorrection, novfc, extension, unitnumber, filenames)\u001b[0m\n\u001b[1;32m    215\u001b[0m         \u001b[0mself\u001b[0m\u001b[1;33m.\u001b[0m\u001b[0mhdry\u001b[0m \u001b[1;33m=\u001b[0m \u001b[0mhdry\u001b[0m  \u001b[1;31m# Head in cells that are converted to dry during a simulation\u001b[0m\u001b[1;33m\u001b[0m\u001b[0m\n\u001b[1;32m    216\u001b[0m         \u001b[0mself\u001b[0m\u001b[1;33m.\u001b[0m\u001b[0mnplpf\u001b[0m \u001b[1;33m=\u001b[0m \u001b[1;36m0\u001b[0m  \u001b[1;31m# number of LPF parameters\u001b[0m\u001b[1;33m\u001b[0m\u001b[0m\n\u001b[0;32m--> 217\u001b[0;31m         \u001b[0mself\u001b[0m\u001b[1;33m.\u001b[0m\u001b[0mlaytyp\u001b[0m \u001b[1;33m=\u001b[0m \u001b[0mUtil2d\u001b[0m\u001b[1;33m(\u001b[0m\u001b[0mmodel\u001b[0m\u001b[1;33m,\u001b[0m \u001b[1;33m(\u001b[0m\u001b[0mnlay\u001b[0m\u001b[1;33m,\u001b[0m\u001b[1;33m)\u001b[0m\u001b[1;33m,\u001b[0m \u001b[0mnp\u001b[0m\u001b[1;33m.\u001b[0m\u001b[0mint\u001b[0m\u001b[1;33m,\u001b[0m \u001b[0mlaytyp\u001b[0m\u001b[1;33m,\u001b[0m \u001b[0mname\u001b[0m\u001b[1;33m=\u001b[0m\u001b[1;34m'laytyp'\u001b[0m\u001b[1;33m)\u001b[0m\u001b[1;33m\u001b[0m\u001b[0m\n\u001b[0m\u001b[1;32m    218\u001b[0m         \u001b[0mself\u001b[0m\u001b[1;33m.\u001b[0m\u001b[0mlayavg\u001b[0m \u001b[1;33m=\u001b[0m \u001b[0mUtil2d\u001b[0m\u001b[1;33m(\u001b[0m\u001b[0mmodel\u001b[0m\u001b[1;33m,\u001b[0m \u001b[1;33m(\u001b[0m\u001b[0mnlay\u001b[0m\u001b[1;33m,\u001b[0m\u001b[1;33m)\u001b[0m\u001b[1;33m,\u001b[0m \u001b[0mnp\u001b[0m\u001b[1;33m.\u001b[0m\u001b[0mint\u001b[0m\u001b[1;33m,\u001b[0m \u001b[0mlayavg\u001b[0m\u001b[1;33m,\u001b[0m \u001b[0mname\u001b[0m\u001b[1;33m=\u001b[0m\u001b[1;34m'layavg'\u001b[0m\u001b[1;33m)\u001b[0m\u001b[1;33m\u001b[0m\u001b[0m\n\u001b[1;32m    219\u001b[0m         \u001b[0mself\u001b[0m\u001b[1;33m.\u001b[0m\u001b[0mchani\u001b[0m \u001b[1;33m=\u001b[0m \u001b[0mUtil2d\u001b[0m\u001b[1;33m(\u001b[0m\u001b[0mmodel\u001b[0m\u001b[1;33m,\u001b[0m \u001b[1;33m(\u001b[0m\u001b[0mnlay\u001b[0m\u001b[1;33m,\u001b[0m\u001b[1;33m)\u001b[0m\u001b[1;33m,\u001b[0m \u001b[0mnp\u001b[0m\u001b[1;33m.\u001b[0m\u001b[0mfloat32\u001b[0m\u001b[1;33m,\u001b[0m \u001b[0mchani\u001b[0m\u001b[1;33m,\u001b[0m \u001b[0mname\u001b[0m\u001b[1;33m=\u001b[0m\u001b[1;34m'chani'\u001b[0m\u001b[1;33m)\u001b[0m\u001b[1;33m\u001b[0m\u001b[0m\n",
      "\u001b[0;32mC:\\Users\\Jordan\\Anaconda3\\lib\\site-packages\\flopy\\utils\\util_array.py\u001b[0m in \u001b[0;36m__init__\u001b[0;34m(self, model, shape, dtype, value, name, fmtin, cnstnt, iprn, ext_filename, locat, bin, how, array_free_format)\u001b[0m\n\u001b[1;32m   1675\u001b[0m         \u001b[0mself\u001b[0m\u001b[1;33m.\u001b[0m\u001b[0mname\u001b[0m \u001b[1;33m=\u001b[0m \u001b[0mname\u001b[0m\u001b[1;33m\u001b[0m\u001b[0m\n\u001b[1;32m   1676\u001b[0m         \u001b[0mself\u001b[0m\u001b[1;33m.\u001b[0m\u001b[0mlocat\u001b[0m \u001b[1;33m=\u001b[0m \u001b[0mlocat\u001b[0m\u001b[1;33m\u001b[0m\u001b[0m\n\u001b[0;32m-> 1677\u001b[0;31m         \u001b[0mself\u001b[0m\u001b[1;33m.\u001b[0m\u001b[0mparse_value\u001b[0m\u001b[1;33m(\u001b[0m\u001b[0mvalue\u001b[0m\u001b[1;33m)\u001b[0m\u001b[1;33m\u001b[0m\u001b[0m\n\u001b[0m\u001b[1;32m   1678\u001b[0m         \u001b[1;32mif\u001b[0m \u001b[0mself\u001b[0m\u001b[1;33m.\u001b[0m\u001b[0mvtype\u001b[0m \u001b[1;33m==\u001b[0m \u001b[0mstr\u001b[0m\u001b[1;33m:\u001b[0m\u001b[1;33m\u001b[0m\u001b[0m\n\u001b[1;32m   1679\u001b[0m             \u001b[0mfmtin\u001b[0m \u001b[1;33m=\u001b[0m \u001b[1;34m\"(FREE)\"\u001b[0m\u001b[1;33m\u001b[0m\u001b[0m\n",
      "\u001b[0;32mC:\\Users\\Jordan\\Anaconda3\\lib\\site-packages\\flopy\\utils\\util_array.py\u001b[0m in \u001b[0;36mparse_value\u001b[0;34m(self, value)\u001b[0m\n\u001b[1;32m   2488\u001b[0m                 raise Exception('Util2d:self.shape: ' + str(self.shape) +\n\u001b[1;32m   2489\u001b[0m                                 \u001b[1;34m' does not match value.shape: '\u001b[0m \u001b[1;33m+\u001b[0m\u001b[1;33m\u001b[0m\u001b[0m\n\u001b[0;32m-> 2490\u001b[0;31m                                 str(value.shape))\n\u001b[0m\u001b[1;32m   2491\u001b[0m             \u001b[1;32mif\u001b[0m \u001b[0mself\u001b[0m\u001b[1;33m.\u001b[0m\u001b[0mdtype\u001b[0m \u001b[1;33m!=\u001b[0m \u001b[0mvalue\u001b[0m\u001b[1;33m.\u001b[0m\u001b[0mdtype\u001b[0m\u001b[1;33m:\u001b[0m\u001b[1;33m\u001b[0m\u001b[0m\n\u001b[1;32m   2492\u001b[0m                 \u001b[0mvalue\u001b[0m \u001b[1;33m=\u001b[0m \u001b[0mvalue\u001b[0m\u001b[1;33m.\u001b[0m\u001b[0mastype\u001b[0m\u001b[1;33m(\u001b[0m\u001b[0mself\u001b[0m\u001b[1;33m.\u001b[0m\u001b[0mdtype\u001b[0m\u001b[1;33m)\u001b[0m\u001b[1;33m\u001b[0m\u001b[0m\n",
      "\u001b[0;31mException\u001b[0m: Util2d:self.shape: (0,) does not match value.shape: (1,)"
     ]
    }
   ],
   "source": [
    "#lpf package\n",
    "hk = 2400\n",
    "laytyp = np.zeros((nlay))\n",
    "lpf4 = flopy.modflow.ModflowLpf(mf4, hk=hk, laytyp=laytyp)"
   ]
  },
  {
   "cell_type": "code",
   "execution_count": 51,
   "metadata": {
    "collapsed": false
   },
   "outputs": [],
   "source": [
    "#oc package\n",
    "oc4 = flopy.modflow.ModflowOc(mf4)"
   ]
  },
  {
   "cell_type": "code",
   "execution_count": 52,
   "metadata": {
    "collapsed": false
   },
   "outputs": [
    {
     "name": "stdout",
     "output_type": "stream",
     "text": [
      "[[0, 0, 0, 0.0, 4800.0], [0, 0, 1, 0.0, 4800.0], [0, 0, 2, 0.0, 4800.0], [0, 0, 3, 0.0, 4800.0], [0, 0, 4, 0.0, 4800.0], [0, 0, 5, 0.0, 4800.0], [0, 0, 6, 0.0, 4800.0], [0, 0, 7, 0.0, 4800.0], [0, 0, 8, 0.0, 4800.0], [0, 0, 9, 0.0, 4800.0]]\n"
     ]
    }
   ],
   "source": [
    "#ghb package\n",
    "ipakcb = 50\n",
    "stage = 0.0\n",
    "b = top - botm #bed thickness\n",
    "l = 1250 #length/distance\n",
    "\n",
    "#cycle through delr_float and apply it to ghb_sp1 for loop\n",
    "delr_float4 = delr_array4.astype(np.float) #change delr_array into a list of floats\n",
    "print(delr_float4) #print list to check it's correct\n",
    "\n",
    "#this iterates through the list of floats we just created 'delr_float'\n",
    "#and assigns each one to the value of w as it loops through\n",
    "#w is then multiplied by 2400 and divided by 1250 and that value is stored into w\n",
    "\n",
    "cond = [(b * hk * w)/l for w in delr_float4] #calculating conductivity while looping \n",
    "#through values of w and storing those values into cond\n",
    "print(cond) #print list to make sure values are correct\n",
    "\n",
    "ghb_sp4 = [] #create blank list\n",
    "for col, c in enumerate(cond): #loop will enumerate through cond and put values into c\n",
    "                            #and will go through col starting at 0 until loop ends (at 3)\n",
    "    ghb_sp4.append([0, 0, col, stage, c]) #creates the list of values\n",
    "\n",
    "ghb_spd = {0: ghb_sp4} #stores list of values into ghb_spd\n",
    "ghb4 = flopy.modflow.ModflowGhb(mf1, ipakcb=ipakcb, stress_period_data=ghb_spd)\n",
    "\n",
    "print(ghb_sp4) #print to make sure values are correct"
   ]
  },
  {
   "cell_type": "code",
   "execution_count": 47,
   "metadata": {
    "collapsed": false
   },
   "outputs": [
    {
     "data": {
      "text/plain": [
       "<matplotlib.collections.QuadMesh at 0x18d3b9a5438>"
      ]
     },
     "execution_count": 47,
     "metadata": {},
     "output_type": "execute_result"
    },
    {
     "data": {
      "image/png": "[encoded data removed]",
      "text/plain": [
       "<matplotlib.figure.Figure at 0x18d381479b0>"
      ]
     },
     "metadata": {},
     "output_type": "display_data"
    }
   ],
   "source": [
    "#create grid using model map\n",
    "mm=flopy.plot.ModelMap(model=mf1)\n",
    "mm.plot_grid()\n",
    "mm.plot_bc('WEL')"
   ]
  },
  {
   "cell_type": "code",
   "execution_count": null,
   "metadata": {
    "collapsed": false
   },
   "outputs": [],
   "source": [
    "# Write the MODFLOW model input files\n",
    "mf4.write_input()"
   ]
  },
  {
   "cell_type": "code",
   "execution_count": null,
   "metadata": {
    "collapsed": false
   },
   "outputs": [],
   "source": [
    "# Run the MODFLOW model\n",
    "success, buff = mf4.run_model()"
   ]
  },
  {
   "cell_type": "markdown",
   "metadata": {},
   "source": [
    "### Grid 5\n",
    "\n",
    "| Column # | Row Spacing |\n",
    "|----------|-------------|\n",
    "| 1        | 416.7       |\n",
    "| 2        | 416.7       |\n",
    "| 3        | 416.7       |\n",
    "| 4        | 416.7       |\n",
    "| 5        | 416.7       |\n",
    "| 6        | 416.7       |\n",
    "| 7        | 555.6       |\n",
    "| 8        | 555.6       |\n",
    "| 9        | 555.6       |\n",
    "| 10       | 555.6       |\n",
    "| 11       | 555.6       |\n",
    "| 12       | 555.6       |\n",
    "| 13       | 555.6       |\n",
    "| 14       | 555.6       |\n",
    "| 15       | 555.6       |\n",
    "| 16       | 555.6       |\n",
    "| 17       | 555.6       |\n",
    "| 18       | 555.6       |\n",
    "| 19       | 555.6       |\n",
    "| 20       | 555.6       |\n",
    "| 21       | 555.6       |\n",
    "| 22       | 555.6       |\n",
    "| 23       | 555.6       |\n",
    "| 24       | 555.6       |\n",
    "| 25       | 416.7       |\n",
    "| 26       | 416.7       |\n",
    "| 27       | 416.7       |\n",
    "| 28       | 416.7       |\n",
    "| 29       | 416.7       |\n",
    "| 30       | 416.7       |"
   ]
  },
  {
   "cell_type": "code",
   "execution_count": 53,
   "metadata": {
    "collapsed": false
   },
   "outputs": [
    {
     "name": "stdout",
     "output_type": "stream",
     "text": [
      "C:\\VT\\USGS Internship\\modflow_epa.git\\Notebooks\n",
      "416.7\n",
      "416.7\n",
      "416.7\n",
      "416.7\n",
      "416.7\n",
      "416.7\n",
      "555.6\n",
      "555.6\n",
      "555.6\n",
      "555.6\n",
      "555.6\n",
      "555.6\n",
      "555.6\n",
      "555.6\n",
      "555.6\n",
      "555.6\n",
      "555.6\n",
      "555.6\n",
      "555.6\n",
      "555.6\n",
      "555.6\n",
      "555.6\n",
      "555.6\n",
      "555.6\n",
      "416.7\n",
      "416.7\n",
      "416.7\n",
      "416.7\n",
      "416.7\n",
      "416.7\n",
      "[416.7, 416.7, 416.7, 416.7, 416.7, 416.7, 555.6, 555.6, 555.6, 555.6, 555.6, 555.6, 555.6, 555.6, 555.6, 555.6, 555.6, 555.6, 555.6, 555.6, 555.6, 555.6, 555.6, 555.6, 416.7, 416.7, 416.7, 416.7, 416.7, 416.7]\n"
     ]
    }
   ],
   "source": [
    "print(os.getcwd())\n",
    "delr5 = [] #creates an empty list\n",
    "f5 = open('../Data/table8.1_grid5.csv') #opens the csv file; the two periods (.) means that you are goin backwards into the folders.\n",
    "    \n",
    "    #the four loop below creates a statement that if i == 0 (if it's the first\n",
    "    #row then it will skip it (continue) and move on with the for loop)\n",
    "    #we skip the first row in our table/csv file because the headers would give\n",
    "    #us an error since they aren't numerical values.\n",
    "for i,line in enumerate(f5):\n",
    "    if i == 0: \n",
    "        continue\n",
    "        \n",
    "    #\"line.strip\" gets rid of any extra spaces in the margins of the plot\n",
    "    #\"split\" sections of the individual values according to whatever you put in the quotes\n",
    "    linelist5 = line.strip().split(',') \n",
    "    \n",
    "    value5 = float(linelist5[1]) #changes the values in the list to floats\n",
    "    print(value5) #prints the values\n",
    "    delr5.append(value5) #puts the floats into the empty list, delr \n",
    "    \n",
    "print(delr5) #prints the list"
   ]
  },
  {
   "cell_type": "code",
   "execution_count": 54,
   "metadata": {
    "collapsed": false
   },
   "outputs": [
    {
     "name": "stdout",
     "output_type": "stream",
     "text": [
      "[ 416.7  416.7  416.7  416.7  416.7  416.7  555.6  555.6  555.6  555.6\n",
      "  555.6  555.6  555.6  555.6  555.6  555.6  555.6  555.6  555.6  555.6\n",
      "  555.6  555.6  555.6  555.6  416.7  416.7  416.7  416.7  416.7  416.7]\n",
      "15001.2\n"
     ]
    },
    {
     "data": {
      "image/png": "[encoded data removed]",
      "text/plain": [
       "<matplotlib.figure.Figure at 0x20ca0ed30b8>"
      ]
     },
     "metadata": {},
     "output_type": "display_data"
    }
   ],
   "source": [
    "#code to create grid 5\n",
    "fig5 = plt.figure(figsize=(10, 10))\n",
    "ax5 = fig.add_subplot(1, 1, 1, aspect='equal') #makes the length and width of the grid equal on all four sides\n",
    "delr_array5 = np.array(delr5) #changes delr values from float to array\n",
    "print (delr_array5) #prints those values\n",
    "print (delr_array5.sum()) #prints the sum of those values\n",
    "ymax5 = delr_array5.sum() #assigns the sum of the list to ymax\n",
    "ymin5 = 0 #sets ymin equal to zero\n",
    "xmax5 = ymax5 #makes xmax equal to ymax which is equal to the sum of the list\n",
    "xmin5 = 0 #sets xmin equal to zero\n",
    "x5 = 0 #sets x equal to zero\n",
    "y5 = 0 #sets y equal to zero\n",
    "\n",
    "#before moving on to this code, it helps to draw out an image of a graph with each corner labled with the coordinates of that point\n",
    "#top left - (xmin, ymax)\n",
    "#bottom left - (xmin, ymin)\n",
    "#top right - (xmax, ymax)\n",
    "#bottom right - (xmax, ymin)\n",
    "plt.plot([xmin5, xmin5], [ymin5, ymax5], 'b-') #plots the first column line (on the left). Must be outside of the loop.\n",
    "#'b-' creates a blue line out of dashes\n",
    "for dx5 in delr5: #dx will go through the values in delr one by one in the loop\n",
    "    x5 = x5 + dx5 #add the dx value to x, which is zero, and then store that new value into x\n",
    "    plt.plot([x5, x5], [ymin5, ymax5], 'b-') #plot that point and then loop back to top\n",
    "\n",
    "    #repeat the process above but with the y values to make the rows\n",
    "plt.plot([xmin5, xmax5], [ymin5, ymin5], 'g-') #plots the first row line (on the bottom). Must be outside of the loop\n",
    "#'g-' creates a green line with dashes\n",
    "for dy5 in delr5: \n",
    "    y5 = y5 + dy5\n",
    "    plt.plot([xmin5, xmax5], [y5, y5], 'g-')\n",
    "\n",
    "#pumping well (bottom left)\n",
    "x5_0 = 5000.4\n",
    "y5_0 = x5_0 #5000.4\n",
    "def wel_pump5(x5_0, y5_0, sym):\n",
    "    plt.plot(x5_0, y5_0, sym)\n",
    "wel_pump5(x5_0, y5_0, sym='ro')\n",
    "\n",
    "#well 1 (top left)\n",
    "x5_1 = x5_0 #5000.4\n",
    "y5_1 = 10000.8\n",
    "def wel_sp5_1(x5_1, y5_1, sym):\n",
    "    plt.plot(x5_1, y5_1, sym)\n",
    "wel_sp5_1(x5_1, y5_1, sym='bo')\n",
    "\n",
    "#well 2 (top right)\n",
    "x5_2 = y5_1 #10000.8\n",
    "y5_2 = 10000\n",
    "def wel_sp5_2(x5_2, y5_2, sym):\n",
    "    plt.plot(x5_2, y5_2, sym)\n",
    "wel_sp5_2(x5_2, y5_2, sym='bo')\n",
    "\n",
    "#well 3 (bottom right)\n",
    "x5_3 = y5_1 #10000.8\n",
    "y5_3 = 5000\n",
    "def wel_sp5_3(x5_3, y5_3, sym):\n",
    "    plt.plot(x5_3, y5_3, sym)\n",
    "wel_sp5_3(x5_3, y5_3, sym='bo')"
   ]
  },
  {
   "cell_type": "code",
   "execution_count": 55,
   "metadata": {
    "collapsed": true
   },
   "outputs": [],
   "source": [
    "#Flopy objects\n",
    "modelname5 = 'p8_pa5' #short for problem 8 part a, grid 5\n",
    "exe_name = '../MF2005.1_12/bin/mf2005.exe'\n",
    "model_ws5 = 'temp'\n",
    "mf5 = flopy.modflow.Modflow(modelname5, exe_name=exe_name, model_ws = model_ws5)"
   ]
  },
  {
   "cell_type": "code",
   "execution_count": 56,
   "metadata": {
    "collapsed": true
   },
   "outputs": [],
   "source": [
    "#dis package\n",
    "nlay = 1\n",
    "nrow = 30\n",
    "ncol = 30\n",
    "delr = delr5\n",
    "delc = delr #set delr values equal to delc\n",
    "top = 0 #an array of the top elevation of layer 1\n",
    "botm = -1 #an array of the bottom elevation of layer 1\n",
    "nper = 1 #number of periods\n",
    "perlen = 20 #length of stress period\n",
    "nstp = 10 #number of time steps\n",
    "tsmult = 1.414 #time step multiplier\n",
    "dis5 = flopy.modflow.ModflowDis(mf5, nlay, nrow, ncol, delr=delr, delc=delc,\n",
    "                               top=top, botm=botm, nper=nper, perlen=perlen, \n",
    "                               nstp=nstp, tsmult=tsmult, steady=False)"
   ]
  },
  {
   "cell_type": "code",
   "execution_count": 57,
   "metadata": {
    "collapsed": true
   },
   "outputs": [],
   "source": [
    "#bas package\n",
    "ibound = np.ones((nlay, nrow, ncol))\n",
    "strt = np.zeros((nlay, nrow, ncol))\n",
    "bas5 = flopy.modflow.ModflowBas(mf5, ibound=ibound, strt=strt)"
   ]
  },
  {
   "cell_type": "code",
   "execution_count": 58,
   "metadata": {
    "collapsed": false
   },
   "outputs": [],
   "source": [
    "#wel package\n",
    "# Remember to use zero-based layer, row, column indices!\n",
    "pr5 = 15000 #pumping rate\n",
    "wel_sp5 = [[0, 19, 10, pr5],\n",
    "             [0, 10, 10, -pr5],\n",
    "             [0, 10, 19, -pr5],\n",
    "             [0, 19, 19, -pr5]]\n",
    "stress_period_data = {0: wel_sp5}\n",
    "wel5 = flopy.modflow.ModflowWel(mf5, stress_period_data=stress_period_data)"
   ]
  },
  {
   "cell_type": "code",
   "execution_count": 59,
   "metadata": {
    "collapsed": false
   },
   "outputs": [],
   "source": [
    "#pcg package\n",
    "mxiter = 50\n",
    "hclose = 0.0001\n",
    "pcg5 = flopy.modflow.ModflowPcg(mf5, mxiter=mxiter, hclose=hclose)"
   ]
  },
  {
   "cell_type": "code",
   "execution_count": 60,
   "metadata": {
    "collapsed": false
   },
   "outputs": [],
   "source": [
    "#lpf package\n",
    "hk = 2400\n",
    "laytyp = np.zeros((nlay))\n",
    "lpf5 = flopy.modflow.ModflowLpf(mf5, hk=hk, laytyp=laytyp)"
   ]
  },
  {
   "cell_type": "code",
   "execution_count": 61,
   "metadata": {
    "collapsed": false
   },
   "outputs": [],
   "source": [
    "#oc package\n",
    "oc5 = flopy.modflow.ModflowOc(mf5)"
   ]
  },
  {
   "cell_type": "code",
   "execution_count": 62,
   "metadata": {
    "collapsed": false
   },
   "outputs": [
    {
     "name": "stdout",
     "output_type": "stream",
     "text": [
      "[[0, 0, 0, 0.0, 4800.0], [0, 0, 1, 0.0, 4800.0], [0, 0, 2, 0.0, 4800.0], [0, 0, 3, 0.0, 4800.0], [0, 0, 4, 0.0, 4800.0], [0, 0, 5, 0.0, 4800.0], [0, 0, 6, 0.0, 4800.0], [0, 0, 7, 0.0, 4800.0], [0, 0, 8, 0.0, 4800.0], [0, 0, 9, 0.0, 4800.0], [0, 0, 10, 0.0, 4800.0], [0, 0, 11, 0.0, 4800.0], [0, 0, 12, 0.0, 4800.0], [0, 0, 13, 0.0, 4800.0], [0, 0, 14, 0.0, 4800.0], [0, 0, 15, 0.0, 4800.0], [0, 0, 16, 0.0, 4800.0], [0, 0, 17, 0.0, 4800.0], [0, 0, 18, 0.0, 4800.0], [0, 0, 19, 0.0, 4800.0], [0, 0, 20, 0.0, 4800.0], [0, 0, 21, 0.0, 4800.0], [0, 0, 22, 0.0, 4800.0], [0, 0, 23, 0.0, 4800.0], [0, 0, 24, 0.0, 4800.0], [0, 0, 25, 0.0, 4800.0], [0, 0, 26, 0.0, 4800.0], [0, 0, 27, 0.0, 4800.0], [0, 0, 28, 0.0, 4800.0], [0, 0, 29, 0.0, 4800.0]]\n"
     ]
    }
   ],
   "source": [
    "#ghb package\n",
    "ipakcb = 50\n",
    "stage = 0.0\n",
    "b = top - botm #bed thickness\n",
    "l = 1250 #length/distance\n",
    "\n",
    "#cycle through delr_float and apply it to ghb_sp1 for loop\n",
    "delr_float5 = delr_array5.astype(np.float) #change delr_array into a list of floats\n",
    "print(delr_float5) #print list to check it's correct\n",
    "\n",
    "#this iterates through the list of floats we just created 'delr_float'\n",
    "#and assigns each one to the value of w as it loops through\n",
    "#w is then multiplied by 2400 and divided by 1250 and that value is stored into w\n",
    "\n",
    "cond = [(b * hk * w)/l for w in delr_float5] #calculating conductivity while looping \n",
    "#through values of w and storing those values into cond\n",
    "print(cond) #print list to make sure values are correct\n",
    "\n",
    "ghb_sp5 = [] #create blank list\n",
    "for col, c in enumerate(cond): #loop will enumerate through cond and put values into c\n",
    "                            #and will go through col starting at 0 until loop ends (at 3)\n",
    "    ghb_sp2.append([0, 0, col, stage, c]) #creates the list of values\n",
    "\n",
    "ghb_spd = {0: ghb_sp5} #stores list of values into ghb_spd\n",
    "ghb5 = flopy.modflow.ModflowGhb(mf1, ipakcb=ipakcb, stress_period_data=ghb_spd)\n",
    "\n",
    "print(ghb_sp5) #print to make sure values are correct"
   ]
  },
  {
   "cell_type": "code",
   "execution_count": 58,
   "metadata": {
    "collapsed": false
   },
   "outputs": [
    {
     "data": {
      "text/plain": [
       "<matplotlib.collections.QuadMesh at 0x18d3bb8c668>"
      ]
     },
     "execution_count": 58,
     "metadata": {},
     "output_type": "execute_result"
    },
    {
     "data": {
      "image/png": "[encoded data removed]",
      "text/plain": [
       "<matplotlib.figure.Figure at 0x18d3b9b4b70>"
      ]
     },
     "metadata": {},
     "output_type": "display_data"
    }
   ],
   "source": [
    "#create grid using model map\n",
    "mm=flopy.plot.ModelMap(model=mf1)\n",
    "mm.plot_grid()\n",
    "mm.plot_bc('WEL')"
   ]
  },
  {
   "cell_type": "code",
   "execution_count": 59,
   "metadata": {
    "collapsed": false
   },
   "outputs": [
    {
     "name": "stdout",
     "output_type": "stream",
     "text": [
      "warning: assuming SpatialReference units are meters\n"
     ]
    }
   ],
   "source": [
    "# Write the MODFLOW model input files\n",
    "mf5.write_input()"
   ]
  },
  {
   "cell_type": "code",
   "execution_count": 60,
   "metadata": {
    "collapsed": false
   },
   "outputs": [
    {
     "name": "stdout",
     "output_type": "stream",
     "text": [
      "FloPy is using the following executable to run the model: ../MF2005.1_12/bin/mf2005.exe\n",
      "\n",
      "                                  MODFLOW-2005     \n",
      "    U.S. GEOLOGICAL SURVEY MODULAR FINITE-DIFFERENCE GROUND-WATER FLOW MODEL\n",
      "                             Version 1.12.00 2/3/2017                        \n",
      "\n",
      " Using NAME file: p8_pa5.nam \n",
      " Run start date and time (yyyy/mm/dd hh:mm:ss): 2017/07/11 15:36:59\n",
      "\n",
      " Solving:  Stress period:     1    Time step:     1    Ground-Water Flow Eqn.\n",
      " Solving:  Stress period:     1    Time step:     2    Ground-Water Flow Eqn.\n",
      " Solving:  Stress period:     1    Time step:     3    Ground-Water Flow Eqn.\n",
      " Solving:  Stress period:     1    Time step:     4    Ground-Water Flow Eqn.\n",
      " Solving:  Stress period:     1    Time step:     5    Ground-Water Flow Eqn.\n",
      " Solving:  Stress period:     1    Time step:     6    Ground-Water Flow Eqn.\n",
      " Solving:  Stress period:     1    Time step:     7    Ground-Water Flow Eqn.\n",
      " Solving:  Stress period:     1    Time step:     8    Ground-Water Flow Eqn.\n",
      " Solving:  Stress period:     1    Time step:     9    Ground-Water Flow Eqn.\n",
      " Solving:  Stress period:     1    Time step:    10    Ground-Water Flow Eqn.\n",
      " Run end date and time (yyyy/mm/dd hh:mm:ss): 2017/07/11 15:36:59\n",
      " Elapsed run time:  0.024 Seconds\n",
      "\n",
      "  Normal termination of simulation\n"
     ]
    }
   ],
   "source": [
    "# Run the MODFLOW model\n",
    "success, buff = mf5.run_model()"
   ]
  },
  {
   "cell_type": "code",
   "execution_count": 61,
   "metadata": {
    "collapsed": false
   },
   "outputs": [
    {
     "data": {
      "text/html": [
       "<div>\n",
       "<table border=\"1\" class=\"dataframe\">\n",
       "  <thead>\n",
       "    <tr style=\"text-align: right;\">\n",
       "      <th></th>\n",
       "      <th>Grid</th>\n",
       "      <th># Nodes</th>\n",
       "      <th>Total Iteration</th>\n",
       "      <th>CPU'</th>\n",
       "      <th>1</th>\n",
       "      <th>2</th>\n",
       "      <th>3</th>\n",
       "    </tr>\n",
       "  </thead>\n",
       "  <tbody>\n",
       "    <tr>\n",
       "      <th>0</th>\n",
       "      <td>1</td>\n",
       "      <td>16.0</td>\n",
       "      <td>47.0</td>\n",
       "      <td>5.64</td>\n",
       "      <td>1.956</td>\n",
       "      <td>1.493</td>\n",
       "      <td>2.806</td>\n",
       "    </tr>\n",
       "    <tr>\n",
       "      <th>1</th>\n",
       "      <td>2</td>\n",
       "      <td>49.0</td>\n",
       "      <td>74.0</td>\n",
       "      <td>8.12</td>\n",
       "      <td>1.971</td>\n",
       "      <td>1.537</td>\n",
       "      <td>2.816</td>\n",
       "    </tr>\n",
       "    <tr>\n",
       "      <th>2</th>\n",
       "      <td>3</td>\n",
       "      <td>100.0</td>\n",
       "      <td>96.0</td>\n",
       "      <td>13.02</td>\n",
       "      <td>1.962</td>\n",
       "      <td>1.546</td>\n",
       "      <td>2.807</td>\n",
       "    </tr>\n",
       "    <tr>\n",
       "      <th>3</th>\n",
       "      <td>4</td>\n",
       "      <td>256.0</td>\n",
       "      <td>124.0</td>\n",
       "      <td>30.33</td>\n",
       "      <td>1.955</td>\n",
       "      <td>1.550</td>\n",
       "      <td>2.801</td>\n",
       "    </tr>\n",
       "    <tr>\n",
       "      <th>4</th>\n",
       "      <td>5</td>\n",
       "      <td>900.0</td>\n",
       "      <td>143.0</td>\n",
       "      <td>106.54</td>\n",
       "      <td>1.952</td>\n",
       "      <td>1.550</td>\n",
       "      <td>2.797</td>\n",
       "    </tr>\n",
       "  </tbody>\n",
       "</table>\n",
       "</div>"
      ],
      "text/plain": [
       "  Grid  # Nodes  Total Iteration    CPU'      1      2      3\n",
       "0    1     16.0             47.0    5.64  1.956  1.493  2.806\n",
       "1    2     49.0             74.0    8.12  1.971  1.537  2.816\n",
       "2    3    100.0             96.0   13.02  1.962  1.546  2.807\n",
       "3    4    256.0            124.0   30.33  1.955  1.550  2.801\n",
       "4    5    900.0            143.0  106.54  1.952  1.550  2.797"
      ]
     },
     "execution_count": 61,
     "metadata": {},
     "output_type": "execute_result"
    }
   ],
   "source": [
    "import pandas as pd\n",
    "table5 = pd.read_csv('../Data/table8.2.csv')\n",
    "\n",
    "table5.columns #displays all the column names in the file\n",
    "\n",
    "#prints out the first 5 rows into a table\n",
    "table5.head()"
   ]
  },
  {
   "cell_type": "code",
   "execution_count": 62,
   "metadata": {
    "collapsed": false,
    "scrolled": false
   },
   "outputs": [
    {
     "name": "stdout",
     "output_type": "stream",
     "text": [
      "       Grid  # Nodes  Total Iteration    CPU'      1      2      3\n",
      "0         1     16.0             47.0    5.64  1.956  1.493  2.806\n",
      "1         2     49.0             74.0    8.12  1.971  1.537  2.816\n",
      "2         3    100.0             96.0   13.02  1.962  1.546  2.807\n",
      "3         4    256.0            124.0   30.33  1.955  1.550  2.801\n",
      "4         5    900.0            143.0  106.54  1.952  1.550  2.797\n",
      "5  analytic      NaN              NaN     NaN  2.040  1.630  2.950\n"
     ]
    }
   ],
   "source": [
    "#prints the whole dataframe instead of just the first 5 rows\n",
    "print(table5)"
   ]
  },
  {
   "cell_type": "markdown",
   "metadata": {},
   "source": [
    "### MODEL OUTPUT\n",
    "\n",
    "_Drawdown, iteration and CPU data are given in Tables 8.2, 8.3, 8.4, and 8.5 for parts a, b,\n",
    "c, and d, respectively. A comparison is also made to analytical results obtained from the\n",
    "image well technique._"
   ]
  },
  {
   "cell_type": "markdown",
   "metadata": {},
   "source": [
    "##### _Figure 8.2. Drawdown (m) at 20 days for the 4 x 4 grid simulation of Part a._"
   ]
  },
  {
   "cell_type": "markdown",
   "metadata": {},
   "source": [
    "### DISCUSSION OF RESULTS\n",
    "\n",
    "_In part a, all the grid configurations provide reasonable approximations to the drawdown as\n",
    "shown in Table 8.2. This is because the solution is close to_ [steady-state](https://github.com/jordw22/modflow_epa/blob/master/terms%20and%20definitions.md#s) _and steep hydraulic gradients near the pumping well do not exist. Successively freer spacings generally tend to\n",
    "decrease drawdown directly along rows toward columns and increase drawdown diagonal to rows\n",
    "and columns. The answers generally converge toward a solution, but still differ from the\n",
    "analytical solution. Note that CPU time is directly related to the number of nodes. The CPU\n",
    "times stated herein are for comparative purposes and should not be used to estimate execution\n",
    "times for other problems. The drawdowns at the final time step are shown in Figure 8.2 for\n",
    "the coarse grid case._"
   ]
  },
  {
   "cell_type": "code",
   "execution_count": null,
   "metadata": {
    "collapsed": true
   },
   "outputs": [],
   "source": []
  }
 ],
 "metadata": {
  "kernelspec": {
   "display_name": "Python 3",
   "language": "python",
   "name": "python3"
  },
  "language_info": {
   "codemirror_mode": {
    "name": "ipython",
    "version": 3
   },
   "file_extension": ".py",
   "mimetype": "text/x-python",
   "name": "python",
   "nbconvert_exporter": "python",
   "pygments_lexer": "ipython3",
   "version": "3.6.0"
  }
 },
 "nbformat": 4,
 "nbformat_minor": 2
}
